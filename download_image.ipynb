{
 "cells": [
  {
   "cell_type": "code",
   "execution_count": 2,
   "metadata": {
    "ExecuteTime": {
     "end_time": "2023-06-10T09:02:31.025102777Z",
     "start_time": "2023-06-10T09:02:30.870290991Z"
    },
    "executionInfo": {
     "elapsed": 390,
     "status": "ok",
     "timestamp": 1682223029080,
     "user": {
      "displayName": "Cường Tạ",
      "userId": "04648710175632618116"
     },
     "user_tz": -420
    },
    "id": "A_EHDzOxVSk3"
   },
   "outputs": [],
   "source": [
    "import pandas as pd\n",
    "import urllib.request\n",
    "import os"
   ]
  },
  {
   "cell_type": "code",
   "execution_count": 3,
   "metadata": {
    "ExecuteTime": {
     "end_time": "2023-06-10T09:06:26.058572209Z",
     "start_time": "2023-06-10T09:06:26.015745062Z"
    },
    "colab": {
     "base_uri": "https://localhost:8080/",
     "height": 322
    },
    "executionInfo": {
     "elapsed": 571,
     "status": "ok",
     "timestamp": 1682223032036,
     "user": {
      "displayName": "Cường Tạ",
      "userId": "04648710175632618116"
     },
     "user_tz": -420
    },
    "id": "tn6XWSkvPbl4",
    "outputId": "56dbd1a8-0051-4551-9ee4-bba47871a494"
   },
   "outputs": [
    {
     "data": {
      "text/html": [
       "<div>\n",
       "<style scoped>\n",
       "    .dataframe tbody tr th:only-of-type {\n",
       "        vertical-align: middle;\n",
       "    }\n",
       "\n",
       "    .dataframe tbody tr th {\n",
       "        vertical-align: top;\n",
       "    }\n",
       "\n",
       "    .dataframe thead th {\n",
       "        text-align: right;\n",
       "    }\n",
       "</style>\n",
       "<table border=\"1\" class=\"dataframe\">\n",
       "  <thead>\n",
       "    <tr style=\"text-align: right;\">\n",
       "      <th></th>\n",
       "      <th>Unnamed: 0</th>\n",
       "      <th>md5hash</th>\n",
       "      <th>fitzpatrick</th>\n",
       "      <th>label</th>\n",
       "      <th>nine_partition_label</th>\n",
       "      <th>three_partition_label</th>\n",
       "      <th>qc</th>\n",
       "      <th>url</th>\n",
       "      <th>url_alphanum</th>\n",
       "    </tr>\n",
       "  </thead>\n",
       "  <tbody>\n",
       "    <tr>\n",
       "      <th>0</th>\n",
       "      <td>0</td>\n",
       "      <td>5e82a45bc5d78bd24ae9202d194423f8</td>\n",
       "      <td>3</td>\n",
       "      <td>drug induced pigmentary changes</td>\n",
       "      <td>inflammatory</td>\n",
       "      <td>non-neoplastic</td>\n",
       "      <td>NaN</td>\n",
       "      <td>https://www.dermaamin.com/site/images/clinical...</td>\n",
       "      <td>httpwwwdermaamincomsiteimagesclinicalpicmminoc...</td>\n",
       "    </tr>\n",
       "    <tr>\n",
       "      <th>1</th>\n",
       "      <td>1</td>\n",
       "      <td>fa2911a9b13b6f8af79cb700937cc14f</td>\n",
       "      <td>1</td>\n",
       "      <td>photodermatoses</td>\n",
       "      <td>inflammatory</td>\n",
       "      <td>non-neoplastic</td>\n",
       "      <td>NaN</td>\n",
       "      <td>https://www.dermaamin.com/site/images/clinical...</td>\n",
       "      <td>httpwwwdermaamincomsiteimagesclinicalpicpphoto...</td>\n",
       "    </tr>\n",
       "    <tr>\n",
       "      <th>2</th>\n",
       "      <td>2</td>\n",
       "      <td>d2bac3c9e4499032ca8e9b07c7d3bc40</td>\n",
       "      <td>2</td>\n",
       "      <td>dermatofibroma</td>\n",
       "      <td>benign dermal</td>\n",
       "      <td>benign</td>\n",
       "      <td>NaN</td>\n",
       "      <td>https://www.dermaamin.com/site/images/clinical...</td>\n",
       "      <td>httpwwwdermaamincomsiteimagesclinicalpicdderma...</td>\n",
       "    </tr>\n",
       "    <tr>\n",
       "      <th>3</th>\n",
       "      <td>3</td>\n",
       "      <td>0a94359e7eaacd7178e06b2823777789</td>\n",
       "      <td>1</td>\n",
       "      <td>psoriasis</td>\n",
       "      <td>inflammatory</td>\n",
       "      <td>non-neoplastic</td>\n",
       "      <td>NaN</td>\n",
       "      <td>https://www.dermaamin.com/site/images/clinical...</td>\n",
       "      <td>httpwwwdermaamincomsiteimagesclinicalpicppsori...</td>\n",
       "    </tr>\n",
       "    <tr>\n",
       "      <th>4</th>\n",
       "      <td>4</td>\n",
       "      <td>a39ec3b1f22c08a421fa20535e037bba</td>\n",
       "      <td>1</td>\n",
       "      <td>psoriasis</td>\n",
       "      <td>inflammatory</td>\n",
       "      <td>non-neoplastic</td>\n",
       "      <td>NaN</td>\n",
       "      <td>https://www.dermaamin.com/site/images/clinical...</td>\n",
       "      <td>httpwwwdermaamincomsiteimagesclinicalpicppsori...</td>\n",
       "    </tr>\n",
       "    <tr>\n",
       "      <th>...</th>\n",
       "      <td>...</td>\n",
       "      <td>...</td>\n",
       "      <td>...</td>\n",
       "      <td>...</td>\n",
       "      <td>...</td>\n",
       "      <td>...</td>\n",
       "      <td>...</td>\n",
       "      <td>...</td>\n",
       "      <td>...</td>\n",
       "    </tr>\n",
       "    <tr>\n",
       "      <th>16572</th>\n",
       "      <td>16554</td>\n",
       "      <td>cd90e491ddaa92f0f4eb07f73aa09f64</td>\n",
       "      <td>5</td>\n",
       "      <td>scleroderma</td>\n",
       "      <td>inflammatory</td>\n",
       "      <td>non-neoplastic</td>\n",
       "      <td>NaN</td>\n",
       "      <td>http://atlasdermatologico.com.br/img?imageId=4529</td>\n",
       "      <td>httpwwwatlasdermatologicocombrimgimageId4529.jpg</td>\n",
       "    </tr>\n",
       "    <tr>\n",
       "      <th>16573</th>\n",
       "      <td>16559</td>\n",
       "      <td>5f1ed6de6a9110d7dc580a6a0312af63</td>\n",
       "      <td>4</td>\n",
       "      <td>pityriasis rosea</td>\n",
       "      <td>inflammatory</td>\n",
       "      <td>non-neoplastic</td>\n",
       "      <td>NaN</td>\n",
       "      <td>http://atlasdermatologico.com.br/img?imageId=5630</td>\n",
       "      <td>httpwwwatlasdermatologicocombrimgimageId5630.jpg</td>\n",
       "    </tr>\n",
       "    <tr>\n",
       "      <th>16574</th>\n",
       "      <td>16568</td>\n",
       "      <td>f198aaf1f0550c2464b285454d34926e</td>\n",
       "      <td>3</td>\n",
       "      <td>myiasis</td>\n",
       "      <td>inflammatory</td>\n",
       "      <td>non-neoplastic</td>\n",
       "      <td>NaN</td>\n",
       "      <td>http://atlasdermatologico.com.br/img?imageId=4609</td>\n",
       "      <td>httpwwwatlasdermatologicocombrimgimageId4609.jpg</td>\n",
       "    </tr>\n",
       "    <tr>\n",
       "      <th>16575</th>\n",
       "      <td>16571</td>\n",
       "      <td>6214de2e915835014235a1839cbc5938</td>\n",
       "      <td>-1</td>\n",
       "      <td>vitiligo</td>\n",
       "      <td>inflammatory</td>\n",
       "      <td>non-neoplastic</td>\n",
       "      <td>NaN</td>\n",
       "      <td>http://atlasdermatologico.com.br/img?imageId=7930</td>\n",
       "      <td>httpwwwatlasdermatologicocombrimgimageId7930.jpg</td>\n",
       "    </tr>\n",
       "    <tr>\n",
       "      <th>16576</th>\n",
       "      <td>16576</td>\n",
       "      <td>5a3a4c1f0effb626b298e89c032b1d28</td>\n",
       "      <td>2</td>\n",
       "      <td>dariers disease</td>\n",
       "      <td>genodermatoses</td>\n",
       "      <td>non-neoplastic</td>\n",
       "      <td>NaN</td>\n",
       "      <td>http://atlasdermatologico.com.br/img?imageId=1327</td>\n",
       "      <td>httpwwwatlasdermatologicocombrimgimageId1327.jpg</td>\n",
       "    </tr>\n",
       "  </tbody>\n",
       "</table>\n",
       "<p>16536 rows × 9 columns</p>\n",
       "</div>"
      ],
      "text/plain": [
       "       Unnamed: 0                           md5hash  fitzpatrick  \\\n",
       "0               0  5e82a45bc5d78bd24ae9202d194423f8            3   \n",
       "1               1  fa2911a9b13b6f8af79cb700937cc14f            1   \n",
       "2               2  d2bac3c9e4499032ca8e9b07c7d3bc40            2   \n",
       "3               3  0a94359e7eaacd7178e06b2823777789            1   \n",
       "4               4  a39ec3b1f22c08a421fa20535e037bba            1   \n",
       "...           ...                               ...          ...   \n",
       "16572       16554  cd90e491ddaa92f0f4eb07f73aa09f64            5   \n",
       "16573       16559  5f1ed6de6a9110d7dc580a6a0312af63            4   \n",
       "16574       16568  f198aaf1f0550c2464b285454d34926e            3   \n",
       "16575       16571  6214de2e915835014235a1839cbc5938           -1   \n",
       "16576       16576  5a3a4c1f0effb626b298e89c032b1d28            2   \n",
       "\n",
       "                                 label nine_partition_label  \\\n",
       "0      drug induced pigmentary changes         inflammatory   \n",
       "1                      photodermatoses         inflammatory   \n",
       "2                       dermatofibroma        benign dermal   \n",
       "3                            psoriasis         inflammatory   \n",
       "4                            psoriasis         inflammatory   \n",
       "...                                ...                  ...   \n",
       "16572                      scleroderma         inflammatory   \n",
       "16573                 pityriasis rosea         inflammatory   \n",
       "16574                          myiasis         inflammatory   \n",
       "16575                         vitiligo         inflammatory   \n",
       "16576                  dariers disease       genodermatoses   \n",
       "\n",
       "      three_partition_label   qc  \\\n",
       "0            non-neoplastic  NaN   \n",
       "1            non-neoplastic  NaN   \n",
       "2                    benign  NaN   \n",
       "3            non-neoplastic  NaN   \n",
       "4            non-neoplastic  NaN   \n",
       "...                     ...  ...   \n",
       "16572        non-neoplastic  NaN   \n",
       "16573        non-neoplastic  NaN   \n",
       "16574        non-neoplastic  NaN   \n",
       "16575        non-neoplastic  NaN   \n",
       "16576        non-neoplastic  NaN   \n",
       "\n",
       "                                                     url  \\\n",
       "0      https://www.dermaamin.com/site/images/clinical...   \n",
       "1      https://www.dermaamin.com/site/images/clinical...   \n",
       "2      https://www.dermaamin.com/site/images/clinical...   \n",
       "3      https://www.dermaamin.com/site/images/clinical...   \n",
       "4      https://www.dermaamin.com/site/images/clinical...   \n",
       "...                                                  ...   \n",
       "16572  http://atlasdermatologico.com.br/img?imageId=4529   \n",
       "16573  http://atlasdermatologico.com.br/img?imageId=5630   \n",
       "16574  http://atlasdermatologico.com.br/img?imageId=4609   \n",
       "16575  http://atlasdermatologico.com.br/img?imageId=7930   \n",
       "16576  http://atlasdermatologico.com.br/img?imageId=1327   \n",
       "\n",
       "                                            url_alphanum  \n",
       "0      httpwwwdermaamincomsiteimagesclinicalpicmminoc...  \n",
       "1      httpwwwdermaamincomsiteimagesclinicalpicpphoto...  \n",
       "2      httpwwwdermaamincomsiteimagesclinicalpicdderma...  \n",
       "3      httpwwwdermaamincomsiteimagesclinicalpicppsori...  \n",
       "4      httpwwwdermaamincomsiteimagesclinicalpicppsori...  \n",
       "...                                                  ...  \n",
       "16572   httpwwwatlasdermatologicocombrimgimageId4529.jpg  \n",
       "16573   httpwwwatlasdermatologicocombrimgimageId5630.jpg  \n",
       "16574   httpwwwatlasdermatologicocombrimgimageId4609.jpg  \n",
       "16575   httpwwwatlasdermatologicocombrimgimageId7930.jpg  \n",
       "16576   httpwwwatlasdermatologicocombrimgimageId1327.jpg  \n",
       "\n",
       "[16536 rows x 9 columns]"
      ]
     },
     "execution_count": 3,
     "metadata": {},
     "output_type": "execute_result"
    }
   ],
   "source": [
    "df = pd.read_csv('./data/fitzpatrick17k.csv')\n",
    "df.dropna(subset=['url'], inplace=True)\n",
    "df"
   ]
  },
  {
   "cell_type": "code",
   "execution_count": 4,
   "metadata": {
    "ExecuteTime": {
     "end_time": "2023-06-10T09:06:31.595243082Z",
     "start_time": "2023-06-10T09:06:31.546322114Z"
    },
    "colab": {
     "base_uri": "https://localhost:8080/"
    },
    "executionInfo": {
     "elapsed": 354,
     "status": "ok",
     "timestamp": 1682223038729,
     "user": {
      "displayName": "Cường Tạ",
      "userId": "04648710175632618116"
     },
     "user_tz": -420
    },
    "id": "A7RCND2oS84y",
    "outputId": "b079611f-98d0-42d6-e624-bc0fa284cfa9"
   },
   "outputs": [
    {
     "name": "stdout",
     "output_type": "stream",
     "text": [
      "<class 'pandas.core.frame.DataFrame'>\n",
      "Index: 16536 entries, 0 to 16576\n",
      "Data columns (total 9 columns):\n",
      " #   Column                 Non-Null Count  Dtype \n",
      "---  ------                 --------------  ----- \n",
      " 0   Unnamed: 0             16536 non-null  int64 \n",
      " 1   md5hash                16536 non-null  object\n",
      " 2   fitzpatrick            16536 non-null  int64 \n",
      " 3   label                  16536 non-null  object\n",
      " 4   nine_partition_label   16536 non-null  object\n",
      " 5   three_partition_label  16536 non-null  object\n",
      " 6   qc                     504 non-null    object\n",
      " 7   url                    16536 non-null  object\n",
      " 8   url_alphanum           16536 non-null  object\n",
      "dtypes: int64(2), object(7)\n",
      "memory usage: 1.3+ MB\n"
     ]
    }
   ],
   "source": [
    "df.info()"
   ]
  },
  {
   "cell_type": "code",
   "execution_count": 5,
   "metadata": {
    "ExecuteTime": {
     "end_time": "2023-06-10T09:07:34.415203870Z",
     "start_time": "2023-06-10T09:07:34.373403388Z"
    },
    "id": "vHnkQx5Aqo_2"
   },
   "outputs": [],
   "source": [
    "def download_file(url, dst_path):\n",
    "    headers = {'User-Agent': 'XY'}\n",
    "    request = urllib.request.Request(url, headers=headers)\n",
    "    \n",
    "    with urllib.request.urlopen(request) as web_file:\n",
    "        data = web_file.read()\n",
    "        with open(dst_path, mode='wb') as local_file:\n",
    "            local_file.write(data)"
   ]
  },
  {
   "cell_type": "code",
   "execution_count": 6,
   "metadata": {
    "ExecuteTime": {
     "start_time": "2023-06-10T09:11:31.152532090Z"
    },
    "colab": {
     "base_uri": "https://localhost:8080/"
    },
    "executionInfo": {
     "elapsed": 375,
     "status": "ok",
     "timestamp": 1682223195402,
     "user": {
      "displayName": "Cường Tạ",
      "userId": "04648710175632618116"
     },
     "user_tz": -420
    },
    "id": "ujqpZHNHTUFv",
    "is_executing": true,
    "outputId": "333fe990-f9ca-4cae-8a2a-63d1ad19d6f3"
   },
   "outputs": [
    {
     "name": "stderr",
     "output_type": "stream",
     "text": [
      " 13%|█▎        | 2162/16536 [1:52:44<170:21:16, 42.67s/it]"
     ]
    }
   ],
   "source": [
    "from pathlib import Path\n",
    "from tqdm import tqdm\n",
    "\n",
    "folder_dir = Path('./data/images')\n",
    "if not folder_dir.exists():\n",
    "    os.mkdir(folder_dir)\n",
    "\n",
    "os.chdir(folder_dir)\n",
    "\n",
    "error_url = {}\n",
    "\n",
    "for i in tqdm(df.index):\n",
    "    url = df.loc[i, 'url']\n",
    "    dst_path = df.loc[i, 'md5hash']\n",
    "    try:\n",
    "        download_file(url, dst_path)\n",
    "    except:\n",
    "        error_url[i] = url\n",
    "\n",
    "error_url"
   ]
  }
 ],
 "metadata": {
  "colab": {
   "authorship_tag": "ABX9TyOZ50dxgedwixUYkVRTPZ/s",
   "mount_file_id": "1exvi7QoQ2bqQdYGHWiy_rpdeYMNbVFJ8",
   "provenance": []
  },
  "gpuClass": "standard",
  "kernelspec": {
   "display_name": "Python 3 (ipykernel)",
   "language": "python",
   "name": "python3"
  },
  "language_info": {
   "codemirror_mode": {
    "name": "ipython",
    "version": 3
   },
   "file_extension": ".py",
   "mimetype": "text/x-python",
   "name": "python",
   "nbconvert_exporter": "python",
   "pygments_lexer": "ipython3",
   "version": "3.10.6"
  }
 },
 "nbformat": 4,
 "nbformat_minor": 0
}
