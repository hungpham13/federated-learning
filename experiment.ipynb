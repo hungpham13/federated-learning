{
  "cells": [
    {
      "cell_type": "code",
      "source": [
        "!git clone https://github.com/hungpham13/federated-learning\n",
        "%cd federated-learning\n",
        "!pip install -q -r requirements.txt"
      ],
      "metadata": {
        "id": "FZiHJrmlZRnL",
        "outputId": "6ecea14c-a053-4d70-b567-dc175c0ae5cf",
        "colab": {
          "base_uri": "https://localhost:8080/"
        },
        "ExecuteTime": {
          "end_time": "2023-06-10T03:22:52.027376289Z",
          "start_time": "2023-06-10T03:22:49.864176230Z"
        }
      },
      "execution_count": 2,
      "outputs": [
        {
          "output_type": "stream",
          "name": "stdout",
          "text": [
            "fatal: destination path 'federated-learning' already exists and is not an empty directory.\n",
            "/content/federated-learning\n"
          ]
        }
      ]
    },
    {
      "cell_type": "code",
      "source": [
        "!pip install --upgrade --index-url https://pypi.ngc.nvidia.com nvidia-tensorrt"
      ],
      "metadata": {
        "id": "FxnWssAOMitR",
        "outputId": "dea3ec49-3bfb-4848-db5e-494dafbf1433",
        "colab": {
          "base_uri": "https://localhost:8080/"
        }
      },
      "execution_count": null,
      "outputs": [
        {
          "output_type": "stream",
          "name": "stderr",
          "text": [
            "\u001b[2m\u001b[36m(pid=2458)\u001b[0m 2023-06-09 12:47:10.711192: W tensorflow/compiler/tf2tensorrt/utils/py_utils.cc:38] TF-TRT Warning: Could not find TensorRT\n"
          ]
        },
        {
          "output_type": "stream",
          "name": "stdout",
          "text": [
            "Looking in indexes: https://pypi.ngc.nvidia.com, https://us-python.pkg.dev/colab-wheels/public/simple/, https://pypi.ngc.nvidia.com\n",
            "Requirement already satisfied: nvidia-tensorrt in /usr/local/lib/python3.10/dist-packages (99.0.0)\n",
            "Requirement already satisfied: tensorrt in /usr/local/lib/python3.10/dist-packages (from nvidia-tensorrt) (8.6.1)\n"
          ]
        }
      ]
    },
    {
      "cell_type": "code",
      "execution_count": 3,
      "outputs": [],
      "source": [
        "import flwr as fl\n",
        "from config import NUM_CLIENTS, DEVICE\n",
        "from model import Net, VGG16\n",
        "from main import simulate_cifar"
      ],
      "metadata": {
        "id": "VfR1zT4bZQiS",
        "ExecuteTime": {
          "end_time": "2023-06-10T04:03:32.453226216Z",
          "start_time": "2023-06-10T04:03:31.346097672Z"
        }
      }
    },
    {
      "cell_type": "markdown",
      "source": [
        "## Centralize training"
      ],
      "metadata": {
        "collapsed": false,
        "id": "YKzqmTKyZQiV"
      }
    },
    {
      "cell_type": "code",
      "execution_count": null,
      "outputs": [
        {
          "output_type": "stream",
          "name": "stdout",
          "text": [
            "Files already downloaded and verified\n",
            "Files already downloaded and verified\n",
            "Epoch 1: train loss 0.05028054490685463, accuracy 0.3868888888888889\n",
            "Epoch 1: validation loss 0.04147230490446091, accuracy 0.5456\n",
            "Epoch 1: train loss 0.033639177680015564, accuracy 0.6148\n",
            "Epoch 2: validation loss 0.026561914348602295, accuracy 0.7034\n",
            "Epoch 1: train loss 0.02576061710715294, accuracy 0.7148666666666667\n",
            "Epoch 3: validation loss 0.02317628452181816, accuracy 0.744\n",
            "Epoch 1: train loss 0.020628293976187706, accuracy 0.7752222222222223\n",
            "Epoch 4: validation loss 0.021399199867248534, accuracy 0.771\n",
            "Epoch 1: train loss 0.017199356108903885, accuracy 0.8127111111111112\n",
            "Epoch 5: validation loss 0.01969984709620476, accuracy 0.7902\n",
            "Epoch 1: train loss 0.0143361184746027, accuracy 0.8449333333333333\n",
            "Epoch 6: validation loss 0.019189575929939747, accuracy 0.8004\n",
            "Epoch 1: train loss 0.012040548026561737, accuracy 0.8689333333333333\n",
            "Epoch 7: validation loss 0.017127903091907502, accuracy 0.8216\n",
            "Epoch 1: train loss 0.009953178465366364, accuracy 0.8913333333333333\n",
            "Epoch 8: validation loss 0.017258387091755867, accuracy 0.8198\n",
            "Epoch 1: train loss 0.008150538429617882, accuracy 0.9125555555555556\n",
            "Epoch 9: validation loss 0.014826430508494377, accuracy 0.8448\n",
            "Epoch 1: train loss 0.006748498417437077, accuracy 0.9256888888888889\n",
            "Epoch 10: validation loss 0.015210123881697655, accuracy 0.8524\n",
            "Final test set performance:\n",
            "\tloss 0.01566056731212884\n",
            "\taccuracy 0.8523\n"
          ]
        }
      ],
      "source": [
        "from dataloader import load_cifars\n",
        "trainloaders, valloaders, testloader = load_cifars(1)\n",
        "\n",
        "trainloader = trainloaders[0]\n",
        "valloader = valloaders[0]\n",
        "net = VGG16().to(DEVICE)\n",
        "\n",
        "for epoch in range(10):\n",
        "    net.train_epoch(trainloader, 1)\n",
        "    loss, accuracy = net.test(valloader)\n",
        "    print(f\"Epoch {epoch+1}: validation loss {loss}, accuracy {accuracy}\")\n",
        "\n",
        "loss, accuracy = net.test(testloader)\n",
        "print(f\"Final test set performance:\\n\\tloss {loss}\\n\\taccuracy {accuracy}\")"
      ],
      "metadata": {
        "ExecuteTime": {
          "start_time": "2023-06-09T08:51:30.955817356Z"
        },
        "id": "fpc_B9ljZQiW",
        "outputId": "de06f3b3-222f-41a6-eacd-4a2705a4ba96",
        "colab": {
          "base_uri": "https://localhost:8080/"
        }
      }
    },
    {
      "cell_type": "markdown",
      "source": [
        "## Fed Average"
      ],
      "metadata": {
        "collapsed": false,
        "id": "lc0C7BXjZQiX"
      }
    },
    {
      "cell_type": "code",
      "source": [
        "strategyConfig = {\n",
        "    \"fraction_fit\":0.3,\n",
        "    \"fraction_evaluate\":0.3,\n",
        "    \"min_fit_clients\":3,\n",
        "    \"min_evaluate_clients\":3,\n",
        "    \"min_available_clients\":NUM_CLIENTS,\n",
        "}"
      ],
      "metadata": {
        "id": "LMwQqEHzBR8h",
        "ExecuteTime": {
          "end_time": "2023-06-10T04:06:14.532512377Z",
          "start_time": "2023-06-10T04:06:14.530292940Z"
        }
      },
      "execution_count": 4,
      "outputs": []
    },
    {
      "cell_type": "code",
      "execution_count": 5,
      "outputs": [
        {
          "output_type": "stream",
          "name": "stdout",
          "text": [
            "Files already downloaded and verified\n",
            "Files already downloaded and verified\n"
          ]
        },
        {
          "output_type": "stream",
          "name": "stderr",
          "text": [
            "INFO flwr 2023-06-10 04:16:36,151 | app.py:146 | Starting Flower simulation, config: ServerConfig(num_rounds=10, round_timeout=None)\n",
            "INFO:flwr:Starting Flower simulation, config: ServerConfig(num_rounds=10, round_timeout=None)\n",
            "2023-06-10 04:16:38,697\tINFO worker.py:1636 -- Started a local Ray instance.\n",
            "INFO flwr 2023-06-10 04:16:40,286 | app.py:180 | Flower VCE: Ray initialized with resources: {'CPU': 2.0, 'GPU': 1.0, 'node:172.28.0.12': 1.0, 'object_store_memory': 3937415577.0, 'memory': 7874831156.0}\n",
            "INFO:flwr:Flower VCE: Ray initialized with resources: {'CPU': 2.0, 'GPU': 1.0, 'node:172.28.0.12': 1.0, 'object_store_memory': 3937415577.0, 'memory': 7874831156.0}\n",
            "INFO flwr 2023-06-10 04:16:40,299 | server.py:86 | Initializing global parameters\n",
            "INFO:flwr:Initializing global parameters\n",
            "INFO flwr 2023-06-10 04:16:40,306 | server.py:269 | Using initial parameters provided by strategy\n",
            "INFO:flwr:Using initial parameters provided by strategy\n",
            "INFO flwr 2023-06-10 04:16:40,312 | server.py:88 | Evaluating initial parameters\n",
            "INFO:flwr:Evaluating initial parameters\n",
            "INFO flwr 2023-06-10 04:16:46,591 | server.py:91 | initial parameters (loss, other metrics): 0.0721239077091217, {'accuracy': 0.1077}\n",
            "INFO:flwr:initial parameters (loss, other metrics): 0.0721239077091217, {'accuracy': 0.1077}\n",
            "INFO flwr 2023-06-10 04:16:46,598 | server.py:101 | FL starting\n",
            "INFO:flwr:FL starting\n",
            "DEBUG flwr 2023-06-10 04:16:46,604 | server.py:218 | fit_round 1: strategy sampled 3 clients (out of 10)\n",
            "DEBUG:flwr:fit_round 1: strategy sampled 3 clients (out of 10)\n"
          ]
        },
        {
          "output_type": "stream",
          "name": "stdout",
          "text": [
            "Server-side evaluation loss 0.0721239077091217 / accuracy 0.1077\n"
          ]
        },
        {
          "output_type": "stream",
          "name": "stderr",
          "text": [
            "\u001b[2m\u001b[36m(pid=3498)\u001b[0m 2023-06-10 04:16:52.090320: W tensorflow/compiler/tf2tensorrt/utils/py_utils.cc:38] TF-TRT Warning: Could not find TensorRT\n"
          ]
        },
        {
          "output_type": "stream",
          "name": "stdout",
          "text": [
            "\u001b[2m\u001b[36m(launch_and_fit pid=3498)\u001b[0m [Client 9, round 1] fit, config: {'server_round': 1, 'local_epochs': 1}\n",
            "\u001b[2m\u001b[36m(launch_and_fit pid=3498)\u001b[0m Epoch 1: train loss 0.06525611877441406, accuracy 0.21066666666666667\n"
          ]
        },
        {
          "output_type": "stream",
          "name": "stderr",
          "text": [
            "\u001b[2m\u001b[36m(pid=3563)\u001b[0m 2023-06-10 04:17:00.438349: W tensorflow/compiler/tf2tensorrt/utils/py_utils.cc:38] TF-TRT Warning: Could not find TensorRT\n"
          ]
        },
        {
          "output_type": "stream",
          "name": "stdout",
          "text": [
            "\u001b[2m\u001b[36m(launch_and_fit pid=3563)\u001b[0m [Client 4, round 1] fit, config: {'server_round': 1, 'local_epochs': 1}\n",
            "\u001b[2m\u001b[36m(launch_and_fit pid=3563)\u001b[0m Epoch 1: train loss 0.06378388404846191, accuracy 0.236\n"
          ]
        },
        {
          "output_type": "stream",
          "name": "stderr",
          "text": [
            "\u001b[2m\u001b[36m(pid=3640)\u001b[0m 2023-06-10 04:17:07.305884: W tensorflow/compiler/tf2tensorrt/utils/py_utils.cc:38] TF-TRT Warning: Could not find TensorRT\n"
          ]
        },
        {
          "output_type": "stream",
          "name": "stdout",
          "text": [
            "\u001b[2m\u001b[36m(launch_and_fit pid=3640)\u001b[0m [Client 0, round 1] fit, config: {'server_round': 1, 'local_epochs': 1}\n"
          ]
        },
        {
          "output_type": "stream",
          "name": "stderr",
          "text": [
            "DEBUG flwr 2023-06-10 04:17:15,271 | server.py:232 | fit_round 1 received 3 results and 0 failures\n",
            "DEBUG:flwr:fit_round 1 received 3 results and 0 failures\n",
            "WARNING flwr 2023-06-10 04:17:15,290 | fedavg.py:243 | No fit_metrics_aggregation_fn provided\n",
            "WARNING:flwr:No fit_metrics_aggregation_fn provided\n"
          ]
        },
        {
          "output_type": "stream",
          "name": "stdout",
          "text": [
            "\u001b[2m\u001b[36m(launch_and_fit pid=3640)\u001b[0m Epoch 1: train loss 0.0645337626338005, accuracy 0.2291111111111111\n"
          ]
        },
        {
          "output_type": "stream",
          "name": "stderr",
          "text": [
            "INFO flwr 2023-06-10 04:17:18,734 | server.py:119 | fit progress: (1, 0.06099852579832077, {'accuracy': 0.3067}, 32.12983490699992)\n",
            "INFO:flwr:fit progress: (1, 0.06099852579832077, {'accuracy': 0.3067}, 32.12983490699992)\n",
            "DEBUG flwr 2023-06-10 04:17:18,738 | server.py:168 | evaluate_round 1: strategy sampled 3 clients (out of 10)\n",
            "DEBUG:flwr:evaluate_round 1: strategy sampled 3 clients (out of 10)\n"
          ]
        },
        {
          "output_type": "stream",
          "name": "stdout",
          "text": [
            "Server-side evaluation loss 0.06099852579832077 / accuracy 0.3067\n"
          ]
        },
        {
          "output_type": "stream",
          "name": "stderr",
          "text": [
            "\u001b[2m\u001b[36m(pid=3756)\u001b[0m 2023-06-10 04:17:24.356903: W tensorflow/compiler/tf2tensorrt/utils/py_utils.cc:38] TF-TRT Warning: Could not find TensorRT\n"
          ]
        },
        {
          "output_type": "stream",
          "name": "stdout",
          "text": [
            "\u001b[2m\u001b[36m(launch_and_evaluate pid=3756)\u001b[0m [Client 8] evaluate, config: {}\n"
          ]
        },
        {
          "output_type": "stream",
          "name": "stderr",
          "text": [
            "\u001b[2m\u001b[36m(pid=3821)\u001b[0m 2023-06-10 04:17:32.845995: W tensorflow/compiler/tf2tensorrt/utils/py_utils.cc:38] TF-TRT Warning: Could not find TensorRT\n"
          ]
        },
        {
          "output_type": "stream",
          "name": "stdout",
          "text": [
            "\u001b[2m\u001b[36m(launch_and_evaluate pid=3821)\u001b[0m [Client 3] evaluate, config: {}\n"
          ]
        },
        {
          "output_type": "stream",
          "name": "stderr",
          "text": [
            "\u001b[2m\u001b[36m(pid=3889)\u001b[0m 2023-06-10 04:17:38.446886: W tensorflow/compiler/tf2tensorrt/utils/py_utils.cc:38] TF-TRT Warning: Could not find TensorRT\n"
          ]
        },
        {
          "output_type": "stream",
          "name": "stdout",
          "text": [
            "\u001b[2m\u001b[36m(launch_and_evaluate pid=3889)\u001b[0m [Client 5] evaluate, config: {}\n"
          ]
        },
        {
          "output_type": "stream",
          "name": "stderr",
          "text": [
            "DEBUG flwr 2023-06-10 04:17:42,442 | server.py:182 | evaluate_round 1 received 3 results and 0 failures\n",
            "DEBUG:flwr:evaluate_round 1 received 3 results and 0 failures\n",
            "DEBUG flwr 2023-06-10 04:17:42,444 | server.py:218 | fit_round 2: strategy sampled 3 clients (out of 10)\n",
            "DEBUG:flwr:fit_round 2: strategy sampled 3 clients (out of 10)\n",
            "\u001b[2m\u001b[36m(pid=3975)\u001b[0m 2023-06-10 04:17:50.043320: W tensorflow/compiler/tf2tensorrt/utils/py_utils.cc:38] TF-TRT Warning: Could not find TensorRT\n"
          ]
        },
        {
          "output_type": "stream",
          "name": "stdout",
          "text": [
            "\u001b[2m\u001b[36m(launch_and_fit pid=3975)\u001b[0m [Client 2, round 2] fit, config: {'server_round': 2, 'local_epochs': 2}\n",
            "\u001b[2m\u001b[36m(launch_and_fit pid=3975)\u001b[0m Epoch 1: train loss 0.05814812704920769, accuracy 0.31133333333333335\n",
            "\u001b[2m\u001b[36m(launch_and_fit pid=3975)\u001b[0m Epoch 2: train loss 0.05351048335433006, accuracy 0.3655555555555556\n"
          ]
        },
        {
          "output_type": "stream",
          "name": "stderr",
          "text": [
            "\u001b[2m\u001b[36m(pid=4054)\u001b[0m 2023-06-10 04:18:00.646995: W tensorflow/compiler/tf2tensorrt/utils/py_utils.cc:38] TF-TRT Warning: Could not find TensorRT\n"
          ]
        },
        {
          "output_type": "stream",
          "name": "stdout",
          "text": [
            "\u001b[2m\u001b[36m(launch_and_fit pid=4054)\u001b[0m [Client 7, round 2] fit, config: {'server_round': 2, 'local_epochs': 2}\n",
            "\u001b[2m\u001b[36m(launch_and_fit pid=4054)\u001b[0m Epoch 1: train loss 0.05712398514151573, accuracy 0.3148888888888889\n",
            "\u001b[2m\u001b[36m(launch_and_fit pid=4054)\u001b[0m Epoch 2: train loss 0.0527217835187912, accuracy 0.38466666666666666\n"
          ]
        },
        {
          "output_type": "stream",
          "name": "stderr",
          "text": [
            "\u001b[2m\u001b[36m(pid=4142)\u001b[0m 2023-06-10 04:18:10.113175: W tensorflow/compiler/tf2tensorrt/utils/py_utils.cc:38] TF-TRT Warning: Could not find TensorRT\n"
          ]
        },
        {
          "output_type": "stream",
          "name": "stdout",
          "text": [
            "\u001b[2m\u001b[36m(launch_and_fit pid=4142)\u001b[0m [Client 3, round 2] fit, config: {'server_round': 2, 'local_epochs': 2}\n",
            "\u001b[2m\u001b[36m(launch_and_fit pid=4142)\u001b[0m Epoch 1: train loss 0.05758698284626007, accuracy 0.31555555555555553\n"
          ]
        },
        {
          "output_type": "stream",
          "name": "stderr",
          "text": [
            "DEBUG flwr 2023-06-10 04:18:18,990 | server.py:232 | fit_round 2 received 3 results and 0 failures\n",
            "DEBUG:flwr:fit_round 2 received 3 results and 0 failures\n"
          ]
        },
        {
          "output_type": "stream",
          "name": "stdout",
          "text": [
            "\u001b[2m\u001b[36m(launch_and_fit pid=4142)\u001b[0m Epoch 2: train loss 0.05353805795311928, accuracy 0.36733333333333335\n"
          ]
        },
        {
          "output_type": "stream",
          "name": "stderr",
          "text": [
            "INFO flwr 2023-06-10 04:18:22,049 | server.py:119 | fit progress: (2, 0.05102953263521195, {'accuracy': 0.4071}, 95.44425510899998)\n",
            "INFO:flwr:fit progress: (2, 0.05102953263521195, {'accuracy': 0.4071}, 95.44425510899998)\n",
            "DEBUG flwr 2023-06-10 04:18:22,054 | server.py:168 | evaluate_round 2: strategy sampled 3 clients (out of 10)\n",
            "DEBUG:flwr:evaluate_round 2: strategy sampled 3 clients (out of 10)\n"
          ]
        },
        {
          "output_type": "stream",
          "name": "stdout",
          "text": [
            "Server-side evaluation loss 0.05102953263521195 / accuracy 0.4071\n"
          ]
        },
        {
          "output_type": "stream",
          "name": "stderr",
          "text": [
            "\u001b[2m\u001b[36m(pid=4264)\u001b[0m 2023-06-10 04:18:27.470738: W tensorflow/compiler/tf2tensorrt/utils/py_utils.cc:38] TF-TRT Warning: Could not find TensorRT\n"
          ]
        },
        {
          "output_type": "stream",
          "name": "stdout",
          "text": [
            "\u001b[2m\u001b[36m(launch_and_evaluate pid=4264)\u001b[0m [Client 6] evaluate, config: {}\n"
          ]
        },
        {
          "output_type": "stream",
          "name": "stderr",
          "text": [
            "\u001b[2m\u001b[36m(pid=4331)\u001b[0m 2023-06-10 04:18:35.355694: W tensorflow/compiler/tf2tensorrt/utils/py_utils.cc:38] TF-TRT Warning: Could not find TensorRT\n"
          ]
        },
        {
          "output_type": "stream",
          "name": "stdout",
          "text": [
            "\u001b[2m\u001b[36m(launch_and_evaluate pid=4331)\u001b[0m [Client 5] evaluate, config: {}\n"
          ]
        },
        {
          "output_type": "stream",
          "name": "stderr",
          "text": [
            "\u001b[2m\u001b[36m(pid=4393)\u001b[0m 2023-06-10 04:18:41.119177: W tensorflow/compiler/tf2tensorrt/utils/py_utils.cc:38] TF-TRT Warning: Could not find TensorRT\n"
          ]
        },
        {
          "output_type": "stream",
          "name": "stdout",
          "text": [
            "\u001b[2m\u001b[36m(launch_and_evaluate pid=4393)\u001b[0m [Client 3] evaluate, config: {}\n"
          ]
        },
        {
          "output_type": "stream",
          "name": "stderr",
          "text": [
            "DEBUG flwr 2023-06-10 04:18:45,812 | server.py:182 | evaluate_round 2 received 3 results and 0 failures\n",
            "DEBUG:flwr:evaluate_round 2 received 3 results and 0 failures\n",
            "DEBUG flwr 2023-06-10 04:18:45,815 | server.py:218 | fit_round 3: strategy sampled 3 clients (out of 10)\n",
            "DEBUG:flwr:fit_round 3: strategy sampled 3 clients (out of 10)\n",
            "\u001b[2m\u001b[36m(pid=4479)\u001b[0m 2023-06-10 04:18:52.348153: W tensorflow/compiler/tf2tensorrt/utils/py_utils.cc:38] TF-TRT Warning: Could not find TensorRT\n"
          ]
        },
        {
          "output_type": "stream",
          "name": "stdout",
          "text": [
            "\u001b[2m\u001b[36m(launch_and_fit pid=4479)\u001b[0m [Client 7, round 3] fit, config: {'server_round': 3, 'local_epochs': 2}\n",
            "\u001b[2m\u001b[36m(launch_and_fit pid=4479)\u001b[0m Epoch 1: train loss 0.049713194370269775, accuracy 0.4166666666666667\n",
            "\u001b[2m\u001b[36m(launch_and_fit pid=4479)\u001b[0m Epoch 2: train loss 0.047121915966272354, accuracy 0.4528888888888889\n"
          ]
        },
        {
          "output_type": "stream",
          "name": "stderr",
          "text": [
            "\u001b[2m\u001b[36m(pid=4561)\u001b[0m 2023-06-10 04:19:03.426123: W tensorflow/compiler/tf2tensorrt/utils/py_utils.cc:38] TF-TRT Warning: Could not find TensorRT\n"
          ]
        },
        {
          "output_type": "stream",
          "name": "stdout",
          "text": [
            "\u001b[2m\u001b[36m(launch_and_fit pid=4561)\u001b[0m [Client 3, round 3] fit, config: {'server_round': 3, 'local_epochs': 2}\n",
            "\u001b[2m\u001b[36m(launch_and_fit pid=4561)\u001b[0m Epoch 1: train loss 0.051116183400154114, accuracy 0.4011111111111111\n",
            "\u001b[2m\u001b[36m(launch_and_fit pid=4561)\u001b[0m Epoch 2: train loss 0.04853460565209389, accuracy 0.4311111111111111\n"
          ]
        },
        {
          "output_type": "stream",
          "name": "stderr",
          "text": [
            "\u001b[2m\u001b[36m(pid=4644)\u001b[0m 2023-06-10 04:19:12.329883: W tensorflow/compiler/tf2tensorrt/utils/py_utils.cc:38] TF-TRT Warning: Could not find TensorRT\n"
          ]
        },
        {
          "output_type": "stream",
          "name": "stdout",
          "text": [
            "\u001b[2m\u001b[36m(launch_and_fit pid=4644)\u001b[0m [Client 6, round 3] fit, config: {'server_round': 3, 'local_epochs': 2}\n",
            "\u001b[2m\u001b[36m(launch_and_fit pid=4644)\u001b[0m Epoch 1: train loss 0.052354708313941956, accuracy 0.37422222222222223\n"
          ]
        },
        {
          "output_type": "stream",
          "name": "stderr",
          "text": [
            "DEBUG flwr 2023-06-10 04:19:24,021 | server.py:232 | fit_round 3 received 3 results and 0 failures\n",
            "DEBUG:flwr:fit_round 3 received 3 results and 0 failures\n"
          ]
        },
        {
          "output_type": "stream",
          "name": "stdout",
          "text": [
            "\u001b[2m\u001b[36m(launch_and_fit pid=4644)\u001b[0m Epoch 2: train loss 0.04961282014846802, accuracy 0.412\n"
          ]
        },
        {
          "output_type": "stream",
          "name": "stderr",
          "text": [
            "INFO flwr 2023-06-10 04:19:27,112 | server.py:119 | fit progress: (3, 0.0474550833940506, {'accuracy': 0.4368}, 160.50800126699994)\n",
            "INFO:flwr:fit progress: (3, 0.0474550833940506, {'accuracy': 0.4368}, 160.50800126699994)\n",
            "DEBUG flwr 2023-06-10 04:19:27,116 | server.py:168 | evaluate_round 3: strategy sampled 3 clients (out of 10)\n",
            "DEBUG:flwr:evaluate_round 3: strategy sampled 3 clients (out of 10)\n"
          ]
        },
        {
          "output_type": "stream",
          "name": "stdout",
          "text": [
            "Server-side evaluation loss 0.0474550833940506 / accuracy 0.4368\n"
          ]
        },
        {
          "output_type": "stream",
          "name": "stderr",
          "text": [
            "\u001b[2m\u001b[36m(pid=4776)\u001b[0m 2023-06-10 04:19:32.593290: W tensorflow/compiler/tf2tensorrt/utils/py_utils.cc:38] TF-TRT Warning: Could not find TensorRT\n"
          ]
        },
        {
          "output_type": "stream",
          "name": "stdout",
          "text": [
            "\u001b[2m\u001b[36m(launch_and_evaluate pid=4776)\u001b[0m [Client 9] evaluate, config: {}\n"
          ]
        },
        {
          "output_type": "stream",
          "name": "stderr",
          "text": [
            "\u001b[2m\u001b[36m(pid=4849)\u001b[0m 2023-06-10 04:19:40.586519: W tensorflow/compiler/tf2tensorrt/utils/py_utils.cc:38] TF-TRT Warning: Could not find TensorRT\n"
          ]
        },
        {
          "output_type": "stream",
          "name": "stdout",
          "text": [
            "\u001b[2m\u001b[36m(launch_and_evaluate pid=4849)\u001b[0m [Client 4] evaluate, config: {}\n"
          ]
        },
        {
          "output_type": "stream",
          "name": "stderr",
          "text": [
            "\u001b[2m\u001b[36m(pid=4909)\u001b[0m 2023-06-10 04:19:46.306046: W tensorflow/compiler/tf2tensorrt/utils/py_utils.cc:38] TF-TRT Warning: Could not find TensorRT\n"
          ]
        },
        {
          "output_type": "stream",
          "name": "stdout",
          "text": [
            "\u001b[2m\u001b[36m(launch_and_evaluate pid=4909)\u001b[0m [Client 2] evaluate, config: {}\n"
          ]
        },
        {
          "output_type": "stream",
          "name": "stderr",
          "text": [
            "DEBUG flwr 2023-06-10 04:19:51,323 | server.py:182 | evaluate_round 3 received 3 results and 0 failures\n",
            "DEBUG:flwr:evaluate_round 3 received 3 results and 0 failures\n",
            "DEBUG flwr 2023-06-10 04:19:51,330 | server.py:218 | fit_round 4: strategy sampled 3 clients (out of 10)\n",
            "DEBUG:flwr:fit_round 4: strategy sampled 3 clients (out of 10)\n",
            "\u001b[2m\u001b[36m(pid=4995)\u001b[0m 2023-06-10 04:19:57.669631: W tensorflow/compiler/tf2tensorrt/utils/py_utils.cc:38] TF-TRT Warning: Could not find TensorRT\n"
          ]
        },
        {
          "output_type": "stream",
          "name": "stdout",
          "text": [
            "\u001b[2m\u001b[36m(launch_and_fit pid=4995)\u001b[0m [Client 2, round 4] fit, config: {'server_round': 4, 'local_epochs': 2}\n",
            "\u001b[2m\u001b[36m(launch_and_fit pid=4995)\u001b[0m Epoch 1: train loss 0.04815692827105522, accuracy 0.43822222222222224\n",
            "\u001b[2m\u001b[36m(launch_and_fit pid=4995)\u001b[0m Epoch 2: train loss 0.04570107161998749, accuracy 0.47044444444444444\n"
          ]
        },
        {
          "output_type": "stream",
          "name": "stderr",
          "text": [
            "\u001b[2m\u001b[36m(pid=5076)\u001b[0m 2023-06-10 04:20:08.779892: W tensorflow/compiler/tf2tensorrt/utils/py_utils.cc:38] TF-TRT Warning: Could not find TensorRT\n"
          ]
        },
        {
          "output_type": "stream",
          "name": "stdout",
          "text": [
            "\u001b[2m\u001b[36m(launch_and_fit pid=5076)\u001b[0m [Client 9, round 4] fit, config: {'server_round': 4, 'local_epochs': 2}\n",
            "\u001b[2m\u001b[36m(launch_and_fit pid=5076)\u001b[0m Epoch 1: train loss 0.0492759644985199, accuracy 0.42244444444444446\n",
            "\u001b[2m\u001b[36m(launch_and_fit pid=5076)\u001b[0m Epoch 2: train loss 0.04652519151568413, accuracy 0.44133333333333336\n"
          ]
        },
        {
          "output_type": "stream",
          "name": "stderr",
          "text": [
            "\u001b[2m\u001b[36m(pid=5158)\u001b[0m 2023-06-10 04:20:17.584050: W tensorflow/compiler/tf2tensorrt/utils/py_utils.cc:38] TF-TRT Warning: Could not find TensorRT\n"
          ]
        },
        {
          "output_type": "stream",
          "name": "stdout",
          "text": [
            "\u001b[2m\u001b[36m(launch_and_fit pid=5158)\u001b[0m [Client 8, round 4] fit, config: {'server_round': 4, 'local_epochs': 2}\n",
            "\u001b[2m\u001b[36m(launch_and_fit pid=5158)\u001b[0m Epoch 1: train loss 0.0474228672683239, accuracy 0.45\n"
          ]
        },
        {
          "output_type": "stream",
          "name": "stderr",
          "text": [
            "DEBUG flwr 2023-06-10 04:20:26,679 | server.py:232 | fit_round 4 received 3 results and 0 failures\n",
            "DEBUG:flwr:fit_round 4 received 3 results and 0 failures\n"
          ]
        },
        {
          "output_type": "stream",
          "name": "stdout",
          "text": [
            "\u001b[2m\u001b[36m(launch_and_fit pid=5158)\u001b[0m Epoch 2: train loss 0.0447697713971138, accuracy 0.4891111111111111\n"
          ]
        },
        {
          "output_type": "stream",
          "name": "stderr",
          "text": [
            "INFO flwr 2023-06-10 04:20:29,766 | server.py:119 | fit progress: (4, 0.045107418751716616, {'accuracy': 0.4721}, 223.16219937699998)\n",
            "INFO:flwr:fit progress: (4, 0.045107418751716616, {'accuracy': 0.4721}, 223.16219937699998)\n",
            "DEBUG flwr 2023-06-10 04:20:29,770 | server.py:168 | evaluate_round 4: strategy sampled 3 clients (out of 10)\n",
            "DEBUG:flwr:evaluate_round 4: strategy sampled 3 clients (out of 10)\n"
          ]
        },
        {
          "output_type": "stream",
          "name": "stdout",
          "text": [
            "Server-side evaluation loss 0.045107418751716616 / accuracy 0.4721\n"
          ]
        },
        {
          "output_type": "stream",
          "name": "stderr",
          "text": [
            "\u001b[2m\u001b[36m(pid=5275)\u001b[0m 2023-06-10 04:20:36.077195: W tensorflow/compiler/tf2tensorrt/utils/py_utils.cc:38] TF-TRT Warning: Could not find TensorRT\n"
          ]
        },
        {
          "output_type": "stream",
          "name": "stdout",
          "text": [
            "\u001b[2m\u001b[36m(launch_and_evaluate pid=5275)\u001b[0m [Client 2] evaluate, config: {}\n"
          ]
        },
        {
          "output_type": "stream",
          "name": "stderr",
          "text": [
            "\u001b[2m\u001b[36m(pid=5346)\u001b[0m 2023-06-10 04:20:43.413144: W tensorflow/compiler/tf2tensorrt/utils/py_utils.cc:38] TF-TRT Warning: Could not find TensorRT\n"
          ]
        },
        {
          "output_type": "stream",
          "name": "stdout",
          "text": [
            "\u001b[2m\u001b[36m(launch_and_evaluate pid=5346)\u001b[0m [Client 8] evaluate, config: {}\n"
          ]
        },
        {
          "output_type": "stream",
          "name": "stderr",
          "text": [
            "\u001b[2m\u001b[36m(pid=5406)\u001b[0m 2023-06-10 04:20:49.320932: W tensorflow/compiler/tf2tensorrt/utils/py_utils.cc:38] TF-TRT Warning: Could not find TensorRT\n"
          ]
        },
        {
          "output_type": "stream",
          "name": "stdout",
          "text": [
            "\u001b[2m\u001b[36m(launch_and_evaluate pid=5406)\u001b[0m [Client 5] evaluate, config: {}\n"
          ]
        },
        {
          "output_type": "stream",
          "name": "stderr",
          "text": [
            "DEBUG flwr 2023-06-10 04:20:55,450 | server.py:182 | evaluate_round 4 received 3 results and 0 failures\n",
            "DEBUG:flwr:evaluate_round 4 received 3 results and 0 failures\n",
            "DEBUG flwr 2023-06-10 04:20:55,453 | server.py:218 | fit_round 5: strategy sampled 3 clients (out of 10)\n",
            "DEBUG:flwr:fit_round 5: strategy sampled 3 clients (out of 10)\n",
            "\u001b[2m\u001b[36m(pid=5491)\u001b[0m 2023-06-10 04:21:01.044041: W tensorflow/compiler/tf2tensorrt/utils/py_utils.cc:38] TF-TRT Warning: Could not find TensorRT\n"
          ]
        },
        {
          "output_type": "stream",
          "name": "stdout",
          "text": [
            "\u001b[2m\u001b[36m(launch_and_fit pid=5491)\u001b[0m [Client 9, round 5] fit, config: {'server_round': 5, 'local_epochs': 2}\n",
            "\u001b[2m\u001b[36m(launch_and_fit pid=5491)\u001b[0m Epoch 1: train loss 0.04578552767634392, accuracy 0.4711111111111111\n",
            "\u001b[2m\u001b[36m(launch_and_fit pid=5491)\u001b[0m Epoch 2: train loss 0.04339499771595001, accuracy 0.4935555555555556\n"
          ]
        },
        {
          "output_type": "stream",
          "name": "stderr",
          "text": [
            "\u001b[2m\u001b[36m(pid=5577)\u001b[0m 2023-06-10 04:21:11.970752: W tensorflow/compiler/tf2tensorrt/utils/py_utils.cc:38] TF-TRT Warning: Could not find TensorRT\n"
          ]
        },
        {
          "output_type": "stream",
          "name": "stdout",
          "text": [
            "\u001b[2m\u001b[36m(launch_and_fit pid=5577)\u001b[0m [Client 4, round 5] fit, config: {'server_round': 5, 'local_epochs': 2}\n",
            "\u001b[2m\u001b[36m(launch_and_fit pid=5577)\u001b[0m Epoch 1: train loss 0.04614131897687912, accuracy 0.4746666666666667\n",
            "\u001b[2m\u001b[36m(launch_and_fit pid=5577)\u001b[0m Epoch 2: train loss 0.04307853430509567, accuracy 0.5048888888888889\n"
          ]
        },
        {
          "output_type": "stream",
          "name": "stderr",
          "text": [
            "\u001b[2m\u001b[36m(pid=5654)\u001b[0m 2023-06-10 04:21:21.071441: W tensorflow/compiler/tf2tensorrt/utils/py_utils.cc:38] TF-TRT Warning: Could not find TensorRT\n"
          ]
        },
        {
          "output_type": "stream",
          "name": "stdout",
          "text": [
            "\u001b[2m\u001b[36m(launch_and_fit pid=5654)\u001b[0m [Client 0, round 5] fit, config: {'server_round': 5, 'local_epochs': 2}\n",
            "\u001b[2m\u001b[36m(launch_and_fit pid=5654)\u001b[0m Epoch 1: train loss 0.04592519998550415, accuracy 0.46644444444444444\n"
          ]
        },
        {
          "output_type": "stream",
          "name": "stderr",
          "text": [
            "DEBUG flwr 2023-06-10 04:21:30,311 | server.py:232 | fit_round 5 received 3 results and 0 failures\n",
            "DEBUG:flwr:fit_round 5 received 3 results and 0 failures\n"
          ]
        },
        {
          "output_type": "stream",
          "name": "stdout",
          "text": [
            "\u001b[2m\u001b[36m(launch_and_fit pid=5654)\u001b[0m Epoch 2: train loss 0.04354549199342728, accuracy 0.49333333333333335\n"
          ]
        },
        {
          "output_type": "stream",
          "name": "stderr",
          "text": [
            "INFO flwr 2023-06-10 04:21:33,439 | server.py:119 | fit progress: (5, 0.044027090764045713, {'accuracy': 0.4901}, 286.83468621399993)\n",
            "INFO:flwr:fit progress: (5, 0.044027090764045713, {'accuracy': 0.4901}, 286.83468621399993)\n",
            "DEBUG flwr 2023-06-10 04:21:33,446 | server.py:168 | evaluate_round 5: strategy sampled 3 clients (out of 10)\n",
            "DEBUG:flwr:evaluate_round 5: strategy sampled 3 clients (out of 10)\n"
          ]
        },
        {
          "output_type": "stream",
          "name": "stdout",
          "text": [
            "Server-side evaluation loss 0.044027090764045713 / accuracy 0.4901\n"
          ]
        },
        {
          "output_type": "stream",
          "name": "stderr",
          "text": [
            "\u001b[2m\u001b[36m(pid=5775)\u001b[0m 2023-06-10 04:21:41.158197: W tensorflow/compiler/tf2tensorrt/utils/py_utils.cc:38] TF-TRT Warning: Could not find TensorRT\n"
          ]
        },
        {
          "output_type": "stream",
          "name": "stdout",
          "text": [
            "\u001b[2m\u001b[36m(launch_and_evaluate pid=5775)\u001b[0m [Client 6] evaluate, config: {}\n"
          ]
        },
        {
          "output_type": "stream",
          "name": "stderr",
          "text": [
            "\u001b[2m\u001b[36m(pid=5852)\u001b[0m 2023-06-10 04:21:47.306583: W tensorflow/compiler/tf2tensorrt/utils/py_utils.cc:38] TF-TRT Warning: Could not find TensorRT\n"
          ]
        },
        {
          "output_type": "stream",
          "name": "stdout",
          "text": [
            "\u001b[2m\u001b[36m(launch_and_evaluate pid=5852)\u001b[0m [Client 9] evaluate, config: {}\n"
          ]
        },
        {
          "output_type": "stream",
          "name": "stderr",
          "text": [
            "\u001b[2m\u001b[36m(pid=5908)\u001b[0m 2023-06-10 04:21:54.000209: W tensorflow/compiler/tf2tensorrt/utils/py_utils.cc:38] TF-TRT Warning: Could not find TensorRT\n"
          ]
        },
        {
          "output_type": "stream",
          "name": "stdout",
          "text": [
            "\u001b[2m\u001b[36m(launch_and_evaluate pid=5908)\u001b[0m [Client 8] evaluate, config: {}\n"
          ]
        },
        {
          "output_type": "stream",
          "name": "stderr",
          "text": [
            "DEBUG flwr 2023-06-10 04:21:59,772 | server.py:182 | evaluate_round 5 received 3 results and 0 failures\n",
            "DEBUG:flwr:evaluate_round 5 received 3 results and 0 failures\n",
            "DEBUG flwr 2023-06-10 04:21:59,776 | server.py:218 | fit_round 6: strategy sampled 3 clients (out of 10)\n",
            "DEBUG:flwr:fit_round 6: strategy sampled 3 clients (out of 10)\n",
            "\u001b[2m\u001b[36m(pid=6003)\u001b[0m 2023-06-10 04:22:08.145151: W tensorflow/compiler/tf2tensorrt/utils/py_utils.cc:38] TF-TRT Warning: Could not find TensorRT\n"
          ]
        },
        {
          "output_type": "stream",
          "name": "stdout",
          "text": [
            "\u001b[2m\u001b[36m(launch_and_fit pid=6003)\u001b[0m [Client 4, round 6] fit, config: {'server_round': 6, 'local_epochs': 2}\n",
            "\u001b[2m\u001b[36m(launch_and_fit pid=6003)\u001b[0m Epoch 1: train loss 0.04330209642648697, accuracy 0.504\n",
            "\u001b[2m\u001b[36m(launch_and_fit pid=6003)\u001b[0m Epoch 2: train loss 0.04091065376996994, accuracy 0.5366666666666666\n"
          ]
        },
        {
          "output_type": "stream",
          "name": "stderr",
          "text": [
            "\u001b[2m\u001b[36m(pid=6100)\u001b[0m 2023-06-10 04:22:19.122351: W tensorflow/compiler/tf2tensorrt/utils/py_utils.cc:38] TF-TRT Warning: Could not find TensorRT\n"
          ]
        },
        {
          "output_type": "stream",
          "name": "stdout",
          "text": [
            "\u001b[2m\u001b[36m(launch_and_fit pid=6100)\u001b[0m [Client 0, round 6] fit, config: {'server_round': 6, 'local_epochs': 2}\n",
            "\u001b[2m\u001b[36m(launch_and_fit pid=6100)\u001b[0m Epoch 1: train loss 0.043553829193115234, accuracy 0.4955555555555556\n",
            "\u001b[2m\u001b[36m(launch_and_fit pid=6100)\u001b[0m Epoch 2: train loss 0.04127998650074005, accuracy 0.5213333333333333\n"
          ]
        },
        {
          "output_type": "stream",
          "name": "stderr",
          "text": [
            "\u001b[2m\u001b[36m(pid=6183)\u001b[0m 2023-06-10 04:22:30.292044: W tensorflow/compiler/tf2tensorrt/utils/py_utils.cc:38] TF-TRT Warning: Could not find TensorRT\n"
          ]
        },
        {
          "output_type": "stream",
          "name": "stdout",
          "text": [
            "\u001b[2m\u001b[36m(launch_and_fit pid=6183)\u001b[0m [Client 7, round 6] fit, config: {'server_round': 6, 'local_epochs': 2}\n",
            "\u001b[2m\u001b[36m(launch_and_fit pid=6183)\u001b[0m Epoch 1: train loss 0.04331428185105324, accuracy 0.49822222222222223\n"
          ]
        },
        {
          "output_type": "stream",
          "name": "stderr",
          "text": [
            "DEBUG flwr 2023-06-10 04:22:37,171 | server.py:232 | fit_round 6 received 3 results and 0 failures\n",
            "DEBUG:flwr:fit_round 6 received 3 results and 0 failures\n"
          ]
        },
        {
          "output_type": "stream",
          "name": "stdout",
          "text": [
            "\u001b[2m\u001b[36m(launch_and_fit pid=6183)\u001b[0m Epoch 2: train loss 0.041009463369846344, accuracy 0.5295555555555556\n"
          ]
        },
        {
          "output_type": "stream",
          "name": "stderr",
          "text": [
            "INFO flwr 2023-06-10 04:22:40,811 | server.py:119 | fit progress: (6, 0.042396991413831714, {'accuracy': 0.5115}, 354.2068823259999)\n",
            "INFO:flwr:fit progress: (6, 0.042396991413831714, {'accuracy': 0.5115}, 354.2068823259999)\n",
            "DEBUG flwr 2023-06-10 04:22:40,819 | server.py:168 | evaluate_round 6: strategy sampled 3 clients (out of 10)\n",
            "DEBUG:flwr:evaluate_round 6: strategy sampled 3 clients (out of 10)\n"
          ]
        },
        {
          "output_type": "stream",
          "name": "stdout",
          "text": [
            "Server-side evaluation loss 0.042396991413831714 / accuracy 0.5115\n"
          ]
        },
        {
          "output_type": "stream",
          "name": "stderr",
          "text": [
            "\u001b[2m\u001b[36m(pid=6308)\u001b[0m 2023-06-10 04:22:48.169469: W tensorflow/compiler/tf2tensorrt/utils/py_utils.cc:38] TF-TRT Warning: Could not find TensorRT\n"
          ]
        },
        {
          "output_type": "stream",
          "name": "stdout",
          "text": [
            "\u001b[2m\u001b[36m(launch_and_evaluate pid=6308)\u001b[0m [Client 7] evaluate, config: {}\n"
          ]
        },
        {
          "output_type": "stream",
          "name": "stderr",
          "text": [
            "\u001b[2m\u001b[36m(pid=6370)\u001b[0m 2023-06-10 04:22:54.077807: W tensorflow/compiler/tf2tensorrt/utils/py_utils.cc:38] TF-TRT Warning: Could not find TensorRT\n"
          ]
        },
        {
          "output_type": "stream",
          "name": "stdout",
          "text": [
            "\u001b[2m\u001b[36m(launch_and_evaluate pid=6370)\u001b[0m [Client 4] evaluate, config: {}\n"
          ]
        },
        {
          "output_type": "stream",
          "name": "stderr",
          "text": [
            "\u001b[2m\u001b[36m(pid=6441)\u001b[0m 2023-06-10 04:23:02.315543: W tensorflow/compiler/tf2tensorrt/utils/py_utils.cc:38] TF-TRT Warning: Could not find TensorRT\n"
          ]
        },
        {
          "output_type": "stream",
          "name": "stdout",
          "text": [
            "\u001b[2m\u001b[36m(launch_and_evaluate pid=6441)\u001b[0m [Client 0] evaluate, config: {}\n"
          ]
        },
        {
          "output_type": "stream",
          "name": "stderr",
          "text": [
            "DEBUG flwr 2023-06-10 04:23:06,377 | server.py:182 | evaluate_round 6 received 3 results and 0 failures\n",
            "DEBUG:flwr:evaluate_round 6 received 3 results and 0 failures\n",
            "DEBUG flwr 2023-06-10 04:23:06,382 | server.py:218 | fit_round 7: strategy sampled 3 clients (out of 10)\n",
            "DEBUG:flwr:fit_round 7: strategy sampled 3 clients (out of 10)\n",
            "\u001b[2m\u001b[36m(pid=6525)\u001b[0m 2023-06-10 04:23:13.755968: W tensorflow/compiler/tf2tensorrt/utils/py_utils.cc:38] TF-TRT Warning: Could not find TensorRT\n"
          ]
        },
        {
          "output_type": "stream",
          "name": "stdout",
          "text": [
            "\u001b[2m\u001b[36m(launch_and_fit pid=6525)\u001b[0m [Client 4, round 7] fit, config: {'server_round': 7, 'local_epochs': 2}\n",
            "\u001b[2m\u001b[36m(launch_and_fit pid=6525)\u001b[0m Epoch 1: train loss 0.041311245411634445, accuracy 0.5242222222222223\n",
            "\u001b[2m\u001b[36m(launch_and_fit pid=6525)\u001b[0m Epoch 2: train loss 0.038584452122449875, accuracy 0.5537777777777778\n"
          ]
        },
        {
          "output_type": "stream",
          "name": "stderr",
          "text": [
            "\u001b[2m\u001b[36m(pid=6611)\u001b[0m 2023-06-10 04:23:23.677146: W tensorflow/compiler/tf2tensorrt/utils/py_utils.cc:38] TF-TRT Warning: Could not find TensorRT\n"
          ]
        },
        {
          "output_type": "stream",
          "name": "stdout",
          "text": [
            "\u001b[2m\u001b[36m(launch_and_fit pid=6611)\u001b[0m [Client 3, round 7] fit, config: {'server_round': 7, 'local_epochs': 2}\n",
            "\u001b[2m\u001b[36m(launch_and_fit pid=6611)\u001b[0m Epoch 1: train loss 0.043906938284635544, accuracy 0.49822222222222223\n",
            "\u001b[2m\u001b[36m(launch_and_fit pid=6611)\u001b[0m Epoch 2: train loss 0.041023705154657364, accuracy 0.5348888888888889\n"
          ]
        },
        {
          "output_type": "stream",
          "name": "stderr",
          "text": [
            "\u001b[2m\u001b[36m(pid=6701)\u001b[0m 2023-06-10 04:23:36.141962: W tensorflow/compiler/tf2tensorrt/utils/py_utils.cc:38] TF-TRT Warning: Could not find TensorRT\n"
          ]
        },
        {
          "output_type": "stream",
          "name": "stdout",
          "text": [
            "\u001b[2m\u001b[36m(launch_and_fit pid=6701)\u001b[0m [Client 7, round 7] fit, config: {'server_round': 7, 'local_epochs': 2}\n",
            "\u001b[2m\u001b[36m(launch_and_fit pid=6701)\u001b[0m Epoch 1: train loss 0.0410144217312336, accuracy 0.5306666666666666\n"
          ]
        },
        {
          "output_type": "stream",
          "name": "stderr",
          "text": [
            "DEBUG flwr 2023-06-10 04:23:45,255 | server.py:232 | fit_round 7 received 3 results and 0 failures\n",
            "DEBUG:flwr:fit_round 7 received 3 results and 0 failures\n"
          ]
        },
        {
          "output_type": "stream",
          "name": "stdout",
          "text": [
            "\u001b[2m\u001b[36m(launch_and_fit pid=6701)\u001b[0m Epoch 2: train loss 0.03844813257455826, accuracy 0.5588888888888889\n"
          ]
        },
        {
          "output_type": "stream",
          "name": "stderr",
          "text": [
            "INFO flwr 2023-06-10 04:23:49,282 | server.py:119 | fit progress: (7, 0.04133229306936264, {'accuracy': 0.5271}, 422.677736276)\n",
            "INFO:flwr:fit progress: (7, 0.04133229306936264, {'accuracy': 0.5271}, 422.677736276)\n",
            "DEBUG flwr 2023-06-10 04:23:49,297 | server.py:168 | evaluate_round 7: strategy sampled 3 clients (out of 10)\n",
            "DEBUG:flwr:evaluate_round 7: strategy sampled 3 clients (out of 10)\n"
          ]
        },
        {
          "output_type": "stream",
          "name": "stdout",
          "text": [
            "Server-side evaluation loss 0.04133229306936264 / accuracy 0.5271\n"
          ]
        },
        {
          "output_type": "stream",
          "name": "stderr",
          "text": [
            "\u001b[2m\u001b[36m(pid=6828)\u001b[0m 2023-06-10 04:23:55.046799: W tensorflow/compiler/tf2tensorrt/utils/py_utils.cc:38] TF-TRT Warning: Could not find TensorRT\n"
          ]
        },
        {
          "output_type": "stream",
          "name": "stdout",
          "text": [
            "\u001b[2m\u001b[36m(launch_and_evaluate pid=6828)\u001b[0m [Client 7] evaluate, config: {}\n"
          ]
        },
        {
          "output_type": "stream",
          "name": "stderr",
          "text": [
            "\u001b[2m\u001b[36m(pid=6897)\u001b[0m 2023-06-10 04:24:03.781833: W tensorflow/compiler/tf2tensorrt/utils/py_utils.cc:38] TF-TRT Warning: Could not find TensorRT\n"
          ]
        },
        {
          "output_type": "stream",
          "name": "stdout",
          "text": [
            "\u001b[2m\u001b[36m(launch_and_evaluate pid=6897)\u001b[0m [Client 9] evaluate, config: {}\n"
          ]
        },
        {
          "output_type": "stream",
          "name": "stderr",
          "text": [
            "\u001b[2m\u001b[36m(pid=6963)\u001b[0m 2023-06-10 04:24:09.591684: W tensorflow/compiler/tf2tensorrt/utils/py_utils.cc:38] TF-TRT Warning: Could not find TensorRT\n"
          ]
        },
        {
          "output_type": "stream",
          "name": "stdout",
          "text": [
            "\u001b[2m\u001b[36m(launch_and_evaluate pid=6963)\u001b[0m [Client 3] evaluate, config: {}\n"
          ]
        },
        {
          "output_type": "stream",
          "name": "stderr",
          "text": [
            "DEBUG flwr 2023-06-10 04:24:13,748 | server.py:182 | evaluate_round 7 received 3 results and 0 failures\n",
            "DEBUG:flwr:evaluate_round 7 received 3 results and 0 failures\n",
            "DEBUG flwr 2023-06-10 04:24:13,752 | server.py:218 | fit_round 8: strategy sampled 3 clients (out of 10)\n",
            "DEBUG:flwr:fit_round 8: strategy sampled 3 clients (out of 10)\n",
            "\u001b[2m\u001b[36m(pid=7055)\u001b[0m 2023-06-10 04:24:21.936830: W tensorflow/compiler/tf2tensorrt/utils/py_utils.cc:38] TF-TRT Warning: Could not find TensorRT\n"
          ]
        },
        {
          "output_type": "stream",
          "name": "stdout",
          "text": [
            "\u001b[2m\u001b[36m(launch_and_fit pid=7055)\u001b[0m [Client 8, round 8] fit, config: {'server_round': 8, 'local_epochs': 2}\n",
            "\u001b[2m\u001b[36m(launch_and_fit pid=7055)\u001b[0m Epoch 1: train loss 0.04156231880187988, accuracy 0.5324444444444445\n",
            "\u001b[2m\u001b[36m(launch_and_fit pid=7055)\u001b[0m Epoch 2: train loss 0.038788773119449615, accuracy 0.5595555555555556\n"
          ]
        },
        {
          "output_type": "stream",
          "name": "stderr",
          "text": [
            "\u001b[2m\u001b[36m(pid=7136)\u001b[0m 2023-06-10 04:24:33.492125: W tensorflow/compiler/tf2tensorrt/utils/py_utils.cc:38] TF-TRT Warning: Could not find TensorRT\n"
          ]
        },
        {
          "output_type": "stream",
          "name": "stdout",
          "text": [
            "\u001b[2m\u001b[36m(launch_and_fit pid=7136)\u001b[0m [Client 2, round 8] fit, config: {'server_round': 8, 'local_epochs': 2}\n",
            "\u001b[2m\u001b[36m(launch_and_fit pid=7136)\u001b[0m Epoch 1: train loss 0.042288631200790405, accuracy 0.5166666666666667\n",
            "\u001b[2m\u001b[36m(launch_and_fit pid=7136)\u001b[0m Epoch 2: train loss 0.03896626830101013, accuracy 0.5455555555555556\n"
          ]
        },
        {
          "output_type": "stream",
          "name": "stderr",
          "text": [
            "\u001b[2m\u001b[36m(pid=7230)\u001b[0m 2023-06-10 04:24:43.233825: W tensorflow/compiler/tf2tensorrt/utils/py_utils.cc:38] TF-TRT Warning: Could not find TensorRT\n"
          ]
        },
        {
          "output_type": "stream",
          "name": "stdout",
          "text": [
            "\u001b[2m\u001b[36m(launch_and_fit pid=7230)\u001b[0m [Client 4, round 8] fit, config: {'server_round': 8, 'local_epochs': 2}\n",
            "\u001b[2m\u001b[36m(launch_and_fit pid=7230)\u001b[0m Epoch 1: train loss 0.03986722603440285, accuracy 0.5431111111111111\n"
          ]
        },
        {
          "output_type": "stream",
          "name": "stderr",
          "text": [
            "DEBUG flwr 2023-06-10 04:24:52,623 | server.py:232 | fit_round 8 received 3 results and 0 failures\n",
            "DEBUG:flwr:fit_round 8 received 3 results and 0 failures\n"
          ]
        },
        {
          "output_type": "stream",
          "name": "stdout",
          "text": [
            "\u001b[2m\u001b[36m(launch_and_fit pid=7230)\u001b[0m Epoch 2: train loss 0.03683474659919739, accuracy 0.5795555555555556\n"
          ]
        },
        {
          "output_type": "stream",
          "name": "stderr",
          "text": [
            "INFO flwr 2023-06-10 04:24:57,463 | server.py:119 | fit progress: (8, 0.040410005128383636, {'accuracy': 0.5341}, 490.85913831899995)\n",
            "INFO:flwr:fit progress: (8, 0.040410005128383636, {'accuracy': 0.5341}, 490.85913831899995)\n",
            "DEBUG flwr 2023-06-10 04:24:57,476 | server.py:168 | evaluate_round 8: strategy sampled 3 clients (out of 10)\n",
            "DEBUG:flwr:evaluate_round 8: strategy sampled 3 clients (out of 10)\n"
          ]
        },
        {
          "output_type": "stream",
          "name": "stdout",
          "text": [
            "Server-side evaluation loss 0.040410005128383636 / accuracy 0.5341\n"
          ]
        },
        {
          "output_type": "stream",
          "name": "stderr",
          "text": [
            "\u001b[2m\u001b[36m(pid=7359)\u001b[0m 2023-06-10 04:25:05.355611: W tensorflow/compiler/tf2tensorrt/utils/py_utils.cc:38] TF-TRT Warning: Could not find TensorRT\n"
          ]
        },
        {
          "output_type": "stream",
          "name": "stdout",
          "text": [
            "\u001b[2m\u001b[36m(launch_and_evaluate pid=7359)\u001b[0m [Client 6] evaluate, config: {}\n"
          ]
        },
        {
          "output_type": "stream",
          "name": "stderr",
          "text": [
            "\u001b[2m\u001b[36m(pid=7430)\u001b[0m 2023-06-10 04:25:11.768083: W tensorflow/compiler/tf2tensorrt/utils/py_utils.cc:38] TF-TRT Warning: Could not find TensorRT\n"
          ]
        },
        {
          "output_type": "stream",
          "name": "stdout",
          "text": [
            "\u001b[2m\u001b[36m(launch_and_evaluate pid=7430)\u001b[0m [Client 9] evaluate, config: {}\n"
          ]
        },
        {
          "output_type": "stream",
          "name": "stderr",
          "text": [
            "\u001b[2m\u001b[36m(pid=7492)\u001b[0m 2023-06-10 04:25:19.530248: W tensorflow/compiler/tf2tensorrt/utils/py_utils.cc:38] TF-TRT Warning: Could not find TensorRT\n"
          ]
        },
        {
          "output_type": "stream",
          "name": "stdout",
          "text": [
            "\u001b[2m\u001b[36m(launch_and_evaluate pid=7492)\u001b[0m [Client 8] evaluate, config: {}\n"
          ]
        },
        {
          "output_type": "stream",
          "name": "stderr",
          "text": [
            "DEBUG flwr 2023-06-10 04:25:24,271 | server.py:182 | evaluate_round 8 received 3 results and 0 failures\n",
            "DEBUG:flwr:evaluate_round 8 received 3 results and 0 failures\n",
            "DEBUG flwr 2023-06-10 04:25:24,278 | server.py:218 | fit_round 9: strategy sampled 3 clients (out of 10)\n",
            "DEBUG:flwr:fit_round 9: strategy sampled 3 clients (out of 10)\n",
            "\u001b[2m\u001b[36m(pid=7584)\u001b[0m 2023-06-10 04:25:30.080847: W tensorflow/compiler/tf2tensorrt/utils/py_utils.cc:38] TF-TRT Warning: Could not find TensorRT\n"
          ]
        },
        {
          "output_type": "stream",
          "name": "stdout",
          "text": [
            "\u001b[2m\u001b[36m(launch_and_fit pid=7584)\u001b[0m [Client 9, round 9] fit, config: {'server_round': 9, 'local_epochs': 2}\n",
            "\u001b[2m\u001b[36m(launch_and_fit pid=7584)\u001b[0m Epoch 1: train loss 0.041174132376909256, accuracy 0.5297777777777778\n",
            "\u001b[2m\u001b[36m(launch_and_fit pid=7584)\u001b[0m Epoch 2: train loss 0.03813923895359039, accuracy 0.5593333333333333\n"
          ]
        },
        {
          "output_type": "stream",
          "name": "stderr",
          "text": [
            "\u001b[2m\u001b[36m(pid=7670)\u001b[0m 2023-06-10 04:25:41.417879: W tensorflow/compiler/tf2tensorrt/utils/py_utils.cc:38] TF-TRT Warning: Could not find TensorRT\n"
          ]
        },
        {
          "output_type": "stream",
          "name": "stdout",
          "text": [
            "\u001b[2m\u001b[36m(launch_and_fit pid=7670)\u001b[0m [Client 2, round 9] fit, config: {'server_round': 9, 'local_epochs': 2}\n",
            "\u001b[2m\u001b[36m(launch_and_fit pid=7670)\u001b[0m Epoch 1: train loss 0.03979738801717758, accuracy 0.5482222222222223\n",
            "\u001b[2m\u001b[36m(launch_and_fit pid=7670)\u001b[0m Epoch 2: train loss 0.03688126802444458, accuracy 0.5757777777777778\n"
          ]
        },
        {
          "output_type": "stream",
          "name": "stderr",
          "text": [
            "\u001b[2m\u001b[36m(pid=7758)\u001b[0m 2023-06-10 04:25:53.872911: W tensorflow/compiler/tf2tensorrt/utils/py_utils.cc:38] TF-TRT Warning: Could not find TensorRT\n"
          ]
        },
        {
          "output_type": "stream",
          "name": "stdout",
          "text": [
            "\u001b[2m\u001b[36m(launch_and_fit pid=7758)\u001b[0m [Client 5, round 9] fit, config: {'server_round': 9, 'local_epochs': 2}\n",
            "\u001b[2m\u001b[36m(launch_and_fit pid=7758)\u001b[0m Epoch 1: train loss 0.042464833706617355, accuracy 0.5126666666666667\n"
          ]
        },
        {
          "output_type": "stream",
          "name": "stderr",
          "text": [
            "DEBUG flwr 2023-06-10 04:26:01,217 | server.py:232 | fit_round 9 received 3 results and 0 failures\n",
            "DEBUG:flwr:fit_round 9 received 3 results and 0 failures\n"
          ]
        },
        {
          "output_type": "stream",
          "name": "stdout",
          "text": [
            "\u001b[2m\u001b[36m(launch_and_fit pid=7758)\u001b[0m Epoch 2: train loss 0.03942156583070755, accuracy 0.5482222222222223\n"
          ]
        },
        {
          "output_type": "stream",
          "name": "stderr",
          "text": [
            "INFO flwr 2023-06-10 04:26:04,774 | server.py:119 | fit progress: (9, 0.039256387114524845, {'accuracy': 0.5516}, 558.169780673)\n",
            "INFO:flwr:fit progress: (9, 0.039256387114524845, {'accuracy': 0.5516}, 558.169780673)\n",
            "DEBUG flwr 2023-06-10 04:26:04,784 | server.py:168 | evaluate_round 9: strategy sampled 3 clients (out of 10)\n",
            "DEBUG:flwr:evaluate_round 9: strategy sampled 3 clients (out of 10)\n"
          ]
        },
        {
          "output_type": "stream",
          "name": "stdout",
          "text": [
            "Server-side evaluation loss 0.039256387114524845 / accuracy 0.5516\n"
          ]
        },
        {
          "output_type": "stream",
          "name": "stderr",
          "text": [
            "\u001b[2m\u001b[36m(pid=7892)\u001b[0m 2023-06-10 04:26:13.135799: W tensorflow/compiler/tf2tensorrt/utils/py_utils.cc:38] TF-TRT Warning: Could not find TensorRT\n"
          ]
        },
        {
          "output_type": "stream",
          "name": "stdout",
          "text": [
            "\u001b[2m\u001b[36m(launch_and_evaluate pid=7892)\u001b[0m [Client 6] evaluate, config: {}\n"
          ]
        },
        {
          "output_type": "stream",
          "name": "stderr",
          "text": [
            "\u001b[2m\u001b[36m(pid=7954)\u001b[0m 2023-06-10 04:26:19.591694: W tensorflow/compiler/tf2tensorrt/utils/py_utils.cc:38] TF-TRT Warning: Could not find TensorRT\n"
          ]
        },
        {
          "output_type": "stream",
          "name": "stdout",
          "text": [
            "\u001b[2m\u001b[36m(launch_and_evaluate pid=7954)\u001b[0m [Client 7] evaluate, config: {}\n"
          ]
        },
        {
          "output_type": "stream",
          "name": "stderr",
          "text": [
            "\u001b[2m\u001b[36m(pid=8029)\u001b[0m 2023-06-10 04:26:27.956814: W tensorflow/compiler/tf2tensorrt/utils/py_utils.cc:38] TF-TRT Warning: Could not find TensorRT\n"
          ]
        },
        {
          "output_type": "stream",
          "name": "stdout",
          "text": [
            "\u001b[2m\u001b[36m(launch_and_evaluate pid=8029)\u001b[0m [Client 2] evaluate, config: {}\n"
          ]
        },
        {
          "output_type": "stream",
          "name": "stderr",
          "text": [
            "DEBUG flwr 2023-06-10 04:26:32,046 | server.py:182 | evaluate_round 9 received 3 results and 0 failures\n",
            "DEBUG:flwr:evaluate_round 9 received 3 results and 0 failures\n",
            "DEBUG flwr 2023-06-10 04:26:32,051 | server.py:218 | fit_round 10: strategy sampled 3 clients (out of 10)\n",
            "DEBUG:flwr:fit_round 10: strategy sampled 3 clients (out of 10)\n",
            "\u001b[2m\u001b[36m(pid=8107)\u001b[0m 2023-06-10 04:26:40.675299: W tensorflow/compiler/tf2tensorrt/utils/py_utils.cc:38] TF-TRT Warning: Could not find TensorRT\n"
          ]
        },
        {
          "output_type": "stream",
          "name": "stdout",
          "text": [
            "\u001b[2m\u001b[36m(launch_and_fit pid=8107)\u001b[0m [Client 1, round 10] fit, config: {'server_round': 10, 'local_epochs': 2}\n",
            "\u001b[2m\u001b[36m(launch_and_fit pid=8107)\u001b[0m Epoch 1: train loss 0.039969976991415024, accuracy 0.5386666666666666\n",
            "\u001b[2m\u001b[36m(launch_and_fit pid=8107)\u001b[0m Epoch 2: train loss 0.03670576587319374, accuracy 0.588\n"
          ]
        },
        {
          "output_type": "stream",
          "name": "stderr",
          "text": [
            "\u001b[2m\u001b[36m(pid=8200)\u001b[0m 2023-06-10 04:26:49.981135: W tensorflow/compiler/tf2tensorrt/utils/py_utils.cc:38] TF-TRT Warning: Could not find TensorRT\n"
          ]
        },
        {
          "output_type": "stream",
          "name": "stdout",
          "text": [
            "\u001b[2m\u001b[36m(launch_and_fit pid=8200)\u001b[0m [Client 2, round 10] fit, config: {'server_round': 10, 'local_epochs': 2}\n",
            "\u001b[2m\u001b[36m(launch_and_fit pid=8200)\u001b[0m Epoch 1: train loss 0.03782032057642937, accuracy 0.5697777777777778\n",
            "\u001b[2m\u001b[36m(launch_and_fit pid=8200)\u001b[0m Epoch 2: train loss 0.03461236134171486, accuracy 0.5993333333333334\n"
          ]
        },
        {
          "output_type": "stream",
          "name": "stderr",
          "text": [
            "\u001b[2m\u001b[36m(pid=8291)\u001b[0m 2023-06-10 04:27:01.836093: W tensorflow/compiler/tf2tensorrt/utils/py_utils.cc:38] TF-TRT Warning: Could not find TensorRT\n"
          ]
        },
        {
          "output_type": "stream",
          "name": "stdout",
          "text": [
            "\u001b[2m\u001b[36m(launch_and_fit pid=8291)\u001b[0m [Client 7, round 10] fit, config: {'server_round': 10, 'local_epochs': 2}\n",
            "\u001b[2m\u001b[36m(launch_and_fit pid=8291)\u001b[0m Epoch 1: train loss 0.037931010127067566, accuracy 0.5548888888888889\n"
          ]
        },
        {
          "output_type": "stream",
          "name": "stderr",
          "text": [
            "DEBUG flwr 2023-06-10 04:27:10,418 | server.py:232 | fit_round 10 received 3 results and 0 failures\n",
            "DEBUG:flwr:fit_round 10 received 3 results and 0 failures\n"
          ]
        },
        {
          "output_type": "stream",
          "name": "stdout",
          "text": [
            "\u001b[2m\u001b[36m(launch_and_fit pid=8291)\u001b[0m Epoch 2: train loss 0.034977637231349945, accuracy 0.5977777777777777\n"
          ]
        },
        {
          "output_type": "stream",
          "name": "stderr",
          "text": [
            "INFO flwr 2023-06-10 04:27:14,463 | server.py:119 | fit progress: (10, 0.0385150573015213, {'accuracy': 0.5637}, 627.8583216629999)\n",
            "INFO:flwr:fit progress: (10, 0.0385150573015213, {'accuracy': 0.5637}, 627.8583216629999)\n",
            "DEBUG flwr 2023-06-10 04:27:14,469 | server.py:168 | evaluate_round 10: strategy sampled 3 clients (out of 10)\n",
            "DEBUG:flwr:evaluate_round 10: strategy sampled 3 clients (out of 10)\n"
          ]
        },
        {
          "output_type": "stream",
          "name": "stdout",
          "text": [
            "Server-side evaluation loss 0.0385150573015213 / accuracy 0.5637\n"
          ]
        },
        {
          "output_type": "stream",
          "name": "stderr",
          "text": [
            "\u001b[2m\u001b[36m(pid=8414)\u001b[0m 2023-06-10 04:27:20.125732: W tensorflow/compiler/tf2tensorrt/utils/py_utils.cc:38] TF-TRT Warning: Could not find TensorRT\n"
          ]
        },
        {
          "output_type": "stream",
          "name": "stdout",
          "text": [
            "\u001b[2m\u001b[36m(launch_and_evaluate pid=8414)\u001b[0m [Client 3] evaluate, config: {}\n"
          ]
        },
        {
          "output_type": "stream",
          "name": "stderr",
          "text": [
            "\u001b[2m\u001b[36m(pid=8481)\u001b[0m 2023-06-10 04:27:28.309865: W tensorflow/compiler/tf2tensorrt/utils/py_utils.cc:38] TF-TRT Warning: Could not find TensorRT\n"
          ]
        },
        {
          "output_type": "stream",
          "name": "stdout",
          "text": [
            "\u001b[2m\u001b[36m(launch_and_evaluate pid=8481)\u001b[0m [Client 8] evaluate, config: {}\n"
          ]
        },
        {
          "output_type": "stream",
          "name": "stderr",
          "text": [
            "\u001b[2m\u001b[36m(pid=8545)\u001b[0m 2023-06-10 04:27:33.982676: W tensorflow/compiler/tf2tensorrt/utils/py_utils.cc:38] TF-TRT Warning: Could not find TensorRT\n"
          ]
        },
        {
          "output_type": "stream",
          "name": "stdout",
          "text": [
            "\u001b[2m\u001b[36m(launch_and_evaluate pid=8545)\u001b[0m [Client 5] evaluate, config: {}\n"
          ]
        },
        {
          "output_type": "stream",
          "name": "stderr",
          "text": [
            "DEBUG flwr 2023-06-10 04:27:38,022 | server.py:182 | evaluate_round 10 received 3 results and 0 failures\n",
            "DEBUG:flwr:evaluate_round 10 received 3 results and 0 failures\n",
            "INFO flwr 2023-06-10 04:27:38,028 | server.py:147 | FL finished in 651.4232636169999\n",
            "INFO:flwr:FL finished in 651.4232636169999\n",
            "INFO flwr 2023-06-10 04:27:38,031 | app.py:218 | app_fit: losses_distributed [(1, 0.06275809367497763), (2, 0.05207230385144551), (3, 0.05034329891204834), (4, 0.045941783428192134), (5, 0.045793372909228004), (6, 0.04340951426823934), (7, 0.04210859270890554), (8, 0.04193516190846761), (9, 0.04036126768589019), (10, 0.03945956917603811)]\n",
            "INFO:flwr:app_fit: losses_distributed [(1, 0.06275809367497763), (2, 0.05207230385144551), (3, 0.05034329891204834), (4, 0.045941783428192134), (5, 0.045793372909228004), (6, 0.04340951426823934), (7, 0.04210859270890554), (8, 0.04193516190846761), (9, 0.04036126768589019), (10, 0.03945956917603811)]\n",
            "INFO flwr 2023-06-10 04:27:38,034 | app.py:219 | app_fit: metrics_distributed_fit {}\n",
            "INFO:flwr:app_fit: metrics_distributed_fit {}\n",
            "INFO flwr 2023-06-10 04:27:38,035 | app.py:220 | app_fit: metrics_distributed {'accuracy': [(1, 0.2773333333333334), (2, 0.40399999999999997), (3, 0.4186666666666667), (4, 0.47533333333333333), (5, 0.48933333333333334), (6, 0.5006666666666667), (7, 0.5293333333333333), (8, 0.5393333333333333), (9, 0.5473333333333333), (10, 0.5619999999999999)]}\n",
            "INFO:flwr:app_fit: metrics_distributed {'accuracy': [(1, 0.2773333333333334), (2, 0.40399999999999997), (3, 0.4186666666666667), (4, 0.47533333333333333), (5, 0.48933333333333334), (6, 0.5006666666666667), (7, 0.5293333333333333), (8, 0.5393333333333333), (9, 0.5473333333333333), (10, 0.5619999999999999)]}\n",
            "INFO flwr 2023-06-10 04:27:38,037 | app.py:221 | app_fit: losses_centralized [(0, 0.0721239077091217), (1, 0.06099852579832077), (2, 0.05102953263521195), (3, 0.0474550833940506), (4, 0.045107418751716616), (5, 0.044027090764045713), (6, 0.042396991413831714), (7, 0.04133229306936264), (8, 0.040410005128383636), (9, 0.039256387114524845), (10, 0.0385150573015213)]\n",
            "INFO:flwr:app_fit: losses_centralized [(0, 0.0721239077091217), (1, 0.06099852579832077), (2, 0.05102953263521195), (3, 0.0474550833940506), (4, 0.045107418751716616), (5, 0.044027090764045713), (6, 0.042396991413831714), (7, 0.04133229306936264), (8, 0.040410005128383636), (9, 0.039256387114524845), (10, 0.0385150573015213)]\n",
            "INFO flwr 2023-06-10 04:27:38,039 | app.py:222 | app_fit: metrics_centralized {'accuracy': [(0, 0.1077), (1, 0.3067), (2, 0.4071), (3, 0.4368), (4, 0.4721), (5, 0.4901), (6, 0.5115), (7, 0.5271), (8, 0.5341), (9, 0.5516), (10, 0.5637)]}\n",
            "INFO:flwr:app_fit: metrics_centralized {'accuracy': [(0, 0.1077), (1, 0.3067), (2, 0.4071), (3, 0.4368), (4, 0.4721), (5, 0.4901), (6, 0.5115), (7, 0.5271), (8, 0.5341), (9, 0.5516), (10, 0.5637)]}\n"
          ]
        }
      ],
      "source": [
        "net = Net().to(DEVICE)\n",
        "simulate_cifar(StrategyCls=fl.server.strategy.FedAvg, strategyArgs=strategyConfig, net=net, num_rounds=10)"
      ],
      "metadata": {
        "is_executing": true,
        "ExecuteTime": {
          "start_time": "2023-06-10T04:06:16.731124160Z"
        },
        "colab": {
          "base_uri": "https://localhost:8080/"
        },
        "id": "NVwJ6F0MfNFt",
        "outputId": "1fa491b7-54ce-4073-ae7f-ce2bc17c9306"
      }
    },
    {
      "cell_type": "code",
      "source": [
        "net = VGG16().to(DEVICE)\n",
        "simulate_cifar(StrategyCls=fl.server.strategy.FedAvg, strategyArgs=strategyConfig, net=net, num_rounds=20)"
      ],
      "metadata": {
        "colab": {
          "base_uri": "https://localhost:8080/"
        },
        "id": "n-buPK7Xi2DN",
        "outputId": "809bc6e4-189b-4208-e0b7-db6204c1c565"
      },
      "execution_count": 11,
      "outputs": [
        {
          "output_type": "stream",
          "name": "stdout",
          "text": [
            "Files already downloaded and verified\n",
            "Files already downloaded and verified\n"
          ]
        },
        {
          "output_type": "stream",
          "name": "stderr",
          "text": [
            "INFO flwr 2023-06-10 05:37:21,783 | app.py:146 | Starting Flower simulation, config: ServerConfig(num_rounds=20, round_timeout=None)\n",
            "INFO:flwr:Starting Flower simulation, config: ServerConfig(num_rounds=20, round_timeout=None)\n",
            "2023-06-10 05:37:29,189\tINFO worker.py:1636 -- Started a local Ray instance.\n",
            "INFO flwr 2023-06-10 05:37:31,537 | app.py:180 | Flower VCE: Ray initialized with resources: {'CPU': 2.0, 'node:172.28.0.12': 1.0, 'GPU': 1.0, 'object_store_memory': 3935664537.0, 'memory': 7871329076.0}\n",
            "INFO:flwr:Flower VCE: Ray initialized with resources: {'CPU': 2.0, 'node:172.28.0.12': 1.0, 'GPU': 1.0, 'object_store_memory': 3935664537.0, 'memory': 7871329076.0}\n",
            "INFO flwr 2023-06-10 05:37:31,544 | server.py:86 | Initializing global parameters\n",
            "INFO:flwr:Initializing global parameters\n",
            "INFO flwr 2023-06-10 05:37:31,549 | server.py:269 | Using initial parameters provided by strategy\n",
            "INFO:flwr:Using initial parameters provided by strategy\n",
            "INFO flwr 2023-06-10 05:37:31,551 | server.py:88 | Evaluating initial parameters\n",
            "INFO:flwr:Evaluating initial parameters\n",
            "INFO flwr 2023-06-10 05:37:36,853 | server.py:91 | initial parameters (loss, other metrics): 0.07208236448764802, {'accuracy': 0.1}\n",
            "INFO:flwr:initial parameters (loss, other metrics): 0.07208236448764802, {'accuracy': 0.1}\n",
            "INFO flwr 2023-06-10 05:37:36,858 | server.py:101 | FL starting\n",
            "INFO:flwr:FL starting\n",
            "DEBUG flwr 2023-06-10 05:37:36,862 | server.py:218 | fit_round 1: strategy sampled 3 clients (out of 10)\n",
            "DEBUG:flwr:fit_round 1: strategy sampled 3 clients (out of 10)\n"
          ]
        },
        {
          "output_type": "stream",
          "name": "stdout",
          "text": [
            "Server-side evaluation loss 0.07208236448764802 / accuracy 0.1\n"
          ]
        },
        {
          "output_type": "stream",
          "name": "stderr",
          "text": [
            "\u001b[2m\u001b[36m(pid=39555)\u001b[0m 2023-06-10 05:37:43.367056: W tensorflow/compiler/tf2tensorrt/utils/py_utils.cc:38] TF-TRT Warning: Could not find TensorRT\n"
          ]
        },
        {
          "output_type": "stream",
          "name": "stdout",
          "text": [
            "\u001b[2m\u001b[36m(launch_and_fit pid=39555)\u001b[0m [Client 5, round 1] fit, config: {'server_round': 1, 'local_epochs': 1}\n",
            "\u001b[2m\u001b[36m(launch_and_fit pid=39555)\u001b[0m Epoch 1: train loss 0.06629124283790588, accuracy 0.1791111111111111\n"
          ]
        },
        {
          "output_type": "stream",
          "name": "stderr",
          "text": [
            "\u001b[2m\u001b[36m(pid=39644)\u001b[0m 2023-06-10 05:37:55.321936: W tensorflow/compiler/tf2tensorrt/utils/py_utils.cc:38] TF-TRT Warning: Could not find TensorRT\n"
          ]
        },
        {
          "output_type": "stream",
          "name": "stdout",
          "text": [
            "\u001b[2m\u001b[36m(launch_and_fit pid=39644)\u001b[0m [Client 9, round 1] fit, config: {'server_round': 1, 'local_epochs': 1}\n",
            "\u001b[2m\u001b[36m(launch_and_fit pid=39644)\u001b[0m Epoch 1: train loss 0.06792055815458298, accuracy 0.1602222222222222\n"
          ]
        },
        {
          "output_type": "stream",
          "name": "stderr",
          "text": [
            "\u001b[2m\u001b[36m(pid=39731)\u001b[0m 2023-06-10 05:38:07.040697: W tensorflow/compiler/tf2tensorrt/utils/py_utils.cc:38] TF-TRT Warning: Could not find TensorRT\n"
          ]
        },
        {
          "output_type": "stream",
          "name": "stdout",
          "text": [
            "\u001b[2m\u001b[36m(launch_and_fit pid=39731)\u001b[0m [Client 4, round 1] fit, config: {'server_round': 1, 'local_epochs': 1}\n",
            "\u001b[2m\u001b[36m(launch_and_fit pid=39731)\u001b[0m Epoch 1: train loss 0.0663696900010109, accuracy 0.19933333333333333\n"
          ]
        },
        {
          "output_type": "stream",
          "name": "stderr",
          "text": [
            "DEBUG flwr 2023-06-10 05:38:16,842 | server.py:232 | fit_round 1 received 3 results and 0 failures\n",
            "DEBUG:flwr:fit_round 1 received 3 results and 0 failures\n",
            "WARNING flwr 2023-06-10 05:38:17,099 | fedavg.py:243 | No fit_metrics_aggregation_fn provided\n",
            "WARNING:flwr:No fit_metrics_aggregation_fn provided\n",
            "INFO flwr 2023-06-10 05:38:22,122 | server.py:119 | fit progress: (1, 0.0817398339509964, {'accuracy': 0.1}, 45.26067365400013)\n",
            "INFO:flwr:fit progress: (1, 0.0817398339509964, {'accuracy': 0.1}, 45.26067365400013)\n",
            "DEBUG flwr 2023-06-10 05:38:22,128 | server.py:168 | evaluate_round 1: strategy sampled 3 clients (out of 10)\n",
            "DEBUG:flwr:evaluate_round 1: strategy sampled 3 clients (out of 10)\n"
          ]
        },
        {
          "output_type": "stream",
          "name": "stdout",
          "text": [
            "Server-side evaluation loss 0.0817398339509964 / accuracy 0.1\n"
          ]
        },
        {
          "output_type": "stream",
          "name": "stderr",
          "text": [
            "\u001b[2m\u001b[36m(pid=39861)\u001b[0m 2023-06-10 05:38:28.301268: W tensorflow/compiler/tf2tensorrt/utils/py_utils.cc:38] TF-TRT Warning: Could not find TensorRT\n"
          ]
        },
        {
          "output_type": "stream",
          "name": "stdout",
          "text": [
            "\u001b[2m\u001b[36m(launch_and_evaluate pid=39861)\u001b[0m [Client 5] evaluate, config: {}\n"
          ]
        },
        {
          "output_type": "stream",
          "name": "stderr",
          "text": [
            "\u001b[2m\u001b[36m(pid=39930)\u001b[0m 2023-06-10 05:38:36.434953: W tensorflow/compiler/tf2tensorrt/utils/py_utils.cc:38] TF-TRT Warning: Could not find TensorRT\n"
          ]
        },
        {
          "output_type": "stream",
          "name": "stdout",
          "text": [
            "\u001b[2m\u001b[36m(launch_and_evaluate pid=39930)\u001b[0m [Client 7] evaluate, config: {}\n"
          ]
        },
        {
          "output_type": "stream",
          "name": "stderr",
          "text": [
            "\u001b[2m\u001b[36m(pid=39992)\u001b[0m 2023-06-10 05:38:42.690162: W tensorflow/compiler/tf2tensorrt/utils/py_utils.cc:38] TF-TRT Warning: Could not find TensorRT\n"
          ]
        },
        {
          "output_type": "stream",
          "name": "stdout",
          "text": [
            "\u001b[2m\u001b[36m(launch_and_evaluate pid=39992)\u001b[0m [Client 2] evaluate, config: {}\n"
          ]
        },
        {
          "output_type": "stream",
          "name": "stderr",
          "text": [
            "DEBUG flwr 2023-06-10 05:38:48,950 | server.py:182 | evaluate_round 1 received 3 results and 0 failures\n",
            "DEBUG:flwr:evaluate_round 1 received 3 results and 0 failures\n",
            "DEBUG flwr 2023-06-10 05:38:48,953 | server.py:218 | fit_round 2: strategy sampled 3 clients (out of 10)\n",
            "DEBUG:flwr:fit_round 2: strategy sampled 3 clients (out of 10)\n",
            "\u001b[2m\u001b[36m(pid=40080)\u001b[0m 2023-06-10 05:38:54.787599: W tensorflow/compiler/tf2tensorrt/utils/py_utils.cc:38] TF-TRT Warning: Could not find TensorRT\n"
          ]
        },
        {
          "output_type": "stream",
          "name": "stdout",
          "text": [
            "\u001b[2m\u001b[36m(launch_and_fit pid=40080)\u001b[0m [Client 7, round 2] fit, config: {'server_round': 2, 'local_epochs': 2}\n",
            "\u001b[2m\u001b[36m(launch_and_fit pid=40080)\u001b[0m Epoch 1: train loss 0.06571757793426514, accuracy 0.1831111111111111\n",
            "\u001b[2m\u001b[36m(launch_and_fit pid=40080)\u001b[0m Epoch 2: train loss 0.06146562471985817, accuracy 0.22933333333333333\n"
          ]
        },
        {
          "output_type": "stream",
          "name": "stderr",
          "text": [
            "\u001b[2m\u001b[36m(pid=40192)\u001b[0m 2023-06-10 05:39:11.479591: W tensorflow/compiler/tf2tensorrt/utils/py_utils.cc:38] TF-TRT Warning: Could not find TensorRT\n"
          ]
        },
        {
          "output_type": "stream",
          "name": "stdout",
          "text": [
            "\u001b[2m\u001b[36m(launch_and_fit pid=40192)\u001b[0m [Client 8, round 2] fit, config: {'server_round': 2, 'local_epochs': 2}\n",
            "\u001b[2m\u001b[36m(launch_and_fit pid=40192)\u001b[0m Epoch 1: train loss 0.06509071588516235, accuracy 0.18022222222222223\n",
            "\u001b[2m\u001b[36m(launch_and_fit pid=40192)\u001b[0m Epoch 2: train loss 0.06077122688293457, accuracy 0.21155555555555555\n"
          ]
        },
        {
          "output_type": "stream",
          "name": "stderr",
          "text": [
            "\u001b[2m\u001b[36m(pid=40301)\u001b[0m 2023-06-10 05:39:28.679435: W tensorflow/compiler/tf2tensorrt/utils/py_utils.cc:38] TF-TRT Warning: Could not find TensorRT\n"
          ]
        },
        {
          "output_type": "stream",
          "name": "stdout",
          "text": [
            "\u001b[2m\u001b[36m(launch_and_fit pid=40301)\u001b[0m [Client 2, round 2] fit, config: {'server_round': 2, 'local_epochs': 2}\n",
            "\u001b[2m\u001b[36m(launch_and_fit pid=40301)\u001b[0m Epoch 1: train loss 0.06599090248346329, accuracy 0.184\n"
          ]
        },
        {
          "output_type": "stream",
          "name": "stderr",
          "text": [
            "DEBUG flwr 2023-06-10 05:39:46,662 | server.py:232 | fit_round 2 received 3 results and 0 failures\n",
            "DEBUG:flwr:fit_round 2 received 3 results and 0 failures\n"
          ]
        },
        {
          "output_type": "stream",
          "name": "stdout",
          "text": [
            "\u001b[2m\u001b[36m(launch_and_fit pid=40301)\u001b[0m Epoch 2: train loss 0.06265686452388763, accuracy 0.2031111111111111\n"
          ]
        },
        {
          "output_type": "stream",
          "name": "stderr",
          "text": [
            "INFO flwr 2023-06-10 05:39:53,156 | server.py:119 | fit progress: (2, 0.08504672026634216, {'accuracy': 0.1}, 136.29417437200027)\n",
            "INFO:flwr:fit progress: (2, 0.08504672026634216, {'accuracy': 0.1}, 136.29417437200027)\n",
            "DEBUG flwr 2023-06-10 05:39:53,159 | server.py:168 | evaluate_round 2: strategy sampled 3 clients (out of 10)\n",
            "DEBUG:flwr:evaluate_round 2: strategy sampled 3 clients (out of 10)\n"
          ]
        },
        {
          "output_type": "stream",
          "name": "stdout",
          "text": [
            "Server-side evaluation loss 0.08504672026634216 / accuracy 0.1\n"
          ]
        },
        {
          "output_type": "stream",
          "name": "stderr",
          "text": [
            "\u001b[2m\u001b[36m(pid=40470)\u001b[0m 2023-06-10 05:39:59.109223: W tensorflow/compiler/tf2tensorrt/utils/py_utils.cc:38] TF-TRT Warning: Could not find TensorRT\n"
          ]
        },
        {
          "output_type": "stream",
          "name": "stdout",
          "text": [
            "\u001b[2m\u001b[36m(launch_and_evaluate pid=40470)\u001b[0m [Client 7] evaluate, config: {}\n"
          ]
        },
        {
          "output_type": "stream",
          "name": "stderr",
          "text": [
            "\u001b[2m\u001b[36m(pid=40535)\u001b[0m 2023-06-10 05:40:07.485495: W tensorflow/compiler/tf2tensorrt/utils/py_utils.cc:38] TF-TRT Warning: Could not find TensorRT\n"
          ]
        },
        {
          "output_type": "stream",
          "name": "stdout",
          "text": [
            "\u001b[2m\u001b[36m(launch_and_evaluate pid=40535)\u001b[0m [Client 0] evaluate, config: {}\n"
          ]
        },
        {
          "output_type": "stream",
          "name": "stderr",
          "text": [
            "\u001b[2m\u001b[36m(pid=40605)\u001b[0m 2023-06-10 05:40:13.538351: W tensorflow/compiler/tf2tensorrt/utils/py_utils.cc:38] TF-TRT Warning: Could not find TensorRT\n"
          ]
        },
        {
          "output_type": "stream",
          "name": "stdout",
          "text": [
            "\u001b[2m\u001b[36m(launch_and_evaluate pid=40605)\u001b[0m [Client 4] evaluate, config: {}\n"
          ]
        },
        {
          "output_type": "stream",
          "name": "stderr",
          "text": [
            "DEBUG flwr 2023-06-10 05:40:18,164 | server.py:182 | evaluate_round 2 received 3 results and 0 failures\n",
            "DEBUG:flwr:evaluate_round 2 received 3 results and 0 failures\n",
            "DEBUG flwr 2023-06-10 05:40:18,168 | server.py:218 | fit_round 3: strategy sampled 3 clients (out of 10)\n",
            "DEBUG:flwr:fit_round 3: strategy sampled 3 clients (out of 10)\n",
            "\u001b[2m\u001b[36m(pid=40693)\u001b[0m 2023-06-10 05:40:25.744749: W tensorflow/compiler/tf2tensorrt/utils/py_utils.cc:38] TF-TRT Warning: Could not find TensorRT\n"
          ]
        },
        {
          "output_type": "stream",
          "name": "stdout",
          "text": [
            "\u001b[2m\u001b[36m(launch_and_fit pid=40693)\u001b[0m [Client 8, round 3] fit, config: {'server_round': 3, 'local_epochs': 2}\n",
            "\u001b[2m\u001b[36m(launch_and_fit pid=40693)\u001b[0m Epoch 1: train loss 0.061228442937135696, accuracy 0.22044444444444444\n",
            "\u001b[2m\u001b[36m(launch_and_fit pid=40693)\u001b[0m Epoch 2: train loss 0.058244358748197556, accuracy 0.2762222222222222\n"
          ]
        },
        {
          "output_type": "stream",
          "name": "stderr",
          "text": [
            "\u001b[2m\u001b[36m(pid=40801)\u001b[0m 2023-06-10 05:40:42.562105: W tensorflow/compiler/tf2tensorrt/utils/py_utils.cc:38] TF-TRT Warning: Could not find TensorRT\n"
          ]
        },
        {
          "output_type": "stream",
          "name": "stdout",
          "text": [
            "\u001b[2m\u001b[36m(launch_and_fit pid=40801)\u001b[0m [Client 2, round 3] fit, config: {'server_round': 3, 'local_epochs': 2}\n",
            "\u001b[2m\u001b[36m(launch_and_fit pid=40801)\u001b[0m Epoch 1: train loss 0.06120970472693443, accuracy 0.24133333333333334\n",
            "\u001b[2m\u001b[36m(launch_and_fit pid=40801)\u001b[0m Epoch 2: train loss 0.05750716105103493, accuracy 0.2991111111111111\n"
          ]
        },
        {
          "output_type": "stream",
          "name": "stderr",
          "text": [
            "\u001b[2m\u001b[36m(pid=40910)\u001b[0m 2023-06-10 05:40:59.173479: W tensorflow/compiler/tf2tensorrt/utils/py_utils.cc:38] TF-TRT Warning: Could not find TensorRT\n"
          ]
        },
        {
          "output_type": "stream",
          "name": "stdout",
          "text": [
            "\u001b[2m\u001b[36m(launch_and_fit pid=40910)\u001b[0m [Client 6, round 3] fit, config: {'server_round': 3, 'local_epochs': 2}\n",
            "\u001b[2m\u001b[36m(launch_and_fit pid=40910)\u001b[0m Epoch 1: train loss 0.06291741877794266, accuracy 0.22844444444444445\n"
          ]
        },
        {
          "output_type": "stream",
          "name": "stderr",
          "text": [
            "DEBUG flwr 2023-06-10 05:41:14,026 | server.py:232 | fit_round 3 received 3 results and 0 failures\n",
            "DEBUG:flwr:fit_round 3 received 3 results and 0 failures\n"
          ]
        },
        {
          "output_type": "stream",
          "name": "stdout",
          "text": [
            "\u001b[2m\u001b[36m(launch_and_fit pid=40910)\u001b[0m Epoch 2: train loss 0.05876464769244194, accuracy 0.27444444444444444\n"
          ]
        },
        {
          "output_type": "stream",
          "name": "stderr",
          "text": [
            "INFO flwr 2023-06-10 05:41:19,161 | server.py:119 | fit progress: (3, 0.05848282675743103, {'accuracy': 0.2654}, 222.2993260130006)\n",
            "INFO:flwr:fit progress: (3, 0.05848282675743103, {'accuracy': 0.2654}, 222.2993260130006)\n",
            "DEBUG flwr 2023-06-10 05:41:19,166 | server.py:168 | evaluate_round 3: strategy sampled 3 clients (out of 10)\n",
            "DEBUG:flwr:evaluate_round 3: strategy sampled 3 clients (out of 10)\n"
          ]
        },
        {
          "output_type": "stream",
          "name": "stdout",
          "text": [
            "Server-side evaluation loss 0.05848282675743103 / accuracy 0.2654\n"
          ]
        },
        {
          "output_type": "stream",
          "name": "stderr",
          "text": [
            "\u001b[2m\u001b[36m(pid=41067)\u001b[0m 2023-06-10 05:41:26.899618: W tensorflow/compiler/tf2tensorrt/utils/py_utils.cc:38] TF-TRT Warning: Could not find TensorRT\n"
          ]
        },
        {
          "output_type": "stream",
          "name": "stdout",
          "text": [
            "\u001b[2m\u001b[36m(launch_and_evaluate pid=41067)\u001b[0m [Client 8] evaluate, config: {}\n"
          ]
        },
        {
          "output_type": "stream",
          "name": "stderr",
          "text": [
            "\u001b[2m\u001b[36m(pid=41131)\u001b[0m 2023-06-10 05:41:32.958171: W tensorflow/compiler/tf2tensorrt/utils/py_utils.cc:38] TF-TRT Warning: Could not find TensorRT\n"
          ]
        },
        {
          "output_type": "stream",
          "name": "stdout",
          "text": [
            "\u001b[2m\u001b[36m(launch_and_evaluate pid=41131)\u001b[0m [Client 1] evaluate, config: {}\n"
          ]
        },
        {
          "output_type": "stream",
          "name": "stderr",
          "text": [
            "\u001b[2m\u001b[36m(pid=41200)\u001b[0m 2023-06-10 05:41:41.221394: W tensorflow/compiler/tf2tensorrt/utils/py_utils.cc:38] TF-TRT Warning: Could not find TensorRT\n"
          ]
        },
        {
          "output_type": "stream",
          "name": "stdout",
          "text": [
            "\u001b[2m\u001b[36m(launch_and_evaluate pid=41200)\u001b[0m [Client 2] evaluate, config: {}\n"
          ]
        },
        {
          "output_type": "stream",
          "name": "stderr",
          "text": [
            "DEBUG flwr 2023-06-10 05:41:45,662 | server.py:182 | evaluate_round 3 received 3 results and 0 failures\n",
            "DEBUG:flwr:evaluate_round 3 received 3 results and 0 failures\n",
            "DEBUG flwr 2023-06-10 05:41:45,667 | server.py:218 | fit_round 4: strategy sampled 3 clients (out of 10)\n",
            "DEBUG:flwr:fit_round 4: strategy sampled 3 clients (out of 10)\n",
            "\u001b[2m\u001b[36m(pid=41286)\u001b[0m 2023-06-10 05:41:54.273084: W tensorflow/compiler/tf2tensorrt/utils/py_utils.cc:38] TF-TRT Warning: Could not find TensorRT\n"
          ]
        },
        {
          "output_type": "stream",
          "name": "stdout",
          "text": [
            "\u001b[2m\u001b[36m(launch_and_fit pid=41286)\u001b[0m [Client 5, round 4] fit, config: {'server_round': 4, 'local_epochs': 2}\n",
            "\u001b[2m\u001b[36m(launch_and_fit pid=41286)\u001b[0m Epoch 1: train loss 0.05580487102270126, accuracy 0.3131111111111111\n",
            "\u001b[2m\u001b[36m(launch_and_fit pid=41286)\u001b[0m Epoch 2: train loss 0.05100449547171593, accuracy 0.3731111111111111\n"
          ]
        },
        {
          "output_type": "stream",
          "name": "stderr",
          "text": [
            "\u001b[2m\u001b[36m(pid=41400)\u001b[0m 2023-06-10 05:42:11.023526: W tensorflow/compiler/tf2tensorrt/utils/py_utils.cc:38] TF-TRT Warning: Could not find TensorRT\n"
          ]
        },
        {
          "output_type": "stream",
          "name": "stdout",
          "text": [
            "\u001b[2m\u001b[36m(launch_and_fit pid=41400)\u001b[0m [Client 4, round 4] fit, config: {'server_round': 4, 'local_epochs': 2}\n",
            "\u001b[2m\u001b[36m(launch_and_fit pid=41400)\u001b[0m Epoch 1: train loss 0.05559723451733589, accuracy 0.31022222222222223\n",
            "\u001b[2m\u001b[36m(launch_and_fit pid=41400)\u001b[0m Epoch 2: train loss 0.050949230790138245, accuracy 0.3811111111111111\n"
          ]
        },
        {
          "output_type": "stream",
          "name": "stderr",
          "text": [
            "\u001b[2m\u001b[36m(pid=41511)\u001b[0m 2023-06-10 05:42:28.823828: W tensorflow/compiler/tf2tensorrt/utils/py_utils.cc:38] TF-TRT Warning: Could not find TensorRT\n"
          ]
        },
        {
          "output_type": "stream",
          "name": "stdout",
          "text": [
            "\u001b[2m\u001b[36m(launch_and_fit pid=41511)\u001b[0m [Client 6, round 4] fit, config: {'server_round': 4, 'local_epochs': 2}\n",
            "\u001b[2m\u001b[36m(launch_and_fit pid=41511)\u001b[0m Epoch 1: train loss 0.05561712384223938, accuracy 0.32711111111111113\n"
          ]
        },
        {
          "output_type": "stream",
          "name": "stderr",
          "text": [
            "DEBUG flwr 2023-06-10 05:42:45,334 | server.py:232 | fit_round 4 received 3 results and 0 failures\n",
            "DEBUG:flwr:fit_round 4 received 3 results and 0 failures\n"
          ]
        },
        {
          "output_type": "stream",
          "name": "stdout",
          "text": [
            "\u001b[2m\u001b[36m(launch_and_fit pid=41511)\u001b[0m Epoch 2: train loss 0.05068599060177803, accuracy 0.37777777777777777\n"
          ]
        },
        {
          "output_type": "stream",
          "name": "stderr",
          "text": [
            "INFO flwr 2023-06-10 05:42:50,345 | server.py:119 | fit progress: (4, 0.04591027809381485, {'accuracy': 0.4288}, 313.48282095800005)\n",
            "INFO:flwr:fit progress: (4, 0.04591027809381485, {'accuracy': 0.4288}, 313.48282095800005)\n",
            "DEBUG flwr 2023-06-10 05:42:50,349 | server.py:168 | evaluate_round 4: strategy sampled 3 clients (out of 10)\n",
            "DEBUG:flwr:evaluate_round 4: strategy sampled 3 clients (out of 10)\n"
          ]
        },
        {
          "output_type": "stream",
          "name": "stdout",
          "text": [
            "Server-side evaluation loss 0.04591027809381485 / accuracy 0.4288\n"
          ]
        },
        {
          "output_type": "stream",
          "name": "stderr",
          "text": [
            "\u001b[2m\u001b[36m(pid=41684)\u001b[0m 2023-06-10 05:42:58.241030: W tensorflow/compiler/tf2tensorrt/utils/py_utils.cc:38] TF-TRT Warning: Could not find TensorRT\n"
          ]
        },
        {
          "output_type": "stream",
          "name": "stdout",
          "text": [
            "\u001b[2m\u001b[36m(launch_and_evaluate pid=41684)\u001b[0m [Client 5] evaluate, config: {}\n"
          ]
        },
        {
          "output_type": "stream",
          "name": "stderr",
          "text": [
            "\u001b[2m\u001b[36m(pid=41744)\u001b[0m 2023-06-10 05:43:04.507170: W tensorflow/compiler/tf2tensorrt/utils/py_utils.cc:38] TF-TRT Warning: Could not find TensorRT\n"
          ]
        },
        {
          "output_type": "stream",
          "name": "stdout",
          "text": [
            "\u001b[2m\u001b[36m(launch_and_evaluate pid=41744)\u001b[0m [Client 6] evaluate, config: {}\n"
          ]
        },
        {
          "output_type": "stream",
          "name": "stderr",
          "text": [
            "\u001b[2m\u001b[36m(pid=41813)\u001b[0m 2023-06-10 05:43:12.925767: W tensorflow/compiler/tf2tensorrt/utils/py_utils.cc:38] TF-TRT Warning: Could not find TensorRT\n"
          ]
        },
        {
          "output_type": "stream",
          "name": "stdout",
          "text": [
            "\u001b[2m\u001b[36m(launch_and_evaluate pid=41813)\u001b[0m [Client 3] evaluate, config: {}\n"
          ]
        },
        {
          "output_type": "stream",
          "name": "stderr",
          "text": [
            "DEBUG flwr 2023-06-10 05:43:17,225 | server.py:182 | evaluate_round 4 received 3 results and 0 failures\n",
            "DEBUG:flwr:evaluate_round 4 received 3 results and 0 failures\n",
            "DEBUG flwr 2023-06-10 05:43:17,229 | server.py:218 | fit_round 5: strategy sampled 3 clients (out of 10)\n",
            "DEBUG:flwr:fit_round 5: strategy sampled 3 clients (out of 10)\n",
            "\u001b[2m\u001b[36m(pid=41899)\u001b[0m 2023-06-10 05:43:25.851243: W tensorflow/compiler/tf2tensorrt/utils/py_utils.cc:38] TF-TRT Warning: Could not find TensorRT\n"
          ]
        },
        {
          "output_type": "stream",
          "name": "stdout",
          "text": [
            "\u001b[2m\u001b[36m(launch_and_fit pid=41899)\u001b[0m [Client 4, round 5] fit, config: {'server_round': 5, 'local_epochs': 2}\n",
            "\u001b[2m\u001b[36m(launch_and_fit pid=41899)\u001b[0m Epoch 1: train loss 0.04886705055832863, accuracy 0.40755555555555556\n",
            "\u001b[2m\u001b[36m(launch_and_fit pid=41899)\u001b[0m Epoch 2: train loss 0.0460747554898262, accuracy 0.4311111111111111\n"
          ]
        },
        {
          "output_type": "stream",
          "name": "stderr",
          "text": [
            "\u001b[2m\u001b[36m(pid=42013)\u001b[0m 2023-06-10 05:43:42.420295: W tensorflow/compiler/tf2tensorrt/utils/py_utils.cc:38] TF-TRT Warning: Could not find TensorRT\n"
          ]
        },
        {
          "output_type": "stream",
          "name": "stdout",
          "text": [
            "\u001b[2m\u001b[36m(launch_and_fit pid=42013)\u001b[0m [Client 5, round 5] fit, config: {'server_round': 5, 'local_epochs': 2}\n",
            "\u001b[2m\u001b[36m(launch_and_fit pid=42013)\u001b[0m Epoch 1: train loss 0.04921017587184906, accuracy 0.3828888888888889\n",
            "\u001b[2m\u001b[36m(launch_and_fit pid=42013)\u001b[0m Epoch 2: train loss 0.04678833484649658, accuracy 0.42866666666666664\n"
          ]
        },
        {
          "output_type": "stream",
          "name": "stderr",
          "text": [
            "\u001b[2m\u001b[36m(pid=42124)\u001b[0m 2023-06-10 05:43:59.309770: W tensorflow/compiler/tf2tensorrt/utils/py_utils.cc:38] TF-TRT Warning: Could not find TensorRT\n"
          ]
        },
        {
          "output_type": "stream",
          "name": "stdout",
          "text": [
            "\u001b[2m\u001b[36m(launch_and_fit pid=42124)\u001b[0m [Client 0, round 5] fit, config: {'server_round': 5, 'local_epochs': 2}\n",
            "\u001b[2m\u001b[36m(launch_and_fit pid=42124)\u001b[0m Epoch 1: train loss 0.04905266314744949, accuracy 0.4097777777777778\n"
          ]
        },
        {
          "output_type": "stream",
          "name": "stderr",
          "text": [
            "DEBUG flwr 2023-06-10 05:44:14,299 | server.py:232 | fit_round 5 received 3 results and 0 failures\n",
            "DEBUG:flwr:fit_round 5 received 3 results and 0 failures\n"
          ]
        },
        {
          "output_type": "stream",
          "name": "stdout",
          "text": [
            "\u001b[2m\u001b[36m(launch_and_fit pid=42124)\u001b[0m Epoch 2: train loss 0.04560459405183792, accuracy 0.45311111111111113\n"
          ]
        },
        {
          "output_type": "stream",
          "name": "stderr",
          "text": [
            "INFO flwr 2023-06-10 05:44:19,170 | server.py:119 | fit progress: (5, 0.04139779316186905, {'accuracy': 0.4929}, 402.3086464380003)\n",
            "INFO:flwr:fit progress: (5, 0.04139779316186905, {'accuracy': 0.4929}, 402.3086464380003)\n",
            "DEBUG flwr 2023-06-10 05:44:19,174 | server.py:168 | evaluate_round 5: strategy sampled 3 clients (out of 10)\n",
            "DEBUG:flwr:evaluate_round 5: strategy sampled 3 clients (out of 10)\n"
          ]
        },
        {
          "output_type": "stream",
          "name": "stdout",
          "text": [
            "Server-side evaluation loss 0.04139779316186905 / accuracy 0.4929\n"
          ]
        },
        {
          "output_type": "stream",
          "name": "stderr",
          "text": [
            "\u001b[2m\u001b[36m(pid=42281)\u001b[0m 2023-06-10 05:44:27.594372: W tensorflow/compiler/tf2tensorrt/utils/py_utils.cc:38] TF-TRT Warning: Could not find TensorRT\n"
          ]
        },
        {
          "output_type": "stream",
          "name": "stdout",
          "text": [
            "\u001b[2m\u001b[36m(launch_and_evaluate pid=42281)\u001b[0m [Client 9] evaluate, config: {}\n"
          ]
        },
        {
          "output_type": "stream",
          "name": "stderr",
          "text": [
            "\u001b[2m\u001b[36m(pid=42345)\u001b[0m 2023-06-10 05:44:33.490379: W tensorflow/compiler/tf2tensorrt/utils/py_utils.cc:38] TF-TRT Warning: Could not find TensorRT\n"
          ]
        },
        {
          "output_type": "stream",
          "name": "stdout",
          "text": [
            "\u001b[2m\u001b[36m(launch_and_evaluate pid=42345)\u001b[0m [Client 6] evaluate, config: {}\n"
          ]
        },
        {
          "output_type": "stream",
          "name": "stderr",
          "text": [
            "\u001b[2m\u001b[36m(pid=42409)\u001b[0m 2023-06-10 05:44:42.168756: W tensorflow/compiler/tf2tensorrt/utils/py_utils.cc:38] TF-TRT Warning: Could not find TensorRT\n"
          ]
        },
        {
          "output_type": "stream",
          "name": "stdout",
          "text": [
            "\u001b[2m\u001b[36m(launch_and_evaluate pid=42409)\u001b[0m [Client 5] evaluate, config: {}\n"
          ]
        },
        {
          "output_type": "stream",
          "name": "stderr",
          "text": [
            "DEBUG flwr 2023-06-10 05:44:46,322 | server.py:182 | evaluate_round 5 received 3 results and 0 failures\n",
            "DEBUG:flwr:evaluate_round 5 received 3 results and 0 failures\n",
            "DEBUG flwr 2023-06-10 05:44:46,333 | server.py:218 | fit_round 6: strategy sampled 3 clients (out of 10)\n",
            "DEBUG:flwr:fit_round 6: strategy sampled 3 clients (out of 10)\n",
            "\u001b[2m\u001b[36m(pid=42500)\u001b[0m 2023-06-10 05:44:52.304751: W tensorflow/compiler/tf2tensorrt/utils/py_utils.cc:38] TF-TRT Warning: Could not find TensorRT\n"
          ]
        },
        {
          "output_type": "stream",
          "name": "stdout",
          "text": [
            "\u001b[2m\u001b[36m(launch_and_fit pid=42500)\u001b[0m [Client 7, round 6] fit, config: {'server_round': 6, 'local_epochs': 2}\n",
            "\u001b[2m\u001b[36m(launch_and_fit pid=42500)\u001b[0m Epoch 1: train loss 0.04473818838596344, accuracy 0.4748888888888889\n",
            "\u001b[2m\u001b[36m(launch_and_fit pid=42500)\u001b[0m Epoch 2: train loss 0.042142704129219055, accuracy 0.49955555555555553\n"
          ]
        },
        {
          "output_type": "stream",
          "name": "stderr",
          "text": [
            "\u001b[2m\u001b[36m(pid=42613)\u001b[0m 2023-06-10 05:45:12.493657: W tensorflow/compiler/tf2tensorrt/utils/py_utils.cc:38] TF-TRT Warning: Could not find TensorRT\n"
          ]
        },
        {
          "output_type": "stream",
          "name": "stdout",
          "text": [
            "\u001b[2m\u001b[36m(launch_and_fit pid=42613)\u001b[0m [Client 9, round 6] fit, config: {'server_round': 6, 'local_epochs': 2}\n",
            "\u001b[2m\u001b[36m(launch_and_fit pid=42613)\u001b[0m Epoch 1: train loss 0.04607580602169037, accuracy 0.4504444444444444\n",
            "\u001b[2m\u001b[36m(launch_and_fit pid=42613)\u001b[0m Epoch 2: train loss 0.04248971492052078, accuracy 0.5062222222222222\n"
          ]
        },
        {
          "output_type": "stream",
          "name": "stderr",
          "text": [
            "\u001b[2m\u001b[36m(pid=42737)\u001b[0m 2023-06-10 05:45:32.758847: W tensorflow/compiler/tf2tensorrt/utils/py_utils.cc:38] TF-TRT Warning: Could not find TensorRT\n"
          ]
        },
        {
          "output_type": "stream",
          "name": "stdout",
          "text": [
            "\u001b[2m\u001b[36m(launch_and_fit pid=42737)\u001b[0m [Client 1, round 6] fit, config: {'server_round': 6, 'local_epochs': 2}\n",
            "\u001b[2m\u001b[36m(launch_and_fit pid=42737)\u001b[0m Epoch 1: train loss 0.04536694660782814, accuracy 0.4488888888888889\n"
          ]
        },
        {
          "output_type": "stream",
          "name": "stderr",
          "text": [
            "DEBUG flwr 2023-06-10 05:45:47,425 | server.py:232 | fit_round 6 received 3 results and 0 failures\n",
            "DEBUG:flwr:fit_round 6 received 3 results and 0 failures\n"
          ]
        },
        {
          "output_type": "stream",
          "name": "stdout",
          "text": [
            "\u001b[2m\u001b[36m(launch_and_fit pid=42737)\u001b[0m Epoch 2: train loss 0.042362771928310394, accuracy 0.48377777777777775\n"
          ]
        },
        {
          "output_type": "stream",
          "name": "stderr",
          "text": [
            "INFO flwr 2023-06-10 05:45:52,279 | server.py:119 | fit progress: (6, 0.03865827402472496, {'accuracy': 0.5306}, 495.4172412480002)\n",
            "INFO:flwr:fit progress: (6, 0.03865827402472496, {'accuracy': 0.5306}, 495.4172412480002)\n",
            "DEBUG flwr 2023-06-10 05:45:52,288 | server.py:168 | evaluate_round 6: strategy sampled 3 clients (out of 10)\n",
            "DEBUG:flwr:evaluate_round 6: strategy sampled 3 clients (out of 10)\n"
          ]
        },
        {
          "output_type": "stream",
          "name": "stdout",
          "text": [
            "Server-side evaluation loss 0.03865827402472496 / accuracy 0.5306\n"
          ]
        },
        {
          "output_type": "stream",
          "name": "stderr",
          "text": [
            "\u001b[2m\u001b[36m(pid=42898)\u001b[0m 2023-06-10 05:45:59.975348: W tensorflow/compiler/tf2tensorrt/utils/py_utils.cc:38] TF-TRT Warning: Could not find TensorRT\n"
          ]
        },
        {
          "output_type": "stream",
          "name": "stdout",
          "text": [
            "\u001b[2m\u001b[36m(launch_and_evaluate pid=42898)\u001b[0m [Client 2] evaluate, config: {}\n"
          ]
        },
        {
          "output_type": "stream",
          "name": "stderr",
          "text": [
            "\u001b[2m\u001b[36m(pid=42967)\u001b[0m 2023-06-10 05:46:06.991104: W tensorflow/compiler/tf2tensorrt/utils/py_utils.cc:38] TF-TRT Warning: Could not find TensorRT\n"
          ]
        },
        {
          "output_type": "stream",
          "name": "stdout",
          "text": [
            "\u001b[2m\u001b[36m(launch_and_evaluate pid=42967)\u001b[0m [Client 8] evaluate, config: {}\n"
          ]
        },
        {
          "output_type": "stream",
          "name": "stderr",
          "text": [
            "\u001b[2m\u001b[36m(pid=43031)\u001b[0m 2023-06-10 05:46:14.231805: W tensorflow/compiler/tf2tensorrt/utils/py_utils.cc:38] TF-TRT Warning: Could not find TensorRT\n"
          ]
        },
        {
          "output_type": "stream",
          "name": "stdout",
          "text": [
            "\u001b[2m\u001b[36m(launch_and_evaluate pid=43031)\u001b[0m [Client 4] evaluate, config: {}\n"
          ]
        },
        {
          "output_type": "stream",
          "name": "stderr",
          "text": [
            "DEBUG flwr 2023-06-10 05:46:20,035 | server.py:182 | evaluate_round 6 received 3 results and 0 failures\n",
            "DEBUG:flwr:evaluate_round 6 received 3 results and 0 failures\n",
            "DEBUG flwr 2023-06-10 05:46:20,042 | server.py:218 | fit_round 7: strategy sampled 3 clients (out of 10)\n",
            "DEBUG:flwr:fit_round 7: strategy sampled 3 clients (out of 10)\n",
            "\u001b[2m\u001b[36m(pid=43122)\u001b[0m 2023-06-10 05:46:25.990541: W tensorflow/compiler/tf2tensorrt/utils/py_utils.cc:38] TF-TRT Warning: Could not find TensorRT\n"
          ]
        },
        {
          "output_type": "stream",
          "name": "stdout",
          "text": [
            "\u001b[2m\u001b[36m(launch_and_fit pid=43122)\u001b[0m [Client 6, round 7] fit, config: {'server_round': 7, 'local_epochs': 2}\n",
            "\u001b[2m\u001b[36m(launch_and_fit pid=43122)\u001b[0m Epoch 1: train loss 0.042975421994924545, accuracy 0.48844444444444446\n",
            "\u001b[2m\u001b[36m(launch_and_fit pid=43122)\u001b[0m Epoch 2: train loss 0.04033055156469345, accuracy 0.5186666666666667\n"
          ]
        },
        {
          "output_type": "stream",
          "name": "stderr",
          "text": [
            "\u001b[2m\u001b[36m(pid=43235)\u001b[0m 2023-06-10 05:46:44.288474: W tensorflow/compiler/tf2tensorrt/utils/py_utils.cc:38] TF-TRT Warning: Could not find TensorRT\n"
          ]
        },
        {
          "output_type": "stream",
          "name": "stdout",
          "text": [
            "\u001b[2m\u001b[36m(launch_and_fit pid=43235)\u001b[0m [Client 7, round 7] fit, config: {'server_round': 7, 'local_epochs': 2}\n",
            "\u001b[2m\u001b[36m(launch_and_fit pid=43235)\u001b[0m Epoch 1: train loss 0.041075900197029114, accuracy 0.5122222222222222\n",
            "\u001b[2m\u001b[36m(launch_and_fit pid=43235)\u001b[0m Epoch 2: train loss 0.03864426165819168, accuracy 0.5517777777777778\n"
          ]
        },
        {
          "output_type": "stream",
          "name": "stderr",
          "text": [
            "\u001b[2m\u001b[36m(pid=43351)\u001b[0m 2023-06-10 05:47:03.994237: W tensorflow/compiler/tf2tensorrt/utils/py_utils.cc:38] TF-TRT Warning: Could not find TensorRT\n"
          ]
        },
        {
          "output_type": "stream",
          "name": "stdout",
          "text": [
            "\u001b[2m\u001b[36m(launch_and_fit pid=43351)\u001b[0m [Client 5, round 7] fit, config: {'server_round': 7, 'local_epochs': 2}\n",
            "\u001b[2m\u001b[36m(launch_and_fit pid=43351)\u001b[0m Epoch 1: train loss 0.042112406343221664, accuracy 0.49533333333333335\n",
            "\u001b[2m\u001b[36m(launch_and_fit pid=43351)\u001b[0m Epoch 2: train loss 0.03917502611875534, accuracy 0.5366666666666666\n"
          ]
        },
        {
          "output_type": "stream",
          "name": "stderr",
          "text": [
            "DEBUG flwr 2023-06-10 05:47:18,656 | server.py:232 | fit_round 7 received 3 results and 0 failures\n",
            "DEBUG:flwr:fit_round 7 received 3 results and 0 failures\n",
            "INFO flwr 2023-06-10 05:47:23,678 | server.py:119 | fit progress: (7, 0.03627242131233215, {'accuracy': 0.5637}, 586.8162157880006)\n",
            "INFO:flwr:fit progress: (7, 0.03627242131233215, {'accuracy': 0.5637}, 586.8162157880006)\n",
            "DEBUG flwr 2023-06-10 05:47:23,684 | server.py:168 | evaluate_round 7: strategy sampled 3 clients (out of 10)\n",
            "DEBUG:flwr:evaluate_round 7: strategy sampled 3 clients (out of 10)\n"
          ]
        },
        {
          "output_type": "stream",
          "name": "stdout",
          "text": [
            "Server-side evaluation loss 0.03627242131233215 / accuracy 0.5637\n"
          ]
        },
        {
          "output_type": "stream",
          "name": "stderr",
          "text": [
            "\u001b[2m\u001b[36m(pid=43513)\u001b[0m 2023-06-10 05:47:31.276681: W tensorflow/compiler/tf2tensorrt/utils/py_utils.cc:38] TF-TRT Warning: Could not find TensorRT\n"
          ]
        },
        {
          "output_type": "stream",
          "name": "stdout",
          "text": [
            "\u001b[2m\u001b[36m(launch_and_evaluate pid=43513)\u001b[0m [Client 6] evaluate, config: {}\n"
          ]
        },
        {
          "output_type": "stream",
          "name": "stderr",
          "text": [
            "\u001b[2m\u001b[36m(pid=43586)\u001b[0m 2023-06-10 05:47:38.804184: W tensorflow/compiler/tf2tensorrt/utils/py_utils.cc:38] TF-TRT Warning: Could not find TensorRT\n"
          ]
        },
        {
          "output_type": "stream",
          "name": "stdout",
          "text": [
            "\u001b[2m\u001b[36m(launch_and_evaluate pid=43586)\u001b[0m [Client 8] evaluate, config: {}\n"
          ]
        },
        {
          "output_type": "stream",
          "name": "stderr",
          "text": [
            "\u001b[2m\u001b[36m(pid=43646)\u001b[0m 2023-06-10 05:47:45.436035: W tensorflow/compiler/tf2tensorrt/utils/py_utils.cc:38] TF-TRT Warning: Could not find TensorRT\n"
          ]
        },
        {
          "output_type": "stream",
          "name": "stdout",
          "text": [
            "\u001b[2m\u001b[36m(launch_and_evaluate pid=43646)\u001b[0m [Client 5] evaluate, config: {}\n"
          ]
        },
        {
          "output_type": "stream",
          "name": "stderr",
          "text": [
            "DEBUG flwr 2023-06-10 05:47:51,767 | server.py:182 | evaluate_round 7 received 3 results and 0 failures\n",
            "DEBUG:flwr:evaluate_round 7 received 3 results and 0 failures\n",
            "DEBUG flwr 2023-06-10 05:47:51,773 | server.py:218 | fit_round 8: strategy sampled 3 clients (out of 10)\n",
            "DEBUG:flwr:fit_round 8: strategy sampled 3 clients (out of 10)\n",
            "\u001b[2m\u001b[36m(pid=43741)\u001b[0m 2023-06-10 05:47:57.798998: W tensorflow/compiler/tf2tensorrt/utils/py_utils.cc:38] TF-TRT Warning: Could not find TensorRT\n"
          ]
        },
        {
          "output_type": "stream",
          "name": "stdout",
          "text": [
            "\u001b[2m\u001b[36m(launch_and_fit pid=43741)\u001b[0m [Client 6, round 8] fit, config: {'server_round': 8, 'local_epochs': 2}\n",
            "\u001b[2m\u001b[36m(launch_and_fit pid=43741)\u001b[0m Epoch 1: train loss 0.039635032415390015, accuracy 0.5368888888888889\n",
            "\u001b[2m\u001b[36m(launch_and_fit pid=43741)\u001b[0m Epoch 2: train loss 0.0365644134581089, accuracy 0.5733333333333334\n"
          ]
        },
        {
          "output_type": "stream",
          "name": "stderr",
          "text": [
            "\u001b[2m\u001b[36m(pid=43850)\u001b[0m 2023-06-10 05:48:15.081427: W tensorflow/compiler/tf2tensorrt/utils/py_utils.cc:38] TF-TRT Warning: Could not find TensorRT\n"
          ]
        },
        {
          "output_type": "stream",
          "name": "stdout",
          "text": [
            "\u001b[2m\u001b[36m(launch_and_fit pid=43850)\u001b[0m [Client 7, round 8] fit, config: {'server_round': 8, 'local_epochs': 2}\n",
            "\u001b[2m\u001b[36m(launch_and_fit pid=43850)\u001b[0m Epoch 1: train loss 0.03854653611779213, accuracy 0.5524444444444444\n",
            "\u001b[2m\u001b[36m(launch_and_fit pid=43850)\u001b[0m Epoch 2: train loss 0.03587682172656059, accuracy 0.5855555555555556\n"
          ]
        },
        {
          "output_type": "stream",
          "name": "stderr",
          "text": [
            "\u001b[2m\u001b[36m(pid=43970)\u001b[0m 2023-06-10 05:48:35.884859: W tensorflow/compiler/tf2tensorrt/utils/py_utils.cc:38] TF-TRT Warning: Could not find TensorRT\n"
          ]
        },
        {
          "output_type": "stream",
          "name": "stdout",
          "text": [
            "\u001b[2m\u001b[36m(launch_and_fit pid=43970)\u001b[0m [Client 4, round 8] fit, config: {'server_round': 8, 'local_epochs': 2}\n",
            "\u001b[2m\u001b[36m(launch_and_fit pid=43970)\u001b[0m Epoch 1: train loss 0.03964097425341606, accuracy 0.5235555555555556\n",
            "\u001b[2m\u001b[36m(launch_and_fit pid=43970)\u001b[0m Epoch 2: train loss 0.03553438186645508, accuracy 0.5857777777777777\n"
          ]
        },
        {
          "output_type": "stream",
          "name": "stderr",
          "text": [
            "DEBUG flwr 2023-06-10 05:48:50,846 | server.py:232 | fit_round 8 received 3 results and 0 failures\n",
            "DEBUG:flwr:fit_round 8 received 3 results and 0 failures\n",
            "INFO flwr 2023-06-10 05:48:56,282 | server.py:119 | fit progress: (8, 0.03363377376198769, {'accuracy': 0.6051}, 679.420527532)\n",
            "INFO:flwr:fit progress: (8, 0.03363377376198769, {'accuracy': 0.6051}, 679.420527532)\n",
            "DEBUG flwr 2023-06-10 05:48:56,291 | server.py:168 | evaluate_round 8: strategy sampled 3 clients (out of 10)\n",
            "DEBUG:flwr:evaluate_round 8: strategy sampled 3 clients (out of 10)\n"
          ]
        },
        {
          "output_type": "stream",
          "name": "stdout",
          "text": [
            "Server-side evaluation loss 0.03363377376198769 / accuracy 0.6051\n"
          ]
        },
        {
          "output_type": "stream",
          "name": "stderr",
          "text": [
            "\u001b[2m\u001b[36m(pid=44131)\u001b[0m 2023-06-10 05:49:02.367583: W tensorflow/compiler/tf2tensorrt/utils/py_utils.cc:38] TF-TRT Warning: Could not find TensorRT\n"
          ]
        },
        {
          "output_type": "stream",
          "name": "stdout",
          "text": [
            "\u001b[2m\u001b[36m(launch_and_evaluate pid=44131)\u001b[0m [Client 2] evaluate, config: {}\n"
          ]
        },
        {
          "output_type": "stream",
          "name": "stderr",
          "text": [
            "\u001b[2m\u001b[36m(pid=44199)\u001b[0m 2023-06-10 05:49:10.968740: W tensorflow/compiler/tf2tensorrt/utils/py_utils.cc:38] TF-TRT Warning: Could not find TensorRT\n"
          ]
        },
        {
          "output_type": "stream",
          "name": "stdout",
          "text": [
            "\u001b[2m\u001b[36m(launch_and_evaluate pid=44199)\u001b[0m [Client 9] evaluate, config: {}\n"
          ]
        },
        {
          "output_type": "stream",
          "name": "stderr",
          "text": [
            "\u001b[2m\u001b[36m(pid=44260)\u001b[0m 2023-06-10 05:49:17.273923: W tensorflow/compiler/tf2tensorrt/utils/py_utils.cc:38] TF-TRT Warning: Could not find TensorRT\n"
          ]
        },
        {
          "output_type": "stream",
          "name": "stdout",
          "text": [
            "\u001b[2m\u001b[36m(launch_and_evaluate pid=44260)\u001b[0m [Client 7] evaluate, config: {}\n"
          ]
        },
        {
          "output_type": "stream",
          "name": "stderr",
          "text": [
            "DEBUG flwr 2023-06-10 05:49:23,614 | server.py:182 | evaluate_round 8 received 3 results and 0 failures\n",
            "DEBUG:flwr:evaluate_round 8 received 3 results and 0 failures\n",
            "DEBUG flwr 2023-06-10 05:49:23,617 | server.py:218 | fit_round 9: strategy sampled 3 clients (out of 10)\n",
            "DEBUG:flwr:fit_round 9: strategy sampled 3 clients (out of 10)\n",
            "\u001b[2m\u001b[36m(pid=44354)\u001b[0m 2023-06-10 05:49:29.810790: W tensorflow/compiler/tf2tensorrt/utils/py_utils.cc:38] TF-TRT Warning: Could not find TensorRT\n"
          ]
        },
        {
          "output_type": "stream",
          "name": "stdout",
          "text": [
            "\u001b[2m\u001b[36m(launch_and_fit pid=44354)\u001b[0m [Client 6, round 9] fit, config: {'server_round': 9, 'local_epochs': 2}\n",
            "\u001b[2m\u001b[36m(launch_and_fit pid=44354)\u001b[0m Epoch 1: train loss 0.036471206694841385, accuracy 0.5702222222222222\n",
            "\u001b[2m\u001b[36m(launch_and_fit pid=44354)\u001b[0m Epoch 2: train loss 0.03294238820672035, accuracy 0.6191111111111111\n"
          ]
        },
        {
          "output_type": "stream",
          "name": "stderr",
          "text": [
            "\u001b[2m\u001b[36m(pid=44464)\u001b[0m 2023-06-10 05:49:46.962746: W tensorflow/compiler/tf2tensorrt/utils/py_utils.cc:38] TF-TRT Warning: Could not find TensorRT\n"
          ]
        },
        {
          "output_type": "stream",
          "name": "stdout",
          "text": [
            "\u001b[2m\u001b[36m(launch_and_fit pid=44464)\u001b[0m [Client 8, round 9] fit, config: {'server_round': 9, 'local_epochs': 2}\n",
            "\u001b[2m\u001b[36m(launch_and_fit pid=44464)\u001b[0m Epoch 1: train loss 0.03714226931333542, accuracy 0.5626666666666666\n",
            "\u001b[2m\u001b[36m(launch_and_fit pid=44464)\u001b[0m Epoch 2: train loss 0.033424098044633865, accuracy 0.6124444444444445\n"
          ]
        },
        {
          "output_type": "stream",
          "name": "stderr",
          "text": [
            "\u001b[2m\u001b[36m(pid=44579)\u001b[0m 2023-06-10 05:50:06.327792: W tensorflow/compiler/tf2tensorrt/utils/py_utils.cc:38] TF-TRT Warning: Could not find TensorRT\n"
          ]
        },
        {
          "output_type": "stream",
          "name": "stdout",
          "text": [
            "\u001b[2m\u001b[36m(launch_and_fit pid=44579)\u001b[0m [Client 0, round 9] fit, config: {'server_round': 9, 'local_epochs': 2}\n",
            "\u001b[2m\u001b[36m(launch_and_fit pid=44579)\u001b[0m Epoch 1: train loss 0.03700767084956169, accuracy 0.5784444444444444\n",
            "\u001b[2m\u001b[36m(launch_and_fit pid=44579)\u001b[0m Epoch 2: train loss 0.03401957452297211, accuracy 0.6073333333333333\n"
          ]
        },
        {
          "output_type": "stream",
          "name": "stderr",
          "text": [
            "DEBUG flwr 2023-06-10 05:50:21,974 | server.py:232 | fit_round 9 received 3 results and 0 failures\n",
            "DEBUG:flwr:fit_round 9 received 3 results and 0 failures\n",
            "INFO flwr 2023-06-10 05:50:27,905 | server.py:119 | fit progress: (9, 0.03001194502413273, {'accuracy': 0.6543}, 771.0434189180005)\n",
            "INFO:flwr:fit progress: (9, 0.03001194502413273, {'accuracy': 0.6543}, 771.0434189180005)\n",
            "DEBUG flwr 2023-06-10 05:50:27,911 | server.py:168 | evaluate_round 9: strategy sampled 3 clients (out of 10)\n",
            "DEBUG:flwr:evaluate_round 9: strategy sampled 3 clients (out of 10)\n"
          ]
        },
        {
          "output_type": "stream",
          "name": "stdout",
          "text": [
            "Server-side evaluation loss 0.03001194502413273 / accuracy 0.6543\n"
          ]
        },
        {
          "output_type": "stream",
          "name": "stderr",
          "text": [
            "\u001b[2m\u001b[36m(pid=44744)\u001b[0m 2023-06-10 05:50:33.941591: W tensorflow/compiler/tf2tensorrt/utils/py_utils.cc:38] TF-TRT Warning: Could not find TensorRT\n"
          ]
        },
        {
          "output_type": "stream",
          "name": "stdout",
          "text": [
            "\u001b[2m\u001b[36m(launch_and_evaluate pid=44744)\u001b[0m [Client 7] evaluate, config: {}\n"
          ]
        },
        {
          "output_type": "stream",
          "name": "stderr",
          "text": [
            "\u001b[2m\u001b[36m(pid=44813)\u001b[0m 2023-06-10 05:50:42.430581: W tensorflow/compiler/tf2tensorrt/utils/py_utils.cc:38] TF-TRT Warning: Could not find TensorRT\n"
          ]
        },
        {
          "output_type": "stream",
          "name": "stdout",
          "text": [
            "\u001b[2m\u001b[36m(launch_and_evaluate pid=44813)\u001b[0m [Client 3] evaluate, config: {}\n"
          ]
        },
        {
          "output_type": "stream",
          "name": "stderr",
          "text": [
            "\u001b[2m\u001b[36m(pid=44877)\u001b[0m 2023-06-10 05:50:48.783578: W tensorflow/compiler/tf2tensorrt/utils/py_utils.cc:38] TF-TRT Warning: Could not find TensorRT\n"
          ]
        },
        {
          "output_type": "stream",
          "name": "stdout",
          "text": [
            "\u001b[2m\u001b[36m(launch_and_evaluate pid=44877)\u001b[0m [Client 5] evaluate, config: {}\n"
          ]
        },
        {
          "output_type": "stream",
          "name": "stderr",
          "text": [
            "DEBUG flwr 2023-06-10 05:50:55,158 | server.py:182 | evaluate_round 9 received 3 results and 0 failures\n",
            "DEBUG:flwr:evaluate_round 9 received 3 results and 0 failures\n",
            "DEBUG flwr 2023-06-10 05:50:55,163 | server.py:218 | fit_round 10: strategy sampled 3 clients (out of 10)\n",
            "DEBUG:flwr:fit_round 10: strategy sampled 3 clients (out of 10)\n",
            "\u001b[2m\u001b[36m(pid=44967)\u001b[0m 2023-06-10 05:51:01.344268: W tensorflow/compiler/tf2tensorrt/utils/py_utils.cc:38] TF-TRT Warning: Could not find TensorRT\n"
          ]
        },
        {
          "output_type": "stream",
          "name": "stdout",
          "text": [
            "\u001b[2m\u001b[36m(launch_and_fit pid=44967)\u001b[0m [Client 1, round 10] fit, config: {'server_round': 10, 'local_epochs': 2}\n",
            "\u001b[2m\u001b[36m(launch_and_fit pid=44967)\u001b[0m Epoch 1: train loss 0.035368651151657104, accuracy 0.592\n",
            "\u001b[2m\u001b[36m(launch_and_fit pid=44967)\u001b[0m Epoch 2: train loss 0.03175174817442894, accuracy 0.6395555555555555\n"
          ]
        },
        {
          "output_type": "stream",
          "name": "stderr",
          "text": [
            "\u001b[2m\u001b[36m(pid=45077)\u001b[0m 2023-06-10 05:51:18.466517: W tensorflow/compiler/tf2tensorrt/utils/py_utils.cc:38] TF-TRT Warning: Could not find TensorRT\n"
          ]
        },
        {
          "output_type": "stream",
          "name": "stdout",
          "text": [
            "\u001b[2m\u001b[36m(launch_and_fit pid=45077)\u001b[0m [Client 0, round 10] fit, config: {'server_round': 10, 'local_epochs': 2}\n",
            "\u001b[2m\u001b[36m(launch_and_fit pid=45077)\u001b[0m Epoch 1: train loss 0.033559784293174744, accuracy 0.6155555555555555\n",
            "\u001b[2m\u001b[36m(launch_and_fit pid=45077)\u001b[0m Epoch 2: train loss 0.030861256644129753, accuracy 0.6455555555555555\n"
          ]
        },
        {
          "output_type": "stream",
          "name": "stderr",
          "text": [
            "\u001b[2m\u001b[36m(pid=45201)\u001b[0m 2023-06-10 05:51:38.406800: W tensorflow/compiler/tf2tensorrt/utils/py_utils.cc:38] TF-TRT Warning: Could not find TensorRT\n"
          ]
        },
        {
          "output_type": "stream",
          "name": "stdout",
          "text": [
            "\u001b[2m\u001b[36m(launch_and_fit pid=45201)\u001b[0m [Client 7, round 10] fit, config: {'server_round': 10, 'local_epochs': 2}\n",
            "\u001b[2m\u001b[36m(launch_and_fit pid=45201)\u001b[0m Epoch 1: train loss 0.033807817846536636, accuracy 0.6111111111111112\n",
            "\u001b[2m\u001b[36m(launch_and_fit pid=45201)\u001b[0m Epoch 2: train loss 0.030363837257027626, accuracy 0.6408888888888888\n"
          ]
        },
        {
          "output_type": "stream",
          "name": "stderr",
          "text": [
            "DEBUG flwr 2023-06-10 05:51:55,076 | server.py:232 | fit_round 10 received 3 results and 0 failures\n",
            "DEBUG:flwr:fit_round 10 received 3 results and 0 failures\n",
            "INFO flwr 2023-06-10 05:52:01,563 | server.py:119 | fit progress: (10, 0.028988944357633592, {'accuracy': 0.6672}, 864.7014526010007)\n",
            "INFO:flwr:fit progress: (10, 0.028988944357633592, {'accuracy': 0.6672}, 864.7014526010007)\n",
            "DEBUG flwr 2023-06-10 05:52:01,571 | server.py:168 | evaluate_round 10: strategy sampled 3 clients (out of 10)\n",
            "DEBUG:flwr:evaluate_round 10: strategy sampled 3 clients (out of 10)\n"
          ]
        },
        {
          "output_type": "stream",
          "name": "stdout",
          "text": [
            "Server-side evaluation loss 0.028988944357633592 / accuracy 0.6672\n"
          ]
        },
        {
          "output_type": "stream",
          "name": "stderr",
          "text": [
            "\u001b[2m\u001b[36m(pid=45366)\u001b[0m 2023-06-10 05:52:07.695572: W tensorflow/compiler/tf2tensorrt/utils/py_utils.cc:38] TF-TRT Warning: Could not find TensorRT\n"
          ]
        },
        {
          "output_type": "stream",
          "name": "stdout",
          "text": [
            "\u001b[2m\u001b[36m(launch_and_evaluate pid=45366)\u001b[0m [Client 5] evaluate, config: {}\n"
          ]
        },
        {
          "output_type": "stream",
          "name": "stderr",
          "text": [
            "\u001b[2m\u001b[36m(pid=45434)\u001b[0m 2023-06-10 05:52:16.001353: W tensorflow/compiler/tf2tensorrt/utils/py_utils.cc:38] TF-TRT Warning: Could not find TensorRT\n"
          ]
        },
        {
          "output_type": "stream",
          "name": "stdout",
          "text": [
            "\u001b[2m\u001b[36m(launch_and_evaluate pid=45434)\u001b[0m [Client 9] evaluate, config: {}\n"
          ]
        },
        {
          "output_type": "stream",
          "name": "stderr",
          "text": [
            "\u001b[2m\u001b[36m(pid=45501)\u001b[0m 2023-06-10 05:52:22.374047: W tensorflow/compiler/tf2tensorrt/utils/py_utils.cc:38] TF-TRT Warning: Could not find TensorRT\n"
          ]
        },
        {
          "output_type": "stream",
          "name": "stdout",
          "text": [
            "\u001b[2m\u001b[36m(launch_and_evaluate pid=45501)\u001b[0m [Client 7] evaluate, config: {}\n"
          ]
        },
        {
          "output_type": "stream",
          "name": "stderr",
          "text": [
            "DEBUG flwr 2023-06-10 05:52:27,666 | server.py:182 | evaluate_round 10 received 3 results and 0 failures\n",
            "DEBUG:flwr:evaluate_round 10 received 3 results and 0 failures\n",
            "DEBUG flwr 2023-06-10 05:52:27,669 | server.py:218 | fit_round 11: strategy sampled 3 clients (out of 10)\n",
            "DEBUG:flwr:fit_round 11: strategy sampled 3 clients (out of 10)\n",
            "\u001b[2m\u001b[36m(pid=45589)\u001b[0m 2023-06-10 05:52:34.794472: W tensorflow/compiler/tf2tensorrt/utils/py_utils.cc:38] TF-TRT Warning: Could not find TensorRT\n"
          ]
        },
        {
          "output_type": "stream",
          "name": "stdout",
          "text": [
            "\u001b[2m\u001b[36m(launch_and_fit pid=45589)\u001b[0m [Client 7, round 11] fit, config: {'server_round': 11, 'local_epochs': 2}\n",
            "\u001b[2m\u001b[36m(launch_and_fit pid=45589)\u001b[0m Epoch 1: train loss 0.03017374314367771, accuracy 0.6642222222222223\n",
            "\u001b[2m\u001b[36m(launch_and_fit pid=45589)\u001b[0m Epoch 2: train loss 0.027702229097485542, accuracy 0.688\n"
          ]
        },
        {
          "output_type": "stream",
          "name": "stderr",
          "text": [
            "\u001b[2m\u001b[36m(pid=45701)\u001b[0m 2023-06-10 05:52:52.135187: W tensorflow/compiler/tf2tensorrt/utils/py_utils.cc:38] TF-TRT Warning: Could not find TensorRT\n"
          ]
        },
        {
          "output_type": "stream",
          "name": "stdout",
          "text": [
            "\u001b[2m\u001b[36m(launch_and_fit pid=45701)\u001b[0m [Client 8, round 11] fit, config: {'server_round': 11, 'local_epochs': 2}\n",
            "\u001b[2m\u001b[36m(launch_and_fit pid=45701)\u001b[0m Epoch 1: train loss 0.0328185111284256, accuracy 0.6257777777777778\n",
            "\u001b[2m\u001b[36m(launch_and_fit pid=45701)\u001b[0m Epoch 2: train loss 0.028546234592795372, accuracy 0.6771111111111111\n"
          ]
        },
        {
          "output_type": "stream",
          "name": "stderr",
          "text": [
            "\u001b[2m\u001b[36m(pid=45810)\u001b[0m 2023-06-10 05:53:09.419546: W tensorflow/compiler/tf2tensorrt/utils/py_utils.cc:38] TF-TRT Warning: Could not find TensorRT\n"
          ]
        },
        {
          "output_type": "stream",
          "name": "stdout",
          "text": [
            "\u001b[2m\u001b[36m(launch_and_fit pid=45810)\u001b[0m [Client 6, round 11] fit, config: {'server_round': 11, 'local_epochs': 2}\n",
            "\u001b[2m\u001b[36m(launch_and_fit pid=45810)\u001b[0m Epoch 1: train loss 0.031951479613780975, accuracy 0.636\n"
          ]
        },
        {
          "output_type": "stream",
          "name": "stderr",
          "text": [
            "DEBUG flwr 2023-06-10 05:53:25,284 | server.py:232 | fit_round 11 received 3 results and 0 failures\n",
            "DEBUG:flwr:fit_round 11 received 3 results and 0 failures\n"
          ]
        },
        {
          "output_type": "stream",
          "name": "stdout",
          "text": [
            "\u001b[2m\u001b[36m(launch_and_fit pid=45810)\u001b[0m Epoch 2: train loss 0.028345203027129173, accuracy 0.6786666666666666\n"
          ]
        },
        {
          "output_type": "stream",
          "name": "stderr",
          "text": [
            "INFO flwr 2023-06-10 05:53:31,840 | server.py:119 | fit progress: (11, 0.02748571893274784, {'accuracy': 0.6859}, 954.9787146590006)\n",
            "INFO:flwr:fit progress: (11, 0.02748571893274784, {'accuracy': 0.6859}, 954.9787146590006)\n",
            "DEBUG flwr 2023-06-10 05:53:31,849 | server.py:168 | evaluate_round 11: strategy sampled 3 clients (out of 10)\n",
            "DEBUG:flwr:evaluate_round 11: strategy sampled 3 clients (out of 10)\n"
          ]
        },
        {
          "output_type": "stream",
          "name": "stdout",
          "text": [
            "Server-side evaluation loss 0.02748571893274784 / accuracy 0.6859\n"
          ]
        },
        {
          "output_type": "stream",
          "name": "stderr",
          "text": [
            "\u001b[2m\u001b[36m(pid=45975)\u001b[0m 2023-06-10 05:53:38.065006: W tensorflow/compiler/tf2tensorrt/utils/py_utils.cc:38] TF-TRT Warning: Could not find TensorRT\n"
          ]
        },
        {
          "output_type": "stream",
          "name": "stdout",
          "text": [
            "\u001b[2m\u001b[36m(launch_and_evaluate pid=45975)\u001b[0m [Client 2] evaluate, config: {}\n"
          ]
        },
        {
          "output_type": "stream",
          "name": "stderr",
          "text": [
            "\u001b[2m\u001b[36m(pid=46039)\u001b[0m 2023-06-10 05:53:46.560665: W tensorflow/compiler/tf2tensorrt/utils/py_utils.cc:38] TF-TRT Warning: Could not find TensorRT\n"
          ]
        },
        {
          "output_type": "stream",
          "name": "stdout",
          "text": [
            "\u001b[2m\u001b[36m(launch_and_evaluate pid=46039)\u001b[0m [Client 4] evaluate, config: {}\n"
          ]
        },
        {
          "output_type": "stream",
          "name": "stderr",
          "text": [
            "\u001b[2m\u001b[36m(pid=46110)\u001b[0m 2023-06-10 05:53:53.063378: W tensorflow/compiler/tf2tensorrt/utils/py_utils.cc:38] TF-TRT Warning: Could not find TensorRT\n"
          ]
        },
        {
          "output_type": "stream",
          "name": "stdout",
          "text": [
            "\u001b[2m\u001b[36m(launch_and_evaluate pid=46110)\u001b[0m [Client 0] evaluate, config: {}\n"
          ]
        },
        {
          "output_type": "stream",
          "name": "stderr",
          "text": [
            "DEBUG flwr 2023-06-10 05:53:57,762 | server.py:182 | evaluate_round 11 received 3 results and 0 failures\n",
            "DEBUG:flwr:evaluate_round 11 received 3 results and 0 failures\n",
            "DEBUG flwr 2023-06-10 05:53:57,769 | server.py:218 | fit_round 12: strategy sampled 3 clients (out of 10)\n",
            "DEBUG:flwr:fit_round 12: strategy sampled 3 clients (out of 10)\n",
            "\u001b[2m\u001b[36m(pid=46202)\u001b[0m 2023-06-10 05:54:06.031569: W tensorflow/compiler/tf2tensorrt/utils/py_utils.cc:38] TF-TRT Warning: Could not find TensorRT\n"
          ]
        },
        {
          "output_type": "stream",
          "name": "stdout",
          "text": [
            "\u001b[2m\u001b[36m(launch_and_fit pid=46202)\u001b[0m [Client 1, round 12] fit, config: {'server_round': 12, 'local_epochs': 2}\n",
            "\u001b[2m\u001b[36m(launch_and_fit pid=46202)\u001b[0m Epoch 1: train loss 0.03125034645199776, accuracy 0.6444444444444445\n",
            "\u001b[2m\u001b[36m(launch_and_fit pid=46202)\u001b[0m Epoch 2: train loss 0.027074748650193214, accuracy 0.6906666666666667\n"
          ]
        },
        {
          "output_type": "stream",
          "name": "stderr",
          "text": [
            "\u001b[2m\u001b[36m(pid=46314)\u001b[0m 2023-06-10 05:54:25.307231: W tensorflow/compiler/tf2tensorrt/utils/py_utils.cc:38] TF-TRT Warning: Could not find TensorRT\n"
          ]
        },
        {
          "output_type": "stream",
          "name": "stdout",
          "text": [
            "\u001b[2m\u001b[36m(launch_and_fit pid=46314)\u001b[0m [Client 0, round 12] fit, config: {'server_round': 12, 'local_epochs': 2}\n",
            "\u001b[2m\u001b[36m(launch_and_fit pid=46314)\u001b[0m Epoch 1: train loss 0.030265025794506073, accuracy 0.6584444444444445\n",
            "\u001b[2m\u001b[36m(launch_and_fit pid=46314)\u001b[0m Epoch 2: train loss 0.027022652328014374, accuracy 0.6971111111111111\n"
          ]
        },
        {
          "output_type": "stream",
          "name": "stderr",
          "text": [
            "\u001b[2m\u001b[36m(pid=46432)\u001b[0m 2023-06-10 05:54:43.033722: W tensorflow/compiler/tf2tensorrt/utils/py_utils.cc:38] TF-TRT Warning: Could not find TensorRT\n"
          ]
        },
        {
          "output_type": "stream",
          "name": "stdout",
          "text": [
            "\u001b[2m\u001b[36m(launch_and_fit pid=46432)\u001b[0m [Client 8, round 12] fit, config: {'server_round': 12, 'local_epochs': 2}\n",
            "\u001b[2m\u001b[36m(launch_and_fit pid=46432)\u001b[0m Epoch 1: train loss 0.029533661901950836, accuracy 0.6651111111111111\n"
          ]
        },
        {
          "output_type": "stream",
          "name": "stderr",
          "text": [
            "DEBUG flwr 2023-06-10 05:54:59,707 | server.py:232 | fit_round 12 received 3 results and 0 failures\n",
            "DEBUG:flwr:fit_round 12 received 3 results and 0 failures\n"
          ]
        },
        {
          "output_type": "stream",
          "name": "stdout",
          "text": [
            "\u001b[2m\u001b[36m(launch_and_fit pid=46432)\u001b[0m Epoch 2: train loss 0.026474250480532646, accuracy 0.6913333333333334\n"
          ]
        },
        {
          "output_type": "stream",
          "name": "stderr",
          "text": [
            "INFO flwr 2023-06-10 05:55:06,215 | server.py:119 | fit progress: (12, 0.02635617313683033, {'accuracy': 0.7036}, 1049.3530922750006)\n",
            "INFO:flwr:fit progress: (12, 0.02635617313683033, {'accuracy': 0.7036}, 1049.3530922750006)\n",
            "DEBUG flwr 2023-06-10 05:55:06,219 | server.py:168 | evaluate_round 12: strategy sampled 3 clients (out of 10)\n",
            "DEBUG:flwr:evaluate_round 12: strategy sampled 3 clients (out of 10)\n"
          ]
        },
        {
          "output_type": "stream",
          "name": "stdout",
          "text": [
            "Server-side evaluation loss 0.02635617313683033 / accuracy 0.7036\n"
          ]
        },
        {
          "output_type": "stream",
          "name": "stderr",
          "text": [
            "\u001b[2m\u001b[36m(pid=46601)\u001b[0m 2023-06-10 05:55:12.369074: W tensorflow/compiler/tf2tensorrt/utils/py_utils.cc:38] TF-TRT Warning: Could not find TensorRT\n"
          ]
        },
        {
          "output_type": "stream",
          "name": "stdout",
          "text": [
            "\u001b[2m\u001b[36m(launch_and_evaluate pid=46601)\u001b[0m [Client 7] evaluate, config: {}\n"
          ]
        },
        {
          "output_type": "stream",
          "name": "stderr",
          "text": [
            "\u001b[2m\u001b[36m(pid=46669)\u001b[0m 2023-06-10 05:55:20.743550: W tensorflow/compiler/tf2tensorrt/utils/py_utils.cc:38] TF-TRT Warning: Could not find TensorRT\n"
          ]
        },
        {
          "output_type": "stream",
          "name": "stdout",
          "text": [
            "\u001b[2m\u001b[36m(launch_and_evaluate pid=46669)\u001b[0m [Client 0] evaluate, config: {}\n"
          ]
        },
        {
          "output_type": "stream",
          "name": "stderr",
          "text": [
            "\u001b[2m\u001b[36m(pid=46731)\u001b[0m 2023-06-10 05:55:26.981279: W tensorflow/compiler/tf2tensorrt/utils/py_utils.cc:38] TF-TRT Warning: Could not find TensorRT\n"
          ]
        },
        {
          "output_type": "stream",
          "name": "stdout",
          "text": [
            "\u001b[2m\u001b[36m(launch_and_evaluate pid=46731)\u001b[0m [Client 5] evaluate, config: {}\n"
          ]
        },
        {
          "output_type": "stream",
          "name": "stderr",
          "text": [
            "DEBUG flwr 2023-06-10 05:55:32,803 | server.py:182 | evaluate_round 12 received 3 results and 0 failures\n",
            "DEBUG:flwr:evaluate_round 12 received 3 results and 0 failures\n",
            "DEBUG flwr 2023-06-10 05:55:32,810 | server.py:218 | fit_round 13: strategy sampled 3 clients (out of 10)\n",
            "DEBUG:flwr:fit_round 13: strategy sampled 3 clients (out of 10)\n",
            "\u001b[2m\u001b[36m(pid=46824)\u001b[0m 2023-06-10 05:55:39.477125: W tensorflow/compiler/tf2tensorrt/utils/py_utils.cc:38] TF-TRT Warning: Could not find TensorRT\n"
          ]
        },
        {
          "output_type": "stream",
          "name": "stdout",
          "text": [
            "\u001b[2m\u001b[36m(launch_and_fit pid=46824)\u001b[0m [Client 4, round 13] fit, config: {'server_round': 13, 'local_epochs': 2}\n",
            "\u001b[2m\u001b[36m(launch_and_fit pid=46824)\u001b[0m Epoch 1: train loss 0.030635979026556015, accuracy 0.6528888888888889\n",
            "\u001b[2m\u001b[36m(launch_and_fit pid=46824)\u001b[0m Epoch 2: train loss 0.02736320160329342, accuracy 0.6877777777777778\n"
          ]
        },
        {
          "output_type": "stream",
          "name": "stderr",
          "text": [
            "\u001b[2m\u001b[36m(pid=46935)\u001b[0m 2023-06-10 05:55:56.531256: W tensorflow/compiler/tf2tensorrt/utils/py_utils.cc:38] TF-TRT Warning: Could not find TensorRT\n"
          ]
        },
        {
          "output_type": "stream",
          "name": "stdout",
          "text": [
            "\u001b[2m\u001b[36m(launch_and_fit pid=46935)\u001b[0m [Client 9, round 13] fit, config: {'server_round': 13, 'local_epochs': 2}\n",
            "\u001b[2m\u001b[36m(launch_and_fit pid=46935)\u001b[0m Epoch 1: train loss 0.03100467659533024, accuracy 0.6497777777777778\n",
            "\u001b[2m\u001b[36m(launch_and_fit pid=46935)\u001b[0m Epoch 2: train loss 0.027687935158610344, accuracy 0.6926666666666667\n"
          ]
        },
        {
          "output_type": "stream",
          "name": "stderr",
          "text": [
            "\u001b[2m\u001b[36m(pid=47045)\u001b[0m 2023-06-10 05:56:13.985164: W tensorflow/compiler/tf2tensorrt/utils/py_utils.cc:38] TF-TRT Warning: Could not find TensorRT\n"
          ]
        },
        {
          "output_type": "stream",
          "name": "stdout",
          "text": [
            "\u001b[2m\u001b[36m(launch_and_fit pid=47045)\u001b[0m [Client 1, round 13] fit, config: {'server_round': 13, 'local_epochs': 2}\n",
            "\u001b[2m\u001b[36m(launch_and_fit pid=47045)\u001b[0m Epoch 1: train loss 0.028867091983556747, accuracy 0.6733333333333333\n",
            "\u001b[2m\u001b[36m(launch_and_fit pid=47045)\u001b[0m Epoch 2: train loss 0.024641936644911766, accuracy 0.7128888888888889\n"
          ]
        },
        {
          "output_type": "stream",
          "name": "stderr",
          "text": [
            "DEBUG flwr 2023-06-10 05:56:30,721 | server.py:232 | fit_round 13 received 3 results and 0 failures\n",
            "DEBUG:flwr:fit_round 13 received 3 results and 0 failures\n",
            "INFO flwr 2023-06-10 05:56:37,301 | server.py:119 | fit progress: (13, 0.024799035215377806, {'accuracy': 0.7193}, 1140.4392761489999)\n",
            "INFO:flwr:fit progress: (13, 0.024799035215377806, {'accuracy': 0.7193}, 1140.4392761489999)\n",
            "DEBUG flwr 2023-06-10 05:56:37,307 | server.py:168 | evaluate_round 13: strategy sampled 3 clients (out of 10)\n",
            "DEBUG:flwr:evaluate_round 13: strategy sampled 3 clients (out of 10)\n"
          ]
        },
        {
          "output_type": "stream",
          "name": "stdout",
          "text": [
            "Server-side evaluation loss 0.024799035215377806 / accuracy 0.7193\n"
          ]
        },
        {
          "output_type": "stream",
          "name": "stderr",
          "text": [
            "\u001b[2m\u001b[36m(pid=47210)\u001b[0m 2023-06-10 05:56:43.475084: W tensorflow/compiler/tf2tensorrt/utils/py_utils.cc:38] TF-TRT Warning: Could not find TensorRT\n"
          ]
        },
        {
          "output_type": "stream",
          "name": "stdout",
          "text": [
            "\u001b[2m\u001b[36m(launch_and_evaluate pid=47210)\u001b[0m [Client 2] evaluate, config: {}\n"
          ]
        },
        {
          "output_type": "stream",
          "name": "stderr",
          "text": [
            "\u001b[2m\u001b[36m(pid=47278)\u001b[0m 2023-06-10 05:56:51.951176: W tensorflow/compiler/tf2tensorrt/utils/py_utils.cc:38] TF-TRT Warning: Could not find TensorRT\n"
          ]
        },
        {
          "output_type": "stream",
          "name": "stdout",
          "text": [
            "\u001b[2m\u001b[36m(launch_and_evaluate pid=47278)\u001b[0m [Client 9] evaluate, config: {}\n"
          ]
        },
        {
          "output_type": "stream",
          "name": "stderr",
          "text": [
            "\u001b[2m\u001b[36m(pid=47345)\u001b[0m 2023-06-10 05:56:58.169568: W tensorflow/compiler/tf2tensorrt/utils/py_utils.cc:38] TF-TRT Warning: Could not find TensorRT\n"
          ]
        },
        {
          "output_type": "stream",
          "name": "stdout",
          "text": [
            "\u001b[2m\u001b[36m(launch_and_evaluate pid=47345)\u001b[0m [Client 7] evaluate, config: {}\n"
          ]
        },
        {
          "output_type": "stream",
          "name": "stderr",
          "text": [
            "DEBUG flwr 2023-06-10 05:57:03,421 | server.py:182 | evaluate_round 13 received 3 results and 0 failures\n",
            "DEBUG:flwr:evaluate_round 13 received 3 results and 0 failures\n",
            "DEBUG flwr 2023-06-10 05:57:03,434 | server.py:218 | fit_round 14: strategy sampled 3 clients (out of 10)\n",
            "DEBUG:flwr:fit_round 14: strategy sampled 3 clients (out of 10)\n",
            "\u001b[2m\u001b[36m(pid=47433)\u001b[0m 2023-06-10 05:57:10.546698: W tensorflow/compiler/tf2tensorrt/utils/py_utils.cc:38] TF-TRT Warning: Could not find TensorRT\n"
          ]
        },
        {
          "output_type": "stream",
          "name": "stdout",
          "text": [
            "\u001b[2m\u001b[36m(launch_and_fit pid=47433)\u001b[0m [Client 8, round 14] fit, config: {'server_round': 14, 'local_epochs': 2}\n",
            "\u001b[2m\u001b[36m(launch_and_fit pid=47433)\u001b[0m Epoch 1: train loss 0.026915060356259346, accuracy 0.6971111111111111\n",
            "\u001b[2m\u001b[36m(launch_and_fit pid=47433)\u001b[0m Epoch 2: train loss 0.02321568690240383, accuracy 0.7464444444444445\n"
          ]
        },
        {
          "output_type": "stream",
          "name": "stderr",
          "text": [
            "\u001b[2m\u001b[36m(pid=47547)\u001b[0m 2023-06-10 05:57:30.083710: W tensorflow/compiler/tf2tensorrt/utils/py_utils.cc:38] TF-TRT Warning: Could not find TensorRT\n"
          ]
        },
        {
          "output_type": "stream",
          "name": "stdout",
          "text": [
            "\u001b[2m\u001b[36m(launch_and_fit pid=47547)\u001b[0m [Client 9, round 14] fit, config: {'server_round': 14, 'local_epochs': 2}\n",
            "\u001b[2m\u001b[36m(launch_and_fit pid=47547)\u001b[0m Epoch 1: train loss 0.027790488675236702, accuracy 0.682\n",
            "\u001b[2m\u001b[36m(launch_and_fit pid=47547)\u001b[0m Epoch 2: train loss 0.02415713109076023, accuracy 0.7222222222222222\n"
          ]
        },
        {
          "output_type": "stream",
          "name": "stderr",
          "text": [
            "\u001b[2m\u001b[36m(pid=47677)\u001b[0m 2023-06-10 05:57:50.757257: W tensorflow/compiler/tf2tensorrt/utils/py_utils.cc:38] TF-TRT Warning: Could not find TensorRT\n"
          ]
        },
        {
          "output_type": "stream",
          "name": "stdout",
          "text": [
            "\u001b[2m\u001b[36m(launch_and_fit pid=47677)\u001b[0m [Client 1, round 14] fit, config: {'server_round': 14, 'local_epochs': 2}\n",
            "\u001b[2m\u001b[36m(launch_and_fit pid=47677)\u001b[0m Epoch 1: train loss 0.02607964351773262, accuracy 0.7106666666666667\n",
            "\u001b[2m\u001b[36m(launch_and_fit pid=47677)\u001b[0m Epoch 2: train loss 0.023569999262690544, accuracy 0.7326666666666667\n"
          ]
        },
        {
          "output_type": "stream",
          "name": "stderr",
          "text": [
            "DEBUG flwr 2023-06-10 05:58:06,375 | server.py:232 | fit_round 14 received 3 results and 0 failures\n",
            "DEBUG:flwr:fit_round 14 received 3 results and 0 failures\n",
            "INFO flwr 2023-06-10 05:58:11,941 | server.py:119 | fit progress: (14, 0.024390988501906394, {'accuracy': 0.7265}, 1235.0793880360006)\n",
            "INFO:flwr:fit progress: (14, 0.024390988501906394, {'accuracy': 0.7265}, 1235.0793880360006)\n",
            "DEBUG flwr 2023-06-10 05:58:11,948 | server.py:168 | evaluate_round 14: strategy sampled 3 clients (out of 10)\n",
            "DEBUG:flwr:evaluate_round 14: strategy sampled 3 clients (out of 10)\n"
          ]
        },
        {
          "output_type": "stream",
          "name": "stdout",
          "text": [
            "Server-side evaluation loss 0.024390988501906394 / accuracy 0.7265\n"
          ]
        },
        {
          "output_type": "stream",
          "name": "stderr",
          "text": [
            "\u001b[2m\u001b[36m(pid=47833)\u001b[0m 2023-06-10 05:58:17.952265: W tensorflow/compiler/tf2tensorrt/utils/py_utils.cc:38] TF-TRT Warning: Could not find TensorRT\n"
          ]
        },
        {
          "output_type": "stream",
          "name": "stdout",
          "text": [
            "\u001b[2m\u001b[36m(launch_and_evaluate pid=47833)\u001b[0m [Client 7] evaluate, config: {}\n"
          ]
        },
        {
          "output_type": "stream",
          "name": "stderr",
          "text": [
            "\u001b[2m\u001b[36m(pid=47912)\u001b[0m 2023-06-10 05:58:26.457670: W tensorflow/compiler/tf2tensorrt/utils/py_utils.cc:38] TF-TRT Warning: Could not find TensorRT\n"
          ]
        },
        {
          "output_type": "stream",
          "name": "stdout",
          "text": [
            "\u001b[2m\u001b[36m(launch_and_evaluate pid=47912)\u001b[0m [Client 0] evaluate, config: {}\n"
          ]
        },
        {
          "output_type": "stream",
          "name": "stderr",
          "text": [
            "\u001b[2m\u001b[36m(pid=47973)\u001b[0m 2023-06-10 05:58:32.797775: W tensorflow/compiler/tf2tensorrt/utils/py_utils.cc:38] TF-TRT Warning: Could not find TensorRT\n"
          ]
        },
        {
          "output_type": "stream",
          "name": "stdout",
          "text": [
            "\u001b[2m\u001b[36m(launch_and_evaluate pid=47973)\u001b[0m [Client 8] evaluate, config: {}\n"
          ]
        },
        {
          "output_type": "stream",
          "name": "stderr",
          "text": [
            "DEBUG flwr 2023-06-10 05:58:39,255 | server.py:182 | evaluate_round 14 received 3 results and 0 failures\n",
            "DEBUG:flwr:evaluate_round 14 received 3 results and 0 failures\n",
            "DEBUG flwr 2023-06-10 05:58:39,262 | server.py:218 | fit_round 15: strategy sampled 3 clients (out of 10)\n",
            "DEBUG:flwr:fit_round 15: strategy sampled 3 clients (out of 10)\n",
            "\u001b[2m\u001b[36m(pid=48065)\u001b[0m 2023-06-10 05:58:45.455216: W tensorflow/compiler/tf2tensorrt/utils/py_utils.cc:38] TF-TRT Warning: Could not find TensorRT\n"
          ]
        },
        {
          "output_type": "stream",
          "name": "stdout",
          "text": [
            "\u001b[2m\u001b[36m(launch_and_fit pid=48065)\u001b[0m [Client 0, round 15] fit, config: {'server_round': 15, 'local_epochs': 2}\n",
            "\u001b[2m\u001b[36m(launch_and_fit pid=48065)\u001b[0m Epoch 1: train loss 0.025817014276981354, accuracy 0.7135555555555556\n",
            "\u001b[2m\u001b[36m(launch_and_fit pid=48065)\u001b[0m Epoch 2: train loss 0.022672085091471672, accuracy 0.746\n"
          ]
        },
        {
          "output_type": "stream",
          "name": "stderr",
          "text": [
            "\u001b[2m\u001b[36m(pid=48177)\u001b[0m 2023-06-10 05:59:02.799933: W tensorflow/compiler/tf2tensorrt/utils/py_utils.cc:38] TF-TRT Warning: Could not find TensorRT\n"
          ]
        },
        {
          "output_type": "stream",
          "name": "stdout",
          "text": [
            "\u001b[2m\u001b[36m(launch_and_fit pid=48177)\u001b[0m [Client 1, round 15] fit, config: {'server_round': 15, 'local_epochs': 2}\n",
            "\u001b[2m\u001b[36m(launch_and_fit pid=48177)\u001b[0m Epoch 1: train loss 0.023755813017487526, accuracy 0.7335555555555555\n",
            "\u001b[2m\u001b[36m(launch_and_fit pid=48177)\u001b[0m Epoch 2: train loss 0.02027810364961624, accuracy 0.7653333333333333\n"
          ]
        },
        {
          "output_type": "stream",
          "name": "stderr",
          "text": [
            "\u001b[2m\u001b[36m(pid=48290)\u001b[0m 2023-06-10 05:59:22.083832: W tensorflow/compiler/tf2tensorrt/utils/py_utils.cc:38] TF-TRT Warning: Could not find TensorRT\n"
          ]
        },
        {
          "output_type": "stream",
          "name": "stdout",
          "text": [
            "\u001b[2m\u001b[36m(launch_and_fit pid=48290)\u001b[0m [Client 4, round 15] fit, config: {'server_round': 15, 'local_epochs': 2}\n",
            "\u001b[2m\u001b[36m(launch_and_fit pid=48290)\u001b[0m Epoch 1: train loss 0.027504215016961098, accuracy 0.6886666666666666\n"
          ]
        },
        {
          "output_type": "stream",
          "name": "stderr",
          "text": [
            "DEBUG flwr 2023-06-10 05:59:38,043 | server.py:232 | fit_round 15 received 3 results and 0 failures\n",
            "DEBUG:flwr:fit_round 15 received 3 results and 0 failures\n"
          ]
        },
        {
          "output_type": "stream",
          "name": "stdout",
          "text": [
            "\u001b[2m\u001b[36m(launch_and_fit pid=48290)\u001b[0m Epoch 2: train loss 0.023659730330109596, accuracy 0.7308888888888889\n"
          ]
        },
        {
          "output_type": "stream",
          "name": "stderr",
          "text": [
            "INFO flwr 2023-06-10 05:59:44,094 | server.py:119 | fit progress: (15, 0.023918287444114686, {'accuracy': 0.7307}, 1327.2322110390005)\n",
            "INFO:flwr:fit progress: (15, 0.023918287444114686, {'accuracy': 0.7307}, 1327.2322110390005)\n",
            "DEBUG flwr 2023-06-10 05:59:44,101 | server.py:168 | evaluate_round 15: strategy sampled 3 clients (out of 10)\n",
            "DEBUG:flwr:evaluate_round 15: strategy sampled 3 clients (out of 10)\n"
          ]
        },
        {
          "output_type": "stream",
          "name": "stdout",
          "text": [
            "Server-side evaluation loss 0.023918287444114686 / accuracy 0.7307\n"
          ]
        },
        {
          "output_type": "stream",
          "name": "stderr",
          "text": [
            "\u001b[2m\u001b[36m(pid=48455)\u001b[0m 2023-06-10 05:59:50.221679: W tensorflow/compiler/tf2tensorrt/utils/py_utils.cc:38] TF-TRT Warning: Could not find TensorRT\n"
          ]
        },
        {
          "output_type": "stream",
          "name": "stdout",
          "text": [
            "\u001b[2m\u001b[36m(launch_and_evaluate pid=48455)\u001b[0m [Client 2] evaluate, config: {}\n"
          ]
        },
        {
          "output_type": "stream",
          "name": "stderr",
          "text": [
            "\u001b[2m\u001b[36m(pid=48530)\u001b[0m 2023-06-10 05:59:58.879858: W tensorflow/compiler/tf2tensorrt/utils/py_utils.cc:38] TF-TRT Warning: Could not find TensorRT\n"
          ]
        },
        {
          "output_type": "stream",
          "name": "stdout",
          "text": [
            "\u001b[2m\u001b[36m(launch_and_evaluate pid=48530)\u001b[0m [Client 1] evaluate, config: {}\n"
          ]
        },
        {
          "output_type": "stream",
          "name": "stderr",
          "text": [
            "\u001b[2m\u001b[36m(pid=48590)\u001b[0m 2023-06-10 06:00:05.390815: W tensorflow/compiler/tf2tensorrt/utils/py_utils.cc:38] TF-TRT Warning: Could not find TensorRT\n"
          ]
        },
        {
          "output_type": "stream",
          "name": "stdout",
          "text": [
            "\u001b[2m\u001b[36m(launch_and_evaluate pid=48590)\u001b[0m [Client 4] evaluate, config: {}\n"
          ]
        },
        {
          "output_type": "stream",
          "name": "stderr",
          "text": [
            "DEBUG flwr 2023-06-10 06:00:11,893 | server.py:182 | evaluate_round 15 received 3 results and 0 failures\n",
            "DEBUG:flwr:evaluate_round 15 received 3 results and 0 failures\n",
            "DEBUG flwr 2023-06-10 06:00:11,899 | server.py:218 | fit_round 16: strategy sampled 3 clients (out of 10)\n",
            "DEBUG:flwr:fit_round 16: strategy sampled 3 clients (out of 10)\n",
            "\u001b[2m\u001b[36m(pid=48683)\u001b[0m 2023-06-10 06:00:18.066411: W tensorflow/compiler/tf2tensorrt/utils/py_utils.cc:38] TF-TRT Warning: Could not find TensorRT\n"
          ]
        },
        {
          "output_type": "stream",
          "name": "stdout",
          "text": [
            "\u001b[2m\u001b[36m(launch_and_fit pid=48683)\u001b[0m [Client 9, round 16] fit, config: {'server_round': 16, 'local_epochs': 2}\n",
            "\u001b[2m\u001b[36m(launch_and_fit pid=48683)\u001b[0m Epoch 1: train loss 0.02561386302113533, accuracy 0.7151111111111111\n",
            "\u001b[2m\u001b[36m(launch_and_fit pid=48683)\u001b[0m Epoch 2: train loss 0.021320747211575508, accuracy 0.7655555555555555\n"
          ]
        },
        {
          "output_type": "stream",
          "name": "stderr",
          "text": [
            "\u001b[2m\u001b[36m(pid=48802)\u001b[0m 2023-06-10 06:00:36.740176: W tensorflow/compiler/tf2tensorrt/utils/py_utils.cc:38] TF-TRT Warning: Could not find TensorRT\n"
          ]
        },
        {
          "output_type": "stream",
          "name": "stdout",
          "text": [
            "\u001b[2m\u001b[36m(launch_and_fit pid=48802)\u001b[0m [Client 4, round 16] fit, config: {'server_round': 16, 'local_epochs': 2}\n",
            "\u001b[2m\u001b[36m(launch_and_fit pid=48802)\u001b[0m Epoch 1: train loss 0.0255423616617918, accuracy 0.7113333333333334\n",
            "\u001b[2m\u001b[36m(launch_and_fit pid=48802)\u001b[0m Epoch 2: train loss 0.020803876221179962, accuracy 0.764\n"
          ]
        },
        {
          "output_type": "stream",
          "name": "stderr",
          "text": [
            "\u001b[2m\u001b[36m(pid=48916)\u001b[0m 2023-06-10 06:00:56.824994: W tensorflow/compiler/tf2tensorrt/utils/py_utils.cc:38] TF-TRT Warning: Could not find TensorRT\n"
          ]
        },
        {
          "output_type": "stream",
          "name": "stdout",
          "text": [
            "\u001b[2m\u001b[36m(launch_and_fit pid=48916)\u001b[0m [Client 1, round 16] fit, config: {'server_round': 16, 'local_epochs': 2}\n",
            "\u001b[2m\u001b[36m(launch_and_fit pid=48916)\u001b[0m Epoch 1: train loss 0.022124020382761955, accuracy 0.7513333333333333\n",
            "\u001b[2m\u001b[36m(launch_and_fit pid=48916)\u001b[0m Epoch 2: train loss 0.018897101283073425, accuracy 0.7848888888888889\n"
          ]
        },
        {
          "output_type": "stream",
          "name": "stderr",
          "text": [
            "DEBUG flwr 2023-06-10 06:01:12,906 | server.py:232 | fit_round 16 received 3 results and 0 failures\n",
            "DEBUG:flwr:fit_round 16 received 3 results and 0 failures\n",
            "INFO flwr 2023-06-10 06:01:18,474 | server.py:119 | fit progress: (16, 0.022653370660543442, {'accuracy': 0.745}, 1421.6119646820007)\n",
            "INFO:flwr:fit progress: (16, 0.022653370660543442, {'accuracy': 0.745}, 1421.6119646820007)\n",
            "DEBUG flwr 2023-06-10 06:01:18,479 | server.py:168 | evaluate_round 16: strategy sampled 3 clients (out of 10)\n",
            "DEBUG:flwr:evaluate_round 16: strategy sampled 3 clients (out of 10)\n"
          ]
        },
        {
          "output_type": "stream",
          "name": "stdout",
          "text": [
            "Server-side evaluation loss 0.022653370660543442 / accuracy 0.745\n"
          ]
        },
        {
          "output_type": "stream",
          "name": "stderr",
          "text": [
            "\u001b[2m\u001b[36m(pid=49081)\u001b[0m 2023-06-10 06:01:24.687604: W tensorflow/compiler/tf2tensorrt/utils/py_utils.cc:38] TF-TRT Warning: Could not find TensorRT\n"
          ]
        },
        {
          "output_type": "stream",
          "name": "stdout",
          "text": [
            "\u001b[2m\u001b[36m(launch_and_evaluate pid=49081)\u001b[0m [Client 0] evaluate, config: {}\n"
          ]
        },
        {
          "output_type": "stream",
          "name": "stderr",
          "text": [
            "\u001b[2m\u001b[36m(pid=49156)\u001b[0m 2023-06-10 06:01:33.421910: W tensorflow/compiler/tf2tensorrt/utils/py_utils.cc:38] TF-TRT Warning: Could not find TensorRT\n"
          ]
        },
        {
          "output_type": "stream",
          "name": "stdout",
          "text": [
            "\u001b[2m\u001b[36m(launch_and_evaluate pid=49156)\u001b[0m [Client 6] evaluate, config: {}\n"
          ]
        },
        {
          "output_type": "stream",
          "name": "stderr",
          "text": [
            "\u001b[2m\u001b[36m(pid=49216)\u001b[0m 2023-06-10 06:01:39.828185: W tensorflow/compiler/tf2tensorrt/utils/py_utils.cc:38] TF-TRT Warning: Could not find TensorRT\n"
          ]
        },
        {
          "output_type": "stream",
          "name": "stdout",
          "text": [
            "\u001b[2m\u001b[36m(launch_and_evaluate pid=49216)\u001b[0m [Client 5] evaluate, config: {}\n"
          ]
        },
        {
          "output_type": "stream",
          "name": "stderr",
          "text": [
            "DEBUG flwr 2023-06-10 06:01:46,521 | server.py:182 | evaluate_round 16 received 3 results and 0 failures\n",
            "DEBUG:flwr:evaluate_round 16 received 3 results and 0 failures\n",
            "DEBUG flwr 2023-06-10 06:01:46,527 | server.py:218 | fit_round 17: strategy sampled 3 clients (out of 10)\n",
            "DEBUG:flwr:fit_round 17: strategy sampled 3 clients (out of 10)\n",
            "\u001b[2m\u001b[36m(pid=49308)\u001b[0m 2023-06-10 06:01:52.662614: W tensorflow/compiler/tf2tensorrt/utils/py_utils.cc:38] TF-TRT Warning: Could not find TensorRT\n"
          ]
        },
        {
          "output_type": "stream",
          "name": "stdout",
          "text": [
            "\u001b[2m\u001b[36m(launch_and_fit pid=49308)\u001b[0m [Client 7, round 17] fit, config: {'server_round': 17, 'local_epochs': 2}\n",
            "\u001b[2m\u001b[36m(launch_and_fit pid=49308)\u001b[0m Epoch 1: train loss 0.02536020614206791, accuracy 0.72\n",
            "\u001b[2m\u001b[36m(launch_and_fit pid=49308)\u001b[0m Epoch 2: train loss 0.0214080847799778, accuracy 0.7595555555555555\n"
          ]
        },
        {
          "output_type": "stream",
          "name": "stderr",
          "text": [
            "\u001b[2m\u001b[36m(pid=49424)\u001b[0m 2023-06-10 06:02:10.300750: W tensorflow/compiler/tf2tensorrt/utils/py_utils.cc:38] TF-TRT Warning: Could not find TensorRT\n"
          ]
        },
        {
          "output_type": "stream",
          "name": "stdout",
          "text": [
            "\u001b[2m\u001b[36m(launch_and_fit pid=49424)\u001b[0m [Client 6, round 17] fit, config: {'server_round': 17, 'local_epochs': 2}\n",
            "\u001b[2m\u001b[36m(launch_and_fit pid=49424)\u001b[0m Epoch 1: train loss 0.026091063395142555, accuracy 0.7037777777777777\n",
            "\u001b[2m\u001b[36m(launch_and_fit pid=49424)\u001b[0m Epoch 2: train loss 0.02122589573264122, accuracy 0.7593333333333333\n"
          ]
        },
        {
          "output_type": "stream",
          "name": "stderr",
          "text": [
            "\u001b[2m\u001b[36m(pid=49540)\u001b[0m 2023-06-10 06:02:31.092635: W tensorflow/compiler/tf2tensorrt/utils/py_utils.cc:38] TF-TRT Warning: Could not find TensorRT\n"
          ]
        },
        {
          "output_type": "stream",
          "name": "stdout",
          "text": [
            "\u001b[2m\u001b[36m(launch_and_fit pid=49540)\u001b[0m [Client 5, round 17] fit, config: {'server_round': 17, 'local_epochs': 2}\n",
            "\u001b[2m\u001b[36m(launch_and_fit pid=49540)\u001b[0m Epoch 1: train loss 0.027512211352586746, accuracy 0.6924444444444444\n"
          ]
        },
        {
          "output_type": "stream",
          "name": "stderr",
          "text": [
            "DEBUG flwr 2023-06-10 06:02:46,240 | server.py:232 | fit_round 17 received 3 results and 0 failures\n",
            "DEBUG:flwr:fit_round 17 received 3 results and 0 failures\n"
          ]
        },
        {
          "output_type": "stream",
          "name": "stdout",
          "text": [
            "\u001b[2m\u001b[36m(launch_and_fit pid=49540)\u001b[0m Epoch 2: train loss 0.02281940169632435, accuracy 0.746\n"
          ]
        },
        {
          "output_type": "stream",
          "name": "stderr",
          "text": [
            "INFO flwr 2023-06-10 06:02:51,428 | server.py:119 | fit progress: (17, 0.022078521750867365, {'accuracy': 0.7541}, 1514.5664105140004)\n",
            "INFO:flwr:fit progress: (17, 0.022078521750867365, {'accuracy': 0.7541}, 1514.5664105140004)\n",
            "DEBUG flwr 2023-06-10 06:02:51,435 | server.py:168 | evaluate_round 17: strategy sampled 3 clients (out of 10)\n",
            "DEBUG:flwr:evaluate_round 17: strategy sampled 3 clients (out of 10)\n"
          ]
        },
        {
          "output_type": "stream",
          "name": "stdout",
          "text": [
            "Server-side evaluation loss 0.022078521750867365 / accuracy 0.7541\n"
          ]
        },
        {
          "output_type": "stream",
          "name": "stderr",
          "text": [
            "\u001b[2m\u001b[36m(pid=49702)\u001b[0m 2023-06-10 06:02:58.185850: W tensorflow/compiler/tf2tensorrt/utils/py_utils.cc:38] TF-TRT Warning: Could not find TensorRT\n"
          ]
        },
        {
          "output_type": "stream",
          "name": "stdout",
          "text": [
            "\u001b[2m\u001b[36m(launch_and_evaluate pid=49702)\u001b[0m [Client 4] evaluate, config: {}\n"
          ]
        },
        {
          "output_type": "stream",
          "name": "stderr",
          "text": [
            "\u001b[2m\u001b[36m(pid=49773)\u001b[0m 2023-06-10 06:03:06.171378: W tensorflow/compiler/tf2tensorrt/utils/py_utils.cc:38] TF-TRT Warning: Could not find TensorRT\n"
          ]
        },
        {
          "output_type": "stream",
          "name": "stdout",
          "text": [
            "\u001b[2m\u001b[36m(launch_and_evaluate pid=49773)\u001b[0m [Client 9] evaluate, config: {}\n"
          ]
        },
        {
          "output_type": "stream",
          "name": "stderr",
          "text": [
            "\u001b[2m\u001b[36m(pid=49837)\u001b[0m 2023-06-10 06:03:12.558143: W tensorflow/compiler/tf2tensorrt/utils/py_utils.cc:38] TF-TRT Warning: Could not find TensorRT\n"
          ]
        },
        {
          "output_type": "stream",
          "name": "stdout",
          "text": [
            "\u001b[2m\u001b[36m(launch_and_evaluate pid=49837)\u001b[0m [Client 1] evaluate, config: {}\n"
          ]
        },
        {
          "output_type": "stream",
          "name": "stderr",
          "text": [
            "DEBUG flwr 2023-06-10 06:03:19,124 | server.py:182 | evaluate_round 17 received 3 results and 0 failures\n",
            "DEBUG:flwr:evaluate_round 17 received 3 results and 0 failures\n",
            "DEBUG flwr 2023-06-10 06:03:19,130 | server.py:218 | fit_round 18: strategy sampled 3 clients (out of 10)\n",
            "DEBUG:flwr:fit_round 18: strategy sampled 3 clients (out of 10)\n",
            "\u001b[2m\u001b[36m(pid=49926)\u001b[0m 2023-06-10 06:03:25.205640: W tensorflow/compiler/tf2tensorrt/utils/py_utils.cc:38] TF-TRT Warning: Could not find TensorRT\n"
          ]
        },
        {
          "output_type": "stream",
          "name": "stdout",
          "text": [
            "\u001b[2m\u001b[36m(launch_and_fit pid=49926)\u001b[0m [Client 9, round 18] fit, config: {'server_round': 18, 'local_epochs': 2}\n",
            "\u001b[2m\u001b[36m(launch_and_fit pid=49926)\u001b[0m Epoch 1: train loss 0.022948002442717552, accuracy 0.7486666666666667\n",
            "\u001b[2m\u001b[36m(launch_and_fit pid=49926)\u001b[0m Epoch 2: train loss 0.01882745698094368, accuracy 0.7851111111111111\n"
          ]
        },
        {
          "output_type": "stream",
          "name": "stderr",
          "text": [
            "\u001b[2m\u001b[36m(pid=50050)\u001b[0m 2023-06-10 06:03:45.941867: W tensorflow/compiler/tf2tensorrt/utils/py_utils.cc:38] TF-TRT Warning: Could not find TensorRT\n"
          ]
        },
        {
          "output_type": "stream",
          "name": "stdout",
          "text": [
            "\u001b[2m\u001b[36m(launch_and_fit pid=50050)\u001b[0m [Client 1, round 18] fit, config: {'server_round': 18, 'local_epochs': 2}\n",
            "\u001b[2m\u001b[36m(launch_and_fit pid=50050)\u001b[0m Epoch 1: train loss 0.02090076357126236, accuracy 0.7677777777777778\n",
            "\u001b[2m\u001b[36m(launch_and_fit pid=50050)\u001b[0m Epoch 2: train loss 0.01684851013123989, accuracy 0.812\n"
          ]
        },
        {
          "output_type": "stream",
          "name": "stderr",
          "text": [
            "\u001b[2m\u001b[36m(pid=50170)\u001b[0m 2023-06-10 06:04:05.714521: W tensorflow/compiler/tf2tensorrt/utils/py_utils.cc:38] TF-TRT Warning: Could not find TensorRT\n"
          ]
        },
        {
          "output_type": "stream",
          "name": "stdout",
          "text": [
            "\u001b[2m\u001b[36m(launch_and_fit pid=50170)\u001b[0m [Client 8, round 18] fit, config: {'server_round': 18, 'local_epochs': 2}\n",
            "\u001b[2m\u001b[36m(launch_and_fit pid=50170)\u001b[0m Epoch 1: train loss 0.023312263190746307, accuracy 0.7364444444444445\n"
          ]
        },
        {
          "output_type": "stream",
          "name": "stderr",
          "text": [
            "DEBUG flwr 2023-06-10 06:04:20,539 | server.py:232 | fit_round 18 received 3 results and 0 failures\n",
            "DEBUG:flwr:fit_round 18 received 3 results and 0 failures\n"
          ]
        },
        {
          "output_type": "stream",
          "name": "stdout",
          "text": [
            "\u001b[2m\u001b[36m(launch_and_fit pid=50170)\u001b[0m Epoch 2: train loss 0.01982235722243786, accuracy 0.7733333333333333\n"
          ]
        },
        {
          "output_type": "stream",
          "name": "stderr",
          "text": [
            "INFO flwr 2023-06-10 06:04:25,682 | server.py:119 | fit progress: (18, 0.021862558287382126, {'accuracy': 0.7602}, 1608.8206110890005)\n",
            "INFO:flwr:fit progress: (18, 0.021862558287382126, {'accuracy': 0.7602}, 1608.8206110890005)\n",
            "DEBUG flwr 2023-06-10 06:04:25,687 | server.py:168 | evaluate_round 18: strategy sampled 3 clients (out of 10)\n",
            "DEBUG:flwr:evaluate_round 18: strategy sampled 3 clients (out of 10)\n"
          ]
        },
        {
          "output_type": "stream",
          "name": "stdout",
          "text": [
            "Server-side evaluation loss 0.021862558287382126 / accuracy 0.7602\n"
          ]
        },
        {
          "output_type": "stream",
          "name": "stderr",
          "text": [
            "\u001b[2m\u001b[36m(pid=50326)\u001b[0m 2023-06-10 06:04:32.249900: W tensorflow/compiler/tf2tensorrt/utils/py_utils.cc:38] TF-TRT Warning: Could not find TensorRT\n"
          ]
        },
        {
          "output_type": "stream",
          "name": "stdout",
          "text": [
            "\u001b[2m\u001b[36m(launch_and_evaluate pid=50326)\u001b[0m [Client 4] evaluate, config: {}\n"
          ]
        },
        {
          "output_type": "stream",
          "name": "stderr",
          "text": [
            "\u001b[2m\u001b[36m(pid=50399)\u001b[0m 2023-06-10 06:04:40.300814: W tensorflow/compiler/tf2tensorrt/utils/py_utils.cc:38] TF-TRT Warning: Could not find TensorRT\n"
          ]
        },
        {
          "output_type": "stream",
          "name": "stdout",
          "text": [
            "\u001b[2m\u001b[36m(launch_and_evaluate pid=50399)\u001b[0m [Client 3] evaluate, config: {}\n"
          ]
        },
        {
          "output_type": "stream",
          "name": "stderr",
          "text": [
            "\u001b[2m\u001b[36m(pid=50459)\u001b[0m 2023-06-10 06:04:46.594251: W tensorflow/compiler/tf2tensorrt/utils/py_utils.cc:38] TF-TRT Warning: Could not find TensorRT\n"
          ]
        },
        {
          "output_type": "stream",
          "name": "stdout",
          "text": [
            "\u001b[2m\u001b[36m(launch_and_evaluate pid=50459)\u001b[0m [Client 6] evaluate, config: {}\n"
          ]
        },
        {
          "output_type": "stream",
          "name": "stderr",
          "text": [
            "DEBUG flwr 2023-06-10 06:04:53,177 | server.py:182 | evaluate_round 18 received 3 results and 0 failures\n",
            "DEBUG:flwr:evaluate_round 18 received 3 results and 0 failures\n",
            "DEBUG flwr 2023-06-10 06:04:53,183 | server.py:218 | fit_round 19: strategy sampled 3 clients (out of 10)\n",
            "DEBUG:flwr:fit_round 19: strategy sampled 3 clients (out of 10)\n",
            "\u001b[2m\u001b[36m(pid=50552)\u001b[0m 2023-06-10 06:04:59.169816: W tensorflow/compiler/tf2tensorrt/utils/py_utils.cc:38] TF-TRT Warning: Could not find TensorRT\n"
          ]
        },
        {
          "output_type": "stream",
          "name": "stdout",
          "text": [
            "\u001b[2m\u001b[36m(launch_and_fit pid=50552)\u001b[0m [Client 1, round 19] fit, config: {'server_round': 19, 'local_epochs': 2}\n",
            "\u001b[2m\u001b[36m(launch_and_fit pid=50552)\u001b[0m Epoch 1: train loss 0.01784251071512699, accuracy 0.8004444444444444\n",
            "\u001b[2m\u001b[36m(launch_and_fit pid=50552)\u001b[0m Epoch 2: train loss 0.015161036513745785, accuracy 0.8322222222222222\n"
          ]
        },
        {
          "output_type": "stream",
          "name": "stderr",
          "text": [
            "\u001b[2m\u001b[36m(pid=50663)\u001b[0m 2023-06-10 06:05:16.363545: W tensorflow/compiler/tf2tensorrt/utils/py_utils.cc:38] TF-TRT Warning: Could not find TensorRT\n"
          ]
        },
        {
          "output_type": "stream",
          "name": "stdout",
          "text": [
            "\u001b[2m\u001b[36m(launch_and_fit pid=50663)\u001b[0m [Client 4, round 19] fit, config: {'server_round': 19, 'local_epochs': 2}\n",
            "\u001b[2m\u001b[36m(launch_and_fit pid=50663)\u001b[0m Epoch 1: train loss 0.023294569924473763, accuracy 0.7428888888888889\n",
            "\u001b[2m\u001b[36m(launch_and_fit pid=50663)\u001b[0m Epoch 2: train loss 0.01785670593380928, accuracy 0.7946666666666666\n"
          ]
        },
        {
          "output_type": "stream",
          "name": "stderr",
          "text": [
            "\u001b[2m\u001b[36m(pid=50779)\u001b[0m 2023-06-10 06:05:35.591903: W tensorflow/compiler/tf2tensorrt/utils/py_utils.cc:38] TF-TRT Warning: Could not find TensorRT\n"
          ]
        },
        {
          "output_type": "stream",
          "name": "stdout",
          "text": [
            "\u001b[2m\u001b[36m(launch_and_fit pid=50779)\u001b[0m [Client 8, round 19] fit, config: {'server_round': 19, 'local_epochs': 2}\n",
            "\u001b[2m\u001b[36m(launch_and_fit pid=50779)\u001b[0m Epoch 1: train loss 0.02116492949426174, accuracy 0.7682222222222223\n",
            "\u001b[2m\u001b[36m(launch_and_fit pid=50779)\u001b[0m Epoch 2: train loss 0.016801724210381508, accuracy 0.8157777777777778\n"
          ]
        },
        {
          "output_type": "stream",
          "name": "stderr",
          "text": [
            "DEBUG flwr 2023-06-10 06:05:51,187 | server.py:232 | fit_round 19 received 3 results and 0 failures\n",
            "DEBUG:flwr:fit_round 19 received 3 results and 0 failures\n",
            "INFO flwr 2023-06-10 06:05:56,947 | server.py:119 | fit progress: (19, 0.021593942391872407, {'accuracy': 0.7682}, 1700.0856939610003)\n",
            "INFO:flwr:fit progress: (19, 0.021593942391872407, {'accuracy': 0.7682}, 1700.0856939610003)\n",
            "DEBUG flwr 2023-06-10 06:05:56,953 | server.py:168 | evaluate_round 19: strategy sampled 3 clients (out of 10)\n",
            "DEBUG:flwr:evaluate_round 19: strategy sampled 3 clients (out of 10)\n"
          ]
        },
        {
          "output_type": "stream",
          "name": "stdout",
          "text": [
            "Server-side evaluation loss 0.021593942391872407 / accuracy 0.7682\n"
          ]
        },
        {
          "output_type": "stream",
          "name": "stderr",
          "text": [
            "\u001b[2m\u001b[36m(pid=50939)\u001b[0m 2023-06-10 06:06:03.078205: W tensorflow/compiler/tf2tensorrt/utils/py_utils.cc:38] TF-TRT Warning: Could not find TensorRT\n"
          ]
        },
        {
          "output_type": "stream",
          "name": "stdout",
          "text": [
            "\u001b[2m\u001b[36m(launch_and_evaluate pid=50939)\u001b[0m [Client 6] evaluate, config: {}\n"
          ]
        },
        {
          "output_type": "stream",
          "name": "stderr",
          "text": [
            "\u001b[2m\u001b[36m(pid=51008)\u001b[0m 2023-06-10 06:06:11.259322: W tensorflow/compiler/tf2tensorrt/utils/py_utils.cc:38] TF-TRT Warning: Could not find TensorRT\n"
          ]
        },
        {
          "output_type": "stream",
          "name": "stdout",
          "text": [
            "\u001b[2m\u001b[36m(launch_and_evaluate pid=51008)\u001b[0m [Client 5] evaluate, config: {}\n"
          ]
        },
        {
          "output_type": "stream",
          "name": "stderr",
          "text": [
            "\u001b[2m\u001b[36m(pid=51072)\u001b[0m 2023-06-10 06:06:17.581386: W tensorflow/compiler/tf2tensorrt/utils/py_utils.cc:38] TF-TRT Warning: Could not find TensorRT\n"
          ]
        },
        {
          "output_type": "stream",
          "name": "stdout",
          "text": [
            "\u001b[2m\u001b[36m(launch_and_evaluate pid=51072)\u001b[0m [Client 0] evaluate, config: {}\n"
          ]
        },
        {
          "output_type": "stream",
          "name": "stderr",
          "text": [
            "DEBUG flwr 2023-06-10 06:06:23,454 | server.py:182 | evaluate_round 19 received 3 results and 0 failures\n",
            "DEBUG:flwr:evaluate_round 19 received 3 results and 0 failures\n",
            "DEBUG flwr 2023-06-10 06:06:23,460 | server.py:218 | fit_round 20: strategy sampled 3 clients (out of 10)\n",
            "DEBUG:flwr:fit_round 20: strategy sampled 3 clients (out of 10)\n",
            "\u001b[2m\u001b[36m(pid=51171)\u001b[0m 2023-06-10 06:06:32.577727: W tensorflow/compiler/tf2tensorrt/utils/py_utils.cc:38] TF-TRT Warning: Could not find TensorRT\n"
          ]
        },
        {
          "output_type": "stream",
          "name": "stdout",
          "text": [
            "\u001b[2m\u001b[36m(launch_and_fit pid=51171)\u001b[0m [Client 5, round 20] fit, config: {'server_round': 20, 'local_epochs': 2}\n",
            "\u001b[2m\u001b[36m(launch_and_fit pid=51171)\u001b[0m Epoch 1: train loss 0.02449735254049301, accuracy 0.7331111111111112\n",
            "\u001b[2m\u001b[36m(launch_and_fit pid=51171)\u001b[0m Epoch 2: train loss 0.01998751051723957, accuracy 0.7717777777777778\n"
          ]
        },
        {
          "output_type": "stream",
          "name": "stderr",
          "text": [
            "\u001b[2m\u001b[36m(pid=51285)\u001b[0m 2023-06-10 06:06:49.966579: W tensorflow/compiler/tf2tensorrt/utils/py_utils.cc:38] TF-TRT Warning: Could not find TensorRT\n"
          ]
        },
        {
          "output_type": "stream",
          "name": "stdout",
          "text": [
            "\u001b[2m\u001b[36m(launch_and_fit pid=51285)\u001b[0m [Client 1, round 20] fit, config: {'server_round': 20, 'local_epochs': 2}\n",
            "\u001b[2m\u001b[36m(launch_and_fit pid=51285)\u001b[0m Epoch 1: train loss 0.016395024955272675, accuracy 0.8204444444444444\n",
            "\u001b[2m\u001b[36m(launch_and_fit pid=51285)\u001b[0m Epoch 2: train loss 0.012731087394058704, accuracy 0.8548888888888889\n"
          ]
        },
        {
          "output_type": "stream",
          "name": "stderr",
          "text": [
            "\u001b[2m\u001b[36m(pid=51401)\u001b[0m 2023-06-10 06:07:10.477154: W tensorflow/compiler/tf2tensorrt/utils/py_utils.cc:38] TF-TRT Warning: Could not find TensorRT\n"
          ]
        },
        {
          "output_type": "stream",
          "name": "stdout",
          "text": [
            "\u001b[2m\u001b[36m(launch_and_fit pid=51401)\u001b[0m [Client 3, round 20] fit, config: {'server_round': 20, 'local_epochs': 2}\n",
            "\u001b[2m\u001b[36m(launch_and_fit pid=51401)\u001b[0m Epoch 1: train loss 0.026166731491684914, accuracy 0.7206666666666667\n",
            "\u001b[2m\u001b[36m(launch_and_fit pid=51401)\u001b[0m Epoch 2: train loss 0.020673545077443123, accuracy 0.7682222222222223\n"
          ]
        },
        {
          "output_type": "stream",
          "name": "stderr",
          "text": [
            "DEBUG flwr 2023-06-10 06:07:25,132 | server.py:232 | fit_round 20 received 3 results and 0 failures\n",
            "DEBUG:flwr:fit_round 20 received 3 results and 0 failures\n",
            "INFO flwr 2023-06-10 06:07:30,703 | server.py:119 | fit progress: (20, 0.021250076131522657, {'accuracy': 0.767}, 1793.840966199)\n",
            "INFO:flwr:fit progress: (20, 0.021250076131522657, {'accuracy': 0.767}, 1793.840966199)\n",
            "DEBUG flwr 2023-06-10 06:07:30,709 | server.py:168 | evaluate_round 20: strategy sampled 3 clients (out of 10)\n",
            "DEBUG:flwr:evaluate_round 20: strategy sampled 3 clients (out of 10)\n"
          ]
        },
        {
          "output_type": "stream",
          "name": "stdout",
          "text": [
            "Server-side evaluation loss 0.021250076131522657 / accuracy 0.767\n"
          ]
        },
        {
          "output_type": "stream",
          "name": "stderr",
          "text": [
            "\u001b[2m\u001b[36m(pid=51563)\u001b[0m 2023-06-10 06:07:37.927739: W tensorflow/compiler/tf2tensorrt/utils/py_utils.cc:38] TF-TRT Warning: Could not find TensorRT\n"
          ]
        },
        {
          "output_type": "stream",
          "name": "stdout",
          "text": [
            "\u001b[2m\u001b[36m(launch_and_evaluate pid=51563)\u001b[0m [Client 9] evaluate, config: {}\n"
          ]
        },
        {
          "output_type": "stream",
          "name": "stderr",
          "text": [
            "\u001b[2m\u001b[36m(pid=51636)\u001b[0m 2023-06-10 06:07:45.349582: W tensorflow/compiler/tf2tensorrt/utils/py_utils.cc:38] TF-TRT Warning: Could not find TensorRT\n"
          ]
        },
        {
          "output_type": "stream",
          "name": "stdout",
          "text": [
            "\u001b[2m\u001b[36m(launch_and_evaluate pid=51636)\u001b[0m [Client 1] evaluate, config: {}\n"
          ]
        },
        {
          "output_type": "stream",
          "name": "stderr",
          "text": [
            "\u001b[2m\u001b[36m(pid=51696)\u001b[0m 2023-06-10 06:07:52.299777: W tensorflow/compiler/tf2tensorrt/utils/py_utils.cc:38] TF-TRT Warning: Could not find TensorRT\n"
          ]
        },
        {
          "output_type": "stream",
          "name": "stdout",
          "text": [
            "\u001b[2m\u001b[36m(launch_and_evaluate pid=51696)\u001b[0m [Client 2] evaluate, config: {}\n"
          ]
        },
        {
          "output_type": "stream",
          "name": "stderr",
          "text": [
            "DEBUG flwr 2023-06-10 06:07:58,479 | server.py:182 | evaluate_round 20 received 3 results and 0 failures\n",
            "DEBUG:flwr:evaluate_round 20 received 3 results and 0 failures\n",
            "INFO flwr 2023-06-10 06:07:58,485 | server.py:147 | FL finished in 1821.623441963\n",
            "INFO:flwr:FL finished in 1821.623441963\n",
            "INFO flwr 2023-06-10 06:07:58,500 | app.py:218 | app_fit: losses_distributed [(1, 0.08409861628214517), (2, 0.08623218981424967), (3, 0.060582253297170006), (4, 0.04694750738143921), (5, 0.04291905876000721), (6, 0.039766567667325343), (7, 0.03636438914140066), (8, 0.03493390448888143), (9, 0.029664159536361697), (10, 0.028204347888628644), (11, 0.029184418280919392), (12, 0.02570260771115621), (13, 0.02594371273120244), (14, 0.024235600690046946), (15, 0.026574144919713338), (16, 0.023303104182084405), (17, 0.024663131336371102), (18, 0.023060371538003287), (19, 0.020995896677176152), (20, 0.023625966568787894)]\n",
            "INFO:flwr:app_fit: losses_distributed [(1, 0.08409861628214517), (2, 0.08623218981424967), (3, 0.060582253297170006), (4, 0.04694750738143921), (5, 0.04291905876000721), (6, 0.039766567667325343), (7, 0.03636438914140066), (8, 0.03493390448888143), (9, 0.029664159536361697), (10, 0.028204347888628644), (11, 0.029184418280919392), (12, 0.02570260771115621), (13, 0.02594371273120244), (14, 0.024235600690046946), (15, 0.026574144919713338), (16, 0.023303104182084405), (17, 0.024663131336371102), (18, 0.023060371538003287), (19, 0.020995896677176152), (20, 0.023625966568787894)]\n",
            "INFO flwr 2023-06-10 06:07:58,507 | app.py:219 | app_fit: metrics_distributed_fit {}\n",
            "INFO:flwr:app_fit: metrics_distributed_fit {}\n",
            "INFO flwr 2023-06-10 06:07:58,512 | app.py:220 | app_fit: metrics_distributed {'accuracy': [(1, 0.102), (2, 0.10533333333333333), (3, 0.23933333333333331), (4, 0.4266666666666667), (5, 0.48733333333333334), (6, 0.5126666666666667), (7, 0.5720000000000001), (8, 0.6086666666666667), (9, 0.6693333333333333), (10, 0.684), (11, 0.666), (12, 0.7026666666666666), (13, 0.7060000000000001), (14, 0.7313333333333333), (15, 0.7120000000000001), (16, 0.7346666666666666), (17, 0.734), (18, 0.7526666666666667), (19, 0.7653333333333334), (20, 0.754)]}\n",
            "INFO:flwr:app_fit: metrics_distributed {'accuracy': [(1, 0.102), (2, 0.10533333333333333), (3, 0.23933333333333331), (4, 0.4266666666666667), (5, 0.48733333333333334), (6, 0.5126666666666667), (7, 0.5720000000000001), (8, 0.6086666666666667), (9, 0.6693333333333333), (10, 0.684), (11, 0.666), (12, 0.7026666666666666), (13, 0.7060000000000001), (14, 0.7313333333333333), (15, 0.7120000000000001), (16, 0.7346666666666666), (17, 0.734), (18, 0.7526666666666667), (19, 0.7653333333333334), (20, 0.754)]}\n",
            "INFO flwr 2023-06-10 06:07:58,514 | app.py:221 | app_fit: losses_centralized [(0, 0.07208236448764802), (1, 0.0817398339509964), (2, 0.08504672026634216), (3, 0.05848282675743103), (4, 0.04591027809381485), (5, 0.04139779316186905), (6, 0.03865827402472496), (7, 0.03627242131233215), (8, 0.03363377376198769), (9, 0.03001194502413273), (10, 0.028988944357633592), (11, 0.02748571893274784), (12, 0.02635617313683033), (13, 0.024799035215377806), (14, 0.024390988501906394), (15, 0.023918287444114686), (16, 0.022653370660543442), (17, 0.022078521750867365), (18, 0.021862558287382126), (19, 0.021593942391872407), (20, 0.021250076131522657)]\n",
            "INFO:flwr:app_fit: losses_centralized [(0, 0.07208236448764802), (1, 0.0817398339509964), (2, 0.08504672026634216), (3, 0.05848282675743103), (4, 0.04591027809381485), (5, 0.04139779316186905), (6, 0.03865827402472496), (7, 0.03627242131233215), (8, 0.03363377376198769), (9, 0.03001194502413273), (10, 0.028988944357633592), (11, 0.02748571893274784), (12, 0.02635617313683033), (13, 0.024799035215377806), (14, 0.024390988501906394), (15, 0.023918287444114686), (16, 0.022653370660543442), (17, 0.022078521750867365), (18, 0.021862558287382126), (19, 0.021593942391872407), (20, 0.021250076131522657)]\n",
            "INFO flwr 2023-06-10 06:07:58,516 | app.py:222 | app_fit: metrics_centralized {'accuracy': [(0, 0.1), (1, 0.1), (2, 0.1), (3, 0.2654), (4, 0.4288), (5, 0.4929), (6, 0.5306), (7, 0.5637), (8, 0.6051), (9, 0.6543), (10, 0.6672), (11, 0.6859), (12, 0.7036), (13, 0.7193), (14, 0.7265), (15, 0.7307), (16, 0.745), (17, 0.7541), (18, 0.7602), (19, 0.7682), (20, 0.767)]}\n",
            "INFO:flwr:app_fit: metrics_centralized {'accuracy': [(0, 0.1), (1, 0.1), (2, 0.1), (3, 0.2654), (4, 0.4288), (5, 0.4929), (6, 0.5306), (7, 0.5637), (8, 0.6051), (9, 0.6543), (10, 0.6672), (11, 0.6859), (12, 0.7036), (13, 0.7193), (14, 0.7265), (15, 0.7307), (16, 0.745), (17, 0.7541), (18, 0.7602), (19, 0.7682), (20, 0.767)]}\n"
          ]
        }
      ]
    },
    {
      "cell_type": "markdown",
      "source": [
        "## Fed Ada Grad"
      ],
      "metadata": {
        "id": "YaU0t8VQi9ff"
      }
    },
    {
      "cell_type": "code",
      "source": [
        "net = Net().to(DEVICE)\n",
        "simulate_cifar(StrategyCls=fl.server.strategy.FedAdagrad, strategyArgs=strategyConfig, net=net, num_rounds=10)"
      ],
      "metadata": {
        "colab": {
          "base_uri": "https://localhost:8080/"
        },
        "id": "6WArqxw8hcTH",
        "outputId": "d7c65622-f6ea-4af2-da63-cde6bfdff24c"
      },
      "execution_count": 7,
      "outputs": [
        {
          "output_type": "stream",
          "name": "stdout",
          "text": [
            "Files already downloaded and verified\n",
            "Files already downloaded and verified\n"
          ]
        },
        {
          "output_type": "stream",
          "name": "stderr",
          "text": [
            "INFO flwr 2023-06-10 04:42:56,677 | app.py:146 | Starting Flower simulation, config: ServerConfig(num_rounds=10, round_timeout=None)\n",
            "INFO:flwr:Starting Flower simulation, config: ServerConfig(num_rounds=10, round_timeout=None)\n",
            "2023-06-10 04:43:03,944\tINFO worker.py:1636 -- Started a local Ray instance.\n",
            "INFO flwr 2023-06-10 04:43:05,946 | app.py:180 | Flower VCE: Ray initialized with resources: {'CPU': 2.0, 'node:172.28.0.12': 1.0, 'GPU': 1.0, 'object_store_memory': 3935900467.0, 'memory': 7871800935.0}\n",
            "INFO:flwr:Flower VCE: Ray initialized with resources: {'CPU': 2.0, 'node:172.28.0.12': 1.0, 'GPU': 1.0, 'object_store_memory': 3935900467.0, 'memory': 7871800935.0}\n",
            "INFO flwr 2023-06-10 04:43:05,955 | server.py:86 | Initializing global parameters\n",
            "INFO:flwr:Initializing global parameters\n",
            "INFO flwr 2023-06-10 04:43:05,958 | server.py:269 | Using initial parameters provided by strategy\n",
            "INFO:flwr:Using initial parameters provided by strategy\n",
            "INFO flwr 2023-06-10 04:43:05,963 | server.py:88 | Evaluating initial parameters\n",
            "INFO:flwr:Evaluating initial parameters\n",
            "INFO flwr 2023-06-10 04:43:09,739 | server.py:91 | initial parameters (loss, other metrics): 0.0721333030462265, {'accuracy': 0.1001}\n",
            "INFO:flwr:initial parameters (loss, other metrics): 0.0721333030462265, {'accuracy': 0.1001}\n",
            "INFO flwr 2023-06-10 04:43:09,745 | server.py:101 | FL starting\n",
            "INFO:flwr:FL starting\n",
            "DEBUG flwr 2023-06-10 04:43:09,748 | server.py:218 | fit_round 1: strategy sampled 3 clients (out of 10)\n",
            "DEBUG:flwr:fit_round 1: strategy sampled 3 clients (out of 10)\n"
          ]
        },
        {
          "output_type": "stream",
          "name": "stdout",
          "text": [
            "Server-side evaluation loss 0.0721333030462265 / accuracy 0.1001\n"
          ]
        },
        {
          "output_type": "stream",
          "name": "stderr",
          "text": [
            "\u001b[2m\u001b[36m(pid=15396)\u001b[0m 2023-06-10 04:43:15.245406: W tensorflow/compiler/tf2tensorrt/utils/py_utils.cc:38] TF-TRT Warning: Could not find TensorRT\n"
          ]
        },
        {
          "output_type": "stream",
          "name": "stdout",
          "text": [
            "\u001b[2m\u001b[36m(launch_and_fit pid=15396)\u001b[0m [Client 7, round 1] fit, config: {'server_round': 1, 'local_epochs': 1}\n",
            "\u001b[2m\u001b[36m(launch_and_fit pid=15396)\u001b[0m Epoch 1: train loss 0.0641552060842514, accuracy 0.22822222222222222\n"
          ]
        },
        {
          "output_type": "stream",
          "name": "stderr",
          "text": [
            "\u001b[2m\u001b[36m(pid=15467)\u001b[0m 2023-06-10 04:43:23.836929: W tensorflow/compiler/tf2tensorrt/utils/py_utils.cc:38] TF-TRT Warning: Could not find TensorRT\n"
          ]
        },
        {
          "output_type": "stream",
          "name": "stdout",
          "text": [
            "\u001b[2m\u001b[36m(launch_and_fit pid=15467)\u001b[0m [Client 4, round 1] fit, config: {'server_round': 1, 'local_epochs': 1}\n",
            "\u001b[2m\u001b[36m(launch_and_fit pid=15467)\u001b[0m Epoch 1: train loss 0.06470078229904175, accuracy 0.22111111111111112\n"
          ]
        },
        {
          "output_type": "stream",
          "name": "stderr",
          "text": [
            "\u001b[2m\u001b[36m(pid=15538)\u001b[0m 2023-06-10 04:43:30.683652: W tensorflow/compiler/tf2tensorrt/utils/py_utils.cc:38] TF-TRT Warning: Could not find TensorRT\n"
          ]
        },
        {
          "output_type": "stream",
          "name": "stdout",
          "text": [
            "\u001b[2m\u001b[36m(launch_and_fit pid=15538)\u001b[0m [Client 6, round 1] fit, config: {'server_round': 1, 'local_epochs': 1}\n"
          ]
        },
        {
          "output_type": "stream",
          "name": "stderr",
          "text": [
            "DEBUG flwr 2023-06-10 04:43:37,876 | server.py:232 | fit_round 1 received 3 results and 0 failures\n",
            "DEBUG:flwr:fit_round 1 received 3 results and 0 failures\n",
            "WARNING flwr 2023-06-10 04:43:37,895 | fedavg.py:243 | No fit_metrics_aggregation_fn provided\n",
            "WARNING:flwr:No fit_metrics_aggregation_fn provided\n"
          ]
        },
        {
          "output_type": "stream",
          "name": "stdout",
          "text": [
            "\u001b[2m\u001b[36m(launch_and_fit pid=15538)\u001b[0m Epoch 1: train loss 0.06626825034618378, accuracy 0.19844444444444445\n"
          ]
        },
        {
          "output_type": "stream",
          "name": "stderr",
          "text": [
            "INFO flwr 2023-06-10 04:43:41,021 | server.py:119 | fit progress: (1, 4.960196771240234, {'accuracy': 0.1829}, 31.27228476099981)\n",
            "INFO:flwr:fit progress: (1, 4.960196771240234, {'accuracy': 0.1829}, 31.27228476099981)\n",
            "DEBUG flwr 2023-06-10 04:43:41,026 | server.py:168 | evaluate_round 1: strategy sampled 3 clients (out of 10)\n",
            "DEBUG:flwr:evaluate_round 1: strategy sampled 3 clients (out of 10)\n"
          ]
        },
        {
          "output_type": "stream",
          "name": "stdout",
          "text": [
            "Server-side evaluation loss 4.960196771240234 / accuracy 0.1829\n"
          ]
        },
        {
          "output_type": "stream",
          "name": "stderr",
          "text": [
            "\u001b[2m\u001b[36m(pid=15648)\u001b[0m 2023-06-10 04:43:46.475874: W tensorflow/compiler/tf2tensorrt/utils/py_utils.cc:38] TF-TRT Warning: Could not find TensorRT\n"
          ]
        },
        {
          "output_type": "stream",
          "name": "stdout",
          "text": [
            "\u001b[2m\u001b[36m(launch_and_evaluate pid=15648)\u001b[0m [Client 9] evaluate, config: {}\n"
          ]
        },
        {
          "output_type": "stream",
          "name": "stderr",
          "text": [
            "\u001b[2m\u001b[36m(pid=15714)\u001b[0m 2023-06-10 04:43:54.302815: W tensorflow/compiler/tf2tensorrt/utils/py_utils.cc:38] TF-TRT Warning: Could not find TensorRT\n"
          ]
        },
        {
          "output_type": "stream",
          "name": "stdout",
          "text": [
            "\u001b[2m\u001b[36m(launch_and_evaluate pid=15714)\u001b[0m [Client 6] evaluate, config: {}\n"
          ]
        },
        {
          "output_type": "stream",
          "name": "stderr",
          "text": [
            "\u001b[2m\u001b[36m(pid=15783)\u001b[0m 2023-06-10 04:44:00.012092: W tensorflow/compiler/tf2tensorrt/utils/py_utils.cc:38] TF-TRT Warning: Could not find TensorRT\n"
          ]
        },
        {
          "output_type": "stream",
          "name": "stdout",
          "text": [
            "\u001b[2m\u001b[36m(launch_and_evaluate pid=15783)\u001b[0m [Client 2] evaluate, config: {}\n"
          ]
        },
        {
          "output_type": "stream",
          "name": "stderr",
          "text": [
            "DEBUG flwr 2023-06-10 04:44:04,190 | server.py:182 | evaluate_round 1 received 3 results and 0 failures\n",
            "DEBUG:flwr:evaluate_round 1 received 3 results and 0 failures\n",
            "DEBUG flwr 2023-06-10 04:44:04,193 | server.py:218 | fit_round 2: strategy sampled 3 clients (out of 10)\n",
            "DEBUG:flwr:fit_round 2: strategy sampled 3 clients (out of 10)\n",
            "\u001b[2m\u001b[36m(pid=15869)\u001b[0m 2023-06-10 04:44:11.690766: W tensorflow/compiler/tf2tensorrt/utils/py_utils.cc:38] TF-TRT Warning: Could not find TensorRT\n"
          ]
        },
        {
          "output_type": "stream",
          "name": "stdout",
          "text": [
            "\u001b[2m\u001b[36m(launch_and_fit pid=15869)\u001b[0m [Client 1, round 2] fit, config: {'server_round': 2, 'local_epochs': 2}\n",
            "\u001b[2m\u001b[36m(launch_and_fit pid=15869)\u001b[0m Epoch 1: train loss 0.6123987436294556, accuracy 0.288\n",
            "\u001b[2m\u001b[36m(launch_and_fit pid=15869)\u001b[0m Epoch 2: train loss 0.07226027548313141, accuracy 0.31177777777777776\n"
          ]
        },
        {
          "output_type": "stream",
          "name": "stderr",
          "text": [
            "\u001b[2m\u001b[36m(pid=15946)\u001b[0m 2023-06-10 04:44:22.096719: W tensorflow/compiler/tf2tensorrt/utils/py_utils.cc:38] TF-TRT Warning: Could not find TensorRT\n"
          ]
        },
        {
          "output_type": "stream",
          "name": "stdout",
          "text": [
            "\u001b[2m\u001b[36m(launch_and_fit pid=15946)\u001b[0m [Client 5, round 2] fit, config: {'server_round': 2, 'local_epochs': 2}\n",
            "\u001b[2m\u001b[36m(launch_and_fit pid=15946)\u001b[0m Epoch 1: train loss 0.585899293422699, accuracy 0.2797777777777778\n",
            "\u001b[2m\u001b[36m(launch_and_fit pid=15946)\u001b[0m Epoch 2: train loss 0.07137567549943924, accuracy 0.29777777777777775\n"
          ]
        },
        {
          "output_type": "stream",
          "name": "stderr",
          "text": [
            "\u001b[2m\u001b[36m(pid=16034)\u001b[0m 2023-06-10 04:44:31.826035: W tensorflow/compiler/tf2tensorrt/utils/py_utils.cc:38] TF-TRT Warning: Could not find TensorRT\n"
          ]
        },
        {
          "output_type": "stream",
          "name": "stdout",
          "text": [
            "\u001b[2m\u001b[36m(launch_and_fit pid=16034)\u001b[0m [Client 8, round 2] fit, config: {'server_round': 2, 'local_epochs': 2}\n",
            "\u001b[2m\u001b[36m(launch_and_fit pid=16034)\u001b[0m Epoch 1: train loss 0.5738986134529114, accuracy 0.2902222222222222\n"
          ]
        },
        {
          "output_type": "stream",
          "name": "stderr",
          "text": [
            "DEBUG flwr 2023-06-10 04:44:40,772 | server.py:232 | fit_round 2 received 3 results and 0 failures\n",
            "DEBUG:flwr:fit_round 2 received 3 results and 0 failures\n"
          ]
        },
        {
          "output_type": "stream",
          "name": "stdout",
          "text": [
            "\u001b[2m\u001b[36m(launch_and_fit pid=16034)\u001b[0m Epoch 2: train loss 0.07101888954639435, accuracy 0.32955555555555555\n"
          ]
        },
        {
          "output_type": "stream",
          "name": "stderr",
          "text": [
            "INFO flwr 2023-06-10 04:44:45,529 | server.py:119 | fit progress: (2, 0.2937220021724701, {'accuracy': 0.0858}, 95.78043622599989)\n",
            "INFO:flwr:fit progress: (2, 0.2937220021724701, {'accuracy': 0.0858}, 95.78043622599989)\n",
            "DEBUG flwr 2023-06-10 04:44:45,536 | server.py:168 | evaluate_round 2: strategy sampled 3 clients (out of 10)\n",
            "DEBUG:flwr:evaluate_round 2: strategy sampled 3 clients (out of 10)\n"
          ]
        },
        {
          "output_type": "stream",
          "name": "stdout",
          "text": [
            "Server-side evaluation loss 0.2937220021724701 / accuracy 0.0858\n"
          ]
        },
        {
          "output_type": "stream",
          "name": "stderr",
          "text": [
            "\u001b[2m\u001b[36m(pid=16160)\u001b[0m 2023-06-10 04:44:52.300592: W tensorflow/compiler/tf2tensorrt/utils/py_utils.cc:38] TF-TRT Warning: Could not find TensorRT\n"
          ]
        },
        {
          "output_type": "stream",
          "name": "stdout",
          "text": [
            "\u001b[2m\u001b[36m(launch_and_evaluate pid=16160)\u001b[0m [Client 3] evaluate, config: {}\n"
          ]
        },
        {
          "output_type": "stream",
          "name": "stderr",
          "text": [
            "\u001b[2m\u001b[36m(pid=16230)\u001b[0m 2023-06-10 04:44:59.098734: W tensorflow/compiler/tf2tensorrt/utils/py_utils.cc:38] TF-TRT Warning: Could not find TensorRT\n"
          ]
        },
        {
          "output_type": "stream",
          "name": "stdout",
          "text": [
            "\u001b[2m\u001b[36m(launch_and_evaluate pid=16230)\u001b[0m [Client 5] evaluate, config: {}\n"
          ]
        },
        {
          "output_type": "stream",
          "name": "stderr",
          "text": [
            "\u001b[2m\u001b[36m(pid=16293)\u001b[0m 2023-06-10 04:45:04.968816: W tensorflow/compiler/tf2tensorrt/utils/py_utils.cc:38] TF-TRT Warning: Could not find TensorRT\n"
          ]
        },
        {
          "output_type": "stream",
          "name": "stdout",
          "text": [
            "\u001b[2m\u001b[36m(launch_and_evaluate pid=16293)\u001b[0m [Client 6] evaluate, config: {}\n"
          ]
        },
        {
          "output_type": "stream",
          "name": "stderr",
          "text": [
            "DEBUG flwr 2023-06-10 04:45:10,914 | server.py:182 | evaluate_round 2 received 3 results and 0 failures\n",
            "DEBUG:flwr:evaluate_round 2 received 3 results and 0 failures\n",
            "DEBUG flwr 2023-06-10 04:45:10,918 | server.py:218 | fit_round 3: strategy sampled 3 clients (out of 10)\n",
            "DEBUG:flwr:fit_round 3: strategy sampled 3 clients (out of 10)\n",
            "\u001b[2m\u001b[36m(pid=16379)\u001b[0m 2023-06-10 04:45:16.416152: W tensorflow/compiler/tf2tensorrt/utils/py_utils.cc:38] TF-TRT Warning: Could not find TensorRT\n"
          ]
        },
        {
          "output_type": "stream",
          "name": "stdout",
          "text": [
            "\u001b[2m\u001b[36m(launch_and_fit pid=16379)\u001b[0m [Client 2, round 3] fit, config: {'server_round': 3, 'local_epochs': 2}\n",
            "\u001b[2m\u001b[36m(launch_and_fit pid=16379)\u001b[0m Epoch 1: train loss 0.07729289680719376, accuracy 0.1831111111111111\n",
            "\u001b[2m\u001b[36m(launch_and_fit pid=16379)\u001b[0m Epoch 2: train loss 0.06005435064435005, accuracy 0.2742222222222222\n"
          ]
        },
        {
          "output_type": "stream",
          "name": "stderr",
          "text": [
            "\u001b[2m\u001b[36m(pid=16465)\u001b[0m 2023-06-10 04:45:27.166420: W tensorflow/compiler/tf2tensorrt/utils/py_utils.cc:38] TF-TRT Warning: Could not find TensorRT\n"
          ]
        },
        {
          "output_type": "stream",
          "name": "stdout",
          "text": [
            "\u001b[2m\u001b[36m(launch_and_fit pid=16465)\u001b[0m [Client 7, round 3] fit, config: {'server_round': 3, 'local_epochs': 2}\n",
            "\u001b[2m\u001b[36m(launch_and_fit pid=16465)\u001b[0m Epoch 1: train loss 0.07861638814210892, accuracy 0.156\n",
            "\u001b[2m\u001b[36m(launch_and_fit pid=16465)\u001b[0m Epoch 2: train loss 0.06095017492771149, accuracy 0.246\n"
          ]
        },
        {
          "output_type": "stream",
          "name": "stderr",
          "text": [
            "\u001b[2m\u001b[36m(pid=16545)\u001b[0m 2023-06-10 04:45:36.122315: W tensorflow/compiler/tf2tensorrt/utils/py_utils.cc:38] TF-TRT Warning: Could not find TensorRT\n"
          ]
        },
        {
          "output_type": "stream",
          "name": "stdout",
          "text": [
            "\u001b[2m\u001b[36m(launch_and_fit pid=16545)\u001b[0m [Client 5, round 3] fit, config: {'server_round': 3, 'local_epochs': 2}\n",
            "\u001b[2m\u001b[36m(launch_and_fit pid=16545)\u001b[0m Epoch 1: train loss 0.0796741396188736, accuracy 0.16355555555555557\n"
          ]
        },
        {
          "output_type": "stream",
          "name": "stderr",
          "text": [
            "DEBUG flwr 2023-06-10 04:45:45,137 | server.py:232 | fit_round 3 received 3 results and 0 failures\n",
            "DEBUG:flwr:fit_round 3 received 3 results and 0 failures\n"
          ]
        },
        {
          "output_type": "stream",
          "name": "stdout",
          "text": [
            "\u001b[2m\u001b[36m(launch_and_fit pid=16545)\u001b[0m Epoch 2: train loss 0.06183798611164093, accuracy 0.25044444444444447\n"
          ]
        },
        {
          "output_type": "stream",
          "name": "stderr",
          "text": [
            "INFO flwr 2023-06-10 04:45:48,184 | server.py:119 | fit progress: (3, 0.16301658141613007, {'accuracy': 0.1587}, 158.4360634159998)\n",
            "INFO:flwr:fit progress: (3, 0.16301658141613007, {'accuracy': 0.1587}, 158.4360634159998)\n",
            "DEBUG flwr 2023-06-10 04:45:48,190 | server.py:168 | evaluate_round 3: strategy sampled 3 clients (out of 10)\n",
            "DEBUG:flwr:evaluate_round 3: strategy sampled 3 clients (out of 10)\n"
          ]
        },
        {
          "output_type": "stream",
          "name": "stdout",
          "text": [
            "Server-side evaluation loss 0.16301658141613007 / accuracy 0.1587\n"
          ]
        },
        {
          "output_type": "stream",
          "name": "stderr",
          "text": [
            "\u001b[2m\u001b[36m(pid=16665)\u001b[0m 2023-06-10 04:45:55.862105: W tensorflow/compiler/tf2tensorrt/utils/py_utils.cc:38] TF-TRT Warning: Could not find TensorRT\n"
          ]
        },
        {
          "output_type": "stream",
          "name": "stdout",
          "text": [
            "\u001b[2m\u001b[36m(launch_and_evaluate pid=16665)\u001b[0m [Client 5] evaluate, config: {}\n"
          ]
        },
        {
          "output_type": "stream",
          "name": "stderr",
          "text": [
            "\u001b[2m\u001b[36m(pid=16736)\u001b[0m 2023-06-10 04:46:01.816090: W tensorflow/compiler/tf2tensorrt/utils/py_utils.cc:38] TF-TRT Warning: Could not find TensorRT\n"
          ]
        },
        {
          "output_type": "stream",
          "name": "stdout",
          "text": [
            "\u001b[2m\u001b[36m(launch_and_evaluate pid=16736)\u001b[0m [Client 2] evaluate, config: {}\n"
          ]
        },
        {
          "output_type": "stream",
          "name": "stderr",
          "text": [
            "\u001b[2m\u001b[36m(pid=16794)\u001b[0m 2023-06-10 04:46:08.516189: W tensorflow/compiler/tf2tensorrt/utils/py_utils.cc:38] TF-TRT Warning: Could not find TensorRT\n"
          ]
        },
        {
          "output_type": "stream",
          "name": "stdout",
          "text": [
            "\u001b[2m\u001b[36m(launch_and_evaluate pid=16794)\u001b[0m [Client 0] evaluate, config: {}\n"
          ]
        },
        {
          "output_type": "stream",
          "name": "stderr",
          "text": [
            "DEBUG flwr 2023-06-10 04:46:13,881 | server.py:182 | evaluate_round 3 received 3 results and 0 failures\n",
            "DEBUG:flwr:evaluate_round 3 received 3 results and 0 failures\n",
            "DEBUG flwr 2023-06-10 04:46:13,887 | server.py:218 | fit_round 4: strategy sampled 3 clients (out of 10)\n",
            "DEBUG:flwr:fit_round 4: strategy sampled 3 clients (out of 10)\n",
            "\u001b[2m\u001b[36m(pid=16884)\u001b[0m 2023-06-10 04:46:19.371016: W tensorflow/compiler/tf2tensorrt/utils/py_utils.cc:38] TF-TRT Warning: Could not find TensorRT\n"
          ]
        },
        {
          "output_type": "stream",
          "name": "stdout",
          "text": [
            "\u001b[2m\u001b[36m(launch_and_fit pid=16884)\u001b[0m [Client 6, round 4] fit, config: {'server_round': 4, 'local_epochs': 2}\n",
            "\u001b[2m\u001b[36m(launch_and_fit pid=16884)\u001b[0m Epoch 1: train loss 0.06508415192365646, accuracy 0.25755555555555554\n",
            "\u001b[2m\u001b[36m(launch_and_fit pid=16884)\u001b[0m Epoch 2: train loss 0.05682704225182533, accuracy 0.31377777777777777\n"
          ]
        },
        {
          "output_type": "stream",
          "name": "stderr",
          "text": [
            "\u001b[2m\u001b[36m(pid=16972)\u001b[0m 2023-06-10 04:46:30.253987: W tensorflow/compiler/tf2tensorrt/utils/py_utils.cc:38] TF-TRT Warning: Could not find TensorRT\n"
          ]
        },
        {
          "output_type": "stream",
          "name": "stdout",
          "text": [
            "\u001b[2m\u001b[36m(launch_and_fit pid=16972)\u001b[0m [Client 9, round 4] fit, config: {'server_round': 4, 'local_epochs': 2}\n",
            "\u001b[2m\u001b[36m(launch_and_fit pid=16972)\u001b[0m Epoch 1: train loss 0.06506189703941345, accuracy 0.26511111111111113\n",
            "\u001b[2m\u001b[36m(launch_and_fit pid=16972)\u001b[0m Epoch 2: train loss 0.05599690601229668, accuracy 0.3208888888888889\n"
          ]
        },
        {
          "output_type": "stream",
          "name": "stderr",
          "text": [
            "\u001b[2m\u001b[36m(pid=17049)\u001b[0m 2023-06-10 04:46:41.258762: W tensorflow/compiler/tf2tensorrt/utils/py_utils.cc:38] TF-TRT Warning: Could not find TensorRT\n"
          ]
        },
        {
          "output_type": "stream",
          "name": "stdout",
          "text": [
            "\u001b[2m\u001b[36m(launch_and_fit pid=17049)\u001b[0m [Client 0, round 4] fit, config: {'server_round': 4, 'local_epochs': 2}\n",
            "\u001b[2m\u001b[36m(launch_and_fit pid=17049)\u001b[0m Epoch 1: train loss 0.0650646835565567, accuracy 0.2682222222222222\n"
          ]
        },
        {
          "output_type": "stream",
          "name": "stderr",
          "text": [
            "DEBUG flwr 2023-06-10 04:46:48,821 | server.py:232 | fit_round 4 received 3 results and 0 failures\n",
            "DEBUG:flwr:fit_round 4 received 3 results and 0 failures\n"
          ]
        },
        {
          "output_type": "stream",
          "name": "stdout",
          "text": [
            "\u001b[2m\u001b[36m(launch_and_fit pid=17049)\u001b[0m Epoch 2: train loss 0.055419981479644775, accuracy 0.32911111111111113\n"
          ]
        },
        {
          "output_type": "stream",
          "name": "stderr",
          "text": [
            "INFO flwr 2023-06-10 04:46:51,959 | server.py:119 | fit progress: (4, 0.1924193106174469, {'accuracy': 0.1156}, 222.21103730799996)\n",
            "INFO:flwr:fit progress: (4, 0.1924193106174469, {'accuracy': 0.1156}, 222.21103730799996)\n",
            "DEBUG flwr 2023-06-10 04:46:51,965 | server.py:168 | evaluate_round 4: strategy sampled 3 clients (out of 10)\n",
            "DEBUG:flwr:evaluate_round 4: strategy sampled 3 clients (out of 10)\n"
          ]
        },
        {
          "output_type": "stream",
          "name": "stdout",
          "text": [
            "Server-side evaluation loss 0.1924193106174469 / accuracy 0.1156\n"
          ]
        },
        {
          "output_type": "stream",
          "name": "stderr",
          "text": [
            "\u001b[2m\u001b[36m(pid=17181)\u001b[0m 2023-06-10 04:47:00.146641: W tensorflow/compiler/tf2tensorrt/utils/py_utils.cc:38] TF-TRT Warning: Could not find TensorRT\n"
          ]
        },
        {
          "output_type": "stream",
          "name": "stdout",
          "text": [
            "\u001b[2m\u001b[36m(launch_and_evaluate pid=17181)\u001b[0m [Client 1] evaluate, config: {}\n"
          ]
        },
        {
          "output_type": "stream",
          "name": "stderr",
          "text": [
            "\u001b[2m\u001b[36m(pid=17242)\u001b[0m 2023-06-10 04:47:05.865628: W tensorflow/compiler/tf2tensorrt/utils/py_utils.cc:38] TF-TRT Warning: Could not find TensorRT\n"
          ]
        },
        {
          "output_type": "stream",
          "name": "stdout",
          "text": [
            "\u001b[2m\u001b[36m(launch_and_evaluate pid=17242)\u001b[0m [Client 5] evaluate, config: {}\n"
          ]
        },
        {
          "output_type": "stream",
          "name": "stderr",
          "text": [
            "\u001b[2m\u001b[36m(pid=17308)\u001b[0m 2023-06-10 04:47:13.925856: W tensorflow/compiler/tf2tensorrt/utils/py_utils.cc:38] TF-TRT Warning: Could not find TensorRT\n"
          ]
        },
        {
          "output_type": "stream",
          "name": "stdout",
          "text": [
            "\u001b[2m\u001b[36m(launch_and_evaluate pid=17308)\u001b[0m [Client 7] evaluate, config: {}\n"
          ]
        },
        {
          "output_type": "stream",
          "name": "stderr",
          "text": [
            "DEBUG flwr 2023-06-10 04:47:17,832 | server.py:182 | evaluate_round 4 received 3 results and 0 failures\n",
            "DEBUG:flwr:evaluate_round 4 received 3 results and 0 failures\n",
            "DEBUG flwr 2023-06-10 04:47:17,841 | server.py:218 | fit_round 5: strategy sampled 3 clients (out of 10)\n",
            "DEBUG:flwr:fit_round 5: strategy sampled 3 clients (out of 10)\n",
            "\u001b[2m\u001b[36m(pid=17394)\u001b[0m 2023-06-10 04:47:23.316852: W tensorflow/compiler/tf2tensorrt/utils/py_utils.cc:38] TF-TRT Warning: Could not find TensorRT\n"
          ]
        },
        {
          "output_type": "stream",
          "name": "stdout",
          "text": [
            "\u001b[2m\u001b[36m(launch_and_fit pid=17394)\u001b[0m [Client 9, round 5] fit, config: {'server_round': 5, 'local_epochs': 2}\n",
            "\u001b[2m\u001b[36m(launch_and_fit pid=17394)\u001b[0m Epoch 1: train loss 0.06499236077070236, accuracy 0.2644444444444444\n",
            "\u001b[2m\u001b[36m(launch_and_fit pid=17394)\u001b[0m Epoch 2: train loss 0.05351903289556503, accuracy 0.37244444444444447\n"
          ]
        },
        {
          "output_type": "stream",
          "name": "stderr",
          "text": [
            "\u001b[2m\u001b[36m(pid=17481)\u001b[0m 2023-06-10 04:47:36.370747: W tensorflow/compiler/tf2tensorrt/utils/py_utils.cc:38] TF-TRT Warning: Could not find TensorRT\n"
          ]
        },
        {
          "output_type": "stream",
          "name": "stdout",
          "text": [
            "\u001b[2m\u001b[36m(launch_and_fit pid=17481)\u001b[0m [Client 6, round 5] fit, config: {'server_round': 5, 'local_epochs': 2}\n",
            "\u001b[2m\u001b[36m(launch_and_fit pid=17481)\u001b[0m Epoch 1: train loss 0.06559990346431732, accuracy 0.2611111111111111\n",
            "\u001b[2m\u001b[36m(launch_and_fit pid=17481)\u001b[0m Epoch 2: train loss 0.05347520112991333, accuracy 0.3631111111111111\n"
          ]
        },
        {
          "output_type": "stream",
          "name": "stderr",
          "text": [
            "\u001b[2m\u001b[36m(pid=17576)\u001b[0m 2023-06-10 04:47:47.283334: W tensorflow/compiler/tf2tensorrt/utils/py_utils.cc:38] TF-TRT Warning: Could not find TensorRT\n"
          ]
        },
        {
          "output_type": "stream",
          "name": "stdout",
          "text": [
            "\u001b[2m\u001b[36m(launch_and_fit pid=17576)\u001b[0m [Client 4, round 5] fit, config: {'server_round': 5, 'local_epochs': 2}\n",
            "\u001b[2m\u001b[36m(launch_and_fit pid=17576)\u001b[0m Epoch 1: train loss 0.06562953442335129, accuracy 0.2568888888888889\n"
          ]
        },
        {
          "output_type": "stream",
          "name": "stderr",
          "text": [
            "DEBUG flwr 2023-06-10 04:47:54,460 | server.py:232 | fit_round 5 received 3 results and 0 failures\n",
            "DEBUG:flwr:fit_round 5 received 3 results and 0 failures\n"
          ]
        },
        {
          "output_type": "stream",
          "name": "stdout",
          "text": [
            "\u001b[2m\u001b[36m(launch_and_fit pid=17576)\u001b[0m Epoch 2: train loss 0.05327625945210457, accuracy 0.3668888888888889\n"
          ]
        },
        {
          "output_type": "stream",
          "name": "stderr",
          "text": [
            "INFO flwr 2023-06-10 04:47:58,584 | server.py:119 | fit progress: (5, 0.13802191905975342, {'accuracy': 0.1516}, 288.83581873799994)\n",
            "INFO:flwr:fit progress: (5, 0.13802191905975342, {'accuracy': 0.1516}, 288.83581873799994)\n",
            "DEBUG flwr 2023-06-10 04:47:58,591 | server.py:168 | evaluate_round 5: strategy sampled 3 clients (out of 10)\n",
            "DEBUG:flwr:evaluate_round 5: strategy sampled 3 clients (out of 10)\n"
          ]
        },
        {
          "output_type": "stream",
          "name": "stdout",
          "text": [
            "Server-side evaluation loss 0.13802191905975342 / accuracy 0.1516\n"
          ]
        },
        {
          "output_type": "stream",
          "name": "stderr",
          "text": [
            "\u001b[2m\u001b[36m(pid=17696)\u001b[0m 2023-06-10 04:48:04.902013: W tensorflow/compiler/tf2tensorrt/utils/py_utils.cc:38] TF-TRT Warning: Could not find TensorRT\n"
          ]
        },
        {
          "output_type": "stream",
          "name": "stdout",
          "text": [
            "\u001b[2m\u001b[36m(launch_and_evaluate pid=17696)\u001b[0m [Client 9] evaluate, config: {}\n"
          ]
        },
        {
          "output_type": "stream",
          "name": "stderr",
          "text": [
            "\u001b[2m\u001b[36m(pid=17756)\u001b[0m 2023-06-10 04:48:10.872955: W tensorflow/compiler/tf2tensorrt/utils/py_utils.cc:38] TF-TRT Warning: Could not find TensorRT\n"
          ]
        },
        {
          "output_type": "stream",
          "name": "stdout",
          "text": [
            "\u001b[2m\u001b[36m(launch_and_evaluate pid=17756)\u001b[0m [Client 5] evaluate, config: {}\n"
          ]
        },
        {
          "output_type": "stream",
          "name": "stderr",
          "text": [
            "\u001b[2m\u001b[36m(pid=17826)\u001b[0m 2023-06-10 04:48:18.768613: W tensorflow/compiler/tf2tensorrt/utils/py_utils.cc:38] TF-TRT Warning: Could not find TensorRT\n"
          ]
        },
        {
          "output_type": "stream",
          "name": "stdout",
          "text": [
            "\u001b[2m\u001b[36m(launch_and_evaluate pid=17826)\u001b[0m [Client 4] evaluate, config: {}\n"
          ]
        },
        {
          "output_type": "stream",
          "name": "stderr",
          "text": [
            "DEBUG flwr 2023-06-10 04:48:22,715 | server.py:182 | evaluate_round 5 received 3 results and 0 failures\n",
            "DEBUG:flwr:evaluate_round 5 received 3 results and 0 failures\n",
            "DEBUG flwr 2023-06-10 04:48:22,720 | server.py:218 | fit_round 6: strategy sampled 3 clients (out of 10)\n",
            "DEBUG:flwr:fit_round 6: strategy sampled 3 clients (out of 10)\n",
            "\u001b[2m\u001b[36m(pid=17904)\u001b[0m 2023-06-10 04:48:30.012696: W tensorflow/compiler/tf2tensorrt/utils/py_utils.cc:38] TF-TRT Warning: Could not find TensorRT\n"
          ]
        },
        {
          "output_type": "stream",
          "name": "stdout",
          "text": [
            "\u001b[2m\u001b[36m(launch_and_fit pid=17904)\u001b[0m [Client 8, round 6] fit, config: {'server_round': 6, 'local_epochs': 2}\n",
            "\u001b[2m\u001b[36m(launch_and_fit pid=17904)\u001b[0m Epoch 1: train loss 0.05628741532564163, accuracy 0.3511111111111111\n",
            "\u001b[2m\u001b[36m(launch_and_fit pid=17904)\u001b[0m Epoch 2: train loss 0.05006071925163269, accuracy 0.41444444444444445\n"
          ]
        },
        {
          "output_type": "stream",
          "name": "stderr",
          "text": [
            "\u001b[2m\u001b[36m(pid=17995)\u001b[0m 2023-06-10 04:48:39.538830: W tensorflow/compiler/tf2tensorrt/utils/py_utils.cc:38] TF-TRT Warning: Could not find TensorRT\n"
          ]
        },
        {
          "output_type": "stream",
          "name": "stdout",
          "text": [
            "\u001b[2m\u001b[36m(launch_and_fit pid=17995)\u001b[0m [Client 0, round 6] fit, config: {'server_round': 6, 'local_epochs': 2}\n",
            "\u001b[2m\u001b[36m(launch_and_fit pid=17995)\u001b[0m Epoch 1: train loss 0.05765495449304581, accuracy 0.3368888888888889\n",
            "\u001b[2m\u001b[36m(launch_and_fit pid=17995)\u001b[0m Epoch 2: train loss 0.05007116124033928, accuracy 0.4033333333333333\n"
          ]
        },
        {
          "output_type": "stream",
          "name": "stderr",
          "text": [
            "\u001b[2m\u001b[36m(pid=18078)\u001b[0m 2023-06-10 04:48:50.246905: W tensorflow/compiler/tf2tensorrt/utils/py_utils.cc:38] TF-TRT Warning: Could not find TensorRT\n"
          ]
        },
        {
          "output_type": "stream",
          "name": "stdout",
          "text": [
            "\u001b[2m\u001b[36m(launch_and_fit pid=18078)\u001b[0m [Client 6, round 6] fit, config: {'server_round': 6, 'local_epochs': 2}\n",
            "\u001b[2m\u001b[36m(launch_and_fit pid=18078)\u001b[0m Epoch 1: train loss 0.05681980773806572, accuracy 0.3526666666666667\n"
          ]
        },
        {
          "output_type": "stream",
          "name": "stderr",
          "text": [
            "DEBUG flwr 2023-06-10 04:48:57,544 | server.py:232 | fit_round 6 received 3 results and 0 failures\n",
            "DEBUG:flwr:fit_round 6 received 3 results and 0 failures\n"
          ]
        },
        {
          "output_type": "stream",
          "name": "stdout",
          "text": [
            "\u001b[2m\u001b[36m(launch_and_fit pid=18078)\u001b[0m Epoch 2: train loss 0.05104149132966995, accuracy 0.39355555555555555\n"
          ]
        },
        {
          "output_type": "stream",
          "name": "stderr",
          "text": [
            "INFO flwr 2023-06-10 04:49:02,354 | server.py:119 | fit progress: (6, 0.08938860124349594, {'accuracy': 0.2175}, 352.60548100000005)\n",
            "INFO:flwr:fit progress: (6, 0.08938860124349594, {'accuracy': 0.2175}, 352.60548100000005)\n",
            "DEBUG flwr 2023-06-10 04:49:02,358 | server.py:168 | evaluate_round 6: strategy sampled 3 clients (out of 10)\n",
            "DEBUG:flwr:evaluate_round 6: strategy sampled 3 clients (out of 10)\n"
          ]
        },
        {
          "output_type": "stream",
          "name": "stdout",
          "text": [
            "Server-side evaluation loss 0.08938860124349594 / accuracy 0.2175\n"
          ]
        },
        {
          "output_type": "stream",
          "name": "stderr",
          "text": [
            "\u001b[2m\u001b[36m(pid=18201)\u001b[0m 2023-06-10 04:49:08.006961: W tensorflow/compiler/tf2tensorrt/utils/py_utils.cc:38] TF-TRT Warning: Could not find TensorRT\n"
          ]
        },
        {
          "output_type": "stream",
          "name": "stdout",
          "text": [
            "\u001b[2m\u001b[36m(launch_and_evaluate pid=18201)\u001b[0m [Client 6] evaluate, config: {}\n"
          ]
        },
        {
          "output_type": "stream",
          "name": "stderr",
          "text": [
            "\u001b[2m\u001b[36m(pid=18261)\u001b[0m 2023-06-10 04:49:14.812479: W tensorflow/compiler/tf2tensorrt/utils/py_utils.cc:38] TF-TRT Warning: Could not find TensorRT\n"
          ]
        },
        {
          "output_type": "stream",
          "name": "stdout",
          "text": [
            "\u001b[2m\u001b[36m(launch_and_evaluate pid=18261)\u001b[0m [Client 5] evaluate, config: {}\n"
          ]
        },
        {
          "output_type": "stream",
          "name": "stderr",
          "text": [
            "\u001b[2m\u001b[36m(pid=18332)\u001b[0m 2023-06-10 04:49:22.018297: W tensorflow/compiler/tf2tensorrt/utils/py_utils.cc:38] TF-TRT Warning: Could not find TensorRT\n"
          ]
        },
        {
          "output_type": "stream",
          "name": "stdout",
          "text": [
            "\u001b[2m\u001b[36m(launch_and_evaluate pid=18332)\u001b[0m [Client 8] evaluate, config: {}\n"
          ]
        },
        {
          "output_type": "stream",
          "name": "stderr",
          "text": [
            "DEBUG flwr 2023-06-10 04:49:26,030 | server.py:182 | evaluate_round 6 received 3 results and 0 failures\n",
            "DEBUG:flwr:evaluate_round 6 received 3 results and 0 failures\n",
            "DEBUG flwr 2023-06-10 04:49:26,033 | server.py:218 | fit_round 7: strategy sampled 3 clients (out of 10)\n",
            "DEBUG:flwr:fit_round 7: strategy sampled 3 clients (out of 10)\n",
            "\u001b[2m\u001b[36m(pid=18416)\u001b[0m 2023-06-10 04:49:34.086114: W tensorflow/compiler/tf2tensorrt/utils/py_utils.cc:38] TF-TRT Warning: Could not find TensorRT\n"
          ]
        },
        {
          "output_type": "stream",
          "name": "stdout",
          "text": [
            "\u001b[2m\u001b[36m(launch_and_fit pid=18416)\u001b[0m [Client 4, round 7] fit, config: {'server_round': 7, 'local_epochs': 2}\n",
            "\u001b[2m\u001b[36m(launch_and_fit pid=18416)\u001b[0m Epoch 1: train loss 0.0517716221511364, accuracy 0.396\n",
            "\u001b[2m\u001b[36m(launch_and_fit pid=18416)\u001b[0m Epoch 2: train loss 0.048425476998090744, accuracy 0.424\n"
          ]
        },
        {
          "output_type": "stream",
          "name": "stderr",
          "text": [
            "\u001b[2m\u001b[36m(pid=18501)\u001b[0m 2023-06-10 04:49:42.959875: W tensorflow/compiler/tf2tensorrt/utils/py_utils.cc:38] TF-TRT Warning: Could not find TensorRT\n"
          ]
        },
        {
          "output_type": "stream",
          "name": "stdout",
          "text": [
            "\u001b[2m\u001b[36m(launch_and_fit pid=18501)\u001b[0m [Client 3, round 7] fit, config: {'server_round': 7, 'local_epochs': 2}\n",
            "\u001b[2m\u001b[36m(launch_and_fit pid=18501)\u001b[0m Epoch 1: train loss 0.052423980087041855, accuracy 0.38755555555555554\n",
            "\u001b[2m\u001b[36m(launch_and_fit pid=18501)\u001b[0m Epoch 2: train loss 0.048759825527668, accuracy 0.42244444444444446\n"
          ]
        },
        {
          "output_type": "stream",
          "name": "stderr",
          "text": [
            "\u001b[2m\u001b[36m(pid=18583)\u001b[0m 2023-06-10 04:49:53.803163: W tensorflow/compiler/tf2tensorrt/utils/py_utils.cc:38] TF-TRT Warning: Could not find TensorRT\n"
          ]
        },
        {
          "output_type": "stream",
          "name": "stdout",
          "text": [
            "\u001b[2m\u001b[36m(launch_and_fit pid=18583)\u001b[0m [Client 9, round 7] fit, config: {'server_round': 7, 'local_epochs': 2}\n",
            "\u001b[2m\u001b[36m(launch_and_fit pid=18583)\u001b[0m Epoch 1: train loss 0.052358660846948624, accuracy 0.37844444444444447\n"
          ]
        },
        {
          "output_type": "stream",
          "name": "stderr",
          "text": [
            "DEBUG flwr 2023-06-10 04:50:01,456 | server.py:232 | fit_round 7 received 3 results and 0 failures\n",
            "DEBUG:flwr:fit_round 7 received 3 results and 0 failures\n"
          ]
        },
        {
          "output_type": "stream",
          "name": "stdout",
          "text": [
            "\u001b[2m\u001b[36m(launch_and_fit pid=18583)\u001b[0m Epoch 2: train loss 0.04870002716779709, accuracy 0.4211111111111111\n"
          ]
        },
        {
          "output_type": "stream",
          "name": "stderr",
          "text": [
            "INFO flwr 2023-06-10 04:50:06,023 | server.py:119 | fit progress: (7, 0.07083493617773055, {'accuracy': 0.2458}, 416.27492906)\n",
            "INFO:flwr:fit progress: (7, 0.07083493617773055, {'accuracy': 0.2458}, 416.27492906)\n",
            "DEBUG flwr 2023-06-10 04:50:06,029 | server.py:168 | evaluate_round 7: strategy sampled 3 clients (out of 10)\n",
            "DEBUG:flwr:evaluate_round 7: strategy sampled 3 clients (out of 10)\n"
          ]
        },
        {
          "output_type": "stream",
          "name": "stdout",
          "text": [
            "Server-side evaluation loss 0.07083493617773055 / accuracy 0.2458\n"
          ]
        },
        {
          "output_type": "stream",
          "name": "stderr",
          "text": [
            "\u001b[2m\u001b[36m(pid=18707)\u001b[0m 2023-06-10 04:50:11.477903: W tensorflow/compiler/tf2tensorrt/utils/py_utils.cc:38] TF-TRT Warning: Could not find TensorRT\n"
          ]
        },
        {
          "output_type": "stream",
          "name": "stdout",
          "text": [
            "\u001b[2m\u001b[36m(launch_and_evaluate pid=18707)\u001b[0m [Client 1] evaluate, config: {}\n"
          ]
        },
        {
          "output_type": "stream",
          "name": "stderr",
          "text": [
            "\u001b[2m\u001b[36m(pid=18767)\u001b[0m 2023-06-10 04:50:19.310881: W tensorflow/compiler/tf2tensorrt/utils/py_utils.cc:38] TF-TRT Warning: Could not find TensorRT\n"
          ]
        },
        {
          "output_type": "stream",
          "name": "stdout",
          "text": [
            "\u001b[2m\u001b[36m(launch_and_evaluate pid=18767)\u001b[0m [Client 9] evaluate, config: {}\n"
          ]
        },
        {
          "output_type": "stream",
          "name": "stderr",
          "text": [
            "\u001b[2m\u001b[36m(pid=18838)\u001b[0m 2023-06-10 04:50:27.742329: W tensorflow/compiler/tf2tensorrt/utils/py_utils.cc:38] TF-TRT Warning: Could not find TensorRT\n"
          ]
        },
        {
          "output_type": "stream",
          "name": "stdout",
          "text": [
            "\u001b[2m\u001b[36m(launch_and_evaluate pid=18838)\u001b[0m [Client 2] evaluate, config: {}\n"
          ]
        },
        {
          "output_type": "stream",
          "name": "stderr",
          "text": [
            "DEBUG flwr 2023-06-10 04:50:32,351 | server.py:182 | evaluate_round 7 received 3 results and 0 failures\n",
            "DEBUG:flwr:evaluate_round 7 received 3 results and 0 failures\n",
            "DEBUG flwr 2023-06-10 04:50:32,354 | server.py:218 | fit_round 8: strategy sampled 3 clients (out of 10)\n",
            "DEBUG:flwr:fit_round 8: strategy sampled 3 clients (out of 10)\n",
            "\u001b[2m\u001b[36m(pid=18940)\u001b[0m 2023-06-10 04:50:39.583039: W tensorflow/compiler/tf2tensorrt/utils/py_utils.cc:38] TF-TRT Warning: Could not find TensorRT\n"
          ]
        },
        {
          "output_type": "stream",
          "name": "stdout",
          "text": [
            "\u001b[2m\u001b[36m(launch_and_fit pid=18940)\u001b[0m [Client 0, round 8] fit, config: {'server_round': 8, 'local_epochs': 2}\n",
            "\u001b[2m\u001b[36m(launch_and_fit pid=18940)\u001b[0m Epoch 1: train loss 0.04917590320110321, accuracy 0.4162222222222222\n",
            "\u001b[2m\u001b[36m(launch_and_fit pid=18940)\u001b[0m Epoch 2: train loss 0.04631277918815613, accuracy 0.45422222222222225\n"
          ]
        },
        {
          "output_type": "stream",
          "name": "stderr",
          "text": [
            "\u001b[2m\u001b[36m(pid=19016)\u001b[0m 2023-06-10 04:50:50.515163: W tensorflow/compiler/tf2tensorrt/utils/py_utils.cc:38] TF-TRT Warning: Could not find TensorRT\n"
          ]
        },
        {
          "output_type": "stream",
          "name": "stdout",
          "text": [
            "\u001b[2m\u001b[36m(launch_and_fit pid=19016)\u001b[0m [Client 9, round 8] fit, config: {'server_round': 8, 'local_epochs': 2}\n",
            "\u001b[2m\u001b[36m(launch_and_fit pid=19016)\u001b[0m Epoch 1: train loss 0.048883598297834396, accuracy 0.41933333333333334\n",
            "\u001b[2m\u001b[36m(launch_and_fit pid=19016)\u001b[0m Epoch 2: train loss 0.04657159000635147, accuracy 0.45555555555555555\n"
          ]
        },
        {
          "output_type": "stream",
          "name": "stderr",
          "text": [
            "\u001b[2m\u001b[36m(pid=19101)\u001b[0m 2023-06-10 04:50:59.938131: W tensorflow/compiler/tf2tensorrt/utils/py_utils.cc:38] TF-TRT Warning: Could not find TensorRT\n"
          ]
        },
        {
          "output_type": "stream",
          "name": "stdout",
          "text": [
            "\u001b[2m\u001b[36m(launch_and_fit pid=19101)\u001b[0m [Client 2, round 8] fit, config: {'server_round': 8, 'local_epochs': 2}\n",
            "\u001b[2m\u001b[36m(launch_and_fit pid=19101)\u001b[0m Epoch 1: train loss 0.050005365163087845, accuracy 0.4122222222222222\n"
          ]
        },
        {
          "output_type": "stream",
          "name": "stderr",
          "text": [
            "DEBUG flwr 2023-06-10 04:51:09,156 | server.py:232 | fit_round 8 received 3 results and 0 failures\n",
            "DEBUG:flwr:fit_round 8 received 3 results and 0 failures\n"
          ]
        },
        {
          "output_type": "stream",
          "name": "stdout",
          "text": [
            "\u001b[2m\u001b[36m(launch_and_fit pid=19101)\u001b[0m Epoch 2: train loss 0.047373250126838684, accuracy 0.44466666666666665\n"
          ]
        },
        {
          "output_type": "stream",
          "name": "stderr",
          "text": [
            "INFO flwr 2023-06-10 04:51:12,233 | server.py:119 | fit progress: (8, 0.07207461718320847, {'accuracy': 0.3049}, 482.48492394799996)\n",
            "INFO:flwr:fit progress: (8, 0.07207461718320847, {'accuracy': 0.3049}, 482.48492394799996)\n",
            "DEBUG flwr 2023-06-10 04:51:12,239 | server.py:168 | evaluate_round 8: strategy sampled 3 clients (out of 10)\n",
            "DEBUG:flwr:evaluate_round 8: strategy sampled 3 clients (out of 10)\n"
          ]
        },
        {
          "output_type": "stream",
          "name": "stdout",
          "text": [
            "Server-side evaluation loss 0.07207461718320847 / accuracy 0.3049\n"
          ]
        },
        {
          "output_type": "stream",
          "name": "stderr",
          "text": [
            "\u001b[2m\u001b[36m(pid=19225)\u001b[0m 2023-06-10 04:51:18.337890: W tensorflow/compiler/tf2tensorrt/utils/py_utils.cc:38] TF-TRT Warning: Could not find TensorRT\n"
          ]
        },
        {
          "output_type": "stream",
          "name": "stdout",
          "text": [
            "\u001b[2m\u001b[36m(launch_and_evaluate pid=19225)\u001b[0m [Client 5] evaluate, config: {}\n"
          ]
        },
        {
          "output_type": "stream",
          "name": "stderr",
          "text": [
            "\u001b[2m\u001b[36m(pid=19296)\u001b[0m 2023-06-10 04:51:26.026023: W tensorflow/compiler/tf2tensorrt/utils/py_utils.cc:38] TF-TRT Warning: Could not find TensorRT\n"
          ]
        },
        {
          "output_type": "stream",
          "name": "stdout",
          "text": [
            "\u001b[2m\u001b[36m(launch_and_evaluate pid=19296)\u001b[0m [Client 9] evaluate, config: {}\n"
          ]
        },
        {
          "output_type": "stream",
          "name": "stderr",
          "text": [
            "\u001b[2m\u001b[36m(pid=19356)\u001b[0m 2023-06-10 04:51:32.064178: W tensorflow/compiler/tf2tensorrt/utils/py_utils.cc:38] TF-TRT Warning: Could not find TensorRT\n"
          ]
        },
        {
          "output_type": "stream",
          "name": "stdout",
          "text": [
            "\u001b[2m\u001b[36m(launch_and_evaluate pid=19356)\u001b[0m [Client 3] evaluate, config: {}\n"
          ]
        },
        {
          "output_type": "stream",
          "name": "stderr",
          "text": [
            "DEBUG flwr 2023-06-10 04:51:38,059 | server.py:182 | evaluate_round 8 received 3 results and 0 failures\n",
            "DEBUG:flwr:evaluate_round 8 received 3 results and 0 failures\n",
            "DEBUG flwr 2023-06-10 04:51:38,063 | server.py:218 | fit_round 9: strategy sampled 3 clients (out of 10)\n",
            "DEBUG:flwr:fit_round 9: strategy sampled 3 clients (out of 10)\n",
            "\u001b[2m\u001b[36m(pid=19450)\u001b[0m 2023-06-10 04:51:43.671343: W tensorflow/compiler/tf2tensorrt/utils/py_utils.cc:38] TF-TRT Warning: Could not find TensorRT\n"
          ]
        },
        {
          "output_type": "stream",
          "name": "stdout",
          "text": [
            "\u001b[2m\u001b[36m(launch_and_fit pid=19450)\u001b[0m [Client 2, round 9] fit, config: {'server_round': 9, 'local_epochs': 2}\n",
            "\u001b[2m\u001b[36m(launch_and_fit pid=19450)\u001b[0m Epoch 1: train loss 0.04709457978606224, accuracy 0.45444444444444443\n",
            "\u001b[2m\u001b[36m(launch_and_fit pid=19450)\u001b[0m Epoch 2: train loss 0.045160818845033646, accuracy 0.48088888888888887\n"
          ]
        },
        {
          "output_type": "stream",
          "name": "stderr",
          "text": [
            "\u001b[2m\u001b[36m(pid=19531)\u001b[0m 2023-06-10 04:51:54.701255: W tensorflow/compiler/tf2tensorrt/utils/py_utils.cc:38] TF-TRT Warning: Could not find TensorRT\n"
          ]
        },
        {
          "output_type": "stream",
          "name": "stdout",
          "text": [
            "\u001b[2m\u001b[36m(launch_and_fit pid=19531)\u001b[0m [Client 5, round 9] fit, config: {'server_round': 9, 'local_epochs': 2}\n",
            "\u001b[2m\u001b[36m(launch_and_fit pid=19531)\u001b[0m Epoch 1: train loss 0.048317864537239075, accuracy 0.4471111111111111\n",
            "\u001b[2m\u001b[36m(launch_and_fit pid=19531)\u001b[0m Epoch 2: train loss 0.0459686815738678, accuracy 0.46555555555555556\n"
          ]
        },
        {
          "output_type": "stream",
          "name": "stderr",
          "text": [
            "\u001b[2m\u001b[36m(pid=19613)\u001b[0m 2023-06-10 04:52:03.691845: W tensorflow/compiler/tf2tensorrt/utils/py_utils.cc:38] TF-TRT Warning: Could not find TensorRT\n"
          ]
        },
        {
          "output_type": "stream",
          "name": "stdout",
          "text": [
            "\u001b[2m\u001b[36m(launch_and_fit pid=19613)\u001b[0m [Client 0, round 9] fit, config: {'server_round': 9, 'local_epochs': 2}\n",
            "\u001b[2m\u001b[36m(launch_and_fit pid=19613)\u001b[0m Epoch 1: train loss 0.0464952178299427, accuracy 0.4548888888888889\n"
          ]
        },
        {
          "output_type": "stream",
          "name": "stderr",
          "text": [
            "DEBUG flwr 2023-06-10 04:52:12,945 | server.py:232 | fit_round 9 received 3 results and 0 failures\n",
            "DEBUG:flwr:fit_round 9 received 3 results and 0 failures\n"
          ]
        },
        {
          "output_type": "stream",
          "name": "stdout",
          "text": [
            "\u001b[2m\u001b[36m(launch_and_fit pid=19613)\u001b[0m Epoch 2: train loss 0.044303376227617264, accuracy 0.48133333333333334\n"
          ]
        },
        {
          "output_type": "stream",
          "name": "stderr",
          "text": [
            "INFO flwr 2023-06-10 04:52:16,121 | server.py:119 | fit progress: (9, 0.05564492099285126, {'accuracy': 0.3538}, 546.372379679)\n",
            "INFO:flwr:fit progress: (9, 0.05564492099285126, {'accuracy': 0.3538}, 546.372379679)\n",
            "DEBUG flwr 2023-06-10 04:52:16,127 | server.py:168 | evaluate_round 9: strategy sampled 3 clients (out of 10)\n",
            "DEBUG:flwr:evaluate_round 9: strategy sampled 3 clients (out of 10)\n"
          ]
        },
        {
          "output_type": "stream",
          "name": "stdout",
          "text": [
            "Server-side evaluation loss 0.05564492099285126 / accuracy 0.3538\n"
          ]
        },
        {
          "output_type": "stream",
          "name": "stderr",
          "text": [
            "\u001b[2m\u001b[36m(pid=19735)\u001b[0m 2023-06-10 04:52:23.987268: W tensorflow/compiler/tf2tensorrt/utils/py_utils.cc:38] TF-TRT Warning: Could not find TensorRT\n"
          ]
        },
        {
          "output_type": "stream",
          "name": "stdout",
          "text": [
            "\u001b[2m\u001b[36m(launch_and_evaluate pid=19735)\u001b[0m [Client 5] evaluate, config: {}\n"
          ]
        },
        {
          "output_type": "stream",
          "name": "stderr",
          "text": [
            "\u001b[2m\u001b[36m(pid=19805)\u001b[0m 2023-06-10 04:52:29.991102: W tensorflow/compiler/tf2tensorrt/utils/py_utils.cc:38] TF-TRT Warning: Could not find TensorRT\n"
          ]
        },
        {
          "output_type": "stream",
          "name": "stdout",
          "text": [
            "\u001b[2m\u001b[36m(launch_and_evaluate pid=19805)\u001b[0m [Client 8] evaluate, config: {}\n"
          ]
        },
        {
          "output_type": "stream",
          "name": "stderr",
          "text": [
            "\u001b[2m\u001b[36m(pid=19868)\u001b[0m 2023-06-10 04:52:37.445689: W tensorflow/compiler/tf2tensorrt/utils/py_utils.cc:38] TF-TRT Warning: Could not find TensorRT\n"
          ]
        },
        {
          "output_type": "stream",
          "name": "stdout",
          "text": [
            "\u001b[2m\u001b[36m(launch_and_evaluate pid=19868)\u001b[0m [Client 3] evaluate, config: {}\n"
          ]
        },
        {
          "output_type": "stream",
          "name": "stderr",
          "text": [
            "DEBUG flwr 2023-06-10 04:52:42,348 | server.py:182 | evaluate_round 9 received 3 results and 0 failures\n",
            "DEBUG:flwr:evaluate_round 9 received 3 results and 0 failures\n",
            "DEBUG flwr 2023-06-10 04:52:42,352 | server.py:218 | fit_round 10: strategy sampled 3 clients (out of 10)\n",
            "DEBUG:flwr:fit_round 10: strategy sampled 3 clients (out of 10)\n",
            "\u001b[2m\u001b[36m(pid=19960)\u001b[0m 2023-06-10 04:52:47.981667: W tensorflow/compiler/tf2tensorrt/utils/py_utils.cc:38] TF-TRT Warning: Could not find TensorRT\n"
          ]
        },
        {
          "output_type": "stream",
          "name": "stdout",
          "text": [
            "\u001b[2m\u001b[36m(launch_and_fit pid=19960)\u001b[0m [Client 6, round 10] fit, config: {'server_round': 10, 'local_epochs': 2}\n",
            "\u001b[2m\u001b[36m(launch_and_fit pid=19960)\u001b[0m Epoch 1: train loss 0.04735078290104866, accuracy 0.44155555555555553\n",
            "\u001b[2m\u001b[36m(launch_and_fit pid=19960)\u001b[0m Epoch 2: train loss 0.045269329100847244, accuracy 0.4708888888888889\n"
          ]
        },
        {
          "output_type": "stream",
          "name": "stderr",
          "text": [
            "\u001b[2m\u001b[36m(pid=20045)\u001b[0m 2023-06-10 04:52:59.068361: W tensorflow/compiler/tf2tensorrt/utils/py_utils.cc:38] TF-TRT Warning: Could not find TensorRT\n"
          ]
        },
        {
          "output_type": "stream",
          "name": "stdout",
          "text": [
            "\u001b[2m\u001b[36m(launch_and_fit pid=20045)\u001b[0m [Client 5, round 10] fit, config: {'server_round': 10, 'local_epochs': 2}\n",
            "\u001b[2m\u001b[36m(launch_and_fit pid=20045)\u001b[0m Epoch 1: train loss 0.04610665142536163, accuracy 0.46444444444444444\n",
            "\u001b[2m\u001b[36m(launch_and_fit pid=20045)\u001b[0m Epoch 2: train loss 0.04386797919869423, accuracy 0.496\n"
          ]
        },
        {
          "output_type": "stream",
          "name": "stderr",
          "text": [
            "\u001b[2m\u001b[36m(pid=20131)\u001b[0m 2023-06-10 04:53:10.997785: W tensorflow/compiler/tf2tensorrt/utils/py_utils.cc:38] TF-TRT Warning: Could not find TensorRT\n"
          ]
        },
        {
          "output_type": "stream",
          "name": "stdout",
          "text": [
            "\u001b[2m\u001b[36m(launch_and_fit pid=20131)\u001b[0m [Client 9, round 10] fit, config: {'server_round': 10, 'local_epochs': 2}\n",
            "\u001b[2m\u001b[36m(launch_and_fit pid=20131)\u001b[0m Epoch 1: train loss 0.04599745571613312, accuracy 0.4688888888888889\n"
          ]
        },
        {
          "output_type": "stream",
          "name": "stderr",
          "text": [
            "DEBUG flwr 2023-06-10 04:53:19,749 | server.py:232 | fit_round 10 received 3 results and 0 failures\n",
            "DEBUG:flwr:fit_round 10 received 3 results and 0 failures\n"
          ]
        },
        {
          "output_type": "stream",
          "name": "stdout",
          "text": [
            "\u001b[2m\u001b[36m(launch_and_fit pid=20131)\u001b[0m Epoch 2: train loss 0.04390024393796921, accuracy 0.49044444444444446\n"
          ]
        },
        {
          "output_type": "stream",
          "name": "stderr",
          "text": [
            "INFO flwr 2023-06-10 04:53:23,865 | server.py:119 | fit progress: (10, 0.05531642336845398, {'accuracy': 0.4005}, 614.1165158240001)\n",
            "INFO:flwr:fit progress: (10, 0.05531642336845398, {'accuracy': 0.4005}, 614.1165158240001)\n",
            "DEBUG flwr 2023-06-10 04:53:23,880 | server.py:168 | evaluate_round 10: strategy sampled 3 clients (out of 10)\n",
            "DEBUG:flwr:evaluate_round 10: strategy sampled 3 clients (out of 10)\n"
          ]
        },
        {
          "output_type": "stream",
          "name": "stdout",
          "text": [
            "Server-side evaluation loss 0.05531642336845398 / accuracy 0.4005\n"
          ]
        },
        {
          "output_type": "stream",
          "name": "stderr",
          "text": [
            "\u001b[2m\u001b[36m(pid=20266)\u001b[0m 2023-06-10 04:53:30.504897: W tensorflow/compiler/tf2tensorrt/utils/py_utils.cc:38] TF-TRT Warning: Could not find TensorRT\n"
          ]
        },
        {
          "output_type": "stream",
          "name": "stdout",
          "text": [
            "\u001b[2m\u001b[36m(launch_and_evaluate pid=20266)\u001b[0m [Client 7] evaluate, config: {}\n"
          ]
        },
        {
          "output_type": "stream",
          "name": "stderr",
          "text": [
            "\u001b[2m\u001b[36m(pid=20328)\u001b[0m 2023-06-10 04:53:36.719354: W tensorflow/compiler/tf2tensorrt/utils/py_utils.cc:38] TF-TRT Warning: Could not find TensorRT\n"
          ]
        },
        {
          "output_type": "stream",
          "name": "stdout",
          "text": [
            "\u001b[2m\u001b[36m(launch_and_evaluate pid=20328)\u001b[0m [Client 0] evaluate, config: {}\n"
          ]
        },
        {
          "output_type": "stream",
          "name": "stderr",
          "text": [
            "\u001b[2m\u001b[36m(pid=20398)\u001b[0m 2023-06-10 04:53:44.643925: W tensorflow/compiler/tf2tensorrt/utils/py_utils.cc:38] TF-TRT Warning: Could not find TensorRT\n"
          ]
        },
        {
          "output_type": "stream",
          "name": "stdout",
          "text": [
            "\u001b[2m\u001b[36m(launch_and_evaluate pid=20398)\u001b[0m [Client 3] evaluate, config: {}\n"
          ]
        },
        {
          "output_type": "stream",
          "name": "stderr",
          "text": [
            "DEBUG flwr 2023-06-10 04:53:48,616 | server.py:182 | evaluate_round 10 received 3 results and 0 failures\n",
            "DEBUG:flwr:evaluate_round 10 received 3 results and 0 failures\n",
            "INFO flwr 2023-06-10 04:53:48,620 | server.py:147 | FL finished in 638.8713389230002\n",
            "INFO:flwr:FL finished in 638.8713389230002\n",
            "INFO flwr 2023-06-10 04:53:48,621 | app.py:218 | app_fit: losses_distributed [(1, 5.221945373535156), (2, 0.2953500607808431), (3, 0.16375938351949057), (4, 0.19685283088684083), (5, 0.14276635980606078), (6, 0.09279807392756144), (7, 0.07258106629053751), (8, 0.07318584672609967), (9, 0.056748929421106965), (10, 0.056705404996871954)]\n",
            "INFO:flwr:app_fit: losses_distributed [(1, 5.221945373535156), (2, 0.2953500607808431), (3, 0.16375938351949057), (4, 0.19685283088684083), (5, 0.14276635980606078), (6, 0.09279807392756144), (7, 0.07258106629053751), (8, 0.07318584672609967), (9, 0.056748929421106965), (10, 0.056705404996871954)]\n",
            "INFO flwr 2023-06-10 04:53:48,624 | app.py:219 | app_fit: metrics_distributed_fit {}\n",
            "INFO:flwr:app_fit: metrics_distributed_fit {}\n",
            "INFO flwr 2023-06-10 04:53:48,626 | app.py:220 | app_fit: metrics_distributed {'accuracy': [(1, 0.17133333333333334), (2, 0.09066666666666667), (3, 0.16933333333333334), (4, 0.13066666666666668), (5, 0.14933333333333335), (6, 0.22533333333333336), (7, 0.24533333333333332), (8, 0.302), (9, 0.35666666666666663), (10, 0.3866666666666667)]}\n",
            "INFO:flwr:app_fit: metrics_distributed {'accuracy': [(1, 0.17133333333333334), (2, 0.09066666666666667), (3, 0.16933333333333334), (4, 0.13066666666666668), (5, 0.14933333333333335), (6, 0.22533333333333336), (7, 0.24533333333333332), (8, 0.302), (9, 0.35666666666666663), (10, 0.3866666666666667)]}\n",
            "INFO flwr 2023-06-10 04:53:48,628 | app.py:221 | app_fit: losses_centralized [(0, 0.0721333030462265), (1, 4.960196771240234), (2, 0.2937220021724701), (3, 0.16301658141613007), (4, 0.1924193106174469), (5, 0.13802191905975342), (6, 0.08938860124349594), (7, 0.07083493617773055), (8, 0.07207461718320847), (9, 0.05564492099285126), (10, 0.05531642336845398)]\n",
            "INFO:flwr:app_fit: losses_centralized [(0, 0.0721333030462265), (1, 4.960196771240234), (2, 0.2937220021724701), (3, 0.16301658141613007), (4, 0.1924193106174469), (5, 0.13802191905975342), (6, 0.08938860124349594), (7, 0.07083493617773055), (8, 0.07207461718320847), (9, 0.05564492099285126), (10, 0.05531642336845398)]\n",
            "INFO flwr 2023-06-10 04:53:48,630 | app.py:222 | app_fit: metrics_centralized {'accuracy': [(0, 0.1001), (1, 0.1829), (2, 0.0858), (3, 0.1587), (4, 0.1156), (5, 0.1516), (6, 0.2175), (7, 0.2458), (8, 0.3049), (9, 0.3538), (10, 0.4005)]}\n",
            "INFO:flwr:app_fit: metrics_centralized {'accuracy': [(0, 0.1001), (1, 0.1829), (2, 0.0858), (3, 0.1587), (4, 0.1156), (5, 0.1516), (6, 0.2175), (7, 0.2458), (8, 0.3049), (9, 0.3538), (10, 0.4005)]}\n"
          ]
        }
      ]
    },
    {
      "cell_type": "code",
      "source": [
        "net = VGG16().to(DEVICE)\n",
        "simulate_cifar(StrategyCls=fl.server.strategy.FedAdagrad, strategyArgs=strategyConfig, net=net, num_rounds=10)"
      ],
      "metadata": {
        "colab": {
          "base_uri": "https://localhost:8080/"
        },
        "id": "zKHYBjumihAQ",
        "outputId": "848388f1-6e2e-4edc-9111-8d9b48a4a641"
      },
      "execution_count": 8,
      "outputs": [
        {
          "output_type": "stream",
          "name": "stdout",
          "text": [
            "Files already downloaded and verified\n",
            "Files already downloaded and verified\n"
          ]
        },
        {
          "output_type": "stream",
          "name": "stderr",
          "text": [
            "INFO flwr 2023-06-10 04:53:50,380 | app.py:146 | Starting Flower simulation, config: ServerConfig(num_rounds=10, round_timeout=None)\n",
            "INFO:flwr:Starting Flower simulation, config: ServerConfig(num_rounds=10, round_timeout=None)\n",
            "2023-06-10 04:53:56,544\tINFO worker.py:1636 -- Started a local Ray instance.\n",
            "INFO flwr 2023-06-10 04:53:57,952 | app.py:180 | Flower VCE: Ray initialized with resources: {'CPU': 2.0, 'GPU': 1.0, 'node:172.28.0.12': 1.0, 'memory': 7870788404.0, 'object_store_memory': 3935394201.0}\n",
            "INFO:flwr:Flower VCE: Ray initialized with resources: {'CPU': 2.0, 'GPU': 1.0, 'node:172.28.0.12': 1.0, 'memory': 7870788404.0, 'object_store_memory': 3935394201.0}\n",
            "INFO flwr 2023-06-10 04:53:57,956 | server.py:86 | Initializing global parameters\n",
            "INFO:flwr:Initializing global parameters\n",
            "INFO flwr 2023-06-10 04:53:57,958 | server.py:269 | Using initial parameters provided by strategy\n",
            "INFO:flwr:Using initial parameters provided by strategy\n",
            "INFO flwr 2023-06-10 04:53:57,960 | server.py:88 | Evaluating initial parameters\n",
            "INFO:flwr:Evaluating initial parameters\n",
            "INFO flwr 2023-06-10 04:54:02,993 | server.py:91 | initial parameters (loss, other metrics): 0.07208328914642334, {'accuracy': 0.1}\n",
            "INFO:flwr:initial parameters (loss, other metrics): 0.07208328914642334, {'accuracy': 0.1}\n",
            "INFO flwr 2023-06-10 04:54:03,000 | server.py:101 | FL starting\n",
            "INFO:flwr:FL starting\n",
            "DEBUG flwr 2023-06-10 04:54:03,003 | server.py:218 | fit_round 1: strategy sampled 3 clients (out of 10)\n",
            "DEBUG:flwr:fit_round 1: strategy sampled 3 clients (out of 10)\n"
          ]
        },
        {
          "output_type": "stream",
          "name": "stdout",
          "text": [
            "Server-side evaluation loss 0.07208328914642334 / accuracy 0.1\n"
          ]
        },
        {
          "output_type": "stream",
          "name": "stderr",
          "text": [
            "\u001b[2m\u001b[36m(pid=20745)\u001b[0m 2023-06-10 04:54:11.740887: W tensorflow/compiler/tf2tensorrt/utils/py_utils.cc:38] TF-TRT Warning: Could not find TensorRT\n"
          ]
        },
        {
          "output_type": "stream",
          "name": "stdout",
          "text": [
            "\u001b[2m\u001b[36m(launch_and_fit pid=20745)\u001b[0m [Client 0, round 1] fit, config: {'server_round': 1, 'local_epochs': 1}\n",
            "\u001b[2m\u001b[36m(launch_and_fit pid=20745)\u001b[0m Epoch 1: train loss 0.06614630669355392, accuracy 0.18977777777777777\n"
          ]
        },
        {
          "output_type": "stream",
          "name": "stderr",
          "text": [
            "\u001b[2m\u001b[36m(pid=20831)\u001b[0m 2023-06-10 04:54:23.140366: W tensorflow/compiler/tf2tensorrt/utils/py_utils.cc:38] TF-TRT Warning: Could not find TensorRT\n"
          ]
        },
        {
          "output_type": "stream",
          "name": "stdout",
          "text": [
            "\u001b[2m\u001b[36m(launch_and_fit pid=20831)\u001b[0m [Client 7, round 1] fit, config: {'server_round': 1, 'local_epochs': 1}\n",
            "\u001b[2m\u001b[36m(launch_and_fit pid=20831)\u001b[0m Epoch 1: train loss 0.06383462250232697, accuracy 0.22244444444444444\n"
          ]
        },
        {
          "output_type": "stream",
          "name": "stderr",
          "text": [
            "\u001b[2m\u001b[36m(pid=20923)\u001b[0m 2023-06-10 04:54:34.738640: W tensorflow/compiler/tf2tensorrt/utils/py_utils.cc:38] TF-TRT Warning: Could not find TensorRT\n"
          ]
        },
        {
          "output_type": "stream",
          "name": "stdout",
          "text": [
            "\u001b[2m\u001b[36m(launch_and_fit pid=20923)\u001b[0m [Client 6, round 1] fit, config: {'server_round': 1, 'local_epochs': 1}\n"
          ]
        },
        {
          "output_type": "stream",
          "name": "stderr",
          "text": [
            "DEBUG flwr 2023-06-10 04:54:45,472 | server.py:232 | fit_round 1 received 3 results and 0 failures\n",
            "DEBUG:flwr:fit_round 1 received 3 results and 0 failures\n"
          ]
        },
        {
          "output_type": "stream",
          "name": "stdout",
          "text": [
            "\u001b[2m\u001b[36m(launch_and_fit pid=20923)\u001b[0m Epoch 1: train loss 0.06674917042255402, accuracy 0.1768888888888889\n"
          ]
        },
        {
          "output_type": "stream",
          "name": "stderr",
          "text": [
            "WARNING flwr 2023-06-10 04:54:45,737 | fedavg.py:243 | No fit_metrics_aggregation_fn provided\n",
            "WARNING:flwr:No fit_metrics_aggregation_fn provided\n",
            "INFO flwr 2023-06-10 04:54:50,557 | server.py:119 | fit progress: (1, 850900035410.3296, {'accuracy': 0.1}, 47.55389178099995)\n",
            "INFO:flwr:fit progress: (1, 850900035410.3296, {'accuracy': 0.1}, 47.55389178099995)\n",
            "DEBUG flwr 2023-06-10 04:54:50,564 | server.py:168 | evaluate_round 1: strategy sampled 3 clients (out of 10)\n",
            "DEBUG:flwr:evaluate_round 1: strategy sampled 3 clients (out of 10)\n"
          ]
        },
        {
          "output_type": "stream",
          "name": "stdout",
          "text": [
            "Server-side evaluation loss 850900035410.3296 / accuracy 0.1\n"
          ]
        },
        {
          "output_type": "stream",
          "name": "stderr",
          "text": [
            "\u001b[2m\u001b[36m(pid=21071)\u001b[0m 2023-06-10 04:54:59.062629: W tensorflow/compiler/tf2tensorrt/utils/py_utils.cc:38] TF-TRT Warning: Could not find TensorRT\n"
          ]
        },
        {
          "output_type": "stream",
          "name": "stdout",
          "text": [
            "\u001b[2m\u001b[36m(launch_and_evaluate pid=21071)\u001b[0m [Client 0] evaluate, config: {}\n"
          ]
        },
        {
          "output_type": "stream",
          "name": "stderr",
          "text": [
            "\u001b[2m\u001b[36m(pid=21131)\u001b[0m 2023-06-10 04:55:05.181881: W tensorflow/compiler/tf2tensorrt/utils/py_utils.cc:38] TF-TRT Warning: Could not find TensorRT\n"
          ]
        },
        {
          "output_type": "stream",
          "name": "stdout",
          "text": [
            "\u001b[2m\u001b[36m(launch_and_evaluate pid=21131)\u001b[0m [Client 3] evaluate, config: {}\n"
          ]
        },
        {
          "output_type": "stream",
          "name": "stderr",
          "text": [
            "\u001b[2m\u001b[36m(pid=21204)\u001b[0m 2023-06-10 04:55:13.075164: W tensorflow/compiler/tf2tensorrt/utils/py_utils.cc:38] TF-TRT Warning: Could not find TensorRT\n"
          ]
        },
        {
          "output_type": "stream",
          "name": "stdout",
          "text": [
            "\u001b[2m\u001b[36m(launch_and_evaluate pid=21204)\u001b[0m [Client 6] evaluate, config: {}\n"
          ]
        },
        {
          "output_type": "stream",
          "name": "stderr",
          "text": [
            "DEBUG flwr 2023-06-10 04:55:17,404 | server.py:182 | evaluate_round 1 received 3 results and 0 failures\n",
            "DEBUG:flwr:evaluate_round 1 received 3 results and 0 failures\n",
            "DEBUG flwr 2023-06-10 04:55:17,408 | server.py:218 | fit_round 2: strategy sampled 3 clients (out of 10)\n",
            "DEBUG:flwr:fit_round 2: strategy sampled 3 clients (out of 10)\n",
            "\u001b[2m\u001b[36m(pid=21286)\u001b[0m 2023-06-10 04:55:24.953871: W tensorflow/compiler/tf2tensorrt/utils/py_utils.cc:38] TF-TRT Warning: Could not find TensorRT\n"
          ]
        },
        {
          "output_type": "stream",
          "name": "stdout",
          "text": [
            "\u001b[2m\u001b[36m(launch_and_fit pid=21286)\u001b[0m [Client 9, round 2] fit, config: {'server_round': 2, 'local_epochs': 2}\n",
            "\u001b[2m\u001b[36m(launch_and_fit pid=21286)\u001b[0m Epoch 1: train loss 0.17729680240154266, accuracy 0.11488888888888889\n",
            "\u001b[2m\u001b[36m(launch_and_fit pid=21286)\u001b[0m Epoch 2: train loss 0.0735083520412445, accuracy 0.118\n"
          ]
        },
        {
          "output_type": "stream",
          "name": "stderr",
          "text": [
            "\u001b[2m\u001b[36m(pid=21409)\u001b[0m 2023-06-10 04:55:43.056375: W tensorflow/compiler/tf2tensorrt/utils/py_utils.cc:38] TF-TRT Warning: Could not find TensorRT\n"
          ]
        },
        {
          "output_type": "stream",
          "name": "stdout",
          "text": [
            "\u001b[2m\u001b[36m(launch_and_fit pid=21409)\u001b[0m [Client 3, round 2] fit, config: {'server_round': 2, 'local_epochs': 2}\n",
            "\u001b[2m\u001b[36m(launch_and_fit pid=21409)\u001b[0m Epoch 1: train loss 0.17994913458824158, accuracy 0.10422222222222222\n",
            "\u001b[2m\u001b[36m(launch_and_fit pid=21409)\u001b[0m Epoch 2: train loss 0.07373590767383575, accuracy 0.11066666666666666\n"
          ]
        },
        {
          "output_type": "stream",
          "name": "stderr",
          "text": [
            "\u001b[2m\u001b[36m(pid=21523)\u001b[0m 2023-06-10 04:55:59.602060: W tensorflow/compiler/tf2tensorrt/utils/py_utils.cc:38] TF-TRT Warning: Could not find TensorRT\n"
          ]
        },
        {
          "output_type": "stream",
          "name": "stdout",
          "text": [
            "\u001b[2m\u001b[36m(launch_and_fit pid=21523)\u001b[0m [Client 8, round 2] fit, config: {'server_round': 2, 'local_epochs': 2}\n",
            "\u001b[2m\u001b[36m(launch_and_fit pid=21523)\u001b[0m Epoch 1: train loss 0.18788284063339233, accuracy 0.10977777777777778\n"
          ]
        },
        {
          "output_type": "stream",
          "name": "stderr",
          "text": [
            "DEBUG flwr 2023-06-10 04:56:16,581 | server.py:232 | fit_round 2 received 3 results and 0 failures\n",
            "DEBUG:flwr:fit_round 2 received 3 results and 0 failures\n"
          ]
        },
        {
          "output_type": "stream",
          "name": "stdout",
          "text": [
            "\u001b[2m\u001b[36m(launch_and_fit pid=21523)\u001b[0m Epoch 2: train loss 0.07659395784139633, accuracy 0.11244444444444444\n"
          ]
        },
        {
          "output_type": "stream",
          "name": "stderr",
          "text": [
            "INFO flwr 2023-06-10 04:56:22,146 | server.py:119 | fit progress: (2, 6.957013839515187e+18, {'accuracy': 0.1}, 139.14340651600014)\n",
            "INFO:flwr:fit progress: (2, 6.957013839515187e+18, {'accuracy': 0.1}, 139.14340651600014)\n",
            "DEBUG flwr 2023-06-10 04:56:22,154 | server.py:168 | evaluate_round 2: strategy sampled 3 clients (out of 10)\n",
            "DEBUG:flwr:evaluate_round 2: strategy sampled 3 clients (out of 10)\n"
          ]
        },
        {
          "output_type": "stream",
          "name": "stdout",
          "text": [
            "Server-side evaluation loss 6.957013839515187e+18 / accuracy 0.1\n"
          ]
        },
        {
          "output_type": "stream",
          "name": "stderr",
          "text": [
            "\u001b[2m\u001b[36m(pid=21696)\u001b[0m 2023-06-10 04:56:30.842703: W tensorflow/compiler/tf2tensorrt/utils/py_utils.cc:38] TF-TRT Warning: Could not find TensorRT\n"
          ]
        },
        {
          "output_type": "stream",
          "name": "stdout",
          "text": [
            "\u001b[2m\u001b[36m(launch_and_evaluate pid=21696)\u001b[0m [Client 0] evaluate, config: {}\n"
          ]
        },
        {
          "output_type": "stream",
          "name": "stderr",
          "text": [
            "\u001b[2m\u001b[36m(pid=21762)\u001b[0m 2023-06-10 04:56:36.946912: W tensorflow/compiler/tf2tensorrt/utils/py_utils.cc:38] TF-TRT Warning: Could not find TensorRT\n"
          ]
        },
        {
          "output_type": "stream",
          "name": "stdout",
          "text": [
            "\u001b[2m\u001b[36m(launch_and_evaluate pid=21762)\u001b[0m [Client 3] evaluate, config: {}\n"
          ]
        },
        {
          "output_type": "stream",
          "name": "stderr",
          "text": [
            "\u001b[2m\u001b[36m(pid=21831)\u001b[0m 2023-06-10 04:56:45.122007: W tensorflow/compiler/tf2tensorrt/utils/py_utils.cc:38] TF-TRT Warning: Could not find TensorRT\n"
          ]
        },
        {
          "output_type": "stream",
          "name": "stdout",
          "text": [
            "\u001b[2m\u001b[36m(launch_and_evaluate pid=21831)\u001b[0m [Client 4] evaluate, config: {}\n"
          ]
        },
        {
          "output_type": "stream",
          "name": "stderr",
          "text": [
            "DEBUG flwr 2023-06-10 04:56:49,619 | server.py:182 | evaluate_round 2 received 3 results and 0 failures\n",
            "DEBUG:flwr:evaluate_round 2 received 3 results and 0 failures\n",
            "DEBUG flwr 2023-06-10 04:56:49,624 | server.py:218 | fit_round 3: strategy sampled 3 clients (out of 10)\n",
            "DEBUG:flwr:fit_round 3: strategy sampled 3 clients (out of 10)\n",
            "\u001b[2m\u001b[36m(pid=21922)\u001b[0m 2023-06-10 04:56:55.709592: W tensorflow/compiler/tf2tensorrt/utils/py_utils.cc:38] TF-TRT Warning: Could not find TensorRT\n"
          ]
        },
        {
          "output_type": "stream",
          "name": "stdout",
          "text": [
            "\u001b[2m\u001b[36m(launch_and_fit pid=21922)\u001b[0m [Client 8, round 3] fit, config: {'server_round': 3, 'local_epochs': 2}\n",
            "\u001b[2m\u001b[36m(launch_and_fit pid=21922)\u001b[0m Epoch 1: train loss 0.08146548271179199, accuracy 0.11266666666666666\n",
            "\u001b[2m\u001b[36m(launch_and_fit pid=21922)\u001b[0m Epoch 2: train loss 0.07118119299411774, accuracy 0.12955555555555556\n"
          ]
        },
        {
          "output_type": "stream",
          "name": "stderr",
          "text": [
            "\u001b[2m\u001b[36m(pid=22042)\u001b[0m 2023-06-10 04:57:15.345868: W tensorflow/compiler/tf2tensorrt/utils/py_utils.cc:38] TF-TRT Warning: Could not find TensorRT\n"
          ]
        },
        {
          "output_type": "stream",
          "name": "stdout",
          "text": [
            "\u001b[2m\u001b[36m(launch_and_fit pid=22042)\u001b[0m [Client 5, round 3] fit, config: {'server_round': 3, 'local_epochs': 2}\n",
            "\u001b[2m\u001b[36m(launch_and_fit pid=22042)\u001b[0m Epoch 1: train loss 0.08542191982269287, accuracy 0.10822222222222222\n",
            "\u001b[2m\u001b[36m(launch_and_fit pid=22042)\u001b[0m Epoch 2: train loss 0.0720614567399025, accuracy 0.1111111111111111\n"
          ]
        },
        {
          "output_type": "stream",
          "name": "stderr",
          "text": [
            "\u001b[2m\u001b[36m(pid=22157)\u001b[0m 2023-06-10 04:57:32.949947: W tensorflow/compiler/tf2tensorrt/utils/py_utils.cc:38] TF-TRT Warning: Could not find TensorRT\n"
          ]
        },
        {
          "output_type": "stream",
          "name": "stdout",
          "text": [
            "\u001b[2m\u001b[36m(launch_and_fit pid=22157)\u001b[0m [Client 7, round 3] fit, config: {'server_round': 3, 'local_epochs': 2}\n",
            "\u001b[2m\u001b[36m(launch_and_fit pid=22157)\u001b[0m Epoch 1: train loss 0.08248460292816162, accuracy 0.1111111111111111\n"
          ]
        },
        {
          "output_type": "stream",
          "name": "stderr",
          "text": [
            "DEBUG flwr 2023-06-10 04:57:47,586 | server.py:232 | fit_round 3 received 3 results and 0 failures\n",
            "DEBUG:flwr:fit_round 3 received 3 results and 0 failures\n"
          ]
        },
        {
          "output_type": "stream",
          "name": "stdout",
          "text": [
            "\u001b[2m\u001b[36m(launch_and_fit pid=22157)\u001b[0m Epoch 2: train loss 0.07200673967599869, accuracy 0.11711111111111111\n"
          ]
        },
        {
          "output_type": "stream",
          "name": "stderr",
          "text": [
            "INFO flwr 2023-06-10 04:57:52,600 | server.py:119 | fit progress: (3, 1.2970978006802445e+18, {'accuracy': 0.1}, 229.5972857339998)\n",
            "INFO:flwr:fit progress: (3, 1.2970978006802445e+18, {'accuracy': 0.1}, 229.5972857339998)\n",
            "DEBUG flwr 2023-06-10 04:57:52,605 | server.py:168 | evaluate_round 3: strategy sampled 3 clients (out of 10)\n",
            "DEBUG:flwr:evaluate_round 3: strategy sampled 3 clients (out of 10)\n"
          ]
        },
        {
          "output_type": "stream",
          "name": "stdout",
          "text": [
            "Server-side evaluation loss 1.2970978006802445e+18 / accuracy 0.1\n"
          ]
        },
        {
          "output_type": "stream",
          "name": "stderr",
          "text": [
            "\u001b[2m\u001b[36m(pid=22320)\u001b[0m 2023-06-10 04:58:00.037772: W tensorflow/compiler/tf2tensorrt/utils/py_utils.cc:38] TF-TRT Warning: Could not find TensorRT\n"
          ]
        },
        {
          "output_type": "stream",
          "name": "stdout",
          "text": [
            "\u001b[2m\u001b[36m(launch_and_evaluate pid=22320)\u001b[0m [Client 0] evaluate, config: {}\n"
          ]
        },
        {
          "output_type": "stream",
          "name": "stderr",
          "text": [
            "\u001b[2m\u001b[36m(pid=22390)\u001b[0m 2023-06-10 04:58:07.027067: W tensorflow/compiler/tf2tensorrt/utils/py_utils.cc:38] TF-TRT Warning: Could not find TensorRT\n"
          ]
        },
        {
          "output_type": "stream",
          "name": "stdout",
          "text": [
            "\u001b[2m\u001b[36m(launch_and_evaluate pid=22390)\u001b[0m [Client 2] evaluate, config: {}\n"
          ]
        },
        {
          "output_type": "stream",
          "name": "stderr",
          "text": [
            "\u001b[2m\u001b[36m(pid=22453)\u001b[0m 2023-06-10 04:58:13.705179: W tensorflow/compiler/tf2tensorrt/utils/py_utils.cc:38] TF-TRT Warning: Could not find TensorRT\n"
          ]
        },
        {
          "output_type": "stream",
          "name": "stdout",
          "text": [
            "\u001b[2m\u001b[36m(launch_and_evaluate pid=22453)\u001b[0m [Client 6] evaluate, config: {}\n"
          ]
        },
        {
          "output_type": "stream",
          "name": "stderr",
          "text": [
            "DEBUG flwr 2023-06-10 04:58:19,871 | server.py:182 | evaluate_round 3 received 3 results and 0 failures\n",
            "DEBUG:flwr:evaluate_round 3 received 3 results and 0 failures\n",
            "DEBUG flwr 2023-06-10 04:58:19,877 | server.py:218 | fit_round 4: strategy sampled 3 clients (out of 10)\n",
            "DEBUG:flwr:fit_round 4: strategy sampled 3 clients (out of 10)\n",
            "\u001b[2m\u001b[36m(pid=22547)\u001b[0m 2023-06-10 04:58:25.955257: W tensorflow/compiler/tf2tensorrt/utils/py_utils.cc:38] TF-TRT Warning: Could not find TensorRT\n"
          ]
        },
        {
          "output_type": "stream",
          "name": "stdout",
          "text": [
            "\u001b[2m\u001b[36m(launch_and_fit pid=22547)\u001b[0m [Client 4, round 4] fit, config: {'server_round': 4, 'local_epochs': 2}\n",
            "\u001b[2m\u001b[36m(launch_and_fit pid=22547)\u001b[0m Epoch 1: train loss 0.0777319148182869, accuracy 0.10555555555555556\n",
            "\u001b[2m\u001b[36m(launch_and_fit pid=22547)\u001b[0m Epoch 2: train loss 0.07194626331329346, accuracy 0.12866666666666668\n"
          ]
        },
        {
          "output_type": "stream",
          "name": "stderr",
          "text": [
            "\u001b[2m\u001b[36m(pid=22663)\u001b[0m 2023-06-10 04:58:43.743901: W tensorflow/compiler/tf2tensorrt/utils/py_utils.cc:38] TF-TRT Warning: Could not find TensorRT\n"
          ]
        },
        {
          "output_type": "stream",
          "name": "stdout",
          "text": [
            "\u001b[2m\u001b[36m(launch_and_fit pid=22663)\u001b[0m [Client 0, round 4] fit, config: {'server_round': 4, 'local_epochs': 2}\n",
            "\u001b[2m\u001b[36m(launch_and_fit pid=22663)\u001b[0m Epoch 1: train loss 0.07819071412086487, accuracy 0.09888888888888889\n",
            "\u001b[2m\u001b[36m(launch_and_fit pid=22663)\u001b[0m Epoch 2: train loss 0.07234212756156921, accuracy 0.12511111111111112\n"
          ]
        },
        {
          "output_type": "stream",
          "name": "stderr",
          "text": [
            "\u001b[2m\u001b[36m(pid=22784)\u001b[0m 2023-06-10 04:59:05.380980: W tensorflow/compiler/tf2tensorrt/utils/py_utils.cc:38] TF-TRT Warning: Could not find TensorRT\n"
          ]
        },
        {
          "output_type": "stream",
          "name": "stdout",
          "text": [
            "\u001b[2m\u001b[36m(launch_and_fit pid=22784)\u001b[0m [Client 8, round 4] fit, config: {'server_round': 4, 'local_epochs': 2}\n",
            "\u001b[2m\u001b[36m(launch_and_fit pid=22784)\u001b[0m Epoch 1: train loss 0.07756172865629196, accuracy 0.10311111111111111\n",
            "\u001b[2m\u001b[36m(launch_and_fit pid=22784)\u001b[0m Epoch 2: train loss 0.07079446315765381, accuracy 0.112\n"
          ]
        },
        {
          "output_type": "stream",
          "name": "stderr",
          "text": [
            "DEBUG flwr 2023-06-10 04:59:20,518 | server.py:232 | fit_round 4 received 3 results and 0 failures\n",
            "DEBUG:flwr:fit_round 4 received 3 results and 0 failures\n",
            "INFO flwr 2023-06-10 04:59:26,527 | server.py:119 | fit progress: (4, 4.3267081366489073e+18, {'accuracy': 0.1}, 323.5239433460001)\n",
            "INFO:flwr:fit progress: (4, 4.3267081366489073e+18, {'accuracy': 0.1}, 323.5239433460001)\n",
            "DEBUG flwr 2023-06-10 04:59:26,532 | server.py:168 | evaluate_round 4: strategy sampled 3 clients (out of 10)\n",
            "DEBUG:flwr:evaluate_round 4: strategy sampled 3 clients (out of 10)\n"
          ]
        },
        {
          "output_type": "stream",
          "name": "stdout",
          "text": [
            "Server-side evaluation loss 4.3267081366489073e+18 / accuracy 0.1\n"
          ]
        },
        {
          "output_type": "stream",
          "name": "stderr",
          "text": [
            "\u001b[2m\u001b[36m(pid=22959)\u001b[0m 2023-06-10 04:59:32.714878: W tensorflow/compiler/tf2tensorrt/utils/py_utils.cc:38] TF-TRT Warning: Could not find TensorRT\n"
          ]
        },
        {
          "output_type": "stream",
          "name": "stdout",
          "text": [
            "\u001b[2m\u001b[36m(launch_and_evaluate pid=22959)\u001b[0m [Client 7] evaluate, config: {}\n"
          ]
        },
        {
          "output_type": "stream",
          "name": "stderr",
          "text": [
            "\u001b[2m\u001b[36m(pid=23034)\u001b[0m 2023-06-10 04:59:41.558724: W tensorflow/compiler/tf2tensorrt/utils/py_utils.cc:38] TF-TRT Warning: Could not find TensorRT\n"
          ]
        },
        {
          "output_type": "stream",
          "name": "stdout",
          "text": [
            "\u001b[2m\u001b[36m(launch_and_evaluate pid=23034)\u001b[0m [Client 9] evaluate, config: {}\n"
          ]
        },
        {
          "output_type": "stream",
          "name": "stderr",
          "text": [
            "\u001b[2m\u001b[36m(pid=23096)\u001b[0m 2023-06-10 04:59:48.080048: W tensorflow/compiler/tf2tensorrt/utils/py_utils.cc:38] TF-TRT Warning: Could not find TensorRT\n"
          ]
        },
        {
          "output_type": "stream",
          "name": "stdout",
          "text": [
            "\u001b[2m\u001b[36m(launch_and_evaluate pid=23096)\u001b[0m [Client 5] evaluate, config: {}\n"
          ]
        },
        {
          "output_type": "stream",
          "name": "stderr",
          "text": [
            "DEBUG flwr 2023-06-10 04:59:54,719 | server.py:182 | evaluate_round 4 received 3 results and 0 failures\n",
            "DEBUG:flwr:evaluate_round 4 received 3 results and 0 failures\n",
            "DEBUG flwr 2023-06-10 04:59:54,722 | server.py:218 | fit_round 5: strategy sampled 3 clients (out of 10)\n",
            "DEBUG:flwr:fit_round 5: strategy sampled 3 clients (out of 10)\n",
            "\u001b[2m\u001b[36m(pid=23191)\u001b[0m 2023-06-10 05:00:00.818658: W tensorflow/compiler/tf2tensorrt/utils/py_utils.cc:38] TF-TRT Warning: Could not find TensorRT\n"
          ]
        },
        {
          "output_type": "stream",
          "name": "stdout",
          "text": [
            "\u001b[2m\u001b[36m(launch_and_fit pid=23191)\u001b[0m [Client 4, round 5] fit, config: {'server_round': 5, 'local_epochs': 2}\n",
            "\u001b[2m\u001b[36m(launch_and_fit pid=23191)\u001b[0m Epoch 1: train loss 0.07271412014961243, accuracy 0.12977777777777777\n",
            "\u001b[2m\u001b[36m(launch_and_fit pid=23191)\u001b[0m Epoch 2: train loss 0.0683908462524414, accuracy 0.15288888888888888\n"
          ]
        },
        {
          "output_type": "stream",
          "name": "stderr",
          "text": [
            "\u001b[2m\u001b[36m(pid=23306)\u001b[0m 2023-06-10 05:00:18.142910: W tensorflow/compiler/tf2tensorrt/utils/py_utils.cc:38] TF-TRT Warning: Could not find TensorRT\n"
          ]
        },
        {
          "output_type": "stream",
          "name": "stdout",
          "text": [
            "\u001b[2m\u001b[36m(launch_and_fit pid=23306)\u001b[0m [Client 9, round 5] fit, config: {'server_round': 5, 'local_epochs': 2}\n",
            "\u001b[2m\u001b[36m(launch_and_fit pid=23306)\u001b[0m Epoch 1: train loss 0.07255144417285919, accuracy 0.13577777777777778\n",
            "\u001b[2m\u001b[36m(launch_and_fit pid=23306)\u001b[0m Epoch 2: train loss 0.06644085794687271, accuracy 0.19\n"
          ]
        },
        {
          "output_type": "stream",
          "name": "stderr",
          "text": [
            "\u001b[2m\u001b[36m(pid=23428)\u001b[0m 2023-06-10 05:00:38.185656: W tensorflow/compiler/tf2tensorrt/utils/py_utils.cc:38] TF-TRT Warning: Could not find TensorRT\n"
          ]
        },
        {
          "output_type": "stream",
          "name": "stdout",
          "text": [
            "\u001b[2m\u001b[36m(launch_and_fit pid=23428)\u001b[0m [Client 0, round 5] fit, config: {'server_round': 5, 'local_epochs': 2}\n",
            "\u001b[2m\u001b[36m(launch_and_fit pid=23428)\u001b[0m Epoch 1: train loss 0.07373227924108505, accuracy 0.118\n",
            "\u001b[2m\u001b[36m(launch_and_fit pid=23428)\u001b[0m Epoch 2: train loss 0.0698191449046135, accuracy 0.13822222222222222\n"
          ]
        },
        {
          "output_type": "stream",
          "name": "stderr",
          "text": [
            "DEBUG flwr 2023-06-10 05:00:53,496 | server.py:232 | fit_round 5 received 3 results and 0 failures\n",
            "DEBUG:flwr:fit_round 5 received 3 results and 0 failures\n",
            "INFO flwr 2023-06-10 05:00:59,219 | server.py:119 | fit progress: (5, 2.396767718768128e+19, {'accuracy': 0.1}, 416.2159910289997)\n",
            "INFO:flwr:fit progress: (5, 2.396767718768128e+19, {'accuracy': 0.1}, 416.2159910289997)\n",
            "DEBUG flwr 2023-06-10 05:00:59,225 | server.py:168 | evaluate_round 5: strategy sampled 3 clients (out of 10)\n",
            "DEBUG:flwr:evaluate_round 5: strategy sampled 3 clients (out of 10)\n"
          ]
        },
        {
          "output_type": "stream",
          "name": "stdout",
          "text": [
            "Server-side evaluation loss 2.396767718768128e+19 / accuracy 0.1\n"
          ]
        },
        {
          "output_type": "stream",
          "name": "stderr",
          "text": [
            "\u001b[2m\u001b[36m(pid=23593)\u001b[0m 2023-06-10 05:01:05.293704: W tensorflow/compiler/tf2tensorrt/utils/py_utils.cc:38] TF-TRT Warning: Could not find TensorRT\n"
          ]
        },
        {
          "output_type": "stream",
          "name": "stdout",
          "text": [
            "\u001b[2m\u001b[36m(launch_and_evaluate pid=23593)\u001b[0m [Client 7] evaluate, config: {}\n"
          ]
        },
        {
          "output_type": "stream",
          "name": "stderr",
          "text": [
            "\u001b[2m\u001b[36m(pid=23670)\u001b[0m 2023-06-10 05:01:13.840133: W tensorflow/compiler/tf2tensorrt/utils/py_utils.cc:38] TF-TRT Warning: Could not find TensorRT\n"
          ]
        },
        {
          "output_type": "stream",
          "name": "stdout",
          "text": [
            "\u001b[2m\u001b[36m(launch_and_evaluate pid=23670)\u001b[0m [Client 2] evaluate, config: {}\n"
          ]
        },
        {
          "output_type": "stream",
          "name": "stderr",
          "text": [
            "\u001b[2m\u001b[36m(pid=23732)\u001b[0m 2023-06-10 05:01:19.987152: W tensorflow/compiler/tf2tensorrt/utils/py_utils.cc:38] TF-TRT Warning: Could not find TensorRT\n"
          ]
        },
        {
          "output_type": "stream",
          "name": "stdout",
          "text": [
            "\u001b[2m\u001b[36m(launch_and_evaluate pid=23732)\u001b[0m [Client 9] evaluate, config: {}\n"
          ]
        },
        {
          "output_type": "stream",
          "name": "stderr",
          "text": [
            "DEBUG flwr 2023-06-10 05:01:26,423 | server.py:182 | evaluate_round 5 received 3 results and 0 failures\n",
            "DEBUG:flwr:evaluate_round 5 received 3 results and 0 failures\n",
            "DEBUG flwr 2023-06-10 05:01:26,430 | server.py:218 | fit_round 6: strategy sampled 3 clients (out of 10)\n",
            "DEBUG:flwr:fit_round 6: strategy sampled 3 clients (out of 10)\n",
            "\u001b[2m\u001b[36m(pid=23822)\u001b[0m 2023-06-10 05:01:32.420138: W tensorflow/compiler/tf2tensorrt/utils/py_utils.cc:38] TF-TRT Warning: Could not find TensorRT\n"
          ]
        },
        {
          "output_type": "stream",
          "name": "stdout",
          "text": [
            "\u001b[2m\u001b[36m(launch_and_fit pid=23822)\u001b[0m [Client 4, round 6] fit, config: {'server_round': 6, 'local_epochs': 2}\n",
            "\u001b[2m\u001b[36m(launch_and_fit pid=23822)\u001b[0m Epoch 1: train loss 0.06726405769586563, accuracy 0.17933333333333334\n",
            "\u001b[2m\u001b[36m(launch_and_fit pid=23822)\u001b[0m Epoch 2: train loss 0.061749815940856934, accuracy 0.21844444444444444\n"
          ]
        },
        {
          "output_type": "stream",
          "name": "stderr",
          "text": [
            "\u001b[2m\u001b[36m(pid=23942)\u001b[0m 2023-06-10 05:01:49.654591: W tensorflow/compiler/tf2tensorrt/utils/py_utils.cc:38] TF-TRT Warning: Could not find TensorRT\n"
          ]
        },
        {
          "output_type": "stream",
          "name": "stdout",
          "text": [
            "\u001b[2m\u001b[36m(launch_and_fit pid=23942)\u001b[0m [Client 0, round 6] fit, config: {'server_round': 6, 'local_epochs': 2}\n",
            "\u001b[2m\u001b[36m(launch_and_fit pid=23942)\u001b[0m Epoch 1: train loss 0.06681948900222778, accuracy 0.19\n",
            "\u001b[2m\u001b[36m(launch_and_fit pid=23942)\u001b[0m Epoch 2: train loss 0.060470834374427795, accuracy 0.23733333333333334\n"
          ]
        },
        {
          "output_type": "stream",
          "name": "stderr",
          "text": [
            "\u001b[2m\u001b[36m(pid=24064)\u001b[0m 2023-06-10 05:02:09.828561: W tensorflow/compiler/tf2tensorrt/utils/py_utils.cc:38] TF-TRT Warning: Could not find TensorRT\n"
          ]
        },
        {
          "output_type": "stream",
          "name": "stdout",
          "text": [
            "\u001b[2m\u001b[36m(launch_and_fit pid=24064)\u001b[0m [Client 8, round 6] fit, config: {'server_round': 6, 'local_epochs': 2}\n",
            "\u001b[2m\u001b[36m(launch_and_fit pid=24064)\u001b[0m Epoch 1: train loss 0.06595245003700256, accuracy 0.20622222222222222\n"
          ]
        },
        {
          "output_type": "stream",
          "name": "stderr",
          "text": [
            "DEBUG flwr 2023-06-10 05:02:26,389 | server.py:232 | fit_round 6 received 3 results and 0 failures\n",
            "DEBUG:flwr:fit_round 6 received 3 results and 0 failures\n"
          ]
        },
        {
          "output_type": "stream",
          "name": "stdout",
          "text": [
            "\u001b[2m\u001b[36m(launch_and_fit pid=24064)\u001b[0m Epoch 2: train loss 0.06090423837304115, accuracy 0.2311111111111111\n"
          ]
        },
        {
          "output_type": "stream",
          "name": "stderr",
          "text": [
            "INFO flwr 2023-06-10 05:02:33,004 | server.py:119 | fit progress: (6, 4.6042211058921467e+18, {'accuracy': 0.1}, 510.000580423)\n",
            "INFO:flwr:fit progress: (6, 4.6042211058921467e+18, {'accuracy': 0.1}, 510.000580423)\n",
            "DEBUG flwr 2023-06-10 05:02:33,009 | server.py:168 | evaluate_round 6: strategy sampled 3 clients (out of 10)\n",
            "DEBUG:flwr:evaluate_round 6: strategy sampled 3 clients (out of 10)\n"
          ]
        },
        {
          "output_type": "stream",
          "name": "stdout",
          "text": [
            "Server-side evaluation loss 4.6042211058921467e+18 / accuracy 0.1\n"
          ]
        },
        {
          "output_type": "stream",
          "name": "stderr",
          "text": [
            "\u001b[2m\u001b[36m(pid=24237)\u001b[0m 2023-06-10 05:02:39.174048: W tensorflow/compiler/tf2tensorrt/utils/py_utils.cc:38] TF-TRT Warning: Could not find TensorRT\n"
          ]
        },
        {
          "output_type": "stream",
          "name": "stdout",
          "text": [
            "\u001b[2m\u001b[36m(launch_and_evaluate pid=24237)\u001b[0m [Client 0] evaluate, config: {}\n"
          ]
        },
        {
          "output_type": "stream",
          "name": "stderr",
          "text": [
            "\u001b[2m\u001b[36m(pid=24305)\u001b[0m 2023-06-10 05:02:47.467382: W tensorflow/compiler/tf2tensorrt/utils/py_utils.cc:38] TF-TRT Warning: Could not find TensorRT\n"
          ]
        },
        {
          "output_type": "stream",
          "name": "stdout",
          "text": [
            "\u001b[2m\u001b[36m(launch_and_evaluate pid=24305)\u001b[0m [Client 4] evaluate, config: {}\n"
          ]
        },
        {
          "output_type": "stream",
          "name": "stderr",
          "text": [
            "\u001b[2m\u001b[36m(pid=24371)\u001b[0m 2023-06-10 05:02:53.529237: W tensorflow/compiler/tf2tensorrt/utils/py_utils.cc:38] TF-TRT Warning: Could not find TensorRT\n"
          ]
        },
        {
          "output_type": "stream",
          "name": "stdout",
          "text": [
            "\u001b[2m\u001b[36m(launch_and_evaluate pid=24371)\u001b[0m [Client 3] evaluate, config: {}\n"
          ]
        },
        {
          "output_type": "stream",
          "name": "stderr",
          "text": [
            "DEBUG flwr 2023-06-10 05:02:58,476 | server.py:182 | evaluate_round 6 received 3 results and 0 failures\n",
            "DEBUG:flwr:evaluate_round 6 received 3 results and 0 failures\n",
            "DEBUG flwr 2023-06-10 05:02:58,483 | server.py:218 | fit_round 7: strategy sampled 3 clients (out of 10)\n",
            "DEBUG:flwr:fit_round 7: strategy sampled 3 clients (out of 10)\n",
            "\u001b[2m\u001b[36m(pid=24462)\u001b[0m 2023-06-10 05:03:05.664493: W tensorflow/compiler/tf2tensorrt/utils/py_utils.cc:38] TF-TRT Warning: Could not find TensorRT\n"
          ]
        },
        {
          "output_type": "stream",
          "name": "stdout",
          "text": [
            "\u001b[2m\u001b[36m(launch_and_fit pid=24462)\u001b[0m [Client 5, round 7] fit, config: {'server_round': 7, 'local_epochs': 2}\n",
            "\u001b[2m\u001b[36m(launch_and_fit pid=24462)\u001b[0m Epoch 1: train loss 0.06371349841356277, accuracy 0.23666666666666666\n",
            "\u001b[2m\u001b[36m(launch_and_fit pid=24462)\u001b[0m Epoch 2: train loss 0.059344008564949036, accuracy 0.24644444444444444\n"
          ]
        },
        {
          "output_type": "stream",
          "name": "stderr",
          "text": [
            "\u001b[2m\u001b[36m(pid=24575)\u001b[0m 2023-06-10 05:03:22.670558: W tensorflow/compiler/tf2tensorrt/utils/py_utils.cc:38] TF-TRT Warning: Could not find TensorRT\n"
          ]
        },
        {
          "output_type": "stream",
          "name": "stdout",
          "text": [
            "\u001b[2m\u001b[36m(launch_and_fit pid=24575)\u001b[0m [Client 1, round 7] fit, config: {'server_round': 7, 'local_epochs': 2}\n",
            "\u001b[2m\u001b[36m(launch_and_fit pid=24575)\u001b[0m Epoch 1: train loss 0.06331191956996918, accuracy 0.22311111111111112\n",
            "\u001b[2m\u001b[36m(launch_and_fit pid=24575)\u001b[0m Epoch 2: train loss 0.05868979170918465, accuracy 0.248\n"
          ]
        },
        {
          "output_type": "stream",
          "name": "stderr",
          "text": [
            "\u001b[2m\u001b[36m(pid=24689)\u001b[0m 2023-06-10 05:03:39.497297: W tensorflow/compiler/tf2tensorrt/utils/py_utils.cc:38] TF-TRT Warning: Could not find TensorRT\n"
          ]
        },
        {
          "output_type": "stream",
          "name": "stdout",
          "text": [
            "\u001b[2m\u001b[36m(launch_and_fit pid=24689)\u001b[0m [Client 2, round 7] fit, config: {'server_round': 7, 'local_epochs': 2}\n",
            "\u001b[2m\u001b[36m(launch_and_fit pid=24689)\u001b[0m Epoch 1: train loss 0.06368234753608704, accuracy 0.2328888888888889\n"
          ]
        },
        {
          "output_type": "stream",
          "name": "stderr",
          "text": [
            "DEBUG flwr 2023-06-10 05:03:55,127 | server.py:232 | fit_round 7 received 3 results and 0 failures\n",
            "DEBUG:flwr:fit_round 7 received 3 results and 0 failures\n"
          ]
        },
        {
          "output_type": "stream",
          "name": "stdout",
          "text": [
            "\u001b[2m\u001b[36m(launch_and_fit pid=24689)\u001b[0m Epoch 2: train loss 0.05914485827088356, accuracy 0.24444444444444444\n"
          ]
        },
        {
          "output_type": "stream",
          "name": "stderr",
          "text": [
            "INFO flwr 2023-06-10 05:04:02,453 | server.py:119 | fit progress: (7, 7.973111271417245e+17, {'accuracy': 0.1}, 599.4501605719997)\n",
            "INFO:flwr:fit progress: (7, 7.973111271417245e+17, {'accuracy': 0.1}, 599.4501605719997)\n",
            "DEBUG flwr 2023-06-10 05:04:02,458 | server.py:168 | evaluate_round 7: strategy sampled 3 clients (out of 10)\n",
            "DEBUG:flwr:evaluate_round 7: strategy sampled 3 clients (out of 10)\n"
          ]
        },
        {
          "output_type": "stream",
          "name": "stdout",
          "text": [
            "Server-side evaluation loss 7.973111271417245e+17 / accuracy 0.1\n"
          ]
        },
        {
          "output_type": "stream",
          "name": "stderr",
          "text": [
            "\u001b[2m\u001b[36m(pid=24861)\u001b[0m 2023-06-10 05:04:08.512036: W tensorflow/compiler/tf2tensorrt/utils/py_utils.cc:38] TF-TRT Warning: Could not find TensorRT\n"
          ]
        },
        {
          "output_type": "stream",
          "name": "stdout",
          "text": [
            "\u001b[2m\u001b[36m(launch_and_evaluate pid=24861)\u001b[0m [Client 1] evaluate, config: {}\n"
          ]
        },
        {
          "output_type": "stream",
          "name": "stderr",
          "text": [
            "\u001b[2m\u001b[36m(pid=24924)\u001b[0m 2023-06-10 05:04:16.851340: W tensorflow/compiler/tf2tensorrt/utils/py_utils.cc:38] TF-TRT Warning: Could not find TensorRT\n"
          ]
        },
        {
          "output_type": "stream",
          "name": "stdout",
          "text": [
            "\u001b[2m\u001b[36m(launch_and_evaluate pid=24924)\u001b[0m [Client 7] evaluate, config: {}\n"
          ]
        },
        {
          "output_type": "stream",
          "name": "stderr",
          "text": [
            "\u001b[2m\u001b[36m(pid=24998)\u001b[0m 2023-06-10 05:04:23.443922: W tensorflow/compiler/tf2tensorrt/utils/py_utils.cc:38] TF-TRT Warning: Could not find TensorRT\n"
          ]
        },
        {
          "output_type": "stream",
          "name": "stdout",
          "text": [
            "\u001b[2m\u001b[36m(launch_and_evaluate pid=24998)\u001b[0m [Client 6] evaluate, config: {}\n"
          ]
        },
        {
          "output_type": "stream",
          "name": "stderr",
          "text": [
            "DEBUG flwr 2023-06-10 05:04:27,841 | server.py:182 | evaluate_round 7 received 3 results and 0 failures\n",
            "DEBUG:flwr:evaluate_round 7 received 3 results and 0 failures\n",
            "DEBUG flwr 2023-06-10 05:04:27,844 | server.py:218 | fit_round 8: strategy sampled 3 clients (out of 10)\n",
            "DEBUG:flwr:fit_round 8: strategy sampled 3 clients (out of 10)\n",
            "\u001b[2m\u001b[36m(pid=25089)\u001b[0m 2023-06-10 05:04:36.364128: W tensorflow/compiler/tf2tensorrt/utils/py_utils.cc:38] TF-TRT Warning: Could not find TensorRT\n"
          ]
        },
        {
          "output_type": "stream",
          "name": "stdout",
          "text": [
            "\u001b[2m\u001b[36m(launch_and_fit pid=25089)\u001b[0m [Client 9, round 8] fit, config: {'server_round': 8, 'local_epochs': 2}\n",
            "\u001b[2m\u001b[36m(launch_and_fit pid=25089)\u001b[0m Epoch 1: train loss 0.060456015169620514, accuracy 0.27\n",
            "\u001b[2m\u001b[36m(launch_and_fit pid=25089)\u001b[0m Epoch 2: train loss 0.058160264045000076, accuracy 0.2773333333333333\n"
          ]
        },
        {
          "output_type": "stream",
          "name": "stderr",
          "text": [
            "\u001b[2m\u001b[36m(pid=25213)\u001b[0m 2023-06-10 05:04:54.881882: W tensorflow/compiler/tf2tensorrt/utils/py_utils.cc:38] TF-TRT Warning: Could not find TensorRT\n"
          ]
        },
        {
          "output_type": "stream",
          "name": "stdout",
          "text": [
            "\u001b[2m\u001b[36m(launch_and_fit pid=25213)\u001b[0m [Client 0, round 8] fit, config: {'server_round': 8, 'local_epochs': 2}\n",
            "\u001b[2m\u001b[36m(launch_and_fit pid=25213)\u001b[0m Epoch 1: train loss 0.06089628115296364, accuracy 0.24977777777777777\n",
            "\u001b[2m\u001b[36m(launch_and_fit pid=25213)\u001b[0m Epoch 2: train loss 0.05830569937825203, accuracy 0.26666666666666666\n"
          ]
        },
        {
          "output_type": "stream",
          "name": "stderr",
          "text": [
            "\u001b[2m\u001b[36m(pid=25326)\u001b[0m 2023-06-10 05:05:11.812035: W tensorflow/compiler/tf2tensorrt/utils/py_utils.cc:38] TF-TRT Warning: Could not find TensorRT\n"
          ]
        },
        {
          "output_type": "stream",
          "name": "stdout",
          "text": [
            "\u001b[2m\u001b[36m(launch_and_fit pid=25326)\u001b[0m [Client 8, round 8] fit, config: {'server_round': 8, 'local_epochs': 2}\n",
            "\u001b[2m\u001b[36m(launch_and_fit pid=25326)\u001b[0m Epoch 1: train loss 0.05989892780780792, accuracy 0.258\n"
          ]
        },
        {
          "output_type": "stream",
          "name": "stderr",
          "text": [
            "DEBUG flwr 2023-06-10 05:05:27,199 | server.py:232 | fit_round 8 received 3 results and 0 failures\n",
            "DEBUG:flwr:fit_round 8 received 3 results and 0 failures\n"
          ]
        },
        {
          "output_type": "stream",
          "name": "stdout",
          "text": [
            "\u001b[2m\u001b[36m(launch_and_fit pid=25326)\u001b[0m Epoch 2: train loss 0.057529106736183167, accuracy 0.28155555555555556\n"
          ]
        },
        {
          "output_type": "stream",
          "name": "stderr",
          "text": [
            "INFO flwr 2023-06-10 05:05:32,505 | server.py:119 | fit progress: (8, 2.589837125833064e+18, {'accuracy': 0.1}, 689.5020912079999)\n",
            "INFO:flwr:fit progress: (8, 2.589837125833064e+18, {'accuracy': 0.1}, 689.5020912079999)\n",
            "DEBUG flwr 2023-06-10 05:05:32,509 | server.py:168 | evaluate_round 8: strategy sampled 3 clients (out of 10)\n",
            "DEBUG:flwr:evaluate_round 8: strategy sampled 3 clients (out of 10)\n"
          ]
        },
        {
          "output_type": "stream",
          "name": "stdout",
          "text": [
            "Server-side evaluation loss 2.589837125833064e+18 / accuracy 0.1\n"
          ]
        },
        {
          "output_type": "stream",
          "name": "stderr",
          "text": [
            "\u001b[2m\u001b[36m(pid=25493)\u001b[0m 2023-06-10 05:05:40.751309: W tensorflow/compiler/tf2tensorrt/utils/py_utils.cc:38] TF-TRT Warning: Could not find TensorRT\n"
          ]
        },
        {
          "output_type": "stream",
          "name": "stdout",
          "text": [
            "\u001b[2m\u001b[36m(launch_and_evaluate pid=25493)\u001b[0m [Client 9] evaluate, config: {}\n"
          ]
        },
        {
          "output_type": "stream",
          "name": "stderr",
          "text": [
            "\u001b[2m\u001b[36m(pid=25559)\u001b[0m 2023-06-10 05:05:47.078782: W tensorflow/compiler/tf2tensorrt/utils/py_utils.cc:38] TF-TRT Warning: Could not find TensorRT\n"
          ]
        },
        {
          "output_type": "stream",
          "name": "stdout",
          "text": [
            "\u001b[2m\u001b[36m(launch_and_evaluate pid=25559)\u001b[0m [Client 0] evaluate, config: {}\n"
          ]
        },
        {
          "output_type": "stream",
          "name": "stderr",
          "text": [
            "\u001b[2m\u001b[36m(pid=25630)\u001b[0m 2023-06-10 05:05:55.759140: W tensorflow/compiler/tf2tensorrt/utils/py_utils.cc:38] TF-TRT Warning: Could not find TensorRT\n"
          ]
        },
        {
          "output_type": "stream",
          "name": "stdout",
          "text": [
            "\u001b[2m\u001b[36m(launch_and_evaluate pid=25630)\u001b[0m [Client 4] evaluate, config: {}\n"
          ]
        },
        {
          "output_type": "stream",
          "name": "stderr",
          "text": [
            "DEBUG flwr 2023-06-10 05:06:00,284 | server.py:182 | evaluate_round 8 received 3 results and 0 failures\n",
            "DEBUG:flwr:evaluate_round 8 received 3 results and 0 failures\n",
            "DEBUG flwr 2023-06-10 05:06:00,288 | server.py:218 | fit_round 9: strategy sampled 3 clients (out of 10)\n",
            "DEBUG:flwr:fit_round 9: strategy sampled 3 clients (out of 10)\n",
            "\u001b[2m\u001b[36m(pid=25720)\u001b[0m 2023-06-10 05:06:08.934840: W tensorflow/compiler/tf2tensorrt/utils/py_utils.cc:38] TF-TRT Warning: Could not find TensorRT\n"
          ]
        },
        {
          "output_type": "stream",
          "name": "stdout",
          "text": [
            "\u001b[2m\u001b[36m(launch_and_fit pid=25720)\u001b[0m [Client 2, round 9] fit, config: {'server_round': 9, 'local_epochs': 2}\n",
            "\u001b[2m\u001b[36m(launch_and_fit pid=25720)\u001b[0m Epoch 1: train loss 0.06179779767990112, accuracy 0.24688888888888888\n",
            "\u001b[2m\u001b[36m(launch_and_fit pid=25720)\u001b[0m Epoch 2: train loss 0.05692366510629654, accuracy 0.2931111111111111\n"
          ]
        },
        {
          "output_type": "stream",
          "name": "stderr",
          "text": [
            "\u001b[2m\u001b[36m(pid=25840)\u001b[0m 2023-06-10 05:06:25.832861: W tensorflow/compiler/tf2tensorrt/utils/py_utils.cc:38] TF-TRT Warning: Could not find TensorRT\n"
          ]
        },
        {
          "output_type": "stream",
          "name": "stdout",
          "text": [
            "\u001b[2m\u001b[36m(launch_and_fit pid=25840)\u001b[0m [Client 0, round 9] fit, config: {'server_round': 9, 'local_epochs': 2}\n",
            "\u001b[2m\u001b[36m(launch_and_fit pid=25840)\u001b[0m Epoch 1: train loss 0.06145799532532692, accuracy 0.24644444444444444\n",
            "\u001b[2m\u001b[36m(launch_and_fit pid=25840)\u001b[0m Epoch 2: train loss 0.057094477117061615, accuracy 0.29777777777777775\n"
          ]
        },
        {
          "output_type": "stream",
          "name": "stderr",
          "text": [
            "\u001b[2m\u001b[36m(pid=25951)\u001b[0m 2023-06-10 05:06:42.871467: W tensorflow/compiler/tf2tensorrt/utils/py_utils.cc:38] TF-TRT Warning: Could not find TensorRT\n"
          ]
        },
        {
          "output_type": "stream",
          "name": "stdout",
          "text": [
            "\u001b[2m\u001b[36m(launch_and_fit pid=25951)\u001b[0m [Client 9, round 9] fit, config: {'server_round': 9, 'local_epochs': 2}\n",
            "\u001b[2m\u001b[36m(launch_and_fit pid=25951)\u001b[0m Epoch 1: train loss 0.06095455586910248, accuracy 0.2682222222222222\n"
          ]
        },
        {
          "output_type": "stream",
          "name": "stderr",
          "text": [
            "DEBUG flwr 2023-06-10 05:06:57,955 | server.py:232 | fit_round 9 received 3 results and 0 failures\n",
            "DEBUG:flwr:fit_round 9 received 3 results and 0 failures\n"
          ]
        },
        {
          "output_type": "stream",
          "name": "stdout",
          "text": [
            "\u001b[2m\u001b[36m(launch_and_fit pid=25951)\u001b[0m Epoch 2: train loss 0.05627991631627083, accuracy 0.3071111111111111\n"
          ]
        },
        {
          "output_type": "stream",
          "name": "stderr",
          "text": [
            "INFO flwr 2023-06-10 05:07:03,098 | server.py:119 | fit progress: (9, 7.649383196997402e+17, {'accuracy': 0.1}, 780.0953221999998)\n",
            "INFO:flwr:fit progress: (9, 7.649383196997402e+17, {'accuracy': 0.1}, 780.0953221999998)\n",
            "DEBUG flwr 2023-06-10 05:07:03,109 | server.py:168 | evaluate_round 9: strategy sampled 3 clients (out of 10)\n",
            "DEBUG:flwr:evaluate_round 9: strategy sampled 3 clients (out of 10)\n"
          ]
        },
        {
          "output_type": "stream",
          "name": "stdout",
          "text": [
            "Server-side evaluation loss 7.649383196997402e+17 / accuracy 0.1\n"
          ]
        },
        {
          "output_type": "stream",
          "name": "stderr",
          "text": [
            "\u001b[2m\u001b[36m(pid=26119)\u001b[0m 2023-06-10 05:07:11.602035: W tensorflow/compiler/tf2tensorrt/utils/py_utils.cc:38] TF-TRT Warning: Could not find TensorRT\n"
          ]
        },
        {
          "output_type": "stream",
          "name": "stdout",
          "text": [
            "\u001b[2m\u001b[36m(launch_and_evaluate pid=26119)\u001b[0m [Client 7] evaluate, config: {}\n"
          ]
        },
        {
          "output_type": "stream",
          "name": "stderr",
          "text": [
            "\u001b[2m\u001b[36m(pid=26187)\u001b[0m 2023-06-10 05:07:18.106261: W tensorflow/compiler/tf2tensorrt/utils/py_utils.cc:38] TF-TRT Warning: Could not find TensorRT\n"
          ]
        },
        {
          "output_type": "stream",
          "name": "stdout",
          "text": [
            "\u001b[2m\u001b[36m(launch_and_evaluate pid=26187)\u001b[0m [Client 2] evaluate, config: {}\n"
          ]
        },
        {
          "output_type": "stream",
          "name": "stderr",
          "text": [
            "\u001b[2m\u001b[36m(pid=26256)\u001b[0m 2023-06-10 05:07:26.545250: W tensorflow/compiler/tf2tensorrt/utils/py_utils.cc:38] TF-TRT Warning: Could not find TensorRT\n"
          ]
        },
        {
          "output_type": "stream",
          "name": "stdout",
          "text": [
            "\u001b[2m\u001b[36m(launch_and_evaluate pid=26256)\u001b[0m [Client 4] evaluate, config: {}\n"
          ]
        },
        {
          "output_type": "stream",
          "name": "stderr",
          "text": [
            "DEBUG flwr 2023-06-10 05:07:30,644 | server.py:182 | evaluate_round 9 received 3 results and 0 failures\n",
            "DEBUG:flwr:evaluate_round 9 received 3 results and 0 failures\n",
            "DEBUG flwr 2023-06-10 05:07:30,649 | server.py:218 | fit_round 10: strategy sampled 3 clients (out of 10)\n",
            "DEBUG:flwr:fit_round 10: strategy sampled 3 clients (out of 10)\n",
            "\u001b[2m\u001b[36m(pid=26342)\u001b[0m 2023-06-10 05:07:39.644205: W tensorflow/compiler/tf2tensorrt/utils/py_utils.cc:38] TF-TRT Warning: Could not find TensorRT\n"
          ]
        },
        {
          "output_type": "stream",
          "name": "stdout",
          "text": [
            "\u001b[2m\u001b[36m(launch_and_fit pid=26342)\u001b[0m [Client 4, round 10] fit, config: {'server_round': 10, 'local_epochs': 2}\n",
            "\u001b[2m\u001b[36m(launch_and_fit pid=26342)\u001b[0m Epoch 1: train loss 0.05773772671818733, accuracy 0.2946666666666667\n",
            "\u001b[2m\u001b[36m(launch_and_fit pid=26342)\u001b[0m Epoch 2: train loss 0.05308053642511368, accuracy 0.34\n"
          ]
        },
        {
          "output_type": "stream",
          "name": "stderr",
          "text": [
            "\u001b[2m\u001b[36m(pid=26474)\u001b[0m 2023-06-10 05:07:59.811495: W tensorflow/compiler/tf2tensorrt/utils/py_utils.cc:38] TF-TRT Warning: Could not find TensorRT\n"
          ]
        },
        {
          "output_type": "stream",
          "name": "stdout",
          "text": [
            "\u001b[2m\u001b[36m(launch_and_fit pid=26474)\u001b[0m [Client 9, round 10] fit, config: {'server_round': 10, 'local_epochs': 2}\n",
            "\u001b[2m\u001b[36m(launch_and_fit pid=26474)\u001b[0m Epoch 1: train loss 0.05767253413796425, accuracy 0.31022222222222223\n",
            "\u001b[2m\u001b[36m(launch_and_fit pid=26474)\u001b[0m Epoch 2: train loss 0.05344020947813988, accuracy 0.3551111111111111\n"
          ]
        },
        {
          "output_type": "stream",
          "name": "stderr",
          "text": [
            "\u001b[2m\u001b[36m(pid=26592)\u001b[0m 2023-06-10 05:08:16.739277: W tensorflow/compiler/tf2tensorrt/utils/py_utils.cc:38] TF-TRT Warning: Could not find TensorRT\n"
          ]
        },
        {
          "output_type": "stream",
          "name": "stdout",
          "text": [
            "\u001b[2m\u001b[36m(launch_and_fit pid=26592)\u001b[0m [Client 6, round 10] fit, config: {'server_round': 10, 'local_epochs': 2}\n",
            "\u001b[2m\u001b[36m(launch_and_fit pid=26592)\u001b[0m Epoch 1: train loss 0.05883199721574783, accuracy 0.28444444444444444\n"
          ]
        },
        {
          "output_type": "stream",
          "name": "stderr",
          "text": [
            "DEBUG flwr 2023-06-10 05:08:31,836 | server.py:232 | fit_round 10 received 3 results and 0 failures\n",
            "DEBUG:flwr:fit_round 10 received 3 results and 0 failures\n"
          ]
        },
        {
          "output_type": "stream",
          "name": "stdout",
          "text": [
            "\u001b[2m\u001b[36m(launch_and_fit pid=26592)\u001b[0m Epoch 2: train loss 0.05417398363351822, accuracy 0.32822222222222225\n"
          ]
        },
        {
          "output_type": "stream",
          "name": "stderr",
          "text": [
            "INFO flwr 2023-06-10 05:08:36,939 | server.py:119 | fit progress: (10, 1.7392708598702088e+18, {'accuracy': 0.1}, 873.9356049550001)\n",
            "INFO:flwr:fit progress: (10, 1.7392708598702088e+18, {'accuracy': 0.1}, 873.9356049550001)\n",
            "DEBUG flwr 2023-06-10 05:08:36,942 | server.py:168 | evaluate_round 10: strategy sampled 3 clients (out of 10)\n",
            "DEBUG:flwr:evaluate_round 10: strategy sampled 3 clients (out of 10)\n"
          ]
        },
        {
          "output_type": "stream",
          "name": "stdout",
          "text": [
            "Server-side evaluation loss 1.7392708598702088e+18 / accuracy 0.1\n"
          ]
        },
        {
          "output_type": "stream",
          "name": "stderr",
          "text": [
            "\u001b[2m\u001b[36m(pid=26754)\u001b[0m 2023-06-10 05:08:45.653122: W tensorflow/compiler/tf2tensorrt/utils/py_utils.cc:38] TF-TRT Warning: Could not find TensorRT\n"
          ]
        },
        {
          "output_type": "stream",
          "name": "stdout",
          "text": [
            "\u001b[2m\u001b[36m(launch_and_evaluate pid=26754)\u001b[0m [Client 8] evaluate, config: {}\n"
          ]
        },
        {
          "output_type": "stream",
          "name": "stderr",
          "text": [
            "\u001b[2m\u001b[36m(pid=26829)\u001b[0m 2023-06-10 05:08:51.827368: W tensorflow/compiler/tf2tensorrt/utils/py_utils.cc:38] TF-TRT Warning: Could not find TensorRT\n"
          ]
        },
        {
          "output_type": "stream",
          "name": "stdout",
          "text": [
            "\u001b[2m\u001b[36m(launch_and_evaluate pid=26829)\u001b[0m [Client 4] evaluate, config: {}\n"
          ]
        },
        {
          "output_type": "stream",
          "name": "stderr",
          "text": [
            "\u001b[2m\u001b[36m(pid=26891)\u001b[0m 2023-06-10 05:08:59.949090: W tensorflow/compiler/tf2tensorrt/utils/py_utils.cc:38] TF-TRT Warning: Could not find TensorRT\n"
          ]
        },
        {
          "output_type": "stream",
          "name": "stdout",
          "text": [
            "\u001b[2m\u001b[36m(launch_and_evaluate pid=26891)\u001b[0m [Client 2] evaluate, config: {}\n"
          ]
        },
        {
          "output_type": "stream",
          "name": "stderr",
          "text": [
            "DEBUG flwr 2023-06-10 05:09:04,812 | server.py:182 | evaluate_round 10 received 3 results and 0 failures\n",
            "DEBUG:flwr:evaluate_round 10 received 3 results and 0 failures\n",
            "INFO flwr 2023-06-10 05:09:04,817 | server.py:147 | FL finished in 901.814400534\n",
            "INFO:flwr:FL finished in 901.814400534\n",
            "INFO flwr 2023-06-10 05:09:04,824 | app.py:218 | app_fit: losses_distributed [(1, 881257811891.5414), (2, 7.139457339709902e+18), (3, 1.2841175805899162e+18), (4, 4.4439478142326717e+18), (5, 2.520041685343316e+19), (6, 4.5572655408770335e+18), (7, 7.97924403428267e+17), (8, 2.6499453795261297e+18), (9, 7.693934957904874e+17), (10, 1.7723267181851548e+18)]\n",
            "INFO:flwr:app_fit: losses_distributed [(1, 881257811891.5414), (2, 7.139457339709902e+18), (3, 1.2841175805899162e+18), (4, 4.4439478142326717e+18), (5, 2.520041685343316e+19), (6, 4.5572655408770335e+18), (7, 7.97924403428267e+17), (8, 2.6499453795261297e+18), (9, 7.693934957904874e+17), (10, 1.7723267181851548e+18)]\n",
            "INFO flwr 2023-06-10 05:09:04,827 | app.py:219 | app_fit: metrics_distributed_fit {}\n",
            "INFO:flwr:app_fit: metrics_distributed_fit {}\n",
            "INFO flwr 2023-06-10 05:09:04,829 | app.py:220 | app_fit: metrics_distributed {'accuracy': [(1, 0.09599999999999999), (2, 0.09933333333333334), (3, 0.09533333333333334), (4, 0.09933333333333334), (5, 0.09333333333333334), (6, 0.104), (7, 0.11266666666666665), (8, 0.108), (9, 0.09800000000000002), (10, 0.10066666666666667)]}\n",
            "INFO:flwr:app_fit: metrics_distributed {'accuracy': [(1, 0.09599999999999999), (2, 0.09933333333333334), (3, 0.09533333333333334), (4, 0.09933333333333334), (5, 0.09333333333333334), (6, 0.104), (7, 0.11266666666666665), (8, 0.108), (9, 0.09800000000000002), (10, 0.10066666666666667)]}\n",
            "INFO flwr 2023-06-10 05:09:04,832 | app.py:221 | app_fit: losses_centralized [(0, 0.07208328914642334), (1, 850900035410.3296), (2, 6.957013839515187e+18), (3, 1.2970978006802445e+18), (4, 4.3267081366489073e+18), (5, 2.396767718768128e+19), (6, 4.6042211058921467e+18), (7, 7.973111271417245e+17), (8, 2.589837125833064e+18), (9, 7.649383196997402e+17), (10, 1.7392708598702088e+18)]\n",
            "INFO:flwr:app_fit: losses_centralized [(0, 0.07208328914642334), (1, 850900035410.3296), (2, 6.957013839515187e+18), (3, 1.2970978006802445e+18), (4, 4.3267081366489073e+18), (5, 2.396767718768128e+19), (6, 4.6042211058921467e+18), (7, 7.973111271417245e+17), (8, 2.589837125833064e+18), (9, 7.649383196997402e+17), (10, 1.7392708598702088e+18)]\n",
            "INFO flwr 2023-06-10 05:09:04,841 | app.py:222 | app_fit: metrics_centralized {'accuracy': [(0, 0.1), (1, 0.1), (2, 0.1), (3, 0.1), (4, 0.1), (5, 0.1), (6, 0.1), (7, 0.1), (8, 0.1), (9, 0.1), (10, 0.1)]}\n",
            "INFO:flwr:app_fit: metrics_centralized {'accuracy': [(0, 0.1), (1, 0.1), (2, 0.1), (3, 0.1), (4, 0.1), (5, 0.1), (6, 0.1), (7, 0.1), (8, 0.1), (9, 0.1), (10, 0.1)]}\n"
          ]
        }
      ]
    },
    {
      "cell_type": "markdown",
      "source": [
        "## q-FFL"
      ],
      "metadata": {
        "id": "BPOnWBHPjPtD"
      }
    },
    {
      "cell_type": "code",
      "source": [
        "net = Net().to(DEVICE)\n",
        "simulate_cifar(StrategyCls=fl.server.strategy.QFedAvg, strategyArgs=strategyConfig, net=net, num_rounds=10)"
      ],
      "metadata": {
        "colab": {
          "base_uri": "https://localhost:8080/"
        },
        "id": "Ig6o7Ybmjj5H",
        "outputId": "f5e5a43e-0774-4473-f75a-70649303dfb7"
      },
      "execution_count": 9,
      "outputs": [
        {
          "output_type": "stream",
          "name": "stdout",
          "text": [
            "Files already downloaded and verified\n",
            "Files already downloaded and verified\n"
          ]
        },
        {
          "output_type": "stream",
          "name": "stderr",
          "text": [
            "INFO flwr 2023-06-10 05:09:06,390 | app.py:146 | Starting Flower simulation, config: ServerConfig(num_rounds=10, round_timeout=None)\n",
            "INFO:flwr:Starting Flower simulation, config: ServerConfig(num_rounds=10, round_timeout=None)\n",
            "2023-06-10 05:09:13,847\tINFO worker.py:1636 -- Started a local Ray instance.\n",
            "INFO flwr 2023-06-10 05:09:15,827 | app.py:180 | Flower VCE: Ray initialized with resources: {'CPU': 2.0, 'memory': 7872452199.0, 'object_store_memory': 3936226099.0, 'node:172.28.0.12': 1.0, 'GPU': 1.0}\n",
            "INFO:flwr:Flower VCE: Ray initialized with resources: {'CPU': 2.0, 'memory': 7872452199.0, 'object_store_memory': 3936226099.0, 'node:172.28.0.12': 1.0, 'GPU': 1.0}\n",
            "INFO flwr 2023-06-10 05:09:15,845 | server.py:86 | Initializing global parameters\n",
            "INFO:flwr:Initializing global parameters\n",
            "INFO flwr 2023-06-10 05:09:15,848 | server.py:269 | Using initial parameters provided by strategy\n",
            "INFO:flwr:Using initial parameters provided by strategy\n",
            "INFO flwr 2023-06-10 05:09:15,854 | server.py:88 | Evaluating initial parameters\n",
            "INFO:flwr:Evaluating initial parameters\n",
            "INFO flwr 2023-06-10 05:09:19,691 | server.py:91 | initial parameters (loss, other metrics): 0.07215865316390992, {'accuracy': 0.0998}\n",
            "INFO:flwr:initial parameters (loss, other metrics): 0.07215865316390992, {'accuracy': 0.0998}\n",
            "INFO flwr 2023-06-10 05:09:19,696 | server.py:101 | FL starting\n",
            "INFO:flwr:FL starting\n",
            "DEBUG flwr 2023-06-10 05:09:19,704 | server.py:218 | fit_round 1: strategy sampled 3 clients (out of 10)\n",
            "DEBUG:flwr:fit_round 1: strategy sampled 3 clients (out of 10)\n"
          ]
        },
        {
          "output_type": "stream",
          "name": "stdout",
          "text": [
            "Server-side evaluation loss 0.07215865316390992 / accuracy 0.0998\n"
          ]
        },
        {
          "output_type": "stream",
          "name": "stderr",
          "text": [
            "\u001b[2m\u001b[36m(pid=27243)\u001b[0m 2023-06-10 05:09:25.180133: W tensorflow/compiler/tf2tensorrt/utils/py_utils.cc:38] TF-TRT Warning: Could not find TensorRT\n"
          ]
        },
        {
          "output_type": "stream",
          "name": "stdout",
          "text": [
            "\u001b[2m\u001b[36m(launch_and_fit pid=27243)\u001b[0m [Client 3, round 1] fit, config: {'server_round': 1, 'local_epochs': 1}\n",
            "\u001b[2m\u001b[36m(launch_and_fit pid=27243)\u001b[0m Epoch 1: train loss 0.06371299177408218, accuracy 0.22377777777777777\n"
          ]
        },
        {
          "output_type": "stream",
          "name": "stderr",
          "text": [
            "\u001b[2m\u001b[36m(pid=27312)\u001b[0m 2023-06-10 05:09:33.757551: W tensorflow/compiler/tf2tensorrt/utils/py_utils.cc:38] TF-TRT Warning: Could not find TensorRT\n"
          ]
        },
        {
          "output_type": "stream",
          "name": "stdout",
          "text": [
            "\u001b[2m\u001b[36m(launch_and_fit pid=27312)\u001b[0m [Client 0, round 1] fit, config: {'server_round': 1, 'local_epochs': 1}\n",
            "\u001b[2m\u001b[36m(launch_and_fit pid=27312)\u001b[0m Epoch 1: train loss 0.0639529675245285, accuracy 0.2391111111111111\n"
          ]
        },
        {
          "output_type": "stream",
          "name": "stderr",
          "text": [
            "\u001b[2m\u001b[36m(pid=27381)\u001b[0m 2023-06-10 05:09:40.633298: W tensorflow/compiler/tf2tensorrt/utils/py_utils.cc:38] TF-TRT Warning: Could not find TensorRT\n"
          ]
        },
        {
          "output_type": "stream",
          "name": "stdout",
          "text": [
            "\u001b[2m\u001b[36m(launch_and_fit pid=27381)\u001b[0m [Client 8, round 1] fit, config: {'server_round': 1, 'local_epochs': 1}\n"
          ]
        },
        {
          "output_type": "stream",
          "name": "stderr",
          "text": [
            "DEBUG flwr 2023-06-10 05:09:47,806 | server.py:232 | fit_round 1 received 3 results and 0 failures\n",
            "DEBUG:flwr:fit_round 1 received 3 results and 0 failures\n"
          ]
        },
        {
          "output_type": "stream",
          "name": "stdout",
          "text": [
            "\u001b[2m\u001b[36m(launch_and_fit pid=27381)\u001b[0m Epoch 1: train loss 0.06355078518390656, accuracy 0.24466666666666667\n"
          ]
        },
        {
          "output_type": "stream",
          "name": "stderr",
          "text": [
            "WARNING flwr 2023-06-10 05:09:50,933 | qfedavg.py:237 | No fit_metrics_aggregation_fn provided\n",
            "WARNING:flwr:No fit_metrics_aggregation_fn provided\n"
          ]
        },
        {
          "output_type": "stream",
          "name": "stdout",
          "text": [
            "Server-side evaluation loss 0.07215865316390992 / accuracy 0.0998\n"
          ]
        },
        {
          "output_type": "stream",
          "name": "stderr",
          "text": [
            "INFO flwr 2023-06-10 05:09:54,044 | server.py:119 | fit progress: (1, 0.07215644445419311, {'accuracy': 0.0998}, 34.34361759300009)\n",
            "INFO:flwr:fit progress: (1, 0.07215644445419311, {'accuracy': 0.0998}, 34.34361759300009)\n",
            "DEBUG flwr 2023-06-10 05:09:54,053 | server.py:168 | evaluate_round 1: strategy sampled 3 clients (out of 10)\n",
            "DEBUG:flwr:evaluate_round 1: strategy sampled 3 clients (out of 10)\n"
          ]
        },
        {
          "output_type": "stream",
          "name": "stdout",
          "text": [
            "Server-side evaluation loss 0.07215644445419311 / accuracy 0.0998\n"
          ]
        },
        {
          "output_type": "stream",
          "name": "stderr",
          "text": [
            "\u001b[2m\u001b[36m(pid=27508)\u001b[0m 2023-06-10 05:10:00.642420: W tensorflow/compiler/tf2tensorrt/utils/py_utils.cc:38] TF-TRT Warning: Could not find TensorRT\n"
          ]
        },
        {
          "output_type": "stream",
          "name": "stdout",
          "text": [
            "\u001b[2m\u001b[36m(launch_and_evaluate pid=27508)\u001b[0m [Client 1] evaluate, config: {}\n"
          ]
        },
        {
          "output_type": "stream",
          "name": "stderr",
          "text": [
            "\u001b[2m\u001b[36m(pid=27578)\u001b[0m 2023-06-10 05:10:07.418538: W tensorflow/compiler/tf2tensorrt/utils/py_utils.cc:38] TF-TRT Warning: Could not find TensorRT\n"
          ]
        },
        {
          "output_type": "stream",
          "name": "stdout",
          "text": [
            "\u001b[2m\u001b[36m(launch_and_evaluate pid=27578)\u001b[0m [Client 3] evaluate, config: {}\n"
          ]
        },
        {
          "output_type": "stream",
          "name": "stderr",
          "text": [
            "\u001b[2m\u001b[36m(pid=27638)\u001b[0m 2023-06-10 05:10:13.175981: W tensorflow/compiler/tf2tensorrt/utils/py_utils.cc:38] TF-TRT Warning: Could not find TensorRT\n"
          ]
        },
        {
          "output_type": "stream",
          "name": "stdout",
          "text": [
            "\u001b[2m\u001b[36m(launch_and_evaluate pid=27638)\u001b[0m [Client 9] evaluate, config: {}\n"
          ]
        },
        {
          "output_type": "stream",
          "name": "stderr",
          "text": [
            "DEBUG flwr 2023-06-10 05:10:19,265 | server.py:182 | evaluate_round 1 received 3 results and 0 failures\n",
            "DEBUG:flwr:evaluate_round 1 received 3 results and 0 failures\n",
            "DEBUG flwr 2023-06-10 05:10:19,272 | server.py:218 | fit_round 2: strategy sampled 3 clients (out of 10)\n",
            "DEBUG:flwr:fit_round 2: strategy sampled 3 clients (out of 10)\n",
            "\u001b[2m\u001b[36m(pid=27727)\u001b[0m 2023-06-10 05:10:24.685267: W tensorflow/compiler/tf2tensorrt/utils/py_utils.cc:38] TF-TRT Warning: Could not find TensorRT\n"
          ]
        },
        {
          "output_type": "stream",
          "name": "stdout",
          "text": [
            "\u001b[2m\u001b[36m(launch_and_fit pid=27727)\u001b[0m [Client 9, round 2] fit, config: {'server_round': 2, 'local_epochs': 2}\n",
            "\u001b[2m\u001b[36m(launch_and_fit pid=27727)\u001b[0m Epoch 1: train loss 0.06380545347929001, accuracy 0.24844444444444444\n",
            "\u001b[2m\u001b[36m(launch_and_fit pid=27727)\u001b[0m Epoch 2: train loss 0.05485955625772476, accuracy 0.35755555555555557\n"
          ]
        },
        {
          "output_type": "stream",
          "name": "stderr",
          "text": [
            "\u001b[2m\u001b[36m(pid=27808)\u001b[0m 2023-06-10 05:10:38.088362: W tensorflow/compiler/tf2tensorrt/utils/py_utils.cc:38] TF-TRT Warning: Could not find TensorRT\n"
          ]
        },
        {
          "output_type": "stream",
          "name": "stdout",
          "text": [
            "\u001b[2m\u001b[36m(launch_and_fit pid=27808)\u001b[0m [Client 4, round 2] fit, config: {'server_round': 2, 'local_epochs': 2}\n",
            "\u001b[2m\u001b[36m(launch_and_fit pid=27808)\u001b[0m Epoch 1: train loss 0.06354459375143051, accuracy 0.24155555555555555\n",
            "\u001b[2m\u001b[36m(launch_and_fit pid=27808)\u001b[0m Epoch 2: train loss 0.05514758825302124, accuracy 0.3486666666666667\n"
          ]
        },
        {
          "output_type": "stream",
          "name": "stderr",
          "text": [
            "\u001b[2m\u001b[36m(pid=27898)\u001b[0m 2023-06-10 05:10:47.023671: W tensorflow/compiler/tf2tensorrt/utils/py_utils.cc:38] TF-TRT Warning: Could not find TensorRT\n"
          ]
        },
        {
          "output_type": "stream",
          "name": "stdout",
          "text": [
            "\u001b[2m\u001b[36m(launch_and_fit pid=27898)\u001b[0m [Client 7, round 2] fit, config: {'server_round': 2, 'local_epochs': 2}\n",
            "\u001b[2m\u001b[36m(launch_and_fit pid=27898)\u001b[0m Epoch 1: train loss 0.06401348859071732, accuracy 0.232\n"
          ]
        },
        {
          "output_type": "stream",
          "name": "stderr",
          "text": [
            "DEBUG flwr 2023-06-10 05:10:55,967 | server.py:232 | fit_round 2 received 3 results and 0 failures\n",
            "DEBUG:flwr:fit_round 2 received 3 results and 0 failures\n"
          ]
        },
        {
          "output_type": "stream",
          "name": "stdout",
          "text": [
            "\u001b[2m\u001b[36m(launch_and_fit pid=27898)\u001b[0m Epoch 2: train loss 0.054953865706920624, accuracy 0.3566666666666667\n",
            "Server-side evaluation loss 0.07215644445419311 / accuracy 0.0998\n"
          ]
        },
        {
          "output_type": "stream",
          "name": "stderr",
          "text": [
            "INFO flwr 2023-06-10 05:11:02,166 | server.py:119 | fit progress: (2, 0.07215513553619385, {'accuracy': 0.0998}, 102.46575485700032)\n",
            "INFO:flwr:fit progress: (2, 0.07215513553619385, {'accuracy': 0.0998}, 102.46575485700032)\n",
            "DEBUG flwr 2023-06-10 05:11:02,169 | server.py:168 | evaluate_round 2: strategy sampled 3 clients (out of 10)\n",
            "DEBUG:flwr:evaluate_round 2: strategy sampled 3 clients (out of 10)\n"
          ]
        },
        {
          "output_type": "stream",
          "name": "stdout",
          "text": [
            "Server-side evaluation loss 0.07215513553619385 / accuracy 0.0998\n"
          ]
        },
        {
          "output_type": "stream",
          "name": "stderr",
          "text": [
            "\u001b[2m\u001b[36m(pid=28043)\u001b[0m 2023-06-10 05:11:09.990841: W tensorflow/compiler/tf2tensorrt/utils/py_utils.cc:38] TF-TRT Warning: Could not find TensorRT\n"
          ]
        },
        {
          "output_type": "stream",
          "name": "stdout",
          "text": [
            "\u001b[2m\u001b[36m(launch_and_evaluate pid=28043)\u001b[0m [Client 6] evaluate, config: {}\n"
          ]
        },
        {
          "output_type": "stream",
          "name": "stderr",
          "text": [
            "\u001b[2m\u001b[36m(pid=28105)\u001b[0m 2023-06-10 05:11:15.795931: W tensorflow/compiler/tf2tensorrt/utils/py_utils.cc:38] TF-TRT Warning: Could not find TensorRT\n"
          ]
        },
        {
          "output_type": "stream",
          "name": "stdout",
          "text": [
            "\u001b[2m\u001b[36m(launch_and_evaluate pid=28105)\u001b[0m [Client 1] evaluate, config: {}\n"
          ]
        },
        {
          "output_type": "stream",
          "name": "stderr",
          "text": [
            "\u001b[2m\u001b[36m(pid=28169)\u001b[0m 2023-06-10 05:11:23.790647: W tensorflow/compiler/tf2tensorrt/utils/py_utils.cc:38] TF-TRT Warning: Could not find TensorRT\n"
          ]
        },
        {
          "output_type": "stream",
          "name": "stdout",
          "text": [
            "\u001b[2m\u001b[36m(launch_and_evaluate pid=28169)\u001b[0m [Client 9] evaluate, config: {}\n"
          ]
        },
        {
          "output_type": "stream",
          "name": "stderr",
          "text": [
            "DEBUG flwr 2023-06-10 05:11:27,686 | server.py:182 | evaluate_round 2 received 3 results and 0 failures\n",
            "DEBUG:flwr:evaluate_round 2 received 3 results and 0 failures\n",
            "DEBUG flwr 2023-06-10 05:11:27,695 | server.py:218 | fit_round 3: strategy sampled 3 clients (out of 10)\n",
            "DEBUG:flwr:fit_round 3: strategy sampled 3 clients (out of 10)\n",
            "\u001b[2m\u001b[36m(pid=28255)\u001b[0m 2023-06-10 05:11:33.161066: W tensorflow/compiler/tf2tensorrt/utils/py_utils.cc:38] TF-TRT Warning: Could not find TensorRT\n"
          ]
        },
        {
          "output_type": "stream",
          "name": "stdout",
          "text": [
            "\u001b[2m\u001b[36m(launch_and_fit pid=28255)\u001b[0m [Client 9, round 3] fit, config: {'server_round': 3, 'local_epochs': 2}\n",
            "\u001b[2m\u001b[36m(launch_and_fit pid=28255)\u001b[0m Epoch 1: train loss 0.06423261761665344, accuracy 0.24\n",
            "\u001b[2m\u001b[36m(launch_and_fit pid=28255)\u001b[0m Epoch 2: train loss 0.055310528725385666, accuracy 0.3473333333333333\n"
          ]
        },
        {
          "output_type": "stream",
          "name": "stderr",
          "text": [
            "\u001b[2m\u001b[36m(pid=28340)\u001b[0m 2023-06-10 05:11:43.819783: W tensorflow/compiler/tf2tensorrt/utils/py_utils.cc:38] TF-TRT Warning: Could not find TensorRT\n"
          ]
        },
        {
          "output_type": "stream",
          "name": "stdout",
          "text": [
            "\u001b[2m\u001b[36m(launch_and_fit pid=28340)\u001b[0m [Client 3, round 3] fit, config: {'server_round': 3, 'local_epochs': 2}\n",
            "\u001b[2m\u001b[36m(launch_and_fit pid=28340)\u001b[0m Epoch 1: train loss 0.06378276646137238, accuracy 0.24022222222222223\n",
            "\u001b[2m\u001b[36m(launch_and_fit pid=28340)\u001b[0m Epoch 2: train loss 0.05494121089577675, accuracy 0.34555555555555556\n"
          ]
        },
        {
          "output_type": "stream",
          "name": "stderr",
          "text": [
            "\u001b[2m\u001b[36m(pid=28420)\u001b[0m 2023-06-10 05:11:55.074754: W tensorflow/compiler/tf2tensorrt/utils/py_utils.cc:38] TF-TRT Warning: Could not find TensorRT\n"
          ]
        },
        {
          "output_type": "stream",
          "name": "stdout",
          "text": [
            "\u001b[2m\u001b[36m(launch_and_fit pid=28420)\u001b[0m [Client 0, round 3] fit, config: {'server_round': 3, 'local_epochs': 2}\n",
            "\u001b[2m\u001b[36m(launch_and_fit pid=28420)\u001b[0m Epoch 1: train loss 0.06335272639989853, accuracy 0.25222222222222224\n"
          ]
        },
        {
          "output_type": "stream",
          "name": "stderr",
          "text": [
            "DEBUG flwr 2023-06-10 05:12:02,012 | server.py:232 | fit_round 3 received 3 results and 0 failures\n",
            "DEBUG:flwr:fit_round 3 received 3 results and 0 failures\n"
          ]
        },
        {
          "output_type": "stream",
          "name": "stdout",
          "text": [
            "\u001b[2m\u001b[36m(launch_and_fit pid=28420)\u001b[0m Epoch 2: train loss 0.054024942219257355, accuracy 0.3622222222222222\n",
            "Server-side evaluation loss 0.07215513553619385 / accuracy 0.0998\n"
          ]
        },
        {
          "output_type": "stream",
          "name": "stderr",
          "text": [
            "INFO flwr 2023-06-10 05:12:09,599 | server.py:119 | fit progress: (3, 0.07215400507450104, {'accuracy': 0.0998}, 169.89858396099999)\n",
            "INFO:flwr:fit progress: (3, 0.07215400507450104, {'accuracy': 0.0998}, 169.89858396099999)\n",
            "DEBUG flwr 2023-06-10 05:12:09,605 | server.py:168 | evaluate_round 3: strategy sampled 3 clients (out of 10)\n",
            "DEBUG:flwr:evaluate_round 3: strategy sampled 3 clients (out of 10)\n"
          ]
        },
        {
          "output_type": "stream",
          "name": "stdout",
          "text": [
            "Server-side evaluation loss 0.07215400507450104 / accuracy 0.0998\n"
          ]
        },
        {
          "output_type": "stream",
          "name": "stderr",
          "text": [
            "\u001b[2m\u001b[36m(pid=28559)\u001b[0m 2023-06-10 05:12:15.462620: W tensorflow/compiler/tf2tensorrt/utils/py_utils.cc:38] TF-TRT Warning: Could not find TensorRT\n"
          ]
        },
        {
          "output_type": "stream",
          "name": "stdout",
          "text": [
            "\u001b[2m\u001b[36m(launch_and_evaluate pid=28559)\u001b[0m [Client 5] evaluate, config: {}\n"
          ]
        },
        {
          "output_type": "stream",
          "name": "stderr",
          "text": [
            "\u001b[2m\u001b[36m(pid=28621)\u001b[0m 2023-06-10 05:12:22.546566: W tensorflow/compiler/tf2tensorrt/utils/py_utils.cc:38] TF-TRT Warning: Could not find TensorRT\n"
          ]
        },
        {
          "output_type": "stream",
          "name": "stdout",
          "text": [
            "\u001b[2m\u001b[36m(launch_and_evaluate pid=28621)\u001b[0m [Client 2] evaluate, config: {}\n"
          ]
        },
        {
          "output_type": "stream",
          "name": "stderr",
          "text": [
            "\u001b[2m\u001b[36m(pid=28692)\u001b[0m 2023-06-10 05:12:29.542974: W tensorflow/compiler/tf2tensorrt/utils/py_utils.cc:38] TF-TRT Warning: Could not find TensorRT\n"
          ]
        },
        {
          "output_type": "stream",
          "name": "stdout",
          "text": [
            "\u001b[2m\u001b[36m(launch_and_evaluate pid=28692)\u001b[0m [Client 8] evaluate, config: {}\n"
          ]
        },
        {
          "output_type": "stream",
          "name": "stderr",
          "text": [
            "DEBUG flwr 2023-06-10 05:12:33,464 | server.py:182 | evaluate_round 3 received 3 results and 0 failures\n",
            "DEBUG:flwr:evaluate_round 3 received 3 results and 0 failures\n",
            "DEBUG flwr 2023-06-10 05:12:33,474 | server.py:218 | fit_round 4: strategy sampled 3 clients (out of 10)\n",
            "DEBUG:flwr:fit_round 4: strategy sampled 3 clients (out of 10)\n",
            "\u001b[2m\u001b[36m(pid=28778)\u001b[0m 2023-06-10 05:12:41.604673: W tensorflow/compiler/tf2tensorrt/utils/py_utils.cc:38] TF-TRT Warning: Could not find TensorRT\n"
          ]
        },
        {
          "output_type": "stream",
          "name": "stdout",
          "text": [
            "\u001b[2m\u001b[36m(launch_and_fit pid=28778)\u001b[0m [Client 2, round 4] fit, config: {'server_round': 4, 'local_epochs': 2}\n",
            "\u001b[2m\u001b[36m(launch_and_fit pid=28778)\u001b[0m Epoch 1: train loss 0.0645947977900505, accuracy 0.23177777777777778\n",
            "\u001b[2m\u001b[36m(launch_and_fit pid=28778)\u001b[0m Epoch 2: train loss 0.05561809241771698, accuracy 0.3448888888888889\n"
          ]
        },
        {
          "output_type": "stream",
          "name": "stderr",
          "text": [
            "\u001b[2m\u001b[36m(pid=28859)\u001b[0m 2023-06-10 05:12:50.260777: W tensorflow/compiler/tf2tensorrt/utils/py_utils.cc:38] TF-TRT Warning: Could not find TensorRT\n"
          ]
        },
        {
          "output_type": "stream",
          "name": "stdout",
          "text": [
            "\u001b[2m\u001b[36m(launch_and_fit pid=28859)\u001b[0m [Client 3, round 4] fit, config: {'server_round': 4, 'local_epochs': 2}\n",
            "\u001b[2m\u001b[36m(launch_and_fit pid=28859)\u001b[0m Epoch 1: train loss 0.06497134268283844, accuracy 0.23177777777777778\n",
            "\u001b[2m\u001b[36m(launch_and_fit pid=28859)\u001b[0m Epoch 2: train loss 0.055473361164331436, accuracy 0.3446666666666667\n"
          ]
        },
        {
          "output_type": "stream",
          "name": "stderr",
          "text": [
            "\u001b[2m\u001b[36m(pid=28947)\u001b[0m 2023-06-10 05:13:01.075548: W tensorflow/compiler/tf2tensorrt/utils/py_utils.cc:38] TF-TRT Warning: Could not find TensorRT\n"
          ]
        },
        {
          "output_type": "stream",
          "name": "stdout",
          "text": [
            "\u001b[2m\u001b[36m(launch_and_fit pid=28947)\u001b[0m [Client 5, round 4] fit, config: {'server_round': 4, 'local_epochs': 2}\n",
            "\u001b[2m\u001b[36m(launch_and_fit pid=28947)\u001b[0m Epoch 1: train loss 0.06424539536237717, accuracy 0.246\n"
          ]
        },
        {
          "output_type": "stream",
          "name": "stderr",
          "text": [
            "DEBUG flwr 2023-06-10 05:13:08,702 | server.py:232 | fit_round 4 received 3 results and 0 failures\n",
            "DEBUG:flwr:fit_round 4 received 3 results and 0 failures\n"
          ]
        },
        {
          "output_type": "stream",
          "name": "stdout",
          "text": [
            "\u001b[2m\u001b[36m(launch_and_fit pid=28947)\u001b[0m Epoch 2: train loss 0.056116003543138504, accuracy 0.33955555555555555\n",
            "Server-side evaluation loss 0.07215400507450104 / accuracy 0.0998\n"
          ]
        },
        {
          "output_type": "stream",
          "name": "stderr",
          "text": [
            "INFO flwr 2023-06-10 05:13:16,169 | server.py:119 | fit progress: (4, 0.07215272889137268, {'accuracy': 0.0998}, 236.46850834199995)\n",
            "INFO:flwr:fit progress: (4, 0.07215272889137268, {'accuracy': 0.0998}, 236.46850834199995)\n",
            "DEBUG flwr 2023-06-10 05:13:16,174 | server.py:168 | evaluate_round 4: strategy sampled 3 clients (out of 10)\n",
            "DEBUG:flwr:evaluate_round 4: strategy sampled 3 clients (out of 10)\n"
          ]
        },
        {
          "output_type": "stream",
          "name": "stdout",
          "text": [
            "Server-side evaluation loss 0.07215272889137268 / accuracy 0.0998\n"
          ]
        },
        {
          "output_type": "stream",
          "name": "stderr",
          "text": [
            "\u001b[2m\u001b[36m(pid=29077)\u001b[0m 2023-06-10 05:13:21.718236: W tensorflow/compiler/tf2tensorrt/utils/py_utils.cc:38] TF-TRT Warning: Could not find TensorRT\n"
          ]
        },
        {
          "output_type": "stream",
          "name": "stdout",
          "text": [
            "\u001b[2m\u001b[36m(launch_and_evaluate pid=29077)\u001b[0m [Client 6] evaluate, config: {}\n"
          ]
        },
        {
          "output_type": "stream",
          "name": "stderr",
          "text": [
            "\u001b[2m\u001b[36m(pid=29154)\u001b[0m 2023-06-10 05:13:32.595160: W tensorflow/compiler/tf2tensorrt/utils/py_utils.cc:38] TF-TRT Warning: Could not find TensorRT\n"
          ]
        },
        {
          "output_type": "stream",
          "name": "stdout",
          "text": [
            "\u001b[2m\u001b[36m(launch_and_evaluate pid=29154)\u001b[0m [Client 9] evaluate, config: {}\n"
          ]
        },
        {
          "output_type": "stream",
          "name": "stderr",
          "text": [
            "\u001b[2m\u001b[36m(pid=29224)\u001b[0m 2023-06-10 05:13:38.288944: W tensorflow/compiler/tf2tensorrt/utils/py_utils.cc:38] TF-TRT Warning: Could not find TensorRT\n"
          ]
        },
        {
          "output_type": "stream",
          "name": "stdout",
          "text": [
            "\u001b[2m\u001b[36m(launch_and_evaluate pid=29224)\u001b[0m [Client 3] evaluate, config: {}\n"
          ]
        },
        {
          "output_type": "stream",
          "name": "stderr",
          "text": [
            "DEBUG flwr 2023-06-10 05:13:43,824 | server.py:182 | evaluate_round 4 received 3 results and 0 failures\n",
            "DEBUG:flwr:evaluate_round 4 received 3 results and 0 failures\n",
            "DEBUG flwr 2023-06-10 05:13:43,831 | server.py:218 | fit_round 5: strategy sampled 3 clients (out of 10)\n",
            "DEBUG:flwr:fit_round 5: strategy sampled 3 clients (out of 10)\n",
            "\u001b[2m\u001b[36m(pid=29311)\u001b[0m 2023-06-10 05:13:49.665991: W tensorflow/compiler/tf2tensorrt/utils/py_utils.cc:38] TF-TRT Warning: Could not find TensorRT\n"
          ]
        },
        {
          "output_type": "stream",
          "name": "stdout",
          "text": [
            "\u001b[2m\u001b[36m(launch_and_fit pid=29311)\u001b[0m [Client 4, round 5] fit, config: {'server_round': 5, 'local_epochs': 2}\n",
            "\u001b[2m\u001b[36m(launch_and_fit pid=29311)\u001b[0m Epoch 1: train loss 0.06369325518608093, accuracy 0.232\n",
            "\u001b[2m\u001b[36m(launch_and_fit pid=29311)\u001b[0m Epoch 2: train loss 0.05464876815676689, accuracy 0.35644444444444445\n"
          ]
        },
        {
          "output_type": "stream",
          "name": "stderr",
          "text": [
            "\u001b[2m\u001b[36m(pid=29394)\u001b[0m 2023-06-10 05:14:00.870238: W tensorflow/compiler/tf2tensorrt/utils/py_utils.cc:38] TF-TRT Warning: Could not find TensorRT\n"
          ]
        },
        {
          "output_type": "stream",
          "name": "stdout",
          "text": [
            "\u001b[2m\u001b[36m(launch_and_fit pid=29394)\u001b[0m [Client 5, round 5] fit, config: {'server_round': 5, 'local_epochs': 2}\n",
            "\u001b[2m\u001b[36m(launch_and_fit pid=29394)\u001b[0m Epoch 1: train loss 0.06393816322088242, accuracy 0.24444444444444444\n",
            "\u001b[2m\u001b[36m(launch_and_fit pid=29394)\u001b[0m Epoch 2: train loss 0.05581036955118179, accuracy 0.3486666666666667\n"
          ]
        },
        {
          "output_type": "stream",
          "name": "stderr",
          "text": [
            "\u001b[2m\u001b[36m(pid=29476)\u001b[0m 2023-06-10 05:14:09.719267: W tensorflow/compiler/tf2tensorrt/utils/py_utils.cc:38] TF-TRT Warning: Could not find TensorRT\n"
          ]
        },
        {
          "output_type": "stream",
          "name": "stdout",
          "text": [
            "\u001b[2m\u001b[36m(launch_and_fit pid=29476)\u001b[0m [Client 0, round 5] fit, config: {'server_round': 5, 'local_epochs': 2}\n",
            "\u001b[2m\u001b[36m(launch_and_fit pid=29476)\u001b[0m Epoch 1: train loss 0.06393127143383026, accuracy 0.242\n"
          ]
        },
        {
          "output_type": "stream",
          "name": "stderr",
          "text": [
            "DEBUG flwr 2023-06-10 05:14:18,828 | server.py:232 | fit_round 5 received 3 results and 0 failures\n",
            "DEBUG:flwr:fit_round 5 received 3 results and 0 failures\n"
          ]
        },
        {
          "output_type": "stream",
          "name": "stdout",
          "text": [
            "\u001b[2m\u001b[36m(launch_and_fit pid=29476)\u001b[0m Epoch 2: train loss 0.05497525632381439, accuracy 0.35533333333333333\n",
            "Server-side evaluation loss 0.07215272889137268 / accuracy 0.0998\n"
          ]
        },
        {
          "output_type": "stream",
          "name": "stderr",
          "text": [
            "INFO flwr 2023-06-10 05:14:25,060 | server.py:119 | fit progress: (5, 0.07215151274204254, {'accuracy': 0.0998}, 305.35959256700016)\n",
            "INFO:flwr:fit progress: (5, 0.07215151274204254, {'accuracy': 0.0998}, 305.35959256700016)\n",
            "DEBUG flwr 2023-06-10 05:14:25,066 | server.py:168 | evaluate_round 5: strategy sampled 3 clients (out of 10)\n",
            "DEBUG:flwr:evaluate_round 5: strategy sampled 3 clients (out of 10)\n"
          ]
        },
        {
          "output_type": "stream",
          "name": "stdout",
          "text": [
            "Server-side evaluation loss 0.07215151274204254 / accuracy 0.0998\n"
          ]
        },
        {
          "output_type": "stream",
          "name": "stderr",
          "text": [
            "\u001b[2m\u001b[36m(pid=29620)\u001b[0m 2023-06-10 05:14:33.086305: W tensorflow/compiler/tf2tensorrt/utils/py_utils.cc:38] TF-TRT Warning: Could not find TensorRT\n"
          ]
        },
        {
          "output_type": "stream",
          "name": "stdout",
          "text": [
            "\u001b[2m\u001b[36m(launch_and_evaluate pid=29620)\u001b[0m [Client 7] evaluate, config: {}\n"
          ]
        },
        {
          "output_type": "stream",
          "name": "stderr",
          "text": [
            "\u001b[2m\u001b[36m(pid=29680)\u001b[0m 2023-06-10 05:14:38.877721: W tensorflow/compiler/tf2tensorrt/utils/py_utils.cc:38] TF-TRT Warning: Could not find TensorRT\n"
          ]
        },
        {
          "output_type": "stream",
          "name": "stdout",
          "text": [
            "\u001b[2m\u001b[36m(launch_and_evaluate pid=29680)\u001b[0m [Client 1] evaluate, config: {}\n"
          ]
        },
        {
          "output_type": "stream",
          "name": "stderr",
          "text": [
            "\u001b[2m\u001b[36m(pid=29748)\u001b[0m 2023-06-10 05:14:46.971245: W tensorflow/compiler/tf2tensorrt/utils/py_utils.cc:38] TF-TRT Warning: Could not find TensorRT\n"
          ]
        },
        {
          "output_type": "stream",
          "name": "stdout",
          "text": [
            "\u001b[2m\u001b[36m(launch_and_evaluate pid=29748)\u001b[0m [Client 0] evaluate, config: {}\n"
          ]
        },
        {
          "output_type": "stream",
          "name": "stderr",
          "text": [
            "DEBUG flwr 2023-06-10 05:14:50,676 | server.py:182 | evaluate_round 5 received 3 results and 0 failures\n",
            "DEBUG:flwr:evaluate_round 5 received 3 results and 0 failures\n",
            "DEBUG flwr 2023-06-10 05:14:50,686 | server.py:218 | fit_round 6: strategy sampled 3 clients (out of 10)\n",
            "DEBUG:flwr:fit_round 6: strategy sampled 3 clients (out of 10)\n",
            "\u001b[2m\u001b[36m(pid=29832)\u001b[0m 2023-06-10 05:14:56.223803: W tensorflow/compiler/tf2tensorrt/utils/py_utils.cc:38] TF-TRT Warning: Could not find TensorRT\n"
          ]
        },
        {
          "output_type": "stream",
          "name": "stdout",
          "text": [
            "\u001b[2m\u001b[36m(launch_and_fit pid=29832)\u001b[0m [Client 3, round 6] fit, config: {'server_round': 6, 'local_epochs': 2}\n",
            "\u001b[2m\u001b[36m(launch_and_fit pid=29832)\u001b[0m Epoch 1: train loss 0.064089834690094, accuracy 0.212\n",
            "\u001b[2m\u001b[36m(launch_and_fit pid=29832)\u001b[0m Epoch 2: train loss 0.05476140230894089, accuracy 0.3411111111111111\n"
          ]
        },
        {
          "output_type": "stream",
          "name": "stderr",
          "text": [
            "\u001b[2m\u001b[36m(pid=29918)\u001b[0m 2023-06-10 05:15:07.336999: W tensorflow/compiler/tf2tensorrt/utils/py_utils.cc:38] TF-TRT Warning: Could not find TensorRT\n"
          ]
        },
        {
          "output_type": "stream",
          "name": "stdout",
          "text": [
            "\u001b[2m\u001b[36m(launch_and_fit pid=29918)\u001b[0m [Client 5, round 6] fit, config: {'server_round': 6, 'local_epochs': 2}\n",
            "\u001b[2m\u001b[36m(launch_and_fit pid=29918)\u001b[0m Epoch 1: train loss 0.06466423720121384, accuracy 0.24866666666666667\n",
            "\u001b[2m\u001b[36m(launch_and_fit pid=29918)\u001b[0m Epoch 2: train loss 0.056678541004657745, accuracy 0.32866666666666666\n"
          ]
        },
        {
          "output_type": "stream",
          "name": "stderr",
          "text": [
            "\u001b[2m\u001b[36m(pid=30001)\u001b[0m 2023-06-10 05:15:18.167513: W tensorflow/compiler/tf2tensorrt/utils/py_utils.cc:38] TF-TRT Warning: Could not find TensorRT\n"
          ]
        },
        {
          "output_type": "stream",
          "name": "stdout",
          "text": [
            "\u001b[2m\u001b[36m(launch_and_fit pid=30001)\u001b[0m [Client 6, round 6] fit, config: {'server_round': 6, 'local_epochs': 2}\n",
            "\u001b[2m\u001b[36m(launch_and_fit pid=30001)\u001b[0m Epoch 1: train loss 0.06403741240501404, accuracy 0.2411111111111111\n"
          ]
        },
        {
          "output_type": "stream",
          "name": "stderr",
          "text": [
            "DEBUG flwr 2023-06-10 05:15:25,113 | server.py:232 | fit_round 6 received 3 results and 0 failures\n",
            "DEBUG:flwr:fit_round 6 received 3 results and 0 failures\n"
          ]
        },
        {
          "output_type": "stream",
          "name": "stdout",
          "text": [
            "\u001b[2m\u001b[36m(launch_and_fit pid=30001)\u001b[0m Epoch 2: train loss 0.056036002933979034, accuracy 0.33244444444444443\n",
            "Server-side evaluation loss 0.07215151274204254 / accuracy 0.0998\n"
          ]
        },
        {
          "output_type": "stream",
          "name": "stderr",
          "text": [
            "INFO flwr 2023-06-10 05:15:33,345 | server.py:119 | fit progress: (6, 0.07215018112659455, {'accuracy': 0.0998}, 373.64500512500035)\n",
            "INFO:flwr:fit progress: (6, 0.07215018112659455, {'accuracy': 0.0998}, 373.64500512500035)\n",
            "DEBUG flwr 2023-06-10 05:15:33,350 | server.py:168 | evaluate_round 6: strategy sampled 3 clients (out of 10)\n",
            "DEBUG:flwr:evaluate_round 6: strategy sampled 3 clients (out of 10)\n"
          ]
        },
        {
          "output_type": "stream",
          "name": "stdout",
          "text": [
            "Server-side evaluation loss 0.07215018112659455 / accuracy 0.0998\n"
          ]
        },
        {
          "output_type": "stream",
          "name": "stderr",
          "text": [
            "\u001b[2m\u001b[36m(pid=30140)\u001b[0m 2023-06-10 05:15:38.727428: W tensorflow/compiler/tf2tensorrt/utils/py_utils.cc:38] TF-TRT Warning: Could not find TensorRT\n"
          ]
        },
        {
          "output_type": "stream",
          "name": "stdout",
          "text": [
            "\u001b[2m\u001b[36m(launch_and_evaluate pid=30140)\u001b[0m [Client 0] evaluate, config: {}\n"
          ]
        },
        {
          "output_type": "stream",
          "name": "stderr",
          "text": [
            "\u001b[2m\u001b[36m(pid=30199)\u001b[0m 2023-06-10 05:15:46.438178: W tensorflow/compiler/tf2tensorrt/utils/py_utils.cc:38] TF-TRT Warning: Could not find TensorRT\n"
          ]
        },
        {
          "output_type": "stream",
          "name": "stdout",
          "text": [
            "\u001b[2m\u001b[36m(launch_and_evaluate pid=30199)\u001b[0m [Client 9] evaluate, config: {}\n"
          ]
        },
        {
          "output_type": "stream",
          "name": "stderr",
          "text": [
            "\u001b[2m\u001b[36m(pid=30267)\u001b[0m 2023-06-10 05:15:52.914818: W tensorflow/compiler/tf2tensorrt/utils/py_utils.cc:38] TF-TRT Warning: Could not find TensorRT\n"
          ]
        },
        {
          "output_type": "stream",
          "name": "stdout",
          "text": [
            "\u001b[2m\u001b[36m(launch_and_evaluate pid=30267)\u001b[0m [Client 2] evaluate, config: {}\n"
          ]
        },
        {
          "output_type": "stream",
          "name": "stderr",
          "text": [
            "DEBUG flwr 2023-06-10 05:15:56,799 | server.py:182 | evaluate_round 6 received 3 results and 0 failures\n",
            "DEBUG:flwr:evaluate_round 6 received 3 results and 0 failures\n",
            "DEBUG flwr 2023-06-10 05:15:56,806 | server.py:218 | fit_round 7: strategy sampled 3 clients (out of 10)\n",
            "DEBUG:flwr:fit_round 7: strategy sampled 3 clients (out of 10)\n",
            "\u001b[2m\u001b[36m(pid=30359)\u001b[0m 2023-06-10 05:16:04.840914: W tensorflow/compiler/tf2tensorrt/utils/py_utils.cc:38] TF-TRT Warning: Could not find TensorRT\n"
          ]
        },
        {
          "output_type": "stream",
          "name": "stdout",
          "text": [
            "\u001b[2m\u001b[36m(launch_and_fit pid=30359)\u001b[0m [Client 7, round 7] fit, config: {'server_round': 7, 'local_epochs': 2}\n",
            "\u001b[2m\u001b[36m(launch_and_fit pid=30359)\u001b[0m Epoch 1: train loss 0.06353896856307983, accuracy 0.2451111111111111\n",
            "\u001b[2m\u001b[36m(launch_and_fit pid=30359)\u001b[0m Epoch 2: train loss 0.05467832460999489, accuracy 0.3471111111111111\n"
          ]
        },
        {
          "output_type": "stream",
          "name": "stderr",
          "text": [
            "\u001b[2m\u001b[36m(pid=30436)\u001b[0m 2023-06-10 05:16:13.604769: W tensorflow/compiler/tf2tensorrt/utils/py_utils.cc:38] TF-TRT Warning: Could not find TensorRT\n"
          ]
        },
        {
          "output_type": "stream",
          "name": "stdout",
          "text": [
            "\u001b[2m\u001b[36m(launch_and_fit pid=30436)\u001b[0m [Client 8, round 7] fit, config: {'server_round': 7, 'local_epochs': 2}\n",
            "\u001b[2m\u001b[36m(launch_and_fit pid=30436)\u001b[0m Epoch 1: train loss 0.06366313993930817, accuracy 0.258\n",
            "\u001b[2m\u001b[36m(launch_and_fit pid=30436)\u001b[0m Epoch 2: train loss 0.05527660995721817, accuracy 0.3497777777777778\n"
          ]
        },
        {
          "output_type": "stream",
          "name": "stderr",
          "text": [
            "\u001b[2m\u001b[36m(pid=30539)\u001b[0m 2023-06-10 05:16:27.472535: W tensorflow/compiler/tf2tensorrt/utils/py_utils.cc:38] TF-TRT Warning: Could not find TensorRT\n"
          ]
        },
        {
          "output_type": "stream",
          "name": "stdout",
          "text": [
            "\u001b[2m\u001b[36m(launch_and_fit pid=30539)\u001b[0m [Client 4, round 7] fit, config: {'server_round': 7, 'local_epochs': 2}\n",
            "\u001b[2m\u001b[36m(launch_and_fit pid=30539)\u001b[0m Epoch 1: train loss 0.06390251964330673, accuracy 0.23355555555555554\n"
          ]
        },
        {
          "output_type": "stream",
          "name": "stderr",
          "text": [
            "DEBUG flwr 2023-06-10 05:16:36,314 | server.py:232 | fit_round 7 received 3 results and 0 failures\n",
            "DEBUG:flwr:fit_round 7 received 3 results and 0 failures\n"
          ]
        },
        {
          "output_type": "stream",
          "name": "stdout",
          "text": [
            "\u001b[2m\u001b[36m(launch_and_fit pid=30539)\u001b[0m Epoch 2: train loss 0.05589677020907402, accuracy 0.33755555555555555\n",
            "Server-side evaluation loss 0.07215018112659455 / accuracy 0.0998\n"
          ]
        },
        {
          "output_type": "stream",
          "name": "stderr",
          "text": [
            "INFO flwr 2023-06-10 05:16:42,765 | server.py:119 | fit progress: (7, 0.07214881908893585, {'accuracy': 0.0998}, 443.0644121940004)\n",
            "INFO:flwr:fit progress: (7, 0.07214881908893585, {'accuracy': 0.0998}, 443.0644121940004)\n",
            "DEBUG flwr 2023-06-10 05:16:42,770 | server.py:168 | evaluate_round 7: strategy sampled 3 clients (out of 10)\n",
            "DEBUG:flwr:evaluate_round 7: strategy sampled 3 clients (out of 10)\n"
          ]
        },
        {
          "output_type": "stream",
          "name": "stdout",
          "text": [
            "Server-side evaluation loss 0.07214881908893585 / accuracy 0.0998\n"
          ]
        },
        {
          "output_type": "stream",
          "name": "stderr",
          "text": [
            "\u001b[2m\u001b[36m(pid=30673)\u001b[0m 2023-06-10 05:16:49.973248: W tensorflow/compiler/tf2tensorrt/utils/py_utils.cc:38] TF-TRT Warning: Could not find TensorRT\n"
          ]
        },
        {
          "output_type": "stream",
          "name": "stdout",
          "text": [
            "\u001b[2m\u001b[36m(launch_and_evaluate pid=30673)\u001b[0m [Client 7] evaluate, config: {}\n"
          ]
        },
        {
          "output_type": "stream",
          "name": "stderr",
          "text": [
            "\u001b[2m\u001b[36m(pid=30744)\u001b[0m 2023-06-10 05:16:56.773190: W tensorflow/compiler/tf2tensorrt/utils/py_utils.cc:38] TF-TRT Warning: Could not find TensorRT\n"
          ]
        },
        {
          "output_type": "stream",
          "name": "stdout",
          "text": [
            "\u001b[2m\u001b[36m(launch_and_evaluate pid=30744)\u001b[0m [Client 2] evaluate, config: {}\n"
          ]
        },
        {
          "output_type": "stream",
          "name": "stderr",
          "text": [
            "\u001b[2m\u001b[36m(pid=30806)\u001b[0m 2023-06-10 05:17:02.694190: W tensorflow/compiler/tf2tensorrt/utils/py_utils.cc:38] TF-TRT Warning: Could not find TensorRT\n"
          ]
        },
        {
          "output_type": "stream",
          "name": "stdout",
          "text": [
            "\u001b[2m\u001b[36m(launch_and_evaluate pid=30806)\u001b[0m [Client 3] evaluate, config: {}\n"
          ]
        },
        {
          "output_type": "stream",
          "name": "stderr",
          "text": [
            "DEBUG flwr 2023-06-10 05:17:08,868 | server.py:182 | evaluate_round 7 received 3 results and 0 failures\n",
            "DEBUG:flwr:evaluate_round 7 received 3 results and 0 failures\n",
            "DEBUG flwr 2023-06-10 05:17:08,880 | server.py:218 | fit_round 8: strategy sampled 3 clients (out of 10)\n",
            "DEBUG:flwr:fit_round 8: strategy sampled 3 clients (out of 10)\n",
            "\u001b[2m\u001b[36m(pid=30896)\u001b[0m 2023-06-10 05:17:14.364128: W tensorflow/compiler/tf2tensorrt/utils/py_utils.cc:38] TF-TRT Warning: Could not find TensorRT\n"
          ]
        },
        {
          "output_type": "stream",
          "name": "stdout",
          "text": [
            "\u001b[2m\u001b[36m(launch_and_fit pid=30896)\u001b[0m [Client 5, round 8] fit, config: {'server_round': 8, 'local_epochs': 2}\n",
            "\u001b[2m\u001b[36m(launch_and_fit pid=30896)\u001b[0m Epoch 1: train loss 0.06370796263217926, accuracy 0.2431111111111111\n",
            "\u001b[2m\u001b[36m(launch_and_fit pid=30896)\u001b[0m Epoch 2: train loss 0.05525561794638634, accuracy 0.3466666666666667\n"
          ]
        },
        {
          "output_type": "stream",
          "name": "stderr",
          "text": [
            "\u001b[2m\u001b[36m(pid=30984)\u001b[0m 2023-06-10 05:17:25.527436: W tensorflow/compiler/tf2tensorrt/utils/py_utils.cc:38] TF-TRT Warning: Could not find TensorRT\n"
          ]
        },
        {
          "output_type": "stream",
          "name": "stdout",
          "text": [
            "\u001b[2m\u001b[36m(launch_and_fit pid=30984)\u001b[0m [Client 6, round 8] fit, config: {'server_round': 8, 'local_epochs': 2}\n",
            "\u001b[2m\u001b[36m(launch_and_fit pid=30984)\u001b[0m Epoch 1: train loss 0.06349911540746689, accuracy 0.23533333333333334\n",
            "\u001b[2m\u001b[36m(launch_and_fit pid=30984)\u001b[0m Epoch 2: train loss 0.05588090419769287, accuracy 0.3426666666666667\n"
          ]
        },
        {
          "output_type": "stream",
          "name": "stderr",
          "text": [
            "\u001b[2m\u001b[36m(pid=31062)\u001b[0m 2023-06-10 05:17:35.733194: W tensorflow/compiler/tf2tensorrt/utils/py_utils.cc:38] TF-TRT Warning: Could not find TensorRT\n"
          ]
        },
        {
          "output_type": "stream",
          "name": "stdout",
          "text": [
            "\u001b[2m\u001b[36m(launch_and_fit pid=31062)\u001b[0m [Client 0, round 8] fit, config: {'server_round': 8, 'local_epochs': 2}\n",
            "\u001b[2m\u001b[36m(launch_and_fit pid=31062)\u001b[0m Epoch 1: train loss 0.06377238035202026, accuracy 0.23977777777777778\n"
          ]
        },
        {
          "output_type": "stream",
          "name": "stderr",
          "text": [
            "DEBUG flwr 2023-06-10 05:17:43,934 | server.py:232 | fit_round 8 received 3 results and 0 failures\n",
            "DEBUG:flwr:fit_round 8 received 3 results and 0 failures\n"
          ]
        },
        {
          "output_type": "stream",
          "name": "stdout",
          "text": [
            "\u001b[2m\u001b[36m(launch_and_fit pid=31062)\u001b[0m Epoch 2: train loss 0.05507168918848038, accuracy 0.3551111111111111\n",
            "Server-side evaluation loss 0.07214881908893585 / accuracy 0.0998\n"
          ]
        },
        {
          "output_type": "stream",
          "name": "stderr",
          "text": [
            "INFO flwr 2023-06-10 05:17:50,807 | server.py:119 | fit progress: (8, 0.07214742405414581, {'accuracy': 0.0998}, 511.10657509199973)\n",
            "INFO:flwr:fit progress: (8, 0.07214742405414581, {'accuracy': 0.0998}, 511.10657509199973)\n",
            "DEBUG flwr 2023-06-10 05:17:50,814 | server.py:168 | evaluate_round 8: strategy sampled 3 clients (out of 10)\n",
            "DEBUG:flwr:evaluate_round 8: strategy sampled 3 clients (out of 10)\n"
          ]
        },
        {
          "output_type": "stream",
          "name": "stdout",
          "text": [
            "Server-side evaluation loss 0.07214742405414581 / accuracy 0.0998\n"
          ]
        },
        {
          "output_type": "stream",
          "name": "stderr",
          "text": [
            "\u001b[2m\u001b[36m(pid=31206)\u001b[0m 2023-06-10 05:17:57.911913: W tensorflow/compiler/tf2tensorrt/utils/py_utils.cc:38] TF-TRT Warning: Could not find TensorRT\n"
          ]
        },
        {
          "output_type": "stream",
          "name": "stdout",
          "text": [
            "\u001b[2m\u001b[36m(launch_and_evaluate pid=31206)\u001b[0m [Client 0] evaluate, config: {}\n"
          ]
        },
        {
          "output_type": "stream",
          "name": "stderr",
          "text": [
            "\u001b[2m\u001b[36m(pid=31268)\u001b[0m 2023-06-10 05:18:03.790434: W tensorflow/compiler/tf2tensorrt/utils/py_utils.cc:38] TF-TRT Warning: Could not find TensorRT\n"
          ]
        },
        {
          "output_type": "stream",
          "name": "stdout",
          "text": [
            "\u001b[2m\u001b[36m(launch_and_evaluate pid=31268)\u001b[0m [Client 5] evaluate, config: {}\n"
          ]
        },
        {
          "output_type": "stream",
          "name": "stderr",
          "text": [
            "\u001b[2m\u001b[36m(pid=31339)\u001b[0m 2023-06-10 05:18:11.771154: W tensorflow/compiler/tf2tensorrt/utils/py_utils.cc:38] TF-TRT Warning: Could not find TensorRT\n"
          ]
        },
        {
          "output_type": "stream",
          "name": "stdout",
          "text": [
            "\u001b[2m\u001b[36m(launch_and_evaluate pid=31339)\u001b[0m [Client 9] evaluate, config: {}\n"
          ]
        },
        {
          "output_type": "stream",
          "name": "stderr",
          "text": [
            "DEBUG flwr 2023-06-10 05:18:15,685 | server.py:182 | evaluate_round 8 received 3 results and 0 failures\n",
            "DEBUG:flwr:evaluate_round 8 received 3 results and 0 failures\n",
            "DEBUG flwr 2023-06-10 05:18:15,694 | server.py:218 | fit_round 9: strategy sampled 3 clients (out of 10)\n",
            "DEBUG:flwr:fit_round 9: strategy sampled 3 clients (out of 10)\n",
            "\u001b[2m\u001b[36m(pid=31415)\u001b[0m 2023-06-10 05:18:22.844342: W tensorflow/compiler/tf2tensorrt/utils/py_utils.cc:38] TF-TRT Warning: Could not find TensorRT\n"
          ]
        },
        {
          "output_type": "stream",
          "name": "stdout",
          "text": [
            "\u001b[2m\u001b[36m(launch_and_fit pid=31415)\u001b[0m [Client 7, round 9] fit, config: {'server_round': 9, 'local_epochs': 2}\n",
            "\u001b[2m\u001b[36m(launch_and_fit pid=31415)\u001b[0m Epoch 1: train loss 0.06436508148908615, accuracy 0.2291111111111111\n",
            "\u001b[2m\u001b[36m(launch_and_fit pid=31415)\u001b[0m Epoch 2: train loss 0.0553501695394516, accuracy 0.3368888888888889\n"
          ]
        },
        {
          "output_type": "stream",
          "name": "stderr",
          "text": [
            "\u001b[2m\u001b[36m(pid=31507)\u001b[0m 2023-06-10 05:18:32.601069: W tensorflow/compiler/tf2tensorrt/utils/py_utils.cc:38] TF-TRT Warning: Could not find TensorRT\n"
          ]
        },
        {
          "output_type": "stream",
          "name": "stdout",
          "text": [
            "\u001b[2m\u001b[36m(launch_and_fit pid=31507)\u001b[0m [Client 0, round 9] fit, config: {'server_round': 9, 'local_epochs': 2}\n",
            "\u001b[2m\u001b[36m(launch_and_fit pid=31507)\u001b[0m Epoch 1: train loss 0.0641508474946022, accuracy 0.2437777777777778\n",
            "\u001b[2m\u001b[36m(launch_and_fit pid=31507)\u001b[0m Epoch 2: train loss 0.05520724877715111, accuracy 0.3491111111111111\n"
          ]
        },
        {
          "output_type": "stream",
          "name": "stderr",
          "text": [
            "\u001b[2m\u001b[36m(pid=31591)\u001b[0m 2023-06-10 05:18:43.633913: W tensorflow/compiler/tf2tensorrt/utils/py_utils.cc:38] TF-TRT Warning: Could not find TensorRT\n"
          ]
        },
        {
          "output_type": "stream",
          "name": "stdout",
          "text": [
            "\u001b[2m\u001b[36m(launch_and_fit pid=31591)\u001b[0m [Client 9, round 9] fit, config: {'server_round': 9, 'local_epochs': 2}\n",
            "\u001b[2m\u001b[36m(launch_and_fit pid=31591)\u001b[0m Epoch 1: train loss 0.0638502985239029, accuracy 0.25177777777777777\n"
          ]
        },
        {
          "output_type": "stream",
          "name": "stderr",
          "text": [
            "DEBUG flwr 2023-06-10 05:18:50,892 | server.py:232 | fit_round 9 received 3 results and 0 failures\n",
            "DEBUG:flwr:fit_round 9 received 3 results and 0 failures\n"
          ]
        },
        {
          "output_type": "stream",
          "name": "stdout",
          "text": [
            "\u001b[2m\u001b[36m(launch_and_fit pid=31591)\u001b[0m Epoch 2: train loss 0.05578615516424179, accuracy 0.3388888888888889\n",
            "Server-side evaluation loss 0.07214742405414581 / accuracy 0.0998\n"
          ]
        },
        {
          "output_type": "stream",
          "name": "stderr",
          "text": [
            "INFO flwr 2023-06-10 05:18:59,099 | server.py:119 | fit progress: (9, 0.07214608335494996, {'accuracy': 0.0998}, 579.3984858129998)\n",
            "INFO:flwr:fit progress: (9, 0.07214608335494996, {'accuracy': 0.0998}, 579.3984858129998)\n",
            "DEBUG flwr 2023-06-10 05:18:59,110 | server.py:168 | evaluate_round 9: strategy sampled 3 clients (out of 10)\n",
            "DEBUG:flwr:evaluate_round 9: strategy sampled 3 clients (out of 10)\n"
          ]
        },
        {
          "output_type": "stream",
          "name": "stdout",
          "text": [
            "Server-side evaluation loss 0.07214608335494996 / accuracy 0.0998\n"
          ]
        },
        {
          "output_type": "stream",
          "name": "stderr",
          "text": [
            "\u001b[2m\u001b[36m(pid=31725)\u001b[0m 2023-06-10 05:19:04.674425: W tensorflow/compiler/tf2tensorrt/utils/py_utils.cc:38] TF-TRT Warning: Could not find TensorRT\n"
          ]
        },
        {
          "output_type": "stream",
          "name": "stdout",
          "text": [
            "\u001b[2m\u001b[36m(launch_and_evaluate pid=31725)\u001b[0m [Client 3] evaluate, config: {}\n"
          ]
        },
        {
          "output_type": "stream",
          "name": "stderr",
          "text": [
            "\u001b[2m\u001b[36m(pid=31798)\u001b[0m 2023-06-10 05:19:15.728630: W tensorflow/compiler/tf2tensorrt/utils/py_utils.cc:38] TF-TRT Warning: Could not find TensorRT\n"
          ]
        },
        {
          "output_type": "stream",
          "name": "stdout",
          "text": [
            "\u001b[2m\u001b[36m(launch_and_evaluate pid=31798)\u001b[0m [Client 7] evaluate, config: {}\n"
          ]
        },
        {
          "output_type": "stream",
          "name": "stderr",
          "text": [
            "\u001b[2m\u001b[36m(pid=31873)\u001b[0m 2023-06-10 05:19:21.423585: W tensorflow/compiler/tf2tensorrt/utils/py_utils.cc:38] TF-TRT Warning: Could not find TensorRT\n"
          ]
        },
        {
          "output_type": "stream",
          "name": "stdout",
          "text": [
            "\u001b[2m\u001b[36m(launch_and_evaluate pid=31873)\u001b[0m [Client 2] evaluate, config: {}\n"
          ]
        },
        {
          "output_type": "stream",
          "name": "stderr",
          "text": [
            "DEBUG flwr 2023-06-10 05:19:26,317 | server.py:182 | evaluate_round 9 received 3 results and 0 failures\n",
            "DEBUG:flwr:evaluate_round 9 received 3 results and 0 failures\n",
            "DEBUG flwr 2023-06-10 05:19:26,328 | server.py:218 | fit_round 10: strategy sampled 3 clients (out of 10)\n",
            "DEBUG:flwr:fit_round 10: strategy sampled 3 clients (out of 10)\n",
            "\u001b[2m\u001b[36m(pid=31961)\u001b[0m 2023-06-10 05:19:32.936691: W tensorflow/compiler/tf2tensorrt/utils/py_utils.cc:38] TF-TRT Warning: Could not find TensorRT\n"
          ]
        },
        {
          "output_type": "stream",
          "name": "stdout",
          "text": [
            "\u001b[2m\u001b[36m(launch_and_fit pid=31961)\u001b[0m [Client 6, round 10] fit, config: {'server_round': 10, 'local_epochs': 2}\n",
            "\u001b[2m\u001b[36m(launch_and_fit pid=31961)\u001b[0m Epoch 1: train loss 0.06405174732208252, accuracy 0.23533333333333334\n",
            "\u001b[2m\u001b[36m(launch_and_fit pid=31961)\u001b[0m Epoch 2: train loss 0.055086687207221985, accuracy 0.3433333333333333\n"
          ]
        },
        {
          "output_type": "stream",
          "name": "stderr",
          "text": [
            "\u001b[2m\u001b[36m(pid=32042)\u001b[0m 2023-06-10 05:19:44.111494: W tensorflow/compiler/tf2tensorrt/utils/py_utils.cc:38] TF-TRT Warning: Could not find TensorRT\n"
          ]
        },
        {
          "output_type": "stream",
          "name": "stdout",
          "text": [
            "\u001b[2m\u001b[36m(launch_and_fit pid=32042)\u001b[0m [Client 1, round 10] fit, config: {'server_round': 10, 'local_epochs': 2}\n",
            "\u001b[2m\u001b[36m(launch_and_fit pid=32042)\u001b[0m Epoch 1: train loss 0.06401585042476654, accuracy 0.24333333333333335\n",
            "\u001b[2m\u001b[36m(launch_and_fit pid=32042)\u001b[0m Epoch 2: train loss 0.055288560688495636, accuracy 0.35977777777777775\n"
          ]
        },
        {
          "output_type": "stream",
          "name": "stderr",
          "text": [
            "\u001b[2m\u001b[36m(pid=32128)\u001b[0m 2023-06-10 05:19:53.130840: W tensorflow/compiler/tf2tensorrt/utils/py_utils.cc:38] TF-TRT Warning: Could not find TensorRT\n"
          ]
        },
        {
          "output_type": "stream",
          "name": "stdout",
          "text": [
            "\u001b[2m\u001b[36m(launch_and_fit pid=32128)\u001b[0m [Client 0, round 10] fit, config: {'server_round': 10, 'local_epochs': 2}\n",
            "\u001b[2m\u001b[36m(launch_and_fit pid=32128)\u001b[0m Epoch 1: train loss 0.06346315890550613, accuracy 0.24533333333333332\n"
          ]
        },
        {
          "output_type": "stream",
          "name": "stderr",
          "text": [
            "DEBUG flwr 2023-06-10 05:20:02,425 | server.py:232 | fit_round 10 received 3 results and 0 failures\n",
            "DEBUG:flwr:fit_round 10 received 3 results and 0 failures\n"
          ]
        },
        {
          "output_type": "stream",
          "name": "stdout",
          "text": [
            "\u001b[2m\u001b[36m(launch_and_fit pid=32128)\u001b[0m Epoch 2: train loss 0.054902754724025726, accuracy 0.3622222222222222\n",
            "Server-side evaluation loss 0.07214608335494996 / accuracy 0.0998\n"
          ]
        },
        {
          "output_type": "stream",
          "name": "stderr",
          "text": [
            "INFO flwr 2023-06-10 05:20:08,722 | server.py:119 | fit progress: (10, 0.07214475588798523, {'accuracy': 0.0998}, 649.0222980480003)\n",
            "INFO:flwr:fit progress: (10, 0.07214475588798523, {'accuracy': 0.0998}, 649.0222980480003)\n",
            "DEBUG flwr 2023-06-10 05:20:08,728 | server.py:168 | evaluate_round 10: strategy sampled 3 clients (out of 10)\n",
            "DEBUG:flwr:evaluate_round 10: strategy sampled 3 clients (out of 10)\n"
          ]
        },
        {
          "output_type": "stream",
          "name": "stdout",
          "text": [
            "Server-side evaluation loss 0.07214475588798523 / accuracy 0.0998\n"
          ]
        },
        {
          "output_type": "stream",
          "name": "stderr",
          "text": [
            "\u001b[2m\u001b[36m(pid=32269)\u001b[0m 2023-06-10 05:20:16.739605: W tensorflow/compiler/tf2tensorrt/utils/py_utils.cc:38] TF-TRT Warning: Could not find TensorRT\n"
          ]
        },
        {
          "output_type": "stream",
          "name": "stdout",
          "text": [
            "\u001b[2m\u001b[36m(launch_and_evaluate pid=32269)\u001b[0m [Client 9] evaluate, config: {}\n"
          ]
        },
        {
          "output_type": "stream",
          "name": "stderr",
          "text": [
            "\u001b[2m\u001b[36m(pid=32335)\u001b[0m 2023-06-10 05:20:22.592647: W tensorflow/compiler/tf2tensorrt/utils/py_utils.cc:38] TF-TRT Warning: Could not find TensorRT\n"
          ]
        },
        {
          "output_type": "stream",
          "name": "stdout",
          "text": [
            "\u001b[2m\u001b[36m(launch_and_evaluate pid=32335)\u001b[0m [Client 1] evaluate, config: {}\n"
          ]
        },
        {
          "output_type": "stream",
          "name": "stderr",
          "text": [
            "\u001b[2m\u001b[36m(pid=32399)\u001b[0m 2023-06-10 05:20:30.991730: W tensorflow/compiler/tf2tensorrt/utils/py_utils.cc:38] TF-TRT Warning: Could not find TensorRT\n"
          ]
        },
        {
          "output_type": "stream",
          "name": "stdout",
          "text": [
            "\u001b[2m\u001b[36m(launch_and_evaluate pid=32399)\u001b[0m [Client 7] evaluate, config: {}\n"
          ]
        },
        {
          "output_type": "stream",
          "name": "stderr",
          "text": [
            "DEBUG flwr 2023-06-10 05:20:34,886 | server.py:182 | evaluate_round 10 received 3 results and 0 failures\n",
            "DEBUG:flwr:evaluate_round 10 received 3 results and 0 failures\n",
            "INFO flwr 2023-06-10 05:20:34,891 | server.py:147 | FL finished in 675.190916773\n",
            "INFO:flwr:FL finished in 675.190916773\n",
            "INFO flwr 2023-06-10 05:20:34,897 | app.py:218 | app_fit: losses_distributed [(1, 0.07375088644027711), (2, 0.07375187953313193), (3, 0.07376949659983317), (4, 0.07387237819035848), (5, 0.07364813089370727), (6, 0.0736991367340088), (7, 0.07381131283442179), (8, 0.07367741918563843), (9, 0.0738088657061259), (10, 0.07370338344573975)]\n",
            "INFO:flwr:app_fit: losses_distributed [(1, 0.07375088644027711), (2, 0.07375187953313193), (3, 0.07376949659983317), (4, 0.07387237819035848), (5, 0.07364813089370727), (6, 0.0736991367340088), (7, 0.07381131283442179), (8, 0.07367741918563843), (9, 0.0738088657061259), (10, 0.07370338344573975)]\n",
            "INFO flwr 2023-06-10 05:20:34,904 | app.py:219 | app_fit: metrics_distributed_fit {}\n",
            "INFO:flwr:app_fit: metrics_distributed_fit {}\n",
            "INFO flwr 2023-06-10 05:20:34,908 | app.py:220 | app_fit: metrics_distributed {'accuracy': [(1, 0.09799999999999999), (2, 0.104), (3, 0.09466666666666668), (4, 0.09599999999999999), (5, 0.09666666666666666), (6, 0.09933333333333333), (7, 0.08600000000000001), (8, 0.09933333333333333), (9, 0.08600000000000001), (10, 0.09666666666666666)]}\n",
            "INFO:flwr:app_fit: metrics_distributed {'accuracy': [(1, 0.09799999999999999), (2, 0.104), (3, 0.09466666666666668), (4, 0.09599999999999999), (5, 0.09666666666666666), (6, 0.09933333333333333), (7, 0.08600000000000001), (8, 0.09933333333333333), (9, 0.08600000000000001), (10, 0.09666666666666666)]}\n",
            "INFO flwr 2023-06-10 05:20:34,913 | app.py:221 | app_fit: losses_centralized [(0, 0.07215865316390992), (1, 0.07215644445419311), (2, 0.07215513553619385), (3, 0.07215400507450104), (4, 0.07215272889137268), (5, 0.07215151274204254), (6, 0.07215018112659455), (7, 0.07214881908893585), (8, 0.07214742405414581), (9, 0.07214608335494996), (10, 0.07214475588798523)]\n",
            "INFO:flwr:app_fit: losses_centralized [(0, 0.07215865316390992), (1, 0.07215644445419311), (2, 0.07215513553619385), (3, 0.07215400507450104), (4, 0.07215272889137268), (5, 0.07215151274204254), (6, 0.07215018112659455), (7, 0.07214881908893585), (8, 0.07214742405414581), (9, 0.07214608335494996), (10, 0.07214475588798523)]\n",
            "INFO flwr 2023-06-10 05:20:34,916 | app.py:222 | app_fit: metrics_centralized {'accuracy': [(0, 0.0998), (1, 0.0998), (2, 0.0998), (3, 0.0998), (4, 0.0998), (5, 0.0998), (6, 0.0998), (7, 0.0998), (8, 0.0998), (9, 0.0998), (10, 0.0998)]}\n",
            "INFO:flwr:app_fit: metrics_centralized {'accuracy': [(0, 0.0998), (1, 0.0998), (2, 0.0998), (3, 0.0998), (4, 0.0998), (5, 0.0998), (6, 0.0998), (7, 0.0998), (8, 0.0998), (9, 0.0998), (10, 0.0998)]}\n"
          ]
        }
      ]
    },
    {
      "cell_type": "code",
      "source": [
        "net = VGG16().to(DEVICE)\n",
        "simulate_cifar(StrategyCls=fl.server.strategy.QFedAvg, strategyArgs=strategyConfig, net=net, num_rounds=10)"
      ],
      "metadata": {
        "colab": {
          "base_uri": "https://localhost:8080/"
        },
        "id": "0EpqtsJ0jXft",
        "outputId": "1dae8e41-0850-4779-8f08-0222c7ae249a"
      },
      "execution_count": 10,
      "outputs": [
        {
          "output_type": "stream",
          "name": "stdout",
          "text": [
            "Files already downloaded and verified\n",
            "Files already downloaded and verified\n"
          ]
        },
        {
          "output_type": "stream",
          "name": "stderr",
          "text": [
            "INFO flwr 2023-06-10 05:20:36,652 | app.py:146 | Starting Flower simulation, config: ServerConfig(num_rounds=10, round_timeout=None)\n",
            "INFO:flwr:Starting Flower simulation, config: ServerConfig(num_rounds=10, round_timeout=None)\n",
            "2023-06-10 05:20:44,566\tINFO worker.py:1636 -- Started a local Ray instance.\n",
            "INFO flwr 2023-06-10 05:20:46,347 | app.py:180 | Flower VCE: Ray initialized with resources: {'memory': 7871818139.0, 'object_store_memory': 3935909068.0, 'GPU': 1.0, 'node:172.28.0.12': 1.0, 'CPU': 2.0}\n",
            "INFO:flwr:Flower VCE: Ray initialized with resources: {'memory': 7871818139.0, 'object_store_memory': 3935909068.0, 'GPU': 1.0, 'node:172.28.0.12': 1.0, 'CPU': 2.0}\n",
            "INFO flwr 2023-06-10 05:20:46,352 | server.py:86 | Initializing global parameters\n",
            "INFO:flwr:Initializing global parameters\n",
            "INFO flwr 2023-06-10 05:20:46,353 | server.py:269 | Using initial parameters provided by strategy\n",
            "INFO:flwr:Using initial parameters provided by strategy\n",
            "INFO flwr 2023-06-10 05:20:46,355 | server.py:88 | Evaluating initial parameters\n",
            "INFO:flwr:Evaluating initial parameters\n",
            "INFO flwr 2023-06-10 05:20:51,531 | server.py:91 | initial parameters (loss, other metrics): 0.07208232378959656, {'accuracy': 0.1}\n",
            "INFO:flwr:initial parameters (loss, other metrics): 0.07208232378959656, {'accuracy': 0.1}\n",
            "INFO flwr 2023-06-10 05:20:51,537 | server.py:101 | FL starting\n",
            "INFO:flwr:FL starting\n",
            "DEBUG flwr 2023-06-10 05:20:51,598 | server.py:218 | fit_round 1: strategy sampled 3 clients (out of 10)\n",
            "DEBUG:flwr:fit_round 1: strategy sampled 3 clients (out of 10)\n"
          ]
        },
        {
          "output_type": "stream",
          "name": "stdout",
          "text": [
            "Server-side evaluation loss 0.07208232378959656 / accuracy 0.1\n"
          ]
        },
        {
          "output_type": "stream",
          "name": "stderr",
          "text": [
            "\u001b[2m\u001b[36m(pid=32754)\u001b[0m 2023-06-10 05:20:58.670965: W tensorflow/compiler/tf2tensorrt/utils/py_utils.cc:38] TF-TRT Warning: Could not find TensorRT\n"
          ]
        },
        {
          "output_type": "stream",
          "name": "stdout",
          "text": [
            "\u001b[2m\u001b[36m(launch_and_fit pid=32754)\u001b[0m [Client 2, round 1] fit, config: {'server_round': 1, 'local_epochs': 1}\n",
            "\u001b[2m\u001b[36m(launch_and_fit pid=32754)\u001b[0m Epoch 1: train loss 0.06685440242290497, accuracy 0.18533333333333332\n"
          ]
        },
        {
          "output_type": "stream",
          "name": "stderr",
          "text": [
            "\u001b[2m\u001b[36m(pid=32844)\u001b[0m 2023-06-10 05:21:10.261563: W tensorflow/compiler/tf2tensorrt/utils/py_utils.cc:38] TF-TRT Warning: Could not find TensorRT\n"
          ]
        },
        {
          "output_type": "stream",
          "name": "stdout",
          "text": [
            "\u001b[2m\u001b[36m(launch_and_fit pid=32844)\u001b[0m [Client 6, round 1] fit, config: {'server_round': 1, 'local_epochs': 1}\n",
            "\u001b[2m\u001b[36m(launch_and_fit pid=32844)\u001b[0m Epoch 1: train loss 0.06631089001893997, accuracy 0.1771111111111111\n"
          ]
        },
        {
          "output_type": "stream",
          "name": "stderr",
          "text": [
            "\u001b[2m\u001b[36m(pid=32935)\u001b[0m 2023-06-10 05:21:22.148491: W tensorflow/compiler/tf2tensorrt/utils/py_utils.cc:38] TF-TRT Warning: Could not find TensorRT\n"
          ]
        },
        {
          "output_type": "stream",
          "name": "stdout",
          "text": [
            "\u001b[2m\u001b[36m(launch_and_fit pid=32935)\u001b[0m [Client 5, round 1] fit, config: {'server_round': 1, 'local_epochs': 1}\n"
          ]
        },
        {
          "output_type": "stream",
          "name": "stderr",
          "text": [
            "DEBUG flwr 2023-06-10 05:21:32,025 | server.py:232 | fit_round 1 received 3 results and 0 failures\n",
            "DEBUG:flwr:fit_round 1 received 3 results and 0 failures\n"
          ]
        },
        {
          "output_type": "stream",
          "name": "stdout",
          "text": [
            "\u001b[2m\u001b[36m(launch_and_fit pid=32935)\u001b[0m Epoch 1: train loss 0.06706156581640244, accuracy 0.1708888888888889\n",
            "Server-side evaluation loss 0.07208232378959656 / accuracy 0.1\n"
          ]
        },
        {
          "output_type": "stream",
          "name": "stderr",
          "text": [
            "WARNING flwr 2023-06-10 05:21:40,461 | qfedavg.py:237 | No fit_metrics_aggregation_fn provided\n",
            "WARNING:flwr:No fit_metrics_aggregation_fn provided\n",
            "INFO flwr 2023-06-10 05:21:46,770 | server.py:119 | fit progress: (1, 0.07208232369422912, {'accuracy': 0.1}, 55.22687702100029)\n",
            "INFO:flwr:fit progress: (1, 0.07208232369422912, {'accuracy': 0.1}, 55.22687702100029)\n",
            "DEBUG flwr 2023-06-10 05:21:46,777 | server.py:168 | evaluate_round 1: strategy sampled 3 clients (out of 10)\n",
            "DEBUG:flwr:evaluate_round 1: strategy sampled 3 clients (out of 10)\n"
          ]
        },
        {
          "output_type": "stream",
          "name": "stdout",
          "text": [
            "Server-side evaluation loss 0.07208232369422912 / accuracy 0.1\n"
          ]
        },
        {
          "output_type": "stream",
          "name": "stderr",
          "text": [
            "\u001b[2m\u001b[36m(pid=33111)\u001b[0m 2023-06-10 05:21:53.046378: W tensorflow/compiler/tf2tensorrt/utils/py_utils.cc:38] TF-TRT Warning: Could not find TensorRT\n"
          ]
        },
        {
          "output_type": "stream",
          "name": "stdout",
          "text": [
            "\u001b[2m\u001b[36m(launch_and_evaluate pid=33111)\u001b[0m [Client 0] evaluate, config: {}\n"
          ]
        },
        {
          "output_type": "stream",
          "name": "stderr",
          "text": [
            "\u001b[2m\u001b[36m(pid=33175)\u001b[0m 2023-06-10 05:22:00.516162: W tensorflow/compiler/tf2tensorrt/utils/py_utils.cc:38] TF-TRT Warning: Could not find TensorRT\n"
          ]
        },
        {
          "output_type": "stream",
          "name": "stdout",
          "text": [
            "\u001b[2m\u001b[36m(launch_and_evaluate pid=33175)\u001b[0m [Client 9] evaluate, config: {}\n"
          ]
        },
        {
          "output_type": "stream",
          "name": "stderr",
          "text": [
            "\u001b[2m\u001b[36m(pid=33250)\u001b[0m 2023-06-10 05:22:09.992554: W tensorflow/compiler/tf2tensorrt/utils/py_utils.cc:38] TF-TRT Warning: Could not find TensorRT\n"
          ]
        },
        {
          "output_type": "stream",
          "name": "stdout",
          "text": [
            "\u001b[2m\u001b[36m(launch_and_evaluate pid=33250)\u001b[0m [Client 1] evaluate, config: {}\n"
          ]
        },
        {
          "output_type": "stream",
          "name": "stderr",
          "text": [
            "DEBUG flwr 2023-06-10 05:22:14,390 | server.py:182 | evaluate_round 1 received 3 results and 0 failures\n",
            "DEBUG:flwr:evaluate_round 1 received 3 results and 0 failures\n",
            "DEBUG flwr 2023-06-10 05:22:14,465 | server.py:218 | fit_round 2: strategy sampled 3 clients (out of 10)\n",
            "DEBUG:flwr:fit_round 2: strategy sampled 3 clients (out of 10)\n",
            "\u001b[2m\u001b[36m(pid=33349)\u001b[0m 2023-06-10 05:22:22.121202: W tensorflow/compiler/tf2tensorrt/utils/py_utils.cc:38] TF-TRT Warning: Could not find TensorRT\n"
          ]
        },
        {
          "output_type": "stream",
          "name": "stdout",
          "text": [
            "\u001b[2m\u001b[36m(launch_and_fit pid=33349)\u001b[0m [Client 0, round 2] fit, config: {'server_round': 2, 'local_epochs': 2}\n",
            "\u001b[2m\u001b[36m(launch_and_fit pid=33349)\u001b[0m Epoch 1: train loss 0.06612754613161087, accuracy 0.18066666666666667\n",
            "\u001b[2m\u001b[36m(launch_and_fit pid=33349)\u001b[0m Epoch 2: train loss 0.05901974067091942, accuracy 0.26844444444444443\n"
          ]
        },
        {
          "output_type": "stream",
          "name": "stderr",
          "text": [
            "\u001b[2m\u001b[36m(pid=33464)\u001b[0m 2023-06-10 05:22:38.903216: W tensorflow/compiler/tf2tensorrt/utils/py_utils.cc:38] TF-TRT Warning: Could not find TensorRT\n"
          ]
        },
        {
          "output_type": "stream",
          "name": "stdout",
          "text": [
            "\u001b[2m\u001b[36m(launch_and_fit pid=33464)\u001b[0m [Client 4, round 2] fit, config: {'server_round': 2, 'local_epochs': 2}\n",
            "\u001b[2m\u001b[36m(launch_and_fit pid=33464)\u001b[0m Epoch 1: train loss 0.06612826883792877, accuracy 0.1668888888888889\n",
            "\u001b[2m\u001b[36m(launch_and_fit pid=33464)\u001b[0m Epoch 2: train loss 0.06213335692882538, accuracy 0.19933333333333333\n"
          ]
        },
        {
          "output_type": "stream",
          "name": "stderr",
          "text": [
            "\u001b[2m\u001b[36m(pid=33572)\u001b[0m 2023-06-10 05:22:55.516149: W tensorflow/compiler/tf2tensorrt/utils/py_utils.cc:38] TF-TRT Warning: Could not find TensorRT\n"
          ]
        },
        {
          "output_type": "stream",
          "name": "stdout",
          "text": [
            "\u001b[2m\u001b[36m(launch_and_fit pid=33572)\u001b[0m [Client 5, round 2] fit, config: {'server_round': 2, 'local_epochs': 2}\n",
            "\u001b[2m\u001b[36m(launch_and_fit pid=33572)\u001b[0m Epoch 1: train loss 0.06719905883073807, accuracy 0.17133333333333334\n"
          ]
        },
        {
          "output_type": "stream",
          "name": "stderr",
          "text": [
            "DEBUG flwr 2023-06-10 05:23:10,575 | server.py:232 | fit_round 2 received 3 results and 0 failures\n",
            "DEBUG:flwr:fit_round 2 received 3 results and 0 failures\n"
          ]
        },
        {
          "output_type": "stream",
          "name": "stdout",
          "text": [
            "\u001b[2m\u001b[36m(launch_and_fit pid=33572)\u001b[0m Epoch 2: train loss 0.059143222868442535, accuracy 0.2753333333333333\n",
            "Server-side evaluation loss 0.07208232369422912 / accuracy 0.1\n"
          ]
        },
        {
          "output_type": "stream",
          "name": "stderr",
          "text": [
            "INFO flwr 2023-06-10 05:23:24,677 | server.py:119 | fit progress: (2, 0.07208232350349426, {'accuracy': 0.1}, 153.13391225000032)\n",
            "INFO:flwr:fit progress: (2, 0.07208232350349426, {'accuracy': 0.1}, 153.13391225000032)\n",
            "DEBUG flwr 2023-06-10 05:23:24,683 | server.py:168 | evaluate_round 2: strategy sampled 3 clients (out of 10)\n",
            "DEBUG:flwr:evaluate_round 2: strategy sampled 3 clients (out of 10)\n"
          ]
        },
        {
          "output_type": "stream",
          "name": "stdout",
          "text": [
            "Server-side evaluation loss 0.07208232350349426 / accuracy 0.1\n"
          ]
        },
        {
          "output_type": "stream",
          "name": "stderr",
          "text": [
            "\u001b[2m\u001b[36m(pid=33772)\u001b[0m 2023-06-10 05:23:32.012528: W tensorflow/compiler/tf2tensorrt/utils/py_utils.cc:38] TF-TRT Warning: Could not find TensorRT\n"
          ]
        },
        {
          "output_type": "stream",
          "name": "stdout",
          "text": [
            "\u001b[2m\u001b[36m(launch_and_evaluate pid=33772)\u001b[0m [Client 2] evaluate, config: {}\n"
          ]
        },
        {
          "output_type": "stream",
          "name": "stderr",
          "text": [
            "\u001b[2m\u001b[36m(pid=33846)\u001b[0m 2023-06-10 05:23:39.441621: W tensorflow/compiler/tf2tensorrt/utils/py_utils.cc:38] TF-TRT Warning: Could not find TensorRT\n"
          ]
        },
        {
          "output_type": "stream",
          "name": "stdout",
          "text": [
            "\u001b[2m\u001b[36m(launch_and_evaluate pid=33846)\u001b[0m [Client 0] evaluate, config: {}\n"
          ]
        },
        {
          "output_type": "stream",
          "name": "stderr",
          "text": [
            "\u001b[2m\u001b[36m(pid=33907)\u001b[0m 2023-06-10 05:23:45.982713: W tensorflow/compiler/tf2tensorrt/utils/py_utils.cc:38] TF-TRT Warning: Could not find TensorRT\n"
          ]
        },
        {
          "output_type": "stream",
          "name": "stdout",
          "text": [
            "\u001b[2m\u001b[36m(launch_and_evaluate pid=33907)\u001b[0m [Client 5] evaluate, config: {}\n"
          ]
        },
        {
          "output_type": "stream",
          "name": "stderr",
          "text": [
            "DEBUG flwr 2023-06-10 05:23:52,145 | server.py:182 | evaluate_round 2 received 3 results and 0 failures\n",
            "DEBUG:flwr:evaluate_round 2 received 3 results and 0 failures\n",
            "DEBUG flwr 2023-06-10 05:23:52,205 | server.py:218 | fit_round 3: strategy sampled 3 clients (out of 10)\n",
            "DEBUG:flwr:fit_round 3: strategy sampled 3 clients (out of 10)\n",
            "\u001b[2m\u001b[36m(pid=33997)\u001b[0m 2023-06-10 05:23:58.277418: W tensorflow/compiler/tf2tensorrt/utils/py_utils.cc:38] TF-TRT Warning: Could not find TensorRT\n"
          ]
        },
        {
          "output_type": "stream",
          "name": "stdout",
          "text": [
            "\u001b[2m\u001b[36m(launch_and_fit pid=33997)\u001b[0m [Client 4, round 3] fit, config: {'server_round': 3, 'local_epochs': 2}\n",
            "\u001b[2m\u001b[36m(launch_and_fit pid=33997)\u001b[0m Epoch 1: train loss 0.06302211433649063, accuracy 0.23266666666666666\n",
            "\u001b[2m\u001b[36m(launch_and_fit pid=33997)\u001b[0m Epoch 2: train loss 0.056672073900699615, accuracy 0.30622222222222223\n"
          ]
        },
        {
          "output_type": "stream",
          "name": "stderr",
          "text": [
            "\u001b[2m\u001b[36m(pid=34117)\u001b[0m 2023-06-10 05:24:15.410562: W tensorflow/compiler/tf2tensorrt/utils/py_utils.cc:38] TF-TRT Warning: Could not find TensorRT\n"
          ]
        },
        {
          "output_type": "stream",
          "name": "stdout",
          "text": [
            "\u001b[2m\u001b[36m(launch_and_fit pid=34117)\u001b[0m [Client 2, round 3] fit, config: {'server_round': 3, 'local_epochs': 2}\n",
            "\u001b[2m\u001b[36m(launch_and_fit pid=34117)\u001b[0m Epoch 1: train loss 0.06617958098649979, accuracy 0.192\n",
            "\u001b[2m\u001b[36m(launch_and_fit pid=34117)\u001b[0m Epoch 2: train loss 0.05963724106550217, accuracy 0.24355555555555555\n"
          ]
        },
        {
          "output_type": "stream",
          "name": "stderr",
          "text": [
            "\u001b[2m\u001b[36m(pid=34234)\u001b[0m 2023-06-10 05:24:35.544935: W tensorflow/compiler/tf2tensorrt/utils/py_utils.cc:38] TF-TRT Warning: Could not find TensorRT\n"
          ]
        },
        {
          "output_type": "stream",
          "name": "stdout",
          "text": [
            "\u001b[2m\u001b[36m(launch_and_fit pid=34234)\u001b[0m [Client 5, round 3] fit, config: {'server_round': 3, 'local_epochs': 2}\n",
            "\u001b[2m\u001b[36m(launch_and_fit pid=34234)\u001b[0m Epoch 1: train loss 0.06617694348096848, accuracy 0.18688888888888888\n",
            "\u001b[2m\u001b[36m(launch_and_fit pid=34234)\u001b[0m Epoch 2: train loss 0.06047125905752182, accuracy 0.246\n"
          ]
        },
        {
          "output_type": "stream",
          "name": "stderr",
          "text": [
            "DEBUG flwr 2023-06-10 05:24:50,360 | server.py:232 | fit_round 3 received 3 results and 0 failures\n",
            "DEBUG:flwr:fit_round 3 received 3 results and 0 failures\n"
          ]
        },
        {
          "output_type": "stream",
          "name": "stdout",
          "text": [
            "Server-side evaluation loss 0.07208232350349426 / accuracy 0.1\n"
          ]
        },
        {
          "output_type": "stream",
          "name": "stderr",
          "text": [
            "INFO flwr 2023-06-10 05:25:07,063 | server.py:119 | fit progress: (3, 0.07208232355117798, {'accuracy': 0.1}, 255.5197473220005)\n",
            "INFO:flwr:fit progress: (3, 0.07208232355117798, {'accuracy': 0.1}, 255.5197473220005)\n",
            "DEBUG flwr 2023-06-10 05:25:07,069 | server.py:168 | evaluate_round 3: strategy sampled 3 clients (out of 10)\n",
            "DEBUG:flwr:evaluate_round 3: strategy sampled 3 clients (out of 10)\n"
          ]
        },
        {
          "output_type": "stream",
          "name": "stdout",
          "text": [
            "Server-side evaluation loss 0.07208232355117798 / accuracy 0.1\n"
          ]
        },
        {
          "output_type": "stream",
          "name": "stderr",
          "text": [
            "\u001b[2m\u001b[36m(pid=34441)\u001b[0m 2023-06-10 05:25:13.038056: W tensorflow/compiler/tf2tensorrt/utils/py_utils.cc:38] TF-TRT Warning: Could not find TensorRT\n"
          ]
        },
        {
          "output_type": "stream",
          "name": "stdout",
          "text": [
            "\u001b[2m\u001b[36m(launch_and_evaluate pid=34441)\u001b[0m [Client 5] evaluate, config: {}\n"
          ]
        },
        {
          "output_type": "stream",
          "name": "stderr",
          "text": [
            "\u001b[2m\u001b[36m(pid=34501)\u001b[0m 2023-06-10 05:25:21.094906: W tensorflow/compiler/tf2tensorrt/utils/py_utils.cc:38] TF-TRT Warning: Could not find TensorRT\n"
          ]
        },
        {
          "output_type": "stream",
          "name": "stdout",
          "text": [
            "\u001b[2m\u001b[36m(launch_and_evaluate pid=34501)\u001b[0m [Client 6] evaluate, config: {}\n"
          ]
        },
        {
          "output_type": "stream",
          "name": "stderr",
          "text": [
            "\u001b[2m\u001b[36m(pid=34570)\u001b[0m 2023-06-10 05:25:27.695720: W tensorflow/compiler/tf2tensorrt/utils/py_utils.cc:38] TF-TRT Warning: Could not find TensorRT\n"
          ]
        },
        {
          "output_type": "stream",
          "name": "stdout",
          "text": [
            "\u001b[2m\u001b[36m(launch_and_evaluate pid=34570)\u001b[0m [Client 9] evaluate, config: {}\n"
          ]
        },
        {
          "output_type": "stream",
          "name": "stderr",
          "text": [
            "DEBUG flwr 2023-06-10 05:25:32,073 | server.py:182 | evaluate_round 3 received 3 results and 0 failures\n",
            "DEBUG:flwr:evaluate_round 3 received 3 results and 0 failures\n",
            "DEBUG flwr 2023-06-10 05:25:32,131 | server.py:218 | fit_round 4: strategy sampled 3 clients (out of 10)\n",
            "DEBUG:flwr:fit_round 4: strategy sampled 3 clients (out of 10)\n",
            "\u001b[2m\u001b[36m(pid=34665)\u001b[0m 2023-06-10 05:25:40.525033: W tensorflow/compiler/tf2tensorrt/utils/py_utils.cc:38] TF-TRT Warning: Could not find TensorRT\n"
          ]
        },
        {
          "output_type": "stream",
          "name": "stdout",
          "text": [
            "\u001b[2m\u001b[36m(launch_and_fit pid=34665)\u001b[0m [Client 1, round 4] fit, config: {'server_round': 4, 'local_epochs': 2}\n",
            "\u001b[2m\u001b[36m(launch_and_fit pid=34665)\u001b[0m Epoch 1: train loss 0.0659574493765831, accuracy 0.19311111111111112\n",
            "\u001b[2m\u001b[36m(launch_and_fit pid=34665)\u001b[0m Epoch 2: train loss 0.05942397937178612, accuracy 0.25066666666666665\n"
          ]
        },
        {
          "output_type": "stream",
          "name": "stderr",
          "text": [
            "\u001b[2m\u001b[36m(pid=34774)\u001b[0m 2023-06-10 05:25:57.283096: W tensorflow/compiler/tf2tensorrt/utils/py_utils.cc:38] TF-TRT Warning: Could not find TensorRT\n"
          ]
        },
        {
          "output_type": "stream",
          "name": "stdout",
          "text": [
            "\u001b[2m\u001b[36m(launch_and_fit pid=34774)\u001b[0m [Client 5, round 4] fit, config: {'server_round': 4, 'local_epochs': 2}\n",
            "\u001b[2m\u001b[36m(launch_and_fit pid=34774)\u001b[0m Epoch 1: train loss 0.06602898240089417, accuracy 0.172\n",
            "\u001b[2m\u001b[36m(launch_and_fit pid=34774)\u001b[0m Epoch 2: train loss 0.057500340044498444, accuracy 0.27666666666666667\n"
          ]
        },
        {
          "output_type": "stream",
          "name": "stderr",
          "text": [
            "\u001b[2m\u001b[36m(pid=34881)\u001b[0m 2023-06-10 05:26:14.130923: W tensorflow/compiler/tf2tensorrt/utils/py_utils.cc:38] TF-TRT Warning: Could not find TensorRT\n"
          ]
        },
        {
          "output_type": "stream",
          "name": "stdout",
          "text": [
            "\u001b[2m\u001b[36m(launch_and_fit pid=34881)\u001b[0m [Client 4, round 4] fit, config: {'server_round': 4, 'local_epochs': 2}\n",
            "\u001b[2m\u001b[36m(launch_and_fit pid=34881)\u001b[0m Epoch 1: train loss 0.06534938514232635, accuracy 0.18333333333333332\n",
            "\u001b[2m\u001b[36m(launch_and_fit pid=34881)\u001b[0m Epoch 2: train loss 0.05838506296277046, accuracy 0.2628888888888889\n"
          ]
        },
        {
          "output_type": "stream",
          "name": "stderr",
          "text": [
            "DEBUG flwr 2023-06-10 05:26:28,986 | server.py:232 | fit_round 4 received 3 results and 0 failures\n",
            "DEBUG:flwr:fit_round 4 received 3 results and 0 failures\n"
          ]
        },
        {
          "output_type": "stream",
          "name": "stdout",
          "text": [
            "Server-side evaluation loss 0.07208232355117798 / accuracy 0.1\n"
          ]
        },
        {
          "output_type": "stream",
          "name": "stderr",
          "text": [
            "INFO flwr 2023-06-10 05:26:43,559 | server.py:119 | fit progress: (4, 0.07208232336044311, {'accuracy': 0.1}, 352.0158764130001)\n",
            "INFO:flwr:fit progress: (4, 0.07208232336044311, {'accuracy': 0.1}, 352.0158764130001)\n",
            "DEBUG flwr 2023-06-10 05:26:43,563 | server.py:168 | evaluate_round 4: strategy sampled 3 clients (out of 10)\n",
            "DEBUG:flwr:evaluate_round 4: strategy sampled 3 clients (out of 10)\n"
          ]
        },
        {
          "output_type": "stream",
          "name": "stdout",
          "text": [
            "Server-side evaluation loss 0.07208232336044311 / accuracy 0.1\n"
          ]
        },
        {
          "output_type": "stream",
          "name": "stderr",
          "text": [
            "\u001b[2m\u001b[36m(pid=35075)\u001b[0m 2023-06-10 05:26:50.257925: W tensorflow/compiler/tf2tensorrt/utils/py_utils.cc:38] TF-TRT Warning: Could not find TensorRT\n"
          ]
        },
        {
          "output_type": "stream",
          "name": "stdout",
          "text": [
            "\u001b[2m\u001b[36m(launch_and_evaluate pid=35075)\u001b[0m [Client 2] evaluate, config: {}\n"
          ]
        },
        {
          "output_type": "stream",
          "name": "stderr",
          "text": [
            "\u001b[2m\u001b[36m(pid=35144)\u001b[0m 2023-06-10 05:26:58.223659: W tensorflow/compiler/tf2tensorrt/utils/py_utils.cc:38] TF-TRT Warning: Could not find TensorRT\n"
          ]
        },
        {
          "output_type": "stream",
          "name": "stdout",
          "text": [
            "\u001b[2m\u001b[36m(launch_and_evaluate pid=35144)\u001b[0m [Client 9] evaluate, config: {}\n"
          ]
        },
        {
          "output_type": "stream",
          "name": "stderr",
          "text": [
            "\u001b[2m\u001b[36m(pid=35210)\u001b[0m 2023-06-10 05:27:04.647440: W tensorflow/compiler/tf2tensorrt/utils/py_utils.cc:38] TF-TRT Warning: Could not find TensorRT\n"
          ]
        },
        {
          "output_type": "stream",
          "name": "stdout",
          "text": [
            "\u001b[2m\u001b[36m(launch_and_evaluate pid=35210)\u001b[0m [Client 6] evaluate, config: {}\n"
          ]
        },
        {
          "output_type": "stream",
          "name": "stderr",
          "text": [
            "DEBUG flwr 2023-06-10 05:27:11,045 | server.py:182 | evaluate_round 4 received 3 results and 0 failures\n",
            "DEBUG:flwr:evaluate_round 4 received 3 results and 0 failures\n",
            "DEBUG flwr 2023-06-10 05:27:11,105 | server.py:218 | fit_round 5: strategy sampled 3 clients (out of 10)\n",
            "DEBUG:flwr:fit_round 5: strategy sampled 3 clients (out of 10)\n",
            "\u001b[2m\u001b[36m(pid=35299)\u001b[0m 2023-06-10 05:27:17.194685: W tensorflow/compiler/tf2tensorrt/utils/py_utils.cc:38] TF-TRT Warning: Could not find TensorRT\n"
          ]
        },
        {
          "output_type": "stream",
          "name": "stdout",
          "text": [
            "\u001b[2m\u001b[36m(launch_and_fit pid=35299)\u001b[0m [Client 0, round 5] fit, config: {'server_round': 5, 'local_epochs': 2}\n",
            "\u001b[2m\u001b[36m(launch_and_fit pid=35299)\u001b[0m Epoch 1: train loss 0.06542640924453735, accuracy 0.18222222222222223\n",
            "\u001b[2m\u001b[36m(launch_and_fit pid=35299)\u001b[0m Epoch 2: train loss 0.06040088087320328, accuracy 0.23355555555555554\n"
          ]
        },
        {
          "output_type": "stream",
          "name": "stderr",
          "text": [
            "\u001b[2m\u001b[36m(pid=35410)\u001b[0m 2023-06-10 05:27:34.443273: W tensorflow/compiler/tf2tensorrt/utils/py_utils.cc:38] TF-TRT Warning: Could not find TensorRT\n"
          ]
        },
        {
          "output_type": "stream",
          "name": "stdout",
          "text": [
            "\u001b[2m\u001b[36m(launch_and_fit pid=35410)\u001b[0m [Client 2, round 5] fit, config: {'server_round': 5, 'local_epochs': 2}\n",
            "\u001b[2m\u001b[36m(launch_and_fit pid=35410)\u001b[0m Epoch 1: train loss 0.06417252868413925, accuracy 0.2011111111111111\n",
            "\u001b[2m\u001b[36m(launch_and_fit pid=35410)\u001b[0m Epoch 2: train loss 0.05752509459853172, accuracy 0.29044444444444445\n"
          ]
        },
        {
          "output_type": "stream",
          "name": "stderr",
          "text": [
            "\u001b[2m\u001b[36m(pid=35528)\u001b[0m 2023-06-10 05:27:55.797156: W tensorflow/compiler/tf2tensorrt/utils/py_utils.cc:38] TF-TRT Warning: Could not find TensorRT\n"
          ]
        },
        {
          "output_type": "stream",
          "name": "stdout",
          "text": [
            "\u001b[2m\u001b[36m(launch_and_fit pid=35528)\u001b[0m [Client 3, round 5] fit, config: {'server_round': 5, 'local_epochs': 2}\n",
            "\u001b[2m\u001b[36m(launch_and_fit pid=35528)\u001b[0m Epoch 1: train loss 0.0653722733259201, accuracy 0.20133333333333334\n",
            "\u001b[2m\u001b[36m(launch_and_fit pid=35528)\u001b[0m Epoch 2: train loss 0.057973720133304596, accuracy 0.2773333333333333\n"
          ]
        },
        {
          "output_type": "stream",
          "name": "stderr",
          "text": [
            "DEBUG flwr 2023-06-10 05:28:11,986 | server.py:232 | fit_round 5 received 3 results and 0 failures\n",
            "DEBUG:flwr:fit_round 5 received 3 results and 0 failures\n"
          ]
        },
        {
          "output_type": "stream",
          "name": "stdout",
          "text": [
            "Server-side evaluation loss 0.07208232336044311 / accuracy 0.1\n"
          ]
        },
        {
          "output_type": "stream",
          "name": "stderr",
          "text": [
            "INFO flwr 2023-06-10 05:28:26,968 | server.py:119 | fit progress: (5, 0.07208232378959656, {'accuracy': 0.1}, 455.4247957010002)\n",
            "INFO:flwr:fit progress: (5, 0.07208232378959656, {'accuracy': 0.1}, 455.4247957010002)\n",
            "DEBUG flwr 2023-06-10 05:28:26,974 | server.py:168 | evaluate_round 5: strategy sampled 3 clients (out of 10)\n",
            "DEBUG:flwr:evaluate_round 5: strategy sampled 3 clients (out of 10)\n"
          ]
        },
        {
          "output_type": "stream",
          "name": "stdout",
          "text": [
            "Server-side evaluation loss 0.07208232378959656 / accuracy 0.1\n"
          ]
        },
        {
          "output_type": "stream",
          "name": "stderr",
          "text": [
            "\u001b[2m\u001b[36m(pid=35745)\u001b[0m 2023-06-10 05:28:34.495367: W tensorflow/compiler/tf2tensorrt/utils/py_utils.cc:38] TF-TRT Warning: Could not find TensorRT\n"
          ]
        },
        {
          "output_type": "stream",
          "name": "stdout",
          "text": [
            "\u001b[2m\u001b[36m(launch_and_evaluate pid=35745)\u001b[0m [Client 9] evaluate, config: {}\n"
          ]
        },
        {
          "output_type": "stream",
          "name": "stderr",
          "text": [
            "\u001b[2m\u001b[36m(pid=35806)\u001b[0m 2023-06-10 05:28:41.161265: W tensorflow/compiler/tf2tensorrt/utils/py_utils.cc:38] TF-TRT Warning: Could not find TensorRT\n"
          ]
        },
        {
          "output_type": "stream",
          "name": "stdout",
          "text": [
            "\u001b[2m\u001b[36m(launch_and_evaluate pid=35806)\u001b[0m [Client 6] evaluate, config: {}\n"
          ]
        },
        {
          "output_type": "stream",
          "name": "stderr",
          "text": [
            "\u001b[2m\u001b[36m(pid=35878)\u001b[0m 2023-06-10 05:28:49.304512: W tensorflow/compiler/tf2tensorrt/utils/py_utils.cc:38] TF-TRT Warning: Could not find TensorRT\n"
          ]
        },
        {
          "output_type": "stream",
          "name": "stdout",
          "text": [
            "\u001b[2m\u001b[36m(launch_and_evaluate pid=35878)\u001b[0m [Client 8] evaluate, config: {}\n"
          ]
        },
        {
          "output_type": "stream",
          "name": "stderr",
          "text": [
            "DEBUG flwr 2023-06-10 05:28:53,645 | server.py:182 | evaluate_round 5 received 3 results and 0 failures\n",
            "DEBUG:flwr:evaluate_round 5 received 3 results and 0 failures\n",
            "DEBUG flwr 2023-06-10 05:28:53,706 | server.py:218 | fit_round 6: strategy sampled 3 clients (out of 10)\n",
            "DEBUG:flwr:fit_round 6: strategy sampled 3 clients (out of 10)\n",
            "\u001b[2m\u001b[36m(pid=35967)\u001b[0m 2023-06-10 05:29:02.425335: W tensorflow/compiler/tf2tensorrt/utils/py_utils.cc:38] TF-TRT Warning: Could not find TensorRT\n"
          ]
        },
        {
          "output_type": "stream",
          "name": "stdout",
          "text": [
            "\u001b[2m\u001b[36m(launch_and_fit pid=35967)\u001b[0m [Client 0, round 6] fit, config: {'server_round': 6, 'local_epochs': 2}\n",
            "\u001b[2m\u001b[36m(launch_and_fit pid=35967)\u001b[0m Epoch 1: train loss 0.06624986231327057, accuracy 0.184\n",
            "\u001b[2m\u001b[36m(launch_and_fit pid=35967)\u001b[0m Epoch 2: train loss 0.059979166835546494, accuracy 0.2613333333333333\n"
          ]
        },
        {
          "output_type": "stream",
          "name": "stderr",
          "text": [
            "\u001b[2m\u001b[36m(pid=36078)\u001b[0m 2023-06-10 05:29:18.799840: W tensorflow/compiler/tf2tensorrt/utils/py_utils.cc:38] TF-TRT Warning: Could not find TensorRT\n"
          ]
        },
        {
          "output_type": "stream",
          "name": "stdout",
          "text": [
            "\u001b[2m\u001b[36m(launch_and_fit pid=36078)\u001b[0m [Client 8, round 6] fit, config: {'server_round': 6, 'local_epochs': 2}\n",
            "\u001b[2m\u001b[36m(launch_and_fit pid=36078)\u001b[0m Epoch 1: train loss 0.06435547024011612, accuracy 0.20822222222222223\n",
            "\u001b[2m\u001b[36m(launch_and_fit pid=36078)\u001b[0m Epoch 2: train loss 0.05780617892742157, accuracy 0.29355555555555557\n"
          ]
        },
        {
          "output_type": "stream",
          "name": "stderr",
          "text": [
            "\u001b[2m\u001b[36m(pid=36189)\u001b[0m 2023-06-10 05:29:35.716796: W tensorflow/compiler/tf2tensorrt/utils/py_utils.cc:38] TF-TRT Warning: Could not find TensorRT\n"
          ]
        },
        {
          "output_type": "stream",
          "name": "stdout",
          "text": [
            "\u001b[2m\u001b[36m(launch_and_fit pid=36189)\u001b[0m [Client 5, round 6] fit, config: {'server_round': 6, 'local_epochs': 2}\n",
            "\u001b[2m\u001b[36m(launch_and_fit pid=36189)\u001b[0m Epoch 1: train loss 0.06629284471273422, accuracy 0.19133333333333333\n"
          ]
        },
        {
          "output_type": "stream",
          "name": "stderr",
          "text": [
            "DEBUG flwr 2023-06-10 05:29:50,730 | server.py:232 | fit_round 6 received 3 results and 0 failures\n",
            "DEBUG:flwr:fit_round 6 received 3 results and 0 failures\n"
          ]
        },
        {
          "output_type": "stream",
          "name": "stdout",
          "text": [
            "\u001b[2m\u001b[36m(launch_and_fit pid=36189)\u001b[0m Epoch 2: train loss 0.058192119002342224, accuracy 0.288\n",
            "Server-side evaluation loss 0.07208232378959656 / accuracy 0.1\n"
          ]
        },
        {
          "output_type": "stream",
          "name": "stderr",
          "text": [
            "INFO flwr 2023-06-10 05:30:05,219 | server.py:119 | fit progress: (6, 0.0720823239326477, {'accuracy': 0.1}, 553.6760639129998)\n",
            "INFO:flwr:fit progress: (6, 0.0720823239326477, {'accuracy': 0.1}, 553.6760639129998)\n",
            "DEBUG flwr 2023-06-10 05:30:05,224 | server.py:168 | evaluate_round 6: strategy sampled 3 clients (out of 10)\n",
            "DEBUG:flwr:evaluate_round 6: strategy sampled 3 clients (out of 10)\n"
          ]
        },
        {
          "output_type": "stream",
          "name": "stdout",
          "text": [
            "Server-side evaluation loss 0.0720823239326477 / accuracy 0.1\n"
          ]
        },
        {
          "output_type": "stream",
          "name": "stderr",
          "text": [
            "\u001b[2m\u001b[36m(pid=36380)\u001b[0m 2023-06-10 05:30:11.358835: W tensorflow/compiler/tf2tensorrt/utils/py_utils.cc:38] TF-TRT Warning: Could not find TensorRT\n"
          ]
        },
        {
          "output_type": "stream",
          "name": "stdout",
          "text": [
            "\u001b[2m\u001b[36m(launch_and_evaluate pid=36380)\u001b[0m [Client 0] evaluate, config: {}\n"
          ]
        },
        {
          "output_type": "stream",
          "name": "stderr",
          "text": [
            "\u001b[2m\u001b[36m(pid=36452)\u001b[0m 2023-06-10 05:30:19.911610: W tensorflow/compiler/tf2tensorrt/utils/py_utils.cc:38] TF-TRT Warning: Could not find TensorRT\n"
          ]
        },
        {
          "output_type": "stream",
          "name": "stdout",
          "text": [
            "\u001b[2m\u001b[36m(launch_and_evaluate pid=36452)\u001b[0m [Client 1] evaluate, config: {}\n"
          ]
        },
        {
          "output_type": "stream",
          "name": "stderr",
          "text": [
            "\u001b[2m\u001b[36m(pid=36513)\u001b[0m 2023-06-10 05:30:26.242919: W tensorflow/compiler/tf2tensorrt/utils/py_utils.cc:38] TF-TRT Warning: Could not find TensorRT\n"
          ]
        },
        {
          "output_type": "stream",
          "name": "stdout",
          "text": [
            "\u001b[2m\u001b[36m(launch_and_evaluate pid=36513)\u001b[0m [Client 9] evaluate, config: {}\n"
          ]
        },
        {
          "output_type": "stream",
          "name": "stderr",
          "text": [
            "DEBUG flwr 2023-06-10 05:30:32,229 | server.py:182 | evaluate_round 6 received 3 results and 0 failures\n",
            "DEBUG:flwr:evaluate_round 6 received 3 results and 0 failures\n",
            "DEBUG flwr 2023-06-10 05:30:32,309 | server.py:218 | fit_round 7: strategy sampled 3 clients (out of 10)\n",
            "DEBUG:flwr:fit_round 7: strategy sampled 3 clients (out of 10)\n",
            "\u001b[2m\u001b[36m(pid=36607)\u001b[0m 2023-06-10 05:30:38.514337: W tensorflow/compiler/tf2tensorrt/utils/py_utils.cc:38] TF-TRT Warning: Could not find TensorRT\n"
          ]
        },
        {
          "output_type": "stream",
          "name": "stdout",
          "text": [
            "\u001b[2m\u001b[36m(launch_and_fit pid=36607)\u001b[0m [Client 9, round 7] fit, config: {'server_round': 7, 'local_epochs': 2}\n",
            "\u001b[2m\u001b[36m(launch_and_fit pid=36607)\u001b[0m Epoch 1: train loss 0.06542094796895981, accuracy 0.17155555555555554\n",
            "\u001b[2m\u001b[36m(launch_and_fit pid=36607)\u001b[0m Epoch 2: train loss 0.060101039707660675, accuracy 0.2588888888888889\n"
          ]
        },
        {
          "output_type": "stream",
          "name": "stderr",
          "text": [
            "\u001b[2m\u001b[36m(pid=36727)\u001b[0m 2023-06-10 05:30:57.706206: W tensorflow/compiler/tf2tensorrt/utils/py_utils.cc:38] TF-TRT Warning: Could not find TensorRT\n"
          ]
        },
        {
          "output_type": "stream",
          "name": "stdout",
          "text": [
            "\u001b[2m\u001b[36m(launch_and_fit pid=36727)\u001b[0m [Client 0, round 7] fit, config: {'server_round': 7, 'local_epochs': 2}\n",
            "\u001b[2m\u001b[36m(launch_and_fit pid=36727)\u001b[0m Epoch 1: train loss 0.06582561135292053, accuracy 0.186\n",
            "\u001b[2m\u001b[36m(launch_and_fit pid=36727)\u001b[0m Epoch 2: train loss 0.05923113226890564, accuracy 0.2611111111111111\n"
          ]
        },
        {
          "output_type": "stream",
          "name": "stderr",
          "text": [
            "\u001b[2m\u001b[36m(pid=36840)\u001b[0m 2023-06-10 05:31:15.150626: W tensorflow/compiler/tf2tensorrt/utils/py_utils.cc:38] TF-TRT Warning: Could not find TensorRT\n"
          ]
        },
        {
          "output_type": "stream",
          "name": "stdout",
          "text": [
            "\u001b[2m\u001b[36m(launch_and_fit pid=36840)\u001b[0m [Client 2, round 7] fit, config: {'server_round': 7, 'local_epochs': 2}\n",
            "\u001b[2m\u001b[36m(launch_and_fit pid=36840)\u001b[0m Epoch 1: train loss 0.0668209046125412, accuracy 0.17733333333333334\n"
          ]
        },
        {
          "output_type": "stream",
          "name": "stderr",
          "text": [
            "DEBUG flwr 2023-06-10 05:31:31,333 | server.py:232 | fit_round 7 received 3 results and 0 failures\n",
            "DEBUG:flwr:fit_round 7 received 3 results and 0 failures\n"
          ]
        },
        {
          "output_type": "stream",
          "name": "stdout",
          "text": [
            "\u001b[2m\u001b[36m(launch_and_fit pid=36840)\u001b[0m Epoch 2: train loss 0.06306824088096619, accuracy 0.21822222222222223\n",
            "Server-side evaluation loss 0.0720823239326477 / accuracy 0.1\n"
          ]
        },
        {
          "output_type": "stream",
          "name": "stderr",
          "text": [
            "INFO flwr 2023-06-10 05:31:47,125 | server.py:119 | fit progress: (7, 0.0720823246717453, {'accuracy': 0.1}, 655.5823285200004)\n",
            "INFO:flwr:fit progress: (7, 0.0720823246717453, {'accuracy': 0.1}, 655.5823285200004)\n",
            "DEBUG flwr 2023-06-10 05:31:47,139 | server.py:168 | evaluate_round 7: strategy sampled 3 clients (out of 10)\n",
            "DEBUG:flwr:evaluate_round 7: strategy sampled 3 clients (out of 10)\n"
          ]
        },
        {
          "output_type": "stream",
          "name": "stdout",
          "text": [
            "Server-side evaluation loss 0.0720823246717453 / accuracy 0.1\n"
          ]
        },
        {
          "output_type": "stream",
          "name": "stderr",
          "text": [
            "\u001b[2m\u001b[36m(pid=37060)\u001b[0m 2023-06-10 05:31:55.419801: W tensorflow/compiler/tf2tensorrt/utils/py_utils.cc:38] TF-TRT Warning: Could not find TensorRT\n"
          ]
        },
        {
          "output_type": "stream",
          "name": "stdout",
          "text": [
            "\u001b[2m\u001b[36m(launch_and_evaluate pid=37060)\u001b[0m [Client 8] evaluate, config: {}\n"
          ]
        },
        {
          "output_type": "stream",
          "name": "stderr",
          "text": [
            "\u001b[2m\u001b[36m(pid=37121)\u001b[0m 2023-06-10 05:32:01.677518: W tensorflow/compiler/tf2tensorrt/utils/py_utils.cc:38] TF-TRT Warning: Could not find TensorRT\n"
          ]
        },
        {
          "output_type": "stream",
          "name": "stdout",
          "text": [
            "\u001b[2m\u001b[36m(launch_and_evaluate pid=37121)\u001b[0m [Client 7] evaluate, config: {}\n"
          ]
        },
        {
          "output_type": "stream",
          "name": "stderr",
          "text": [
            "\u001b[2m\u001b[36m(pid=37197)\u001b[0m 2023-06-10 05:32:10.078253: W tensorflow/compiler/tf2tensorrt/utils/py_utils.cc:38] TF-TRT Warning: Could not find TensorRT\n"
          ]
        },
        {
          "output_type": "stream",
          "name": "stdout",
          "text": [
            "\u001b[2m\u001b[36m(launch_and_evaluate pid=37197)\u001b[0m [Client 0] evaluate, config: {}\n"
          ]
        },
        {
          "output_type": "stream",
          "name": "stderr",
          "text": [
            "DEBUG flwr 2023-06-10 05:32:14,402 | server.py:182 | evaluate_round 7 received 3 results and 0 failures\n",
            "DEBUG:flwr:evaluate_round 7 received 3 results and 0 failures\n",
            "DEBUG flwr 2023-06-10 05:32:14,468 | server.py:218 | fit_round 8: strategy sampled 3 clients (out of 10)\n",
            "DEBUG:flwr:fit_round 8: strategy sampled 3 clients (out of 10)\n",
            "\u001b[2m\u001b[36m(pid=37279)\u001b[0m 2023-06-10 05:32:22.819077: W tensorflow/compiler/tf2tensorrt/utils/py_utils.cc:38] TF-TRT Warning: Could not find TensorRT\n"
          ]
        },
        {
          "output_type": "stream",
          "name": "stdout",
          "text": [
            "\u001b[2m\u001b[36m(launch_and_fit pid=37279)\u001b[0m [Client 2, round 8] fit, config: {'server_round': 8, 'local_epochs': 2}\n",
            "\u001b[2m\u001b[36m(launch_and_fit pid=37279)\u001b[0m Epoch 1: train loss 0.06547441333532333, accuracy 0.19266666666666668\n",
            "\u001b[2m\u001b[36m(launch_and_fit pid=37279)\u001b[0m Epoch 2: train loss 0.05927007272839546, accuracy 0.2762222222222222\n"
          ]
        },
        {
          "output_type": "stream",
          "name": "stderr",
          "text": [
            "\u001b[2m\u001b[36m(pid=37403)\u001b[0m 2023-06-10 05:32:40.169675: W tensorflow/compiler/tf2tensorrt/utils/py_utils.cc:38] TF-TRT Warning: Could not find TensorRT\n"
          ]
        },
        {
          "output_type": "stream",
          "name": "stdout",
          "text": [
            "\u001b[2m\u001b[36m(launch_and_fit pid=37403)\u001b[0m [Client 7, round 8] fit, config: {'server_round': 8, 'local_epochs': 2}\n",
            "\u001b[2m\u001b[36m(launch_and_fit pid=37403)\u001b[0m Epoch 1: train loss 0.06454815715551376, accuracy 0.21533333333333332\n",
            "\u001b[2m\u001b[36m(launch_and_fit pid=37403)\u001b[0m Epoch 2: train loss 0.05631493777036667, accuracy 0.2922222222222222\n"
          ]
        },
        {
          "output_type": "stream",
          "name": "stderr",
          "text": [
            "\u001b[2m\u001b[36m(pid=37517)\u001b[0m 2023-06-10 05:32:57.197827: W tensorflow/compiler/tf2tensorrt/utils/py_utils.cc:38] TF-TRT Warning: Could not find TensorRT\n"
          ]
        },
        {
          "output_type": "stream",
          "name": "stdout",
          "text": [
            "\u001b[2m\u001b[36m(launch_and_fit pid=37517)\u001b[0m [Client 3, round 8] fit, config: {'server_round': 8, 'local_epochs': 2}\n",
            "\u001b[2m\u001b[36m(launch_and_fit pid=37517)\u001b[0m Epoch 1: train loss 0.06427356600761414, accuracy 0.21\n"
          ]
        },
        {
          "output_type": "stream",
          "name": "stderr",
          "text": [
            "DEBUG flwr 2023-06-10 05:33:12,303 | server.py:232 | fit_round 8 received 3 results and 0 failures\n",
            "DEBUG:flwr:fit_round 8 received 3 results and 0 failures\n"
          ]
        },
        {
          "output_type": "stream",
          "name": "stdout",
          "text": [
            "\u001b[2m\u001b[36m(launch_and_fit pid=37517)\u001b[0m Epoch 2: train loss 0.05698469281196594, accuracy 0.28644444444444445\n",
            "Server-side evaluation loss 0.0720823246717453 / accuracy 0.1\n"
          ]
        },
        {
          "output_type": "stream",
          "name": "stderr",
          "text": [
            "INFO flwr 2023-06-10 05:33:27,405 | server.py:119 | fit progress: (8, 0.07208232464790344, {'accuracy': 0.1}, 755.8621578940001)\n",
            "INFO:flwr:fit progress: (8, 0.07208232464790344, {'accuracy': 0.1}, 755.8621578940001)\n",
            "DEBUG flwr 2023-06-10 05:33:27,409 | server.py:168 | evaluate_round 8: strategy sampled 3 clients (out of 10)\n",
            "DEBUG:flwr:evaluate_round 8: strategy sampled 3 clients (out of 10)\n"
          ]
        },
        {
          "output_type": "stream",
          "name": "stdout",
          "text": [
            "Server-side evaluation loss 0.07208232464790344 / accuracy 0.1\n"
          ]
        },
        {
          "output_type": "stream",
          "name": "stderr",
          "text": [
            "\u001b[2m\u001b[36m(pid=37721)\u001b[0m 2023-06-10 05:33:33.502159: W tensorflow/compiler/tf2tensorrt/utils/py_utils.cc:38] TF-TRT Warning: Could not find TensorRT\n"
          ]
        },
        {
          "output_type": "stream",
          "name": "stdout",
          "text": [
            "\u001b[2m\u001b[36m(launch_and_evaluate pid=37721)\u001b[0m [Client 9] evaluate, config: {}\n"
          ]
        },
        {
          "output_type": "stream",
          "name": "stderr",
          "text": [
            "\u001b[2m\u001b[36m(pid=37794)\u001b[0m 2023-06-10 05:33:43.972626: W tensorflow/compiler/tf2tensorrt/utils/py_utils.cc:38] TF-TRT Warning: Could not find TensorRT\n"
          ]
        },
        {
          "output_type": "stream",
          "name": "stdout",
          "text": [
            "\u001b[2m\u001b[36m(launch_and_evaluate pid=37794)\u001b[0m [Client 2] evaluate, config: {}\n"
          ]
        },
        {
          "output_type": "stream",
          "name": "stderr",
          "text": [
            "\u001b[2m\u001b[36m(pid=37868)\u001b[0m 2023-06-10 05:33:51.717265: W tensorflow/compiler/tf2tensorrt/utils/py_utils.cc:38] TF-TRT Warning: Could not find TensorRT\n"
          ]
        },
        {
          "output_type": "stream",
          "name": "stdout",
          "text": [
            "\u001b[2m\u001b[36m(launch_and_evaluate pid=37868)\u001b[0m [Client 3] evaluate, config: {}\n"
          ]
        },
        {
          "output_type": "stream",
          "name": "stderr",
          "text": [
            "DEBUG flwr 2023-06-10 05:33:57,640 | server.py:182 | evaluate_round 8 received 3 results and 0 failures\n",
            "DEBUG:flwr:evaluate_round 8 received 3 results and 0 failures\n",
            "DEBUG flwr 2023-06-10 05:33:57,705 | server.py:218 | fit_round 9: strategy sampled 3 clients (out of 10)\n",
            "DEBUG:flwr:fit_round 9: strategy sampled 3 clients (out of 10)\n",
            "\u001b[2m\u001b[36m(pid=37963)\u001b[0m 2023-06-10 05:34:03.697285: W tensorflow/compiler/tf2tensorrt/utils/py_utils.cc:38] TF-TRT Warning: Could not find TensorRT\n"
          ]
        },
        {
          "output_type": "stream",
          "name": "stdout",
          "text": [
            "\u001b[2m\u001b[36m(launch_and_fit pid=37963)\u001b[0m [Client 7, round 9] fit, config: {'server_round': 9, 'local_epochs': 2}\n",
            "\u001b[2m\u001b[36m(launch_and_fit pid=37963)\u001b[0m Epoch 1: train loss 0.0660993680357933, accuracy 0.20377777777777778\n",
            "\u001b[2m\u001b[36m(launch_and_fit pid=37963)\u001b[0m Epoch 2: train loss 0.057175640016794205, accuracy 0.29088888888888886\n"
          ]
        },
        {
          "output_type": "stream",
          "name": "stderr",
          "text": [
            "\u001b[2m\u001b[36m(pid=38079)\u001b[0m 2023-06-10 05:34:22.059119: W tensorflow/compiler/tf2tensorrt/utils/py_utils.cc:38] TF-TRT Warning: Could not find TensorRT\n"
          ]
        },
        {
          "output_type": "stream",
          "name": "stdout",
          "text": [
            "\u001b[2m\u001b[36m(launch_and_fit pid=38079)\u001b[0m [Client 2, round 9] fit, config: {'server_round': 9, 'local_epochs': 2}\n",
            "\u001b[2m\u001b[36m(launch_and_fit pid=38079)\u001b[0m Epoch 1: train loss 0.06625300645828247, accuracy 0.18066666666666667\n",
            "\u001b[2m\u001b[36m(launch_and_fit pid=38079)\u001b[0m Epoch 2: train loss 0.05984744802117348, accuracy 0.258\n"
          ]
        },
        {
          "output_type": "stream",
          "name": "stderr",
          "text": [
            "\u001b[2m\u001b[36m(pid=38200)\u001b[0m 2023-06-10 05:34:42.253438: W tensorflow/compiler/tf2tensorrt/utils/py_utils.cc:38] TF-TRT Warning: Could not find TensorRT\n"
          ]
        },
        {
          "output_type": "stream",
          "name": "stdout",
          "text": [
            "\u001b[2m\u001b[36m(launch_and_fit pid=38200)\u001b[0m [Client 6, round 9] fit, config: {'server_round': 9, 'local_epochs': 2}\n",
            "\u001b[2m\u001b[36m(launch_and_fit pid=38200)\u001b[0m Epoch 1: train loss 0.06657491624355316, accuracy 0.18355555555555556\n"
          ]
        },
        {
          "output_type": "stream",
          "name": "stderr",
          "text": [
            "DEBUG flwr 2023-06-10 05:34:57,129 | server.py:232 | fit_round 9 received 3 results and 0 failures\n",
            "DEBUG:flwr:fit_round 9 received 3 results and 0 failures\n"
          ]
        },
        {
          "output_type": "stream",
          "name": "stdout",
          "text": [
            "\u001b[2m\u001b[36m(launch_and_fit pid=38200)\u001b[0m Epoch 2: train loss 0.05916443467140198, accuracy 0.24822222222222223\n",
            "Server-side evaluation loss 0.07208232464790344 / accuracy 0.1\n"
          ]
        },
        {
          "output_type": "stream",
          "name": "stderr",
          "text": [
            "INFO flwr 2023-06-10 05:35:11,498 | server.py:119 | fit progress: (9, 0.0720823251247406, {'accuracy': 0.1}, 859.9548089930004)\n",
            "INFO:flwr:fit progress: (9, 0.0720823251247406, {'accuracy': 0.1}, 859.9548089930004)\n",
            "DEBUG flwr 2023-06-10 05:35:11,507 | server.py:168 | evaluate_round 9: strategy sampled 3 clients (out of 10)\n",
            "DEBUG:flwr:evaluate_round 9: strategy sampled 3 clients (out of 10)\n"
          ]
        },
        {
          "output_type": "stream",
          "name": "stdout",
          "text": [
            "Server-side evaluation loss 0.0720823251247406 / accuracy 0.1\n"
          ]
        },
        {
          "output_type": "stream",
          "name": "stderr",
          "text": [
            "\u001b[2m\u001b[36m(pid=38412)\u001b[0m 2023-06-10 05:35:18.052929: W tensorflow/compiler/tf2tensorrt/utils/py_utils.cc:38] TF-TRT Warning: Could not find TensorRT\n"
          ]
        },
        {
          "output_type": "stream",
          "name": "stdout",
          "text": [
            "\u001b[2m\u001b[36m(launch_and_evaluate pid=38412)\u001b[0m [Client 3] evaluate, config: {}\n"
          ]
        },
        {
          "output_type": "stream",
          "name": "stderr",
          "text": [
            "\u001b[2m\u001b[36m(pid=38474)\u001b[0m 2023-06-10 05:35:26.682075: W tensorflow/compiler/tf2tensorrt/utils/py_utils.cc:38] TF-TRT Warning: Could not find TensorRT\n"
          ]
        },
        {
          "output_type": "stream",
          "name": "stdout",
          "text": [
            "\u001b[2m\u001b[36m(launch_and_evaluate pid=38474)\u001b[0m [Client 6] evaluate, config: {}\n"
          ]
        },
        {
          "output_type": "stream",
          "name": "stderr",
          "text": [
            "\u001b[2m\u001b[36m(pid=38547)\u001b[0m 2023-06-10 05:35:33.414203: W tensorflow/compiler/tf2tensorrt/utils/py_utils.cc:38] TF-TRT Warning: Could not find TensorRT\n"
          ]
        },
        {
          "output_type": "stream",
          "name": "stdout",
          "text": [
            "\u001b[2m\u001b[36m(launch_and_evaluate pid=38547)\u001b[0m [Client 1] evaluate, config: {}\n"
          ]
        },
        {
          "output_type": "stream",
          "name": "stderr",
          "text": [
            "DEBUG flwr 2023-06-10 05:35:37,908 | server.py:182 | evaluate_round 9 received 3 results and 0 failures\n",
            "DEBUG:flwr:evaluate_round 9 received 3 results and 0 failures\n",
            "DEBUG flwr 2023-06-10 05:35:37,977 | server.py:218 | fit_round 10: strategy sampled 3 clients (out of 10)\n",
            "DEBUG:flwr:fit_round 10: strategy sampled 3 clients (out of 10)\n",
            "\u001b[2m\u001b[36m(pid=38643)\u001b[0m 2023-06-10 05:35:46.490041: W tensorflow/compiler/tf2tensorrt/utils/py_utils.cc:38] TF-TRT Warning: Could not find TensorRT\n"
          ]
        },
        {
          "output_type": "stream",
          "name": "stdout",
          "text": [
            "\u001b[2m\u001b[36m(launch_and_fit pid=38643)\u001b[0m [Client 8, round 10] fit, config: {'server_round': 10, 'local_epochs': 2}\n",
            "\u001b[2m\u001b[36m(launch_and_fit pid=38643)\u001b[0m Epoch 1: train loss 0.06535694003105164, accuracy 0.19355555555555556\n",
            "\u001b[2m\u001b[36m(launch_and_fit pid=38643)\u001b[0m Epoch 2: train loss 0.06060831621289253, accuracy 0.24155555555555555\n"
          ]
        },
        {
          "output_type": "stream",
          "name": "stderr",
          "text": [
            "\u001b[2m\u001b[36m(pid=38753)\u001b[0m 2023-06-10 05:36:03.448330: W tensorflow/compiler/tf2tensorrt/utils/py_utils.cc:38] TF-TRT Warning: Could not find TensorRT\n"
          ]
        },
        {
          "output_type": "stream",
          "name": "stdout",
          "text": [
            "\u001b[2m\u001b[36m(launch_and_fit pid=38753)\u001b[0m [Client 7, round 10] fit, config: {'server_round': 10, 'local_epochs': 2}\n",
            "\u001b[2m\u001b[36m(launch_and_fit pid=38753)\u001b[0m Epoch 1: train loss 0.06671017408370972, accuracy 0.20355555555555555\n",
            "\u001b[2m\u001b[36m(launch_and_fit pid=38753)\u001b[0m Epoch 2: train loss 0.05706376954913139, accuracy 0.294\n"
          ]
        },
        {
          "output_type": "stream",
          "name": "stderr",
          "text": [
            "\u001b[2m\u001b[36m(pid=38864)\u001b[0m 2023-06-10 05:36:20.742190: W tensorflow/compiler/tf2tensorrt/utils/py_utils.cc:38] TF-TRT Warning: Could not find TensorRT\n"
          ]
        },
        {
          "output_type": "stream",
          "name": "stdout",
          "text": [
            "\u001b[2m\u001b[36m(launch_and_fit pid=38864)\u001b[0m [Client 3, round 10] fit, config: {'server_round': 10, 'local_epochs': 2}\n",
            "\u001b[2m\u001b[36m(launch_and_fit pid=38864)\u001b[0m Epoch 1: train loss 0.0655149444937706, accuracy 0.18044444444444444\n",
            "\u001b[2m\u001b[36m(launch_and_fit pid=38864)\u001b[0m Epoch 2: train loss 0.060776226222515106, accuracy 0.22577777777777777\n"
          ]
        },
        {
          "output_type": "stream",
          "name": "stderr",
          "text": [
            "DEBUG flwr 2023-06-10 05:36:36,443 | server.py:232 | fit_round 10 received 3 results and 0 failures\n",
            "DEBUG:flwr:fit_round 10 received 3 results and 0 failures\n"
          ]
        },
        {
          "output_type": "stream",
          "name": "stdout",
          "text": [
            "Server-side evaluation loss 0.0720823251247406 / accuracy 0.1\n"
          ]
        },
        {
          "output_type": "stream",
          "name": "stderr",
          "text": [
            "INFO flwr 2023-06-10 05:36:51,913 | server.py:119 | fit progress: (10, 0.07208232522010803, {'accuracy': 0.1}, 960.3703129269998)\n",
            "INFO:flwr:fit progress: (10, 0.07208232522010803, {'accuracy': 0.1}, 960.3703129269998)\n",
            "DEBUG flwr 2023-06-10 05:36:51,918 | server.py:168 | evaluate_round 10: strategy sampled 3 clients (out of 10)\n",
            "DEBUG:flwr:evaluate_round 10: strategy sampled 3 clients (out of 10)\n"
          ]
        },
        {
          "output_type": "stream",
          "name": "stdout",
          "text": [
            "Server-side evaluation loss 0.07208232522010803 / accuracy 0.1\n"
          ]
        },
        {
          "output_type": "stream",
          "name": "stderr",
          "text": [
            "\u001b[2m\u001b[36m(pid=39063)\u001b[0m 2023-06-10 05:37:00.252626: W tensorflow/compiler/tf2tensorrt/utils/py_utils.cc:38] TF-TRT Warning: Could not find TensorRT\n"
          ]
        },
        {
          "output_type": "stream",
          "name": "stdout",
          "text": [
            "\u001b[2m\u001b[36m(launch_and_evaluate pid=39063)\u001b[0m [Client 6] evaluate, config: {}\n"
          ]
        },
        {
          "output_type": "stream",
          "name": "stderr",
          "text": [
            "\u001b[2m\u001b[36m(pid=39135)\u001b[0m 2023-06-10 05:37:06.711996: W tensorflow/compiler/tf2tensorrt/utils/py_utils.cc:38] TF-TRT Warning: Could not find TensorRT\n"
          ]
        },
        {
          "output_type": "stream",
          "name": "stdout",
          "text": [
            "\u001b[2m\u001b[36m(launch_and_evaluate pid=39135)\u001b[0m [Client 0] evaluate, config: {}\n"
          ]
        },
        {
          "output_type": "stream",
          "name": "stderr",
          "text": [
            "\u001b[2m\u001b[36m(pid=39198)\u001b[0m 2023-06-10 05:37:14.859724: W tensorflow/compiler/tf2tensorrt/utils/py_utils.cc:38] TF-TRT Warning: Could not find TensorRT\n"
          ]
        },
        {
          "output_type": "stream",
          "name": "stdout",
          "text": [
            "\u001b[2m\u001b[36m(launch_and_evaluate pid=39198)\u001b[0m [Client 9] evaluate, config: {}\n"
          ]
        },
        {
          "output_type": "stream",
          "name": "stderr",
          "text": [
            "DEBUG flwr 2023-06-10 05:37:19,684 | server.py:182 | evaluate_round 10 received 3 results and 0 failures\n",
            "DEBUG:flwr:evaluate_round 10 received 3 results and 0 failures\n",
            "INFO flwr 2023-06-10 05:37:19,689 | server.py:147 | FL finished in 988.1454762120002\n",
            "INFO:flwr:FL finished in 988.1454762120002\n",
            "INFO flwr 2023-06-10 05:37:19,700 | app.py:218 | app_fit: losses_distributed [(1, 0.07369879515965778), (2, 0.07367929124832152), (3, 0.07369392855962119), (4, 0.07368517239888508), (5, 0.07367878675460816), (6, 0.07369879611333212), (7, 0.07367650779088337), (8, 0.07366254790623983), (9, 0.07369060309727987), (10, 0.0736981004079183)]\n",
            "INFO:flwr:app_fit: losses_distributed [(1, 0.07369879515965778), (2, 0.07367929124832152), (3, 0.07369392855962119), (4, 0.07368517239888508), (5, 0.07367878675460816), (6, 0.07369879611333212), (7, 0.07367650779088337), (8, 0.07366254790623983), (9, 0.07369060309727987), (10, 0.0736981004079183)]\n",
            "INFO flwr 2023-06-10 05:37:19,707 | app.py:219 | app_fit: metrics_distributed_fit {}\n",
            "INFO:flwr:app_fit: metrics_distributed_fit {}\n",
            "INFO flwr 2023-06-10 05:37:19,714 | app.py:220 | app_fit: metrics_distributed {'accuracy': [(1, 0.09866666666666668), (2, 0.09466666666666668), (3, 0.11333333333333334), (4, 0.10266666666666667), (5, 0.114), (6, 0.09866666666666667), (7, 0.09733333333333334), (8, 0.09733333333333334), (9, 0.10066666666666668), (10, 0.10666666666666667)]}\n",
            "INFO:flwr:app_fit: metrics_distributed {'accuracy': [(1, 0.09866666666666668), (2, 0.09466666666666668), (3, 0.11333333333333334), (4, 0.10266666666666667), (5, 0.114), (6, 0.09866666666666667), (7, 0.09733333333333334), (8, 0.09733333333333334), (9, 0.10066666666666668), (10, 0.10666666666666667)]}\n",
            "INFO flwr 2023-06-10 05:37:19,718 | app.py:221 | app_fit: losses_centralized [(0, 0.07208232378959656), (1, 0.07208232369422912), (2, 0.07208232350349426), (3, 0.07208232355117798), (4, 0.07208232336044311), (5, 0.07208232378959656), (6, 0.0720823239326477), (7, 0.0720823246717453), (8, 0.07208232464790344), (9, 0.0720823251247406), (10, 0.07208232522010803)]\n",
            "INFO:flwr:app_fit: losses_centralized [(0, 0.07208232378959656), (1, 0.07208232369422912), (2, 0.07208232350349426), (3, 0.07208232355117798), (4, 0.07208232336044311), (5, 0.07208232378959656), (6, 0.0720823239326477), (7, 0.0720823246717453), (8, 0.07208232464790344), (9, 0.0720823251247406), (10, 0.07208232522010803)]\n",
            "INFO flwr 2023-06-10 05:37:19,722 | app.py:222 | app_fit: metrics_centralized {'accuracy': [(0, 0.1), (1, 0.1), (2, 0.1), (3, 0.1), (4, 0.1), (5, 0.1), (6, 0.1), (7, 0.1), (8, 0.1), (9, 0.1), (10, 0.1)]}\n",
            "INFO:flwr:app_fit: metrics_centralized {'accuracy': [(0, 0.1), (1, 0.1), (2, 0.1), (3, 0.1), (4, 0.1), (5, 0.1), (6, 0.1), (7, 0.1), (8, 0.1), (9, 0.1), (10, 0.1)]}\n"
          ]
        }
      ]
    }
  ],
  "metadata": {
    "kernelspec": {
      "name": "python3",
      "language": "python",
      "display_name": "Python 3 (ipykernel)"
    },
    "language_info": {
      "codemirror_mode": {
        "name": "ipython",
        "version": 2
      },
      "file_extension": ".py",
      "mimetype": "text/x-python",
      "name": "python",
      "nbconvert_exporter": "python",
      "pygments_lexer": "ipython2",
      "version": "2.7.6"
    },
    "colab": {
      "provenance": [],
      "gpuType": "T4",
      "toc_visible": true
    },
    "accelerator": "GPU"
  },
  "nbformat": 4,
  "nbformat_minor": 0
}