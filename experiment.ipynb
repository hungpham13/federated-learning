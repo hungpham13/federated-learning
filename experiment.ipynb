{
 "cells": [
  {
   "cell_type": "code",
   "execution_count": 1,
   "outputs": [],
   "source": [
    "import flwr as fl\n",
    "from config import NUM_CLIENTS, DEVICE\n",
    "from model import Net, VGG16\n",
    "from main import simulate_cifar\n"
   ],
   "metadata": {
    "collapsed": false,
    "ExecuteTime": {
     "end_time": "2023-06-09T08:51:27.866560551Z",
     "start_time": "2023-06-09T08:51:26.691794711Z"
    }
   }
  },
  {
   "cell_type": "markdown",
   "source": [
    "## Centralize training"
   ],
   "metadata": {
    "collapsed": false
   }
  },
  {
   "cell_type": "code",
   "execution_count": null,
   "outputs": [
    {
     "name": "stdout",
     "output_type": "stream",
     "text": [
      "Files already downloaded and verified\n",
      "Files already downloaded and verified\n"
     ]
    }
   ],
   "source": [
    "from dataloader import load_cifars\n",
    "trainloaders, valloaders, testloader = load_cifars(1)\n",
    "\n",
    "trainloader = trainloaders[0]\n",
    "valloader = valloaders[0]\n",
    "net = VGG16().to(DEVICE)\n",
    "\n",
    "for epoch in range(10):\n",
    "    net.train_epoch(trainloader, 1)\n",
    "    loss, accuracy = net.test(valloader)\n",
    "    print(f\"Epoch {epoch+1}: validation loss {loss}, accuracy {accuracy}\")\n",
    "\n",
    "loss, accuracy = net.test(testloader)\n",
    "print(f\"Final test set performance:\\n\\tloss {loss}\\n\\taccuracy {accuracy}\")"
   ],
   "metadata": {
    "collapsed": false,
    "is_executing": true,
    "ExecuteTime": {
     "start_time": "2023-06-09T08:51:30.955817356Z"
    }
   }
  },
  {
   "cell_type": "markdown",
   "source": [
    "## Fed avg with parameter initialization"
   ],
   "metadata": {
    "collapsed": false
   }
  },
  {
   "cell_type": "code",
   "execution_count": 2,
   "metadata": {
    "collapsed": true,
    "ExecuteTime": {
     "end_time": "2023-06-09T08:26:17.444663733Z",
     "start_time": "2023-06-09T08:22:57.784685016Z"
    }
   },
   "outputs": [
    {
     "name": "stdout",
     "output_type": "stream",
     "text": [
      "Downloading https://www.cs.toronto.edu/~kriz/cifar-10-python.tar.gz to ./dataset/cifar-10-python.tar.gz\n"
     ]
    },
    {
     "name": "stderr",
     "output_type": "stream",
     "text": [
      "100.0%\n"
     ]
    },
    {
     "name": "stdout",
     "output_type": "stream",
     "text": [
      "Extracting ./dataset/cifar-10-python.tar.gz to ./dataset\n",
      "Files already downloaded and verified\n"
     ]
    },
    {
     "name": "stderr",
     "output_type": "stream",
     "text": [
      "INFO flwr 2023-06-09 15:26:02,678 | app.py:146 | Starting Flower simulation, config: ServerConfig(num_rounds=3, round_timeout=None)\n",
      "2023-06-09 15:26:04,451\tINFO worker.py:1636 -- Started a local Ray instance.\n",
      "INFO flwr 2023-06-09 15:26:05,169 | app.py:180 | Flower VCE: Ray initialized with resources: {'node:10.10.12.34': 1.0, 'CPU': 20.0, 'memory': 3932113307.0, 'object_store_memory': 1966056652.0}\n",
      "INFO flwr 2023-06-09 15:26:05,170 | server.py:86 | Initializing global parameters\n",
      "INFO flwr 2023-06-09 15:26:05,170 | server.py:269 | Using initial parameters provided by strategy\n",
      "INFO flwr 2023-06-09 15:26:05,171 | server.py:88 | Evaluating initial parameters\n",
      "INFO flwr 2023-06-09 15:26:05,171 | server.py:101 | FL starting\n",
      "DEBUG flwr 2023-06-09 15:26:05,172 | server.py:218 | fit_round 1: strategy sampled 3 clients (out of 10)\n"
     ]
    },
    {
     "name": "stdout",
     "output_type": "stream",
     "text": [
      "\u001B[2m\u001B[36m(launch_and_fit pid=27503)\u001B[0m [Client 8] fit, config: {}\n"
     ]
    },
    {
     "name": "stderr",
     "output_type": "stream",
     "text": [
      "DEBUG flwr 2023-06-09 15:26:08,641 | server.py:232 | fit_round 1 received 3 results and 0 failures\n",
      "WARNING flwr 2023-06-09 15:26:08,645 | fedavg.py:243 | No fit_metrics_aggregation_fn provided\n",
      "DEBUG flwr 2023-06-09 15:26:08,646 | server.py:168 | evaluate_round 1: strategy sampled 3 clients (out of 10)\n"
     ]
    },
    {
     "name": "stdout",
     "output_type": "stream",
     "text": [
      "\u001B[2m\u001B[36m(launch_and_fit pid=27503)\u001B[0m Epoch 1: train loss 0.06386269629001617, accuracy 0.24222222222222223\n"
     ]
    },
    {
     "name": "stderr",
     "output_type": "stream",
     "text": [
      "DEBUG flwr 2023-06-09 15:26:10,019 | server.py:182 | evaluate_round 1 received 3 results and 0 failures\n",
      "WARNING flwr 2023-06-09 15:26:10,020 | fedavg.py:274 | No evaluate_metrics_aggregation_fn provided\n",
      "DEBUG flwr 2023-06-09 15:26:10,020 | server.py:218 | fit_round 2: strategy sampled 3 clients (out of 10)\n"
     ]
    },
    {
     "name": "stdout",
     "output_type": "stream",
     "text": [
      "\u001B[2m\u001B[36m(launch_and_evaluate pid=27503)\u001B[0m [Client 4] evaluate, config: {}\n"
     ]
    },
    {
     "name": "stderr",
     "output_type": "stream",
     "text": [
      "DEBUG flwr 2023-06-09 15:26:12,370 | server.py:232 | fit_round 2 received 3 results and 0 failures\n",
      "DEBUG flwr 2023-06-09 15:26:12,373 | server.py:168 | evaluate_round 2: strategy sampled 3 clients (out of 10)\n",
      "DEBUG flwr 2023-06-09 15:26:13,730 | server.py:182 | evaluate_round 2 received 3 results and 0 failures\n",
      "DEBUG flwr 2023-06-09 15:26:13,730 | server.py:218 | fit_round 3: strategy sampled 3 clients (out of 10)\n"
     ]
    },
    {
     "name": "stdout",
     "output_type": "stream",
     "text": [
      "\u001B[2m\u001B[36m(launch_and_fit pid=27515)\u001B[0m [Client 8] fit, config: {}\u001B[32m [repeated 5x across cluster] (Ray deduplicates logs by default. Set RAY_DEDUP_LOGS=0 to disable log deduplication, or see https://docs.ray.io/en/master/ray-observability/ray-logging.html#log-deduplication for more options.)\u001B[0m\n",
      "\u001B[2m\u001B[36m(launch_and_fit pid=27515)\u001B[0m Epoch 1: train loss 0.05626053363084793, accuracy 0.3502222222222222\u001B[32m [repeated 5x across cluster]\u001B[0m\n",
      "\u001B[2m\u001B[36m(launch_and_evaluate pid=27515)\u001B[0m [Client 2] evaluate, config: {}\u001B[32m [repeated 5x across cluster]\u001B[0m\n"
     ]
    },
    {
     "name": "stderr",
     "output_type": "stream",
     "text": [
      "DEBUG flwr 2023-06-09 15:26:16,060 | server.py:232 | fit_round 3 received 3 results and 0 failures\n",
      "DEBUG flwr 2023-06-09 15:26:16,064 | server.py:168 | evaluate_round 3: strategy sampled 3 clients (out of 10)\n",
      "DEBUG flwr 2023-06-09 15:26:17,417 | server.py:182 | evaluate_round 3 received 3 results and 0 failures\n",
      "INFO flwr 2023-06-09 15:26:17,418 | server.py:147 | FL finished in 12.245921134002856\n",
      "INFO flwr 2023-06-09 15:26:17,418 | app.py:218 | app_fit: losses_distributed [(1, 0.06272608073552449), (2, 0.05484632889429728), (3, 0.051896585067113234)]\n",
      "INFO flwr 2023-06-09 15:26:17,419 | app.py:219 | app_fit: metrics_distributed_fit {}\n",
      "INFO flwr 2023-06-09 15:26:17,419 | app.py:220 | app_fit: metrics_distributed {}\n",
      "INFO flwr 2023-06-09 15:26:17,420 | app.py:221 | app_fit: losses_centralized []\n",
      "INFO flwr 2023-06-09 15:26:17,420 | app.py:222 | app_fit: metrics_centralized {}\n"
     ]
    }
   ],
   "source": [
    "from model import Net\n",
    "params = Net().get_parameters()\n",
    "\n",
    "# Pass parameters to the Strategy for server-side parameter initialization\n",
    "strategy = fl.server.strategy.FedAvg(\n",
    "    fraction_fit=0.3,\n",
    "    fraction_evaluate=0.3,\n",
    "    min_fit_clients=3,\n",
    "    min_evaluate_clients=3,\n",
    "    min_available_clients=NUM_CLIENTS,\n",
    "    initial_parameters=fl.common.ndarrays_to_parameters(params),\n",
    ")\n",
    "\n",
    "simulate_cifar(strategy)"
   ]
  }
 ],
 "metadata": {
  "kernelspec": {
   "display_name": "Python 3",
   "language": "python",
   "name": "python3"
  },
  "language_info": {
   "codemirror_mode": {
    "name": "ipython",
    "version": 2
   },
   "file_extension": ".py",
   "mimetype": "text/x-python",
   "name": "python",
   "nbconvert_exporter": "python",
   "pygments_lexer": "ipython2",
   "version": "2.7.6"
  }
 },
 "nbformat": 4,
 "nbformat_minor": 0
}
