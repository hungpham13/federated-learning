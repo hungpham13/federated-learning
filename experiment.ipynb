{
 "cells": [
  {
   "cell_type": "code",
   "source": [
    "!git clone https://github.com/hungpham13/federated-learning\n",
    "%cd federated-learning\n",
    "!pip install -q -r requirements.txt"
   ],
   "metadata": {
    "id": "FZiHJrmlZRnL",
    "outputId": "0aced70e-405e-424d-c7a2-bd0552dd7344",
    "colab": {
     "base_uri": "https://localhost:8080/"
    }
   },
   "execution_count": 1,
   "outputs": [
    {
     "output_type": "stream",
     "name": "stdout",
     "text": [
      "Cloning into 'federated-learning'...\n",
      "remote: Enumerating objects: 24, done.\u001B[K\n",
      "remote: Counting objects: 100% (24/24), done.\u001B[K\n",
      "remote: Compressing objects: 100% (15/15), done.\u001B[K\n",
      "remote: Total 24 (delta 9), reused 23 (delta 8), pack-reused 0\u001B[K\n",
      "Unpacking objects: 100% (24/24), 12.16 KiB | 1.35 MiB/s, done.\n",
      "/content/federated-learning\n",
      "\u001B[2K     \u001B[90m━━━━━━━━━━━━━━━━━━━━━━━━━━━━━━━━━━━━━━━\u001B[0m \u001B[32m157.2/157.2 kB\u001B[0m \u001B[31m8.7 MB/s\u001B[0m eta \u001B[36m0:00:00\u001B[0m\n",
      "\u001B[2K     \u001B[90m━━━━━━━━━━━━━━━━━━━━━━━━━━━━━━━━━━━━━━━━\u001B[0m \u001B[32m56.2/56.2 MB\u001B[0m \u001B[31m17.8 MB/s\u001B[0m eta \u001B[36m0:00:00\u001B[0m\n",
      "\u001B[2K     \u001B[90m━━━━━━━━━━━━━━━━━━━━━━━━━━━━━━━━━━━━━━\u001B[0m \u001B[32m149.6/149.6 kB\u001B[0m \u001B[31m16.9 MB/s\u001B[0m eta \u001B[36m0:00:00\u001B[0m\n",
      "\u001B[2K     \u001B[90m━━━━━━━━━━━━━━━━━━━━━━━━━━━━━━━━━━━━━━━━\u001B[0m \u001B[32m4.8/4.8 MB\u001B[0m \u001B[31m100.3 MB/s\u001B[0m eta \u001B[36m0:00:00\u001B[0m\n",
      "\u001B[2K     \u001B[90m━━━━━━━━━━━━━━━━━━━━━━━━━━━━━━━━━━━━━━━━\u001B[0m \u001B[32m1.0/1.0 MB\u001B[0m \u001B[31m71.9 MB/s\u001B[0m eta \u001B[36m0:00:00\u001B[0m\n",
      "\u001B[2K     \u001B[90m━━━━━━━━━━━━━━━━━━━━━━━━━━━━━━━━━━━━━━\u001B[0m \u001B[32m201.4/201.4 kB\u001B[0m \u001B[31m23.0 MB/s\u001B[0m eta \u001B[36m0:00:00\u001B[0m\n",
      "\u001B[2K     \u001B[90m━━━━━━━━━━━━━━━━━━━━━━━━━━━━━━━━━━━━━━━━\u001B[0m \u001B[32m3.0/3.0 MB\u001B[0m \u001B[31m108.4 MB/s\u001B[0m eta \u001B[36m0:00:00\u001B[0m\n",
      "\u001B[2K     \u001B[90m━━━━━━━━━━━━━━━━━━━━━━━━━━━━━━━━━━━━━━━━\u001B[0m \u001B[32m97.9/97.9 kB\u001B[0m \u001B[31m11.8 MB/s\u001B[0m eta \u001B[36m0:00:00\u001B[0m\n",
      "\u001B[?25h  Installing build dependencies ... \u001B[?25l\u001B[?25hdone\n",
      "  Getting requirements to build wheel ... \u001B[?25l\u001B[?25hdone\n",
      "  Preparing metadata (pyproject.toml) ... \u001B[?25l\u001B[?25hdone\n",
      "\u001B[2K     \u001B[90m━━━━━━━━━━━━━━━━━━━━━━━━━━━━━━━━━━━━━━\u001B[0m \u001B[32m128.2/128.2 kB\u001B[0m \u001B[31m13.6 MB/s\u001B[0m eta \u001B[36m0:00:00\u001B[0m\n",
      "\u001B[2K     \u001B[90m━━━━━━━━━━━━━━━━━━━━━━━━━━━━━━━━━━━━━━━━\u001B[0m \u001B[32m8.7/8.7 MB\u001B[0m \u001B[31m55.7 MB/s\u001B[0m eta \u001B[36m0:00:00\u001B[0m\n",
      "\u001B[2K     \u001B[90m━━━━━━━━━━━━━━━━━━━━━━━━━━━━━━━━━━━━━━\u001B[0m \u001B[32m114.5/114.5 kB\u001B[0m \u001B[31m14.6 MB/s\u001B[0m eta \u001B[36m0:00:00\u001B[0m\n",
      "\u001B[2K     \u001B[90m━━━━━━━━━━━━━━━━━━━━━━━━━━━━━━━━━━━━━━\u001B[0m \u001B[32m268.8/268.8 kB\u001B[0m \u001B[31m30.0 MB/s\u001B[0m eta \u001B[36m0:00:00\u001B[0m\n",
      "\u001B[2K     \u001B[90m━━━━━━━━━━━━━━━━━━━━━━━━━━━━━━━━━━━━━━━━\u001B[0m \u001B[32m58.4/58.4 kB\u001B[0m \u001B[31m7.5 MB/s\u001B[0m eta \u001B[36m0:00:00\u001B[0m\n",
      "\u001B[2K     \u001B[90m━━━━━━━━━━━━━━━━━━━━━━━━━━━━━━━━━━━━━━\u001B[0m \u001B[32m468.5/468.5 kB\u001B[0m \u001B[31m46.5 MB/s\u001B[0m eta \u001B[36m0:00:00\u001B[0m\n",
      "\u001B[?25h  Building wheel for gpustat (pyproject.toml) ... \u001B[?25l\u001B[?25hdone\n"
     ]
    }
   ]
  },
  {
   "cell_type": "code",
   "execution_count": 2,
   "outputs": [],
   "source": [
    "import flwr as fl\n",
    "from config import NUM_CLIENTS, DEVICE\n",
    "from model import Net, VGG16\n",
    "from main import simulate_cifar"
   ],
   "metadata": {
    "ExecuteTime": {
     "end_time": "2023-06-09T08:51:27.866560551Z",
     "start_time": "2023-06-09T08:51:26.691794711Z"
    },
    "id": "VfR1zT4bZQiS"
   }
  },
  {
   "cell_type": "markdown",
   "source": [
    "## Centralize training"
   ],
   "metadata": {
    "collapsed": false,
    "id": "YKzqmTKyZQiV"
   }
  },
  {
   "cell_type": "code",
   "execution_count": 3,
   "outputs": [
    {
     "output_type": "stream",
     "name": "stdout",
     "text": [
      "Files already downloaded and verified\n",
      "Files already downloaded and verified\n",
      "Epoch 1: train loss 0.05028054490685463, accuracy 0.3868888888888889\n",
      "Epoch 1: validation loss 0.04147230490446091, accuracy 0.5456\n",
      "Epoch 1: train loss 0.033639177680015564, accuracy 0.6148\n",
      "Epoch 2: validation loss 0.026561914348602295, accuracy 0.7034\n",
      "Epoch 1: train loss 0.02576061710715294, accuracy 0.7148666666666667\n",
      "Epoch 3: validation loss 0.02317628452181816, accuracy 0.744\n",
      "Epoch 1: train loss 0.020628293976187706, accuracy 0.7752222222222223\n",
      "Epoch 4: validation loss 0.021399199867248534, accuracy 0.771\n",
      "Epoch 1: train loss 0.017199356108903885, accuracy 0.8127111111111112\n",
      "Epoch 5: validation loss 0.01969984709620476, accuracy 0.7902\n",
      "Epoch 1: train loss 0.0143361184746027, accuracy 0.8449333333333333\n",
      "Epoch 6: validation loss 0.019189575929939747, accuracy 0.8004\n",
      "Epoch 1: train loss 0.012040548026561737, accuracy 0.8689333333333333\n",
      "Epoch 7: validation loss 0.017127903091907502, accuracy 0.8216\n",
      "Epoch 1: train loss 0.009953178465366364, accuracy 0.8913333333333333\n",
      "Epoch 8: validation loss 0.017258387091755867, accuracy 0.8198\n",
      "Epoch 1: train loss 0.008150538429617882, accuracy 0.9125555555555556\n",
      "Epoch 9: validation loss 0.014826430508494377, accuracy 0.8448\n",
      "Epoch 1: train loss 0.006748498417437077, accuracy 0.9256888888888889\n",
      "Epoch 10: validation loss 0.015210123881697655, accuracy 0.8524\n",
      "Final test set performance:\n",
      "\tloss 0.01566056731212884\n",
      "\taccuracy 0.8523\n"
     ]
    }
   ],
   "source": [
    "from dataloader import load_cifars\n",
    "trainloaders, valloaders, testloader = load_cifars(1)\n",
    "\n",
    "trainloader = trainloaders[0]\n",
    "valloader = valloaders[0]\n",
    "net = VGG16().to(DEVICE)\n",
    "\n",
    "for epoch in range(10):\n",
    "    net.train_epoch(trainloader, 1)\n",
    "    loss, accuracy = net.test(valloader)\n",
    "    print(f\"Epoch {epoch+1}: validation loss {loss}, accuracy {accuracy}\")\n",
    "\n",
    "loss, accuracy = net.test(testloader)\n",
    "print(f\"Final test set performance:\\n\\tloss {loss}\\n\\taccuracy {accuracy}\")"
   ],
   "metadata": {
    "is_executing": true,
    "ExecuteTime": {
     "start_time": "2023-06-09T08:51:30.955817356Z"
    },
    "id": "fpc_B9ljZQiW",
    "outputId": "de06f3b3-222f-41a6-eacd-4a2705a4ba96",
    "colab": {
     "base_uri": "https://localhost:8080/"
    }
   }
  },
  {
   "cell_type": "markdown",
   "source": [
    "## Fed avg with parameter initialization"
   ],
   "metadata": {
    "collapsed": false,
    "id": "lc0C7BXjZQiX"
   }
  },
  {
   "cell_type": "code",
   "execution_count": 4,
   "metadata": {
    "collapsed": true,
    "ExecuteTime": {
     "end_time": "2023-06-09T08:26:17.444663733Z",
     "start_time": "2023-06-09T08:22:57.784685016Z"
    },
    "colab": {
     "base_uri": "https://localhost:8080/"
    },
    "id": "OjgYUP_RZQiX",
    "outputId": "8a82fafa-47ac-420c-e238-599cafcd4d17"
   },
   "outputs": [
    {
     "output_type": "stream",
     "name": "stdout",
     "text": [
      "Downloading https://www.cs.toronto.edu/~kriz/cifar-10-python.tar.gz to ./dataset/cifar-10-python.tar.gz\n"
     ]
    },
    {
     "output_type": "stream",
     "name": "stderr",
     "text": [
      "100%|██████████| 170498071/170498071 [00:05<00:00, 29880642.23it/s]\n"
     ]
    },
    {
     "output_type": "stream",
     "name": "stdout",
     "text": [
      "Extracting ./dataset/cifar-10-python.tar.gz to ./dataset\n",
      "Files already downloaded and verified\n"
     ]
    },
    {
     "output_type": "stream",
     "name": "stderr",
     "text": [
      "INFO flwr 2023-06-09 10:44:01,919 | app.py:146 | Starting Flower simulation, config: ServerConfig(num_rounds=3, round_timeout=None)\n",
      "INFO:flwr:Starting Flower simulation, config: ServerConfig(num_rounds=3, round_timeout=None)\n",
      "2023-06-09 10:44:04,573\tINFO worker.py:1636 -- Started a local Ray instance.\n",
      "INFO flwr 2023-06-09 10:44:06,878 | app.py:180 | Flower VCE: Ray initialized with resources: {'GPU': 1.0, 'node:172.28.0.12': 1.0, 'CPU': 2.0, 'memory': 7852297422.0, 'object_store_memory': 3926148710.0}\n",
      "INFO:flwr:Flower VCE: Ray initialized with resources: {'GPU': 1.0, 'node:172.28.0.12': 1.0, 'CPU': 2.0, 'memory': 7852297422.0, 'object_store_memory': 3926148710.0}\n",
      "INFO flwr 2023-06-09 10:44:06,886 | server.py:86 | Initializing global parameters\n",
      "INFO:flwr:Initializing global parameters\n",
      "INFO flwr 2023-06-09 10:44:06,892 | server.py:269 | Using initial parameters provided by strategy\n",
      "INFO:flwr:Using initial parameters provided by strategy\n",
      "INFO flwr 2023-06-09 10:44:06,896 | server.py:88 | Evaluating initial parameters\n",
      "INFO:flwr:Evaluating initial parameters\n",
      "INFO flwr 2023-06-09 10:44:06,902 | server.py:101 | FL starting\n",
      "INFO:flwr:FL starting\n",
      "DEBUG flwr 2023-06-09 10:44:06,904 | server.py:218 | fit_round 1: strategy sampled 3 clients (out of 10)\n",
      "DEBUG:flwr:fit_round 1: strategy sampled 3 clients (out of 10)\n",
      "\u001B[2m\u001B[36m(pid=1999)\u001B[0m 2023-06-09 10:44:13.152670: W tensorflow/compiler/tf2tensorrt/utils/py_utils.cc:38] TF-TRT Warning: Could not find TensorRT\n"
     ]
    },
    {
     "output_type": "stream",
     "name": "stdout",
     "text": [
      "\u001B[2m\u001B[36m(launch_and_fit pid=1999)\u001B[0m [Client 0] fit, config: {}\n",
      "\u001B[2m\u001B[36m(launch_and_fit pid=1999)\u001B[0m Epoch 1: train loss 0.06678900867700577, accuracy 0.1837777777777778\n"
     ]
    },
    {
     "output_type": "stream",
     "name": "stderr",
     "text": [
      "\u001B[2m\u001B[36m(pid=2089)\u001B[0m 2023-06-09 10:44:25.237307: W tensorflow/compiler/tf2tensorrt/utils/py_utils.cc:38] TF-TRT Warning: Could not find TensorRT\n"
     ]
    },
    {
     "output_type": "stream",
     "name": "stdout",
     "text": [
      "\u001B[2m\u001B[36m(launch_and_fit pid=2089)\u001B[0m [Client 1] fit, config: {}\n",
      "\u001B[2m\u001B[36m(launch_and_fit pid=2089)\u001B[0m Epoch 1: train loss 0.06836343556642532, accuracy 0.17333333333333334\n"
     ]
    },
    {
     "output_type": "stream",
     "name": "stderr",
     "text": [
      "\u001B[2m\u001B[36m(pid=2174)\u001B[0m 2023-06-09 10:44:36.938965: W tensorflow/compiler/tf2tensorrt/utils/py_utils.cc:38] TF-TRT Warning: Could not find TensorRT\n"
     ]
    },
    {
     "output_type": "stream",
     "name": "stdout",
     "text": [
      "\u001B[2m\u001B[36m(launch_and_fit pid=2174)\u001B[0m [Client 2] fit, config: {}\n"
     ]
    },
    {
     "output_type": "stream",
     "name": "stderr",
     "text": [
      "DEBUG flwr 2023-06-09 10:44:46,699 | server.py:232 | fit_round 1 received 3 results and 0 failures\n",
      "DEBUG:flwr:fit_round 1 received 3 results and 0 failures\n"
     ]
    },
    {
     "output_type": "stream",
     "name": "stdout",
     "text": [
      "\u001B[2m\u001B[36m(launch_and_fit pid=2174)\u001B[0m Epoch 1: train loss 0.06741145253181458, accuracy 0.19266666666666668\n"
     ]
    },
    {
     "output_type": "stream",
     "name": "stderr",
     "text": [
      "WARNING flwr 2023-06-09 10:44:46,974 | fedavg.py:243 | No fit_metrics_aggregation_fn provided\n",
      "WARNING:flwr:No fit_metrics_aggregation_fn provided\n",
      "DEBUG flwr 2023-06-09 10:44:46,979 | server.py:168 | evaluate_round 1: strategy sampled 3 clients (out of 10)\n",
      "DEBUG:flwr:evaluate_round 1: strategy sampled 3 clients (out of 10)\n",
      "\u001B[2m\u001B[36m(pid=2286)\u001B[0m 2023-06-09 10:44:54.521853: W tensorflow/compiler/tf2tensorrt/utils/py_utils.cc:38] TF-TRT Warning: Could not find TensorRT\n"
     ]
    },
    {
     "output_type": "stream",
     "name": "stdout",
     "text": [
      "\u001B[2m\u001B[36m(launch_and_evaluate pid=2286)\u001B[0m [Client 1] evaluate, config: {}\n"
     ]
    },
    {
     "output_type": "stream",
     "name": "stderr",
     "text": [
      "\u001B[2m\u001B[36m(pid=2350)\u001B[0m 2023-06-09 10:45:00.330317: W tensorflow/compiler/tf2tensorrt/utils/py_utils.cc:38] TF-TRT Warning: Could not find TensorRT\n"
     ]
    },
    {
     "output_type": "stream",
     "name": "stdout",
     "text": [
      "\u001B[2m\u001B[36m(launch_and_evaluate pid=2350)\u001B[0m [Client 6] evaluate, config: {}\n"
     ]
    },
    {
     "output_type": "stream",
     "name": "stderr",
     "text": [
      "\u001B[2m\u001B[36m(pid=2413)\u001B[0m 2023-06-09 10:45:07.710175: W tensorflow/compiler/tf2tensorrt/utils/py_utils.cc:38] TF-TRT Warning: Could not find TensorRT\n"
     ]
    },
    {
     "output_type": "stream",
     "name": "stdout",
     "text": [
      "\u001B[2m\u001B[36m(launch_and_evaluate pid=2413)\u001B[0m [Client 3] evaluate, config: {}\n"
     ]
    },
    {
     "output_type": "stream",
     "name": "stderr",
     "text": [
      "DEBUG flwr 2023-06-09 10:45:12,527 | server.py:182 | evaluate_round 1 received 3 results and 0 failures\n",
      "DEBUG:flwr:evaluate_round 1 received 3 results and 0 failures\n",
      "WARNING flwr 2023-06-09 10:45:12,532 | fedavg.py:274 | No evaluate_metrics_aggregation_fn provided\n",
      "WARNING:flwr:No evaluate_metrics_aggregation_fn provided\n",
      "DEBUG flwr 2023-06-09 10:45:12,537 | server.py:218 | fit_round 2: strategy sampled 3 clients (out of 10)\n",
      "DEBUG:flwr:fit_round 2: strategy sampled 3 clients (out of 10)\n",
      "\u001B[2m\u001B[36m(pid=2501)\u001B[0m 2023-06-09 10:45:17.726852: W tensorflow/compiler/tf2tensorrt/utils/py_utils.cc:38] TF-TRT Warning: Could not find TensorRT\n"
     ]
    },
    {
     "output_type": "stream",
     "name": "stdout",
     "text": [
      "\u001B[2m\u001B[36m(launch_and_fit pid=2501)\u001B[0m [Client 2] fit, config: {}\n",
      "\u001B[2m\u001B[36m(launch_and_fit pid=2501)\u001B[0m Epoch 1: train loss 0.0648851990699768, accuracy 0.20044444444444445\n"
     ]
    },
    {
     "output_type": "stream",
     "name": "stderr",
     "text": [
      "\u001B[2m\u001B[36m(pid=2586)\u001B[0m 2023-06-09 10:45:29.520239: W tensorflow/compiler/tf2tensorrt/utils/py_utils.cc:38] TF-TRT Warning: Could not find TensorRT\n"
     ]
    },
    {
     "output_type": "stream",
     "name": "stdout",
     "text": [
      "\u001B[2m\u001B[36m(launch_and_fit pid=2586)\u001B[0m [Client 7] fit, config: {}\n",
      "\u001B[2m\u001B[36m(launch_and_fit pid=2586)\u001B[0m Epoch 1: train loss 0.0670260414481163, accuracy 0.1797777777777778\n"
     ]
    },
    {
     "output_type": "stream",
     "name": "stderr",
     "text": [
      "\u001B[2m\u001B[36m(pid=2676)\u001B[0m 2023-06-09 10:45:41.058984: W tensorflow/compiler/tf2tensorrt/utils/py_utils.cc:38] TF-TRT Warning: Could not find TensorRT\n"
     ]
    },
    {
     "output_type": "stream",
     "name": "stdout",
     "text": [
      "\u001B[2m\u001B[36m(launch_and_fit pid=2676)\u001B[0m [Client 3] fit, config: {}\n",
      "\u001B[2m\u001B[36m(launch_and_fit pid=2676)\u001B[0m Epoch 1: train loss 0.06532695144414902, accuracy 0.1922222222222222\n"
     ]
    },
    {
     "output_type": "stream",
     "name": "stderr",
     "text": [
      "DEBUG flwr 2023-06-09 10:45:50,160 | server.py:232 | fit_round 2 received 3 results and 0 failures\n",
      "DEBUG:flwr:fit_round 2 received 3 results and 0 failures\n",
      "DEBUG flwr 2023-06-09 10:45:50,401 | server.py:168 | evaluate_round 2: strategy sampled 3 clients (out of 10)\n",
      "DEBUG:flwr:evaluate_round 2: strategy sampled 3 clients (out of 10)\n",
      "\u001B[2m\u001B[36m(pid=2783)\u001B[0m 2023-06-09 10:45:57.318800: W tensorflow/compiler/tf2tensorrt/utils/py_utils.cc:38] TF-TRT Warning: Could not find TensorRT\n"
     ]
    },
    {
     "output_type": "stream",
     "name": "stdout",
     "text": [
      "\u001B[2m\u001B[36m(launch_and_evaluate pid=2783)\u001B[0m [Client 9] evaluate, config: {}\n"
     ]
    },
    {
     "output_type": "stream",
     "name": "stderr",
     "text": [
      "\u001B[2m\u001B[36m(pid=2845)\u001B[0m 2023-06-09 10:46:03.402588: W tensorflow/compiler/tf2tensorrt/utils/py_utils.cc:38] TF-TRT Warning: Could not find TensorRT\n"
     ]
    },
    {
     "output_type": "stream",
     "name": "stdout",
     "text": [
      "\u001B[2m\u001B[36m(launch_and_evaluate pid=2845)\u001B[0m [Client 6] evaluate, config: {}\n"
     ]
    },
    {
     "output_type": "stream",
     "name": "stderr",
     "text": [
      "\u001B[2m\u001B[36m(pid=2909)\u001B[0m 2023-06-09 10:46:11.066593: W tensorflow/compiler/tf2tensorrt/utils/py_utils.cc:38] TF-TRT Warning: Could not find TensorRT\n"
     ]
    },
    {
     "output_type": "stream",
     "name": "stdout",
     "text": [
      "\u001B[2m\u001B[36m(launch_and_evaluate pid=2909)\u001B[0m [Client 3] evaluate, config: {}\n"
     ]
    },
    {
     "output_type": "stream",
     "name": "stderr",
     "text": [
      "DEBUG flwr 2023-06-09 10:46:15,306 | server.py:182 | evaluate_round 2 received 3 results and 0 failures\n",
      "DEBUG:flwr:evaluate_round 2 received 3 results and 0 failures\n",
      "DEBUG flwr 2023-06-09 10:46:15,309 | server.py:218 | fit_round 3: strategy sampled 3 clients (out of 10)\n",
      "DEBUG:flwr:fit_round 3: strategy sampled 3 clients (out of 10)\n",
      "\u001B[2m\u001B[36m(pid=2989)\u001B[0m 2023-06-09 10:46:21.370393: W tensorflow/compiler/tf2tensorrt/utils/py_utils.cc:38] TF-TRT Warning: Could not find TensorRT\n"
     ]
    },
    {
     "output_type": "stream",
     "name": "stdout",
     "text": [
      "\u001B[2m\u001B[36m(launch_and_fit pid=2989)\u001B[0m [Client 9] fit, config: {}\n",
      "\u001B[2m\u001B[36m(launch_and_fit pid=2989)\u001B[0m Epoch 1: train loss 0.06261857599020004, accuracy 0.21688888888888888\n"
     ]
    },
    {
     "output_type": "stream",
     "name": "stderr",
     "text": [
      "\u001B[2m\u001B[36m(pid=3083)\u001B[0m 2023-06-09 10:46:33.943247: W tensorflow/compiler/tf2tensorrt/utils/py_utils.cc:38] TF-TRT Warning: Could not find TensorRT\n"
     ]
    },
    {
     "output_type": "stream",
     "name": "stdout",
     "text": [
      "\u001B[2m\u001B[36m(launch_and_fit pid=3083)\u001B[0m [Client 7] fit, config: {}\n",
      "\u001B[2m\u001B[36m(launch_and_fit pid=3083)\u001B[0m Epoch 1: train loss 0.06251955032348633, accuracy 0.20555555555555555\n"
     ]
    },
    {
     "output_type": "stream",
     "name": "stderr",
     "text": [
      "\u001B[2m\u001B[36m(pid=3175)\u001B[0m 2023-06-09 10:46:46.268982: W tensorflow/compiler/tf2tensorrt/utils/py_utils.cc:38] TF-TRT Warning: Could not find TensorRT\n"
     ]
    },
    {
     "output_type": "stream",
     "name": "stdout",
     "text": [
      "\u001B[2m\u001B[36m(launch_and_fit pid=3175)\u001B[0m [Client 8] fit, config: {}\n"
     ]
    },
    {
     "output_type": "stream",
     "name": "stderr",
     "text": [
      "DEBUG flwr 2023-06-09 10:46:56,034 | server.py:232 | fit_round 3 received 3 results and 0 failures\n",
      "DEBUG:flwr:fit_round 3 received 3 results and 0 failures\n"
     ]
    },
    {
     "output_type": "stream",
     "name": "stdout",
     "text": [
      "\u001B[2m\u001B[36m(launch_and_fit pid=3175)\u001B[0m Epoch 1: train loss 0.06346079707145691, accuracy 0.20466666666666666\n"
     ]
    },
    {
     "output_type": "stream",
     "name": "stderr",
     "text": [
      "DEBUG flwr 2023-06-09 10:46:56,233 | server.py:168 | evaluate_round 3: strategy sampled 3 clients (out of 10)\n",
      "DEBUG:flwr:evaluate_round 3: strategy sampled 3 clients (out of 10)\n",
      "\u001B[2m\u001B[36m(pid=3280)\u001B[0m 2023-06-09 10:47:01.586630: W tensorflow/compiler/tf2tensorrt/utils/py_utils.cc:38] TF-TRT Warning: Could not find TensorRT\n"
     ]
    },
    {
     "output_type": "stream",
     "name": "stdout",
     "text": [
      "\u001B[2m\u001B[36m(launch_and_evaluate pid=3280)\u001B[0m [Client 0] evaluate, config: {}\n"
     ]
    },
    {
     "output_type": "stream",
     "name": "stderr",
     "text": [
      "\u001B[2m\u001B[36m(pid=3344)\u001B[0m 2023-06-09 10:47:09.666502: W tensorflow/compiler/tf2tensorrt/utils/py_utils.cc:38] TF-TRT Warning: Could not find TensorRT\n"
     ]
    },
    {
     "output_type": "stream",
     "name": "stdout",
     "text": [
      "\u001B[2m\u001B[36m(launch_and_evaluate pid=3344)\u001B[0m [Client 9] evaluate, config: {}\n"
     ]
    },
    {
     "output_type": "stream",
     "name": "stderr",
     "text": [
      "\u001B[2m\u001B[36m(pid=3413)\u001B[0m 2023-06-09 10:47:16.307541: W tensorflow/compiler/tf2tensorrt/utils/py_utils.cc:38] TF-TRT Warning: Could not find TensorRT\n"
     ]
    },
    {
     "output_type": "stream",
     "name": "stdout",
     "text": [
      "\u001B[2m\u001B[36m(launch_and_evaluate pid=3413)\u001B[0m [Client 3] evaluate, config: {}\n"
     ]
    },
    {
     "output_type": "stream",
     "name": "stderr",
     "text": [
      "DEBUG flwr 2023-06-09 10:47:20,602 | server.py:182 | evaluate_round 3 received 3 results and 0 failures\n",
      "DEBUG:flwr:evaluate_round 3 received 3 results and 0 failures\n",
      "INFO flwr 2023-06-09 10:47:20,607 | server.py:147 | FL finished in 193.70295236199996\n",
      "INFO:flwr:FL finished in 193.70295236199996\n",
      "INFO flwr 2023-06-09 10:47:20,616 | app.py:218 | app_fit: losses_distributed [(1, 0.07478333473205566), (2, 0.07689199527104695), (3, 0.061256792783737184)]\n",
      "INFO:flwr:app_fit: losses_distributed [(1, 0.07478333473205566), (2, 0.07689199527104695), (3, 0.061256792783737184)]\n",
      "INFO flwr 2023-06-09 10:47:20,620 | app.py:219 | app_fit: metrics_distributed_fit {}\n",
      "INFO:flwr:app_fit: metrics_distributed_fit {}\n",
      "INFO flwr 2023-06-09 10:47:20,622 | app.py:220 | app_fit: metrics_distributed {}\n",
      "INFO:flwr:app_fit: metrics_distributed {}\n",
      "INFO flwr 2023-06-09 10:47:20,624 | app.py:221 | app_fit: losses_centralized []\n",
      "INFO:flwr:app_fit: losses_centralized []\n",
      "INFO flwr 2023-06-09 10:47:20,626 | app.py:222 | app_fit: metrics_centralized {}\n",
      "INFO:flwr:app_fit: metrics_centralized {}\n"
     ]
    }
   ],
   "source": [
    "net = VGG16().to(DEVICE)\n",
    "params = net.get_parameters()\n",
    "\n",
    "# Pass parameters to the Strategy for server-side parameter initialization\n",
    "strategy = fl.server.strategy.FedAvg(\n",
    "    fraction_fit=0.3,\n",
    "    fraction_evaluate=0.3,\n",
    "    min_fit_clients=3,\n",
    "    min_evaluate_clients=3,\n",
    "    min_available_clients=NUM_CLIENTS,\n",
    "    initial_parameters=fl.common.ndarrays_to_parameters(params),\n",
    ")\n",
    "\n",
    "simulate_cifar(strategy, net)"
   ]
  }
 ],
 "metadata": {
  "kernelspec": {
   "display_name": "Python 3",
   "name": "python3"
  },
  "language_info": {
   "codemirror_mode": {
    "name": "ipython",
    "version": 2
   },
   "file_extension": ".py",
   "mimetype": "text/x-python",
   "name": "python",
   "nbconvert_exporter": "python",
   "pygments_lexer": "ipython2",
   "version": "2.7.6"
  },
  "colab": {
   "provenance": [],
   "gpuType": "T4"
  },
  "accelerator": "GPU"
 },
 "nbformat": 4,
 "nbformat_minor": 0
}
