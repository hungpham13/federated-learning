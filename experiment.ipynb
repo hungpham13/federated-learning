{
 "cells": [
  {
   "cell_type": "code",
   "source": [
    "!git clone https://github.com/hungpham13/federated-learning\n",
    "%cd federated-learning\n",
    "!pip install -q -r requirements.txt"
   ],
   "metadata": {
    "id": "FZiHJrmlZRnL",
    "outputId": "1c9c9abd-f9a7-4169-9a8c-501337df61cf",
    "colab": {
     "base_uri": "https://localhost:8080/"
    },
    "ExecuteTime": {
     "end_time": "2023-06-10T03:22:52.027376289Z",
     "start_time": "2023-06-10T03:22:49.864176230Z"
    }
   },
   "execution_count": 2,
   "outputs": [
    {
     "name": "stdout",
     "output_type": "stream",
     "text": [
      "Cloning into 'federated-learning'...\r\n",
      "remote: Enumerating objects: 41, done.\u001B[K\r\n",
      "remote: Counting objects: 100% (41/41), done.\u001B[K\r\n",
      "remote: Compressing objects: 100% (29/29), done.\u001B[K\r\n",
      "remote: Total 41 (delta 18), reused 28 (delta 10), pack-reused 0\u001B[K\r\n",
      "Receiving objects: 100% (41/41), 26.12 KiB | 26.12 MiB/s, done.\r\n",
      "Resolving deltas: 100% (18/18), done.\r\n",
      "/home/hung/PycharmProjects/federated-learning/federated-learning\n"
     ]
    }
   ]
  },
  {
   "cell_type": "code",
   "source": [
    "!pip install --upgrade --index-url https://pypi.ngc.nvidia.com nvidia-tensorrt"
   ],
   "metadata": {
    "id": "FxnWssAOMitR",
    "outputId": "dea3ec49-3bfb-4848-db5e-494dafbf1433",
    "colab": {
     "base_uri": "https://localhost:8080/"
    }
   },
   "execution_count": 4,
   "outputs": [
    {
     "output_type": "stream",
     "name": "stderr",
     "text": [
      "\u001B[2m\u001B[36m(pid=2458)\u001B[0m 2023-06-09 12:47:10.711192: W tensorflow/compiler/tf2tensorrt/utils/py_utils.cc:38] TF-TRT Warning: Could not find TensorRT\n"
     ]
    },
    {
     "output_type": "stream",
     "name": "stdout",
     "text": [
      "Looking in indexes: https://pypi.ngc.nvidia.com, https://us-python.pkg.dev/colab-wheels/public/simple/, https://pypi.ngc.nvidia.com\n",
      "Requirement already satisfied: nvidia-tensorrt in /usr/local/lib/python3.10/dist-packages (99.0.0)\n",
      "Requirement already satisfied: tensorrt in /usr/local/lib/python3.10/dist-packages (from nvidia-tensorrt) (8.6.1)\n"
     ]
    }
   ]
  },
  {
   "cell_type": "code",
   "execution_count": 1,
   "outputs": [],
   "source": [
    "import flwr as fl\n",
    "from config import NUM_CLIENTS, DEVICE\n",
    "from model import Net, VGG16\n",
    "from main import simulate_cifar"
   ],
   "metadata": {
    "id": "VfR1zT4bZQiS",
    "ExecuteTime": {
     "end_time": "2023-06-10T04:03:32.453226216Z",
     "start_time": "2023-06-10T04:03:31.346097672Z"
    }
   }
  },
  {
   "cell_type": "markdown",
   "source": [
    "## Centralize training"
   ],
   "metadata": {
    "collapsed": false,
    "id": "YKzqmTKyZQiV"
   }
  },
  {
   "cell_type": "code",
   "execution_count": null,
   "outputs": [
    {
     "output_type": "stream",
     "name": "stdout",
     "text": [
      "Files already downloaded and verified\n",
      "Files already downloaded and verified\n",
      "Epoch 1: train loss 0.05028054490685463, accuracy 0.3868888888888889\n",
      "Epoch 1: validation loss 0.04147230490446091, accuracy 0.5456\n",
      "Epoch 1: train loss 0.033639177680015564, accuracy 0.6148\n",
      "Epoch 2: validation loss 0.026561914348602295, accuracy 0.7034\n",
      "Epoch 1: train loss 0.02576061710715294, accuracy 0.7148666666666667\n",
      "Epoch 3: validation loss 0.02317628452181816, accuracy 0.744\n",
      "Epoch 1: train loss 0.020628293976187706, accuracy 0.7752222222222223\n",
      "Epoch 4: validation loss 0.021399199867248534, accuracy 0.771\n",
      "Epoch 1: train loss 0.017199356108903885, accuracy 0.8127111111111112\n",
      "Epoch 5: validation loss 0.01969984709620476, accuracy 0.7902\n",
      "Epoch 1: train loss 0.0143361184746027, accuracy 0.8449333333333333\n",
      "Epoch 6: validation loss 0.019189575929939747, accuracy 0.8004\n",
      "Epoch 1: train loss 0.012040548026561737, accuracy 0.8689333333333333\n",
      "Epoch 7: validation loss 0.017127903091907502, accuracy 0.8216\n",
      "Epoch 1: train loss 0.009953178465366364, accuracy 0.8913333333333333\n",
      "Epoch 8: validation loss 0.017258387091755867, accuracy 0.8198\n",
      "Epoch 1: train loss 0.008150538429617882, accuracy 0.9125555555555556\n",
      "Epoch 9: validation loss 0.014826430508494377, accuracy 0.8448\n",
      "Epoch 1: train loss 0.006748498417437077, accuracy 0.9256888888888889\n",
      "Epoch 10: validation loss 0.015210123881697655, accuracy 0.8524\n",
      "Final test set performance:\n",
      "\tloss 0.01566056731212884\n",
      "\taccuracy 0.8523\n"
     ]
    }
   ],
   "source": [
    "from dataloader import load_cifars\n",
    "trainloaders, valloaders, testloader = load_cifars(1)\n",
    "\n",
    "trainloader = trainloaders[0]\n",
    "valloader = valloaders[0]\n",
    "net = VGG16().to(DEVICE)\n",
    "\n",
    "for epoch in range(10):\n",
    "    net.train_epoch(trainloader, 1)\n",
    "    loss, accuracy = net.test(valloader)\n",
    "    print(f\"Epoch {epoch+1}: validation loss {loss}, accuracy {accuracy}\")\n",
    "\n",
    "loss, accuracy = net.test(testloader)\n",
    "print(f\"Final test set performance:\\n\\tloss {loss}\\n\\taccuracy {accuracy}\")"
   ],
   "metadata": {
    "ExecuteTime": {
     "start_time": "2023-06-09T08:51:30.955817356Z"
    },
    "id": "fpc_B9ljZQiW",
    "outputId": "de06f3b3-222f-41a6-eacd-4a2705a4ba96",
    "colab": {
     "base_uri": "https://localhost:8080/"
    }
   }
  },
  {
   "cell_type": "markdown",
   "source": [
    "## Fed avg with parameter initialization"
   ],
   "metadata": {
    "collapsed": false,
    "id": "lc0C7BXjZQiX"
   }
  },
  {
   "cell_type": "code",
   "execution_count": 4,
   "metadata": {
    "ExecuteTime": {
     "end_time": "2023-06-09T08:26:17.444663733Z",
     "start_time": "2023-06-09T08:22:57.784685016Z"
    },
    "colab": {
     "base_uri": "https://localhost:8080/"
    },
    "id": "OjgYUP_RZQiX",
    "outputId": "d0ae3ba1-4fe0-4d57-a967-c1ded20f1579"
   },
   "outputs": [
    {
     "output_type": "stream",
     "name": "stdout",
     "text": [
      "Downloading https://www.cs.toronto.edu/~kriz/cifar-10-python.tar.gz to ./dataset/cifar-10-python.tar.gz\n"
     ]
    },
    {
     "output_type": "stream",
     "name": "stderr",
     "text": [
      "100%|██████████| 170498071/170498071 [00:03<00:00, 45698569.78it/s]\n"
     ]
    },
    {
     "output_type": "stream",
     "name": "stdout",
     "text": [
      "Extracting ./dataset/cifar-10-python.tar.gz to ./dataset\n",
      "Files already downloaded and verified\n"
     ]
    },
    {
     "output_type": "stream",
     "name": "stderr",
     "text": [
      "INFO flwr 2023-06-09 11:48:46,061 | app.py:146 | Starting Flower simulation, config: ServerConfig(num_rounds=3, round_timeout=None)\n",
      "INFO:flwr:Starting Flower simulation, config: ServerConfig(num_rounds=3, round_timeout=None)\n",
      "2023-06-09 11:48:49,753\tINFO worker.py:1636 -- Started a local Ray instance.\n",
      "INFO flwr 2023-06-09 11:48:52,149 | app.py:180 | Flower VCE: Ray initialized with resources: {'CPU': 2.0, 'GPU': 1.0, 'node:172.28.0.12': 1.0, 'object_store_memory': 3930980352.0, 'memory': 7861960704.0}\n",
      "INFO:flwr:Flower VCE: Ray initialized with resources: {'CPU': 2.0, 'GPU': 1.0, 'node:172.28.0.12': 1.0, 'object_store_memory': 3930980352.0, 'memory': 7861960704.0}\n",
      "INFO flwr 2023-06-09 11:48:52,159 | server.py:86 | Initializing global parameters\n",
      "INFO:flwr:Initializing global parameters\n",
      "INFO flwr 2023-06-09 11:48:52,167 | server.py:269 | Using initial parameters provided by strategy\n",
      "INFO:flwr:Using initial parameters provided by strategy\n",
      "INFO flwr 2023-06-09 11:48:52,178 | server.py:88 | Evaluating initial parameters\n",
      "INFO:flwr:Evaluating initial parameters\n",
      "INFO flwr 2023-06-09 11:48:52,187 | server.py:101 | FL starting\n",
      "INFO:flwr:FL starting\n",
      "DEBUG flwr 2023-06-09 11:48:52,193 | server.py:218 | fit_round 1: strategy sampled 3 clients (out of 10)\n",
      "DEBUG:flwr:fit_round 1: strategy sampled 3 clients (out of 10)\n",
      "\u001B[2m\u001B[36m(pid=2215)\u001B[0m 2023-06-09 11:48:58.495272: W tensorflow/compiler/tf2tensorrt/utils/py_utils.cc:38] TF-TRT Warning: Could not find TensorRT\n"
     ]
    },
    {
     "output_type": "stream",
     "name": "stdout",
     "text": [
      "\u001B[2m\u001B[36m(launch_and_fit pid=2215)\u001B[0m [Client 1] fit, config: {}\n",
      "\u001B[2m\u001B[36m(launch_and_fit pid=2215)\u001B[0m Epoch 1: train loss 0.06480904668569565, accuracy 0.23177777777777778\n"
     ]
    },
    {
     "output_type": "stream",
     "name": "stderr",
     "text": [
      "\u001B[2m\u001B[36m(pid=2294)\u001B[0m 2023-06-09 11:49:08.203330: W tensorflow/compiler/tf2tensorrt/utils/py_utils.cc:38] TF-TRT Warning: Could not find TensorRT\n"
     ]
    },
    {
     "output_type": "stream",
     "name": "stdout",
     "text": [
      "\u001B[2m\u001B[36m(launch_and_fit pid=2294)\u001B[0m [Client 7] fit, config: {}\n",
      "\u001B[2m\u001B[36m(launch_and_fit pid=2294)\u001B[0m Epoch 1: train loss 0.06386414170265198, accuracy 0.23155555555555554\n"
     ]
    },
    {
     "output_type": "stream",
     "name": "stderr",
     "text": [
      "\u001B[2m\u001B[36m(pid=2366)\u001B[0m 2023-06-09 11:49:15.556053: W tensorflow/compiler/tf2tensorrt/utils/py_utils.cc:38] TF-TRT Warning: Could not find TensorRT\n"
     ]
    },
    {
     "output_type": "stream",
     "name": "stdout",
     "text": [
      "\u001B[2m\u001B[36m(launch_and_fit pid=2366)\u001B[0m [Client 3] fit, config: {}\n"
     ]
    },
    {
     "output_type": "stream",
     "name": "stderr",
     "text": [
      "DEBUG flwr 2023-06-09 11:49:23,444 | server.py:232 | fit_round 1 received 3 results and 0 failures\n",
      "DEBUG:flwr:fit_round 1 received 3 results and 0 failures\n",
      "WARNING flwr 2023-06-09 11:49:23,458 | fedavg.py:243 | No fit_metrics_aggregation_fn provided\n",
      "WARNING:flwr:No fit_metrics_aggregation_fn provided\n",
      "DEBUG flwr 2023-06-09 11:49:23,463 | server.py:168 | evaluate_round 1: strategy sampled 3 clients (out of 10)\n",
      "DEBUG:flwr:evaluate_round 1: strategy sampled 3 clients (out of 10)\n"
     ]
    },
    {
     "output_type": "stream",
     "name": "stdout",
     "text": [
      "\u001B[2m\u001B[36m(launch_and_fit pid=2366)\u001B[0m Epoch 1: train loss 0.06447990983724594, accuracy 0.2248888888888889\n"
     ]
    },
    {
     "output_type": "stream",
     "name": "stderr",
     "text": [
      "\u001B[2m\u001B[36m(pid=2468)\u001B[0m 2023-06-09 11:49:29.250022: W tensorflow/compiler/tf2tensorrt/utils/py_utils.cc:38] TF-TRT Warning: Could not find TensorRT\n"
     ]
    },
    {
     "output_type": "stream",
     "name": "stdout",
     "text": [
      "\u001B[2m\u001B[36m(launch_and_evaluate pid=2468)\u001B[0m [Client 4] evaluate, config: {}\n"
     ]
    },
    {
     "output_type": "stream",
     "name": "stderr",
     "text": [
      "\u001B[2m\u001B[36m(pid=2528)\u001B[0m 2023-06-09 11:49:37.534976: W tensorflow/compiler/tf2tensorrt/utils/py_utils.cc:38] TF-TRT Warning: Could not find TensorRT\n"
     ]
    },
    {
     "output_type": "stream",
     "name": "stdout",
     "text": [
      "\u001B[2m\u001B[36m(launch_and_evaluate pid=2528)\u001B[0m [Client 7] evaluate, config: {}\n"
     ]
    },
    {
     "output_type": "stream",
     "name": "stderr",
     "text": [
      "\u001B[2m\u001B[36m(pid=2597)\u001B[0m 2023-06-09 11:49:44.024558: W tensorflow/compiler/tf2tensorrt/utils/py_utils.cc:38] TF-TRT Warning: Could not find TensorRT\n"
     ]
    },
    {
     "output_type": "stream",
     "name": "stdout",
     "text": [
      "\u001B[2m\u001B[36m(launch_and_evaluate pid=2597)\u001B[0m [Client 2] evaluate, config: {}\n"
     ]
    },
    {
     "output_type": "stream",
     "name": "stderr",
     "text": [
      "DEBUG flwr 2023-06-09 11:49:48,254 | server.py:182 | evaluate_round 1 received 3 results and 0 failures\n",
      "DEBUG:flwr:evaluate_round 1 received 3 results and 0 failures\n",
      "WARNING flwr 2023-06-09 11:49:48,257 | fedavg.py:274 | No evaluate_metrics_aggregation_fn provided\n",
      "WARNING:flwr:No evaluate_metrics_aggregation_fn provided\n",
      "DEBUG flwr 2023-06-09 11:49:48,259 | server.py:218 | fit_round 2: strategy sampled 3 clients (out of 10)\n",
      "DEBUG:flwr:fit_round 2: strategy sampled 3 clients (out of 10)\n",
      "\u001B[2m\u001B[36m(pid=2690)\u001B[0m 2023-06-09 11:49:56.480248: W tensorflow/compiler/tf2tensorrt/utils/py_utils.cc:38] TF-TRT Warning: Could not find TensorRT\n"
     ]
    },
    {
     "output_type": "stream",
     "name": "stdout",
     "text": [
      "\u001B[2m\u001B[36m(launch_and_fit pid=2690)\u001B[0m [Client 0] fit, config: {}\n",
      "\u001B[2m\u001B[36m(launch_and_fit pid=2690)\u001B[0m Epoch 1: train loss 0.0583903007209301, accuracy 0.32466666666666666\n"
     ]
    },
    {
     "output_type": "stream",
     "name": "stderr",
     "text": [
      "\u001B[2m\u001B[36m(pid=2757)\u001B[0m 2023-06-09 11:50:04.321345: W tensorflow/compiler/tf2tensorrt/utils/py_utils.cc:38] TF-TRT Warning: Could not find TensorRT\n"
     ]
    },
    {
     "output_type": "stream",
     "name": "stdout",
     "text": [
      "\u001B[2m\u001B[36m(launch_and_fit pid=2757)\u001B[0m [Client 3] fit, config: {}\n",
      "\u001B[2m\u001B[36m(launch_and_fit pid=2757)\u001B[0m Epoch 1: train loss 0.057173557579517365, accuracy 0.3353333333333333\n"
     ]
    },
    {
     "output_type": "stream",
     "name": "stderr",
     "text": [
      "\u001B[2m\u001B[36m(pid=2836)\u001B[0m 2023-06-09 11:50:14.327208: W tensorflow/compiler/tf2tensorrt/utils/py_utils.cc:38] TF-TRT Warning: Could not find TensorRT\n"
     ]
    },
    {
     "output_type": "stream",
     "name": "stdout",
     "text": [
      "\u001B[2m\u001B[36m(launch_and_fit pid=2836)\u001B[0m [Client 8] fit, config: {}\n"
     ]
    },
    {
     "output_type": "stream",
     "name": "stderr",
     "text": [
      "DEBUG flwr 2023-06-09 11:50:20,025 | server.py:232 | fit_round 2 received 3 results and 0 failures\n",
      "DEBUG:flwr:fit_round 2 received 3 results and 0 failures\n",
      "DEBUG flwr 2023-06-09 11:50:20,040 | server.py:168 | evaluate_round 2: strategy sampled 3 clients (out of 10)\n",
      "DEBUG:flwr:evaluate_round 2: strategy sampled 3 clients (out of 10)\n"
     ]
    },
    {
     "output_type": "stream",
     "name": "stdout",
     "text": [
      "\u001B[2m\u001B[36m(launch_and_fit pid=2836)\u001B[0m Epoch 1: train loss 0.05669749528169632, accuracy 0.33644444444444443\n"
     ]
    },
    {
     "output_type": "stream",
     "name": "stderr",
     "text": [
      "\u001B[2m\u001B[36m(pid=2936)\u001B[0m 2023-06-09 11:50:28.468092: W tensorflow/compiler/tf2tensorrt/utils/py_utils.cc:38] TF-TRT Warning: Could not find TensorRT\n"
     ]
    },
    {
     "output_type": "stream",
     "name": "stdout",
     "text": [
      "\u001B[2m\u001B[36m(launch_and_evaluate pid=2936)\u001B[0m [Client 3] evaluate, config: {}\n"
     ]
    },
    {
     "output_type": "stream",
     "name": "stderr",
     "text": [
      "\u001B[2m\u001B[36m(pid=3002)\u001B[0m 2023-06-09 11:50:34.566288: W tensorflow/compiler/tf2tensorrt/utils/py_utils.cc:38] TF-TRT Warning: Could not find TensorRT\n"
     ]
    },
    {
     "output_type": "stream",
     "name": "stdout",
     "text": [
      "\u001B[2m\u001B[36m(launch_and_evaluate pid=3002)\u001B[0m [Client 0] evaluate, config: {}\n"
     ]
    },
    {
     "output_type": "stream",
     "name": "stderr",
     "text": [
      "\u001B[2m\u001B[36m(pid=3067)\u001B[0m 2023-06-09 11:50:42.626123: W tensorflow/compiler/tf2tensorrt/utils/py_utils.cc:38] TF-TRT Warning: Could not find TensorRT\n"
     ]
    },
    {
     "output_type": "stream",
     "name": "stdout",
     "text": [
      "\u001B[2m\u001B[36m(launch_and_evaluate pid=3067)\u001B[0m [Client 8] evaluate, config: {}\n"
     ]
    },
    {
     "output_type": "stream",
     "name": "stderr",
     "text": [
      "DEBUG flwr 2023-06-09 11:50:46,759 | server.py:182 | evaluate_round 2 received 3 results and 0 failures\n",
      "DEBUG:flwr:evaluate_round 2 received 3 results and 0 failures\n",
      "DEBUG flwr 2023-06-09 11:50:46,762 | server.py:218 | fit_round 3: strategy sampled 3 clients (out of 10)\n",
      "DEBUG:flwr:fit_round 3: strategy sampled 3 clients (out of 10)\n",
      "\u001B[2m\u001B[36m(pid=3147)\u001B[0m 2023-06-09 11:50:53.680286: W tensorflow/compiler/tf2tensorrt/utils/py_utils.cc:38] TF-TRT Warning: Could not find TensorRT\n"
     ]
    },
    {
     "output_type": "stream",
     "name": "stdout",
     "text": [
      "\u001B[2m\u001B[36m(launch_and_fit pid=3147)\u001B[0m [Client 4] fit, config: {}\n",
      "\u001B[2m\u001B[36m(launch_and_fit pid=3147)\u001B[0m Epoch 1: train loss 0.053094733506441116, accuracy 0.3808888888888889\n"
     ]
    },
    {
     "output_type": "stream",
     "name": "stderr",
     "text": [
      "\u001B[2m\u001B[36m(pid=3227)\u001B[0m 2023-06-09 11:51:02.698590: W tensorflow/compiler/tf2tensorrt/utils/py_utils.cc:38] TF-TRT Warning: Could not find TensorRT\n"
     ]
    },
    {
     "output_type": "stream",
     "name": "stdout",
     "text": [
      "\u001B[2m\u001B[36m(launch_and_fit pid=3227)\u001B[0m [Client 2] fit, config: {}\n",
      "\u001B[2m\u001B[36m(launch_and_fit pid=3227)\u001B[0m Epoch 1: train loss 0.05408865958452225, accuracy 0.35888888888888887\n"
     ]
    },
    {
     "output_type": "stream",
     "name": "stderr",
     "text": [
      "\u001B[2m\u001B[36m(pid=3302)\u001B[0m 2023-06-09 11:51:12.835683: W tensorflow/compiler/tf2tensorrt/utils/py_utils.cc:38] TF-TRT Warning: Could not find TensorRT\n"
     ]
    },
    {
     "output_type": "stream",
     "name": "stdout",
     "text": [
      "\u001B[2m\u001B[36m(launch_and_fit pid=3302)\u001B[0m [Client 0] fit, config: {}\n"
     ]
    },
    {
     "output_type": "stream",
     "name": "stderr",
     "text": [
      "DEBUG flwr 2023-06-09 11:51:18,367 | server.py:232 | fit_round 3 received 3 results and 0 failures\n",
      "DEBUG:flwr:fit_round 3 received 3 results and 0 failures\n",
      "DEBUG flwr 2023-06-09 11:51:18,382 | server.py:168 | evaluate_round 3: strategy sampled 3 clients (out of 10)\n",
      "DEBUG:flwr:evaluate_round 3: strategy sampled 3 clients (out of 10)\n"
     ]
    },
    {
     "output_type": "stream",
     "name": "stdout",
     "text": [
      "\u001B[2m\u001B[36m(launch_and_fit pid=3302)\u001B[0m Epoch 1: train loss 0.05335001274943352, accuracy 0.37533333333333335\n"
     ]
    },
    {
     "output_type": "stream",
     "name": "stderr",
     "text": [
      "\u001B[2m\u001B[36m(pid=3400)\u001B[0m 2023-06-09 11:51:25.719354: W tensorflow/compiler/tf2tensorrt/utils/py_utils.cc:38] TF-TRT Warning: Could not find TensorRT\n"
     ]
    },
    {
     "output_type": "stream",
     "name": "stdout",
     "text": [
      "\u001B[2m\u001B[36m(launch_and_evaluate pid=3400)\u001B[0m [Client 4] evaluate, config: {}\n"
     ]
    },
    {
     "output_type": "stream",
     "name": "stderr",
     "text": [
      "\u001B[2m\u001B[36m(pid=3477)\u001B[0m 2023-06-09 11:51:32.868266: W tensorflow/compiler/tf2tensorrt/utils/py_utils.cc:38] TF-TRT Warning: Could not find TensorRT\n"
     ]
    },
    {
     "output_type": "stream",
     "name": "stdout",
     "text": [
      "\u001B[2m\u001B[36m(launch_and_evaluate pid=3477)\u001B[0m [Client 6] evaluate, config: {}\n"
     ]
    },
    {
     "output_type": "stream",
     "name": "stderr",
     "text": [
      "\u001B[2m\u001B[36m(pid=3539)\u001B[0m 2023-06-09 11:51:39.782323: W tensorflow/compiler/tf2tensorrt/utils/py_utils.cc:38] TF-TRT Warning: Could not find TensorRT\n"
     ]
    },
    {
     "output_type": "stream",
     "name": "stdout",
     "text": [
      "\u001B[2m\u001B[36m(launch_and_evaluate pid=3539)\u001B[0m [Client 3] evaluate, config: {}\n"
     ]
    },
    {
     "output_type": "stream",
     "name": "stderr",
     "text": [
      "DEBUG flwr 2023-06-09 11:51:45,622 | server.py:182 | evaluate_round 3 received 3 results and 0 failures\n",
      "DEBUG:flwr:evaluate_round 3 received 3 results and 0 failures\n",
      "INFO flwr 2023-06-09 11:51:45,627 | server.py:147 | FL finished in 173.43467345199997\n",
      "INFO:flwr:FL finished in 173.43467345199997\n",
      "INFO flwr 2023-06-09 11:51:45,631 | app.py:218 | app_fit: losses_distributed [(1, 0.06227598198254903), (2, 0.054994750658671064), (3, 0.052339993794759114)]\n",
      "INFO:flwr:app_fit: losses_distributed [(1, 0.06227598198254903), (2, 0.054994750658671064), (3, 0.052339993794759114)]\n",
      "INFO flwr 2023-06-09 11:51:45,633 | app.py:219 | app_fit: metrics_distributed_fit {}\n",
      "INFO:flwr:app_fit: metrics_distributed_fit {}\n",
      "INFO flwr 2023-06-09 11:51:45,635 | app.py:220 | app_fit: metrics_distributed {}\n",
      "INFO:flwr:app_fit: metrics_distributed {}\n",
      "INFO flwr 2023-06-09 11:51:45,637 | app.py:221 | app_fit: losses_centralized []\n",
      "INFO:flwr:app_fit: losses_centralized []\n",
      "INFO flwr 2023-06-09 11:51:45,638 | app.py:222 | app_fit: metrics_centralized {}\n",
      "INFO:flwr:app_fit: metrics_centralized {}\n"
     ]
    }
   ],
   "source": [
    "net = Net().to(DEVICE)\n",
    "params = net.get_parameters()\n",
    "\n",
    "# Pass parameters to the Strategy for server-side parameter initialization\n",
    "strategy = fl.server.strategy.FedAvg(\n",
    "    fraction_fit=0.3,\n",
    "    fraction_evaluate=0.3,\n",
    "    min_fit_clients=3,\n",
    "    min_evaluate_clients=3,\n",
    "    min_available_clients=NUM_CLIENTS,\n",
    "    initial_parameters=fl.common.ndarrays_to_parameters(params),\n",
    ")\n",
    "\n",
    "simulate_cifar(strategy, net)"
   ]
  },
  {
   "cell_type": "code",
   "source": [
    "from main import simulate_cifar\n",
    "from config import NUM_CLIENTS\n",
    "\n",
    "net = Net().to(DEVICE)\n",
    "\n",
    "strategyConfig = {\n",
    "    \"fraction_fit\":0.3,\n",
    "    \"fraction_evaluate\":0.3,\n",
    "    \"min_fit_clients\":3,\n",
    "    \"min_evaluate_clients\":3,\n",
    "    \"min_available_clients\":NUM_CLIENTS,\n",
    "}"
   ],
   "metadata": {
    "colab": {
     "base_uri": "https://localhost:8080/"
    },
    "id": "LMwQqEHzBR8h",
    "outputId": "77ff5465-0676-4ba0-f41e-c56f788423ab",
    "ExecuteTime": {
     "end_time": "2023-06-10T04:06:14.532512377Z",
     "start_time": "2023-06-10T04:06:14.530292940Z"
    }
   },
   "execution_count": 7,
   "outputs": []
  },
  {
   "cell_type": "code",
   "execution_count": null,
   "outputs": [
    {
     "name": "stdout",
     "output_type": "stream",
     "text": [
      "Files already downloaded and verified\n",
      "Files already downloaded and verified\n"
     ]
    },
    {
     "name": "stderr",
     "output_type": "stream",
     "text": [
      "INFO flwr 2023-06-10 11:06:17,889 | app.py:146 | Starting Flower simulation, config: ServerConfig(num_rounds=10, round_timeout=None)\n"
     ]
    },
    {
     "name": "stdout",
     "output_type": "stream",
     "text": [
      "\u001B[2m\u001B[36m(launch_and_fit pid=39695)\u001B[0m [Client 9, round 1] fit, config: {'server_round': 1, 'local_epochs': 1}\u001B[32m [repeated 2x across cluster] (Ray deduplicates logs by default. Set RAY_DEDUP_LOGS=0 to disable log deduplication, or see https://docs.ray.io/en/master/ray-observability/ray-logging.html#log-deduplication for more options.)\u001B[0m\n"
     ]
    },
    {
     "name": "stderr",
     "output_type": "stream",
     "text": [
      "2023-06-10 11:06:22,832\tINFO worker.py:1636 -- Started a local Ray instance.\n",
      "INFO flwr 2023-06-10 11:06:23,376 | app.py:180 | Flower VCE: Ray initialized with resources: {'node:10.10.12.34': 1.0, 'object_store_memory': 2932174848.0, 'memory': 5864349696.0, 'CPU': 20.0}\n",
      "INFO flwr 2023-06-10 11:06:23,377 | server.py:86 | Initializing global parameters\n",
      "INFO flwr 2023-06-10 11:06:23,377 | server.py:269 | Using initial parameters provided by strategy\n",
      "INFO flwr 2023-06-10 11:06:23,377 | server.py:88 | Evaluating initial parameters\n"
     ]
    }
   ],
   "source": [
    "simulate_cifar(StrategyCls=fl.server.strategy.FedAvg, strategyArgs=strategyConfig, net=net, num_rounds=10)"
   ],
   "metadata": {
    "collapsed": false,
    "is_executing": true,
    "ExecuteTime": {
     "start_time": "2023-06-10T04:06:16.731124160Z"
    }
   }
  }
 ],
 "metadata": {
  "kernelspec": {
   "name": "python3",
   "language": "python",
   "display_name": "Python 3 (ipykernel)"
  },
  "language_info": {
   "codemirror_mode": {
    "name": "ipython",
    "version": 2
   },
   "file_extension": ".py",
   "mimetype": "text/x-python",
   "name": "python",
   "nbconvert_exporter": "python",
   "pygments_lexer": "ipython2",
   "version": "2.7.6"
  },
  "colab": {
   "provenance": [],
   "gpuType": "T4"
  },
  "accelerator": "GPU"
 },
 "nbformat": 4,
 "nbformat_minor": 0
}
