{
  "cells": [
    {
      "cell_type": "code",
      "source": [
        "!git clone https://github.com/hungpham13/federated-learning\n",
        "%cd federated-learning\n",
        "!pip install -q -r requirements.txt"
      ],
      "metadata": {
        "id": "FZiHJrmlZRnL",
        "outputId": "21e1865f-ded1-4b4e-a308-f95cfae63c38",
        "colab": {
          "base_uri": "https://localhost:8080/"
        },
        "ExecuteTime": {
          "end_time": "2023-06-10T03:22:52.027376289Z",
          "start_time": "2023-06-10T03:22:49.864176230Z"
        }
      },
      "execution_count": 1,
      "outputs": [
        {
          "output_type": "stream",
          "name": "stdout",
          "text": [
            "Cloning into 'federated-learning'...\n",
            "remote: Enumerating objects: 55, done.\u001b[K\n",
            "remote: Counting objects: 100% (55/55), done.\u001b[K\n",
            "remote: Compressing objects: 100% (39/39), done.\u001b[K\n",
            "remote: Total 55 (delta 28), reused 35 (delta 14), pack-reused 0\u001b[K\n",
            "Unpacking objects: 100% (55/55), 66.06 KiB | 2.20 MiB/s, done.\n",
            "/content/federated-learning\n",
            "\u001b[2K     \u001b[90m━━━━━━━━━━━━━━━━━━━━━━━━━━━━━━━━━━━━━━━\u001b[0m \u001b[32m157.2/157.2 kB\u001b[0m \u001b[31m6.7 MB/s\u001b[0m eta \u001b[36m0:00:00\u001b[0m\n",
            "\u001b[?25h  Preparing metadata (setup.py) ... \u001b[?25l\u001b[?25hdone\n",
            "  Preparing metadata (setup.py) ... \u001b[?25l\u001b[?25hdone\n",
            "\u001b[2K     \u001b[90m━━━━━━━━━━━━━━━━━━━━━━━━━━━━━━━━━━━━━━━━\u001b[0m \u001b[32m56.2/56.2 MB\u001b[0m \u001b[31m15.9 MB/s\u001b[0m eta \u001b[36m0:00:00\u001b[0m\n",
            "\u001b[2K     \u001b[90m━━━━━━━━━━━━━━━━━━━━━━━━━━━━━━━━━━━━━━\u001b[0m \u001b[32m149.6/149.6 kB\u001b[0m \u001b[31m17.1 MB/s\u001b[0m eta \u001b[36m0:00:00\u001b[0m\n",
            "\u001b[2K     \u001b[90m━━━━━━━━━━━━━━━━━━━━━━━━━━━━━━━━━━━━━━━━\u001b[0m \u001b[32m4.8/4.8 MB\u001b[0m \u001b[31m107.9 MB/s\u001b[0m eta \u001b[36m0:00:00\u001b[0m\n",
            "\u001b[2K     \u001b[90m━━━━━━━━━━━━━━━━━━━━━━━━━━━━━━━━━━━━━━━━\u001b[0m \u001b[32m1.0/1.0 MB\u001b[0m \u001b[31m66.7 MB/s\u001b[0m eta \u001b[36m0:00:00\u001b[0m\n",
            "\u001b[2K     \u001b[90m━━━━━━━━━━━━━━━━━━━━━━━━━━━━━━━━━━━━━━\u001b[0m \u001b[32m201.4/201.4 kB\u001b[0m \u001b[31m21.2 MB/s\u001b[0m eta \u001b[36m0:00:00\u001b[0m\n",
            "\u001b[2K     \u001b[90m━━━━━━━━━━━━━━━━━━━━━━━━━━━━━━━━━━━━━━━━\u001b[0m \u001b[32m3.0/3.0 MB\u001b[0m \u001b[31m102.0 MB/s\u001b[0m eta \u001b[36m0:00:00\u001b[0m\n",
            "\u001b[2K     \u001b[90m━━━━━━━━━━━━━━━━━━━━━━━━━━━━━━━━━━━━━━━━\u001b[0m \u001b[32m97.9/97.9 kB\u001b[0m \u001b[31m12.2 MB/s\u001b[0m eta \u001b[36m0:00:00\u001b[0m\n",
            "\u001b[?25h  Installing build dependencies ... \u001b[?25l\u001b[?25hdone\n",
            "  Getting requirements to build wheel ... \u001b[?25l\u001b[?25hdone\n",
            "  Preparing metadata (pyproject.toml) ... \u001b[?25l\u001b[?25hdone\n",
            "\u001b[2K     \u001b[90m━━━━━━━━━━━━━━━━━━━━━━━━━━━━━━━━━━━━━━\u001b[0m \u001b[32m128.2/128.2 kB\u001b[0m \u001b[31m14.6 MB/s\u001b[0m eta \u001b[36m0:00:00\u001b[0m\n",
            "\u001b[2K     \u001b[90m━━━━━━━━━━━━━━━━━━━━━━━━━━━━━━━━━━━━━━━━\u001b[0m \u001b[32m8.7/8.7 MB\u001b[0m \u001b[31m98.1 MB/s\u001b[0m eta \u001b[36m0:00:00\u001b[0m\n",
            "\u001b[2K     \u001b[90m━━━━━━━━━━━━━━━━━━━━━━━━━━━━━━━━━━━━━━\u001b[0m \u001b[32m114.5/114.5 kB\u001b[0m \u001b[31m13.6 MB/s\u001b[0m eta \u001b[36m0:00:00\u001b[0m\n",
            "\u001b[2K     \u001b[90m━━━━━━━━━━━━━━━━━━━━━━━━━━━━━━━━━━━━━━\u001b[0m \u001b[32m268.8/268.8 kB\u001b[0m \u001b[31m23.8 MB/s\u001b[0m eta \u001b[36m0:00:00\u001b[0m\n",
            "\u001b[2K     \u001b[90m━━━━━━━━━━━━━━━━━━━━━━━━━━━━━━━━━━━━━━━━\u001b[0m \u001b[32m58.4/58.4 kB\u001b[0m \u001b[31m8.2 MB/s\u001b[0m eta \u001b[36m0:00:00\u001b[0m\n",
            "\u001b[2K     \u001b[90m━━━━━━━━━━━━━━━━━━━━━━━━━━━━━━━━━━━━━━\u001b[0m \u001b[32m468.5/468.5 kB\u001b[0m \u001b[31m49.6 MB/s\u001b[0m eta \u001b[36m0:00:00\u001b[0m\n",
            "\u001b[?25h  Building wheel for tensorrt (setup.py) ... \u001b[?25l\u001b[?25hdone\n",
            "  Building wheel for nvidia-pyindex (setup.py) ... \u001b[?25l\u001b[?25hdone\n",
            "  Building wheel for gpustat (pyproject.toml) ... \u001b[?25l\u001b[?25hdone\n"
          ]
        }
      ]
    },
    {
      "cell_type": "code",
      "source": [
        "!pip install --upgrade --index-url https://pypi.ngc.nvidia.com nvidia-tensorrt"
      ],
      "metadata": {
        "id": "FxnWssAOMitR",
        "outputId": "dea3ec49-3bfb-4848-db5e-494dafbf1433",
        "colab": {
          "base_uri": "https://localhost:8080/"
        }
      },
      "execution_count": null,
      "outputs": [
        {
          "output_type": "stream",
          "name": "stderr",
          "text": [
            "\u001b[2m\u001b[36m(pid=2458)\u001b[0m 2023-06-09 12:47:10.711192: W tensorflow/compiler/tf2tensorrt/utils/py_utils.cc:38] TF-TRT Warning: Could not find TensorRT\n"
          ]
        },
        {
          "output_type": "stream",
          "name": "stdout",
          "text": [
            "Looking in indexes: https://pypi.ngc.nvidia.com, https://us-python.pkg.dev/colab-wheels/public/simple/, https://pypi.ngc.nvidia.com\n",
            "Requirement already satisfied: nvidia-tensorrt in /usr/local/lib/python3.10/dist-packages (99.0.0)\n",
            "Requirement already satisfied: tensorrt in /usr/local/lib/python3.10/dist-packages (from nvidia-tensorrt) (8.6.1)\n"
          ]
        }
      ]
    },
    {
      "cell_type": "code",
      "execution_count": 2,
      "outputs": [],
      "source": [
        "import flwr as fl\n",
        "from config import NUM_CLIENTS, DEVICE\n",
        "from model import Net, VGG16\n",
        "from main import simulate_cifar"
      ],
      "metadata": {
        "id": "VfR1zT4bZQiS",
        "ExecuteTime": {
          "end_time": "2023-06-10T04:03:32.453226216Z",
          "start_time": "2023-06-10T04:03:31.346097672Z"
        }
      }
    },
    {
      "cell_type": "markdown",
      "source": [
        "## Centralize training"
      ],
      "metadata": {
        "collapsed": false,
        "id": "YKzqmTKyZQiV"
      }
    },
    {
      "cell_type": "code",
      "execution_count": null,
      "outputs": [
        {
          "output_type": "stream",
          "name": "stdout",
          "text": [
            "Files already downloaded and verified\n",
            "Files already downloaded and verified\n",
            "Epoch 1: train loss 0.05028054490685463, accuracy 0.3868888888888889\n",
            "Epoch 1: validation loss 0.04147230490446091, accuracy 0.5456\n",
            "Epoch 1: train loss 0.033639177680015564, accuracy 0.6148\n",
            "Epoch 2: validation loss 0.026561914348602295, accuracy 0.7034\n",
            "Epoch 1: train loss 0.02576061710715294, accuracy 0.7148666666666667\n",
            "Epoch 3: validation loss 0.02317628452181816, accuracy 0.744\n",
            "Epoch 1: train loss 0.020628293976187706, accuracy 0.7752222222222223\n",
            "Epoch 4: validation loss 0.021399199867248534, accuracy 0.771\n",
            "Epoch 1: train loss 0.017199356108903885, accuracy 0.8127111111111112\n",
            "Epoch 5: validation loss 0.01969984709620476, accuracy 0.7902\n",
            "Epoch 1: train loss 0.0143361184746027, accuracy 0.8449333333333333\n",
            "Epoch 6: validation loss 0.019189575929939747, accuracy 0.8004\n",
            "Epoch 1: train loss 0.012040548026561737, accuracy 0.8689333333333333\n",
            "Epoch 7: validation loss 0.017127903091907502, accuracy 0.8216\n",
            "Epoch 1: train loss 0.009953178465366364, accuracy 0.8913333333333333\n",
            "Epoch 8: validation loss 0.017258387091755867, accuracy 0.8198\n",
            "Epoch 1: train loss 0.008150538429617882, accuracy 0.9125555555555556\n",
            "Epoch 9: validation loss 0.014826430508494377, accuracy 0.8448\n",
            "Epoch 1: train loss 0.006748498417437077, accuracy 0.9256888888888889\n",
            "Epoch 10: validation loss 0.015210123881697655, accuracy 0.8524\n",
            "Final test set performance:\n",
            "\tloss 0.01566056731212884\n",
            "\taccuracy 0.8523\n"
          ]
        }
      ],
      "source": [
        "from dataloader import load_cifars\n",
        "trainloaders, valloaders, testloader = load_cifars(1)\n",
        "\n",
        "trainloader = trainloaders[0]\n",
        "valloader = valloaders[0]\n",
        "net = VGG16().to(DEVICE)\n",
        "\n",
        "for epoch in range(10):\n",
        "    net.train_epoch(trainloader, 1)\n",
        "    loss, accuracy = net.test(valloader)\n",
        "    print(f\"Epoch {epoch+1}: validation loss {loss}, accuracy {accuracy}\")\n",
        "\n",
        "loss, accuracy = net.test(testloader)\n",
        "print(f\"Final test set performance:\\n\\tloss {loss}\\n\\taccuracy {accuracy}\")"
      ],
      "metadata": {
        "ExecuteTime": {
          "start_time": "2023-06-09T08:51:30.955817356Z"
        },
        "id": "fpc_B9ljZQiW",
        "outputId": "de06f3b3-222f-41a6-eacd-4a2705a4ba96",
        "colab": {
          "base_uri": "https://localhost:8080/"
        }
      }
    },
    {
      "cell_type": "markdown",
      "source": [
        "## Fed Average"
      ],
      "metadata": {
        "collapsed": false,
        "id": "lc0C7BXjZQiX"
      }
    },
    {
      "cell_type": "code",
      "source": [
        "strategyConfig = {\n",
        "    \"fraction_fit\":0.3,\n",
        "    \"fraction_evaluate\":0.3,\n",
        "    \"min_fit_clients\":3,\n",
        "    \"min_evaluate_clients\":3,\n",
        "    \"min_available_clients\":NUM_CLIENTS,\n",
        "}"
      ],
      "metadata": {
        "id": "LMwQqEHzBR8h",
        "ExecuteTime": {
          "end_time": "2023-06-10T04:06:14.532512377Z",
          "start_time": "2023-06-10T04:06:14.530292940Z"
        }
      },
      "execution_count": 3,
      "outputs": []
    },
    {
      "cell_type": "code",
      "execution_count": null,
      "outputs": [
        {
          "output_type": "stream",
          "name": "stdout",
          "text": [
            "Downloading https://www.cs.toronto.edu/~kriz/cifar-10-python.tar.gz to ./dataset/cifar-10-python.tar.gz\n"
          ]
        },
        {
          "output_type": "stream",
          "name": "stderr",
          "text": [
            "100%|██████████| 170498071/170498071 [00:04<00:00, 34372272.94it/s]\n"
          ]
        },
        {
          "output_type": "stream",
          "name": "stdout",
          "text": [
            "Extracting ./dataset/cifar-10-python.tar.gz to ./dataset\n",
            "Files already downloaded and verified\n"
          ]
        },
        {
          "output_type": "stream",
          "name": "stderr",
          "text": [
            "INFO flwr 2023-06-10 08:59:06,094 | app.py:146 | Starting Flower simulation, config: ServerConfig(num_rounds=100, round_timeout=None)\n",
            "INFO:flwr:Starting Flower simulation, config: ServerConfig(num_rounds=100, round_timeout=None)\n",
            "2023-06-10 08:59:09,323\tINFO worker.py:1636 -- Started a local Ray instance.\n",
            "INFO flwr 2023-06-10 08:59:10,858 | app.py:180 | Flower VCE: Ray initialized with resources: {'CPU': 2.0, 'memory': 7861176731.0, 'object_store_memory': 3930588364.0, 'GPU': 1.0, 'node:172.28.0.12': 1.0}\n",
            "INFO:flwr:Flower VCE: Ray initialized with resources: {'CPU': 2.0, 'memory': 7861176731.0, 'object_store_memory': 3930588364.0, 'GPU': 1.0, 'node:172.28.0.12': 1.0}\n",
            "INFO flwr 2023-06-10 08:59:10,867 | server.py:86 | Initializing global parameters\n",
            "INFO:flwr:Initializing global parameters\n",
            "INFO flwr 2023-06-10 08:59:10,875 | server.py:269 | Using initial parameters provided by strategy\n",
            "INFO:flwr:Using initial parameters provided by strategy\n",
            "INFO flwr 2023-06-10 08:59:10,883 | server.py:88 | Evaluating initial parameters\n",
            "INFO:flwr:Evaluating initial parameters\n",
            "INFO flwr 2023-06-10 08:59:21,990 | server.py:91 | initial parameters (loss, other metrics): 0.07212100248336792, {'accuracy': 0.1}\n",
            "INFO:flwr:initial parameters (loss, other metrics): 0.07212100248336792, {'accuracy': 0.1}\n",
            "INFO flwr 2023-06-10 08:59:21,995 | server.py:101 | FL starting\n",
            "INFO:flwr:FL starting\n",
            "DEBUG flwr 2023-06-10 08:59:22,000 | server.py:218 | fit_round 1: strategy sampled 3 clients (out of 10)\n",
            "DEBUG:flwr:fit_round 1: strategy sampled 3 clients (out of 10)\n"
          ]
        },
        {
          "output_type": "stream",
          "name": "stdout",
          "text": [
            "Server-side evaluation loss 0.07212100248336792 / accuracy 0.1\n"
          ]
        },
        {
          "output_type": "stream",
          "name": "stderr",
          "text": [
            "\u001b[2m\u001b[36m(pid=1227)\u001b[0m 2023-06-10 08:59:29.365097: W tensorflow/compiler/tf2tensorrt/utils/py_utils.cc:38] TF-TRT Warning: Could not find TensorRT\n"
          ]
        },
        {
          "output_type": "stream",
          "name": "stdout",
          "text": [
            "\u001b[2m\u001b[36m(launch_and_fit pid=1227)\u001b[0m [Client 4, round 1] fit, config: {'server_round': 1, 'local_epochs': 1}\n",
            "\u001b[2m\u001b[36m(launch_and_fit pid=1227)\u001b[0m Epoch 1: train loss 0.06443459540605545, accuracy 0.2451111111111111\n"
          ]
        },
        {
          "output_type": "stream",
          "name": "stderr",
          "text": [
            "\u001b[2m\u001b[36m(pid=1299)\u001b[0m 2023-06-10 08:59:37.916114: W tensorflow/compiler/tf2tensorrt/utils/py_utils.cc:38] TF-TRT Warning: Could not find TensorRT\n"
          ]
        },
        {
          "output_type": "stream",
          "name": "stdout",
          "text": [
            "\u001b[2m\u001b[36m(launch_and_fit pid=1299)\u001b[0m [Client 2, round 1] fit, config: {'server_round': 1, 'local_epochs': 1}\n",
            "\u001b[2m\u001b[36m(launch_and_fit pid=1299)\u001b[0m Epoch 1: train loss 0.06423848867416382, accuracy 0.23755555555555555\n"
          ]
        },
        {
          "output_type": "stream",
          "name": "stderr",
          "text": [
            "\u001b[2m\u001b[36m(pid=1384)\u001b[0m 2023-06-10 08:59:48.348419: W tensorflow/compiler/tf2tensorrt/utils/py_utils.cc:38] TF-TRT Warning: Could not find TensorRT\n"
          ]
        },
        {
          "output_type": "stream",
          "name": "stdout",
          "text": [
            "\u001b[2m\u001b[36m(launch_and_fit pid=1384)\u001b[0m [Client 0, round 1] fit, config: {'server_round': 1, 'local_epochs': 1}\n"
          ]
        },
        {
          "output_type": "stream",
          "name": "stderr",
          "text": [
            "DEBUG flwr 2023-06-10 08:59:56,522 | server.py:232 | fit_round 1 received 3 results and 0 failures\n",
            "DEBUG:flwr:fit_round 1 received 3 results and 0 failures\n",
            "WARNING flwr 2023-06-10 08:59:56,537 | fedavg.py:243 | No fit_metrics_aggregation_fn provided\n",
            "WARNING:flwr:No fit_metrics_aggregation_fn provided\n"
          ]
        },
        {
          "output_type": "stream",
          "name": "stdout",
          "text": [
            "\u001b[2m\u001b[36m(launch_and_fit pid=1384)\u001b[0m Epoch 1: train loss 0.06353357434272766, accuracy 0.25266666666666665\n"
          ]
        },
        {
          "output_type": "stream",
          "name": "stderr",
          "text": [
            "INFO flwr 2023-06-10 08:59:59,770 | server.py:119 | fit progress: (1, 0.058994742059707644, {'accuracy': 0.3373}, 37.77030592300002)\n",
            "INFO:flwr:fit progress: (1, 0.058994742059707644, {'accuracy': 0.3373}, 37.77030592300002)\n",
            "DEBUG flwr 2023-06-10 08:59:59,775 | server.py:168 | evaluate_round 1: strategy sampled 3 clients (out of 10)\n",
            "DEBUG:flwr:evaluate_round 1: strategy sampled 3 clients (out of 10)\n"
          ]
        },
        {
          "output_type": "stream",
          "name": "stdout",
          "text": [
            "Server-side evaluation loss 0.058994742059707644 / accuracy 0.3373\n"
          ]
        },
        {
          "output_type": "stream",
          "name": "stderr",
          "text": [
            "\u001b[2m\u001b[36m(pid=1506)\u001b[0m 2023-06-10 09:00:05.375805: W tensorflow/compiler/tf2tensorrt/utils/py_utils.cc:38] TF-TRT Warning: Could not find TensorRT\n"
          ]
        },
        {
          "output_type": "stream",
          "name": "stdout",
          "text": [
            "\u001b[2m\u001b[36m(launch_and_evaluate pid=1506)\u001b[0m [Client 8] evaluate, config: {}\n"
          ]
        },
        {
          "output_type": "stream",
          "name": "stderr",
          "text": [
            "\u001b[2m\u001b[36m(pid=1571)\u001b[0m 2023-06-10 09:00:13.204943: W tensorflow/compiler/tf2tensorrt/utils/py_utils.cc:38] TF-TRT Warning: Could not find TensorRT\n"
          ]
        },
        {
          "output_type": "stream",
          "name": "stdout",
          "text": [
            "\u001b[2m\u001b[36m(launch_and_evaluate pid=1571)\u001b[0m [Client 7] evaluate, config: {}\n"
          ]
        },
        {
          "output_type": "stream",
          "name": "stderr",
          "text": [
            "\u001b[2m\u001b[36m(pid=1633)\u001b[0m 2023-06-10 09:00:19.135066: W tensorflow/compiler/tf2tensorrt/utils/py_utils.cc:38] TF-TRT Warning: Could not find TensorRT\n"
          ]
        },
        {
          "output_type": "stream",
          "name": "stdout",
          "text": [
            "\u001b[2m\u001b[36m(launch_and_evaluate pid=1633)\u001b[0m [Client 4] evaluate, config: {}\n"
          ]
        },
        {
          "output_type": "stream",
          "name": "stderr",
          "text": [
            "DEBUG flwr 2023-06-10 09:00:23,839 | server.py:182 | evaluate_round 1 received 3 results and 0 failures\n",
            "DEBUG:flwr:evaluate_round 1 received 3 results and 0 failures\n",
            "DEBUG flwr 2023-06-10 09:00:23,844 | server.py:218 | fit_round 2: strategy sampled 3 clients (out of 10)\n",
            "DEBUG:flwr:fit_round 2: strategy sampled 3 clients (out of 10)\n",
            "\u001b[2m\u001b[36m(pid=1726)\u001b[0m 2023-06-10 09:00:31.077273: W tensorflow/compiler/tf2tensorrt/utils/py_utils.cc:38] TF-TRT Warning: Could not find TensorRT\n"
          ]
        },
        {
          "output_type": "stream",
          "name": "stdout",
          "text": [
            "\u001b[2m\u001b[36m(launch_and_fit pid=1726)\u001b[0m [Client 0, round 2] fit, config: {'server_round': 2, 'local_epochs': 2}\n",
            "\u001b[2m\u001b[36m(launch_and_fit pid=1726)\u001b[0m Epoch 1: train loss 0.056412890553474426, accuracy 0.3428888888888889\n",
            "\u001b[2m\u001b[36m(launch_and_fit pid=1726)\u001b[0m Epoch 2: train loss 0.05146589130163193, accuracy 0.4008888888888889\n"
          ]
        },
        {
          "output_type": "stream",
          "name": "stderr",
          "text": [
            "\u001b[2m\u001b[36m(pid=1806)\u001b[0m 2023-06-10 09:00:43.066561: W tensorflow/compiler/tf2tensorrt/utils/py_utils.cc:38] TF-TRT Warning: Could not find TensorRT\n"
          ]
        },
        {
          "output_type": "stream",
          "name": "stdout",
          "text": [
            "\u001b[2m\u001b[1m\u001b[36m(autoscaler +1m59s)\u001b[0m Tip: use `ray status` to view detailed cluster status. To disable these messages, set RAY_SCHEDULER_EVENTS=0.\n",
            "\u001b[2m\u001b[1m\u001b[33m(autoscaler +1m59s)\u001b[0m Warning: The following resource request cannot be scheduled right now: {'GPU': 1.0, 'CPU': 1.0}. This is likely due to all cluster resources being claimed by actors. Consider creating fewer actors or adding more nodes to this Ray cluster.\n",
            "\u001b[2m\u001b[36m(launch_and_fit pid=1806)\u001b[0m [Client 7, round 2] fit, config: {'server_round': 2, 'local_epochs': 2}\n",
            "\u001b[2m\u001b[36m(launch_and_fit pid=1806)\u001b[0m Epoch 1: train loss 0.05577917397022247, accuracy 0.3428888888888889\n",
            "\u001b[2m\u001b[36m(launch_and_fit pid=1806)\u001b[0m Epoch 2: train loss 0.05082476884126663, accuracy 0.408\n"
          ]
        },
        {
          "output_type": "stream",
          "name": "stderr",
          "text": [
            "\u001b[2m\u001b[36m(pid=1893)\u001b[0m 2023-06-10 09:00:52.594570: W tensorflow/compiler/tf2tensorrt/utils/py_utils.cc:38] TF-TRT Warning: Could not find TensorRT\n"
          ]
        },
        {
          "output_type": "stream",
          "name": "stdout",
          "text": [
            "\u001b[2m\u001b[36m(launch_and_fit pid=1893)\u001b[0m [Client 6, round 2] fit, config: {'server_round': 2, 'local_epochs': 2}\n",
            "\u001b[2m\u001b[36m(launch_and_fit pid=1893)\u001b[0m Epoch 1: train loss 0.05717677250504494, accuracy 0.33266666666666667\n"
          ]
        },
        {
          "output_type": "stream",
          "name": "stderr",
          "text": [
            "DEBUG flwr 2023-06-10 09:01:01,902 | server.py:232 | fit_round 2 received 3 results and 0 failures\n",
            "DEBUG:flwr:fit_round 2 received 3 results and 0 failures\n"
          ]
        },
        {
          "output_type": "stream",
          "name": "stdout",
          "text": [
            "\u001b[2m\u001b[36m(launch_and_fit pid=1893)\u001b[0m Epoch 2: train loss 0.05242401361465454, accuracy 0.38555555555555554\n"
          ]
        },
        {
          "output_type": "stream",
          "name": "stderr",
          "text": [
            "INFO flwr 2023-06-10 09:01:05,161 | server.py:119 | fit progress: (2, 0.049431411266326906, {'accuracy': 0.4198}, 103.161157772)\n",
            "INFO:flwr:fit progress: (2, 0.049431411266326906, {'accuracy': 0.4198}, 103.161157772)\n",
            "DEBUG flwr 2023-06-10 09:01:05,166 | server.py:168 | evaluate_round 2: strategy sampled 3 clients (out of 10)\n",
            "DEBUG:flwr:evaluate_round 2: strategy sampled 3 clients (out of 10)\n"
          ]
        },
        {
          "output_type": "stream",
          "name": "stdout",
          "text": [
            "Server-side evaluation loss 0.049431411266326906 / accuracy 0.4198\n"
          ]
        },
        {
          "output_type": "stream",
          "name": "stderr",
          "text": [
            "\u001b[2m\u001b[36m(pid=2020)\u001b[0m 2023-06-10 09:01:12.672719: W tensorflow/compiler/tf2tensorrt/utils/py_utils.cc:38] TF-TRT Warning: Could not find TensorRT\n"
          ]
        },
        {
          "output_type": "stream",
          "name": "stdout",
          "text": [
            "\u001b[2m\u001b[36m(launch_and_evaluate pid=2020)\u001b[0m [Client 0] evaluate, config: {}\n"
          ]
        },
        {
          "output_type": "stream",
          "name": "stderr",
          "text": [
            "\u001b[2m\u001b[36m(pid=2091)\u001b[0m 2023-06-10 09:01:19.109414: W tensorflow/compiler/tf2tensorrt/utils/py_utils.cc:38] TF-TRT Warning: Could not find TensorRT\n"
          ]
        },
        {
          "output_type": "stream",
          "name": "stdout",
          "text": [
            "\u001b[2m\u001b[36m(launch_and_evaluate pid=2091)\u001b[0m [Client 6] evaluate, config: {}\n"
          ]
        },
        {
          "output_type": "stream",
          "name": "stderr",
          "text": [
            "\u001b[2m\u001b[36m(pid=2154)\u001b[0m 2023-06-10 09:01:25.735652: W tensorflow/compiler/tf2tensorrt/utils/py_utils.cc:38] TF-TRT Warning: Could not find TensorRT\n"
          ]
        },
        {
          "output_type": "stream",
          "name": "stdout",
          "text": [
            "\u001b[2m\u001b[36m(launch_and_evaluate pid=2154)\u001b[0m [Client 4] evaluate, config: {}\n"
          ]
        },
        {
          "output_type": "stream",
          "name": "stderr",
          "text": [
            "DEBUG flwr 2023-06-10 09:01:31,450 | server.py:182 | evaluate_round 2 received 3 results and 0 failures\n",
            "DEBUG:flwr:evaluate_round 2 received 3 results and 0 failures\n",
            "DEBUG flwr 2023-06-10 09:01:31,454 | server.py:218 | fit_round 3: strategy sampled 3 clients (out of 10)\n",
            "DEBUG:flwr:fit_round 3: strategy sampled 3 clients (out of 10)\n",
            "\u001b[2m\u001b[36m(pid=2245)\u001b[0m 2023-06-10 09:01:37.052122: W tensorflow/compiler/tf2tensorrt/utils/py_utils.cc:38] TF-TRT Warning: Could not find TensorRT\n"
          ]
        },
        {
          "output_type": "stream",
          "name": "stdout",
          "text": [
            "\u001b[2m\u001b[36m(launch_and_fit pid=2245)\u001b[0m [Client 1, round 3] fit, config: {'server_round': 3, 'local_epochs': 2}\n",
            "\u001b[2m\u001b[36m(launch_and_fit pid=2245)\u001b[0m Epoch 1: train loss 0.04968206584453583, accuracy 0.41755555555555557\n",
            "\u001b[2m\u001b[36m(launch_and_fit pid=2245)\u001b[0m Epoch 2: train loss 0.04688708111643791, accuracy 0.45266666666666666\n"
          ]
        },
        {
          "output_type": "stream",
          "name": "stderr",
          "text": [
            "\u001b[2m\u001b[36m(pid=2330)\u001b[0m 2023-06-10 09:01:48.237569: W tensorflow/compiler/tf2tensorrt/utils/py_utils.cc:38] TF-TRT Warning: Could not find TensorRT\n"
          ]
        },
        {
          "output_type": "stream",
          "name": "stdout",
          "text": [
            "\u001b[2m\u001b[36m(launch_and_fit pid=2330)\u001b[0m [Client 2, round 3] fit, config: {'server_round': 3, 'local_epochs': 2}\n",
            "\u001b[2m\u001b[36m(launch_and_fit pid=2330)\u001b[0m Epoch 1: train loss 0.05077614262700081, accuracy 0.41155555555555556\n",
            "\u001b[2m\u001b[36m(launch_and_fit pid=2330)\u001b[0m Epoch 2: train loss 0.047985002398490906, accuracy 0.444\n"
          ]
        },
        {
          "output_type": "stream",
          "name": "stderr",
          "text": [
            "\u001b[2m\u001b[36m(pid=2410)\u001b[0m 2023-06-10 09:01:59.376233: W tensorflow/compiler/tf2tensorrt/utils/py_utils.cc:38] TF-TRT Warning: Could not find TensorRT\n"
          ]
        },
        {
          "output_type": "stream",
          "name": "stdout",
          "text": [
            "\u001b[2m\u001b[36m(launch_and_fit pid=2410)\u001b[0m [Client 3, round 3] fit, config: {'server_round': 3, 'local_epochs': 2}\n",
            "\u001b[2m\u001b[36m(launch_and_fit pid=2410)\u001b[0m Epoch 1: train loss 0.05063796043395996, accuracy 0.41333333333333333\n"
          ]
        },
        {
          "output_type": "stream",
          "name": "stderr",
          "text": [
            "DEBUG flwr 2023-06-10 09:02:07,551 | server.py:232 | fit_round 3 received 3 results and 0 failures\n",
            "DEBUG:flwr:fit_round 3 received 3 results and 0 failures\n"
          ]
        },
        {
          "output_type": "stream",
          "name": "stdout",
          "text": [
            "\u001b[2m\u001b[36m(launch_and_fit pid=2410)\u001b[0m Epoch 2: train loss 0.048101913183927536, accuracy 0.43866666666666665\n"
          ]
        },
        {
          "output_type": "stream",
          "name": "stderr",
          "text": [
            "INFO flwr 2023-06-10 09:02:10,926 | server.py:119 | fit progress: (3, 0.04630721968412399, {'accuracy': 0.4614}, 168.926909864)\n",
            "INFO:flwr:fit progress: (3, 0.04630721968412399, {'accuracy': 0.4614}, 168.926909864)\n",
            "DEBUG flwr 2023-06-10 09:02:10,934 | server.py:168 | evaluate_round 3: strategy sampled 3 clients (out of 10)\n",
            "DEBUG:flwr:evaluate_round 3: strategy sampled 3 clients (out of 10)\n"
          ]
        },
        {
          "output_type": "stream",
          "name": "stdout",
          "text": [
            "Server-side evaluation loss 0.04630721968412399 / accuracy 0.4614\n"
          ]
        },
        {
          "output_type": "stream",
          "name": "stderr",
          "text": [
            "\u001b[2m\u001b[36m(pid=2544)\u001b[0m 2023-06-10 09:02:18.879629: W tensorflow/compiler/tf2tensorrt/utils/py_utils.cc:38] TF-TRT Warning: Could not find TensorRT\n"
          ]
        },
        {
          "output_type": "stream",
          "name": "stdout",
          "text": [
            "\u001b[2m\u001b[36m(launch_and_evaluate pid=2544)\u001b[0m [Client 7] evaluate, config: {}\n"
          ]
        },
        {
          "output_type": "stream",
          "name": "stderr",
          "text": [
            "\u001b[2m\u001b[36m(pid=2608)\u001b[0m 2023-06-10 09:02:24.967141: W tensorflow/compiler/tf2tensorrt/utils/py_utils.cc:38] TF-TRT Warning: Could not find TensorRT\n"
          ]
        },
        {
          "output_type": "stream",
          "name": "stdout",
          "text": [
            "\u001b[2m\u001b[36m(launch_and_evaluate pid=2608)\u001b[0m [Client 3] evaluate, config: {}\n"
          ]
        },
        {
          "output_type": "stream",
          "name": "stderr",
          "text": [
            "\u001b[2m\u001b[36m(pid=2679)\u001b[0m 2023-06-10 09:02:32.926721: W tensorflow/compiler/tf2tensorrt/utils/py_utils.cc:38] TF-TRT Warning: Could not find TensorRT\n"
          ]
        },
        {
          "output_type": "stream",
          "name": "stdout",
          "text": [
            "\u001b[2m\u001b[36m(launch_and_evaluate pid=2679)\u001b[0m [Client 1] evaluate, config: {}\n"
          ]
        },
        {
          "output_type": "stream",
          "name": "stderr",
          "text": [
            "DEBUG flwr 2023-06-10 09:02:36,997 | server.py:182 | evaluate_round 3 received 3 results and 0 failures\n",
            "DEBUG:flwr:evaluate_round 3 received 3 results and 0 failures\n",
            "DEBUG flwr 2023-06-10 09:02:37,003 | server.py:218 | fit_round 4: strategy sampled 3 clients (out of 10)\n",
            "DEBUG:flwr:fit_round 4: strategy sampled 3 clients (out of 10)\n",
            "\u001b[2m\u001b[36m(pid=2761)\u001b[0m 2023-06-10 09:02:43.462806: W tensorflow/compiler/tf2tensorrt/utils/py_utils.cc:38] TF-TRT Warning: Could not find TensorRT\n"
          ]
        },
        {
          "output_type": "stream",
          "name": "stdout",
          "text": [
            "\u001b[2m\u001b[36m(launch_and_fit pid=2761)\u001b[0m [Client 0, round 4] fit, config: {'server_round': 4, 'local_epochs': 2}\n",
            "\u001b[2m\u001b[36m(launch_and_fit pid=2761)\u001b[0m Epoch 1: train loss 0.04713353142142296, accuracy 0.4528888888888889\n",
            "\u001b[2m\u001b[36m(launch_and_fit pid=2761)\u001b[0m Epoch 2: train loss 0.04462435469031334, accuracy 0.48133333333333334\n"
          ]
        },
        {
          "output_type": "stream",
          "name": "stderr",
          "text": [
            "\u001b[2m\u001b[36m(pid=2857)\u001b[0m 2023-06-10 09:02:56.205102: W tensorflow/compiler/tf2tensorrt/utils/py_utils.cc:38] TF-TRT Warning: Could not find TensorRT\n"
          ]
        },
        {
          "output_type": "stream",
          "name": "stdout",
          "text": [
            "\u001b[2m\u001b[36m(launch_and_fit pid=2857)\u001b[0m [Client 6, round 4] fit, config: {'server_round': 4, 'local_epochs': 2}\n",
            "\u001b[2m\u001b[36m(launch_and_fit pid=2857)\u001b[0m Epoch 1: train loss 0.04820726439356804, accuracy 0.4371111111111111\n",
            "\u001b[2m\u001b[36m(launch_and_fit pid=2857)\u001b[0m Epoch 2: train loss 0.045341990888118744, accuracy 0.47333333333333333\n"
          ]
        },
        {
          "output_type": "stream",
          "name": "stderr",
          "text": [
            "\u001b[2m\u001b[36m(pid=2943)\u001b[0m 2023-06-10 09:03:07.383100: W tensorflow/compiler/tf2tensorrt/utils/py_utils.cc:38] TF-TRT Warning: Could not find TensorRT\n"
          ]
        },
        {
          "output_type": "stream",
          "name": "stdout",
          "text": [
            "\u001b[2m\u001b[36m(launch_and_fit pid=2943)\u001b[0m [Client 7, round 4] fit, config: {'server_round': 4, 'local_epochs': 2}\n",
            "\u001b[2m\u001b[36m(launch_and_fit pid=2943)\u001b[0m Epoch 1: train loss 0.04677756875753403, accuracy 0.4562222222222222\n"
          ]
        },
        {
          "output_type": "stream",
          "name": "stderr",
          "text": [
            "DEBUG flwr 2023-06-10 09:03:15,263 | server.py:232 | fit_round 4 received 3 results and 0 failures\n",
            "DEBUG:flwr:fit_round 4 received 3 results and 0 failures\n"
          ]
        },
        {
          "output_type": "stream",
          "name": "stdout",
          "text": [
            "\u001b[2m\u001b[36m(launch_and_fit pid=2943)\u001b[0m Epoch 2: train loss 0.04392033442854881, accuracy 0.4888888888888889\n"
          ]
        },
        {
          "output_type": "stream",
          "name": "stderr",
          "text": [
            "INFO flwr 2023-06-10 09:03:19,800 | server.py:119 | fit progress: (4, 0.044525167006254196, {'accuracy': 0.481}, 237.80037791700002)\n",
            "INFO:flwr:fit progress: (4, 0.044525167006254196, {'accuracy': 0.481}, 237.80037791700002)\n",
            "DEBUG flwr 2023-06-10 09:03:19,804 | server.py:168 | evaluate_round 4: strategy sampled 3 clients (out of 10)\n",
            "DEBUG:flwr:evaluate_round 4: strategy sampled 3 clients (out of 10)\n"
          ]
        },
        {
          "output_type": "stream",
          "name": "stdout",
          "text": [
            "Server-side evaluation loss 0.044525167006254196 / accuracy 0.481\n"
          ]
        },
        {
          "output_type": "stream",
          "name": "stderr",
          "text": [
            "\u001b[2m\u001b[36m(pid=3066)\u001b[0m 2023-06-10 09:03:25.440357: W tensorflow/compiler/tf2tensorrt/utils/py_utils.cc:38] TF-TRT Warning: Could not find TensorRT\n"
          ]
        },
        {
          "output_type": "stream",
          "name": "stdout",
          "text": [
            "\u001b[2m\u001b[36m(launch_and_evaluate pid=3066)\u001b[0m [Client 1] evaluate, config: {}\n"
          ]
        },
        {
          "output_type": "stream",
          "name": "stderr",
          "text": [
            "\u001b[2m\u001b[36m(pid=3131)\u001b[0m 2023-06-10 09:03:33.343653: W tensorflow/compiler/tf2tensorrt/utils/py_utils.cc:38] TF-TRT Warning: Could not find TensorRT\n"
          ]
        },
        {
          "output_type": "stream",
          "name": "stdout",
          "text": [
            "\u001b[2m\u001b[36m(launch_and_evaluate pid=3131)\u001b[0m [Client 8] evaluate, config: {}\n"
          ]
        },
        {
          "output_type": "stream",
          "name": "stderr",
          "text": [
            "\u001b[2m\u001b[36m(pid=3201)\u001b[0m 2023-06-10 09:03:39.604172: W tensorflow/compiler/tf2tensorrt/utils/py_utils.cc:38] TF-TRT Warning: Could not find TensorRT\n"
          ]
        },
        {
          "output_type": "stream",
          "name": "stdout",
          "text": [
            "\u001b[2m\u001b[36m(launch_and_evaluate pid=3201)\u001b[0m [Client 6] evaluate, config: {}\n"
          ]
        },
        {
          "output_type": "stream",
          "name": "stderr",
          "text": [
            "DEBUG flwr 2023-06-10 09:03:43,814 | server.py:182 | evaluate_round 4 received 3 results and 0 failures\n",
            "DEBUG:flwr:evaluate_round 4 received 3 results and 0 failures\n",
            "DEBUG flwr 2023-06-10 09:03:43,821 | server.py:218 | fit_round 5: strategy sampled 3 clients (out of 10)\n",
            "DEBUG:flwr:fit_round 5: strategy sampled 3 clients (out of 10)\n",
            "\u001b[2m\u001b[36m(pid=3288)\u001b[0m 2023-06-10 09:03:51.913806: W tensorflow/compiler/tf2tensorrt/utils/py_utils.cc:38] TF-TRT Warning: Could not find TensorRT\n"
          ]
        },
        {
          "output_type": "stream",
          "name": "stdout",
          "text": [
            "\u001b[2m\u001b[36m(launch_and_fit pid=3288)\u001b[0m [Client 1, round 5] fit, config: {'server_round': 5, 'local_epochs': 2}\n",
            "\u001b[2m\u001b[36m(launch_and_fit pid=3288)\u001b[0m Epoch 1: train loss 0.04500428959727287, accuracy 0.4802222222222222\n",
            "\u001b[2m\u001b[36m(launch_and_fit pid=3288)\u001b[0m Epoch 2: train loss 0.04200844094157219, accuracy 0.5155555555555555\n"
          ]
        },
        {
          "output_type": "stream",
          "name": "stderr",
          "text": [
            "\u001b[2m\u001b[36m(pid=3370)\u001b[0m 2023-06-10 09:04:02.235184: W tensorflow/compiler/tf2tensorrt/utils/py_utils.cc:38] TF-TRT Warning: Could not find TensorRT\n"
          ]
        },
        {
          "output_type": "stream",
          "name": "stdout",
          "text": [
            "\u001b[2m\u001b[36m(launch_and_fit pid=3370)\u001b[0m [Client 4, round 5] fit, config: {'server_round': 5, 'local_epochs': 2}\n",
            "\u001b[2m\u001b[36m(launch_and_fit pid=3370)\u001b[0m Epoch 1: train loss 0.04528455063700676, accuracy 0.4782222222222222\n",
            "\u001b[2m\u001b[36m(launch_and_fit pid=3370)\u001b[0m Epoch 2: train loss 0.04319670423865318, accuracy 0.49822222222222223\n"
          ]
        },
        {
          "output_type": "stream",
          "name": "stderr",
          "text": [
            "\u001b[2m\u001b[36m(pid=3458)\u001b[0m 2023-06-10 09:04:12.685663: W tensorflow/compiler/tf2tensorrt/utils/py_utils.cc:38] TF-TRT Warning: Could not find TensorRT\n"
          ]
        },
        {
          "output_type": "stream",
          "name": "stdout",
          "text": [
            "\u001b[2m\u001b[36m(launch_and_fit pid=3458)\u001b[0m [Client 8, round 5] fit, config: {'server_round': 5, 'local_epochs': 2}\n",
            "\u001b[2m\u001b[36m(launch_and_fit pid=3458)\u001b[0m Epoch 1: train loss 0.04499439895153046, accuracy 0.47733333333333333\n"
          ]
        },
        {
          "output_type": "stream",
          "name": "stderr",
          "text": [
            "DEBUG flwr 2023-06-10 09:04:21,877 | server.py:232 | fit_round 5 received 3 results and 0 failures\n",
            "DEBUG:flwr:fit_round 5 received 3 results and 0 failures\n"
          ]
        },
        {
          "output_type": "stream",
          "name": "stdout",
          "text": [
            "\u001b[2m\u001b[36m(launch_and_fit pid=3458)\u001b[0m Epoch 2: train loss 0.04240494221448898, accuracy 0.5142222222222222\n"
          ]
        },
        {
          "output_type": "stream",
          "name": "stderr",
          "text": [
            "INFO flwr 2023-06-10 09:04:25,140 | server.py:119 | fit progress: (5, 0.042817185640335084, {'accuracy': 0.5012}, 303.140540536)\n",
            "INFO:flwr:fit progress: (5, 0.042817185640335084, {'accuracy': 0.5012}, 303.140540536)\n",
            "DEBUG flwr 2023-06-10 09:04:25,145 | server.py:168 | evaluate_round 5: strategy sampled 3 clients (out of 10)\n",
            "DEBUG:flwr:evaluate_round 5: strategy sampled 3 clients (out of 10)\n"
          ]
        },
        {
          "output_type": "stream",
          "name": "stdout",
          "text": [
            "Server-side evaluation loss 0.042817185640335084 / accuracy 0.5012\n"
          ]
        },
        {
          "output_type": "stream",
          "name": "stderr",
          "text": [
            "\u001b[2m\u001b[36m(pid=3580)\u001b[0m 2023-06-10 09:04:30.686660: W tensorflow/compiler/tf2tensorrt/utils/py_utils.cc:38] TF-TRT Warning: Could not find TensorRT\n"
          ]
        },
        {
          "output_type": "stream",
          "name": "stdout",
          "text": [
            "\u001b[2m\u001b[36m(launch_and_evaluate pid=3580)\u001b[0m [Client 1] evaluate, config: {}\n"
          ]
        },
        {
          "output_type": "stream",
          "name": "stderr",
          "text": [
            "\u001b[2m\u001b[36m(pid=3651)\u001b[0m 2023-06-10 09:04:38.782013: W tensorflow/compiler/tf2tensorrt/utils/py_utils.cc:38] TF-TRT Warning: Could not find TensorRT\n"
          ]
        },
        {
          "output_type": "stream",
          "name": "stdout",
          "text": [
            "\u001b[2m\u001b[36m(launch_and_evaluate pid=3651)\u001b[0m [Client 8] evaluate, config: {}\n"
          ]
        },
        {
          "output_type": "stream",
          "name": "stderr",
          "text": [
            "\u001b[2m\u001b[36m(pid=3715)\u001b[0m 2023-06-10 09:04:44.884889: W tensorflow/compiler/tf2tensorrt/utils/py_utils.cc:38] TF-TRT Warning: Could not find TensorRT\n"
          ]
        },
        {
          "output_type": "stream",
          "name": "stdout",
          "text": [
            "\u001b[2m\u001b[36m(launch_and_evaluate pid=3715)\u001b[0m [Client 7] evaluate, config: {}\n"
          ]
        },
        {
          "output_type": "stream",
          "name": "stderr",
          "text": [
            "DEBUG flwr 2023-06-10 09:04:50,537 | server.py:182 | evaluate_round 5 received 3 results and 0 failures\n",
            "DEBUG:flwr:evaluate_round 5 received 3 results and 0 failures\n",
            "DEBUG flwr 2023-06-10 09:04:50,540 | server.py:218 | fit_round 6: strategy sampled 3 clients (out of 10)\n",
            "DEBUG:flwr:fit_round 6: strategy sampled 3 clients (out of 10)\n",
            "\u001b[2m\u001b[36m(pid=3806)\u001b[0m 2023-06-10 09:04:56.615264: W tensorflow/compiler/tf2tensorrt/utils/py_utils.cc:38] TF-TRT Warning: Could not find TensorRT\n"
          ]
        },
        {
          "output_type": "stream",
          "name": "stdout",
          "text": [
            "\u001b[2m\u001b[36m(launch_and_fit pid=3806)\u001b[0m [Client 1, round 6] fit, config: {'server_round': 6, 'local_epochs': 2}\n",
            "\u001b[2m\u001b[36m(launch_and_fit pid=3806)\u001b[0m Epoch 1: train loss 0.04198566451668739, accuracy 0.5182222222222223\n",
            "\u001b[2m\u001b[36m(launch_and_fit pid=3806)\u001b[0m Epoch 2: train loss 0.03950103744864464, accuracy 0.5348888888888889\n"
          ]
        },
        {
          "output_type": "stream",
          "name": "stderr",
          "text": [
            "\u001b[2m\u001b[36m(pid=3888)\u001b[0m 2023-06-10 09:05:07.779072: W tensorflow/compiler/tf2tensorrt/utils/py_utils.cc:38] TF-TRT Warning: Could not find TensorRT\n"
          ]
        },
        {
          "output_type": "stream",
          "name": "stdout",
          "text": [
            "\u001b[2m\u001b[36m(launch_and_fit pid=3888)\u001b[0m [Client 3, round 6] fit, config: {'server_round': 6, 'local_epochs': 2}\n",
            "\u001b[2m\u001b[36m(launch_and_fit pid=3888)\u001b[0m Epoch 1: train loss 0.044490136206150055, accuracy 0.4875555555555556\n",
            "\u001b[2m\u001b[36m(launch_and_fit pid=3888)\u001b[0m Epoch 2: train loss 0.04151823744177818, accuracy 0.5155555555555555\n"
          ]
        },
        {
          "output_type": "stream",
          "name": "stderr",
          "text": [
            "\u001b[2m\u001b[36m(pid=3969)\u001b[0m 2023-06-10 09:05:16.774326: W tensorflow/compiler/tf2tensorrt/utils/py_utils.cc:38] TF-TRT Warning: Could not find TensorRT\n"
          ]
        },
        {
          "output_type": "stream",
          "name": "stdout",
          "text": [
            "\u001b[2m\u001b[36m(launch_and_fit pid=3969)\u001b[0m [Client 2, round 6] fit, config: {'server_round': 6, 'local_epochs': 2}\n",
            "\u001b[2m\u001b[36m(launch_and_fit pid=3969)\u001b[0m Epoch 1: train loss 0.044137775897979736, accuracy 0.49466666666666664\n"
          ]
        },
        {
          "output_type": "stream",
          "name": "stderr",
          "text": [
            "DEBUG flwr 2023-06-10 09:05:26,484 | server.py:232 | fit_round 6 received 3 results and 0 failures\n",
            "DEBUG:flwr:fit_round 6 received 3 results and 0 failures\n"
          ]
        },
        {
          "output_type": "stream",
          "name": "stdout",
          "text": [
            "\u001b[2m\u001b[36m(launch_and_fit pid=3969)\u001b[0m Epoch 2: train loss 0.04147207736968994, accuracy 0.5242222222222223\n"
          ]
        },
        {
          "output_type": "stream",
          "name": "stderr",
          "text": [
            "INFO flwr 2023-06-10 09:05:29,679 | server.py:119 | fit progress: (6, 0.04181643841862678, {'accuracy': 0.5136}, 367.67967329300006)\n",
            "INFO:flwr:fit progress: (6, 0.04181643841862678, {'accuracy': 0.5136}, 367.67967329300006)\n",
            "DEBUG flwr 2023-06-10 09:05:29,686 | server.py:168 | evaluate_round 6: strategy sampled 3 clients (out of 10)\n",
            "DEBUG:flwr:evaluate_round 6: strategy sampled 3 clients (out of 10)\n"
          ]
        },
        {
          "output_type": "stream",
          "name": "stdout",
          "text": [
            "Server-side evaluation loss 0.04181643841862678 / accuracy 0.5136\n"
          ]
        },
        {
          "output_type": "stream",
          "name": "stderr",
          "text": [
            "\u001b[2m\u001b[36m(pid=4094)\u001b[0m 2023-06-10 09:05:37.757627: W tensorflow/compiler/tf2tensorrt/utils/py_utils.cc:38] TF-TRT Warning: Could not find TensorRT\n"
          ]
        },
        {
          "output_type": "stream",
          "name": "stdout",
          "text": [
            "\u001b[2m\u001b[36m(launch_and_evaluate pid=4094)\u001b[0m [Client 8] evaluate, config: {}\n"
          ]
        },
        {
          "output_type": "stream",
          "name": "stderr",
          "text": [
            "\u001b[2m\u001b[36m(pid=4165)\u001b[0m 2023-06-10 09:05:43.400707: W tensorflow/compiler/tf2tensorrt/utils/py_utils.cc:38] TF-TRT Warning: Could not find TensorRT\n"
          ]
        },
        {
          "output_type": "stream",
          "name": "stdout",
          "text": [
            "\u001b[2m\u001b[36m(launch_and_evaluate pid=4165)\u001b[0m [Client 4] evaluate, config: {}\n"
          ]
        },
        {
          "output_type": "stream",
          "name": "stderr",
          "text": [
            "\u001b[2m\u001b[36m(pid=4227)\u001b[0m 2023-06-10 09:05:50.769861: W tensorflow/compiler/tf2tensorrt/utils/py_utils.cc:38] TF-TRT Warning: Could not find TensorRT\n"
          ]
        },
        {
          "output_type": "stream",
          "name": "stdout",
          "text": [
            "\u001b[2m\u001b[36m(launch_and_evaluate pid=4227)\u001b[0m [Client 7] evaluate, config: {}\n"
          ]
        },
        {
          "output_type": "stream",
          "name": "stderr",
          "text": [
            "DEBUG flwr 2023-06-10 09:05:57,119 | server.py:182 | evaluate_round 6 received 3 results and 0 failures\n",
            "DEBUG:flwr:evaluate_round 6 received 3 results and 0 failures\n",
            "DEBUG flwr 2023-06-10 09:05:57,122 | server.py:218 | fit_round 7: strategy sampled 3 clients (out of 10)\n",
            "DEBUG:flwr:fit_round 7: strategy sampled 3 clients (out of 10)\n",
            "\u001b[2m\u001b[36m(pid=4328)\u001b[0m 2023-06-10 09:06:03.534930: W tensorflow/compiler/tf2tensorrt/utils/py_utils.cc:38] TF-TRT Warning: Could not find TensorRT\n"
          ]
        },
        {
          "output_type": "stream",
          "name": "stdout",
          "text": [
            "\u001b[2m\u001b[36m(launch_and_fit pid=4328)\u001b[0m [Client 5, round 7] fit, config: {'server_round': 7, 'local_epochs': 2}\n",
            "\u001b[2m\u001b[36m(launch_and_fit pid=4328)\u001b[0m Epoch 1: train loss 0.0441940538585186, accuracy 0.4826666666666667\n",
            "\u001b[2m\u001b[36m(launch_and_fit pid=4328)\u001b[0m Epoch 2: train loss 0.041670192033052444, accuracy 0.5173333333333333\n"
          ]
        },
        {
          "output_type": "stream",
          "name": "stderr",
          "text": [
            "\u001b[2m\u001b[36m(pid=4413)\u001b[0m 2023-06-10 09:06:15.192601: W tensorflow/compiler/tf2tensorrt/utils/py_utils.cc:38] TF-TRT Warning: Could not find TensorRT\n"
          ]
        },
        {
          "output_type": "stream",
          "name": "stdout",
          "text": [
            "\u001b[2m\u001b[36m(launch_and_fit pid=4413)\u001b[0m [Client 6, round 7] fit, config: {'server_round': 7, 'local_epochs': 2}\n",
            "\u001b[2m\u001b[36m(launch_and_fit pid=4413)\u001b[0m Epoch 1: train loss 0.043025873601436615, accuracy 0.4971111111111111\n",
            "\u001b[2m\u001b[36m(launch_and_fit pid=4413)\u001b[0m Epoch 2: train loss 0.04066547751426697, accuracy 0.5291111111111111\n"
          ]
        },
        {
          "output_type": "stream",
          "name": "stderr",
          "text": [
            "\u001b[2m\u001b[36m(pid=4501)\u001b[0m 2023-06-10 09:06:26.333899: W tensorflow/compiler/tf2tensorrt/utils/py_utils.cc:38] TF-TRT Warning: Could not find TensorRT\n"
          ]
        },
        {
          "output_type": "stream",
          "name": "stdout",
          "text": [
            "\u001b[2m\u001b[36m(launch_and_fit pid=4501)\u001b[0m [Client 3, round 7] fit, config: {'server_round': 7, 'local_epochs': 2}\n",
            "\u001b[2m\u001b[36m(launch_and_fit pid=4501)\u001b[0m Epoch 1: train loss 0.04234830290079117, accuracy 0.5095555555555555\n"
          ]
        },
        {
          "output_type": "stream",
          "name": "stderr",
          "text": [
            "DEBUG flwr 2023-06-10 09:06:33,537 | server.py:232 | fit_round 7 received 3 results and 0 failures\n",
            "DEBUG:flwr:fit_round 7 received 3 results and 0 failures\n"
          ]
        },
        {
          "output_type": "stream",
          "name": "stdout",
          "text": [
            "\u001b[2m\u001b[36m(launch_and_fit pid=4501)\u001b[0m Epoch 2: train loss 0.03949225693941116, accuracy 0.546\n"
          ]
        },
        {
          "output_type": "stream",
          "name": "stderr",
          "text": [
            "INFO flwr 2023-06-10 09:06:37,661 | server.py:119 | fit progress: (7, 0.04123097580075264, {'accuracy': 0.527}, 435.66143525000007)\n",
            "INFO:flwr:fit progress: (7, 0.04123097580075264, {'accuracy': 0.527}, 435.66143525000007)\n",
            "DEBUG flwr 2023-06-10 09:06:37,668 | server.py:168 | evaluate_round 7: strategy sampled 3 clients (out of 10)\n",
            "DEBUG:flwr:evaluate_round 7: strategy sampled 3 clients (out of 10)\n"
          ]
        },
        {
          "output_type": "stream",
          "name": "stdout",
          "text": [
            "Server-side evaluation loss 0.04123097580075264 / accuracy 0.527\n"
          ]
        },
        {
          "output_type": "stream",
          "name": "stderr",
          "text": [
            "\u001b[2m\u001b[36m(pid=4623)\u001b[0m 2023-06-10 09:06:44.120511: W tensorflow/compiler/tf2tensorrt/utils/py_utils.cc:38] TF-TRT Warning: Could not find TensorRT\n"
          ]
        },
        {
          "output_type": "stream",
          "name": "stdout",
          "text": [
            "\u001b[2m\u001b[36m(launch_and_evaluate pid=4623)\u001b[0m [Client 8] evaluate, config: {}\n"
          ]
        },
        {
          "output_type": "stream",
          "name": "stderr",
          "text": [
            "\u001b[2m\u001b[36m(pid=4685)\u001b[0m 2023-06-10 09:06:50.380419: W tensorflow/compiler/tf2tensorrt/utils/py_utils.cc:38] TF-TRT Warning: Could not find TensorRT\n"
          ]
        },
        {
          "output_type": "stream",
          "name": "stdout",
          "text": [
            "\u001b[2m\u001b[36m(launch_and_evaluate pid=4685)\u001b[0m [Client 7] evaluate, config: {}\n"
          ]
        },
        {
          "output_type": "stream",
          "name": "stderr",
          "text": [
            "\u001b[2m\u001b[36m(pid=4760)\u001b[0m 2023-06-10 09:06:58.678918: W tensorflow/compiler/tf2tensorrt/utils/py_utils.cc:38] TF-TRT Warning: Could not find TensorRT\n"
          ]
        },
        {
          "output_type": "stream",
          "name": "stdout",
          "text": [
            "\u001b[2m\u001b[36m(launch_and_evaluate pid=4760)\u001b[0m [Client 4] evaluate, config: {}\n"
          ]
        },
        {
          "output_type": "stream",
          "name": "stderr",
          "text": [
            "DEBUG flwr 2023-06-10 09:07:02,725 | server.py:182 | evaluate_round 7 received 3 results and 0 failures\n",
            "DEBUG:flwr:evaluate_round 7 received 3 results and 0 failures\n",
            "DEBUG flwr 2023-06-10 09:07:02,731 | server.py:218 | fit_round 8: strategy sampled 3 clients (out of 10)\n",
            "DEBUG:flwr:fit_round 8: strategy sampled 3 clients (out of 10)\n",
            "\u001b[2m\u001b[36m(pid=4842)\u001b[0m 2023-06-10 09:07:10.644689: W tensorflow/compiler/tf2tensorrt/utils/py_utils.cc:38] TF-TRT Warning: Could not find TensorRT\n"
          ]
        },
        {
          "output_type": "stream",
          "name": "stdout",
          "text": [
            "\u001b[2m\u001b[36m(launch_and_fit pid=4842)\u001b[0m [Client 7, round 8] fit, config: {'server_round': 8, 'local_epochs': 2}\n",
            "\u001b[2m\u001b[36m(launch_and_fit pid=4842)\u001b[0m Epoch 1: train loss 0.040935955941677094, accuracy 0.5293333333333333\n",
            "\u001b[2m\u001b[36m(launch_and_fit pid=4842)\u001b[0m Epoch 2: train loss 0.03807704523205757, accuracy 0.5593333333333333\n"
          ]
        },
        {
          "output_type": "stream",
          "name": "stderr",
          "text": [
            "\u001b[2m\u001b[36m(pid=4927)\u001b[0m 2023-06-10 09:07:19.934422: W tensorflow/compiler/tf2tensorrt/utils/py_utils.cc:38] TF-TRT Warning: Could not find TensorRT\n"
          ]
        },
        {
          "output_type": "stream",
          "name": "stdout",
          "text": [
            "\u001b[2m\u001b[36m(launch_and_fit pid=4927)\u001b[0m [Client 5, round 8] fit, config: {'server_round': 8, 'local_epochs': 2}\n",
            "\u001b[2m\u001b[36m(launch_and_fit pid=4927)\u001b[0m Epoch 1: train loss 0.04157638177275658, accuracy 0.5168888888888888\n",
            "\u001b[2m\u001b[36m(launch_and_fit pid=4927)\u001b[0m Epoch 2: train loss 0.038818035274744034, accuracy 0.5511111111111111\n"
          ]
        },
        {
          "output_type": "stream",
          "name": "stderr",
          "text": [
            "\u001b[2m\u001b[36m(pid=5015)\u001b[0m 2023-06-10 09:07:31.278346: W tensorflow/compiler/tf2tensorrt/utils/py_utils.cc:38] TF-TRT Warning: Could not find TensorRT\n"
          ]
        },
        {
          "output_type": "stream",
          "name": "stdout",
          "text": [
            "\u001b[2m\u001b[36m(launch_and_fit pid=5015)\u001b[0m [Client 4, round 8] fit, config: {'server_round': 8, 'local_epochs': 2}\n",
            "\u001b[2m\u001b[36m(launch_and_fit pid=5015)\u001b[0m Epoch 1: train loss 0.04131738841533661, accuracy 0.5333333333333333\n"
          ]
        },
        {
          "output_type": "stream",
          "name": "stderr",
          "text": [
            "DEBUG flwr 2023-06-10 09:07:39,105 | server.py:232 | fit_round 8 received 3 results and 0 failures\n",
            "DEBUG:flwr:fit_round 8 received 3 results and 0 failures\n"
          ]
        },
        {
          "output_type": "stream",
          "name": "stdout",
          "text": [
            "\u001b[2m\u001b[36m(launch_and_fit pid=5015)\u001b[0m Epoch 2: train loss 0.038090530782938004, accuracy 0.5664444444444444\n"
          ]
        },
        {
          "output_type": "stream",
          "name": "stderr",
          "text": [
            "INFO flwr 2023-06-10 09:07:43,588 | server.py:119 | fit progress: (8, 0.04010305799245834, {'accuracy': 0.5327}, 501.5880308730001)\n",
            "INFO:flwr:fit progress: (8, 0.04010305799245834, {'accuracy': 0.5327}, 501.5880308730001)\n",
            "DEBUG flwr 2023-06-10 09:07:43,595 | server.py:168 | evaluate_round 8: strategy sampled 3 clients (out of 10)\n",
            "DEBUG:flwr:evaluate_round 8: strategy sampled 3 clients (out of 10)\n"
          ]
        },
        {
          "output_type": "stream",
          "name": "stdout",
          "text": [
            "Server-side evaluation loss 0.04010305799245834 / accuracy 0.5327\n"
          ]
        },
        {
          "output_type": "stream",
          "name": "stderr",
          "text": [
            "\u001b[2m\u001b[36m(pid=5137)\u001b[0m 2023-06-10 09:07:49.188867: W tensorflow/compiler/tf2tensorrt/utils/py_utils.cc:38] TF-TRT Warning: Could not find TensorRT\n"
          ]
        },
        {
          "output_type": "stream",
          "name": "stdout",
          "text": [
            "\u001b[2m\u001b[36m(launch_and_evaluate pid=5137)\u001b[0m [Client 9] evaluate, config: {}\n"
          ]
        },
        {
          "output_type": "stream",
          "name": "stderr",
          "text": [
            "\u001b[2m\u001b[36m(pid=5201)\u001b[0m 2023-06-10 09:07:57.333527: W tensorflow/compiler/tf2tensorrt/utils/py_utils.cc:38] TF-TRT Warning: Could not find TensorRT\n"
          ]
        },
        {
          "output_type": "stream",
          "name": "stdout",
          "text": [
            "\u001b[2m\u001b[36m(launch_and_evaluate pid=5201)\u001b[0m [Client 5] evaluate, config: {}\n"
          ]
        },
        {
          "output_type": "stream",
          "name": "stderr",
          "text": [
            "\u001b[2m\u001b[36m(pid=5270)\u001b[0m 2023-06-10 09:08:03.492334: W tensorflow/compiler/tf2tensorrt/utils/py_utils.cc:38] TF-TRT Warning: Could not find TensorRT\n"
          ]
        },
        {
          "output_type": "stream",
          "name": "stdout",
          "text": [
            "\u001b[2m\u001b[36m(launch_and_evaluate pid=5270)\u001b[0m [Client 4] evaluate, config: {}\n"
          ]
        },
        {
          "output_type": "stream",
          "name": "stderr",
          "text": [
            "DEBUG flwr 2023-06-10 09:08:07,538 | server.py:182 | evaluate_round 8 received 3 results and 0 failures\n",
            "DEBUG:flwr:evaluate_round 8 received 3 results and 0 failures\n",
            "DEBUG flwr 2023-06-10 09:08:07,545 | server.py:218 | fit_round 9: strategy sampled 3 clients (out of 10)\n",
            "DEBUG:flwr:fit_round 9: strategy sampled 3 clients (out of 10)\n",
            "\u001b[2m\u001b[36m(pid=5358)\u001b[0m 2023-06-10 09:08:15.585723: W tensorflow/compiler/tf2tensorrt/utils/py_utils.cc:38] TF-TRT Warning: Could not find TensorRT\n"
          ]
        },
        {
          "output_type": "stream",
          "name": "stdout",
          "text": [
            "\u001b[2m\u001b[36m(launch_and_fit pid=5358)\u001b[0m [Client 6, round 9] fit, config: {'server_round': 9, 'local_epochs': 2}\n",
            "\u001b[2m\u001b[36m(launch_and_fit pid=5358)\u001b[0m Epoch 1: train loss 0.04051949456334114, accuracy 0.5317777777777778\n",
            "\u001b[2m\u001b[36m(launch_and_fit pid=5358)\u001b[0m Epoch 2: train loss 0.03756514936685562, accuracy 0.5655555555555556\n"
          ]
        },
        {
          "output_type": "stream",
          "name": "stderr",
          "text": [
            "\u001b[2m\u001b[36m(pid=5433)\u001b[0m 2023-06-10 09:08:26.049097: W tensorflow/compiler/tf2tensorrt/utils/py_utils.cc:38] TF-TRT Warning: Could not find TensorRT\n"
          ]
        },
        {
          "output_type": "stream",
          "name": "stdout",
          "text": [
            "\u001b[2m\u001b[36m(launch_and_fit pid=5433)\u001b[0m [Client 3, round 9] fit, config: {'server_round': 9, 'local_epochs': 2}\n",
            "\u001b[2m\u001b[36m(launch_and_fit pid=5433)\u001b[0m Epoch 1: train loss 0.039558906108140945, accuracy 0.5384444444444444\n",
            "\u001b[2m\u001b[36m(launch_and_fit pid=5433)\u001b[0m Epoch 2: train loss 0.036184344440698624, accuracy 0.5804444444444444\n"
          ]
        },
        {
          "output_type": "stream",
          "name": "stderr",
          "text": [
            "\u001b[2m\u001b[36m(pid=5523)\u001b[0m 2023-06-10 09:08:36.398985: W tensorflow/compiler/tf2tensorrt/utils/py_utils.cc:38] TF-TRT Warning: Could not find TensorRT\n"
          ]
        },
        {
          "output_type": "stream",
          "name": "stdout",
          "text": [
            "\u001b[2m\u001b[36m(launch_and_fit pid=5523)\u001b[0m [Client 7, round 9] fit, config: {'server_round': 9, 'local_epochs': 2}\n",
            "\u001b[2m\u001b[36m(launch_and_fit pid=5523)\u001b[0m Epoch 1: train loss 0.03910664841532707, accuracy 0.5464444444444444\n"
          ]
        },
        {
          "output_type": "stream",
          "name": "stderr",
          "text": [
            "DEBUG flwr 2023-06-10 09:08:45,580 | server.py:232 | fit_round 9 received 3 results and 0 failures\n",
            "DEBUG:flwr:fit_round 9 received 3 results and 0 failures\n"
          ]
        },
        {
          "output_type": "stream",
          "name": "stdout",
          "text": [
            "\u001b[2m\u001b[36m(launch_and_fit pid=5523)\u001b[0m Epoch 2: train loss 0.03556646779179573, accuracy 0.5902222222222222\n"
          ]
        },
        {
          "output_type": "stream",
          "name": "stderr",
          "text": [
            "INFO flwr 2023-06-10 09:08:48,750 | server.py:119 | fit progress: (9, 0.039625505328178406, {'accuracy': 0.5429}, 566.750565765)\n",
            "INFO:flwr:fit progress: (9, 0.039625505328178406, {'accuracy': 0.5429}, 566.750565765)\n",
            "DEBUG flwr 2023-06-10 09:08:48,757 | server.py:168 | evaluate_round 9: strategy sampled 3 clients (out of 10)\n",
            "DEBUG:flwr:evaluate_round 9: strategy sampled 3 clients (out of 10)\n"
          ]
        },
        {
          "output_type": "stream",
          "name": "stdout",
          "text": [
            "Server-side evaluation loss 0.039625505328178406 / accuracy 0.5429\n"
          ]
        },
        {
          "output_type": "stream",
          "name": "stderr",
          "text": [
            "\u001b[2m\u001b[36m(pid=5637)\u001b[0m 2023-06-10 09:08:54.332088: W tensorflow/compiler/tf2tensorrt/utils/py_utils.cc:38] TF-TRT Warning: Could not find TensorRT\n"
          ]
        },
        {
          "output_type": "stream",
          "name": "stdout",
          "text": [
            "\u001b[2m\u001b[36m(launch_and_evaluate pid=5637)\u001b[0m [Client 2] evaluate, config: {}\n"
          ]
        },
        {
          "output_type": "stream",
          "name": "stderr",
          "text": [
            "\u001b[2m\u001b[36m(pid=5712)\u001b[0m 2023-06-10 09:09:04.314761: W tensorflow/compiler/tf2tensorrt/utils/py_utils.cc:38] TF-TRT Warning: Could not find TensorRT\n"
          ]
        },
        {
          "output_type": "stream",
          "name": "stdout",
          "text": [
            "\u001b[2m\u001b[36m(launch_and_evaluate pid=5712)\u001b[0m [Client 8] evaluate, config: {}\n"
          ]
        },
        {
          "output_type": "stream",
          "name": "stderr",
          "text": [
            "\u001b[2m\u001b[36m(pid=5782)\u001b[0m 2023-06-10 09:09:12.170594: W tensorflow/compiler/tf2tensorrt/utils/py_utils.cc:38] TF-TRT Warning: Could not find TensorRT\n"
          ]
        },
        {
          "output_type": "stream",
          "name": "stdout",
          "text": [
            "\u001b[2m\u001b[36m(launch_and_evaluate pid=5782)\u001b[0m [Client 7] evaluate, config: {}\n"
          ]
        },
        {
          "output_type": "stream",
          "name": "stderr",
          "text": [
            "DEBUG flwr 2023-06-10 09:09:17,656 | server.py:182 | evaluate_round 9 received 3 results and 0 failures\n",
            "DEBUG:flwr:evaluate_round 9 received 3 results and 0 failures\n",
            "DEBUG flwr 2023-06-10 09:09:17,664 | server.py:218 | fit_round 10: strategy sampled 3 clients (out of 10)\n",
            "DEBUG:flwr:fit_round 10: strategy sampled 3 clients (out of 10)\n",
            "\u001b[2m\u001b[36m(pid=5871)\u001b[0m 2023-06-10 09:09:23.234040: W tensorflow/compiler/tf2tensorrt/utils/py_utils.cc:38] TF-TRT Warning: Could not find TensorRT\n"
          ]
        },
        {
          "output_type": "stream",
          "name": "stdout",
          "text": [
            "\u001b[2m\u001b[36m(launch_and_fit pid=5871)\u001b[0m [Client 5, round 10] fit, config: {'server_round': 10, 'local_epochs': 2}\n",
            "\u001b[2m\u001b[36m(launch_and_fit pid=5871)\u001b[0m Epoch 1: train loss 0.03934875875711441, accuracy 0.546\n",
            "\u001b[2m\u001b[36m(launch_and_fit pid=5871)\u001b[0m Epoch 2: train loss 0.036151643842458725, accuracy 0.5893333333333334\n"
          ]
        },
        {
          "output_type": "stream",
          "name": "stderr",
          "text": [
            "\u001b[2m\u001b[36m(pid=5956)\u001b[0m 2023-06-10 09:09:34.492011: W tensorflow/compiler/tf2tensorrt/utils/py_utils.cc:38] TF-TRT Warning: Could not find TensorRT\n"
          ]
        },
        {
          "output_type": "stream",
          "name": "stdout",
          "text": [
            "\u001b[2m\u001b[36m(launch_and_fit pid=5956)\u001b[0m [Client 1, round 10] fit, config: {'server_round': 10, 'local_epochs': 2}\n",
            "\u001b[2m\u001b[36m(launch_and_fit pid=5956)\u001b[0m Epoch 1: train loss 0.03872651606798172, accuracy 0.5571111111111111\n",
            "\u001b[2m\u001b[36m(launch_and_fit pid=5956)\u001b[0m Epoch 2: train loss 0.03578031435608864, accuracy 0.5842222222222222\n"
          ]
        },
        {
          "output_type": "stream",
          "name": "stderr",
          "text": [
            "\u001b[2m\u001b[36m(pid=6036)\u001b[0m 2023-06-10 09:09:45.768887: W tensorflow/compiler/tf2tensorrt/utils/py_utils.cc:38] TF-TRT Warning: Could not find TensorRT\n"
          ]
        },
        {
          "output_type": "stream",
          "name": "stdout",
          "text": [
            "\u001b[2m\u001b[36m(launch_and_fit pid=6036)\u001b[0m [Client 7, round 10] fit, config: {'server_round': 10, 'local_epochs': 2}\n",
            "\u001b[2m\u001b[36m(launch_and_fit pid=6036)\u001b[0m Epoch 1: train loss 0.03692618012428284, accuracy 0.5731111111111111\n"
          ]
        },
        {
          "output_type": "stream",
          "name": "stderr",
          "text": [
            "DEBUG flwr 2023-06-10 09:09:53,359 | server.py:232 | fit_round 10 received 3 results and 0 failures\n",
            "DEBUG:flwr:fit_round 10 received 3 results and 0 failures\n"
          ]
        },
        {
          "output_type": "stream",
          "name": "stdout",
          "text": [
            "\u001b[2m\u001b[36m(launch_and_fit pid=6036)\u001b[0m Epoch 2: train loss 0.03370920196175575, accuracy 0.6151111111111112\n"
          ]
        },
        {
          "output_type": "stream",
          "name": "stderr",
          "text": [
            "INFO flwr 2023-06-10 09:09:56,715 | server.py:119 | fit progress: (10, 0.03961672530174255, {'accuracy': 0.5495}, 634.7151444790001)\n",
            "INFO:flwr:fit progress: (10, 0.03961672530174255, {'accuracy': 0.5495}, 634.7151444790001)\n",
            "DEBUG flwr 2023-06-10 09:09:56,722 | server.py:168 | evaluate_round 10: strategy sampled 3 clients (out of 10)\n",
            "DEBUG:flwr:evaluate_round 10: strategy sampled 3 clients (out of 10)\n"
          ]
        },
        {
          "output_type": "stream",
          "name": "stdout",
          "text": [
            "Server-side evaluation loss 0.03961672530174255 / accuracy 0.5495\n"
          ]
        },
        {
          "output_type": "stream",
          "name": "stderr",
          "text": [
            "\u001b[2m\u001b[36m(pid=6168)\u001b[0m 2023-06-10 09:10:04.937760: W tensorflow/compiler/tf2tensorrt/utils/py_utils.cc:38] TF-TRT Warning: Could not find TensorRT\n"
          ]
        },
        {
          "output_type": "stream",
          "name": "stdout",
          "text": [
            "\u001b[2m\u001b[36m(launch_and_evaluate pid=6168)\u001b[0m [Client 0] evaluate, config: {}\n"
          ]
        },
        {
          "output_type": "stream",
          "name": "stderr",
          "text": [
            "\u001b[2m\u001b[36m(pid=6228)\u001b[0m 2023-06-10 09:10:10.962233: W tensorflow/compiler/tf2tensorrt/utils/py_utils.cc:38] TF-TRT Warning: Could not find TensorRT\n"
          ]
        },
        {
          "output_type": "stream",
          "name": "stdout",
          "text": [
            "\u001b[2m\u001b[36m(launch_and_evaluate pid=6228)\u001b[0m [Client 1] evaluate, config: {}\n"
          ]
        },
        {
          "output_type": "stream",
          "name": "stderr",
          "text": [
            "\u001b[2m\u001b[36m(pid=6293)\u001b[0m 2023-06-10 09:10:18.958125: W tensorflow/compiler/tf2tensorrt/utils/py_utils.cc:38] TF-TRT Warning: Could not find TensorRT\n"
          ]
        },
        {
          "output_type": "stream",
          "name": "stdout",
          "text": [
            "\u001b[2m\u001b[36m(launch_and_evaluate pid=6293)\u001b[0m [Client 4] evaluate, config: {}\n"
          ]
        },
        {
          "output_type": "stream",
          "name": "stderr",
          "text": [
            "DEBUG flwr 2023-06-10 09:10:23,055 | server.py:182 | evaluate_round 10 received 3 results and 0 failures\n",
            "DEBUG:flwr:evaluate_round 10 received 3 results and 0 failures\n",
            "DEBUG flwr 2023-06-10 09:10:23,060 | server.py:218 | fit_round 11: strategy sampled 3 clients (out of 10)\n",
            "DEBUG:flwr:fit_round 11: strategy sampled 3 clients (out of 10)\n",
            "\u001b[2m\u001b[36m(pid=6375)\u001b[0m 2023-06-10 09:10:29.995617: W tensorflow/compiler/tf2tensorrt/utils/py_utils.cc:38] TF-TRT Warning: Could not find TensorRT\n"
          ]
        },
        {
          "output_type": "stream",
          "name": "stdout",
          "text": [
            "\u001b[2m\u001b[36m(launch_and_fit pid=6375)\u001b[0m [Client 3, round 11] fit, config: {'server_round': 11, 'local_epochs': 2}\n",
            "\u001b[2m\u001b[36m(launch_and_fit pid=6375)\u001b[0m Epoch 1: train loss 0.03737497329711914, accuracy 0.5811111111111111\n",
            "\u001b[2m\u001b[36m(launch_and_fit pid=6375)\u001b[0m Epoch 2: train loss 0.03365171328186989, accuracy 0.6157777777777778\n"
          ]
        },
        {
          "output_type": "stream",
          "name": "stderr",
          "text": [
            "\u001b[2m\u001b[36m(pid=6463)\u001b[0m 2023-06-10 09:10:40.283360: W tensorflow/compiler/tf2tensorrt/utils/py_utils.cc:38] TF-TRT Warning: Could not find TensorRT\n"
          ]
        },
        {
          "output_type": "stream",
          "name": "stdout",
          "text": [
            "\u001b[2m\u001b[36m(launch_and_fit pid=6463)\u001b[0m [Client 5, round 11] fit, config: {'server_round': 11, 'local_epochs': 2}\n",
            "\u001b[2m\u001b[36m(launch_and_fit pid=6463)\u001b[0m Epoch 1: train loss 0.03743041679263115, accuracy 0.5737777777777778\n",
            "\u001b[2m\u001b[36m(launch_and_fit pid=6463)\u001b[0m Epoch 2: train loss 0.0336233414709568, accuracy 0.6233333333333333\n"
          ]
        },
        {
          "output_type": "stream",
          "name": "stderr",
          "text": [
            "\u001b[2m\u001b[36m(pid=6552)\u001b[0m 2023-06-10 09:10:52.183280: W tensorflow/compiler/tf2tensorrt/utils/py_utils.cc:38] TF-TRT Warning: Could not find TensorRT\n"
          ]
        },
        {
          "output_type": "stream",
          "name": "stdout",
          "text": [
            "\u001b[2m\u001b[36m(launch_and_fit pid=6552)\u001b[0m [Client 0, round 11] fit, config: {'server_round': 11, 'local_epochs': 2}\n",
            "\u001b[2m\u001b[36m(launch_and_fit pid=6552)\u001b[0m Epoch 1: train loss 0.04029538854956627, accuracy 0.5373333333333333\n"
          ]
        },
        {
          "output_type": "stream",
          "name": "stderr",
          "text": [
            "DEBUG flwr 2023-06-10 09:11:00,150 | server.py:232 | fit_round 11 received 3 results and 0 failures\n",
            "DEBUG:flwr:fit_round 11 received 3 results and 0 failures\n"
          ]
        },
        {
          "output_type": "stream",
          "name": "stdout",
          "text": [
            "\u001b[2m\u001b[36m(launch_and_fit pid=6552)\u001b[0m Epoch 2: train loss 0.03626084327697754, accuracy 0.5866666666666667\n"
          ]
        },
        {
          "output_type": "stream",
          "name": "stderr",
          "text": [
            "INFO flwr 2023-06-10 09:11:04,887 | server.py:119 | fit progress: (11, 0.03853279486894608, {'accuracy': 0.5616}, 702.887464755)\n",
            "INFO:flwr:fit progress: (11, 0.03853279486894608, {'accuracy': 0.5616}, 702.887464755)\n",
            "DEBUG flwr 2023-06-10 09:11:04,895 | server.py:168 | evaluate_round 11: strategy sampled 3 clients (out of 10)\n",
            "DEBUG:flwr:evaluate_round 11: strategy sampled 3 clients (out of 10)\n"
          ]
        },
        {
          "output_type": "stream",
          "name": "stdout",
          "text": [
            "Server-side evaluation loss 0.03853279486894608 / accuracy 0.5616\n"
          ]
        },
        {
          "output_type": "stream",
          "name": "stderr",
          "text": [
            "\u001b[2m\u001b[36m(pid=6670)\u001b[0m 2023-06-10 09:11:10.494963: W tensorflow/compiler/tf2tensorrt/utils/py_utils.cc:38] TF-TRT Warning: Could not find TensorRT\n"
          ]
        },
        {
          "output_type": "stream",
          "name": "stdout",
          "text": [
            "\u001b[2m\u001b[36m(launch_and_evaluate pid=6670)\u001b[0m [Client 6] evaluate, config: {}\n"
          ]
        },
        {
          "output_type": "stream",
          "name": "stderr",
          "text": [
            "\u001b[2m\u001b[36m(pid=6730)\u001b[0m 2023-06-10 09:11:18.691673: W tensorflow/compiler/tf2tensorrt/utils/py_utils.cc:38] TF-TRT Warning: Could not find TensorRT\n"
          ]
        },
        {
          "output_type": "stream",
          "name": "stdout",
          "text": [
            "\u001b[2m\u001b[36m(launch_and_evaluate pid=6730)\u001b[0m [Client 7] evaluate, config: {}\n"
          ]
        },
        {
          "output_type": "stream",
          "name": "stderr",
          "text": [
            "\u001b[2m\u001b[36m(pid=6799)\u001b[0m 2023-06-10 09:11:25.056088: W tensorflow/compiler/tf2tensorrt/utils/py_utils.cc:38] TF-TRT Warning: Could not find TensorRT\n"
          ]
        },
        {
          "output_type": "stream",
          "name": "stdout",
          "text": [
            "\u001b[2m\u001b[36m(launch_and_evaluate pid=6799)\u001b[0m [Client 0] evaluate, config: {}\n"
          ]
        },
        {
          "output_type": "stream",
          "name": "stderr",
          "text": [
            "DEBUG flwr 2023-06-10 09:11:29,332 | server.py:182 | evaluate_round 11 received 3 results and 0 failures\n",
            "DEBUG:flwr:evaluate_round 11 received 3 results and 0 failures\n",
            "DEBUG flwr 2023-06-10 09:11:29,335 | server.py:218 | fit_round 12: strategy sampled 3 clients (out of 10)\n",
            "DEBUG:flwr:fit_round 12: strategy sampled 3 clients (out of 10)\n",
            "\u001b[2m\u001b[36m(pid=6894)\u001b[0m 2023-06-10 09:11:37.623946: W tensorflow/compiler/tf2tensorrt/utils/py_utils.cc:38] TF-TRT Warning: Could not find TensorRT\n"
          ]
        },
        {
          "output_type": "stream",
          "name": "stdout",
          "text": [
            "\u001b[2m\u001b[36m(launch_and_fit pid=6894)\u001b[0m [Client 6, round 12] fit, config: {'server_round': 12, 'local_epochs': 2}\n",
            "\u001b[2m\u001b[36m(launch_and_fit pid=6894)\u001b[0m Epoch 1: train loss 0.038199830800294876, accuracy 0.5608888888888889\n",
            "\u001b[2m\u001b[36m(launch_and_fit pid=6894)\u001b[0m Epoch 2: train loss 0.03462745621800423, accuracy 0.606\n"
          ]
        },
        {
          "output_type": "stream",
          "name": "stderr",
          "text": [
            "\u001b[2m\u001b[36m(pid=6968)\u001b[0m 2023-06-10 09:11:48.703736: W tensorflow/compiler/tf2tensorrt/utils/py_utils.cc:38] TF-TRT Warning: Could not find TensorRT\n"
          ]
        },
        {
          "output_type": "stream",
          "name": "stdout",
          "text": [
            "\u001b[2m\u001b[36m(launch_and_fit pid=6968)\u001b[0m [Client 7, round 12] fit, config: {'server_round': 12, 'local_epochs': 2}\n",
            "\u001b[2m\u001b[36m(launch_and_fit pid=6968)\u001b[0m Epoch 1: train loss 0.03566255047917366, accuracy 0.5917777777777777\n",
            "\u001b[2m\u001b[36m(launch_and_fit pid=6968)\u001b[0m Epoch 2: train loss 0.03203843533992767, accuracy 0.632\n"
          ]
        },
        {
          "output_type": "stream",
          "name": "stderr",
          "text": [
            "\u001b[2m\u001b[36m(pid=7059)\u001b[0m 2023-06-10 09:11:58.758976: W tensorflow/compiler/tf2tensorrt/utils/py_utils.cc:38] TF-TRT Warning: Could not find TensorRT\n"
          ]
        },
        {
          "output_type": "stream",
          "name": "stdout",
          "text": [
            "\u001b[2m\u001b[36m(launch_and_fit pid=7059)\u001b[0m [Client 1, round 12] fit, config: {'server_round': 12, 'local_epochs': 2}\n",
            "\u001b[2m\u001b[36m(launch_and_fit pid=7059)\u001b[0m Epoch 1: train loss 0.03616185113787651, accuracy 0.5924444444444444\n"
          ]
        },
        {
          "output_type": "stream",
          "name": "stderr",
          "text": [
            "DEBUG flwr 2023-06-10 09:12:08,154 | server.py:232 | fit_round 12 received 3 results and 0 failures\n",
            "DEBUG:flwr:fit_round 12 received 3 results and 0 failures\n"
          ]
        },
        {
          "output_type": "stream",
          "name": "stdout",
          "text": [
            "\u001b[2m\u001b[36m(launch_and_fit pid=7059)\u001b[0m Epoch 2: train loss 0.03213348612189293, accuracy 0.6322222222222222\n"
          ]
        },
        {
          "output_type": "stream",
          "name": "stderr",
          "text": [
            "INFO flwr 2023-06-10 09:12:13,017 | server.py:119 | fit progress: (12, 0.038028186929225924, {'accuracy': 0.57}, 771.017312237)\n",
            "INFO:flwr:fit progress: (12, 0.038028186929225924, {'accuracy': 0.57}, 771.017312237)\n",
            "DEBUG flwr 2023-06-10 09:12:13,021 | server.py:168 | evaluate_round 12: strategy sampled 3 clients (out of 10)\n",
            "DEBUG:flwr:evaluate_round 12: strategy sampled 3 clients (out of 10)\n"
          ]
        },
        {
          "output_type": "stream",
          "name": "stdout",
          "text": [
            "Server-side evaluation loss 0.038028186929225924 / accuracy 0.57\n"
          ]
        },
        {
          "output_type": "stream",
          "name": "stderr",
          "text": [
            "\u001b[2m\u001b[36m(pid=7189)\u001b[0m 2023-06-10 09:12:21.618515: W tensorflow/compiler/tf2tensorrt/utils/py_utils.cc:38] TF-TRT Warning: Could not find TensorRT\n"
          ]
        },
        {
          "output_type": "stream",
          "name": "stdout",
          "text": [
            "\u001b[2m\u001b[36m(launch_and_evaluate pid=7189)\u001b[0m [Client 3] evaluate, config: {}\n"
          ]
        },
        {
          "output_type": "stream",
          "name": "stderr",
          "text": [
            "\u001b[2m\u001b[36m(pid=7260)\u001b[0m 2023-06-10 09:12:27.675084: W tensorflow/compiler/tf2tensorrt/utils/py_utils.cc:38] TF-TRT Warning: Could not find TensorRT\n"
          ]
        },
        {
          "output_type": "stream",
          "name": "stdout",
          "text": [
            "\u001b[2m\u001b[36m(launch_and_evaluate pid=7260)\u001b[0m [Client 4] evaluate, config: {}\n"
          ]
        },
        {
          "output_type": "stream",
          "name": "stderr",
          "text": [
            "\u001b[2m\u001b[36m(pid=7320)\u001b[0m 2023-06-10 09:12:35.840707: W tensorflow/compiler/tf2tensorrt/utils/py_utils.cc:38] TF-TRT Warning: Could not find TensorRT\n"
          ]
        },
        {
          "output_type": "stream",
          "name": "stdout",
          "text": [
            "\u001b[2m\u001b[36m(launch_and_evaluate pid=7320)\u001b[0m [Client 0] evaluate, config: {}\n"
          ]
        },
        {
          "output_type": "stream",
          "name": "stderr",
          "text": [
            "DEBUG flwr 2023-06-10 09:12:40,485 | server.py:182 | evaluate_round 12 received 3 results and 0 failures\n",
            "DEBUG:flwr:evaluate_round 12 received 3 results and 0 failures\n",
            "DEBUG flwr 2023-06-10 09:12:40,493 | server.py:218 | fit_round 13: strategy sampled 3 clients (out of 10)\n",
            "DEBUG:flwr:fit_round 13: strategy sampled 3 clients (out of 10)\n",
            "\u001b[2m\u001b[36m(pid=7408)\u001b[0m 2023-06-10 09:12:45.979568: W tensorflow/compiler/tf2tensorrt/utils/py_utils.cc:38] TF-TRT Warning: Could not find TensorRT\n"
          ]
        },
        {
          "output_type": "stream",
          "name": "stdout",
          "text": [
            "\u001b[2m\u001b[36m(launch_and_fit pid=7408)\u001b[0m [Client 1, round 13] fit, config: {'server_round': 13, 'local_epochs': 2}\n",
            "\u001b[2m\u001b[36m(launch_and_fit pid=7408)\u001b[0m Epoch 1: train loss 0.033673375844955444, accuracy 0.6157777777777778\n",
            "\u001b[2m\u001b[36m(launch_and_fit pid=7408)\u001b[0m Epoch 2: train loss 0.029686961323022842, accuracy 0.6633333333333333\n"
          ]
        },
        {
          "output_type": "stream",
          "name": "stderr",
          "text": [
            "\u001b[2m\u001b[36m(pid=7494)\u001b[0m 2023-06-10 09:12:57.422364: W tensorflow/compiler/tf2tensorrt/utils/py_utils.cc:38] TF-TRT Warning: Could not find TensorRT\n"
          ]
        },
        {
          "output_type": "stream",
          "name": "stdout",
          "text": [
            "\u001b[2m\u001b[36m(launch_and_fit pid=7494)\u001b[0m [Client 4, round 13] fit, config: {'server_round': 13, 'local_epochs': 2}\n",
            "\u001b[2m\u001b[36m(launch_and_fit pid=7494)\u001b[0m Epoch 1: train loss 0.03864216431975365, accuracy 0.5624444444444444\n",
            "\u001b[2m\u001b[36m(launch_and_fit pid=7494)\u001b[0m Epoch 2: train loss 0.03448326885700226, accuracy 0.6066666666666667\n"
          ]
        },
        {
          "output_type": "stream",
          "name": "stderr",
          "text": [
            "\u001b[2m\u001b[36m(pid=7578)\u001b[0m 2023-06-10 09:13:09.001299: W tensorflow/compiler/tf2tensorrt/utils/py_utils.cc:38] TF-TRT Warning: Could not find TensorRT\n"
          ]
        },
        {
          "output_type": "stream",
          "name": "stdout",
          "text": [
            "\u001b[2m\u001b[36m(launch_and_fit pid=7578)\u001b[0m [Client 0, round 13] fit, config: {'server_round': 13, 'local_epochs': 2}\n",
            "\u001b[2m\u001b[36m(launch_and_fit pid=7578)\u001b[0m Epoch 1: train loss 0.03781432658433914, accuracy 0.5704444444444444\n"
          ]
        },
        {
          "output_type": "stream",
          "name": "stderr",
          "text": [
            "DEBUG flwr 2023-06-10 09:13:16,020 | server.py:232 | fit_round 13 received 3 results and 0 failures\n",
            "DEBUG:flwr:fit_round 13 received 3 results and 0 failures\n"
          ]
        },
        {
          "output_type": "stream",
          "name": "stdout",
          "text": [
            "\u001b[2m\u001b[36m(launch_and_fit pid=7578)\u001b[0m Epoch 2: train loss 0.033645860850811005, accuracy 0.6195555555555555\n"
          ]
        },
        {
          "output_type": "stream",
          "name": "stderr",
          "text": [
            "INFO flwr 2023-06-10 09:13:19,752 | server.py:119 | fit progress: (13, 0.03768042562603951, {'accuracy': 0.5715}, 837.7523154990001)\n",
            "INFO:flwr:fit progress: (13, 0.03768042562603951, {'accuracy': 0.5715}, 837.7523154990001)\n",
            "DEBUG flwr 2023-06-10 09:13:19,762 | server.py:168 | evaluate_round 13: strategy sampled 3 clients (out of 10)\n",
            "DEBUG:flwr:evaluate_round 13: strategy sampled 3 clients (out of 10)\n"
          ]
        },
        {
          "output_type": "stream",
          "name": "stdout",
          "text": [
            "Server-side evaluation loss 0.03768042562603951 / accuracy 0.5715\n"
          ]
        },
        {
          "output_type": "stream",
          "name": "stderr",
          "text": [
            "\u001b[2m\u001b[36m(pid=7701)\u001b[0m 2023-06-10 09:13:27.181981: W tensorflow/compiler/tf2tensorrt/utils/py_utils.cc:38] TF-TRT Warning: Could not find TensorRT\n"
          ]
        },
        {
          "output_type": "stream",
          "name": "stdout",
          "text": [
            "\u001b[2m\u001b[36m(launch_and_evaluate pid=7701)\u001b[0m [Client 1] evaluate, config: {}\n"
          ]
        },
        {
          "output_type": "stream",
          "name": "stderr",
          "text": [
            "\u001b[2m\u001b[36m(pid=7762)\u001b[0m 2023-06-10 09:13:33.232584: W tensorflow/compiler/tf2tensorrt/utils/py_utils.cc:38] TF-TRT Warning: Could not find TensorRT\n"
          ]
        },
        {
          "output_type": "stream",
          "name": "stdout",
          "text": [
            "\u001b[2m\u001b[36m(launch_and_evaluate pid=7762)\u001b[0m [Client 8] evaluate, config: {}\n"
          ]
        },
        {
          "output_type": "stream",
          "name": "stderr",
          "text": [
            "\u001b[2m\u001b[36m(pid=7830)\u001b[0m 2023-06-10 09:13:41.309635: W tensorflow/compiler/tf2tensorrt/utils/py_utils.cc:38] TF-TRT Warning: Could not find TensorRT\n"
          ]
        },
        {
          "output_type": "stream",
          "name": "stdout",
          "text": [
            "\u001b[2m\u001b[36m(launch_and_evaluate pid=7830)\u001b[0m [Client 6] evaluate, config: {}\n"
          ]
        },
        {
          "output_type": "stream",
          "name": "stderr",
          "text": [
            "DEBUG flwr 2023-06-10 09:13:45,466 | server.py:182 | evaluate_round 13 received 3 results and 0 failures\n",
            "DEBUG:flwr:evaluate_round 13 received 3 results and 0 failures\n",
            "DEBUG flwr 2023-06-10 09:13:45,470 | server.py:218 | fit_round 14: strategy sampled 3 clients (out of 10)\n",
            "DEBUG:flwr:fit_round 14: strategy sampled 3 clients (out of 10)\n",
            "\u001b[2m\u001b[36m(pid=7910)\u001b[0m 2023-06-10 09:13:53.291663: W tensorflow/compiler/tf2tensorrt/utils/py_utils.cc:38] TF-TRT Warning: Could not find TensorRT\n"
          ]
        },
        {
          "output_type": "stream",
          "name": "stdout",
          "text": [
            "\u001b[2m\u001b[36m(launch_and_fit pid=7910)\u001b[0m [Client 2, round 14] fit, config: {'server_round': 14, 'local_epochs': 2}\n",
            "\u001b[2m\u001b[36m(launch_and_fit pid=7910)\u001b[0m Epoch 1: train loss 0.03884425014257431, accuracy 0.5511111111111111\n",
            "\u001b[2m\u001b[36m(launch_and_fit pid=7910)\u001b[0m Epoch 2: train loss 0.03447192534804344, accuracy 0.6042222222222222\n"
          ]
        },
        {
          "output_type": "stream",
          "name": "stderr",
          "text": [
            "\u001b[2m\u001b[36m(pid=7996)\u001b[0m 2023-06-10 09:14:02.739050: W tensorflow/compiler/tf2tensorrt/utils/py_utils.cc:38] TF-TRT Warning: Could not find TensorRT\n"
          ]
        },
        {
          "output_type": "stream",
          "name": "stdout",
          "text": [
            "\u001b[2m\u001b[36m(launch_and_fit pid=7996)\u001b[0m [Client 6, round 14] fit, config: {'server_round': 14, 'local_epochs': 2}\n",
            "\u001b[2m\u001b[36m(launch_and_fit pid=7996)\u001b[0m Epoch 1: train loss 0.03598417714238167, accuracy 0.5926666666666667\n",
            "\u001b[2m\u001b[36m(launch_and_fit pid=7996)\u001b[0m Epoch 2: train loss 0.03261033073067665, accuracy 0.6293333333333333\n"
          ]
        },
        {
          "output_type": "stream",
          "name": "stderr",
          "text": [
            "\u001b[2m\u001b[36m(pid=8084)\u001b[0m 2023-06-10 09:14:14.118149: W tensorflow/compiler/tf2tensorrt/utils/py_utils.cc:38] TF-TRT Warning: Could not find TensorRT\n"
          ]
        },
        {
          "output_type": "stream",
          "name": "stdout",
          "text": [
            "\u001b[2m\u001b[36m(launch_and_fit pid=8084)\u001b[0m [Client 3, round 14] fit, config: {'server_round': 14, 'local_epochs': 2}\n",
            "\u001b[2m\u001b[36m(launch_and_fit pid=8084)\u001b[0m Epoch 1: train loss 0.03603023663163185, accuracy 0.5911111111111111\n"
          ]
        },
        {
          "output_type": "stream",
          "name": "stderr",
          "text": [
            "DEBUG flwr 2023-06-10 09:14:22,216 | server.py:232 | fit_round 14 received 3 results and 0 failures\n",
            "DEBUG:flwr:fit_round 14 received 3 results and 0 failures\n"
          ]
        },
        {
          "output_type": "stream",
          "name": "stdout",
          "text": [
            "\u001b[2m\u001b[36m(launch_and_fit pid=8084)\u001b[0m Epoch 2: train loss 0.03155392035841942, accuracy 0.6431111111111111\n"
          ]
        },
        {
          "output_type": "stream",
          "name": "stderr",
          "text": [
            "INFO flwr 2023-06-10 09:14:26,834 | server.py:119 | fit progress: (14, 0.03746793894171715, {'accuracy': 0.5693}, 904.834954834)\n",
            "INFO:flwr:fit progress: (14, 0.03746793894171715, {'accuracy': 0.5693}, 904.834954834)\n",
            "DEBUG flwr 2023-06-10 09:14:26,843 | server.py:168 | evaluate_round 14: strategy sampled 3 clients (out of 10)\n",
            "DEBUG:flwr:evaluate_round 14: strategy sampled 3 clients (out of 10)\n"
          ]
        },
        {
          "output_type": "stream",
          "name": "stdout",
          "text": [
            "Server-side evaluation loss 0.03746793894171715 / accuracy 0.5693\n"
          ]
        },
        {
          "output_type": "stream",
          "name": "stderr",
          "text": [
            "\u001b[2m\u001b[36m(pid=8203)\u001b[0m 2023-06-10 09:14:32.450132: W tensorflow/compiler/tf2tensorrt/utils/py_utils.cc:38] TF-TRT Warning: Could not find TensorRT\n"
          ]
        },
        {
          "output_type": "stream",
          "name": "stdout",
          "text": [
            "\u001b[2m\u001b[36m(launch_and_evaluate pid=8203)\u001b[0m [Client 1] evaluate, config: {}\n"
          ]
        },
        {
          "output_type": "stream",
          "name": "stderr",
          "text": [
            "\u001b[2m\u001b[36m(pid=8264)\u001b[0m 2023-06-10 09:14:40.883991: W tensorflow/compiler/tf2tensorrt/utils/py_utils.cc:38] TF-TRT Warning: Could not find TensorRT\n"
          ]
        },
        {
          "output_type": "stream",
          "name": "stdout",
          "text": [
            "\u001b[2m\u001b[36m(launch_and_evaluate pid=8264)\u001b[0m [Client 4] evaluate, config: {}\n"
          ]
        },
        {
          "output_type": "stream",
          "name": "stderr",
          "text": [
            "\u001b[2m\u001b[36m(pid=8332)\u001b[0m 2023-06-10 09:14:46.854578: W tensorflow/compiler/tf2tensorrt/utils/py_utils.cc:38] TF-TRT Warning: Could not find TensorRT\n"
          ]
        },
        {
          "output_type": "stream",
          "name": "stdout",
          "text": [
            "\u001b[2m\u001b[36m(launch_and_evaluate pid=8332)\u001b[0m [Client 7] evaluate, config: {}\n"
          ]
        },
        {
          "output_type": "stream",
          "name": "stderr",
          "text": [
            "DEBUG flwr 2023-06-10 09:14:50,983 | server.py:182 | evaluate_round 14 received 3 results and 0 failures\n",
            "DEBUG:flwr:evaluate_round 14 received 3 results and 0 failures\n",
            "DEBUG flwr 2023-06-10 09:14:50,986 | server.py:218 | fit_round 15: strategy sampled 3 clients (out of 10)\n",
            "DEBUG:flwr:fit_round 15: strategy sampled 3 clients (out of 10)\n",
            "\u001b[2m\u001b[36m(pid=8423)\u001b[0m 2023-06-10 09:14:59.219326: W tensorflow/compiler/tf2tensorrt/utils/py_utils.cc:38] TF-TRT Warning: Could not find TensorRT\n"
          ]
        },
        {
          "output_type": "stream",
          "name": "stdout",
          "text": [
            "\u001b[2m\u001b[36m(launch_and_fit pid=8423)\u001b[0m [Client 2, round 15] fit, config: {'server_round': 15, 'local_epochs': 2}\n",
            "\u001b[2m\u001b[36m(launch_and_fit pid=8423)\u001b[0m Epoch 1: train loss 0.0359860323369503, accuracy 0.5893333333333334\n",
            "\u001b[2m\u001b[36m(launch_and_fit pid=8423)\u001b[0m Epoch 2: train loss 0.031990375369787216, accuracy 0.6404444444444445\n"
          ]
        },
        {
          "output_type": "stream",
          "name": "stderr",
          "text": [
            "\u001b[2m\u001b[36m(pid=8503)\u001b[0m 2023-06-10 09:15:10.091907: W tensorflow/compiler/tf2tensorrt/utils/py_utils.cc:38] TF-TRT Warning: Could not find TensorRT\n"
          ]
        },
        {
          "output_type": "stream",
          "name": "stdout",
          "text": [
            "\u001b[2m\u001b[36m(launch_and_fit pid=8503)\u001b[0m [Client 3, round 15] fit, config: {'server_round': 15, 'local_epochs': 2}\n",
            "\u001b[2m\u001b[36m(launch_and_fit pid=8503)\u001b[0m Epoch 1: train loss 0.0334157794713974, accuracy 0.6246666666666667\n",
            "\u001b[2m\u001b[36m(launch_and_fit pid=8503)\u001b[0m Epoch 2: train loss 0.029311446473002434, accuracy 0.6697777777777778\n"
          ]
        },
        {
          "output_type": "stream",
          "name": "stderr",
          "text": [
            "\u001b[2m\u001b[36m(pid=8591)\u001b[0m 2023-06-10 09:15:22.626752: W tensorflow/compiler/tf2tensorrt/utils/py_utils.cc:38] TF-TRT Warning: Could not find TensorRT\n"
          ]
        },
        {
          "output_type": "stream",
          "name": "stdout",
          "text": [
            "\u001b[2m\u001b[36m(launch_and_fit pid=8591)\u001b[0m [Client 7, round 15] fit, config: {'server_round': 15, 'local_epochs': 2}\n",
            "\u001b[2m\u001b[36m(launch_and_fit pid=8591)\u001b[0m Epoch 1: train loss 0.033765729516744614, accuracy 0.6113333333333333\n"
          ]
        },
        {
          "output_type": "stream",
          "name": "stderr",
          "text": [
            "DEBUG flwr 2023-06-10 09:15:32,024 | server.py:232 | fit_round 15 received 3 results and 0 failures\n",
            "DEBUG:flwr:fit_round 15 received 3 results and 0 failures\n"
          ]
        },
        {
          "output_type": "stream",
          "name": "stdout",
          "text": [
            "\u001b[2m\u001b[36m(launch_and_fit pid=8591)\u001b[0m Epoch 2: train loss 0.02937094122171402, accuracy 0.6688888888888889\n"
          ]
        },
        {
          "output_type": "stream",
          "name": "stderr",
          "text": [
            "INFO flwr 2023-06-10 09:15:35,293 | server.py:119 | fit progress: (15, 0.03792362099289894, {'accuracy': 0.5769}, 973.293381229)\n",
            "INFO:flwr:fit progress: (15, 0.03792362099289894, {'accuracy': 0.5769}, 973.293381229)\n",
            "DEBUG flwr 2023-06-10 09:15:35,301 | server.py:168 | evaluate_round 15: strategy sampled 3 clients (out of 10)\n",
            "DEBUG:flwr:evaluate_round 15: strategy sampled 3 clients (out of 10)\n"
          ]
        },
        {
          "output_type": "stream",
          "name": "stdout",
          "text": [
            "Server-side evaluation loss 0.03792362099289894 / accuracy 0.5769\n"
          ]
        },
        {
          "output_type": "stream",
          "name": "stderr",
          "text": [
            "\u001b[2m\u001b[36m(pid=8722)\u001b[0m 2023-06-10 09:15:43.477537: W tensorflow/compiler/tf2tensorrt/utils/py_utils.cc:38] TF-TRT Warning: Could not find TensorRT\n"
          ]
        },
        {
          "output_type": "stream",
          "name": "stdout",
          "text": [
            "\u001b[2m\u001b[36m(launch_and_evaluate pid=8722)\u001b[0m [Client 5] evaluate, config: {}\n"
          ]
        },
        {
          "output_type": "stream",
          "name": "stderr",
          "text": [
            "\u001b[2m\u001b[36m(pid=8787)\u001b[0m 2023-06-10 09:15:49.339841: W tensorflow/compiler/tf2tensorrt/utils/py_utils.cc:38] TF-TRT Warning: Could not find TensorRT\n"
          ]
        },
        {
          "output_type": "stream",
          "name": "stdout",
          "text": [
            "\u001b[2m\u001b[36m(launch_and_evaluate pid=8787)\u001b[0m [Client 7] evaluate, config: {}\n"
          ]
        },
        {
          "output_type": "stream",
          "name": "stderr",
          "text": [
            "\u001b[2m\u001b[36m(pid=8847)\u001b[0m 2023-06-10 09:15:57.158658: W tensorflow/compiler/tf2tensorrt/utils/py_utils.cc:38] TF-TRT Warning: Could not find TensorRT\n"
          ]
        },
        {
          "output_type": "stream",
          "name": "stdout",
          "text": [
            "\u001b[2m\u001b[36m(launch_and_evaluate pid=8847)\u001b[0m [Client 1] evaluate, config: {}\n"
          ]
        },
        {
          "output_type": "stream",
          "name": "stderr",
          "text": [
            "DEBUG flwr 2023-06-10 09:16:02,068 | server.py:182 | evaluate_round 15 received 3 results and 0 failures\n",
            "DEBUG:flwr:evaluate_round 15 received 3 results and 0 failures\n",
            "DEBUG flwr 2023-06-10 09:16:02,075 | server.py:218 | fit_round 16: strategy sampled 3 clients (out of 10)\n",
            "DEBUG:flwr:fit_round 16: strategy sampled 3 clients (out of 10)\n",
            "\u001b[2m\u001b[36m(pid=8941)\u001b[0m 2023-06-10 09:16:07.681487: W tensorflow/compiler/tf2tensorrt/utils/py_utils.cc:38] TF-TRT Warning: Could not find TensorRT\n"
          ]
        },
        {
          "output_type": "stream",
          "name": "stdout",
          "text": [
            "\u001b[2m\u001b[36m(launch_and_fit pid=8941)\u001b[0m [Client 7, round 16] fit, config: {'server_round': 16, 'local_epochs': 2}\n",
            "\u001b[2m\u001b[36m(launch_and_fit pid=8941)\u001b[0m Epoch 1: train loss 0.031684160232543945, accuracy 0.6384444444444445\n",
            "\u001b[2m\u001b[36m(launch_and_fit pid=8941)\u001b[0m Epoch 2: train loss 0.027129195630550385, accuracy 0.6997777777777778\n"
          ]
        },
        {
          "output_type": "stream",
          "name": "stderr",
          "text": [
            "\u001b[2m\u001b[36m(pid=9025)\u001b[0m 2023-06-10 09:16:19.037867: W tensorflow/compiler/tf2tensorrt/utils/py_utils.cc:38] TF-TRT Warning: Could not find TensorRT\n"
          ]
        },
        {
          "output_type": "stream",
          "name": "stdout",
          "text": [
            "\u001b[2m\u001b[36m(launch_and_fit pid=9025)\u001b[0m [Client 4, round 16] fit, config: {'server_round': 16, 'local_epochs': 2}\n",
            "\u001b[2m\u001b[36m(launch_and_fit pid=9025)\u001b[0m Epoch 1: train loss 0.03600636497139931, accuracy 0.5977777777777777\n",
            "\u001b[2m\u001b[36m(launch_and_fit pid=9025)\u001b[0m Epoch 2: train loss 0.031779542565345764, accuracy 0.6415555555555555\n"
          ]
        },
        {
          "output_type": "stream",
          "name": "stderr",
          "text": [
            "\u001b[2m\u001b[36m(pid=9107)\u001b[0m 2023-06-10 09:16:30.978584: W tensorflow/compiler/tf2tensorrt/utils/py_utils.cc:38] TF-TRT Warning: Could not find TensorRT\n"
          ]
        },
        {
          "output_type": "stream",
          "name": "stdout",
          "text": [
            "\u001b[2m\u001b[36m(launch_and_fit pid=9107)\u001b[0m [Client 5, round 16] fit, config: {'server_round': 16, 'local_epochs': 2}\n",
            "\u001b[2m\u001b[36m(launch_and_fit pid=9107)\u001b[0m Epoch 1: train loss 0.03591211885213852, accuracy 0.5917777777777777\n"
          ]
        },
        {
          "output_type": "stream",
          "name": "stderr",
          "text": [
            "DEBUG flwr 2023-06-10 09:16:38,435 | server.py:232 | fit_round 16 received 3 results and 0 failures\n",
            "DEBUG:flwr:fit_round 16 received 3 results and 0 failures\n"
          ]
        },
        {
          "output_type": "stream",
          "name": "stdout",
          "text": [
            "\u001b[2m\u001b[36m(launch_and_fit pid=9107)\u001b[0m Epoch 2: train loss 0.031217539682984352, accuracy 0.6448888888888888\n"
          ]
        },
        {
          "output_type": "stream",
          "name": "stderr",
          "text": [
            "INFO flwr 2023-06-10 09:16:42,257 | server.py:119 | fit progress: (16, 0.03721739783287048, {'accuracy': 0.5806}, 1040.257261052)\n",
            "INFO:flwr:fit progress: (16, 0.03721739783287048, {'accuracy': 0.5806}, 1040.257261052)\n",
            "DEBUG flwr 2023-06-10 09:16:42,263 | server.py:168 | evaluate_round 16: strategy sampled 3 clients (out of 10)\n",
            "DEBUG:flwr:evaluate_round 16: strategy sampled 3 clients (out of 10)\n"
          ]
        },
        {
          "output_type": "stream",
          "name": "stdout",
          "text": [
            "Server-side evaluation loss 0.03721739783287048 / accuracy 0.5806\n"
          ]
        },
        {
          "output_type": "stream",
          "name": "stderr",
          "text": [
            "\u001b[2m\u001b[36m(pid=9233)\u001b[0m 2023-06-10 09:16:49.707314: W tensorflow/compiler/tf2tensorrt/utils/py_utils.cc:38] TF-TRT Warning: Could not find TensorRT\n"
          ]
        },
        {
          "output_type": "stream",
          "name": "stdout",
          "text": [
            "\u001b[2m\u001b[36m(launch_and_evaluate pid=9233)\u001b[0m [Client 7] evaluate, config: {}\n"
          ]
        },
        {
          "output_type": "stream",
          "name": "stderr",
          "text": [
            "\u001b[2m\u001b[36m(pid=9297)\u001b[0m 2023-06-10 09:16:55.986480: W tensorflow/compiler/tf2tensorrt/utils/py_utils.cc:38] TF-TRT Warning: Could not find TensorRT\n"
          ]
        },
        {
          "output_type": "stream",
          "name": "stdout",
          "text": [
            "\u001b[2m\u001b[36m(launch_and_evaluate pid=9297)\u001b[0m [Client 1] evaluate, config: {}\n"
          ]
        },
        {
          "output_type": "stream",
          "name": "stderr",
          "text": [
            "\u001b[2m\u001b[36m(pid=9368)\u001b[0m 2023-06-10 09:17:04.421454: W tensorflow/compiler/tf2tensorrt/utils/py_utils.cc:38] TF-TRT Warning: Could not find TensorRT\n"
          ]
        },
        {
          "output_type": "stream",
          "name": "stdout",
          "text": [
            "\u001b[2m\u001b[36m(launch_and_evaluate pid=9368)\u001b[0m [Client 8] evaluate, config: {}\n"
          ]
        },
        {
          "output_type": "stream",
          "name": "stderr",
          "text": [
            "DEBUG flwr 2023-06-10 09:17:08,488 | server.py:182 | evaluate_round 16 received 3 results and 0 failures\n",
            "DEBUG:flwr:evaluate_round 16 received 3 results and 0 failures\n",
            "DEBUG flwr 2023-06-10 09:17:08,495 | server.py:218 | fit_round 17: strategy sampled 3 clients (out of 10)\n",
            "DEBUG:flwr:fit_round 17: strategy sampled 3 clients (out of 10)\n",
            "\u001b[2m\u001b[36m(pid=9448)\u001b[0m 2023-06-10 09:17:16.249486: W tensorflow/compiler/tf2tensorrt/utils/py_utils.cc:38] TF-TRT Warning: Could not find TensorRT\n"
          ]
        },
        {
          "output_type": "stream",
          "name": "stdout",
          "text": [
            "\u001b[2m\u001b[36m(launch_and_fit pid=9448)\u001b[0m [Client 9, round 17] fit, config: {'server_round': 17, 'local_epochs': 2}\n",
            "\u001b[2m\u001b[36m(launch_and_fit pid=9448)\u001b[0m Epoch 1: train loss 0.03852130100131035, accuracy 0.5602222222222222\n",
            "\u001b[2m\u001b[36m(launch_and_fit pid=9448)\u001b[0m Epoch 2: train loss 0.0338752456009388, accuracy 0.6133333333333333\n"
          ]
        },
        {
          "output_type": "stream",
          "name": "stderr",
          "text": [
            "\u001b[2m\u001b[36m(pid=9535)\u001b[0m 2023-06-10 09:17:26.317451: W tensorflow/compiler/tf2tensorrt/utils/py_utils.cc:38] TF-TRT Warning: Could not find TensorRT\n"
          ]
        },
        {
          "output_type": "stream",
          "name": "stdout",
          "text": [
            "\u001b[2m\u001b[36m(launch_and_fit pid=9535)\u001b[0m [Client 2, round 17] fit, config: {'server_round': 17, 'local_epochs': 2}\n",
            "\u001b[2m\u001b[36m(launch_and_fit pid=9535)\u001b[0m Epoch 1: train loss 0.034561142325401306, accuracy 0.606\n",
            "\u001b[2m\u001b[36m(launch_and_fit pid=9535)\u001b[0m Epoch 2: train loss 0.02992074005305767, accuracy 0.6646666666666666\n"
          ]
        },
        {
          "output_type": "stream",
          "name": "stderr",
          "text": [
            "\u001b[2m\u001b[36m(pid=9621)\u001b[0m 2023-06-10 09:17:37.730941: W tensorflow/compiler/tf2tensorrt/utils/py_utils.cc:38] TF-TRT Warning: Could not find TensorRT\n"
          ]
        },
        {
          "output_type": "stream",
          "name": "stdout",
          "text": [
            "\u001b[2m\u001b[36m(launch_and_fit pid=9621)\u001b[0m [Client 4, round 17] fit, config: {'server_round': 17, 'local_epochs': 2}\n",
            "\u001b[2m\u001b[36m(launch_and_fit pid=9621)\u001b[0m Epoch 1: train loss 0.03375011309981346, accuracy 0.6068888888888889\n"
          ]
        },
        {
          "output_type": "stream",
          "name": "stderr",
          "text": [
            "DEBUG flwr 2023-06-10 09:17:46,262 | server.py:232 | fit_round 17 received 3 results and 0 failures\n",
            "DEBUG:flwr:fit_round 17 received 3 results and 0 failures\n"
          ]
        },
        {
          "output_type": "stream",
          "name": "stdout",
          "text": [
            "\u001b[2m\u001b[36m(launch_and_fit pid=9621)\u001b[0m Epoch 2: train loss 0.029614919796586037, accuracy 0.6644444444444444\n"
          ]
        },
        {
          "output_type": "stream",
          "name": "stderr",
          "text": [
            "INFO flwr 2023-06-10 09:17:50,477 | server.py:119 | fit progress: (17, 0.036637556761503216, {'accuracy': 0.5856}, 1108.477243403)\n",
            "INFO:flwr:fit progress: (17, 0.036637556761503216, {'accuracy': 0.5856}, 1108.477243403)\n",
            "DEBUG flwr 2023-06-10 09:17:50,483 | server.py:168 | evaluate_round 17: strategy sampled 3 clients (out of 10)\n",
            "DEBUG:flwr:evaluate_round 17: strategy sampled 3 clients (out of 10)\n"
          ]
        },
        {
          "output_type": "stream",
          "name": "stdout",
          "text": [
            "Server-side evaluation loss 0.036637556761503216 / accuracy 0.5856\n"
          ]
        },
        {
          "output_type": "stream",
          "name": "stderr",
          "text": [
            "\u001b[2m\u001b[36m(pid=9739)\u001b[0m 2023-06-10 09:17:56.070118: W tensorflow/compiler/tf2tensorrt/utils/py_utils.cc:38] TF-TRT Warning: Could not find TensorRT\n"
          ]
        },
        {
          "output_type": "stream",
          "name": "stdout",
          "text": [
            "\u001b[2m\u001b[36m(launch_and_evaluate pid=9739)\u001b[0m [Client 5] evaluate, config: {}\n"
          ]
        },
        {
          "output_type": "stream",
          "name": "stderr",
          "text": [
            "\u001b[2m\u001b[36m(pid=9805)\u001b[0m 2023-06-10 09:18:04.343752: W tensorflow/compiler/tf2tensorrt/utils/py_utils.cc:38] TF-TRT Warning: Could not find TensorRT\n"
          ]
        },
        {
          "output_type": "stream",
          "name": "stdout",
          "text": [
            "\u001b[2m\u001b[36m(launch_and_evaluate pid=9805)\u001b[0m [Client 4] evaluate, config: {}\n"
          ]
        },
        {
          "output_type": "stream",
          "name": "stderr",
          "text": [
            "\u001b[2m\u001b[36m(pid=9874)\u001b[0m 2023-06-10 09:18:10.231985: W tensorflow/compiler/tf2tensorrt/utils/py_utils.cc:38] TF-TRT Warning: Could not find TensorRT\n"
          ]
        },
        {
          "output_type": "stream",
          "name": "stdout",
          "text": [
            "\u001b[2m\u001b[36m(launch_and_evaluate pid=9874)\u001b[0m [Client 1] evaluate, config: {}\n"
          ]
        },
        {
          "output_type": "stream",
          "name": "stderr",
          "text": [
            "DEBUG flwr 2023-06-10 09:18:14,321 | server.py:182 | evaluate_round 17 received 3 results and 0 failures\n",
            "DEBUG:flwr:evaluate_round 17 received 3 results and 0 failures\n",
            "DEBUG flwr 2023-06-10 09:18:14,324 | server.py:218 | fit_round 18: strategy sampled 3 clients (out of 10)\n",
            "DEBUG:flwr:fit_round 18: strategy sampled 3 clients (out of 10)\n",
            "\u001b[2m\u001b[36m(pid=9962)\u001b[0m 2023-06-10 09:18:22.209526: W tensorflow/compiler/tf2tensorrt/utils/py_utils.cc:38] TF-TRT Warning: Could not find TensorRT\n"
          ]
        },
        {
          "output_type": "stream",
          "name": "stdout",
          "text": [
            "\u001b[2m\u001b[36m(launch_and_fit pid=9962)\u001b[0m [Client 2, round 18] fit, config: {'server_round': 18, 'local_epochs': 2}\n",
            "\u001b[2m\u001b[36m(launch_and_fit pid=9962)\u001b[0m Epoch 1: train loss 0.03158050775527954, accuracy 0.6415555555555555\n",
            "\u001b[2m\u001b[36m(launch_and_fit pid=9962)\u001b[0m Epoch 2: train loss 0.027604956179857254, accuracy 0.6891111111111111\n"
          ]
        },
        {
          "output_type": "stream",
          "name": "stderr",
          "text": [
            "\u001b[2m\u001b[36m(pid=10039)\u001b[0m 2023-06-10 09:18:35.064455: W tensorflow/compiler/tf2tensorrt/utils/py_utils.cc:38] TF-TRT Warning: Could not find TensorRT\n"
          ]
        },
        {
          "output_type": "stream",
          "name": "stdout",
          "text": [
            "\u001b[2m\u001b[36m(launch_and_fit pid=10039)\u001b[0m [Client 8, round 18] fit, config: {'server_round': 18, 'local_epochs': 2}\n",
            "\u001b[2m\u001b[36m(launch_and_fit pid=10039)\u001b[0m Epoch 1: train loss 0.03675451874732971, accuracy 0.5848888888888889\n",
            "\u001b[2m\u001b[36m(launch_and_fit pid=10039)\u001b[0m Epoch 2: train loss 0.03183948993682861, accuracy 0.6446666666666667\n"
          ]
        },
        {
          "output_type": "stream",
          "name": "stderr",
          "text": [
            "\u001b[2m\u001b[36m(pid=10136)\u001b[0m 2023-06-10 09:18:45.848062: W tensorflow/compiler/tf2tensorrt/utils/py_utils.cc:38] TF-TRT Warning: Could not find TensorRT\n"
          ]
        },
        {
          "output_type": "stream",
          "name": "stdout",
          "text": [
            "\u001b[2m\u001b[36m(launch_and_fit pid=10136)\u001b[0m [Client 9, round 18] fit, config: {'server_round': 18, 'local_epochs': 2}\n",
            "\u001b[2m\u001b[36m(launch_and_fit pid=10136)\u001b[0m Epoch 1: train loss 0.03582830727100372, accuracy 0.5882222222222222\n"
          ]
        },
        {
          "output_type": "stream",
          "name": "stderr",
          "text": [
            "DEBUG flwr 2023-06-10 09:18:54,934 | server.py:232 | fit_round 18 received 3 results and 0 failures\n",
            "DEBUG:flwr:fit_round 18 received 3 results and 0 failures\n"
          ]
        },
        {
          "output_type": "stream",
          "name": "stdout",
          "text": [
            "\u001b[2m\u001b[36m(launch_and_fit pid=10136)\u001b[0m Epoch 2: train loss 0.0310821533203125, accuracy 0.6497777777777778\n"
          ]
        },
        {
          "output_type": "stream",
          "name": "stderr",
          "text": [
            "INFO flwr 2023-06-10 09:18:58,193 | server.py:119 | fit progress: (18, 0.036344866889715194, {'accuracy': 0.5936}, 1176.193237447)\n",
            "INFO:flwr:fit progress: (18, 0.036344866889715194, {'accuracy': 0.5936}, 1176.193237447)\n",
            "DEBUG flwr 2023-06-10 09:18:58,202 | server.py:168 | evaluate_round 18: strategy sampled 3 clients (out of 10)\n",
            "DEBUG:flwr:evaluate_round 18: strategy sampled 3 clients (out of 10)\n"
          ]
        },
        {
          "output_type": "stream",
          "name": "stdout",
          "text": [
            "Server-side evaluation loss 0.036344866889715194 / accuracy 0.5936\n"
          ]
        },
        {
          "output_type": "stream",
          "name": "stderr",
          "text": [
            "\u001b[2m\u001b[36m(pid=10256)\u001b[0m 2023-06-10 09:19:03.670814: W tensorflow/compiler/tf2tensorrt/utils/py_utils.cc:38] TF-TRT Warning: Could not find TensorRT\n"
          ]
        },
        {
          "output_type": "stream",
          "name": "stdout",
          "text": [
            "\u001b[2m\u001b[36m(launch_and_evaluate pid=10256)\u001b[0m [Client 9] evaluate, config: {}\n"
          ]
        },
        {
          "output_type": "stream",
          "name": "stderr",
          "text": [
            "\u001b[2m\u001b[36m(pid=10328)\u001b[0m 2023-06-10 09:19:11.909012: W tensorflow/compiler/tf2tensorrt/utils/py_utils.cc:38] TF-TRT Warning: Could not find TensorRT\n"
          ]
        },
        {
          "output_type": "stream",
          "name": "stdout",
          "text": [
            "\u001b[2m\u001b[36m(launch_and_evaluate pid=10328)\u001b[0m [Client 0] evaluate, config: {}\n"
          ]
        },
        {
          "output_type": "stream",
          "name": "stderr",
          "text": [
            "\u001b[2m\u001b[36m(pid=10388)\u001b[0m 2023-06-10 09:19:17.987277: W tensorflow/compiler/tf2tensorrt/utils/py_utils.cc:38] TF-TRT Warning: Could not find TensorRT\n"
          ]
        },
        {
          "output_type": "stream",
          "name": "stdout",
          "text": [
            "\u001b[2m\u001b[36m(launch_and_evaluate pid=10388)\u001b[0m [Client 4] evaluate, config: {}\n"
          ]
        },
        {
          "output_type": "stream",
          "name": "stderr",
          "text": [
            "DEBUG flwr 2023-06-10 09:19:23,300 | server.py:182 | evaluate_round 18 received 3 results and 0 failures\n",
            "DEBUG:flwr:evaluate_round 18 received 3 results and 0 failures\n",
            "DEBUG flwr 2023-06-10 09:19:23,304 | server.py:218 | fit_round 19: strategy sampled 3 clients (out of 10)\n",
            "DEBUG:flwr:fit_round 19: strategy sampled 3 clients (out of 10)\n",
            "\u001b[2m\u001b[36m(pid=10481)\u001b[0m 2023-06-10 09:19:29.663715: W tensorflow/compiler/tf2tensorrt/utils/py_utils.cc:38] TF-TRT Warning: Could not find TensorRT\n"
          ]
        },
        {
          "output_type": "stream",
          "name": "stdout",
          "text": [
            "\u001b[2m\u001b[36m(launch_and_fit pid=10481)\u001b[0m [Client 2, round 19] fit, config: {'server_round': 19, 'local_epochs': 2}\n",
            "\u001b[2m\u001b[36m(launch_and_fit pid=10481)\u001b[0m Epoch 1: train loss 0.02985725924372673, accuracy 0.6646666666666666\n",
            "\u001b[2m\u001b[36m(launch_and_fit pid=10481)\u001b[0m Epoch 2: train loss 0.02495240606367588, accuracy 0.7217777777777777\n"
          ]
        },
        {
          "output_type": "stream",
          "name": "stderr",
          "text": [
            "\u001b[2m\u001b[36m(pid=10563)\u001b[0m 2023-06-10 09:19:41.156578: W tensorflow/compiler/tf2tensorrt/utils/py_utils.cc:38] TF-TRT Warning: Could not find TensorRT\n"
          ]
        },
        {
          "output_type": "stream",
          "name": "stdout",
          "text": [
            "\u001b[2m\u001b[36m(launch_and_fit pid=10563)\u001b[0m [Client 1, round 19] fit, config: {'server_round': 19, 'local_epochs': 2}\n",
            "\u001b[2m\u001b[36m(launch_and_fit pid=10563)\u001b[0m Epoch 1: train loss 0.033156223595142365, accuracy 0.62\n",
            "\u001b[2m\u001b[36m(launch_and_fit pid=10563)\u001b[0m Epoch 2: train loss 0.02840556390583515, accuracy 0.6817777777777778\n"
          ]
        },
        {
          "output_type": "stream",
          "name": "stderr",
          "text": [
            "\u001b[2m\u001b[36m(pid=10644)\u001b[0m 2023-06-10 09:19:50.130451: W tensorflow/compiler/tf2tensorrt/utils/py_utils.cc:38] TF-TRT Warning: Could not find TensorRT\n"
          ]
        },
        {
          "output_type": "stream",
          "name": "stdout",
          "text": [
            "\u001b[2m\u001b[36m(launch_and_fit pid=10644)\u001b[0m [Client 5, round 19] fit, config: {'server_round': 19, 'local_epochs': 2}\n",
            "\u001b[2m\u001b[36m(launch_and_fit pid=10644)\u001b[0m Epoch 1: train loss 0.03422359749674797, accuracy 0.6104444444444445\n"
          ]
        },
        {
          "output_type": "stream",
          "name": "stderr",
          "text": [
            "DEBUG flwr 2023-06-10 09:19:59,757 | server.py:232 | fit_round 19 received 3 results and 0 failures\n",
            "DEBUG:flwr:fit_round 19 received 3 results and 0 failures\n"
          ]
        },
        {
          "output_type": "stream",
          "name": "stdout",
          "text": [
            "\u001b[2m\u001b[36m(launch_and_fit pid=10644)\u001b[0m Epoch 2: train loss 0.02917264588177204, accuracy 0.6735555555555556\n"
          ]
        },
        {
          "output_type": "stream",
          "name": "stderr",
          "text": [
            "INFO flwr 2023-06-10 09:20:03,044 | server.py:119 | fit progress: (19, 0.03761822707056999, {'accuracy': 0.5834}, 1241.044146905)\n",
            "INFO:flwr:fit progress: (19, 0.03761822707056999, {'accuracy': 0.5834}, 1241.044146905)\n",
            "DEBUG flwr 2023-06-10 09:20:03,052 | server.py:168 | evaluate_round 19: strategy sampled 3 clients (out of 10)\n",
            "DEBUG:flwr:evaluate_round 19: strategy sampled 3 clients (out of 10)\n"
          ]
        },
        {
          "output_type": "stream",
          "name": "stdout",
          "text": [
            "Server-side evaluation loss 0.03761822707056999 / accuracy 0.5834\n"
          ]
        },
        {
          "output_type": "stream",
          "name": "stderr",
          "text": [
            "\u001b[2m\u001b[36m(pid=10772)\u001b[0m 2023-06-10 09:20:10.845805: W tensorflow/compiler/tf2tensorrt/utils/py_utils.cc:38] TF-TRT Warning: Could not find TensorRT\n"
          ]
        },
        {
          "output_type": "stream",
          "name": "stdout",
          "text": [
            "\u001b[2m\u001b[36m(launch_and_evaluate pid=10772)\u001b[0m [Client 0] evaluate, config: {}\n"
          ]
        },
        {
          "output_type": "stream",
          "name": "stderr",
          "text": [
            "\u001b[2m\u001b[36m(pid=10842)\u001b[0m 2023-06-10 09:20:17.214573: W tensorflow/compiler/tf2tensorrt/utils/py_utils.cc:38] TF-TRT Warning: Could not find TensorRT\n"
          ]
        },
        {
          "output_type": "stream",
          "name": "stdout",
          "text": [
            "\u001b[2m\u001b[36m(launch_and_evaluate pid=10842)\u001b[0m [Client 3] evaluate, config: {}\n"
          ]
        },
        {
          "output_type": "stream",
          "name": "stderr",
          "text": [
            "\u001b[2m\u001b[36m(pid=10902)\u001b[0m 2023-06-10 09:20:24.705900: W tensorflow/compiler/tf2tensorrt/utils/py_utils.cc:38] TF-TRT Warning: Could not find TensorRT\n"
          ]
        },
        {
          "output_type": "stream",
          "name": "stdout",
          "text": [
            "\u001b[2m\u001b[36m(launch_and_evaluate pid=10902)\u001b[0m [Client 9] evaluate, config: {}\n"
          ]
        },
        {
          "output_type": "stream",
          "name": "stderr",
          "text": [
            "DEBUG flwr 2023-06-10 09:20:29,580 | server.py:182 | evaluate_round 19 received 3 results and 0 failures\n",
            "DEBUG:flwr:evaluate_round 19 received 3 results and 0 failures\n",
            "DEBUG flwr 2023-06-10 09:20:29,587 | server.py:218 | fit_round 20: strategy sampled 3 clients (out of 10)\n",
            "DEBUG:flwr:fit_round 20: strategy sampled 3 clients (out of 10)\n",
            "\u001b[2m\u001b[36m(pid=10995)\u001b[0m 2023-06-10 09:20:35.216669: W tensorflow/compiler/tf2tensorrt/utils/py_utils.cc:38] TF-TRT Warning: Could not find TensorRT\n"
          ]
        },
        {
          "output_type": "stream",
          "name": "stdout",
          "text": [
            "\u001b[2m\u001b[36m(launch_and_fit pid=10995)\u001b[0m [Client 5, round 20] fit, config: {'server_round': 20, 'local_epochs': 2}\n",
            "\u001b[2m\u001b[36m(launch_and_fit pid=10995)\u001b[0m Epoch 1: train loss 0.03129987791180611, accuracy 0.6466666666666666\n",
            "\u001b[2m\u001b[36m(launch_and_fit pid=10995)\u001b[0m Epoch 2: train loss 0.026568837463855743, accuracy 0.696\n"
          ]
        },
        {
          "output_type": "stream",
          "name": "stderr",
          "text": [
            "\u001b[2m\u001b[36m(pid=11078)\u001b[0m 2023-06-10 09:20:46.355586: W tensorflow/compiler/tf2tensorrt/utils/py_utils.cc:38] TF-TRT Warning: Could not find TensorRT\n"
          ]
        },
        {
          "output_type": "stream",
          "name": "stdout",
          "text": [
            "\u001b[2m\u001b[36m(launch_and_fit pid=11078)\u001b[0m [Client 8, round 20] fit, config: {'server_round': 20, 'local_epochs': 2}\n",
            "\u001b[2m\u001b[36m(launch_and_fit pid=11078)\u001b[0m Epoch 1: train loss 0.03451202064752579, accuracy 0.6135555555555555\n",
            "\u001b[2m\u001b[36m(launch_and_fit pid=11078)\u001b[0m Epoch 2: train loss 0.029397184029221535, accuracy 0.6648888888888889\n"
          ]
        },
        {
          "output_type": "stream",
          "name": "stderr",
          "text": [
            "\u001b[2m\u001b[36m(pid=11158)\u001b[0m 2023-06-10 09:20:58.508679: W tensorflow/compiler/tf2tensorrt/utils/py_utils.cc:38] TF-TRT Warning: Could not find TensorRT\n"
          ]
        },
        {
          "output_type": "stream",
          "name": "stdout",
          "text": [
            "\u001b[2m\u001b[36m(launch_and_fit pid=11158)\u001b[0m [Client 2, round 20] fit, config: {'server_round': 20, 'local_epochs': 2}\n",
            "\u001b[2m\u001b[36m(launch_and_fit pid=11158)\u001b[0m Epoch 1: train loss 0.027391014620661736, accuracy 0.6904444444444444\n"
          ]
        },
        {
          "output_type": "stream",
          "name": "stderr",
          "text": [
            "DEBUG flwr 2023-06-10 09:21:05,515 | server.py:232 | fit_round 20 received 3 results and 0 failures\n",
            "DEBUG:flwr:fit_round 20 received 3 results and 0 failures\n"
          ]
        },
        {
          "output_type": "stream",
          "name": "stdout",
          "text": [
            "\u001b[2m\u001b[36m(launch_and_fit pid=11158)\u001b[0m Epoch 2: train loss 0.022712113335728645, accuracy 0.7471111111111111\n"
          ]
        },
        {
          "output_type": "stream",
          "name": "stderr",
          "text": [
            "INFO flwr 2023-06-10 09:21:08,895 | server.py:119 | fit progress: (20, 0.03713839893341064, {'accuracy': 0.593}, 1306.895122111)\n",
            "INFO:flwr:fit progress: (20, 0.03713839893341064, {'accuracy': 0.593}, 1306.895122111)\n",
            "DEBUG flwr 2023-06-10 09:21:08,898 | server.py:168 | evaluate_round 20: strategy sampled 3 clients (out of 10)\n",
            "DEBUG:flwr:evaluate_round 20: strategy sampled 3 clients (out of 10)\n"
          ]
        },
        {
          "output_type": "stream",
          "name": "stdout",
          "text": [
            "Server-side evaluation loss 0.03713839893341064 / accuracy 0.593\n"
          ]
        },
        {
          "output_type": "stream",
          "name": "stderr",
          "text": [
            "\u001b[2m\u001b[36m(pid=11286)\u001b[0m 2023-06-10 09:21:16.938327: W tensorflow/compiler/tf2tensorrt/utils/py_utils.cc:38] TF-TRT Warning: Could not find TensorRT\n"
          ]
        },
        {
          "output_type": "stream",
          "name": "stdout",
          "text": [
            "\u001b[2m\u001b[36m(launch_and_evaluate pid=11286)\u001b[0m [Client 0] evaluate, config: {}\n"
          ]
        },
        {
          "output_type": "stream",
          "name": "stderr",
          "text": [
            "\u001b[2m\u001b[36m(pid=11346)\u001b[0m 2023-06-10 09:21:23.103286: W tensorflow/compiler/tf2tensorrt/utils/py_utils.cc:38] TF-TRT Warning: Could not find TensorRT\n"
          ]
        },
        {
          "output_type": "stream",
          "name": "stdout",
          "text": [
            "\u001b[2m\u001b[36m(launch_and_evaluate pid=11346)\u001b[0m [Client 3] evaluate, config: {}\n"
          ]
        },
        {
          "output_type": "stream",
          "name": "stderr",
          "text": [
            "\u001b[2m\u001b[36m(pid=11417)\u001b[0m 2023-06-10 09:21:30.967003: W tensorflow/compiler/tf2tensorrt/utils/py_utils.cc:38] TF-TRT Warning: Could not find TensorRT\n"
          ]
        },
        {
          "output_type": "stream",
          "name": "stdout",
          "text": [
            "\u001b[2m\u001b[36m(launch_and_evaluate pid=11417)\u001b[0m [Client 2] evaluate, config: {}\n"
          ]
        },
        {
          "output_type": "stream",
          "name": "stderr",
          "text": [
            "DEBUG flwr 2023-06-10 09:21:35,176 | server.py:182 | evaluate_round 20 received 3 results and 0 failures\n",
            "DEBUG:flwr:evaluate_round 20 received 3 results and 0 failures\n",
            "DEBUG flwr 2023-06-10 09:21:35,186 | server.py:218 | fit_round 21: strategy sampled 3 clients (out of 10)\n",
            "DEBUG:flwr:fit_round 21: strategy sampled 3 clients (out of 10)\n",
            "\u001b[2m\u001b[36m(pid=11501)\u001b[0m 2023-06-10 09:21:44.481653: W tensorflow/compiler/tf2tensorrt/utils/py_utils.cc:38] TF-TRT Warning: Could not find TensorRT\n"
          ]
        },
        {
          "output_type": "stream",
          "name": "stdout",
          "text": [
            "\u001b[2m\u001b[36m(launch_and_fit pid=11501)\u001b[0m [Client 6, round 21] fit, config: {'server_round': 21, 'local_epochs': 2}\n",
            "\u001b[2m\u001b[36m(launch_and_fit pid=11501)\u001b[0m Epoch 1: train loss 0.035311438143253326, accuracy 0.6062222222222222\n",
            "\u001b[2m\u001b[36m(launch_and_fit pid=11501)\u001b[0m Epoch 2: train loss 0.030063025653362274, accuracy 0.666\n"
          ]
        },
        {
          "output_type": "stream",
          "name": "stderr",
          "text": [
            "\u001b[2m\u001b[36m(pid=11594)\u001b[0m 2023-06-10 09:21:55.288102: W tensorflow/compiler/tf2tensorrt/utils/py_utils.cc:38] TF-TRT Warning: Could not find TensorRT\n"
          ]
        },
        {
          "output_type": "stream",
          "name": "stdout",
          "text": [
            "\u001b[2m\u001b[36m(launch_and_fit pid=11594)\u001b[0m [Client 9, round 21] fit, config: {'server_round': 21, 'local_epochs': 2}\n",
            "\u001b[2m\u001b[36m(launch_and_fit pid=11594)\u001b[0m Epoch 1: train loss 0.03453049436211586, accuracy 0.6108888888888889\n",
            "\u001b[2m\u001b[36m(launch_and_fit pid=11594)\u001b[0m Epoch 2: train loss 0.0287928469479084, accuracy 0.6762222222222222\n"
          ]
        },
        {
          "output_type": "stream",
          "name": "stderr",
          "text": [
            "\u001b[2m\u001b[36m(pid=11683)\u001b[0m 2023-06-10 09:22:06.998962: W tensorflow/compiler/tf2tensorrt/utils/py_utils.cc:38] TF-TRT Warning: Could not find TensorRT\n"
          ]
        },
        {
          "output_type": "stream",
          "name": "stdout",
          "text": [
            "\u001b[2m\u001b[36m(launch_and_fit pid=11683)\u001b[0m [Client 3, round 21] fit, config: {'server_round': 21, 'local_epochs': 2}\n",
            "\u001b[2m\u001b[36m(launch_and_fit pid=11683)\u001b[0m Epoch 1: train loss 0.03308708965778351, accuracy 0.6246666666666667\n"
          ]
        },
        {
          "output_type": "stream",
          "name": "stderr",
          "text": [
            "DEBUG flwr 2023-06-10 09:22:15,092 | server.py:232 | fit_round 21 received 3 results and 0 failures\n",
            "DEBUG:flwr:fit_round 21 received 3 results and 0 failures\n"
          ]
        },
        {
          "output_type": "stream",
          "name": "stdout",
          "text": [
            "\u001b[2m\u001b[36m(launch_and_fit pid=11683)\u001b[0m Epoch 2: train loss 0.0282762311398983, accuracy 0.6833333333333333\n"
          ]
        },
        {
          "output_type": "stream",
          "name": "stderr",
          "text": [
            "INFO flwr 2023-06-10 09:22:19,934 | server.py:119 | fit progress: (21, 0.036000947761535645, {'accuracy': 0.5953}, 1377.9347168450001)\n",
            "INFO:flwr:fit progress: (21, 0.036000947761535645, {'accuracy': 0.5953}, 1377.9347168450001)\n",
            "DEBUG flwr 2023-06-10 09:22:19,941 | server.py:168 | evaluate_round 21: strategy sampled 3 clients (out of 10)\n",
            "DEBUG:flwr:evaluate_round 21: strategy sampled 3 clients (out of 10)\n"
          ]
        },
        {
          "output_type": "stream",
          "name": "stdout",
          "text": [
            "Server-side evaluation loss 0.036000947761535645 / accuracy 0.5953\n"
          ]
        },
        {
          "output_type": "stream",
          "name": "stderr",
          "text": [
            "\u001b[2m\u001b[36m(pid=11805)\u001b[0m 2023-06-10 09:22:25.723632: W tensorflow/compiler/tf2tensorrt/utils/py_utils.cc:38] TF-TRT Warning: Could not find TensorRT\n"
          ]
        },
        {
          "output_type": "stream",
          "name": "stdout",
          "text": [
            "\u001b[2m\u001b[36m(launch_and_evaluate pid=11805)\u001b[0m [Client 0] evaluate, config: {}\n"
          ]
        },
        {
          "output_type": "stream",
          "name": "stderr",
          "text": [
            "\u001b[2m\u001b[36m(pid=11867)\u001b[0m 2023-06-10 09:22:34.193928: W tensorflow/compiler/tf2tensorrt/utils/py_utils.cc:38] TF-TRT Warning: Could not find TensorRT\n"
          ]
        },
        {
          "output_type": "stream",
          "name": "stdout",
          "text": [
            "\u001b[2m\u001b[36m(launch_and_evaluate pid=11867)\u001b[0m [Client 7] evaluate, config: {}\n"
          ]
        },
        {
          "output_type": "stream",
          "name": "stderr",
          "text": [
            "\u001b[2m\u001b[36m(pid=11936)\u001b[0m 2023-06-10 09:22:40.548095: W tensorflow/compiler/tf2tensorrt/utils/py_utils.cc:38] TF-TRT Warning: Could not find TensorRT\n"
          ]
        },
        {
          "output_type": "stream",
          "name": "stdout",
          "text": [
            "\u001b[2m\u001b[36m(launch_and_evaluate pid=11936)\u001b[0m [Client 5] evaluate, config: {}\n"
          ]
        },
        {
          "output_type": "stream",
          "name": "stderr",
          "text": [
            "DEBUG flwr 2023-06-10 09:22:44,640 | server.py:182 | evaluate_round 21 received 3 results and 0 failures\n",
            "DEBUG:flwr:evaluate_round 21 received 3 results and 0 failures\n",
            "DEBUG flwr 2023-06-10 09:22:44,646 | server.py:218 | fit_round 22: strategy sampled 3 clients (out of 10)\n",
            "DEBUG:flwr:fit_round 22: strategy sampled 3 clients (out of 10)\n",
            "\u001b[2m\u001b[36m(pid=12024)\u001b[0m 2023-06-10 09:22:52.755403: W tensorflow/compiler/tf2tensorrt/utils/py_utils.cc:38] TF-TRT Warning: Could not find TensorRT\n"
          ]
        },
        {
          "output_type": "stream",
          "name": "stdout",
          "text": [
            "\u001b[2m\u001b[36m(launch_and_fit pid=12024)\u001b[0m [Client 3, round 22] fit, config: {'server_round': 22, 'local_epochs': 2}\n",
            "\u001b[2m\u001b[36m(launch_and_fit pid=12024)\u001b[0m Epoch 1: train loss 0.029983436688780785, accuracy 0.6606666666666666\n",
            "\u001b[2m\u001b[36m(launch_and_fit pid=12024)\u001b[0m Epoch 2: train loss 0.024791503325104713, accuracy 0.7217777777777777\n"
          ]
        },
        {
          "output_type": "stream",
          "name": "stderr",
          "text": [
            "\u001b[2m\u001b[36m(pid=12106)\u001b[0m 2023-06-10 09:23:03.856027: W tensorflow/compiler/tf2tensorrt/utils/py_utils.cc:38] TF-TRT Warning: Could not find TensorRT\n"
          ]
        },
        {
          "output_type": "stream",
          "name": "stdout",
          "text": [
            "\u001b[2m\u001b[36m(launch_and_fit pid=12106)\u001b[0m [Client 6, round 22] fit, config: {'server_round': 22, 'local_epochs': 2}\n",
            "\u001b[2m\u001b[36m(launch_and_fit pid=12106)\u001b[0m Epoch 1: train loss 0.03193647786974907, accuracy 0.6406666666666667\n",
            "\u001b[2m\u001b[36m(launch_and_fit pid=12106)\u001b[0m Epoch 2: train loss 0.026904122903943062, accuracy 0.6988888888888889\n"
          ]
        },
        {
          "output_type": "stream",
          "name": "stderr",
          "text": [
            "\u001b[2m\u001b[36m(pid=12194)\u001b[0m 2023-06-10 09:23:13.848524: W tensorflow/compiler/tf2tensorrt/utils/py_utils.cc:38] TF-TRT Warning: Could not find TensorRT\n"
          ]
        },
        {
          "output_type": "stream",
          "name": "stdout",
          "text": [
            "\u001b[2m\u001b[36m(launch_and_fit pid=12194)\u001b[0m [Client 5, round 22] fit, config: {'server_round': 22, 'local_epochs': 2}\n",
            "\u001b[2m\u001b[36m(launch_and_fit pid=12194)\u001b[0m Epoch 1: train loss 0.02956128679215908, accuracy 0.6624444444444444\n"
          ]
        },
        {
          "output_type": "stream",
          "name": "stderr",
          "text": [
            "DEBUG flwr 2023-06-10 09:23:23,236 | server.py:232 | fit_round 22 received 3 results and 0 failures\n",
            "DEBUG:flwr:fit_round 22 received 3 results and 0 failures\n"
          ]
        },
        {
          "output_type": "stream",
          "name": "stdout",
          "text": [
            "\u001b[2m\u001b[36m(launch_and_fit pid=12194)\u001b[0m Epoch 2: train loss 0.024642905220389366, accuracy 0.7231111111111111\n"
          ]
        },
        {
          "output_type": "stream",
          "name": "stderr",
          "text": [
            "INFO flwr 2023-06-10 09:23:26,456 | server.py:119 | fit progress: (22, 0.03698444929718971, {'accuracy': 0.5935}, 1444.456712853)\n",
            "INFO:flwr:fit progress: (22, 0.03698444929718971, {'accuracy': 0.5935}, 1444.456712853)\n",
            "DEBUG flwr 2023-06-10 09:23:26,461 | server.py:168 | evaluate_round 22: strategy sampled 3 clients (out of 10)\n",
            "DEBUG:flwr:evaluate_round 22: strategy sampled 3 clients (out of 10)\n"
          ]
        },
        {
          "output_type": "stream",
          "name": "stdout",
          "text": [
            "Server-side evaluation loss 0.03698444929718971 / accuracy 0.5935\n"
          ]
        },
        {
          "output_type": "stream",
          "name": "stderr",
          "text": [
            "\u001b[2m\u001b[36m(pid=12313)\u001b[0m 2023-06-10 09:23:33.107724: W tensorflow/compiler/tf2tensorrt/utils/py_utils.cc:38] TF-TRT Warning: Could not find TensorRT\n"
          ]
        },
        {
          "output_type": "stream",
          "name": "stdout",
          "text": [
            "\u001b[2m\u001b[36m(launch_and_evaluate pid=12313)\u001b[0m [Client 3] evaluate, config: {}\n"
          ]
        },
        {
          "output_type": "stream",
          "name": "stderr",
          "text": [
            "\u001b[2m\u001b[36m(pid=12382)\u001b[0m 2023-06-10 09:23:40.667790: W tensorflow/compiler/tf2tensorrt/utils/py_utils.cc:38] TF-TRT Warning: Could not find TensorRT\n"
          ]
        },
        {
          "output_type": "stream",
          "name": "stdout",
          "text": [
            "\u001b[2m\u001b[36m(launch_and_evaluate pid=12382)\u001b[0m [Client 8] evaluate, config: {}\n"
          ]
        },
        {
          "output_type": "stream",
          "name": "stderr",
          "text": [
            "\u001b[2m\u001b[36m(pid=12442)\u001b[0m 2023-06-10 09:23:46.593401: W tensorflow/compiler/tf2tensorrt/utils/py_utils.cc:38] TF-TRT Warning: Could not find TensorRT\n"
          ]
        },
        {
          "output_type": "stream",
          "name": "stdout",
          "text": [
            "\u001b[2m\u001b[36m(launch_and_evaluate pid=12442)\u001b[0m [Client 9] evaluate, config: {}\n"
          ]
        },
        {
          "output_type": "stream",
          "name": "stderr",
          "text": [
            "DEBUG flwr 2023-06-10 09:23:53,056 | server.py:182 | evaluate_round 22 received 3 results and 0 failures\n",
            "DEBUG:flwr:evaluate_round 22 received 3 results and 0 failures\n",
            "DEBUG flwr 2023-06-10 09:23:53,061 | server.py:218 | fit_round 23: strategy sampled 3 clients (out of 10)\n",
            "DEBUG:flwr:fit_round 23: strategy sampled 3 clients (out of 10)\n",
            "\u001b[2m\u001b[36m(pid=12530)\u001b[0m 2023-06-10 09:23:58.602559: W tensorflow/compiler/tf2tensorrt/utils/py_utils.cc:38] TF-TRT Warning: Could not find TensorRT\n"
          ]
        },
        {
          "output_type": "stream",
          "name": "stdout",
          "text": [
            "\u001b[2m\u001b[36m(launch_and_fit pid=12530)\u001b[0m [Client 1, round 23] fit, config: {'server_round': 23, 'local_epochs': 2}\n",
            "\u001b[2m\u001b[36m(launch_and_fit pid=12530)\u001b[0m Epoch 1: train loss 0.03219495713710785, accuracy 0.6355555555555555\n",
            "\u001b[2m\u001b[36m(launch_and_fit pid=12530)\u001b[0m Epoch 2: train loss 0.026059838011860847, accuracy 0.7088888888888889\n"
          ]
        },
        {
          "output_type": "stream",
          "name": "stderr",
          "text": [
            "\u001b[2m\u001b[36m(pid=12616)\u001b[0m 2023-06-10 09:24:09.917285: W tensorflow/compiler/tf2tensorrt/utils/py_utils.cc:38] TF-TRT Warning: Could not find TensorRT\n"
          ]
        },
        {
          "output_type": "stream",
          "name": "stdout",
          "text": [
            "\u001b[2m\u001b[36m(launch_and_fit pid=12616)\u001b[0m [Client 0, round 23] fit, config: {'server_round': 23, 'local_epochs': 2}\n",
            "\u001b[2m\u001b[36m(launch_and_fit pid=12616)\u001b[0m Epoch 1: train loss 0.03558821976184845, accuracy 0.606\n",
            "\u001b[2m\u001b[36m(launch_and_fit pid=12616)\u001b[0m Epoch 2: train loss 0.029791491106152534, accuracy 0.6637777777777778\n"
          ]
        },
        {
          "output_type": "stream",
          "name": "stderr",
          "text": [
            "\u001b[2m\u001b[36m(pid=12692)\u001b[0m 2023-06-10 09:24:20.563355: W tensorflow/compiler/tf2tensorrt/utils/py_utils.cc:38] TF-TRT Warning: Could not find TensorRT\n"
          ]
        },
        {
          "output_type": "stream",
          "name": "stdout",
          "text": [
            "\u001b[2m\u001b[36m(launch_and_fit pid=12692)\u001b[0m [Client 4, round 23] fit, config: {'server_round': 23, 'local_epochs': 2}\n",
            "\u001b[2m\u001b[36m(launch_and_fit pid=12692)\u001b[0m Epoch 1: train loss 0.03361716866493225, accuracy 0.6213333333333333\n"
          ]
        },
        {
          "output_type": "stream",
          "name": "stderr",
          "text": [
            "DEBUG flwr 2023-06-10 09:24:28,832 | server.py:232 | fit_round 23 received 3 results and 0 failures\n",
            "DEBUG:flwr:fit_round 23 received 3 results and 0 failures\n"
          ]
        },
        {
          "output_type": "stream",
          "name": "stdout",
          "text": [
            "\u001b[2m\u001b[36m(launch_and_fit pid=12692)\u001b[0m Epoch 2: train loss 0.02774888463318348, accuracy 0.6893333333333334\n"
          ]
        },
        {
          "output_type": "stream",
          "name": "stderr",
          "text": [
            "INFO flwr 2023-06-10 09:24:32,155 | server.py:119 | fit progress: (23, 0.035925155544281, {'accuracy': 0.6007}, 1510.155557475)\n",
            "INFO:flwr:fit progress: (23, 0.035925155544281, {'accuracy': 0.6007}, 1510.155557475)\n",
            "DEBUG flwr 2023-06-10 09:24:32,164 | server.py:168 | evaluate_round 23: strategy sampled 3 clients (out of 10)\n",
            "DEBUG:flwr:evaluate_round 23: strategy sampled 3 clients (out of 10)\n"
          ]
        },
        {
          "output_type": "stream",
          "name": "stdout",
          "text": [
            "Server-side evaluation loss 0.035925155544281 / accuracy 0.6007\n"
          ]
        },
        {
          "output_type": "stream",
          "name": "stderr",
          "text": [
            "\u001b[2m\u001b[36m(pid=12824)\u001b[0m 2023-06-10 09:24:40.238290: W tensorflow/compiler/tf2tensorrt/utils/py_utils.cc:38] TF-TRT Warning: Could not find TensorRT\n"
          ]
        },
        {
          "output_type": "stream",
          "name": "stdout",
          "text": [
            "\u001b[2m\u001b[36m(launch_and_evaluate pid=12824)\u001b[0m [Client 5] evaluate, config: {}\n"
          ]
        },
        {
          "output_type": "stream",
          "name": "stderr",
          "text": [
            "\u001b[2m\u001b[36m(pid=12888)\u001b[0m 2023-06-10 09:24:47.302224: W tensorflow/compiler/tf2tensorrt/utils/py_utils.cc:38] TF-TRT Warning: Could not find TensorRT\n"
          ]
        },
        {
          "output_type": "stream",
          "name": "stdout",
          "text": [
            "\u001b[2m\u001b[36m(launch_and_evaluate pid=12888)\u001b[0m [Client 0] evaluate, config: {}\n"
          ]
        },
        {
          "output_type": "stream",
          "name": "stderr",
          "text": [
            "\u001b[2m\u001b[36m(pid=12965)\u001b[0m 2023-06-10 09:24:56.999307: W tensorflow/compiler/tf2tensorrt/utils/py_utils.cc:38] TF-TRT Warning: Could not find TensorRT\n"
          ]
        },
        {
          "output_type": "stream",
          "name": "stdout",
          "text": [
            "\u001b[2m\u001b[36m(launch_and_evaluate pid=12965)\u001b[0m [Client 1] evaluate, config: {}\n"
          ]
        },
        {
          "output_type": "stream",
          "name": "stderr",
          "text": [
            "DEBUG flwr 2023-06-10 09:25:01,250 | server.py:182 | evaluate_round 23 received 3 results and 0 failures\n",
            "DEBUG:flwr:evaluate_round 23 received 3 results and 0 failures\n",
            "DEBUG flwr 2023-06-10 09:25:01,258 | server.py:218 | fit_round 24: strategy sampled 3 clients (out of 10)\n",
            "DEBUG:flwr:fit_round 24: strategy sampled 3 clients (out of 10)\n",
            "\u001b[2m\u001b[36m(pid=13047)\u001b[0m 2023-06-10 09:25:08.625787: W tensorflow/compiler/tf2tensorrt/utils/py_utils.cc:38] TF-TRT Warning: Could not find TensorRT\n"
          ]
        },
        {
          "output_type": "stream",
          "name": "stdout",
          "text": [
            "\u001b[2m\u001b[36m(launch_and_fit pid=13047)\u001b[0m [Client 2, round 24] fit, config: {'server_round': 24, 'local_epochs': 2}\n",
            "\u001b[2m\u001b[36m(launch_and_fit pid=13047)\u001b[0m Epoch 1: train loss 0.02830185741186142, accuracy 0.6771111111111111\n",
            "\u001b[2m\u001b[36m(launch_and_fit pid=13047)\u001b[0m Epoch 2: train loss 0.022534102201461792, accuracy 0.7513333333333333\n"
          ]
        },
        {
          "output_type": "stream",
          "name": "stderr",
          "text": [
            "\u001b[2m\u001b[36m(pid=13134)\u001b[0m 2023-06-10 09:25:18.810143: W tensorflow/compiler/tf2tensorrt/utils/py_utils.cc:38] TF-TRT Warning: Could not find TensorRT\n"
          ]
        },
        {
          "output_type": "stream",
          "name": "stdout",
          "text": [
            "\u001b[2m\u001b[36m(launch_and_fit pid=13134)\u001b[0m [Client 1, round 24] fit, config: {'server_round': 24, 'local_epochs': 2}\n",
            "\u001b[2m\u001b[36m(launch_and_fit pid=13134)\u001b[0m Epoch 1: train loss 0.028874199837446213, accuracy 0.6768888888888889\n",
            "\u001b[2m\u001b[36m(launch_and_fit pid=13134)\u001b[0m Epoch 2: train loss 0.023255011066794395, accuracy 0.7377777777777778\n"
          ]
        },
        {
          "output_type": "stream",
          "name": "stderr",
          "text": [
            "\u001b[2m\u001b[36m(pid=13219)\u001b[0m 2023-06-10 09:25:30.109177: W tensorflow/compiler/tf2tensorrt/utils/py_utils.cc:38] TF-TRT Warning: Could not find TensorRT\n"
          ]
        },
        {
          "output_type": "stream",
          "name": "stdout",
          "text": [
            "\u001b[2m\u001b[36m(launch_and_fit pid=13219)\u001b[0m [Client 4, round 24] fit, config: {'server_round': 24, 'local_epochs': 2}\n",
            "\u001b[2m\u001b[36m(launch_and_fit pid=13219)\u001b[0m Epoch 1: train loss 0.029814647510647774, accuracy 0.6666666666666666\n"
          ]
        },
        {
          "output_type": "stream",
          "name": "stderr",
          "text": [
            "DEBUG flwr 2023-06-10 09:25:38,000 | server.py:232 | fit_round 24 received 3 results and 0 failures\n",
            "DEBUG:flwr:fit_round 24 received 3 results and 0 failures\n"
          ]
        },
        {
          "output_type": "stream",
          "name": "stdout",
          "text": [
            "\u001b[2m\u001b[36m(launch_and_fit pid=13219)\u001b[0m Epoch 2: train loss 0.024514418095350266, accuracy 0.7297777777777777\n"
          ]
        },
        {
          "output_type": "stream",
          "name": "stderr",
          "text": [
            "INFO flwr 2023-06-10 09:25:42,938 | server.py:119 | fit progress: (24, 0.03739053146243095, {'accuracy': 0.5912}, 1580.9381710950001)\n",
            "INFO:flwr:fit progress: (24, 0.03739053146243095, {'accuracy': 0.5912}, 1580.9381710950001)\n",
            "DEBUG flwr 2023-06-10 09:25:42,946 | server.py:168 | evaluate_round 24: strategy sampled 3 clients (out of 10)\n",
            "DEBUG:flwr:evaluate_round 24: strategy sampled 3 clients (out of 10)\n"
          ]
        },
        {
          "output_type": "stream",
          "name": "stdout",
          "text": [
            "Server-side evaluation loss 0.03739053146243095 / accuracy 0.5912\n"
          ]
        },
        {
          "output_type": "stream",
          "name": "stderr",
          "text": [
            "\u001b[2m\u001b[36m(pid=13338)\u001b[0m 2023-06-10 09:25:48.485019: W tensorflow/compiler/tf2tensorrt/utils/py_utils.cc:38] TF-TRT Warning: Could not find TensorRT\n"
          ]
        },
        {
          "output_type": "stream",
          "name": "stdout",
          "text": [
            "\u001b[2m\u001b[36m(launch_and_evaluate pid=13338)\u001b[0m [Client 2] evaluate, config: {}\n"
          ]
        },
        {
          "output_type": "stream",
          "name": "stderr",
          "text": [
            "\u001b[2m\u001b[36m(pid=13403)\u001b[0m 2023-06-10 09:25:56.572331: W tensorflow/compiler/tf2tensorrt/utils/py_utils.cc:38] TF-TRT Warning: Could not find TensorRT\n"
          ]
        },
        {
          "output_type": "stream",
          "name": "stdout",
          "text": [
            "\u001b[2m\u001b[36m(launch_and_evaluate pid=13403)\u001b[0m [Client 4] evaluate, config: {}\n"
          ]
        },
        {
          "output_type": "stream",
          "name": "stderr",
          "text": [
            "\u001b[2m\u001b[36m(pid=13473)\u001b[0m 2023-06-10 09:26:02.882839: W tensorflow/compiler/tf2tensorrt/utils/py_utils.cc:38] TF-TRT Warning: Could not find TensorRT\n"
          ]
        },
        {
          "output_type": "stream",
          "name": "stdout",
          "text": [
            "\u001b[2m\u001b[36m(launch_and_evaluate pid=13473)\u001b[0m [Client 5] evaluate, config: {}\n"
          ]
        },
        {
          "output_type": "stream",
          "name": "stderr",
          "text": [
            "DEBUG flwr 2023-06-10 09:26:07,112 | server.py:182 | evaluate_round 24 received 3 results and 0 failures\n",
            "DEBUG:flwr:evaluate_round 24 received 3 results and 0 failures\n",
            "DEBUG flwr 2023-06-10 09:26:07,120 | server.py:218 | fit_round 25: strategy sampled 3 clients (out of 10)\n",
            "DEBUG:flwr:fit_round 25: strategy sampled 3 clients (out of 10)\n",
            "\u001b[2m\u001b[36m(pid=13562)\u001b[0m 2023-06-10 09:26:15.268145: W tensorflow/compiler/tf2tensorrt/utils/py_utils.cc:38] TF-TRT Warning: Could not find TensorRT\n"
          ]
        },
        {
          "output_type": "stream",
          "name": "stdout",
          "text": [
            "\u001b[2m\u001b[36m(launch_and_fit pid=13562)\u001b[0m [Client 6, round 25] fit, config: {'server_round': 25, 'local_epochs': 2}\n",
            "\u001b[2m\u001b[36m(launch_and_fit pid=13562)\u001b[0m Epoch 1: train loss 0.03080384060740471, accuracy 0.6548888888888889\n",
            "\u001b[2m\u001b[36m(launch_and_fit pid=13562)\u001b[0m Epoch 2: train loss 0.02522697113454342, accuracy 0.7197777777777777\n"
          ]
        },
        {
          "output_type": "stream",
          "name": "stderr",
          "text": [
            "\u001b[2m\u001b[36m(pid=13637)\u001b[0m 2023-06-10 09:26:26.103717: W tensorflow/compiler/tf2tensorrt/utils/py_utils.cc:38] TF-TRT Warning: Could not find TensorRT\n"
          ]
        },
        {
          "output_type": "stream",
          "name": "stdout",
          "text": [
            "\u001b[2m\u001b[36m(launch_and_fit pid=13637)\u001b[0m [Client 9, round 25] fit, config: {'server_round': 25, 'local_epochs': 2}\n",
            "\u001b[2m\u001b[36m(launch_and_fit pid=13637)\u001b[0m Epoch 1: train loss 0.033024583011865616, accuracy 0.6266666666666667\n",
            "\u001b[2m\u001b[36m(launch_and_fit pid=13637)\u001b[0m Epoch 2: train loss 0.027153607457876205, accuracy 0.6964444444444444\n"
          ]
        },
        {
          "output_type": "stream",
          "name": "stderr",
          "text": [
            "\u001b[2m\u001b[36m(pid=13727)\u001b[0m 2023-06-10 09:26:36.490849: W tensorflow/compiler/tf2tensorrt/utils/py_utils.cc:38] TF-TRT Warning: Could not find TensorRT\n"
          ]
        },
        {
          "output_type": "stream",
          "name": "stdout",
          "text": [
            "\u001b[2m\u001b[36m(launch_and_fit pid=13727)\u001b[0m [Client 4, round 25] fit, config: {'server_round': 25, 'local_epochs': 2}\n",
            "\u001b[2m\u001b[36m(launch_and_fit pid=13727)\u001b[0m Epoch 1: train loss 0.0275583453476429, accuracy 0.6902222222222222\n"
          ]
        },
        {
          "output_type": "stream",
          "name": "stderr",
          "text": [
            "DEBUG flwr 2023-06-10 09:26:45,827 | server.py:232 | fit_round 25 received 3 results and 0 failures\n",
            "DEBUG:flwr:fit_round 25 received 3 results and 0 failures\n"
          ]
        },
        {
          "output_type": "stream",
          "name": "stdout",
          "text": [
            "\u001b[2m\u001b[36m(launch_and_fit pid=13727)\u001b[0m Epoch 2: train loss 0.022205226123332977, accuracy 0.7588888888888888\n"
          ]
        },
        {
          "output_type": "stream",
          "name": "stderr",
          "text": [
            "INFO flwr 2023-06-10 09:26:49,088 | server.py:119 | fit progress: (25, 0.03669269217848778, {'accuracy': 0.6031}, 1647.088124077)\n",
            "INFO:flwr:fit progress: (25, 0.03669269217848778, {'accuracy': 0.6031}, 1647.088124077)\n",
            "DEBUG flwr 2023-06-10 09:26:49,092 | server.py:168 | evaluate_round 25: strategy sampled 3 clients (out of 10)\n",
            "DEBUG:flwr:evaluate_round 25: strategy sampled 3 clients (out of 10)\n"
          ]
        },
        {
          "output_type": "stream",
          "name": "stdout",
          "text": [
            "Server-side evaluation loss 0.03669269217848778 / accuracy 0.6031\n"
          ]
        },
        {
          "output_type": "stream",
          "name": "stderr",
          "text": [
            "\u001b[2m\u001b[36m(pid=13845)\u001b[0m 2023-06-10 09:26:54.826146: W tensorflow/compiler/tf2tensorrt/utils/py_utils.cc:38] TF-TRT Warning: Could not find TensorRT\n"
          ]
        },
        {
          "output_type": "stream",
          "name": "stdout",
          "text": [
            "\u001b[2m\u001b[36m(launch_and_evaluate pid=13845)\u001b[0m [Client 8] evaluate, config: {}\n"
          ]
        },
        {
          "output_type": "stream",
          "name": "stderr",
          "text": [
            "\u001b[2m\u001b[36m(pid=13919)\u001b[0m 2023-06-10 09:27:03.338028: W tensorflow/compiler/tf2tensorrt/utils/py_utils.cc:38] TF-TRT Warning: Could not find TensorRT\n"
          ]
        },
        {
          "output_type": "stream",
          "name": "stdout",
          "text": [
            "\u001b[2m\u001b[36m(launch_and_evaluate pid=13919)\u001b[0m [Client 1] evaluate, config: {}\n"
          ]
        },
        {
          "output_type": "stream",
          "name": "stderr",
          "text": [
            "\u001b[2m\u001b[36m(pid=13980)\u001b[0m 2023-06-10 09:27:09.523505: W tensorflow/compiler/tf2tensorrt/utils/py_utils.cc:38] TF-TRT Warning: Could not find TensorRT\n"
          ]
        },
        {
          "output_type": "stream",
          "name": "stdout",
          "text": [
            "\u001b[2m\u001b[36m(launch_and_evaluate pid=13980)\u001b[0m [Client 3] evaluate, config: {}\n"
          ]
        },
        {
          "output_type": "stream",
          "name": "stderr",
          "text": [
            "DEBUG flwr 2023-06-10 09:27:15,838 | server.py:182 | evaluate_round 25 received 3 results and 0 failures\n",
            "DEBUG:flwr:evaluate_round 25 received 3 results and 0 failures\n",
            "DEBUG flwr 2023-06-10 09:27:15,842 | server.py:218 | fit_round 26: strategy sampled 3 clients (out of 10)\n",
            "DEBUG:flwr:fit_round 26: strategy sampled 3 clients (out of 10)\n",
            "\u001b[2m\u001b[36m(pid=14068)\u001b[0m 2023-06-10 09:27:21.397117: W tensorflow/compiler/tf2tensorrt/utils/py_utils.cc:38] TF-TRT Warning: Could not find TensorRT\n"
          ]
        },
        {
          "output_type": "stream",
          "name": "stdout",
          "text": [
            "\u001b[2m\u001b[36m(launch_and_fit pid=14068)\u001b[0m [Client 0, round 26] fit, config: {'server_round': 26, 'local_epochs': 2}\n",
            "\u001b[2m\u001b[36m(launch_and_fit pid=14068)\u001b[0m Epoch 1: train loss 0.033415522426366806, accuracy 0.6235555555555555\n",
            "\u001b[2m\u001b[36m(launch_and_fit pid=14068)\u001b[0m Epoch 2: train loss 0.02696908451616764, accuracy 0.6913333333333334\n"
          ]
        },
        {
          "output_type": "stream",
          "name": "stderr",
          "text": [
            "\u001b[2m\u001b[36m(pid=14147)\u001b[0m 2023-06-10 09:27:32.635690: W tensorflow/compiler/tf2tensorrt/utils/py_utils.cc:38] TF-TRT Warning: Could not find TensorRT\n"
          ]
        },
        {
          "output_type": "stream",
          "name": "stdout",
          "text": [
            "\u001b[2m\u001b[36m(launch_and_fit pid=14147)\u001b[0m [Client 1, round 26] fit, config: {'server_round': 26, 'local_epochs': 2}\n",
            "\u001b[2m\u001b[36m(launch_and_fit pid=14147)\u001b[0m Epoch 1: train loss 0.027580231428146362, accuracy 0.6897777777777778\n",
            "\u001b[2m\u001b[36m(launch_and_fit pid=14147)\u001b[0m Epoch 2: train loss 0.021516913548111916, accuracy 0.7553333333333333\n"
          ]
        },
        {
          "output_type": "stream",
          "name": "stderr",
          "text": [
            "\u001b[2m\u001b[36m(pid=14230)\u001b[0m 2023-06-10 09:27:42.756088: W tensorflow/compiler/tf2tensorrt/utils/py_utils.cc:38] TF-TRT Warning: Could not find TensorRT\n"
          ]
        },
        {
          "output_type": "stream",
          "name": "stdout",
          "text": [
            "\u001b[2m\u001b[36m(launch_and_fit pid=14230)\u001b[0m [Client 6, round 26] fit, config: {'server_round': 26, 'local_epochs': 2}\n",
            "\u001b[2m\u001b[36m(launch_and_fit pid=14230)\u001b[0m Epoch 1: train loss 0.02849746122956276, accuracy 0.6786666666666666\n"
          ]
        },
        {
          "output_type": "stream",
          "name": "stderr",
          "text": [
            "DEBUG flwr 2023-06-10 09:27:51,833 | server.py:232 | fit_round 26 received 3 results and 0 failures\n",
            "DEBUG:flwr:fit_round 26 received 3 results and 0 failures\n"
          ]
        },
        {
          "output_type": "stream",
          "name": "stdout",
          "text": [
            "\u001b[2m\u001b[36m(launch_and_fit pid=14230)\u001b[0m Epoch 2: train loss 0.022838592529296875, accuracy 0.7451111111111111\n"
          ]
        },
        {
          "output_type": "stream",
          "name": "stderr",
          "text": [
            "INFO flwr 2023-06-10 09:27:55,611 | server.py:119 | fit progress: (26, 0.03662150936722756, {'accuracy': 0.6048}, 1713.611722292)\n",
            "INFO:flwr:fit progress: (26, 0.03662150936722756, {'accuracy': 0.6048}, 1713.611722292)\n",
            "DEBUG flwr 2023-06-10 09:27:55,620 | server.py:168 | evaluate_round 26: strategy sampled 3 clients (out of 10)\n",
            "DEBUG:flwr:evaluate_round 26: strategy sampled 3 clients (out of 10)\n"
          ]
        },
        {
          "output_type": "stream",
          "name": "stdout",
          "text": [
            "Server-side evaluation loss 0.03662150936722756 / accuracy 0.6048\n"
          ]
        },
        {
          "output_type": "stream",
          "name": "stderr",
          "text": [
            "\u001b[2m\u001b[36m(pid=14370)\u001b[0m 2023-06-10 09:28:05.732116: W tensorflow/compiler/tf2tensorrt/utils/py_utils.cc:38] TF-TRT Warning: Could not find TensorRT\n"
          ]
        },
        {
          "output_type": "stream",
          "name": "stdout",
          "text": [
            "\u001b[2m\u001b[36m(launch_and_evaluate pid=14370)\u001b[0m [Client 1] evaluate, config: {}\n"
          ]
        },
        {
          "output_type": "stream",
          "name": "stderr",
          "text": [
            "\u001b[2m\u001b[36m(pid=14434)\u001b[0m 2023-06-10 09:28:11.693116: W tensorflow/compiler/tf2tensorrt/utils/py_utils.cc:38] TF-TRT Warning: Could not find TensorRT\n"
          ]
        },
        {
          "output_type": "stream",
          "name": "stdout",
          "text": [
            "\u001b[2m\u001b[36m(launch_and_evaluate pid=14434)\u001b[0m [Client 7] evaluate, config: {}\n"
          ]
        },
        {
          "output_type": "stream",
          "name": "stderr",
          "text": [
            "\u001b[2m\u001b[36m(pid=14498)\u001b[0m 2023-06-10 09:28:20.257585: W tensorflow/compiler/tf2tensorrt/utils/py_utils.cc:38] TF-TRT Warning: Could not find TensorRT\n"
          ]
        },
        {
          "output_type": "stream",
          "name": "stdout",
          "text": [
            "\u001b[2m\u001b[36m(launch_and_evaluate pid=14498)\u001b[0m [Client 5] evaluate, config: {}\n"
          ]
        },
        {
          "output_type": "stream",
          "name": "stderr",
          "text": [
            "DEBUG flwr 2023-06-10 09:28:24,228 | server.py:182 | evaluate_round 26 received 3 results and 0 failures\n",
            "DEBUG:flwr:evaluate_round 26 received 3 results and 0 failures\n",
            "DEBUG flwr 2023-06-10 09:28:24,237 | server.py:218 | fit_round 27: strategy sampled 3 clients (out of 10)\n",
            "DEBUG:flwr:fit_round 27: strategy sampled 3 clients (out of 10)\n",
            "\u001b[2m\u001b[36m(pid=14583)\u001b[0m 2023-06-10 09:28:29.935406: W tensorflow/compiler/tf2tensorrt/utils/py_utils.cc:38] TF-TRT Warning: Could not find TensorRT\n"
          ]
        },
        {
          "output_type": "stream",
          "name": "stdout",
          "text": [
            "\u001b[2m\u001b[36m(launch_and_fit pid=14583)\u001b[0m [Client 9, round 27] fit, config: {'server_round': 27, 'local_epochs': 2}\n",
            "\u001b[2m\u001b[36m(launch_and_fit pid=14583)\u001b[0m Epoch 1: train loss 0.030990583822131157, accuracy 0.6495555555555556\n",
            "\u001b[2m\u001b[36m(launch_and_fit pid=14583)\u001b[0m Epoch 2: train loss 0.025089837610721588, accuracy 0.7226666666666667\n"
          ]
        },
        {
          "output_type": "stream",
          "name": "stderr",
          "text": [
            "\u001b[2m\u001b[36m(pid=14672)\u001b[0m 2023-06-10 09:28:41.610182: W tensorflow/compiler/tf2tensorrt/utils/py_utils.cc:38] TF-TRT Warning: Could not find TensorRT\n"
          ]
        },
        {
          "output_type": "stream",
          "name": "stdout",
          "text": [
            "\u001b[2m\u001b[36m(launch_and_fit pid=14672)\u001b[0m [Client 4, round 27] fit, config: {'server_round': 27, 'local_epochs': 2}\n",
            "\u001b[2m\u001b[36m(launch_and_fit pid=14672)\u001b[0m Epoch 1: train loss 0.026874519884586334, accuracy 0.7004444444444444\n",
            "\u001b[2m\u001b[36m(launch_and_fit pid=14672)\u001b[0m Epoch 2: train loss 0.02056904509663582, accuracy 0.7737777777777778\n"
          ]
        },
        {
          "output_type": "stream",
          "name": "stderr",
          "text": [
            "\u001b[2m\u001b[36m(pid=14756)\u001b[0m 2023-06-10 09:28:53.116969: W tensorflow/compiler/tf2tensorrt/utils/py_utils.cc:38] TF-TRT Warning: Could not find TensorRT\n"
          ]
        },
        {
          "output_type": "stream",
          "name": "stdout",
          "text": [
            "\u001b[2m\u001b[36m(launch_and_fit pid=14756)\u001b[0m [Client 7, round 27] fit, config: {'server_round': 27, 'local_epochs': 2}\n",
            "\u001b[2m\u001b[36m(launch_and_fit pid=14756)\u001b[0m Epoch 1: train loss 0.03246729075908661, accuracy 0.642\n"
          ]
        },
        {
          "output_type": "stream",
          "name": "stderr",
          "text": [
            "DEBUG flwr 2023-06-10 09:29:00,561 | server.py:232 | fit_round 27 received 3 results and 0 failures\n",
            "DEBUG:flwr:fit_round 27 received 3 results and 0 failures\n"
          ]
        },
        {
          "output_type": "stream",
          "name": "stdout",
          "text": [
            "\u001b[2m\u001b[36m(launch_and_fit pid=14756)\u001b[0m Epoch 2: train loss 0.026295559480786324, accuracy 0.7044444444444444\n"
          ]
        },
        {
          "output_type": "stream",
          "name": "stderr",
          "text": [
            "INFO flwr 2023-06-10 09:29:05,279 | server.py:119 | fit progress: (27, 0.037131617230176925, {'accuracy': 0.6029}, 1783.279360945)\n",
            "INFO:flwr:fit progress: (27, 0.037131617230176925, {'accuracy': 0.6029}, 1783.279360945)\n",
            "DEBUG flwr 2023-06-10 09:29:05,283 | server.py:168 | evaluate_round 27: strategy sampled 3 clients (out of 10)\n",
            "DEBUG:flwr:evaluate_round 27: strategy sampled 3 clients (out of 10)\n"
          ]
        },
        {
          "output_type": "stream",
          "name": "stdout",
          "text": [
            "Server-side evaluation loss 0.037131617230176925 / accuracy 0.6029\n"
          ]
        },
        {
          "output_type": "stream",
          "name": "stderr",
          "text": [
            "\u001b[2m\u001b[36m(pid=14878)\u001b[0m 2023-06-10 09:29:11.458540: W tensorflow/compiler/tf2tensorrt/utils/py_utils.cc:38] TF-TRT Warning: Could not find TensorRT\n"
          ]
        },
        {
          "output_type": "stream",
          "name": "stdout",
          "text": [
            "\u001b[2m\u001b[36m(launch_and_evaluate pid=14878)\u001b[0m [Client 7] evaluate, config: {}\n"
          ]
        },
        {
          "output_type": "stream",
          "name": "stderr",
          "text": [
            "\u001b[2m\u001b[36m(pid=14938)\u001b[0m 2023-06-10 09:29:18.743294: W tensorflow/compiler/tf2tensorrt/utils/py_utils.cc:38] TF-TRT Warning: Could not find TensorRT\n"
          ]
        },
        {
          "output_type": "stream",
          "name": "stdout",
          "text": [
            "\u001b[2m\u001b[36m(launch_and_evaluate pid=14938)\u001b[0m [Client 1] evaluate, config: {}\n"
          ]
        },
        {
          "output_type": "stream",
          "name": "stderr",
          "text": [
            "\u001b[2m\u001b[36m(pid=15011)\u001b[0m 2023-06-10 09:29:26.071897: W tensorflow/compiler/tf2tensorrt/utils/py_utils.cc:38] TF-TRT Warning: Could not find TensorRT\n"
          ]
        },
        {
          "output_type": "stream",
          "name": "stdout",
          "text": [
            "\u001b[2m\u001b[36m(launch_and_evaluate pid=15011)\u001b[0m [Client 6] evaluate, config: {}\n"
          ]
        },
        {
          "output_type": "stream",
          "name": "stderr",
          "text": [
            "DEBUG flwr 2023-06-10 09:29:30,272 | server.py:182 | evaluate_round 27 received 3 results and 0 failures\n",
            "DEBUG:flwr:evaluate_round 27 received 3 results and 0 failures\n",
            "DEBUG flwr 2023-06-10 09:29:30,276 | server.py:218 | fit_round 28: strategy sampled 3 clients (out of 10)\n",
            "DEBUG:flwr:fit_round 28: strategy sampled 3 clients (out of 10)\n",
            "\u001b[2m\u001b[36m(pid=15097)\u001b[0m 2023-06-10 09:29:38.601340: W tensorflow/compiler/tf2tensorrt/utils/py_utils.cc:38] TF-TRT Warning: Could not find TensorRT\n"
          ]
        },
        {
          "output_type": "stream",
          "name": "stdout",
          "text": [
            "\u001b[2m\u001b[36m(launch_and_fit pid=15097)\u001b[0m [Client 8, round 28] fit, config: {'server_round': 28, 'local_epochs': 2}\n",
            "\u001b[2m\u001b[36m(launch_and_fit pid=15097)\u001b[0m Epoch 1: train loss 0.03314574807882309, accuracy 0.6333333333333333\n",
            "\u001b[2m\u001b[36m(launch_and_fit pid=15097)\u001b[0m Epoch 2: train loss 0.027278833091259003, accuracy 0.692\n"
          ]
        },
        {
          "output_type": "stream",
          "name": "stderr",
          "text": [
            "\u001b[2m\u001b[36m(pid=15176)\u001b[0m 2023-06-10 09:29:47.926491: W tensorflow/compiler/tf2tensorrt/utils/py_utils.cc:38] TF-TRT Warning: Could not find TensorRT\n"
          ]
        },
        {
          "output_type": "stream",
          "name": "stdout",
          "text": [
            "\u001b[2m\u001b[36m(launch_and_fit pid=15176)\u001b[0m [Client 3, round 28] fit, config: {'server_round': 28, 'local_epochs': 2}\n",
            "\u001b[2m\u001b[36m(launch_and_fit pid=15176)\u001b[0m Epoch 1: train loss 0.03069244511425495, accuracy 0.658\n",
            "\u001b[2m\u001b[36m(launch_and_fit pid=15176)\u001b[0m Epoch 2: train loss 0.02431529015302658, accuracy 0.7262222222222222\n"
          ]
        },
        {
          "output_type": "stream",
          "name": "stderr",
          "text": [
            "\u001b[2m\u001b[36m(pid=15265)\u001b[0m 2023-06-10 09:29:59.470186: W tensorflow/compiler/tf2tensorrt/utils/py_utils.cc:38] TF-TRT Warning: Could not find TensorRT\n"
          ]
        },
        {
          "output_type": "stream",
          "name": "stdout",
          "text": [
            "\u001b[2m\u001b[36m(launch_and_fit pid=15265)\u001b[0m [Client 4, round 28] fit, config: {'server_round': 28, 'local_epochs': 2}\n",
            "\u001b[2m\u001b[36m(launch_and_fit pid=15265)\u001b[0m Epoch 1: train loss 0.023837249726057053, accuracy 0.7311111111111112\n"
          ]
        },
        {
          "output_type": "stream",
          "name": "stderr",
          "text": [
            "DEBUG flwr 2023-06-10 09:30:08,857 | server.py:232 | fit_round 28 received 3 results and 0 failures\n",
            "DEBUG:flwr:fit_round 28 received 3 results and 0 failures\n"
          ]
        },
        {
          "output_type": "stream",
          "name": "stdout",
          "text": [
            "\u001b[2m\u001b[36m(launch_and_fit pid=15265)\u001b[0m Epoch 2: train loss 0.017936697229743004, accuracy 0.8077777777777778\n"
          ]
        },
        {
          "output_type": "stream",
          "name": "stderr",
          "text": [
            "INFO flwr 2023-06-10 09:30:12,185 | server.py:119 | fit progress: (28, 0.036849094212055206, {'accuracy': 0.6038}, 1850.185902419)\n",
            "INFO:flwr:fit progress: (28, 0.036849094212055206, {'accuracy': 0.6038}, 1850.185902419)\n",
            "DEBUG flwr 2023-06-10 09:30:12,195 | server.py:168 | evaluate_round 28: strategy sampled 3 clients (out of 10)\n",
            "DEBUG:flwr:evaluate_round 28: strategy sampled 3 clients (out of 10)\n"
          ]
        },
        {
          "output_type": "stream",
          "name": "stdout",
          "text": [
            "Server-side evaluation loss 0.036849094212055206 / accuracy 0.6038\n"
          ]
        },
        {
          "output_type": "stream",
          "name": "stderr",
          "text": [
            "\u001b[2m\u001b[36m(pid=15384)\u001b[0m 2023-06-10 09:30:17.865661: W tensorflow/compiler/tf2tensorrt/utils/py_utils.cc:38] TF-TRT Warning: Could not find TensorRT\n"
          ]
        },
        {
          "output_type": "stream",
          "name": "stdout",
          "text": [
            "\u001b[2m\u001b[36m(launch_and_evaluate pid=15384)\u001b[0m [Client 5] evaluate, config: {}\n"
          ]
        },
        {
          "output_type": "stream",
          "name": "stderr",
          "text": [
            "\u001b[2m\u001b[36m(pid=15453)\u001b[0m 2023-06-10 09:30:26.199669: W tensorflow/compiler/tf2tensorrt/utils/py_utils.cc:38] TF-TRT Warning: Could not find TensorRT\n"
          ]
        },
        {
          "output_type": "stream",
          "name": "stdout",
          "text": [
            "\u001b[2m\u001b[36m(launch_and_evaluate pid=15453)\u001b[0m [Client 2] evaluate, config: {}\n"
          ]
        },
        {
          "output_type": "stream",
          "name": "stderr",
          "text": [
            "\u001b[2m\u001b[36m(pid=15519)\u001b[0m 2023-06-10 09:30:32.314525: W tensorflow/compiler/tf2tensorrt/utils/py_utils.cc:38] TF-TRT Warning: Could not find TensorRT\n"
          ]
        },
        {
          "output_type": "stream",
          "name": "stdout",
          "text": [
            "\u001b[2m\u001b[36m(launch_and_evaluate pid=15519)\u001b[0m [Client 8] evaluate, config: {}\n"
          ]
        },
        {
          "output_type": "stream",
          "name": "stderr",
          "text": [
            "DEBUG flwr 2023-06-10 09:30:37,603 | server.py:182 | evaluate_round 28 received 3 results and 0 failures\n",
            "DEBUG:flwr:evaluate_round 28 received 3 results and 0 failures\n",
            "DEBUG flwr 2023-06-10 09:30:37,609 | server.py:218 | fit_round 29: strategy sampled 3 clients (out of 10)\n",
            "DEBUG:flwr:fit_round 29: strategy sampled 3 clients (out of 10)\n",
            "\u001b[2m\u001b[36m(pid=15605)\u001b[0m 2023-06-10 09:30:44.144265: W tensorflow/compiler/tf2tensorrt/utils/py_utils.cc:38] TF-TRT Warning: Could not find TensorRT\n"
          ]
        },
        {
          "output_type": "stream",
          "name": "stdout",
          "text": [
            "\u001b[2m\u001b[36m(launch_and_fit pid=15605)\u001b[0m [Client 1, round 29] fit, config: {'server_round': 29, 'local_epochs': 2}\n",
            "\u001b[2m\u001b[36m(launch_and_fit pid=15605)\u001b[0m Epoch 1: train loss 0.026467757299542427, accuracy 0.7035555555555556\n",
            "\u001b[2m\u001b[36m(launch_and_fit pid=15605)\u001b[0m Epoch 2: train loss 0.020193452015519142, accuracy 0.774\n"
          ]
        },
        {
          "output_type": "stream",
          "name": "stderr",
          "text": [
            "\u001b[2m\u001b[36m(pid=15694)\u001b[0m 2023-06-10 09:30:56.069376: W tensorflow/compiler/tf2tensorrt/utils/py_utils.cc:38] TF-TRT Warning: Could not find TensorRT\n"
          ]
        },
        {
          "output_type": "stream",
          "name": "stdout",
          "text": [
            "\u001b[2m\u001b[36m(launch_and_fit pid=15694)\u001b[0m [Client 6, round 29] fit, config: {'server_round': 29, 'local_epochs': 2}\n",
            "\u001b[2m\u001b[36m(launch_and_fit pid=15694)\u001b[0m Epoch 1: train loss 0.02735159546136856, accuracy 0.6982222222222222\n",
            "\u001b[2m\u001b[36m(launch_and_fit pid=15694)\u001b[0m Epoch 2: train loss 0.021199580281972885, accuracy 0.7702222222222223\n"
          ]
        },
        {
          "output_type": "stream",
          "name": "stderr",
          "text": [
            "\u001b[2m\u001b[36m(pid=15775)\u001b[0m 2023-06-10 09:31:08.607637: W tensorflow/compiler/tf2tensorrt/utils/py_utils.cc:38] TF-TRT Warning: Could not find TensorRT\n"
          ]
        },
        {
          "output_type": "stream",
          "name": "stdout",
          "text": [
            "\u001b[2m\u001b[36m(launch_and_fit pid=15775)\u001b[0m [Client 9, round 29] fit, config: {'server_round': 29, 'local_epochs': 2}\n",
            "\u001b[2m\u001b[36m(launch_and_fit pid=15775)\u001b[0m Epoch 1: train loss 0.02885107509791851, accuracy 0.6715555555555556\n"
          ]
        },
        {
          "output_type": "stream",
          "name": "stderr",
          "text": [
            "DEBUG flwr 2023-06-10 09:31:17,715 | server.py:232 | fit_round 29 received 3 results and 0 failures\n",
            "DEBUG:flwr:fit_round 29 received 3 results and 0 failures\n"
          ]
        },
        {
          "output_type": "stream",
          "name": "stdout",
          "text": [
            "\u001b[2m\u001b[36m(launch_and_fit pid=15775)\u001b[0m Epoch 2: train loss 0.022858981043100357, accuracy 0.7471111111111111\n"
          ]
        },
        {
          "output_type": "stream",
          "name": "stderr",
          "text": [
            "INFO flwr 2023-06-10 09:31:21,015 | server.py:119 | fit progress: (29, 0.037320085352659224, {'accuracy': 0.6044}, 1919.015752767)\n",
            "INFO:flwr:fit progress: (29, 0.037320085352659224, {'accuracy': 0.6044}, 1919.015752767)\n",
            "DEBUG flwr 2023-06-10 09:31:21,020 | server.py:168 | evaluate_round 29: strategy sampled 3 clients (out of 10)\n",
            "DEBUG:flwr:evaluate_round 29: strategy sampled 3 clients (out of 10)\n"
          ]
        },
        {
          "output_type": "stream",
          "name": "stdout",
          "text": [
            "Server-side evaluation loss 0.037320085352659224 / accuracy 0.6044\n"
          ]
        },
        {
          "output_type": "stream",
          "name": "stderr",
          "text": [
            "\u001b[2m\u001b[36m(pid=15913)\u001b[0m 2023-06-10 09:31:29.390845: W tensorflow/compiler/tf2tensorrt/utils/py_utils.cc:38] TF-TRT Warning: Could not find TensorRT\n"
          ]
        },
        {
          "output_type": "stream",
          "name": "stdout",
          "text": [
            "\u001b[2m\u001b[36m(launch_and_evaluate pid=15913)\u001b[0m [Client 0] evaluate, config: {}\n"
          ]
        },
        {
          "output_type": "stream",
          "name": "stderr",
          "text": [
            "\u001b[2m\u001b[36m(pid=15976)\u001b[0m 2023-06-10 09:31:35.386568: W tensorflow/compiler/tf2tensorrt/utils/py_utils.cc:38] TF-TRT Warning: Could not find TensorRT\n"
          ]
        },
        {
          "output_type": "stream",
          "name": "stdout",
          "text": [
            "\u001b[2m\u001b[36m(launch_and_evaluate pid=15976)\u001b[0m [Client 3] evaluate, config: {}\n"
          ]
        },
        {
          "output_type": "stream",
          "name": "stderr",
          "text": [
            "\u001b[2m\u001b[36m(pid=16040)\u001b[0m 2023-06-10 09:31:43.916827: W tensorflow/compiler/tf2tensorrt/utils/py_utils.cc:38] TF-TRT Warning: Could not find TensorRT\n"
          ]
        },
        {
          "output_type": "stream",
          "name": "stdout",
          "text": [
            "\u001b[2m\u001b[36m(launch_and_evaluate pid=16040)\u001b[0m [Client 7] evaluate, config: {}\n"
          ]
        },
        {
          "output_type": "stream",
          "name": "stderr",
          "text": [
            "DEBUG flwr 2023-06-10 09:31:47,871 | server.py:182 | evaluate_round 29 received 3 results and 0 failures\n",
            "DEBUG:flwr:evaluate_round 29 received 3 results and 0 failures\n",
            "DEBUG flwr 2023-06-10 09:31:47,874 | server.py:218 | fit_round 30: strategy sampled 3 clients (out of 10)\n",
            "DEBUG:flwr:fit_round 30: strategy sampled 3 clients (out of 10)\n",
            "\u001b[2m\u001b[36m(pid=16124)\u001b[0m 2023-06-10 09:31:53.577819: W tensorflow/compiler/tf2tensorrt/utils/py_utils.cc:38] TF-TRT Warning: Could not find TensorRT\n"
          ]
        },
        {
          "output_type": "stream",
          "name": "stdout",
          "text": [
            "\u001b[2m\u001b[36m(launch_and_fit pid=16124)\u001b[0m [Client 7, round 30] fit, config: {'server_round': 30, 'local_epochs': 2}\n",
            "\u001b[2m\u001b[36m(launch_and_fit pid=16124)\u001b[0m Epoch 1: train loss 0.03063896670937538, accuracy 0.6604444444444444\n",
            "\u001b[2m\u001b[36m(launch_and_fit pid=16124)\u001b[0m Epoch 2: train loss 0.024296147748827934, accuracy 0.7313333333333333\n"
          ]
        },
        {
          "output_type": "stream",
          "name": "stderr",
          "text": [
            "\u001b[2m\u001b[36m(pid=16214)\u001b[0m 2023-06-10 09:32:05.337672: W tensorflow/compiler/tf2tensorrt/utils/py_utils.cc:38] TF-TRT Warning: Could not find TensorRT\n"
          ]
        },
        {
          "output_type": "stream",
          "name": "stdout",
          "text": [
            "\u001b[2m\u001b[36m(launch_and_fit pid=16214)\u001b[0m [Client 1, round 30] fit, config: {'server_round': 30, 'local_epochs': 2}\n",
            "\u001b[2m\u001b[36m(launch_and_fit pid=16214)\u001b[0m Epoch 1: train loss 0.023231036961078644, accuracy 0.732\n",
            "\u001b[2m\u001b[36m(launch_and_fit pid=16214)\u001b[0m Epoch 2: train loss 0.01749032363295555, accuracy 0.814\n"
          ]
        },
        {
          "output_type": "stream",
          "name": "stderr",
          "text": [
            "\u001b[2m\u001b[36m(pid=16300)\u001b[0m 2023-06-10 09:32:16.705242: W tensorflow/compiler/tf2tensorrt/utils/py_utils.cc:38] TF-TRT Warning: Could not find TensorRT\n"
          ]
        },
        {
          "output_type": "stream",
          "name": "stdout",
          "text": [
            "\u001b[2m\u001b[36m(launch_and_fit pid=16300)\u001b[0m [Client 3, round 30] fit, config: {'server_round': 30, 'local_epochs': 2}\n",
            "\u001b[2m\u001b[36m(launch_and_fit pid=16300)\u001b[0m Epoch 1: train loss 0.02826821617782116, accuracy 0.6822222222222222\n"
          ]
        },
        {
          "output_type": "stream",
          "name": "stderr",
          "text": [
            "DEBUG flwr 2023-06-10 09:32:24,059 | server.py:232 | fit_round 30 received 3 results and 0 failures\n",
            "DEBUG:flwr:fit_round 30 received 3 results and 0 failures\n"
          ]
        },
        {
          "output_type": "stream",
          "name": "stdout",
          "text": [
            "\u001b[2m\u001b[36m(launch_and_fit pid=16300)\u001b[0m Epoch 2: train loss 0.022223107516765594, accuracy 0.7513333333333333\n"
          ]
        },
        {
          "output_type": "stream",
          "name": "stderr",
          "text": [
            "INFO flwr 2023-06-10 09:32:28,953 | server.py:119 | fit progress: (30, 0.037740140450000764, {'accuracy': 0.5966}, 1986.953160245)\n",
            "INFO:flwr:fit progress: (30, 0.037740140450000764, {'accuracy': 0.5966}, 1986.953160245)\n",
            "DEBUG flwr 2023-06-10 09:32:28,957 | server.py:168 | evaluate_round 30: strategy sampled 3 clients (out of 10)\n",
            "DEBUG:flwr:evaluate_round 30: strategy sampled 3 clients (out of 10)\n"
          ]
        },
        {
          "output_type": "stream",
          "name": "stdout",
          "text": [
            "Server-side evaluation loss 0.037740140450000764 / accuracy 0.5966\n"
          ]
        },
        {
          "output_type": "stream",
          "name": "stderr",
          "text": [
            "\u001b[2m\u001b[36m(pid=16424)\u001b[0m 2023-06-10 09:32:35.198735: W tensorflow/compiler/tf2tensorrt/utils/py_utils.cc:38] TF-TRT Warning: Could not find TensorRT\n"
          ]
        },
        {
          "output_type": "stream",
          "name": "stdout",
          "text": [
            "\u001b[2m\u001b[36m(launch_and_evaluate pid=16424)\u001b[0m [Client 6] evaluate, config: {}\n"
          ]
        },
        {
          "output_type": "stream",
          "name": "stderr",
          "text": [
            "\u001b[2m\u001b[36m(pid=16484)\u001b[0m 2023-06-10 09:32:42.501771: W tensorflow/compiler/tf2tensorrt/utils/py_utils.cc:38] TF-TRT Warning: Could not find TensorRT\n"
          ]
        },
        {
          "output_type": "stream",
          "name": "stdout",
          "text": [
            "\u001b[2m\u001b[36m(launch_and_evaluate pid=16484)\u001b[0m [Client 1] evaluate, config: {}\n"
          ]
        },
        {
          "output_type": "stream",
          "name": "stderr",
          "text": [
            "\u001b[2m\u001b[36m(pid=16557)\u001b[0m 2023-06-10 09:32:49.964995: W tensorflow/compiler/tf2tensorrt/utils/py_utils.cc:38] TF-TRT Warning: Could not find TensorRT\n"
          ]
        },
        {
          "output_type": "stream",
          "name": "stdout",
          "text": [
            "\u001b[2m\u001b[36m(launch_and_evaluate pid=16557)\u001b[0m [Client 8] evaluate, config: {}\n"
          ]
        },
        {
          "output_type": "stream",
          "name": "stderr",
          "text": [
            "DEBUG flwr 2023-06-10 09:32:54,103 | server.py:182 | evaluate_round 30 received 3 results and 0 failures\n",
            "DEBUG:flwr:evaluate_round 30 received 3 results and 0 failures\n",
            "DEBUG flwr 2023-06-10 09:32:54,112 | server.py:218 | fit_round 31: strategy sampled 3 clients (out of 10)\n",
            "DEBUG:flwr:fit_round 31: strategy sampled 3 clients (out of 10)\n",
            "\u001b[2m\u001b[36m(pid=16641)\u001b[0m 2023-06-10 09:33:02.370817: W tensorflow/compiler/tf2tensorrt/utils/py_utils.cc:38] TF-TRT Warning: Could not find TensorRT\n"
          ]
        },
        {
          "output_type": "stream",
          "name": "stdout",
          "text": [
            "\u001b[2m\u001b[36m(launch_and_fit pid=16641)\u001b[0m [Client 0, round 31] fit, config: {'server_round': 31, 'local_epochs': 2}\n",
            "\u001b[2m\u001b[36m(launch_and_fit pid=16641)\u001b[0m Epoch 1: train loss 0.032263223081827164, accuracy 0.6395555555555555\n",
            "\u001b[2m\u001b[36m(launch_and_fit pid=16641)\u001b[0m Epoch 2: train loss 0.025081835687160492, accuracy 0.7166666666666667\n"
          ]
        },
        {
          "output_type": "stream",
          "name": "stderr",
          "text": [
            "\u001b[2m\u001b[36m(pid=16722)\u001b[0m 2023-06-10 09:33:12.210018: W tensorflow/compiler/tf2tensorrt/utils/py_utils.cc:38] TF-TRT Warning: Could not find TensorRT\n"
          ]
        },
        {
          "output_type": "stream",
          "name": "stdout",
          "text": [
            "\u001b[2m\u001b[36m(launch_and_fit pid=16722)\u001b[0m [Client 9, round 31] fit, config: {'server_round': 31, 'local_epochs': 2}\n",
            "\u001b[2m\u001b[36m(launch_and_fit pid=16722)\u001b[0m Epoch 1: train loss 0.026902884244918823, accuracy 0.6971111111111111\n",
            "\u001b[2m\u001b[36m(launch_and_fit pid=16722)\u001b[0m Epoch 2: train loss 0.02086273580789566, accuracy 0.764\n"
          ]
        },
        {
          "output_type": "stream",
          "name": "stderr",
          "text": [
            "\u001b[2m\u001b[36m(pid=16810)\u001b[0m 2023-06-10 09:33:23.421142: W tensorflow/compiler/tf2tensorrt/utils/py_utils.cc:38] TF-TRT Warning: Could not find TensorRT\n"
          ]
        },
        {
          "output_type": "stream",
          "name": "stdout",
          "text": [
            "\u001b[2m\u001b[36m(launch_and_fit pid=16810)\u001b[0m [Client 4, round 31] fit, config: {'server_round': 31, 'local_epochs': 2}\n",
            "\u001b[2m\u001b[36m(launch_and_fit pid=16810)\u001b[0m Epoch 1: train loss 0.024094315245747566, accuracy 0.7302222222222222\n"
          ]
        },
        {
          "output_type": "stream",
          "name": "stderr",
          "text": [
            "DEBUG flwr 2023-06-10 09:33:32,759 | server.py:232 | fit_round 31 received 3 results and 0 failures\n",
            "DEBUG:flwr:fit_round 31 received 3 results and 0 failures\n"
          ]
        },
        {
          "output_type": "stream",
          "name": "stdout",
          "text": [
            "\u001b[2m\u001b[36m(launch_and_fit pid=16810)\u001b[0m Epoch 2: train loss 0.017849605530500412, accuracy 0.804\n"
          ]
        },
        {
          "output_type": "stream",
          "name": "stderr",
          "text": [
            "INFO flwr 2023-06-10 09:33:36,061 | server.py:119 | fit progress: (31, 0.03788987241387367, {'accuracy': 0.6062}, 2054.061596695)\n",
            "INFO:flwr:fit progress: (31, 0.03788987241387367, {'accuracy': 0.6062}, 2054.061596695)\n",
            "DEBUG flwr 2023-06-10 09:33:36,065 | server.py:168 | evaluate_round 31: strategy sampled 3 clients (out of 10)\n",
            "DEBUG:flwr:evaluate_round 31: strategy sampled 3 clients (out of 10)\n"
          ]
        },
        {
          "output_type": "stream",
          "name": "stdout",
          "text": [
            "Server-side evaluation loss 0.03788987241387367 / accuracy 0.6062\n"
          ]
        },
        {
          "output_type": "stream",
          "name": "stderr",
          "text": [
            "\u001b[2m\u001b[36m(pid=16930)\u001b[0m 2023-06-10 09:33:41.787737: W tensorflow/compiler/tf2tensorrt/utils/py_utils.cc:38] TF-TRT Warning: Could not find TensorRT\n"
          ]
        },
        {
          "output_type": "stream",
          "name": "stdout",
          "text": [
            "\u001b[2m\u001b[36m(launch_and_evaluate pid=16930)\u001b[0m [Client 9] evaluate, config: {}\n"
          ]
        },
        {
          "output_type": "stream",
          "name": "stderr",
          "text": [
            "\u001b[2m\u001b[36m(pid=17003)\u001b[0m 2023-06-10 09:33:50.164580: W tensorflow/compiler/tf2tensorrt/utils/py_utils.cc:38] TF-TRT Warning: Could not find TensorRT\n"
          ]
        },
        {
          "output_type": "stream",
          "name": "stdout",
          "text": [
            "\u001b[2m\u001b[36m(launch_and_evaluate pid=17003)\u001b[0m [Client 8] evaluate, config: {}\n"
          ]
        },
        {
          "output_type": "stream",
          "name": "stderr",
          "text": [
            "\u001b[2m\u001b[36m(pid=17063)\u001b[0m 2023-06-10 09:33:56.280332: W tensorflow/compiler/tf2tensorrt/utils/py_utils.cc:38] TF-TRT Warning: Could not find TensorRT\n"
          ]
        },
        {
          "output_type": "stream",
          "name": "stdout",
          "text": [
            "\u001b[2m\u001b[36m(launch_and_evaluate pid=17063)\u001b[0m [Client 5] evaluate, config: {}\n"
          ]
        },
        {
          "output_type": "stream",
          "name": "stderr",
          "text": [
            "DEBUG flwr 2023-06-10 09:34:02,170 | server.py:182 | evaluate_round 31 received 3 results and 0 failures\n",
            "DEBUG:flwr:evaluate_round 31 received 3 results and 0 failures\n",
            "DEBUG flwr 2023-06-10 09:34:02,173 | server.py:218 | fit_round 32: strategy sampled 3 clients (out of 10)\n",
            "DEBUG:flwr:fit_round 32: strategy sampled 3 clients (out of 10)\n",
            "\u001b[2m\u001b[36m(pid=17149)\u001b[0m 2023-06-10 09:34:08.271266: W tensorflow/compiler/tf2tensorrt/utils/py_utils.cc:38] TF-TRT Warning: Could not find TensorRT\n"
          ]
        },
        {
          "output_type": "stream",
          "name": "stdout",
          "text": [
            "\u001b[2m\u001b[36m(launch_and_fit pid=17149)\u001b[0m [Client 5, round 32] fit, config: {'server_round': 32, 'local_epochs': 2}\n",
            "\u001b[2m\u001b[36m(launch_and_fit pid=17149)\u001b[0m Epoch 1: train loss 0.03179173916578293, accuracy 0.6406666666666667\n",
            "\u001b[2m\u001b[36m(launch_and_fit pid=17149)\u001b[0m Epoch 2: train loss 0.024704648181796074, accuracy 0.7191111111111111\n"
          ]
        },
        {
          "output_type": "stream",
          "name": "stderr",
          "text": [
            "\u001b[2m\u001b[36m(pid=17245)\u001b[0m 2023-06-10 09:34:22.064568: W tensorflow/compiler/tf2tensorrt/utils/py_utils.cc:38] TF-TRT Warning: Could not find TensorRT\n"
          ]
        },
        {
          "output_type": "stream",
          "name": "stdout",
          "text": [
            "\u001b[2m\u001b[36m(launch_and_fit pid=17245)\u001b[0m [Client 9, round 32] fit, config: {'server_round': 32, 'local_epochs': 2}\n",
            "\u001b[2m\u001b[36m(launch_and_fit pid=17245)\u001b[0m Epoch 1: train loss 0.024182643741369247, accuracy 0.7304444444444445\n",
            "\u001b[2m\u001b[36m(launch_and_fit pid=17245)\u001b[0m Epoch 2: train loss 0.01843619905412197, accuracy 0.7986666666666666\n"
          ]
        },
        {
          "output_type": "stream",
          "name": "stderr",
          "text": [
            "\u001b[2m\u001b[36m(pid=17326)\u001b[0m 2023-06-10 09:34:33.097205: W tensorflow/compiler/tf2tensorrt/utils/py_utils.cc:38] TF-TRT Warning: Could not find TensorRT\n"
          ]
        },
        {
          "output_type": "stream",
          "name": "stdout",
          "text": [
            "\u001b[2m\u001b[36m(launch_and_fit pid=17326)\u001b[0m [Client 1, round 32] fit, config: {'server_round': 32, 'local_epochs': 2}\n",
            "\u001b[2m\u001b[36m(launch_and_fit pid=17326)\u001b[0m Epoch 1: train loss 0.02301964908838272, accuracy 0.7353333333333333\n"
          ]
        },
        {
          "output_type": "stream",
          "name": "stderr",
          "text": [
            "DEBUG flwr 2023-06-10 09:34:41,464 | server.py:232 | fit_round 32 received 3 results and 0 failures\n",
            "DEBUG:flwr:fit_round 32 received 3 results and 0 failures\n"
          ]
        },
        {
          "output_type": "stream",
          "name": "stdout",
          "text": [
            "\u001b[2m\u001b[36m(launch_and_fit pid=17326)\u001b[0m Epoch 2: train loss 0.016340110450983047, accuracy 0.8202222222222222\n"
          ]
        },
        {
          "output_type": "stream",
          "name": "stderr",
          "text": [
            "INFO flwr 2023-06-10 09:34:44,795 | server.py:119 | fit progress: (32, 0.03903938208222389, {'accuracy': 0.6114}, 2122.7955968419997)\n",
            "INFO:flwr:fit progress: (32, 0.03903938208222389, {'accuracy': 0.6114}, 2122.7955968419997)\n",
            "DEBUG flwr 2023-06-10 09:34:44,799 | server.py:168 | evaluate_round 32: strategy sampled 3 clients (out of 10)\n",
            "DEBUG:flwr:evaluate_round 32: strategy sampled 3 clients (out of 10)\n"
          ]
        },
        {
          "output_type": "stream",
          "name": "stdout",
          "text": [
            "Server-side evaluation loss 0.03903938208222389 / accuracy 0.6114\n"
          ]
        },
        {
          "output_type": "stream",
          "name": "stderr",
          "text": [
            "\u001b[2m\u001b[36m(pid=17457)\u001b[0m 2023-06-10 09:34:53.070104: W tensorflow/compiler/tf2tensorrt/utils/py_utils.cc:38] TF-TRT Warning: Could not find TensorRT\n"
          ]
        },
        {
          "output_type": "stream",
          "name": "stdout",
          "text": [
            "\u001b[2m\u001b[36m(launch_and_evaluate pid=17457)\u001b[0m [Client 0] evaluate, config: {}\n"
          ]
        },
        {
          "output_type": "stream",
          "name": "stderr",
          "text": [
            "\u001b[2m\u001b[36m(pid=17517)\u001b[0m 2023-06-10 09:34:59.166776: W tensorflow/compiler/tf2tensorrt/utils/py_utils.cc:38] TF-TRT Warning: Could not find TensorRT\n"
          ]
        },
        {
          "output_type": "stream",
          "name": "stdout",
          "text": [
            "\u001b[2m\u001b[36m(launch_and_evaluate pid=17517)\u001b[0m [Client 2] evaluate, config: {}\n"
          ]
        },
        {
          "output_type": "stream",
          "name": "stderr",
          "text": [
            "\u001b[2m\u001b[36m(pid=17588)\u001b[0m 2023-06-10 09:35:07.825230: W tensorflow/compiler/tf2tensorrt/utils/py_utils.cc:38] TF-TRT Warning: Could not find TensorRT\n"
          ]
        },
        {
          "output_type": "stream",
          "name": "stdout",
          "text": [
            "\u001b[2m\u001b[36m(launch_and_evaluate pid=17588)\u001b[0m [Client 5] evaluate, config: {}\n"
          ]
        },
        {
          "output_type": "stream",
          "name": "stderr",
          "text": [
            "DEBUG flwr 2023-06-10 09:35:11,683 | server.py:182 | evaluate_round 32 received 3 results and 0 failures\n",
            "DEBUG:flwr:evaluate_round 32 received 3 results and 0 failures\n",
            "DEBUG flwr 2023-06-10 09:35:11,689 | server.py:218 | fit_round 33: strategy sampled 3 clients (out of 10)\n",
            "DEBUG:flwr:fit_round 33: strategy sampled 3 clients (out of 10)\n",
            "\u001b[2m\u001b[36m(pid=17668)\u001b[0m 2023-06-10 09:35:17.955799: W tensorflow/compiler/tf2tensorrt/utils/py_utils.cc:38] TF-TRT Warning: Could not find TensorRT\n"
          ]
        },
        {
          "output_type": "stream",
          "name": "stdout",
          "text": [
            "\u001b[2m\u001b[36m(launch_and_fit pid=17668)\u001b[0m [Client 5, round 33] fit, config: {'server_round': 33, 'local_epochs': 2}\n",
            "\u001b[2m\u001b[36m(launch_and_fit pid=17668)\u001b[0m Epoch 1: train loss 0.028032377362251282, accuracy 0.6764444444444444\n",
            "\u001b[2m\u001b[36m(launch_and_fit pid=17668)\u001b[0m Epoch 2: train loss 0.021289119496941566, accuracy 0.7673333333333333\n"
          ]
        },
        {
          "output_type": "stream",
          "name": "stderr",
          "text": [
            "\u001b[2m\u001b[36m(pid=17755)\u001b[0m 2023-06-10 09:35:29.190613: W tensorflow/compiler/tf2tensorrt/utils/py_utils.cc:38] TF-TRT Warning: Could not find TensorRT\n"
          ]
        },
        {
          "output_type": "stream",
          "name": "stdout",
          "text": [
            "\u001b[2m\u001b[36m(launch_and_fit pid=17755)\u001b[0m [Client 4, round 33] fit, config: {'server_round': 33, 'local_epochs': 2}\n",
            "\u001b[2m\u001b[36m(launch_and_fit pid=17755)\u001b[0m Epoch 1: train loss 0.02320386841893196, accuracy 0.7353333333333333\n",
            "\u001b[2m\u001b[36m(launch_and_fit pid=17755)\u001b[0m Epoch 2: train loss 0.016358431428670883, accuracy 0.8182222222222222\n"
          ]
        },
        {
          "output_type": "stream",
          "name": "stderr",
          "text": [
            "\u001b[2m\u001b[36m(pid=17842)\u001b[0m 2023-06-10 09:35:40.588501: W tensorflow/compiler/tf2tensorrt/utils/py_utils.cc:38] TF-TRT Warning: Could not find TensorRT\n"
          ]
        },
        {
          "output_type": "stream",
          "name": "stdout",
          "text": [
            "\u001b[2m\u001b[36m(launch_and_fit pid=17842)\u001b[0m [Client 7, round 33] fit, config: {'server_round': 33, 'local_epochs': 2}\n",
            "\u001b[2m\u001b[36m(launch_and_fit pid=17842)\u001b[0m Epoch 1: train loss 0.02906690537929535, accuracy 0.6731111111111111\n"
          ]
        },
        {
          "output_type": "stream",
          "name": "stderr",
          "text": [
            "DEBUG flwr 2023-06-10 09:35:48,237 | server.py:232 | fit_round 33 received 3 results and 0 failures\n",
            "DEBUG:flwr:fit_round 33 received 3 results and 0 failures\n"
          ]
        },
        {
          "output_type": "stream",
          "name": "stdout",
          "text": [
            "\u001b[2m\u001b[36m(launch_and_fit pid=17842)\u001b[0m Epoch 2: train loss 0.022144274786114693, accuracy 0.7488888888888889\n"
          ]
        },
        {
          "output_type": "stream",
          "name": "stderr",
          "text": [
            "INFO flwr 2023-06-10 09:35:53,443 | server.py:119 | fit progress: (33, 0.03836617337465286, {'accuracy': 0.6092}, 2191.443332154)\n",
            "INFO:flwr:fit progress: (33, 0.03836617337465286, {'accuracy': 0.6092}, 2191.443332154)\n",
            "DEBUG flwr 2023-06-10 09:35:53,447 | server.py:168 | evaluate_round 33: strategy sampled 3 clients (out of 10)\n",
            "DEBUG:flwr:evaluate_round 33: strategy sampled 3 clients (out of 10)\n"
          ]
        },
        {
          "output_type": "stream",
          "name": "stdout",
          "text": [
            "Server-side evaluation loss 0.03836617337465286 / accuracy 0.6092\n"
          ]
        },
        {
          "output_type": "stream",
          "name": "stderr",
          "text": [
            "\u001b[2m\u001b[36m(pid=17965)\u001b[0m 2023-06-10 09:35:59.183576: W tensorflow/compiler/tf2tensorrt/utils/py_utils.cc:38] TF-TRT Warning: Could not find TensorRT\n"
          ]
        },
        {
          "output_type": "stream",
          "name": "stdout",
          "text": [
            "\u001b[2m\u001b[36m(launch_and_evaluate pid=17965)\u001b[0m [Client 7] evaluate, config: {}\n"
          ]
        },
        {
          "output_type": "stream",
          "name": "stderr",
          "text": [
            "\u001b[2m\u001b[36m(pid=18026)\u001b[0m 2023-06-10 09:36:07.063191: W tensorflow/compiler/tf2tensorrt/utils/py_utils.cc:38] TF-TRT Warning: Could not find TensorRT\n"
          ]
        },
        {
          "output_type": "stream",
          "name": "stdout",
          "text": [
            "\u001b[2m\u001b[36m(launch_and_evaluate pid=18026)\u001b[0m [Client 0] evaluate, config: {}\n"
          ]
        },
        {
          "output_type": "stream",
          "name": "stderr",
          "text": [
            "\u001b[2m\u001b[36m(pid=18096)\u001b[0m 2023-06-10 09:36:13.669952: W tensorflow/compiler/tf2tensorrt/utils/py_utils.cc:38] TF-TRT Warning: Could not find TensorRT\n"
          ]
        },
        {
          "output_type": "stream",
          "name": "stdout",
          "text": [
            "\u001b[2m\u001b[36m(launch_and_evaluate pid=18096)\u001b[0m [Client 8] evaluate, config: {}\n"
          ]
        },
        {
          "output_type": "stream",
          "name": "stderr",
          "text": [
            "DEBUG flwr 2023-06-10 09:36:17,837 | server.py:182 | evaluate_round 33 received 3 results and 0 failures\n",
            "DEBUG:flwr:evaluate_round 33 received 3 results and 0 failures\n",
            "DEBUG flwr 2023-06-10 09:36:17,845 | server.py:218 | fit_round 34: strategy sampled 3 clients (out of 10)\n",
            "DEBUG:flwr:fit_round 34: strategy sampled 3 clients (out of 10)\n",
            "\u001b[2m\u001b[36m(pid=18185)\u001b[0m 2023-06-10 09:36:25.875023: W tensorflow/compiler/tf2tensorrt/utils/py_utils.cc:38] TF-TRT Warning: Could not find TensorRT\n"
          ]
        },
        {
          "output_type": "stream",
          "name": "stdout",
          "text": [
            "\u001b[2m\u001b[36m(launch_and_fit pid=18185)\u001b[0m [Client 2, round 34] fit, config: {'server_round': 34, 'local_epochs': 2}\n",
            "\u001b[2m\u001b[36m(launch_and_fit pid=18185)\u001b[0m Epoch 1: train loss 0.030042944476008415, accuracy 0.656\n",
            "\u001b[2m\u001b[36m(launch_and_fit pid=18185)\u001b[0m Epoch 2: train loss 0.022923165932297707, accuracy 0.7464444444444445\n"
          ]
        },
        {
          "output_type": "stream",
          "name": "stderr",
          "text": [
            "\u001b[2m\u001b[36m(pid=18259)\u001b[0m 2023-06-10 09:36:35.157285: W tensorflow/compiler/tf2tensorrt/utils/py_utils.cc:38] TF-TRT Warning: Could not find TensorRT\n"
          ]
        },
        {
          "output_type": "stream",
          "name": "stdout",
          "text": [
            "\u001b[2m\u001b[36m(launch_and_fit pid=18259)\u001b[0m [Client 0, round 34] fit, config: {'server_round': 34, 'local_epochs': 2}\n",
            "\u001b[2m\u001b[36m(launch_and_fit pid=18259)\u001b[0m Epoch 1: train loss 0.03064850904047489, accuracy 0.6591111111111111\n",
            "\u001b[2m\u001b[36m(launch_and_fit pid=18259)\u001b[0m Epoch 2: train loss 0.02309250645339489, accuracy 0.742\n"
          ]
        },
        {
          "output_type": "stream",
          "name": "stderr",
          "text": [
            "\u001b[2m\u001b[36m(pid=18350)\u001b[0m 2023-06-10 09:36:46.037593: W tensorflow/compiler/tf2tensorrt/utils/py_utils.cc:38] TF-TRT Warning: Could not find TensorRT\n"
          ]
        },
        {
          "output_type": "stream",
          "name": "stdout",
          "text": [
            "\u001b[2m\u001b[36m(launch_and_fit pid=18350)\u001b[0m [Client 5, round 34] fit, config: {'server_round': 34, 'local_epochs': 2}\n",
            "\u001b[2m\u001b[36m(launch_and_fit pid=18350)\u001b[0m Epoch 1: train loss 0.024453936144709587, accuracy 0.7137777777777777\n"
          ]
        },
        {
          "output_type": "stream",
          "name": "stderr",
          "text": [
            "DEBUG flwr 2023-06-10 09:36:54,787 | server.py:232 | fit_round 34 received 3 results and 0 failures\n",
            "DEBUG:flwr:fit_round 34 received 3 results and 0 failures\n"
          ]
        },
        {
          "output_type": "stream",
          "name": "stdout",
          "text": [
            "\u001b[2m\u001b[36m(launch_and_fit pid=18350)\u001b[0m Epoch 2: train loss 0.018444331362843513, accuracy 0.7935555555555556\n"
          ]
        },
        {
          "output_type": "stream",
          "name": "stderr",
          "text": [
            "INFO flwr 2023-06-10 09:36:58,342 | server.py:119 | fit progress: (34, 0.038222690951824186, {'accuracy': 0.6041}, 2256.3422205019997)\n",
            "INFO:flwr:fit progress: (34, 0.038222690951824186, {'accuracy': 0.6041}, 2256.3422205019997)\n",
            "DEBUG flwr 2023-06-10 09:36:58,353 | server.py:168 | evaluate_round 34: strategy sampled 3 clients (out of 10)\n",
            "DEBUG:flwr:evaluate_round 34: strategy sampled 3 clients (out of 10)\n"
          ]
        },
        {
          "output_type": "stream",
          "name": "stdout",
          "text": [
            "Server-side evaluation loss 0.038222690951824186 / accuracy 0.6041\n"
          ]
        },
        {
          "output_type": "stream",
          "name": "stderr",
          "text": [
            "\u001b[2m\u001b[36m(pid=18463)\u001b[0m 2023-06-10 09:37:03.862185: W tensorflow/compiler/tf2tensorrt/utils/py_utils.cc:38] TF-TRT Warning: Could not find TensorRT\n"
          ]
        },
        {
          "output_type": "stream",
          "name": "stdout",
          "text": [
            "\u001b[2m\u001b[36m(launch_and_evaluate pid=18463)\u001b[0m [Client 8] evaluate, config: {}\n"
          ]
        },
        {
          "output_type": "stream",
          "name": "stderr",
          "text": [
            "\u001b[2m\u001b[36m(pid=18534)\u001b[0m 2023-06-10 09:37:12.062452: W tensorflow/compiler/tf2tensorrt/utils/py_utils.cc:38] TF-TRT Warning: Could not find TensorRT\n"
          ]
        },
        {
          "output_type": "stream",
          "name": "stdout",
          "text": [
            "\u001b[2m\u001b[36m(launch_and_evaluate pid=18534)\u001b[0m [Client 0] evaluate, config: {}\n"
          ]
        },
        {
          "output_type": "stream",
          "name": "stderr",
          "text": [
            "\u001b[2m\u001b[36m(pid=18594)\u001b[0m 2023-06-10 09:37:17.771464: W tensorflow/compiler/tf2tensorrt/utils/py_utils.cc:38] TF-TRT Warning: Could not find TensorRT\n"
          ]
        },
        {
          "output_type": "stream",
          "name": "stdout",
          "text": [
            "\u001b[2m\u001b[36m(launch_and_evaluate pid=18594)\u001b[0m [Client 6] evaluate, config: {}\n"
          ]
        },
        {
          "output_type": "stream",
          "name": "stderr",
          "text": [
            "DEBUG flwr 2023-06-10 09:37:22,843 | server.py:182 | evaluate_round 34 received 3 results and 0 failures\n",
            "DEBUG:flwr:evaluate_round 34 received 3 results and 0 failures\n",
            "DEBUG flwr 2023-06-10 09:37:22,849 | server.py:218 | fit_round 35: strategy sampled 3 clients (out of 10)\n",
            "DEBUG:flwr:fit_round 35: strategy sampled 3 clients (out of 10)\n",
            "\u001b[2m\u001b[36m(pid=18691)\u001b[0m 2023-06-10 09:37:32.248402: W tensorflow/compiler/tf2tensorrt/utils/py_utils.cc:38] TF-TRT Warning: Could not find TensorRT\n"
          ]
        },
        {
          "output_type": "stream",
          "name": "stdout",
          "text": [
            "\u001b[2m\u001b[36m(launch_and_fit pid=18691)\u001b[0m [Client 9, round 35] fit, config: {'server_round': 35, 'local_epochs': 2}\n",
            "\u001b[2m\u001b[36m(launch_and_fit pid=18691)\u001b[0m Epoch 1: train loss 0.02483476884663105, accuracy 0.7104444444444444\n",
            "\u001b[2m\u001b[36m(launch_and_fit pid=18691)\u001b[0m Epoch 2: train loss 0.018145665526390076, accuracy 0.798\n"
          ]
        },
        {
          "output_type": "stream",
          "name": "stderr",
          "text": [
            "\u001b[2m\u001b[36m(pid=18772)\u001b[0m 2023-06-10 09:37:42.032623: W tensorflow/compiler/tf2tensorrt/utils/py_utils.cc:38] TF-TRT Warning: Could not find TensorRT\n"
          ]
        },
        {
          "output_type": "stream",
          "name": "stdout",
          "text": [
            "\u001b[2m\u001b[36m(launch_and_fit pid=18772)\u001b[0m [Client 1, round 35] fit, config: {'server_round': 35, 'local_epochs': 2}\n",
            "\u001b[2m\u001b[36m(launch_and_fit pid=18772)\u001b[0m Epoch 1: train loss 0.0227670818567276, accuracy 0.7384444444444445\n",
            "\u001b[2m\u001b[36m(launch_and_fit pid=18772)\u001b[0m Epoch 2: train loss 0.015727516263723373, accuracy 0.8248888888888889\n"
          ]
        },
        {
          "output_type": "stream",
          "name": "stderr",
          "text": [
            "\u001b[2m\u001b[36m(pid=18858)\u001b[0m 2023-06-10 09:37:52.652688: W tensorflow/compiler/tf2tensorrt/utils/py_utils.cc:38] TF-TRT Warning: Could not find TensorRT\n"
          ]
        },
        {
          "output_type": "stream",
          "name": "stdout",
          "text": [
            "\u001b[2m\u001b[36m(launch_and_fit pid=18858)\u001b[0m [Client 5, round 35] fit, config: {'server_round': 35, 'local_epochs': 2}\n",
            "\u001b[2m\u001b[36m(launch_and_fit pid=18858)\u001b[0m Epoch 1: train loss 0.022480247542262077, accuracy 0.7471111111111111\n"
          ]
        },
        {
          "output_type": "stream",
          "name": "stderr",
          "text": [
            "DEBUG flwr 2023-06-10 09:38:01,731 | server.py:232 | fit_round 35 received 3 results and 0 failures\n",
            "DEBUG:flwr:fit_round 35 received 3 results and 0 failures\n"
          ]
        },
        {
          "output_type": "stream",
          "name": "stdout",
          "text": [
            "\u001b[2m\u001b[36m(launch_and_fit pid=18858)\u001b[0m Epoch 2: train loss 0.016035303473472595, accuracy 0.8193333333333334\n"
          ]
        },
        {
          "output_type": "stream",
          "name": "stderr",
          "text": [
            "INFO flwr 2023-06-10 09:38:04,996 | server.py:119 | fit progress: (35, 0.04108132815361023, {'accuracy': 0.6021}, 2322.9965694549996)\n",
            "INFO:flwr:fit progress: (35, 0.04108132815361023, {'accuracy': 0.6021}, 2322.9965694549996)\n",
            "DEBUG flwr 2023-06-10 09:38:05,000 | server.py:168 | evaluate_round 35: strategy sampled 3 clients (out of 10)\n",
            "DEBUG:flwr:evaluate_round 35: strategy sampled 3 clients (out of 10)\n"
          ]
        },
        {
          "output_type": "stream",
          "name": "stdout",
          "text": [
            "Server-side evaluation loss 0.04108132815361023 / accuracy 0.6021\n"
          ]
        },
        {
          "output_type": "stream",
          "name": "stderr",
          "text": [
            "\u001b[2m\u001b[36m(pid=18982)\u001b[0m 2023-06-10 09:38:10.589080: W tensorflow/compiler/tf2tensorrt/utils/py_utils.cc:38] TF-TRT Warning: Could not find TensorRT\n"
          ]
        },
        {
          "output_type": "stream",
          "name": "stdout",
          "text": [
            "\u001b[2m\u001b[36m(launch_and_evaluate pid=18982)\u001b[0m [Client 4] evaluate, config: {}\n"
          ]
        },
        {
          "output_type": "stream",
          "name": "stderr",
          "text": [
            "\u001b[2m\u001b[36m(pid=19048)\u001b[0m 2023-06-10 09:38:18.547065: W tensorflow/compiler/tf2tensorrt/utils/py_utils.cc:38] TF-TRT Warning: Could not find TensorRT\n"
          ]
        },
        {
          "output_type": "stream",
          "name": "stdout",
          "text": [
            "\u001b[2m\u001b[36m(launch_and_evaluate pid=19048)\u001b[0m [Client 2] evaluate, config: {}\n"
          ]
        },
        {
          "output_type": "stream",
          "name": "stderr",
          "text": [
            "\u001b[2m\u001b[36m(pid=19112)\u001b[0m 2023-06-10 09:38:24.848819: W tensorflow/compiler/tf2tensorrt/utils/py_utils.cc:38] TF-TRT Warning: Could not find TensorRT\n"
          ]
        },
        {
          "output_type": "stream",
          "name": "stdout",
          "text": [
            "\u001b[2m\u001b[36m(launch_and_evaluate pid=19112)\u001b[0m [Client 7] evaluate, config: {}\n"
          ]
        },
        {
          "output_type": "stream",
          "name": "stderr",
          "text": [
            "DEBUG flwr 2023-06-10 09:38:30,228 | server.py:182 | evaluate_round 35 received 3 results and 0 failures\n",
            "DEBUG:flwr:evaluate_round 35 received 3 results and 0 failures\n",
            "DEBUG flwr 2023-06-10 09:38:30,232 | server.py:218 | fit_round 36: strategy sampled 3 clients (out of 10)\n",
            "DEBUG:flwr:fit_round 36: strategy sampled 3 clients (out of 10)\n",
            "\u001b[2m\u001b[36m(pid=19199)\u001b[0m 2023-06-10 09:38:36.668972: W tensorflow/compiler/tf2tensorrt/utils/py_utils.cc:38] TF-TRT Warning: Could not find TensorRT\n"
          ]
        },
        {
          "output_type": "stream",
          "name": "stdout",
          "text": [
            "\u001b[2m\u001b[36m(launch_and_fit pid=19199)\u001b[0m [Client 6, round 36] fit, config: {'server_round': 36, 'local_epochs': 2}\n",
            "\u001b[2m\u001b[36m(launch_and_fit pid=19199)\u001b[0m Epoch 1: train loss 0.029268836602568626, accuracy 0.6768888888888889\n",
            "\u001b[2m\u001b[36m(launch_and_fit pid=19199)\u001b[0m Epoch 2: train loss 0.02169184572994709, accuracy 0.7648888888888888\n"
          ]
        },
        {
          "output_type": "stream",
          "name": "stderr",
          "text": [
            "\u001b[2m\u001b[36m(pid=19286)\u001b[0m 2023-06-10 09:38:48.008877: W tensorflow/compiler/tf2tensorrt/utils/py_utils.cc:38] TF-TRT Warning: Could not find TensorRT\n"
          ]
        },
        {
          "output_type": "stream",
          "name": "stdout",
          "text": [
            "\u001b[2m\u001b[36m(launch_and_fit pid=19286)\u001b[0m [Client 5, round 36] fit, config: {'server_round': 36, 'local_epochs': 2}\n",
            "\u001b[2m\u001b[36m(launch_and_fit pid=19286)\u001b[0m Epoch 1: train loss 0.019643550738692284, accuracy 0.7786666666666666\n",
            "\u001b[2m\u001b[36m(launch_and_fit pid=19286)\u001b[0m Epoch 2: train loss 0.014108922332525253, accuracy 0.8471111111111111\n"
          ]
        },
        {
          "output_type": "stream",
          "name": "stderr",
          "text": [
            "\u001b[2m\u001b[36m(pid=19369)\u001b[0m 2023-06-10 09:38:57.014214: W tensorflow/compiler/tf2tensorrt/utils/py_utils.cc:38] TF-TRT Warning: Could not find TensorRT\n"
          ]
        },
        {
          "output_type": "stream",
          "name": "stdout",
          "text": [
            "\u001b[2m\u001b[36m(launch_and_fit pid=19369)\u001b[0m [Client 4, round 36] fit, config: {'server_round': 36, 'local_epochs': 2}\n",
            "\u001b[2m\u001b[36m(launch_and_fit pid=19369)\u001b[0m Epoch 1: train loss 0.022944943979382515, accuracy 0.7366666666666667\n"
          ]
        },
        {
          "output_type": "stream",
          "name": "stderr",
          "text": [
            "DEBUG flwr 2023-06-10 09:39:06,635 | server.py:232 | fit_round 36 received 3 results and 0 failures\n",
            "DEBUG:flwr:fit_round 36 received 3 results and 0 failures\n"
          ]
        },
        {
          "output_type": "stream",
          "name": "stdout",
          "text": [
            "\u001b[2m\u001b[36m(launch_and_fit pid=19369)\u001b[0m Epoch 2: train loss 0.015584288164973259, accuracy 0.8291111111111111\n"
          ]
        },
        {
          "output_type": "stream",
          "name": "stderr",
          "text": [
            "INFO flwr 2023-06-10 09:39:09,861 | server.py:119 | fit progress: (36, 0.04097690324783325, {'accuracy': 0.5968}, 2387.8619309849996)\n",
            "INFO:flwr:fit progress: (36, 0.04097690324783325, {'accuracy': 0.5968}, 2387.8619309849996)\n",
            "DEBUG flwr 2023-06-10 09:39:09,870 | server.py:168 | evaluate_round 36: strategy sampled 3 clients (out of 10)\n",
            "DEBUG:flwr:evaluate_round 36: strategy sampled 3 clients (out of 10)\n"
          ]
        },
        {
          "output_type": "stream",
          "name": "stdout",
          "text": [
            "Server-side evaluation loss 0.04097690324783325 / accuracy 0.5968\n"
          ]
        },
        {
          "output_type": "stream",
          "name": "stderr",
          "text": [
            "\u001b[2m\u001b[36m(pid=19499)\u001b[0m 2023-06-10 09:39:17.437761: W tensorflow/compiler/tf2tensorrt/utils/py_utils.cc:38] TF-TRT Warning: Could not find TensorRT\n"
          ]
        },
        {
          "output_type": "stream",
          "name": "stdout",
          "text": [
            "\u001b[2m\u001b[36m(launch_and_evaluate pid=19499)\u001b[0m [Client 4] evaluate, config: {}\n"
          ]
        },
        {
          "output_type": "stream",
          "name": "stderr",
          "text": [
            "\u001b[2m\u001b[36m(pid=19565)\u001b[0m 2023-06-10 09:39:23.797848: W tensorflow/compiler/tf2tensorrt/utils/py_utils.cc:38] TF-TRT Warning: Could not find TensorRT\n"
          ]
        },
        {
          "output_type": "stream",
          "name": "stdout",
          "text": [
            "\u001b[2m\u001b[36m(launch_and_evaluate pid=19565)\u001b[0m [Client 3] evaluate, config: {}\n"
          ]
        },
        {
          "output_type": "stream",
          "name": "stderr",
          "text": [
            "\u001b[2m\u001b[36m(pid=19629)\u001b[0m 2023-06-10 09:39:31.434069: W tensorflow/compiler/tf2tensorrt/utils/py_utils.cc:38] TF-TRT Warning: Could not find TensorRT\n"
          ]
        },
        {
          "output_type": "stream",
          "name": "stdout",
          "text": [
            "\u001b[2m\u001b[36m(launch_and_evaluate pid=19629)\u001b[0m [Client 2] evaluate, config: {}\n"
          ]
        },
        {
          "output_type": "stream",
          "name": "stderr",
          "text": [
            "DEBUG flwr 2023-06-10 09:39:36,432 | server.py:182 | evaluate_round 36 received 3 results and 0 failures\n",
            "DEBUG:flwr:evaluate_round 36 received 3 results and 0 failures\n",
            "DEBUG flwr 2023-06-10 09:39:36,437 | server.py:218 | fit_round 37: strategy sampled 3 clients (out of 10)\n",
            "DEBUG:flwr:fit_round 37: strategy sampled 3 clients (out of 10)\n",
            "\u001b[2m\u001b[36m(pid=19724)\u001b[0m 2023-06-10 09:39:41.981609: W tensorflow/compiler/tf2tensorrt/utils/py_utils.cc:38] TF-TRT Warning: Could not find TensorRT\n"
          ]
        },
        {
          "output_type": "stream",
          "name": "stdout",
          "text": [
            "\u001b[2m\u001b[36m(launch_and_fit pid=19724)\u001b[0m [Client 3, round 37] fit, config: {'server_round': 37, 'local_epochs': 2}\n",
            "\u001b[2m\u001b[36m(launch_and_fit pid=19724)\u001b[0m Epoch 1: train loss 0.030195146799087524, accuracy 0.6606666666666666\n",
            "\u001b[2m\u001b[36m(launch_and_fit pid=19724)\u001b[0m Epoch 2: train loss 0.021880455315113068, accuracy 0.758\n"
          ]
        },
        {
          "output_type": "stream",
          "name": "stderr",
          "text": [
            "\u001b[2m\u001b[36m(pid=19809)\u001b[0m 2023-06-10 09:39:53.189837: W tensorflow/compiler/tf2tensorrt/utils/py_utils.cc:38] TF-TRT Warning: Could not find TensorRT\n"
          ]
        },
        {
          "output_type": "stream",
          "name": "stdout",
          "text": [
            "\u001b[2m\u001b[36m(launch_and_fit pid=19809)\u001b[0m [Client 0, round 37] fit, config: {'server_round': 37, 'local_epochs': 2}\n",
            "\u001b[2m\u001b[36m(launch_and_fit pid=19809)\u001b[0m Epoch 1: train loss 0.028762804344296455, accuracy 0.6766666666666666\n",
            "\u001b[2m\u001b[36m(launch_and_fit pid=19809)\u001b[0m Epoch 2: train loss 0.02136087417602539, accuracy 0.7613333333333333\n"
          ]
        },
        {
          "output_type": "stream",
          "name": "stderr",
          "text": [
            "\u001b[2m\u001b[36m(pid=19887)\u001b[0m 2023-06-10 09:40:04.610337: W tensorflow/compiler/tf2tensorrt/utils/py_utils.cc:38] TF-TRT Warning: Could not find TensorRT\n"
          ]
        },
        {
          "output_type": "stream",
          "name": "stdout",
          "text": [
            "\u001b[2m\u001b[36m(launch_and_fit pid=19887)\u001b[0m [Client 8, round 37] fit, config: {'server_round': 37, 'local_epochs': 2}\n",
            "\u001b[2m\u001b[36m(launch_and_fit pid=19887)\u001b[0m Epoch 1: train loss 0.03367772325873375, accuracy 0.6322222222222222\n"
          ]
        },
        {
          "output_type": "stream",
          "name": "stderr",
          "text": [
            "DEBUG flwr 2023-06-10 09:40:11,725 | server.py:232 | fit_round 37 received 3 results and 0 failures\n",
            "DEBUG:flwr:fit_round 37 received 3 results and 0 failures\n"
          ]
        },
        {
          "output_type": "stream",
          "name": "stdout",
          "text": [
            "\u001b[2m\u001b[36m(launch_and_fit pid=19887)\u001b[0m Epoch 2: train loss 0.02542128786444664, accuracy 0.716\n"
          ]
        },
        {
          "output_type": "stream",
          "name": "stderr",
          "text": [
            "INFO flwr 2023-06-10 09:40:14,908 | server.py:119 | fit progress: (37, 0.037237708538770675, {'accuracy': 0.6056}, 2452.9083559779997)\n",
            "INFO:flwr:fit progress: (37, 0.037237708538770675, {'accuracy': 0.6056}, 2452.9083559779997)\n",
            "DEBUG flwr 2023-06-10 09:40:14,911 | server.py:168 | evaluate_round 37: strategy sampled 3 clients (out of 10)\n",
            "DEBUG:flwr:evaluate_round 37: strategy sampled 3 clients (out of 10)\n"
          ]
        },
        {
          "output_type": "stream",
          "name": "stdout",
          "text": [
            "Server-side evaluation loss 0.037237708538770675 / accuracy 0.6056\n"
          ]
        },
        {
          "output_type": "stream",
          "name": "stderr",
          "text": [
            "\u001b[2m\u001b[36m(pid=20019)\u001b[0m 2023-06-10 09:40:22.882129: W tensorflow/compiler/tf2tensorrt/utils/py_utils.cc:38] TF-TRT Warning: Could not find TensorRT\n"
          ]
        },
        {
          "output_type": "stream",
          "name": "stdout",
          "text": [
            "\u001b[2m\u001b[36m(launch_and_evaluate pid=20019)\u001b[0m [Client 8] evaluate, config: {}\n"
          ]
        },
        {
          "output_type": "stream",
          "name": "stderr",
          "text": [
            "\u001b[2m\u001b[36m(pid=20079)\u001b[0m 2023-06-10 09:40:29.076927: W tensorflow/compiler/tf2tensorrt/utils/py_utils.cc:38] TF-TRT Warning: Could not find TensorRT\n"
          ]
        },
        {
          "output_type": "stream",
          "name": "stdout",
          "text": [
            "\u001b[2m\u001b[36m(launch_and_evaluate pid=20079)\u001b[0m [Client 7] evaluate, config: {}\n"
          ]
        },
        {
          "output_type": "stream",
          "name": "stderr",
          "text": [
            "\u001b[2m\u001b[36m(pid=20160)\u001b[0m 2023-06-10 09:40:39.945160: W tensorflow/compiler/tf2tensorrt/utils/py_utils.cc:38] TF-TRT Warning: Could not find TensorRT\n"
          ]
        },
        {
          "output_type": "stream",
          "name": "stdout",
          "text": [
            "\u001b[2m\u001b[36m(launch_and_evaluate pid=20160)\u001b[0m [Client 2] evaluate, config: {}\n"
          ]
        },
        {
          "output_type": "stream",
          "name": "stderr",
          "text": [
            "DEBUG flwr 2023-06-10 09:40:43,758 | server.py:182 | evaluate_round 37 received 3 results and 0 failures\n",
            "DEBUG:flwr:evaluate_round 37 received 3 results and 0 failures\n",
            "DEBUG flwr 2023-06-10 09:40:43,766 | server.py:218 | fit_round 38: strategy sampled 3 clients (out of 10)\n",
            "DEBUG:flwr:fit_round 38: strategy sampled 3 clients (out of 10)\n",
            "\u001b[2m\u001b[36m(pid=20246)\u001b[0m 2023-06-10 09:40:50.498623: W tensorflow/compiler/tf2tensorrt/utils/py_utils.cc:38] TF-TRT Warning: Could not find TensorRT\n"
          ]
        },
        {
          "output_type": "stream",
          "name": "stdout",
          "text": [
            "\u001b[2m\u001b[36m(launch_and_fit pid=20246)\u001b[0m [Client 5, round 38] fit, config: {'server_round': 38, 'local_epochs': 2}\n",
            "\u001b[2m\u001b[36m(launch_and_fit pid=20246)\u001b[0m Epoch 1: train loss 0.020608099177479744, accuracy 0.768\n",
            "\u001b[2m\u001b[36m(launch_and_fit pid=20246)\u001b[0m Epoch 2: train loss 0.013649806380271912, accuracy 0.8551111111111112\n"
          ]
        },
        {
          "output_type": "stream",
          "name": "stderr",
          "text": [
            "\u001b[2m\u001b[36m(pid=20336)\u001b[0m 2023-06-10 09:41:01.501215: W tensorflow/compiler/tf2tensorrt/utils/py_utils.cc:38] TF-TRT Warning: Could not find TensorRT\n"
          ]
        },
        {
          "output_type": "stream",
          "name": "stdout",
          "text": [
            "\u001b[2m\u001b[36m(launch_and_fit pid=20336)\u001b[0m [Client 2, round 38] fit, config: {'server_round': 38, 'local_epochs': 2}\n",
            "\u001b[2m\u001b[36m(launch_and_fit pid=20336)\u001b[0m Epoch 1: train loss 0.028197571635246277, accuracy 0.6815555555555556\n",
            "\u001b[2m\u001b[36m(launch_and_fit pid=20336)\u001b[0m Epoch 2: train loss 0.020535694435238838, accuracy 0.7668888888888888\n"
          ]
        },
        {
          "output_type": "stream",
          "name": "stderr",
          "text": [
            "\u001b[2m\u001b[36m(pid=20425)\u001b[0m 2023-06-10 09:41:12.744605: W tensorflow/compiler/tf2tensorrt/utils/py_utils.cc:38] TF-TRT Warning: Could not find TensorRT\n"
          ]
        },
        {
          "output_type": "stream",
          "name": "stdout",
          "text": [
            "\u001b[2m\u001b[36m(launch_and_fit pid=20425)\u001b[0m [Client 9, round 38] fit, config: {'server_round': 38, 'local_epochs': 2}\n",
            "\u001b[2m\u001b[36m(launch_and_fit pid=20425)\u001b[0m Epoch 1: train loss 0.023827524855732918, accuracy 0.7297777777777777\n"
          ]
        },
        {
          "output_type": "stream",
          "name": "stderr",
          "text": [
            "DEBUG flwr 2023-06-10 09:41:20,186 | server.py:232 | fit_round 38 received 3 results and 0 failures\n",
            "DEBUG:flwr:fit_round 38 received 3 results and 0 failures\n"
          ]
        },
        {
          "output_type": "stream",
          "name": "stdout",
          "text": [
            "\u001b[2m\u001b[36m(launch_and_fit pid=20425)\u001b[0m Epoch 2: train loss 0.016967158764600754, accuracy 0.8175555555555556\n"
          ]
        },
        {
          "output_type": "stream",
          "name": "stderr",
          "text": [
            "INFO flwr 2023-06-10 09:41:25,397 | server.py:119 | fit progress: (38, 0.03991788231134415, {'accuracy': 0.6083}, 2523.39762011)\n",
            "INFO:flwr:fit progress: (38, 0.03991788231134415, {'accuracy': 0.6083}, 2523.39762011)\n",
            "DEBUG flwr 2023-06-10 09:41:25,404 | server.py:168 | evaluate_round 38: strategy sampled 3 clients (out of 10)\n",
            "DEBUG:flwr:evaluate_round 38: strategy sampled 3 clients (out of 10)\n"
          ]
        },
        {
          "output_type": "stream",
          "name": "stdout",
          "text": [
            "Server-side evaluation loss 0.03991788231134415 / accuracy 0.6083\n"
          ]
        },
        {
          "output_type": "stream",
          "name": "stderr",
          "text": [
            "\u001b[2m\u001b[36m(pid=20546)\u001b[0m 2023-06-10 09:41:31.058988: W tensorflow/compiler/tf2tensorrt/utils/py_utils.cc:38] TF-TRT Warning: Could not find TensorRT\n"
          ]
        },
        {
          "output_type": "stream",
          "name": "stdout",
          "text": [
            "\u001b[2m\u001b[36m(launch_and_evaluate pid=20546)\u001b[0m [Client 3] evaluate, config: {}\n"
          ]
        },
        {
          "output_type": "stream",
          "name": "stderr",
          "text": [
            "\u001b[2m\u001b[36m(pid=20608)\u001b[0m 2023-06-10 09:41:38.884911: W tensorflow/compiler/tf2tensorrt/utils/py_utils.cc:38] TF-TRT Warning: Could not find TensorRT\n"
          ]
        },
        {
          "output_type": "stream",
          "name": "stdout",
          "text": [
            "\u001b[2m\u001b[36m(launch_and_evaluate pid=20608)\u001b[0m [Client 9] evaluate, config: {}\n"
          ]
        },
        {
          "output_type": "stream",
          "name": "stderr",
          "text": [
            "\u001b[2m\u001b[36m(pid=20682)\u001b[0m 2023-06-10 09:41:45.724933: W tensorflow/compiler/tf2tensorrt/utils/py_utils.cc:38] TF-TRT Warning: Could not find TensorRT\n"
          ]
        },
        {
          "output_type": "stream",
          "name": "stdout",
          "text": [
            "\u001b[2m\u001b[36m(launch_and_evaluate pid=20682)\u001b[0m [Client 7] evaluate, config: {}\n"
          ]
        },
        {
          "output_type": "stream",
          "name": "stderr",
          "text": [
            "DEBUG flwr 2023-06-10 09:41:49,790 | server.py:182 | evaluate_round 38 received 3 results and 0 failures\n",
            "DEBUG:flwr:evaluate_round 38 received 3 results and 0 failures\n",
            "DEBUG flwr 2023-06-10 09:41:49,797 | server.py:218 | fit_round 39: strategy sampled 3 clients (out of 10)\n",
            "DEBUG:flwr:fit_round 39: strategy sampled 3 clients (out of 10)\n",
            "\u001b[2m\u001b[36m(pid=20771)\u001b[0m 2023-06-10 09:41:57.853343: W tensorflow/compiler/tf2tensorrt/utils/py_utils.cc:38] TF-TRT Warning: Could not find TensorRT\n"
          ]
        },
        {
          "output_type": "stream",
          "name": "stdout",
          "text": [
            "\u001b[2m\u001b[36m(launch_and_fit pid=20771)\u001b[0m [Client 4, round 39] fit, config: {'server_round': 39, 'local_epochs': 2}\n",
            "\u001b[2m\u001b[36m(launch_and_fit pid=20771)\u001b[0m Epoch 1: train loss 0.022135218605399132, accuracy 0.7428888888888889\n",
            "\u001b[2m\u001b[36m(launch_and_fit pid=20771)\u001b[0m Epoch 2: train loss 0.014575493521988392, accuracy 0.8408888888888889\n"
          ]
        },
        {
          "output_type": "stream",
          "name": "stderr",
          "text": [
            "\u001b[2m\u001b[36m(pid=20853)\u001b[0m 2023-06-10 09:42:07.539726: W tensorflow/compiler/tf2tensorrt/utils/py_utils.cc:38] TF-TRT Warning: Could not find TensorRT\n"
          ]
        },
        {
          "output_type": "stream",
          "name": "stdout",
          "text": [
            "\u001b[2m\u001b[36m(launch_and_fit pid=20853)\u001b[0m [Client 5, round 39] fit, config: {'server_round': 39, 'local_epochs': 2}\n",
            "\u001b[2m\u001b[36m(launch_and_fit pid=20853)\u001b[0m Epoch 1: train loss 0.017361968755722046, accuracy 0.7995555555555556\n",
            "\u001b[2m\u001b[36m(launch_and_fit pid=20853)\u001b[0m Epoch 2: train loss 0.011028784327208996, accuracy 0.8884444444444445\n"
          ]
        },
        {
          "output_type": "stream",
          "name": "stderr",
          "text": [
            "\u001b[2m\u001b[36m(pid=20945)\u001b[0m 2023-06-10 09:42:18.756406: W tensorflow/compiler/tf2tensorrt/utils/py_utils.cc:38] TF-TRT Warning: Could not find TensorRT\n"
          ]
        },
        {
          "output_type": "stream",
          "name": "stdout",
          "text": [
            "\u001b[2m\u001b[36m(launch_and_fit pid=20945)\u001b[0m [Client 9, round 39] fit, config: {'server_round': 39, 'local_epochs': 2}\n",
            "\u001b[2m\u001b[36m(launch_and_fit pid=20945)\u001b[0m Epoch 1: train loss 0.0201247725635767, accuracy 0.7702222222222223\n"
          ]
        },
        {
          "output_type": "stream",
          "name": "stderr",
          "text": [
            "DEBUG flwr 2023-06-10 09:42:28,277 | server.py:232 | fit_round 39 received 3 results and 0 failures\n",
            "DEBUG:flwr:fit_round 39 received 3 results and 0 failures\n"
          ]
        },
        {
          "output_type": "stream",
          "name": "stdout",
          "text": [
            "\u001b[2m\u001b[36m(launch_and_fit pid=20945)\u001b[0m Epoch 2: train loss 0.014031827449798584, accuracy 0.8537777777777777\n"
          ]
        },
        {
          "output_type": "stream",
          "name": "stderr",
          "text": [
            "INFO flwr 2023-06-10 09:42:31,588 | server.py:119 | fit progress: (39, 0.043954103410243986, {'accuracy': 0.599}, 2589.588077558)\n",
            "INFO:flwr:fit progress: (39, 0.043954103410243986, {'accuracy': 0.599}, 2589.588077558)\n",
            "DEBUG flwr 2023-06-10 09:42:31,599 | server.py:168 | evaluate_round 39: strategy sampled 3 clients (out of 10)\n",
            "DEBUG:flwr:evaluate_round 39: strategy sampled 3 clients (out of 10)\n"
          ]
        },
        {
          "output_type": "stream",
          "name": "stdout",
          "text": [
            "Server-side evaluation loss 0.043954103410243986 / accuracy 0.599\n"
          ]
        },
        {
          "output_type": "stream",
          "name": "stderr",
          "text": [
            "\u001b[2m\u001b[36m(pid=21065)\u001b[0m 2023-06-10 09:42:37.433639: W tensorflow/compiler/tf2tensorrt/utils/py_utils.cc:38] TF-TRT Warning: Could not find TensorRT\n"
          ]
        },
        {
          "output_type": "stream",
          "name": "stdout",
          "text": [
            "\u001b[2m\u001b[36m(launch_and_evaluate pid=21065)\u001b[0m [Client 2] evaluate, config: {}\n"
          ]
        },
        {
          "output_type": "stream",
          "name": "stderr",
          "text": [
            "\u001b[2m\u001b[36m(pid=21137)\u001b[0m 2023-06-10 09:42:45.780185: W tensorflow/compiler/tf2tensorrt/utils/py_utils.cc:38] TF-TRT Warning: Could not find TensorRT\n"
          ]
        },
        {
          "output_type": "stream",
          "name": "stdout",
          "text": [
            "\u001b[2m\u001b[36m(launch_and_evaluate pid=21137)\u001b[0m [Client 7] evaluate, config: {}\n"
          ]
        },
        {
          "output_type": "stream",
          "name": "stderr",
          "text": [
            "\u001b[2m\u001b[36m(pid=21204)\u001b[0m 2023-06-10 09:42:51.862736: W tensorflow/compiler/tf2tensorrt/utils/py_utils.cc:38] TF-TRT Warning: Could not find TensorRT\n"
          ]
        },
        {
          "output_type": "stream",
          "name": "stdout",
          "text": [
            "\u001b[2m\u001b[36m(launch_and_evaluate pid=21204)\u001b[0m [Client 5] evaluate, config: {}\n"
          ]
        },
        {
          "output_type": "stream",
          "name": "stderr",
          "text": [
            "DEBUG flwr 2023-06-10 09:42:57,559 | server.py:182 | evaluate_round 39 received 3 results and 0 failures\n",
            "DEBUG:flwr:evaluate_round 39 received 3 results and 0 failures\n",
            "DEBUG flwr 2023-06-10 09:42:57,562 | server.py:218 | fit_round 40: strategy sampled 3 clients (out of 10)\n",
            "DEBUG:flwr:fit_round 40: strategy sampled 3 clients (out of 10)\n",
            "\u001b[2m\u001b[36m(pid=21288)\u001b[0m 2023-06-10 09:43:03.757890: W tensorflow/compiler/tf2tensorrt/utils/py_utils.cc:38] TF-TRT Warning: Could not find TensorRT\n"
          ]
        },
        {
          "output_type": "stream",
          "name": "stdout",
          "text": [
            "\u001b[2m\u001b[36m(launch_and_fit pid=21288)\u001b[0m [Client 2, round 40] fit, config: {'server_round': 40, 'local_epochs': 2}\n",
            "\u001b[2m\u001b[36m(launch_and_fit pid=21288)\u001b[0m Epoch 1: train loss 0.026650747284293175, accuracy 0.7008888888888889\n",
            "\u001b[2m\u001b[36m(launch_and_fit pid=21288)\u001b[0m Epoch 2: train loss 0.018674161285161972, accuracy 0.7895555555555556\n"
          ]
        },
        {
          "output_type": "stream",
          "name": "stderr",
          "text": [
            "\u001b[2m\u001b[36m(pid=21373)\u001b[0m 2023-06-10 09:43:15.394710: W tensorflow/compiler/tf2tensorrt/utils/py_utils.cc:38] TF-TRT Warning: Could not find TensorRT\n"
          ]
        },
        {
          "output_type": "stream",
          "name": "stdout",
          "text": [
            "\u001b[2m\u001b[36m(launch_and_fit pid=21373)\u001b[0m [Client 9, round 40] fit, config: {'server_round': 40, 'local_epochs': 2}\n",
            "\u001b[2m\u001b[36m(launch_and_fit pid=21373)\u001b[0m Epoch 1: train loss 0.01778072863817215, accuracy 0.7982222222222223\n",
            "\u001b[2m\u001b[36m(launch_and_fit pid=21373)\u001b[0m Epoch 2: train loss 0.01209724135696888, accuracy 0.8726666666666667\n"
          ]
        },
        {
          "output_type": "stream",
          "name": "stderr",
          "text": [
            "\u001b[2m\u001b[36m(pid=21453)\u001b[0m 2023-06-10 09:43:24.791260: W tensorflow/compiler/tf2tensorrt/utils/py_utils.cc:38] TF-TRT Warning: Could not find TensorRT\n"
          ]
        },
        {
          "output_type": "stream",
          "name": "stdout",
          "text": [
            "\u001b[2m\u001b[36m(launch_and_fit pid=21453)\u001b[0m [Client 8, round 40] fit, config: {'server_round': 40, 'local_epochs': 2}\n",
            "\u001b[2m\u001b[36m(launch_and_fit pid=21453)\u001b[0m Epoch 1: train loss 0.031611740589141846, accuracy 0.6575555555555556\n"
          ]
        },
        {
          "output_type": "stream",
          "name": "stderr",
          "text": [
            "DEBUG flwr 2023-06-10 09:43:34,508 | server.py:232 | fit_round 40 received 3 results and 0 failures\n",
            "DEBUG:flwr:fit_round 40 received 3 results and 0 failures\n"
          ]
        },
        {
          "output_type": "stream",
          "name": "stdout",
          "text": [
            "\u001b[2m\u001b[36m(launch_and_fit pid=21453)\u001b[0m Epoch 2: train loss 0.0232594795525074, accuracy 0.7402222222222222\n"
          ]
        },
        {
          "output_type": "stream",
          "name": "stderr",
          "text": [
            "INFO flwr 2023-06-10 09:43:37,807 | server.py:119 | fit progress: (40, 0.040925780081748964, {'accuracy': 0.6037}, 2655.807723776)\n",
            "INFO:flwr:fit progress: (40, 0.040925780081748964, {'accuracy': 0.6037}, 2655.807723776)\n",
            "DEBUG flwr 2023-06-10 09:43:37,816 | server.py:168 | evaluate_round 40: strategy sampled 3 clients (out of 10)\n",
            "DEBUG:flwr:evaluate_round 40: strategy sampled 3 clients (out of 10)\n"
          ]
        },
        {
          "output_type": "stream",
          "name": "stdout",
          "text": [
            "Server-side evaluation loss 0.040925780081748964 / accuracy 0.6037\n"
          ]
        },
        {
          "output_type": "stream",
          "name": "stderr",
          "text": [
            "\u001b[2m\u001b[36m(pid=21585)\u001b[0m 2023-06-10 09:43:48.667777: W tensorflow/compiler/tf2tensorrt/utils/py_utils.cc:38] TF-TRT Warning: Could not find TensorRT\n"
          ]
        },
        {
          "output_type": "stream",
          "name": "stdout",
          "text": [
            "\u001b[2m\u001b[36m(launch_and_evaluate pid=21585)\u001b[0m [Client 1] evaluate, config: {}\n"
          ]
        },
        {
          "output_type": "stream",
          "name": "stderr",
          "text": [
            "\u001b[2m\u001b[36m(pid=21658)\u001b[0m 2023-06-10 09:43:54.959082: W tensorflow/compiler/tf2tensorrt/utils/py_utils.cc:38] TF-TRT Warning: Could not find TensorRT\n"
          ]
        },
        {
          "output_type": "stream",
          "name": "stdout",
          "text": [
            "\u001b[2m\u001b[36m(launch_and_evaluate pid=21658)\u001b[0m [Client 2] evaluate, config: {}\n"
          ]
        },
        {
          "output_type": "stream",
          "name": "stderr",
          "text": [
            "\u001b[2m\u001b[36m(pid=21723)\u001b[0m 2023-06-10 09:44:02.951166: W tensorflow/compiler/tf2tensorrt/utils/py_utils.cc:38] TF-TRT Warning: Could not find TensorRT\n"
          ]
        },
        {
          "output_type": "stream",
          "name": "stdout",
          "text": [
            "\u001b[2m\u001b[36m(launch_and_evaluate pid=21723)\u001b[0m [Client 4] evaluate, config: {}\n"
          ]
        },
        {
          "output_type": "stream",
          "name": "stderr",
          "text": [
            "DEBUG flwr 2023-06-10 09:44:07,569 | server.py:182 | evaluate_round 40 received 3 results and 0 failures\n",
            "DEBUG:flwr:evaluate_round 40 received 3 results and 0 failures\n",
            "DEBUG flwr 2023-06-10 09:44:07,576 | server.py:218 | fit_round 41: strategy sampled 3 clients (out of 10)\n",
            "DEBUG:flwr:fit_round 41: strategy sampled 3 clients (out of 10)\n",
            "\u001b[2m\u001b[36m(pid=21809)\u001b[0m 2023-06-10 09:44:13.128606: W tensorflow/compiler/tf2tensorrt/utils/py_utils.cc:38] TF-TRT Warning: Could not find TensorRT\n"
          ]
        },
        {
          "output_type": "stream",
          "name": "stdout",
          "text": [
            "\u001b[2m\u001b[36m(launch_and_fit pid=21809)\u001b[0m [Client 8, round 41] fit, config: {'server_round': 41, 'local_epochs': 2}\n",
            "\u001b[2m\u001b[36m(launch_and_fit pid=21809)\u001b[0m Epoch 1: train loss 0.02727849967777729, accuracy 0.6928888888888889\n",
            "\u001b[2m\u001b[36m(launch_and_fit pid=21809)\u001b[0m Epoch 2: train loss 0.01995489001274109, accuracy 0.7793333333333333\n"
          ]
        },
        {
          "output_type": "stream",
          "name": "stderr",
          "text": [
            "\u001b[2m\u001b[36m(pid=21897)\u001b[0m 2023-06-10 09:44:24.563245: W tensorflow/compiler/tf2tensorrt/utils/py_utils.cc:38] TF-TRT Warning: Could not find TensorRT\n"
          ]
        },
        {
          "output_type": "stream",
          "name": "stdout",
          "text": [
            "\u001b[2m\u001b[36m(launch_and_fit pid=21897)\u001b[0m [Client 9, round 41] fit, config: {'server_round': 41, 'local_epochs': 2}\n",
            "\u001b[2m\u001b[36m(launch_and_fit pid=21897)\u001b[0m Epoch 1: train loss 0.01571371592581272, accuracy 0.8215555555555556\n",
            "\u001b[2m\u001b[36m(launch_and_fit pid=21897)\u001b[0m Epoch 2: train loss 0.01081021036952734, accuracy 0.8933333333333333\n"
          ]
        },
        {
          "output_type": "stream",
          "name": "stderr",
          "text": [
            "\u001b[2m\u001b[36m(pid=21980)\u001b[0m 2023-06-10 09:44:36.221836: W tensorflow/compiler/tf2tensorrt/utils/py_utils.cc:38] TF-TRT Warning: Could not find TensorRT\n"
          ]
        },
        {
          "output_type": "stream",
          "name": "stdout",
          "text": [
            "\u001b[2m\u001b[36m(launch_and_fit pid=21980)\u001b[0m [Client 1, round 41] fit, config: {'server_round': 41, 'local_epochs': 2}\n",
            "\u001b[2m\u001b[36m(launch_and_fit pid=21980)\u001b[0m Epoch 1: train loss 0.024760600179433823, accuracy 0.7237777777777777\n"
          ]
        },
        {
          "output_type": "stream",
          "name": "stderr",
          "text": [
            "DEBUG flwr 2023-06-10 09:44:43,565 | server.py:232 | fit_round 41 received 3 results and 0 failures\n",
            "DEBUG:flwr:fit_round 41 received 3 results and 0 failures\n"
          ]
        },
        {
          "output_type": "stream",
          "name": "stdout",
          "text": [
            "\u001b[2m\u001b[36m(launch_and_fit pid=21980)\u001b[0m Epoch 2: train loss 0.01652064360678196, accuracy 0.8144444444444444\n"
          ]
        },
        {
          "output_type": "stream",
          "name": "stderr",
          "text": [
            "INFO flwr 2023-06-10 09:44:47,785 | server.py:119 | fit progress: (41, 0.042020557248592376, {'accuracy': 0.6053}, 2725.785713964)\n",
            "INFO:flwr:fit progress: (41, 0.042020557248592376, {'accuracy': 0.6053}, 2725.785713964)\n",
            "DEBUG flwr 2023-06-10 09:44:47,793 | server.py:168 | evaluate_round 41: strategy sampled 3 clients (out of 10)\n",
            "DEBUG:flwr:evaluate_round 41: strategy sampled 3 clients (out of 10)\n"
          ]
        },
        {
          "output_type": "stream",
          "name": "stdout",
          "text": [
            "Server-side evaluation loss 0.042020557248592376 / accuracy 0.6053\n"
          ]
        },
        {
          "output_type": "stream",
          "name": "stderr",
          "text": [
            "\u001b[2m\u001b[36m(pid=22105)\u001b[0m 2023-06-10 09:44:54.648362: W tensorflow/compiler/tf2tensorrt/utils/py_utils.cc:38] TF-TRT Warning: Could not find TensorRT\n"
          ]
        },
        {
          "output_type": "stream",
          "name": "stdout",
          "text": [
            "\u001b[2m\u001b[36m(launch_and_evaluate pid=22105)\u001b[0m [Client 7] evaluate, config: {}\n"
          ]
        },
        {
          "output_type": "stream",
          "name": "stderr",
          "text": [
            "\u001b[2m\u001b[36m(pid=22165)\u001b[0m 2023-06-10 09:45:01.678652: W tensorflow/compiler/tf2tensorrt/utils/py_utils.cc:38] TF-TRT Warning: Could not find TensorRT\n"
          ]
        },
        {
          "output_type": "stream",
          "name": "stdout",
          "text": [
            "\u001b[2m\u001b[36m(launch_and_evaluate pid=22165)\u001b[0m [Client 0] evaluate, config: {}\n"
          ]
        },
        {
          "output_type": "stream",
          "name": "stderr",
          "text": [
            "\u001b[2m\u001b[36m(pid=22240)\u001b[0m 2023-06-10 09:45:09.708517: W tensorflow/compiler/tf2tensorrt/utils/py_utils.cc:38] TF-TRT Warning: Could not find TensorRT\n"
          ]
        },
        {
          "output_type": "stream",
          "name": "stdout",
          "text": [
            "\u001b[2m\u001b[36m(launch_and_evaluate pid=22240)\u001b[0m [Client 8] evaluate, config: {}\n"
          ]
        },
        {
          "output_type": "stream",
          "name": "stderr",
          "text": [
            "DEBUG flwr 2023-06-10 09:45:13,958 | server.py:182 | evaluate_round 41 received 3 results and 0 failures\n",
            "DEBUG:flwr:evaluate_round 41 received 3 results and 0 failures\n",
            "DEBUG flwr 2023-06-10 09:45:13,967 | server.py:218 | fit_round 42: strategy sampled 3 clients (out of 10)\n",
            "DEBUG:flwr:fit_round 42: strategy sampled 3 clients (out of 10)\n",
            "\u001b[2m\u001b[36m(pid=22324)\u001b[0m 2023-06-10 09:45:22.461228: W tensorflow/compiler/tf2tensorrt/utils/py_utils.cc:38] TF-TRT Warning: Could not find TensorRT\n"
          ]
        },
        {
          "output_type": "stream",
          "name": "stdout",
          "text": [
            "\u001b[2m\u001b[36m(launch_and_fit pid=22324)\u001b[0m [Client 2, round 42] fit, config: {'server_round': 42, 'local_epochs': 2}\n",
            "\u001b[2m\u001b[36m(launch_and_fit pid=22324)\u001b[0m Epoch 1: train loss 0.02512100711464882, accuracy 0.7155555555555555\n",
            "\u001b[2m\u001b[36m(launch_and_fit pid=22324)\u001b[0m Epoch 2: train loss 0.016897674649953842, accuracy 0.8124444444444444\n"
          ]
        },
        {
          "output_type": "stream",
          "name": "stderr",
          "text": [
            "\u001b[2m\u001b[36m(pid=22404)\u001b[0m 2023-06-10 09:45:32.026180: W tensorflow/compiler/tf2tensorrt/utils/py_utils.cc:38] TF-TRT Warning: Could not find TensorRT\n"
          ]
        },
        {
          "output_type": "stream",
          "name": "stdout",
          "text": [
            "\u001b[2m\u001b[36m(launch_and_fit pid=22404)\u001b[0m [Client 7, round 42] fit, config: {'server_round': 42, 'local_epochs': 2}\n",
            "\u001b[2m\u001b[36m(launch_and_fit pid=22404)\u001b[0m Epoch 1: train loss 0.03134404495358467, accuracy 0.658\n",
            "\u001b[2m\u001b[36m(launch_and_fit pid=22404)\u001b[0m Epoch 2: train loss 0.022519979625940323, accuracy 0.7493333333333333\n"
          ]
        },
        {
          "output_type": "stream",
          "name": "stderr",
          "text": [
            "\u001b[2m\u001b[36m(pid=22494)\u001b[0m 2023-06-10 09:45:43.540877: W tensorflow/compiler/tf2tensorrt/utils/py_utils.cc:38] TF-TRT Warning: Could not find TensorRT\n"
          ]
        },
        {
          "output_type": "stream",
          "name": "stdout",
          "text": [
            "\u001b[2m\u001b[36m(launch_and_fit pid=22494)\u001b[0m [Client 6, round 42] fit, config: {'server_round': 42, 'local_epochs': 2}\n",
            "\u001b[2m\u001b[36m(launch_and_fit pid=22494)\u001b[0m Epoch 1: train loss 0.029405083507299423, accuracy 0.6724444444444444\n"
          ]
        },
        {
          "output_type": "stream",
          "name": "stderr",
          "text": [
            "DEBUG flwr 2023-06-10 09:45:52,963 | server.py:232 | fit_round 42 received 3 results and 0 failures\n",
            "DEBUG:flwr:fit_round 42 received 3 results and 0 failures\n"
          ]
        },
        {
          "output_type": "stream",
          "name": "stdout",
          "text": [
            "\u001b[2m\u001b[36m(launch_and_fit pid=22494)\u001b[0m Epoch 2: train loss 0.020928461104631424, accuracy 0.7686666666666667\n"
          ]
        },
        {
          "output_type": "stream",
          "name": "stderr",
          "text": [
            "INFO flwr 2023-06-10 09:45:56,219 | server.py:119 | fit progress: (42, 0.03868793741464615, {'accuracy': 0.6103}, 2794.219262696)\n",
            "INFO:flwr:fit progress: (42, 0.03868793741464615, {'accuracy': 0.6103}, 2794.219262696)\n",
            "DEBUG flwr 2023-06-10 09:45:56,227 | server.py:168 | evaluate_round 42: strategy sampled 3 clients (out of 10)\n",
            "DEBUG:flwr:evaluate_round 42: strategy sampled 3 clients (out of 10)\n"
          ]
        },
        {
          "output_type": "stream",
          "name": "stdout",
          "text": [
            "Server-side evaluation loss 0.03868793741464615 / accuracy 0.6103\n"
          ]
        },
        {
          "output_type": "stream",
          "name": "stderr",
          "text": [
            "\u001b[2m\u001b[36m(pid=22612)\u001b[0m 2023-06-10 09:46:01.884055: W tensorflow/compiler/tf2tensorrt/utils/py_utils.cc:38] TF-TRT Warning: Could not find TensorRT\n"
          ]
        },
        {
          "output_type": "stream",
          "name": "stdout",
          "text": [
            "\u001b[2m\u001b[36m(launch_and_evaluate pid=22612)\u001b[0m [Client 0] evaluate, config: {}\n"
          ]
        },
        {
          "output_type": "stream",
          "name": "stderr",
          "text": [
            "\u001b[2m\u001b[36m(pid=22686)\u001b[0m 2023-06-10 09:46:10.194520: W tensorflow/compiler/tf2tensorrt/utils/py_utils.cc:38] TF-TRT Warning: Could not find TensorRT\n"
          ]
        },
        {
          "output_type": "stream",
          "name": "stdout",
          "text": [
            "\u001b[2m\u001b[36m(launch_and_evaluate pid=22686)\u001b[0m [Client 2] evaluate, config: {}\n"
          ]
        },
        {
          "output_type": "stream",
          "name": "stderr",
          "text": [
            "\u001b[2m\u001b[36m(pid=22746)\u001b[0m 2023-06-10 09:46:16.224333: W tensorflow/compiler/tf2tensorrt/utils/py_utils.cc:38] TF-TRT Warning: Could not find TensorRT\n"
          ]
        },
        {
          "output_type": "stream",
          "name": "stdout",
          "text": [
            "\u001b[2m\u001b[36m(launch_and_evaluate pid=22746)\u001b[0m [Client 4] evaluate, config: {}\n"
          ]
        },
        {
          "output_type": "stream",
          "name": "stderr",
          "text": [
            "DEBUG flwr 2023-06-10 09:46:21,920 | server.py:182 | evaluate_round 42 received 3 results and 0 failures\n",
            "DEBUG:flwr:evaluate_round 42 received 3 results and 0 failures\n",
            "DEBUG flwr 2023-06-10 09:46:21,923 | server.py:218 | fit_round 43: strategy sampled 3 clients (out of 10)\n",
            "DEBUG:flwr:fit_round 43: strategy sampled 3 clients (out of 10)\n",
            "\u001b[2m\u001b[36m(pid=22835)\u001b[0m 2023-06-10 09:46:28.258601: W tensorflow/compiler/tf2tensorrt/utils/py_utils.cc:38] TF-TRT Warning: Could not find TensorRT\n"
          ]
        },
        {
          "output_type": "stream",
          "name": "stdout",
          "text": [
            "\u001b[2m\u001b[36m(launch_and_fit pid=22835)\u001b[0m [Client 2, round 43] fit, config: {'server_round': 43, 'local_epochs': 2}\n",
            "\u001b[2m\u001b[36m(launch_and_fit pid=22835)\u001b[0m Epoch 1: train loss 0.020725881680846214, accuracy 0.7617777777777778\n",
            "\u001b[2m\u001b[36m(launch_and_fit pid=22835)\u001b[0m Epoch 2: train loss 0.0141685139387846, accuracy 0.8531111111111112\n"
          ]
        },
        {
          "output_type": "stream",
          "name": "stderr",
          "text": [
            "\u001b[2m\u001b[36m(pid=22914)\u001b[0m 2023-06-10 09:46:39.875052: W tensorflow/compiler/tf2tensorrt/utils/py_utils.cc:38] TF-TRT Warning: Could not find TensorRT\n"
          ]
        },
        {
          "output_type": "stream",
          "name": "stdout",
          "text": [
            "\u001b[2m\u001b[36m(launch_and_fit pid=22914)\u001b[0m [Client 4, round 43] fit, config: {'server_round': 43, 'local_epochs': 2}\n",
            "\u001b[2m\u001b[36m(launch_and_fit pid=22914)\u001b[0m Epoch 1: train loss 0.02229205332696438, accuracy 0.7511111111111111\n",
            "\u001b[2m\u001b[36m(launch_and_fit pid=22914)\u001b[0m Epoch 2: train loss 0.014534635469317436, accuracy 0.8393333333333334\n"
          ]
        },
        {
          "output_type": "stream",
          "name": "stderr",
          "text": [
            "\u001b[2m\u001b[36m(pid=22996)\u001b[0m 2023-06-10 09:46:48.831043: W tensorflow/compiler/tf2tensorrt/utils/py_utils.cc:38] TF-TRT Warning: Could not find TensorRT\n"
          ]
        },
        {
          "output_type": "stream",
          "name": "stdout",
          "text": [
            "\u001b[2m\u001b[36m(launch_and_fit pid=22996)\u001b[0m [Client 8, round 43] fit, config: {'server_round': 43, 'local_epochs': 2}\n",
            "\u001b[2m\u001b[36m(launch_and_fit pid=22996)\u001b[0m Epoch 1: train loss 0.02587291970849037, accuracy 0.7064444444444444\n"
          ]
        },
        {
          "output_type": "stream",
          "name": "stderr",
          "text": [
            "DEBUG flwr 2023-06-10 09:47:01,011 | server.py:232 | fit_round 43 received 3 results and 0 failures\n",
            "DEBUG:flwr:fit_round 43 received 3 results and 0 failures\n"
          ]
        },
        {
          "output_type": "stream",
          "name": "stdout",
          "text": [
            "\u001b[2m\u001b[36m(launch_and_fit pid=22996)\u001b[0m Epoch 2: train loss 0.018258588388562202, accuracy 0.7993333333333333\n"
          ]
        },
        {
          "output_type": "stream",
          "name": "stderr",
          "text": [
            "INFO flwr 2023-06-10 09:47:04,261 | server.py:119 | fit progress: (43, 0.04134576500058174, {'accuracy': 0.6087}, 2862.261321099)\n",
            "INFO:flwr:fit progress: (43, 0.04134576500058174, {'accuracy': 0.6087}, 2862.261321099)\n",
            "DEBUG flwr 2023-06-10 09:47:04,267 | server.py:168 | evaluate_round 43: strategy sampled 3 clients (out of 10)\n",
            "DEBUG:flwr:evaluate_round 43: strategy sampled 3 clients (out of 10)\n"
          ]
        },
        {
          "output_type": "stream",
          "name": "stdout",
          "text": [
            "Server-side evaluation loss 0.04134576500058174 / accuracy 0.6087\n"
          ]
        },
        {
          "output_type": "stream",
          "name": "stderr",
          "text": [
            "\u001b[2m\u001b[36m(pid=23132)\u001b[0m 2023-06-10 09:47:12.234461: W tensorflow/compiler/tf2tensorrt/utils/py_utils.cc:38] TF-TRT Warning: Could not find TensorRT\n"
          ]
        },
        {
          "output_type": "stream",
          "name": "stdout",
          "text": [
            "\u001b[2m\u001b[36m(launch_and_evaluate pid=23132)\u001b[0m [Client 8] evaluate, config: {}\n"
          ]
        },
        {
          "output_type": "stream",
          "name": "stderr",
          "text": [
            "\u001b[2m\u001b[36m(pid=23201)\u001b[0m 2023-06-10 09:47:18.396994: W tensorflow/compiler/tf2tensorrt/utils/py_utils.cc:38] TF-TRT Warning: Could not find TensorRT\n"
          ]
        },
        {
          "output_type": "stream",
          "name": "stdout",
          "text": [
            "\u001b[2m\u001b[36m(launch_and_evaluate pid=23201)\u001b[0m [Client 2] evaluate, config: {}\n"
          ]
        },
        {
          "output_type": "stream",
          "name": "stderr",
          "text": [
            "\u001b[2m\u001b[36m(pid=23261)\u001b[0m 2023-06-10 09:47:26.694439: W tensorflow/compiler/tf2tensorrt/utils/py_utils.cc:38] TF-TRT Warning: Could not find TensorRT\n"
          ]
        },
        {
          "output_type": "stream",
          "name": "stdout",
          "text": [
            "\u001b[2m\u001b[36m(launch_and_evaluate pid=23261)\u001b[0m [Client 6] evaluate, config: {}\n"
          ]
        },
        {
          "output_type": "stream",
          "name": "stderr",
          "text": [
            "DEBUG flwr 2023-06-10 09:47:31,373 | server.py:182 | evaluate_round 43 received 3 results and 0 failures\n",
            "DEBUG:flwr:evaluate_round 43 received 3 results and 0 failures\n",
            "DEBUG flwr 2023-06-10 09:47:31,376 | server.py:218 | fit_round 44: strategy sampled 3 clients (out of 10)\n",
            "DEBUG:flwr:fit_round 44: strategy sampled 3 clients (out of 10)\n",
            "\u001b[2m\u001b[36m(pid=23350)\u001b[0m 2023-06-10 09:47:37.103665: W tensorflow/compiler/tf2tensorrt/utils/py_utils.cc:38] TF-TRT Warning: Could not find TensorRT\n"
          ]
        },
        {
          "output_type": "stream",
          "name": "stdout",
          "text": [
            "\u001b[2m\u001b[36m(launch_and_fit pid=23350)\u001b[0m [Client 7, round 44] fit, config: {'server_round': 44, 'local_epochs': 2}\n",
            "\u001b[2m\u001b[36m(launch_and_fit pid=23350)\u001b[0m Epoch 1: train loss 0.027733394876122475, accuracy 0.6895555555555556\n",
            "\u001b[2m\u001b[36m(launch_and_fit pid=23350)\u001b[0m Epoch 2: train loss 0.020067108795046806, accuracy 0.7751111111111111\n"
          ]
        },
        {
          "output_type": "stream",
          "name": "stderr",
          "text": [
            "\u001b[2m\u001b[36m(pid=23439)\u001b[0m 2023-06-10 09:47:48.600114: W tensorflow/compiler/tf2tensorrt/utils/py_utils.cc:38] TF-TRT Warning: Could not find TensorRT\n"
          ]
        },
        {
          "output_type": "stream",
          "name": "stdout",
          "text": [
            "\u001b[2m\u001b[36m(launch_and_fit pid=23439)\u001b[0m [Client 1, round 44] fit, config: {'server_round': 44, 'local_epochs': 2}\n",
            "\u001b[2m\u001b[36m(launch_and_fit pid=23439)\u001b[0m Epoch 1: train loss 0.02349320985376835, accuracy 0.7311111111111112\n",
            "\u001b[2m\u001b[36m(launch_and_fit pid=23439)\u001b[0m Epoch 2: train loss 0.015532645396888256, accuracy 0.8282222222222222\n"
          ]
        },
        {
          "output_type": "stream",
          "name": "stderr",
          "text": [
            "\u001b[2m\u001b[36m(pid=23520)\u001b[0m 2023-06-10 09:48:00.414164: W tensorflow/compiler/tf2tensorrt/utils/py_utils.cc:38] TF-TRT Warning: Could not find TensorRT\n"
          ]
        },
        {
          "output_type": "stream",
          "name": "stdout",
          "text": [
            "\u001b[2m\u001b[36m(launch_and_fit pid=23520)\u001b[0m [Client 6, round 44] fit, config: {'server_round': 44, 'local_epochs': 2}\n",
            "\u001b[2m\u001b[36m(launch_and_fit pid=23520)\u001b[0m Epoch 1: train loss 0.02616739459335804, accuracy 0.7053333333333334\n"
          ]
        },
        {
          "output_type": "stream",
          "name": "stderr",
          "text": [
            "DEBUG flwr 2023-06-10 09:48:07,916 | server.py:232 | fit_round 44 received 3 results and 0 failures\n",
            "DEBUG:flwr:fit_round 44 received 3 results and 0 failures\n"
          ]
        },
        {
          "output_type": "stream",
          "name": "stdout",
          "text": [
            "\u001b[2m\u001b[36m(launch_and_fit pid=23520)\u001b[0m Epoch 2: train loss 0.018453316763043404, accuracy 0.7937777777777778\n"
          ]
        },
        {
          "output_type": "stream",
          "name": "stderr",
          "text": [
            "INFO flwr 2023-06-10 09:48:11,987 | server.py:119 | fit progress: (44, 0.040012250220775605, {'accuracy': 0.605}, 2929.987703281)\n",
            "INFO:flwr:fit progress: (44, 0.040012250220775605, {'accuracy': 0.605}, 2929.987703281)\n",
            "DEBUG flwr 2023-06-10 09:48:11,992 | server.py:168 | evaluate_round 44: strategy sampled 3 clients (out of 10)\n",
            "DEBUG:flwr:evaluate_round 44: strategy sampled 3 clients (out of 10)\n"
          ]
        },
        {
          "output_type": "stream",
          "name": "stdout",
          "text": [
            "Server-side evaluation loss 0.040012250220775605 / accuracy 0.605\n"
          ]
        },
        {
          "output_type": "stream",
          "name": "stderr",
          "text": [
            "\u001b[2m\u001b[36m(pid=23647)\u001b[0m 2023-06-10 09:48:18.995516: W tensorflow/compiler/tf2tensorrt/utils/py_utils.cc:38] TF-TRT Warning: Could not find TensorRT\n"
          ]
        },
        {
          "output_type": "stream",
          "name": "stdout",
          "text": [
            "\u001b[2m\u001b[36m(launch_and_evaluate pid=23647)\u001b[0m [Client 9] evaluate, config: {}\n"
          ]
        },
        {
          "output_type": "stream",
          "name": "stderr",
          "text": [
            "\u001b[2m\u001b[36m(pid=23707)\u001b[0m 2023-06-10 09:48:25.397330: W tensorflow/compiler/tf2tensorrt/utils/py_utils.cc:38] TF-TRT Warning: Could not find TensorRT\n"
          ]
        },
        {
          "output_type": "stream",
          "name": "stdout",
          "text": [
            "\u001b[2m\u001b[36m(launch_and_evaluate pid=23707)\u001b[0m [Client 5] evaluate, config: {}\n"
          ]
        },
        {
          "output_type": "stream",
          "name": "stderr",
          "text": [
            "\u001b[2m\u001b[36m(pid=23780)\u001b[0m 2023-06-10 09:48:33.692907: W tensorflow/compiler/tf2tensorrt/utils/py_utils.cc:38] TF-TRT Warning: Could not find TensorRT\n"
          ]
        },
        {
          "output_type": "stream",
          "name": "stdout",
          "text": [
            "\u001b[2m\u001b[36m(launch_and_evaluate pid=23780)\u001b[0m [Client 7] evaluate, config: {}\n"
          ]
        },
        {
          "output_type": "stream",
          "name": "stderr",
          "text": [
            "DEBUG flwr 2023-06-10 09:48:37,944 | server.py:182 | evaluate_round 44 received 3 results and 0 failures\n",
            "DEBUG:flwr:evaluate_round 44 received 3 results and 0 failures\n",
            "DEBUG flwr 2023-06-10 09:48:37,950 | server.py:218 | fit_round 45: strategy sampled 3 clients (out of 10)\n",
            "DEBUG:flwr:fit_round 45: strategy sampled 3 clients (out of 10)\n",
            "\u001b[2m\u001b[36m(pid=23862)\u001b[0m 2023-06-10 09:48:46.102191: W tensorflow/compiler/tf2tensorrt/utils/py_utils.cc:38] TF-TRT Warning: Could not find TensorRT\n"
          ]
        },
        {
          "output_type": "stream",
          "name": "stdout",
          "text": [
            "\u001b[2m\u001b[36m(launch_and_fit pid=23862)\u001b[0m [Client 2, round 45] fit, config: {'server_round': 45, 'local_epochs': 2}\n",
            "\u001b[2m\u001b[36m(launch_and_fit pid=23862)\u001b[0m Epoch 1: train loss 0.01983676478266716, accuracy 0.7688888888888888\n",
            "\u001b[2m\u001b[36m(launch_and_fit pid=23862)\u001b[0m Epoch 2: train loss 0.012727857567369938, accuracy 0.8595555555555555\n"
          ]
        },
        {
          "output_type": "stream",
          "name": "stderr",
          "text": [
            "\u001b[2m\u001b[36m(pid=23945)\u001b[0m 2023-06-10 09:48:55.514610: W tensorflow/compiler/tf2tensorrt/utils/py_utils.cc:38] TF-TRT Warning: Could not find TensorRT\n"
          ]
        },
        {
          "output_type": "stream",
          "name": "stdout",
          "text": [
            "\u001b[2m\u001b[36m(launch_and_fit pid=23945)\u001b[0m [Client 8, round 45] fit, config: {'server_round': 45, 'local_epochs': 2}\n",
            "\u001b[2m\u001b[36m(launch_and_fit pid=23945)\u001b[0m Epoch 1: train loss 0.023731546476483345, accuracy 0.7253333333333334\n",
            "\u001b[2m\u001b[36m(launch_and_fit pid=23945)\u001b[0m Epoch 2: train loss 0.016473393887281418, accuracy 0.8233333333333334\n"
          ]
        },
        {
          "output_type": "stream",
          "name": "stderr",
          "text": [
            "\u001b[2m\u001b[36m(pid=24034)\u001b[0m 2023-06-10 09:49:06.865067: W tensorflow/compiler/tf2tensorrt/utils/py_utils.cc:38] TF-TRT Warning: Could not find TensorRT\n"
          ]
        },
        {
          "output_type": "stream",
          "name": "stdout",
          "text": [
            "\u001b[2m\u001b[36m(launch_and_fit pid=24034)\u001b[0m [Client 3, round 45] fit, config: {'server_round': 45, 'local_epochs': 2}\n",
            "\u001b[2m\u001b[36m(launch_and_fit pid=24034)\u001b[0m Epoch 1: train loss 0.030347978696227074, accuracy 0.6684444444444444\n"
          ]
        },
        {
          "output_type": "stream",
          "name": "stderr",
          "text": [
            "DEBUG flwr 2023-06-10 09:49:15,601 | server.py:232 | fit_round 45 received 3 results and 0 failures\n",
            "DEBUG:flwr:fit_round 45 received 3 results and 0 failures\n"
          ]
        },
        {
          "output_type": "stream",
          "name": "stdout",
          "text": [
            "\u001b[2m\u001b[36m(launch_and_fit pid=24034)\u001b[0m Epoch 2: train loss 0.021508878096938133, accuracy 0.7611111111111111\n"
          ]
        },
        {
          "output_type": "stream",
          "name": "stderr",
          "text": [
            "INFO flwr 2023-06-10 09:49:19,625 | server.py:119 | fit progress: (45, 0.040454106536507606, {'accuracy': 0.6082}, 2997.6256235419996)\n",
            "INFO:flwr:fit progress: (45, 0.040454106536507606, {'accuracy': 0.6082}, 2997.6256235419996)\n",
            "DEBUG flwr 2023-06-10 09:49:19,631 | server.py:168 | evaluate_round 45: strategy sampled 3 clients (out of 10)\n",
            "DEBUG:flwr:evaluate_round 45: strategy sampled 3 clients (out of 10)\n"
          ]
        },
        {
          "output_type": "stream",
          "name": "stdout",
          "text": [
            "Server-side evaluation loss 0.040454106536507606 / accuracy 0.6082\n"
          ]
        },
        {
          "output_type": "stream",
          "name": "stderr",
          "text": [
            "\u001b[2m\u001b[36m(pid=24155)\u001b[0m 2023-06-10 09:49:25.361028: W tensorflow/compiler/tf2tensorrt/utils/py_utils.cc:38] TF-TRT Warning: Could not find TensorRT\n"
          ]
        },
        {
          "output_type": "stream",
          "name": "stdout",
          "text": [
            "\u001b[2m\u001b[36m(launch_and_evaluate pid=24155)\u001b[0m [Client 9] evaluate, config: {}\n"
          ]
        },
        {
          "output_type": "stream",
          "name": "stderr",
          "text": [
            "\u001b[2m\u001b[36m(pid=24221)\u001b[0m 2023-06-10 09:49:33.722340: W tensorflow/compiler/tf2tensorrt/utils/py_utils.cc:38] TF-TRT Warning: Could not find TensorRT\n"
          ]
        },
        {
          "output_type": "stream",
          "name": "stdout",
          "text": [
            "\u001b[2m\u001b[36m(launch_and_evaluate pid=24221)\u001b[0m [Client 1] evaluate, config: {}\n"
          ]
        },
        {
          "output_type": "stream",
          "name": "stderr",
          "text": [
            "\u001b[2m\u001b[36m(pid=24284)\u001b[0m 2023-06-10 09:49:39.854163: W tensorflow/compiler/tf2tensorrt/utils/py_utils.cc:38] TF-TRT Warning: Could not find TensorRT\n"
          ]
        },
        {
          "output_type": "stream",
          "name": "stdout",
          "text": [
            "\u001b[2m\u001b[36m(launch_and_evaluate pid=24284)\u001b[0m [Client 0] evaluate, config: {}\n"
          ]
        },
        {
          "output_type": "stream",
          "name": "stderr",
          "text": [
            "DEBUG flwr 2023-06-10 09:49:44,710 | server.py:182 | evaluate_round 45 received 3 results and 0 failures\n",
            "DEBUG:flwr:evaluate_round 45 received 3 results and 0 failures\n",
            "DEBUG flwr 2023-06-10 09:49:44,717 | server.py:218 | fit_round 46: strategy sampled 3 clients (out of 10)\n",
            "DEBUG:flwr:fit_round 46: strategy sampled 3 clients (out of 10)\n",
            "\u001b[2m\u001b[36m(pid=24375)\u001b[0m 2023-06-10 09:49:51.694689: W tensorflow/compiler/tf2tensorrt/utils/py_utils.cc:38] TF-TRT Warning: Could not find TensorRT\n"
          ]
        },
        {
          "output_type": "stream",
          "name": "stdout",
          "text": [
            "\u001b[2m\u001b[36m(launch_and_fit pid=24375)\u001b[0m [Client 5, round 46] fit, config: {'server_round': 46, 'local_epochs': 2}\n",
            "\u001b[2m\u001b[36m(launch_and_fit pid=24375)\u001b[0m Epoch 1: train loss 0.02329331822693348, accuracy 0.7284444444444444\n",
            "\u001b[2m\u001b[36m(launch_and_fit pid=24375)\u001b[0m Epoch 2: train loss 0.014105227775871754, accuracy 0.8415555555555555\n"
          ]
        },
        {
          "output_type": "stream",
          "name": "stderr",
          "text": [
            "\u001b[2m\u001b[36m(pid=24453)\u001b[0m 2023-06-10 09:50:04.879410: W tensorflow/compiler/tf2tensorrt/utils/py_utils.cc:38] TF-TRT Warning: Could not find TensorRT\n"
          ]
        },
        {
          "output_type": "stream",
          "name": "stdout",
          "text": [
            "\u001b[2m\u001b[36m(launch_and_fit pid=24453)\u001b[0m [Client 7, round 46] fit, config: {'server_round': 46, 'local_epochs': 2}\n",
            "\u001b[2m\u001b[36m(launch_and_fit pid=24453)\u001b[0m Epoch 1: train loss 0.02524537406861782, accuracy 0.7202222222222222\n",
            "\u001b[2m\u001b[36m(launch_and_fit pid=24453)\u001b[0m Epoch 2: train loss 0.01772410236299038, accuracy 0.8042222222222222\n"
          ]
        },
        {
          "output_type": "stream",
          "name": "stderr",
          "text": [
            "\u001b[2m\u001b[36m(pid=24552)\u001b[0m 2023-06-10 09:50:15.500293: W tensorflow/compiler/tf2tensorrt/utils/py_utils.cc:38] TF-TRT Warning: Could not find TensorRT\n"
          ]
        },
        {
          "output_type": "stream",
          "name": "stdout",
          "text": [
            "\u001b[2m\u001b[36m(launch_and_fit pid=24552)\u001b[0m [Client 0, round 46] fit, config: {'server_round': 46, 'local_epochs': 2}\n",
            "\u001b[2m\u001b[36m(launch_and_fit pid=24552)\u001b[0m Epoch 1: train loss 0.030222853645682335, accuracy 0.6635555555555556\n"
          ]
        },
        {
          "output_type": "stream",
          "name": "stderr",
          "text": [
            "DEBUG flwr 2023-06-10 09:50:25,348 | server.py:232 | fit_round 46 received 3 results and 0 failures\n",
            "DEBUG:flwr:fit_round 46 received 3 results and 0 failures\n"
          ]
        },
        {
          "output_type": "stream",
          "name": "stdout",
          "text": [
            "\u001b[2m\u001b[36m(launch_and_fit pid=24552)\u001b[0m Epoch 2: train loss 0.021387752145528793, accuracy 0.7635555555555555\n"
          ]
        },
        {
          "output_type": "stream",
          "name": "stderr",
          "text": [
            "INFO flwr 2023-06-10 09:50:28,746 | server.py:119 | fit progress: (46, 0.040648809206485746, {'accuracy': 0.6142}, 3066.746948556)\n",
            "INFO:flwr:fit progress: (46, 0.040648809206485746, {'accuracy': 0.6142}, 3066.746948556)\n",
            "DEBUG flwr 2023-06-10 09:50:28,758 | server.py:168 | evaluate_round 46: strategy sampled 3 clients (out of 10)\n",
            "DEBUG:flwr:evaluate_round 46: strategy sampled 3 clients (out of 10)\n"
          ]
        },
        {
          "output_type": "stream",
          "name": "stdout",
          "text": [
            "Server-side evaluation loss 0.040648809206485746 / accuracy 0.6142\n"
          ]
        },
        {
          "output_type": "stream",
          "name": "stderr",
          "text": [
            "\u001b[2m\u001b[36m(pid=24678)\u001b[0m 2023-06-10 09:50:37.225033: W tensorflow/compiler/tf2tensorrt/utils/py_utils.cc:38] TF-TRT Warning: Could not find TensorRT\n"
          ]
        },
        {
          "output_type": "stream",
          "name": "stdout",
          "text": [
            "\u001b[2m\u001b[36m(launch_and_evaluate pid=24678)\u001b[0m [Client 8] evaluate, config: {}\n"
          ]
        },
        {
          "output_type": "stream",
          "name": "stderr",
          "text": [
            "\u001b[2m\u001b[36m(pid=24745)\u001b[0m 2023-06-10 09:50:43.252815: W tensorflow/compiler/tf2tensorrt/utils/py_utils.cc:38] TF-TRT Warning: Could not find TensorRT\n"
          ]
        },
        {
          "output_type": "stream",
          "name": "stdout",
          "text": [
            "\u001b[2m\u001b[36m(launch_and_evaluate pid=24745)\u001b[0m [Client 6] evaluate, config: {}\n"
          ]
        },
        {
          "output_type": "stream",
          "name": "stderr",
          "text": [
            "\u001b[2m\u001b[36m(pid=24809)\u001b[0m 2023-06-10 09:50:52.017666: W tensorflow/compiler/tf2tensorrt/utils/py_utils.cc:38] TF-TRT Warning: Could not find TensorRT\n"
          ]
        },
        {
          "output_type": "stream",
          "name": "stdout",
          "text": [
            "\u001b[2m\u001b[36m(launch_and_evaluate pid=24809)\u001b[0m [Client 2] evaluate, config: {}\n"
          ]
        },
        {
          "output_type": "stream",
          "name": "stderr",
          "text": [
            "DEBUG flwr 2023-06-10 09:50:56,466 | server.py:182 | evaluate_round 46 received 3 results and 0 failures\n",
            "DEBUG:flwr:evaluate_round 46 received 3 results and 0 failures\n",
            "DEBUG flwr 2023-06-10 09:50:56,474 | server.py:218 | fit_round 47: strategy sampled 3 clients (out of 10)\n",
            "DEBUG:flwr:fit_round 47: strategy sampled 3 clients (out of 10)\n",
            "\u001b[2m\u001b[36m(pid=24898)\u001b[0m 2023-06-10 09:51:02.178255: W tensorflow/compiler/tf2tensorrt/utils/py_utils.cc:38] TF-TRT Warning: Could not find TensorRT\n"
          ]
        },
        {
          "output_type": "stream",
          "name": "stdout",
          "text": [
            "\u001b[2m\u001b[36m(launch_and_fit pid=24898)\u001b[0m [Client 4, round 47] fit, config: {'server_round': 47, 'local_epochs': 2}\n",
            "\u001b[2m\u001b[36m(launch_and_fit pid=24898)\u001b[0m Epoch 1: train loss 0.022018902003765106, accuracy 0.7477777777777778\n",
            "\u001b[2m\u001b[36m(launch_and_fit pid=24898)\u001b[0m Epoch 2: train loss 0.01384845282882452, accuracy 0.8517777777777777\n"
          ]
        },
        {
          "output_type": "stream",
          "name": "stderr",
          "text": [
            "\u001b[2m\u001b[36m(pid=24988)\u001b[0m 2023-06-10 09:51:13.790645: W tensorflow/compiler/tf2tensorrt/utils/py_utils.cc:38] TF-TRT Warning: Could not find TensorRT\n"
          ]
        },
        {
          "output_type": "stream",
          "name": "stdout",
          "text": [
            "\u001b[2m\u001b[36m(launch_and_fit pid=24988)\u001b[0m [Client 2, round 47] fit, config: {'server_round': 47, 'local_epochs': 2}\n",
            "\u001b[2m\u001b[36m(launch_and_fit pid=24988)\u001b[0m Epoch 1: train loss 0.018394630402326584, accuracy 0.7853333333333333\n",
            "\u001b[2m\u001b[36m(launch_and_fit pid=24988)\u001b[0m Epoch 2: train loss 0.011424176394939423, accuracy 0.8795555555555555\n"
          ]
        },
        {
          "output_type": "stream",
          "name": "stderr",
          "text": [
            "\u001b[2m\u001b[36m(pid=25071)\u001b[0m 2023-06-10 09:51:25.227934: W tensorflow/compiler/tf2tensorrt/utils/py_utils.cc:38] TF-TRT Warning: Could not find TensorRT\n"
          ]
        },
        {
          "output_type": "stream",
          "name": "stdout",
          "text": [
            "\u001b[2m\u001b[36m(launch_and_fit pid=25071)\u001b[0m [Client 1, round 47] fit, config: {'server_round': 47, 'local_epochs': 2}\n",
            "\u001b[2m\u001b[36m(launch_and_fit pid=25071)\u001b[0m Epoch 1: train loss 0.02163723111152649, accuracy 0.7502222222222222\n"
          ]
        },
        {
          "output_type": "stream",
          "name": "stderr",
          "text": [
            "DEBUG flwr 2023-06-10 09:51:32,798 | server.py:232 | fit_round 47 received 3 results and 0 failures\n",
            "DEBUG:flwr:fit_round 47 received 3 results and 0 failures\n"
          ]
        },
        {
          "output_type": "stream",
          "name": "stdout",
          "text": [
            "\u001b[2m\u001b[36m(launch_and_fit pid=25071)\u001b[0m Epoch 2: train loss 0.013622189871966839, accuracy 0.848\n"
          ]
        },
        {
          "output_type": "stream",
          "name": "stderr",
          "text": [
            "INFO flwr 2023-06-10 09:51:37,677 | server.py:119 | fit progress: (47, 0.043603593891859055, {'accuracy': 0.6122}, 3135.6775987449996)\n",
            "INFO:flwr:fit progress: (47, 0.043603593891859055, {'accuracy': 0.6122}, 3135.6775987449996)\n",
            "DEBUG flwr 2023-06-10 09:51:37,681 | server.py:168 | evaluate_round 47: strategy sampled 3 clients (out of 10)\n",
            "DEBUG:flwr:evaluate_round 47: strategy sampled 3 clients (out of 10)\n"
          ]
        },
        {
          "output_type": "stream",
          "name": "stdout",
          "text": [
            "Server-side evaluation loss 0.043603593891859055 / accuracy 0.6122\n"
          ]
        },
        {
          "output_type": "stream",
          "name": "stderr",
          "text": [
            "\u001b[2m\u001b[36m(pid=25195)\u001b[0m 2023-06-10 09:51:43.936494: W tensorflow/compiler/tf2tensorrt/utils/py_utils.cc:38] TF-TRT Warning: Could not find TensorRT\n"
          ]
        },
        {
          "output_type": "stream",
          "name": "stdout",
          "text": [
            "\u001b[2m\u001b[36m(launch_and_evaluate pid=25195)\u001b[0m [Client 5] evaluate, config: {}\n"
          ]
        },
        {
          "output_type": "stream",
          "name": "stderr",
          "text": [
            "\u001b[2m\u001b[36m(pid=25255)\u001b[0m 2023-06-10 09:51:51.833573: W tensorflow/compiler/tf2tensorrt/utils/py_utils.cc:38] TF-TRT Warning: Could not find TensorRT\n"
          ]
        },
        {
          "output_type": "stream",
          "name": "stdout",
          "text": [
            "\u001b[2m\u001b[36m(launch_and_evaluate pid=25255)\u001b[0m [Client 0] evaluate, config: {}\n"
          ]
        },
        {
          "output_type": "stream",
          "name": "stderr",
          "text": [
            "\u001b[2m\u001b[36m(pid=25328)\u001b[0m 2023-06-10 09:51:59.011931: W tensorflow/compiler/tf2tensorrt/utils/py_utils.cc:38] TF-TRT Warning: Could not find TensorRT\n"
          ]
        },
        {
          "output_type": "stream",
          "name": "stdout",
          "text": [
            "\u001b[2m\u001b[36m(launch_and_evaluate pid=25328)\u001b[0m [Client 1] evaluate, config: {}\n"
          ]
        },
        {
          "output_type": "stream",
          "name": "stderr",
          "text": [
            "DEBUG flwr 2023-06-10 09:52:03,264 | server.py:182 | evaluate_round 47 received 3 results and 0 failures\n",
            "DEBUG:flwr:evaluate_round 47 received 3 results and 0 failures\n",
            "DEBUG flwr 2023-06-10 09:52:03,267 | server.py:218 | fit_round 48: strategy sampled 3 clients (out of 10)\n",
            "DEBUG:flwr:fit_round 48: strategy sampled 3 clients (out of 10)\n",
            "\u001b[2m\u001b[36m(pid=25416)\u001b[0m 2023-06-10 09:52:11.527078: W tensorflow/compiler/tf2tensorrt/utils/py_utils.cc:38] TF-TRT Warning: Could not find TensorRT\n"
          ]
        },
        {
          "output_type": "stream",
          "name": "stdout",
          "text": [
            "\u001b[2m\u001b[36m(launch_and_fit pid=25416)\u001b[0m [Client 5, round 48] fit, config: {'server_round': 48, 'local_epochs': 2}\n",
            "\u001b[2m\u001b[36m(launch_and_fit pid=25416)\u001b[0m Epoch 1: train loss 0.0202972199767828, accuracy 0.7628888888888888\n",
            "\u001b[2m\u001b[36m(launch_and_fit pid=25416)\u001b[0m Epoch 2: train loss 0.012029229663312435, accuracy 0.8728888888888889\n"
          ]
        },
        {
          "output_type": "stream",
          "name": "stderr",
          "text": [
            "\u001b[2m\u001b[36m(pid=25497)\u001b[0m 2023-06-10 09:52:21.957788: W tensorflow/compiler/tf2tensorrt/utils/py_utils.cc:38] TF-TRT Warning: Could not find TensorRT\n"
          ]
        },
        {
          "output_type": "stream",
          "name": "stdout",
          "text": [
            "\u001b[2m\u001b[36m(launch_and_fit pid=25497)\u001b[0m [Client 3, round 48] fit, config: {'server_round': 48, 'local_epochs': 2}\n",
            "\u001b[2m\u001b[36m(launch_and_fit pid=25497)\u001b[0m Epoch 1: train loss 0.02833731472492218, accuracy 0.6886666666666666\n",
            "\u001b[2m\u001b[36m(launch_and_fit pid=25497)\u001b[0m Epoch 2: train loss 0.0194250401109457, accuracy 0.786\n"
          ]
        },
        {
          "output_type": "stream",
          "name": "stderr",
          "text": [
            "\u001b[2m\u001b[36m(pid=25586)\u001b[0m 2023-06-10 09:52:32.958013: W tensorflow/compiler/tf2tensorrt/utils/py_utils.cc:38] TF-TRT Warning: Could not find TensorRT\n"
          ]
        },
        {
          "output_type": "stream",
          "name": "stdout",
          "text": [
            "\u001b[2m\u001b[36m(launch_and_fit pid=25586)\u001b[0m [Client 1, round 48] fit, config: {'server_round': 48, 'local_epochs': 2}\n",
            "\u001b[2m\u001b[36m(launch_and_fit pid=25586)\u001b[0m Epoch 1: train loss 0.017202870920300484, accuracy 0.8044444444444444\n"
          ]
        },
        {
          "output_type": "stream",
          "name": "stderr",
          "text": [
            "DEBUG flwr 2023-06-10 09:52:42,580 | server.py:232 | fit_round 48 received 3 results and 0 failures\n",
            "DEBUG:flwr:fit_round 48 received 3 results and 0 failures\n"
          ]
        },
        {
          "output_type": "stream",
          "name": "stdout",
          "text": [
            "\u001b[2m\u001b[36m(launch_and_fit pid=25586)\u001b[0m Epoch 2: train loss 0.011054952628910542, accuracy 0.8815555555555555\n"
          ]
        },
        {
          "output_type": "stream",
          "name": "stderr",
          "text": [
            "INFO flwr 2023-06-10 09:52:45,864 | server.py:119 | fit progress: (48, 0.04375203114151955, {'accuracy': 0.6065}, 3203.864327581)\n",
            "INFO:flwr:fit progress: (48, 0.04375203114151955, {'accuracy': 0.6065}, 3203.864327581)\n",
            "DEBUG flwr 2023-06-10 09:52:45,872 | server.py:168 | evaluate_round 48: strategy sampled 3 clients (out of 10)\n",
            "DEBUG:flwr:evaluate_round 48: strategy sampled 3 clients (out of 10)\n"
          ]
        },
        {
          "output_type": "stream",
          "name": "stdout",
          "text": [
            "Server-side evaluation loss 0.04375203114151955 / accuracy 0.6065\n"
          ]
        },
        {
          "output_type": "stream",
          "name": "stderr",
          "text": [
            "\u001b[2m\u001b[36m(pid=25705)\u001b[0m 2023-06-10 09:52:52.017403: W tensorflow/compiler/tf2tensorrt/utils/py_utils.cc:38] TF-TRT Warning: Could not find TensorRT\n"
          ]
        },
        {
          "output_type": "stream",
          "name": "stdout",
          "text": [
            "\u001b[2m\u001b[36m(launch_and_evaluate pid=25705)\u001b[0m [Client 3] evaluate, config: {}\n"
          ]
        },
        {
          "output_type": "stream",
          "name": "stderr",
          "text": [
            "\u001b[2m\u001b[36m(pid=25778)\u001b[0m 2023-06-10 09:53:00.331520: W tensorflow/compiler/tf2tensorrt/utils/py_utils.cc:38] TF-TRT Warning: Could not find TensorRT\n"
          ]
        },
        {
          "output_type": "stream",
          "name": "stdout",
          "text": [
            "\u001b[2m\u001b[36m(launch_and_evaluate pid=25778)\u001b[0m [Client 4] evaluate, config: {}\n"
          ]
        },
        {
          "output_type": "stream",
          "name": "stderr",
          "text": [
            "\u001b[2m\u001b[36m(pid=25838)\u001b[0m 2023-06-10 09:53:06.457095: W tensorflow/compiler/tf2tensorrt/utils/py_utils.cc:38] TF-TRT Warning: Could not find TensorRT\n"
          ]
        },
        {
          "output_type": "stream",
          "name": "stdout",
          "text": [
            "\u001b[2m\u001b[36m(launch_and_evaluate pid=25838)\u001b[0m [Client 2] evaluate, config: {}\n"
          ]
        },
        {
          "output_type": "stream",
          "name": "stderr",
          "text": [
            "DEBUG flwr 2023-06-10 09:53:14,687 | server.py:182 | evaluate_round 48 received 3 results and 0 failures\n",
            "DEBUG:flwr:evaluate_round 48 received 3 results and 0 failures\n",
            "DEBUG flwr 2023-06-10 09:53:14,699 | server.py:218 | fit_round 49: strategy sampled 3 clients (out of 10)\n",
            "DEBUG:flwr:fit_round 49: strategy sampled 3 clients (out of 10)\n",
            "\u001b[2m\u001b[36m(pid=25941)\u001b[0m 2023-06-10 09:53:21.249437: W tensorflow/compiler/tf2tensorrt/utils/py_utils.cc:38] TF-TRT Warning: Could not find TensorRT\n"
          ]
        },
        {
          "output_type": "stream",
          "name": "stdout",
          "text": [
            "\u001b[2m\u001b[36m(launch_and_fit pid=25941)\u001b[0m [Client 4, round 49] fit, config: {'server_round': 49, 'local_epochs': 2}\n",
            "\u001b[2m\u001b[36m(launch_and_fit pid=25941)\u001b[0m Epoch 1: train loss 0.01944434829056263, accuracy 0.7817777777777778\n",
            "\u001b[2m\u001b[36m(launch_and_fit pid=25941)\u001b[0m Epoch 2: train loss 0.011931787244975567, accuracy 0.8735555555555555\n"
          ]
        },
        {
          "output_type": "stream",
          "name": "stderr",
          "text": [
            "\u001b[2m\u001b[36m(pid=26025)\u001b[0m 2023-06-10 09:53:32.595966: W tensorflow/compiler/tf2tensorrt/utils/py_utils.cc:38] TF-TRT Warning: Could not find TensorRT\n"
          ]
        },
        {
          "output_type": "stream",
          "name": "stdout",
          "text": [
            "\u001b[2m\u001b[36m(launch_and_fit pid=26025)\u001b[0m [Client 3, round 49] fit, config: {'server_round': 49, 'local_epochs': 2}\n",
            "\u001b[2m\u001b[36m(launch_and_fit pid=26025)\u001b[0m Epoch 1: train loss 0.023463815450668335, accuracy 0.7404444444444445\n",
            "\u001b[2m\u001b[36m(launch_and_fit pid=26025)\u001b[0m Epoch 2: train loss 0.01654515601694584, accuracy 0.8182222222222222\n"
          ]
        },
        {
          "output_type": "stream",
          "name": "stderr",
          "text": [
            "\u001b[2m\u001b[36m(pid=26107)\u001b[0m 2023-06-10 09:53:44.372833: W tensorflow/compiler/tf2tensorrt/utils/py_utils.cc:38] TF-TRT Warning: Could not find TensorRT\n"
          ]
        },
        {
          "output_type": "stream",
          "name": "stdout",
          "text": [
            "\u001b[2m\u001b[36m(launch_and_fit pid=26107)\u001b[0m [Client 1, round 49] fit, config: {'server_round': 49, 'local_epochs': 2}\n",
            "\u001b[2m\u001b[36m(launch_and_fit pid=26107)\u001b[0m Epoch 1: train loss 0.01488188374787569, accuracy 0.8288888888888889\n"
          ]
        },
        {
          "output_type": "stream",
          "name": "stderr",
          "text": [
            "DEBUG flwr 2023-06-10 09:53:52,042 | server.py:232 | fit_round 49 received 3 results and 0 failures\n",
            "DEBUG:flwr:fit_round 49 received 3 results and 0 failures\n"
          ]
        },
        {
          "output_type": "stream",
          "name": "stdout",
          "text": [
            "\u001b[2m\u001b[36m(launch_and_fit pid=26107)\u001b[0m Epoch 2: train loss 0.009248770773410797, accuracy 0.9048888888888889\n"
          ]
        },
        {
          "output_type": "stream",
          "name": "stderr",
          "text": [
            "INFO flwr 2023-06-10 09:53:55,349 | server.py:119 | fit progress: (49, 0.04589157683849335, {'accuracy': 0.6045}, 3273.349093127)\n",
            "INFO:flwr:fit progress: (49, 0.04589157683849335, {'accuracy': 0.6045}, 3273.349093127)\n",
            "DEBUG flwr 2023-06-10 09:53:55,356 | server.py:168 | evaluate_round 49: strategy sampled 3 clients (out of 10)\n",
            "DEBUG:flwr:evaluate_round 49: strategy sampled 3 clients (out of 10)\n"
          ]
        },
        {
          "output_type": "stream",
          "name": "stdout",
          "text": [
            "Server-side evaluation loss 0.04589157683849335 / accuracy 0.6045\n"
          ]
        },
        {
          "output_type": "stream",
          "name": "stderr",
          "text": [
            "\u001b[2m\u001b[36m(pid=26237)\u001b[0m 2023-06-10 09:54:03.777315: W tensorflow/compiler/tf2tensorrt/utils/py_utils.cc:38] TF-TRT Warning: Could not find TensorRT\n"
          ]
        },
        {
          "output_type": "stream",
          "name": "stdout",
          "text": [
            "\u001b[2m\u001b[36m(launch_and_evaluate pid=26237)\u001b[0m [Client 7] evaluate, config: {}\n"
          ]
        },
        {
          "output_type": "stream",
          "name": "stderr",
          "text": [
            "\u001b[2m\u001b[36m(pid=26297)\u001b[0m 2023-06-10 09:54:10.046347: W tensorflow/compiler/tf2tensorrt/utils/py_utils.cc:38] TF-TRT Warning: Could not find TensorRT\n"
          ]
        },
        {
          "output_type": "stream",
          "name": "stdout",
          "text": [
            "\u001b[2m\u001b[36m(launch_and_evaluate pid=26297)\u001b[0m [Client 9] evaluate, config: {}\n"
          ]
        },
        {
          "output_type": "stream",
          "name": "stderr",
          "text": [
            "\u001b[2m\u001b[36m(pid=26368)\u001b[0m 2023-06-10 09:54:18.314105: W tensorflow/compiler/tf2tensorrt/utils/py_utils.cc:38] TF-TRT Warning: Could not find TensorRT\n"
          ]
        },
        {
          "output_type": "stream",
          "name": "stdout",
          "text": [
            "\u001b[2m\u001b[36m(launch_and_evaluate pid=26368)\u001b[0m [Client 3] evaluate, config: {}\n"
          ]
        },
        {
          "output_type": "stream",
          "name": "stderr",
          "text": [
            "DEBUG flwr 2023-06-10 09:54:22,424 | server.py:182 | evaluate_round 49 received 3 results and 0 failures\n",
            "DEBUG:flwr:evaluate_round 49 received 3 results and 0 failures\n",
            "DEBUG flwr 2023-06-10 09:54:22,428 | server.py:218 | fit_round 50: strategy sampled 3 clients (out of 10)\n",
            "DEBUG:flwr:fit_round 50: strategy sampled 3 clients (out of 10)\n",
            "\u001b[2m\u001b[36m(pid=26448)\u001b[0m 2023-06-10 09:54:29.720508: W tensorflow/compiler/tf2tensorrt/utils/py_utils.cc:38] TF-TRT Warning: Could not find TensorRT\n"
          ]
        },
        {
          "output_type": "stream",
          "name": "stdout",
          "text": [
            "\u001b[2m\u001b[36m(launch_and_fit pid=26448)\u001b[0m [Client 9, round 50] fit, config: {'server_round': 50, 'local_epochs': 2}\n",
            "\u001b[2m\u001b[36m(launch_and_fit pid=26448)\u001b[0m Epoch 1: train loss 0.02238539047539234, accuracy 0.7506666666666667\n",
            "\u001b[2m\u001b[36m(launch_and_fit pid=26448)\u001b[0m Epoch 2: train loss 0.013912148773670197, accuracy 0.85\n"
          ]
        },
        {
          "output_type": "stream",
          "name": "stderr",
          "text": [
            "\u001b[2m\u001b[36m(pid=26535)\u001b[0m 2023-06-10 09:54:39.869989: W tensorflow/compiler/tf2tensorrt/utils/py_utils.cc:38] TF-TRT Warning: Could not find TensorRT\n"
          ]
        },
        {
          "output_type": "stream",
          "name": "stdout",
          "text": [
            "\u001b[2m\u001b[36m(launch_and_fit pid=26535)\u001b[0m [Client 6, round 50] fit, config: {'server_round': 50, 'local_epochs': 2}\n",
            "\u001b[2m\u001b[36m(launch_and_fit pid=26535)\u001b[0m Epoch 1: train loss 0.028146380558609962, accuracy 0.6895555555555556\n",
            "\u001b[2m\u001b[36m(launch_and_fit pid=26535)\u001b[0m Epoch 2: train loss 0.018336785957217216, accuracy 0.8011111111111111\n"
          ]
        },
        {
          "output_type": "stream",
          "name": "stderr",
          "text": [
            "\u001b[2m\u001b[36m(pid=26621)\u001b[0m 2023-06-10 09:54:51.101440: W tensorflow/compiler/tf2tensorrt/utils/py_utils.cc:38] TF-TRT Warning: Could not find TensorRT\n"
          ]
        },
        {
          "output_type": "stream",
          "name": "stdout",
          "text": [
            "\u001b[2m\u001b[36m(launch_and_fit pid=26621)\u001b[0m [Client 7, round 50] fit, config: {'server_round': 50, 'local_epochs': 2}\n",
            "\u001b[2m\u001b[36m(launch_and_fit pid=26621)\u001b[0m Epoch 1: train loss 0.026107124984264374, accuracy 0.7153333333333334\n"
          ]
        },
        {
          "output_type": "stream",
          "name": "stderr",
          "text": [
            "DEBUG flwr 2023-06-10 09:54:58,841 | server.py:232 | fit_round 50 received 3 results and 0 failures\n",
            "DEBUG:flwr:fit_round 50 received 3 results and 0 failures\n"
          ]
        },
        {
          "output_type": "stream",
          "name": "stdout",
          "text": [
            "\u001b[2m\u001b[36m(launch_and_fit pid=26621)\u001b[0m Epoch 2: train loss 0.017717968672513962, accuracy 0.8048888888888889\n"
          ]
        },
        {
          "output_type": "stream",
          "name": "stderr",
          "text": [
            "INFO flwr 2023-06-10 09:55:03,674 | server.py:119 | fit progress: (50, 0.042506107252836225, {'accuracy': 0.6}, 3341.6745315129997)\n",
            "INFO:flwr:fit progress: (50, 0.042506107252836225, {'accuracy': 0.6}, 3341.6745315129997)\n",
            "DEBUG flwr 2023-06-10 09:55:03,682 | server.py:168 | evaluate_round 50: strategy sampled 3 clients (out of 10)\n",
            "DEBUG:flwr:evaluate_round 50: strategy sampled 3 clients (out of 10)\n"
          ]
        },
        {
          "output_type": "stream",
          "name": "stdout",
          "text": [
            "Server-side evaluation loss 0.042506107252836225 / accuracy 0.6\n"
          ]
        },
        {
          "output_type": "stream",
          "name": "stderr",
          "text": [
            "\u001b[2m\u001b[36m(pid=26739)\u001b[0m 2023-06-10 09:55:09.303909: W tensorflow/compiler/tf2tensorrt/utils/py_utils.cc:38] TF-TRT Warning: Could not find TensorRT\n"
          ]
        },
        {
          "output_type": "stream",
          "name": "stdout",
          "text": [
            "\u001b[2m\u001b[36m(launch_and_evaluate pid=26739)\u001b[0m [Client 3] evaluate, config: {}\n"
          ]
        },
        {
          "output_type": "stream",
          "name": "stderr",
          "text": [
            "\u001b[2m\u001b[36m(pid=26801)\u001b[0m 2023-06-10 09:55:17.251864: W tensorflow/compiler/tf2tensorrt/utils/py_utils.cc:38] TF-TRT Warning: Could not find TensorRT\n"
          ]
        },
        {
          "output_type": "stream",
          "name": "stdout",
          "text": [
            "\u001b[2m\u001b[36m(launch_and_evaluate pid=26801)\u001b[0m [Client 7] evaluate, config: {}\n"
          ]
        },
        {
          "output_type": "stream",
          "name": "stderr",
          "text": [
            "\u001b[2m\u001b[36m(pid=26874)\u001b[0m 2023-06-10 09:55:23.786266: W tensorflow/compiler/tf2tensorrt/utils/py_utils.cc:38] TF-TRT Warning: Could not find TensorRT\n"
          ]
        },
        {
          "output_type": "stream",
          "name": "stdout",
          "text": [
            "\u001b[2m\u001b[36m(launch_and_evaluate pid=26874)\u001b[0m [Client 9] evaluate, config: {}\n"
          ]
        },
        {
          "output_type": "stream",
          "name": "stderr",
          "text": [
            "DEBUG flwr 2023-06-10 09:55:27,892 | server.py:182 | evaluate_round 50 received 3 results and 0 failures\n",
            "DEBUG:flwr:evaluate_round 50 received 3 results and 0 failures\n",
            "DEBUG flwr 2023-06-10 09:55:27,900 | server.py:218 | fit_round 51: strategy sampled 3 clients (out of 10)\n",
            "DEBUG:flwr:fit_round 51: strategy sampled 3 clients (out of 10)\n",
            "\u001b[2m\u001b[36m(pid=26958)\u001b[0m 2023-06-10 09:55:35.867998: W tensorflow/compiler/tf2tensorrt/utils/py_utils.cc:38] TF-TRT Warning: Could not find TensorRT\n"
          ]
        },
        {
          "output_type": "stream",
          "name": "stdout",
          "text": [
            "\u001b[2m\u001b[36m(launch_and_fit pid=26958)\u001b[0m [Client 9, round 51] fit, config: {'server_round': 51, 'local_epochs': 2}\n",
            "\u001b[2m\u001b[36m(launch_and_fit pid=26958)\u001b[0m Epoch 1: train loss 0.0181682538241148, accuracy 0.7953333333333333\n",
            "\u001b[2m\u001b[36m(launch_and_fit pid=26958)\u001b[0m Epoch 2: train loss 0.011391738429665565, accuracy 0.8788888888888889\n"
          ]
        },
        {
          "output_type": "stream",
          "name": "stderr",
          "text": [
            "\u001b[2m\u001b[36m(pid=27040)\u001b[0m 2023-06-10 09:55:46.088840: W tensorflow/compiler/tf2tensorrt/utils/py_utils.cc:38] TF-TRT Warning: Could not find TensorRT\n"
          ]
        },
        {
          "output_type": "stream",
          "name": "stdout",
          "text": [
            "\u001b[2m\u001b[36m(launch_and_fit pid=27040)\u001b[0m [Client 7, round 51] fit, config: {'server_round': 51, 'local_epochs': 2}\n",
            "\u001b[2m\u001b[36m(launch_and_fit pid=27040)\u001b[0m Epoch 1: train loss 0.021554255858063698, accuracy 0.7588888888888888\n",
            "\u001b[2m\u001b[36m(launch_and_fit pid=27040)\u001b[0m Epoch 2: train loss 0.014960854314267635, accuracy 0.8404444444444444\n"
          ]
        },
        {
          "output_type": "stream",
          "name": "stderr",
          "text": [
            "\u001b[2m\u001b[36m(pid=27123)\u001b[0m 2023-06-10 09:55:56.768035: W tensorflow/compiler/tf2tensorrt/utils/py_utils.cc:38] TF-TRT Warning: Could not find TensorRT\n"
          ]
        },
        {
          "output_type": "stream",
          "name": "stdout",
          "text": [
            "\u001b[2m\u001b[36m(launch_and_fit pid=27123)\u001b[0m [Client 2, round 51] fit, config: {'server_round': 51, 'local_epochs': 2}\n",
            "\u001b[2m\u001b[36m(launch_and_fit pid=27123)\u001b[0m Epoch 1: train loss 0.01999661698937416, accuracy 0.7693333333333333\n"
          ]
        },
        {
          "output_type": "stream",
          "name": "stderr",
          "text": [
            "DEBUG flwr 2023-06-10 09:56:05,774 | server.py:232 | fit_round 51 received 3 results and 0 failures\n",
            "DEBUG:flwr:fit_round 51 received 3 results and 0 failures\n"
          ]
        },
        {
          "output_type": "stream",
          "name": "stdout",
          "text": [
            "\u001b[2m\u001b[36m(launch_and_fit pid=27123)\u001b[0m Epoch 2: train loss 0.012000326067209244, accuracy 0.8711111111111111\n"
          ]
        },
        {
          "output_type": "stream",
          "name": "stderr",
          "text": [
            "INFO flwr 2023-06-10 09:56:09,064 | server.py:119 | fit progress: (51, 0.045593941605091094, {'accuracy': 0.6065}, 3407.0641155149997)\n",
            "INFO:flwr:fit progress: (51, 0.045593941605091094, {'accuracy': 0.6065}, 3407.0641155149997)\n",
            "DEBUG flwr 2023-06-10 09:56:09,070 | server.py:168 | evaluate_round 51: strategy sampled 3 clients (out of 10)\n",
            "DEBUG:flwr:evaluate_round 51: strategy sampled 3 clients (out of 10)\n"
          ]
        },
        {
          "output_type": "stream",
          "name": "stdout",
          "text": [
            "Server-side evaluation loss 0.045593941605091094 / accuracy 0.6065\n"
          ]
        },
        {
          "output_type": "stream",
          "name": "stderr",
          "text": [
            "\u001b[2m\u001b[36m(pid=27243)\u001b[0m 2023-06-10 09:56:14.823914: W tensorflow/compiler/tf2tensorrt/utils/py_utils.cc:38] TF-TRT Warning: Could not find TensorRT\n"
          ]
        },
        {
          "output_type": "stream",
          "name": "stdout",
          "text": [
            "\u001b[2m\u001b[36m(launch_and_evaluate pid=27243)\u001b[0m [Client 1] evaluate, config: {}\n"
          ]
        },
        {
          "output_type": "stream",
          "name": "stderr",
          "text": [
            "\u001b[2m\u001b[36m(pid=27312)\u001b[0m 2023-06-10 09:56:25.007760: W tensorflow/compiler/tf2tensorrt/utils/py_utils.cc:38] TF-TRT Warning: Could not find TensorRT\n"
          ]
        },
        {
          "output_type": "stream",
          "name": "stdout",
          "text": [
            "\u001b[2m\u001b[36m(launch_and_evaluate pid=27312)\u001b[0m [Client 8] evaluate, config: {}\n"
          ]
        },
        {
          "output_type": "stream",
          "name": "stderr",
          "text": [
            "\u001b[2m\u001b[36m(pid=27384)\u001b[0m 2023-06-10 09:56:32.717106: W tensorflow/compiler/tf2tensorrt/utils/py_utils.cc:38] TF-TRT Warning: Could not find TensorRT\n"
          ]
        },
        {
          "output_type": "stream",
          "name": "stdout",
          "text": [
            "\u001b[2m\u001b[36m(launch_and_evaluate pid=27384)\u001b[0m [Client 3] evaluate, config: {}\n"
          ]
        },
        {
          "output_type": "stream",
          "name": "stderr",
          "text": [
            "DEBUG flwr 2023-06-10 09:56:37,939 | server.py:182 | evaluate_round 51 received 3 results and 0 failures\n",
            "DEBUG:flwr:evaluate_round 51 received 3 results and 0 failures\n",
            "DEBUG flwr 2023-06-10 09:56:37,949 | server.py:218 | fit_round 52: strategy sampled 3 clients (out of 10)\n",
            "DEBUG:flwr:fit_round 52: strategy sampled 3 clients (out of 10)\n",
            "\u001b[2m\u001b[36m(pid=27475)\u001b[0m 2023-06-10 09:56:43.558817: W tensorflow/compiler/tf2tensorrt/utils/py_utils.cc:38] TF-TRT Warning: Could not find TensorRT\n"
          ]
        },
        {
          "output_type": "stream",
          "name": "stdout",
          "text": [
            "\u001b[2m\u001b[36m(launch_and_fit pid=27475)\u001b[0m [Client 9, round 52] fit, config: {'server_round': 52, 'local_epochs': 2}\n",
            "\u001b[2m\u001b[36m(launch_and_fit pid=27475)\u001b[0m Epoch 1: train loss 0.015045342966914177, accuracy 0.8288888888888889\n",
            "\u001b[2m\u001b[36m(launch_and_fit pid=27475)\u001b[0m Epoch 2: train loss 0.009239282459020615, accuracy 0.9086666666666666\n"
          ]
        },
        {
          "output_type": "stream",
          "name": "stderr",
          "text": [
            "\u001b[2m\u001b[36m(pid=27558)\u001b[0m 2023-06-10 09:56:54.735410: W tensorflow/compiler/tf2tensorrt/utils/py_utils.cc:38] TF-TRT Warning: Could not find TensorRT\n"
          ]
        },
        {
          "output_type": "stream",
          "name": "stdout",
          "text": [
            "\u001b[2m\u001b[36m(launch_and_fit pid=27558)\u001b[0m [Client 1, round 52] fit, config: {'server_round': 52, 'local_epochs': 2}\n",
            "\u001b[2m\u001b[36m(launch_and_fit pid=27558)\u001b[0m Epoch 1: train loss 0.01658560335636139, accuracy 0.8057777777777778\n",
            "\u001b[2m\u001b[36m(launch_and_fit pid=27558)\u001b[0m Epoch 2: train loss 0.009102463722229004, accuracy 0.9035555555555556\n"
          ]
        },
        {
          "output_type": "stream",
          "name": "stderr",
          "text": [
            "\u001b[2m\u001b[36m(pid=27638)\u001b[0m 2023-06-10 09:57:05.753540: W tensorflow/compiler/tf2tensorrt/utils/py_utils.cc:38] TF-TRT Warning: Could not find TensorRT\n"
          ]
        },
        {
          "output_type": "stream",
          "name": "stdout",
          "text": [
            "\u001b[2m\u001b[36m(launch_and_fit pid=27638)\u001b[0m [Client 3, round 52] fit, config: {'server_round': 52, 'local_epochs': 2}\n",
            "\u001b[2m\u001b[36m(launch_and_fit pid=27638)\u001b[0m Epoch 1: train loss 0.024109376594424248, accuracy 0.7328888888888889\n"
          ]
        },
        {
          "output_type": "stream",
          "name": "stderr",
          "text": [
            "DEBUG flwr 2023-06-10 09:57:13,477 | server.py:232 | fit_round 52 received 3 results and 0 failures\n",
            "DEBUG:flwr:fit_round 52 received 3 results and 0 failures\n"
          ]
        },
        {
          "output_type": "stream",
          "name": "stdout",
          "text": [
            "\u001b[2m\u001b[36m(launch_and_fit pid=27638)\u001b[0m Epoch 2: train loss 0.015805363655090332, accuracy 0.8286666666666667\n"
          ]
        },
        {
          "output_type": "stream",
          "name": "stderr",
          "text": [
            "INFO flwr 2023-06-10 09:57:16,715 | server.py:119 | fit progress: (52, 0.0478902044326067, {'accuracy': 0.6081}, 3474.715164512)\n",
            "INFO:flwr:fit progress: (52, 0.0478902044326067, {'accuracy': 0.6081}, 3474.715164512)\n",
            "DEBUG flwr 2023-06-10 09:57:16,724 | server.py:168 | evaluate_round 52: strategy sampled 3 clients (out of 10)\n",
            "DEBUG:flwr:evaluate_round 52: strategy sampled 3 clients (out of 10)\n"
          ]
        },
        {
          "output_type": "stream",
          "name": "stdout",
          "text": [
            "Server-side evaluation loss 0.0478902044326067 / accuracy 0.6081\n"
          ]
        },
        {
          "output_type": "stream",
          "name": "stderr",
          "text": [
            "\u001b[2m\u001b[36m(pid=27766)\u001b[0m 2023-06-10 09:57:24.782106: W tensorflow/compiler/tf2tensorrt/utils/py_utils.cc:38] TF-TRT Warning: Could not find TensorRT\n"
          ]
        },
        {
          "output_type": "stream",
          "name": "stdout",
          "text": [
            "\u001b[2m\u001b[36m(launch_and_evaluate pid=27766)\u001b[0m [Client 7] evaluate, config: {}\n"
          ]
        },
        {
          "output_type": "stream",
          "name": "stderr",
          "text": [
            "\u001b[2m\u001b[36m(pid=27826)\u001b[0m 2023-06-10 09:57:31.066893: W tensorflow/compiler/tf2tensorrt/utils/py_utils.cc:38] TF-TRT Warning: Could not find TensorRT\n"
          ]
        },
        {
          "output_type": "stream",
          "name": "stdout",
          "text": [
            "\u001b[2m\u001b[36m(launch_and_evaluate pid=27826)\u001b[0m [Client 2] evaluate, config: {}\n"
          ]
        },
        {
          "output_type": "stream",
          "name": "stderr",
          "text": [
            "\u001b[2m\u001b[36m(pid=27895)\u001b[0m 2023-06-10 09:57:39.119224: W tensorflow/compiler/tf2tensorrt/utils/py_utils.cc:38] TF-TRT Warning: Could not find TensorRT\n"
          ]
        },
        {
          "output_type": "stream",
          "name": "stdout",
          "text": [
            "\u001b[2m\u001b[36m(launch_and_evaluate pid=27895)\u001b[0m [Client 4] evaluate, config: {}\n"
          ]
        },
        {
          "output_type": "stream",
          "name": "stderr",
          "text": [
            "DEBUG flwr 2023-06-10 09:57:43,189 | server.py:182 | evaluate_round 52 received 3 results and 0 failures\n",
            "DEBUG:flwr:evaluate_round 52 received 3 results and 0 failures\n",
            "DEBUG flwr 2023-06-10 09:57:43,198 | server.py:218 | fit_round 53: strategy sampled 3 clients (out of 10)\n",
            "DEBUG:flwr:fit_round 53: strategy sampled 3 clients (out of 10)\n",
            "\u001b[2m\u001b[36m(pid=27977)\u001b[0m 2023-06-10 09:57:49.899702: W tensorflow/compiler/tf2tensorrt/utils/py_utils.cc:38] TF-TRT Warning: Could not find TensorRT\n"
          ]
        },
        {
          "output_type": "stream",
          "name": "stdout",
          "text": [
            "\u001b[2m\u001b[36m(launch_and_fit pid=27977)\u001b[0m [Client 5, round 53] fit, config: {'server_round': 53, 'local_epochs': 2}\n",
            "\u001b[2m\u001b[36m(launch_and_fit pid=27977)\u001b[0m Epoch 1: train loss 0.022755315527319908, accuracy 0.7406666666666667\n",
            "\u001b[2m\u001b[36m(launch_and_fit pid=27977)\u001b[0m Epoch 2: train loss 0.012836499139666557, accuracy 0.8582222222222222\n"
          ]
        },
        {
          "output_type": "stream",
          "name": "stderr",
          "text": [
            "\u001b[2m\u001b[36m(pid=28060)\u001b[0m 2023-06-10 09:58:00.300587: W tensorflow/compiler/tf2tensorrt/utils/py_utils.cc:38] TF-TRT Warning: Could not find TensorRT\n"
          ]
        },
        {
          "output_type": "stream",
          "name": "stdout",
          "text": [
            "\u001b[2m\u001b[36m(launch_and_fit pid=28060)\u001b[0m [Client 1, round 53] fit, config: {'server_round': 53, 'local_epochs': 2}\n",
            "\u001b[2m\u001b[36m(launch_and_fit pid=28060)\u001b[0m Epoch 1: train loss 0.013470077887177467, accuracy 0.848\n",
            "\u001b[2m\u001b[36m(launch_and_fit pid=28060)\u001b[0m Epoch 2: train loss 0.007412116974592209, accuracy 0.9215555555555556\n"
          ]
        },
        {
          "output_type": "stream",
          "name": "stderr",
          "text": [
            "\u001b[2m\u001b[36m(pid=28144)\u001b[0m 2023-06-10 09:58:11.444232: W tensorflow/compiler/tf2tensorrt/utils/py_utils.cc:38] TF-TRT Warning: Could not find TensorRT\n"
          ]
        },
        {
          "output_type": "stream",
          "name": "stdout",
          "text": [
            "\u001b[2m\u001b[36m(launch_and_fit pid=28144)\u001b[0m [Client 4, round 53] fit, config: {'server_round': 53, 'local_epochs': 2}\n",
            "\u001b[2m\u001b[36m(launch_and_fit pid=28144)\u001b[0m Epoch 1: train loss 0.02046665921807289, accuracy 0.7715555555555556\n"
          ]
        },
        {
          "output_type": "stream",
          "name": "stderr",
          "text": [
            "DEBUG flwr 2023-06-10 09:58:19,120 | server.py:232 | fit_round 53 received 3 results and 0 failures\n",
            "DEBUG:flwr:fit_round 53 received 3 results and 0 failures\n"
          ]
        },
        {
          "output_type": "stream",
          "name": "stdout",
          "text": [
            "\u001b[2m\u001b[36m(launch_and_fit pid=28144)\u001b[0m Epoch 2: train loss 0.011751262471079826, accuracy 0.8708888888888889\n"
          ]
        },
        {
          "output_type": "stream",
          "name": "stderr",
          "text": [
            "INFO flwr 2023-06-10 09:58:24,045 | server.py:119 | fit progress: (53, 0.04860851953625679, {'accuracy': 0.6038}, 3542.045390108)\n",
            "INFO:flwr:fit progress: (53, 0.04860851953625679, {'accuracy': 0.6038}, 3542.045390108)\n",
            "DEBUG flwr 2023-06-10 09:58:24,053 | server.py:168 | evaluate_round 53: strategy sampled 3 clients (out of 10)\n",
            "DEBUG:flwr:evaluate_round 53: strategy sampled 3 clients (out of 10)\n"
          ]
        },
        {
          "output_type": "stream",
          "name": "stdout",
          "text": [
            "Server-side evaluation loss 0.04860851953625679 / accuracy 0.6038\n"
          ]
        },
        {
          "output_type": "stream",
          "name": "stderr",
          "text": [
            "\u001b[2m\u001b[36m(pid=28264)\u001b[0m 2023-06-10 09:58:29.615553: W tensorflow/compiler/tf2tensorrt/utils/py_utils.cc:38] TF-TRT Warning: Could not find TensorRT\n"
          ]
        },
        {
          "output_type": "stream",
          "name": "stdout",
          "text": [
            "\u001b[2m\u001b[36m(launch_and_evaluate pid=28264)\u001b[0m [Client 5] evaluate, config: {}\n"
          ]
        },
        {
          "output_type": "stream",
          "name": "stderr",
          "text": [
            "\u001b[2m\u001b[36m(pid=28328)\u001b[0m 2023-06-10 09:58:37.429645: W tensorflow/compiler/tf2tensorrt/utils/py_utils.cc:38] TF-TRT Warning: Could not find TensorRT\n"
          ]
        },
        {
          "output_type": "stream",
          "name": "stdout",
          "text": [
            "\u001b[2m\u001b[36m(launch_and_evaluate pid=28328)\u001b[0m [Client 6] evaluate, config: {}\n"
          ]
        },
        {
          "output_type": "stream",
          "name": "stderr",
          "text": [
            "\u001b[2m\u001b[36m(pid=28399)\u001b[0m 2023-06-10 09:58:44.087305: W tensorflow/compiler/tf2tensorrt/utils/py_utils.cc:38] TF-TRT Warning: Could not find TensorRT\n"
          ]
        },
        {
          "output_type": "stream",
          "name": "stdout",
          "text": [
            "\u001b[2m\u001b[36m(launch_and_evaluate pid=28399)\u001b[0m [Client 3] evaluate, config: {}\n"
          ]
        },
        {
          "output_type": "stream",
          "name": "stderr",
          "text": [
            "DEBUG flwr 2023-06-10 09:58:48,369 | server.py:182 | evaluate_round 53 received 3 results and 0 failures\n",
            "DEBUG:flwr:evaluate_round 53 received 3 results and 0 failures\n",
            "DEBUG flwr 2023-06-10 09:58:48,374 | server.py:218 | fit_round 54: strategy sampled 3 clients (out of 10)\n",
            "DEBUG:flwr:fit_round 54: strategy sampled 3 clients (out of 10)\n",
            "\u001b[2m\u001b[36m(pid=28487)\u001b[0m 2023-06-10 09:58:56.260813: W tensorflow/compiler/tf2tensorrt/utils/py_utils.cc:38] TF-TRT Warning: Could not find TensorRT\n"
          ]
        },
        {
          "output_type": "stream",
          "name": "stdout",
          "text": [
            "\u001b[2m\u001b[36m(launch_and_fit pid=28487)\u001b[0m [Client 6, round 54] fit, config: {'server_round': 54, 'local_epochs': 2}\n",
            "\u001b[2m\u001b[36m(launch_and_fit pid=28487)\u001b[0m Epoch 1: train loss 0.027355069294571877, accuracy 0.702\n",
            "\u001b[2m\u001b[36m(launch_and_fit pid=28487)\u001b[0m Epoch 2: train loss 0.017054855823516846, accuracy 0.8091111111111111\n"
          ]
        },
        {
          "output_type": "stream",
          "name": "stderr",
          "text": [
            "\u001b[2m\u001b[36m(pid=28563)\u001b[0m 2023-06-10 09:59:05.941073: W tensorflow/compiler/tf2tensorrt/utils/py_utils.cc:38] TF-TRT Warning: Could not find TensorRT\n"
          ]
        },
        {
          "output_type": "stream",
          "name": "stdout",
          "text": [
            "\u001b[2m\u001b[36m(launch_and_fit pid=28563)\u001b[0m [Client 7, round 54] fit, config: {'server_round': 54, 'local_epochs': 2}\n",
            "\u001b[2m\u001b[36m(launch_and_fit pid=28563)\u001b[0m Epoch 1: train loss 0.02203661948442459, accuracy 0.7486666666666667\n",
            "\u001b[2m\u001b[36m(launch_and_fit pid=28563)\u001b[0m Epoch 2: train loss 0.013843159191310406, accuracy 0.8533333333333334\n"
          ]
        },
        {
          "output_type": "stream",
          "name": "stderr",
          "text": [
            "\u001b[2m\u001b[36m(pid=28655)\u001b[0m 2023-06-10 09:59:17.013227: W tensorflow/compiler/tf2tensorrt/utils/py_utils.cc:38] TF-TRT Warning: Could not find TensorRT\n"
          ]
        },
        {
          "output_type": "stream",
          "name": "stdout",
          "text": [
            "\u001b[2m\u001b[36m(launch_and_fit pid=28655)\u001b[0m [Client 9, round 54] fit, config: {'server_round': 54, 'local_epochs': 2}\n",
            "\u001b[2m\u001b[36m(launch_and_fit pid=28655)\u001b[0m Epoch 1: train loss 0.015513663180172443, accuracy 0.824\n"
          ]
        },
        {
          "output_type": "stream",
          "name": "stderr",
          "text": [
            "DEBUG flwr 2023-06-10 09:59:26,190 | server.py:232 | fit_round 54 received 3 results and 0 failures\n",
            "DEBUG:flwr:fit_round 54 received 3 results and 0 failures\n"
          ]
        },
        {
          "output_type": "stream",
          "name": "stdout",
          "text": [
            "\u001b[2m\u001b[36m(launch_and_fit pid=28655)\u001b[0m Epoch 2: train loss 0.008586281910538673, accuracy 0.9095555555555556\n"
          ]
        },
        {
          "output_type": "stream",
          "name": "stderr",
          "text": [
            "INFO flwr 2023-06-10 09:59:29,360 | server.py:119 | fit progress: (54, 0.046973017278313635, {'accuracy': 0.6017}, 3607.360960687)\n",
            "INFO:flwr:fit progress: (54, 0.046973017278313635, {'accuracy': 0.6017}, 3607.360960687)\n",
            "DEBUG flwr 2023-06-10 09:59:29,364 | server.py:168 | evaluate_round 54: strategy sampled 3 clients (out of 10)\n",
            "DEBUG:flwr:evaluate_round 54: strategy sampled 3 clients (out of 10)\n"
          ]
        },
        {
          "output_type": "stream",
          "name": "stdout",
          "text": [
            "Server-side evaluation loss 0.046973017278313635 / accuracy 0.6017\n"
          ]
        },
        {
          "output_type": "stream",
          "name": "stderr",
          "text": [
            "\u001b[2m\u001b[36m(pid=28772)\u001b[0m 2023-06-10 09:59:38.162869: W tensorflow/compiler/tf2tensorrt/utils/py_utils.cc:38] TF-TRT Warning: Could not find TensorRT\n"
          ]
        },
        {
          "output_type": "stream",
          "name": "stdout",
          "text": [
            "\u001b[2m\u001b[36m(launch_and_evaluate pid=28772)\u001b[0m [Client 7] evaluate, config: {}\n"
          ]
        },
        {
          "output_type": "stream",
          "name": "stderr",
          "text": [
            "\u001b[2m\u001b[36m(pid=28851)\u001b[0m 2023-06-10 09:59:45.744896: W tensorflow/compiler/tf2tensorrt/utils/py_utils.cc:38] TF-TRT Warning: Could not find TensorRT\n"
          ]
        },
        {
          "output_type": "stream",
          "name": "stdout",
          "text": [
            "\u001b[2m\u001b[36m(launch_and_evaluate pid=28851)\u001b[0m [Client 2] evaluate, config: {}\n"
          ]
        },
        {
          "output_type": "stream",
          "name": "stderr",
          "text": [
            "\u001b[2m\u001b[36m(pid=28911)\u001b[0m 2023-06-10 09:59:51.696479: W tensorflow/compiler/tf2tensorrt/utils/py_utils.cc:38] TF-TRT Warning: Could not find TensorRT\n"
          ]
        },
        {
          "output_type": "stream",
          "name": "stdout",
          "text": [
            "\u001b[2m\u001b[36m(launch_and_evaluate pid=28911)\u001b[0m [Client 4] evaluate, config: {}\n"
          ]
        },
        {
          "output_type": "stream",
          "name": "stderr",
          "text": [
            "DEBUG flwr 2023-06-10 09:59:57,856 | server.py:182 | evaluate_round 54 received 3 results and 0 failures\n",
            "DEBUG:flwr:evaluate_round 54 received 3 results and 0 failures\n",
            "DEBUG flwr 2023-06-10 09:59:57,861 | server.py:218 | fit_round 55: strategy sampled 3 clients (out of 10)\n",
            "DEBUG:flwr:fit_round 55: strategy sampled 3 clients (out of 10)\n",
            "\u001b[2m\u001b[36m(pid=29001)\u001b[0m 2023-06-10 10:00:03.498176: W tensorflow/compiler/tf2tensorrt/utils/py_utils.cc:38] TF-TRT Warning: Could not find TensorRT\n"
          ]
        },
        {
          "output_type": "stream",
          "name": "stdout",
          "text": [
            "\u001b[2m\u001b[36m(launch_and_fit pid=29001)\u001b[0m [Client 9, round 55] fit, config: {'server_round': 55, 'local_epochs': 2}\n",
            "\u001b[2m\u001b[36m(launch_and_fit pid=29001)\u001b[0m Epoch 1: train loss 0.012285992503166199, accuracy 0.8595555555555555\n",
            "\u001b[2m\u001b[36m(launch_and_fit pid=29001)\u001b[0m Epoch 2: train loss 0.0071571809239685535, accuracy 0.9277777777777778\n"
          ]
        },
        {
          "output_type": "stream",
          "name": "stderr",
          "text": [
            "\u001b[2m\u001b[36m(pid=29080)\u001b[0m 2023-06-10 10:00:14.459415: W tensorflow/compiler/tf2tensorrt/utils/py_utils.cc:38] TF-TRT Warning: Could not find TensorRT\n"
          ]
        },
        {
          "output_type": "stream",
          "name": "stdout",
          "text": [
            "\u001b[2m\u001b[36m(launch_and_fit pid=29080)\u001b[0m [Client 6, round 55] fit, config: {'server_round': 55, 'local_epochs': 2}\n",
            "\u001b[2m\u001b[36m(launch_and_fit pid=29080)\u001b[0m Epoch 1: train loss 0.021600879728794098, accuracy 0.7535555555555555\n",
            "\u001b[2m\u001b[36m(launch_and_fit pid=29080)\u001b[0m Epoch 2: train loss 0.014145064167678356, accuracy 0.8428888888888889\n"
          ]
        },
        {
          "output_type": "stream",
          "name": "stderr",
          "text": [
            "\u001b[2m\u001b[36m(pid=29162)\u001b[0m 2023-06-10 10:00:24.293298: W tensorflow/compiler/tf2tensorrt/utils/py_utils.cc:38] TF-TRT Warning: Could not find TensorRT\n"
          ]
        },
        {
          "output_type": "stream",
          "name": "stdout",
          "text": [
            "\u001b[2m\u001b[36m(launch_and_fit pid=29162)\u001b[0m [Client 5, round 55] fit, config: {'server_round': 55, 'local_epochs': 2}\n",
            "\u001b[2m\u001b[36m(launch_and_fit pid=29162)\u001b[0m Epoch 1: train loss 0.019180888310074806, accuracy 0.7817777777777778\n"
          ]
        },
        {
          "output_type": "stream",
          "name": "stderr",
          "text": [
            "DEBUG flwr 2023-06-10 10:00:33,330 | server.py:232 | fit_round 55 received 3 results and 0 failures\n",
            "DEBUG:flwr:fit_round 55 received 3 results and 0 failures\n"
          ]
        },
        {
          "output_type": "stream",
          "name": "stdout",
          "text": [
            "\u001b[2m\u001b[36m(launch_and_fit pid=29162)\u001b[0m Epoch 2: train loss 0.011062785051763058, accuracy 0.8793333333333333\n"
          ]
        },
        {
          "output_type": "stream",
          "name": "stderr",
          "text": [
            "INFO flwr 2023-06-10 10:00:36,595 | server.py:119 | fit progress: (55, 0.0495817792147398, {'accuracy': 0.6041}, 3674.595865324)\n",
            "INFO:flwr:fit progress: (55, 0.0495817792147398, {'accuracy': 0.6041}, 3674.595865324)\n",
            "DEBUG flwr 2023-06-10 10:00:36,611 | server.py:168 | evaluate_round 55: strategy sampled 3 clients (out of 10)\n",
            "DEBUG:flwr:evaluate_round 55: strategy sampled 3 clients (out of 10)\n"
          ]
        },
        {
          "output_type": "stream",
          "name": "stdout",
          "text": [
            "Server-side evaluation loss 0.0495817792147398 / accuracy 0.6041\n"
          ]
        },
        {
          "output_type": "stream",
          "name": "stderr",
          "text": [
            "\u001b[2m\u001b[36m(pid=29289)\u001b[0m 2023-06-10 10:00:44.778991: W tensorflow/compiler/tf2tensorrt/utils/py_utils.cc:38] TF-TRT Warning: Could not find TensorRT\n"
          ]
        },
        {
          "output_type": "stream",
          "name": "stdout",
          "text": [
            "\u001b[2m\u001b[36m(launch_and_evaluate pid=29289)\u001b[0m [Client 7] evaluate, config: {}\n"
          ]
        },
        {
          "output_type": "stream",
          "name": "stderr",
          "text": [
            "\u001b[2m\u001b[36m(pid=29355)\u001b[0m 2023-06-10 10:00:51.024254: W tensorflow/compiler/tf2tensorrt/utils/py_utils.cc:38] TF-TRT Warning: Could not find TensorRT\n"
          ]
        },
        {
          "output_type": "stream",
          "name": "stdout",
          "text": [
            "\u001b[2m\u001b[36m(launch_and_evaluate pid=29355)\u001b[0m [Client 3] evaluate, config: {}\n"
          ]
        },
        {
          "output_type": "stream",
          "name": "stderr",
          "text": [
            "\u001b[2m\u001b[36m(pid=29415)\u001b[0m 2023-06-10 10:00:59.160715: W tensorflow/compiler/tf2tensorrt/utils/py_utils.cc:38] TF-TRT Warning: Could not find TensorRT\n"
          ]
        },
        {
          "output_type": "stream",
          "name": "stdout",
          "text": [
            "\u001b[2m\u001b[36m(launch_and_evaluate pid=29415)\u001b[0m [Client 9] evaluate, config: {}\n"
          ]
        },
        {
          "output_type": "stream",
          "name": "stderr",
          "text": [
            "DEBUG flwr 2023-06-10 10:01:03,359 | server.py:182 | evaluate_round 55 received 3 results and 0 failures\n",
            "DEBUG:flwr:evaluate_round 55 received 3 results and 0 failures\n",
            "DEBUG flwr 2023-06-10 10:01:03,363 | server.py:218 | fit_round 56: strategy sampled 3 clients (out of 10)\n",
            "DEBUG:flwr:fit_round 56: strategy sampled 3 clients (out of 10)\n",
            "\u001b[2m\u001b[36m(pid=29504)\u001b[0m 2023-06-10 10:01:08.955636: W tensorflow/compiler/tf2tensorrt/utils/py_utils.cc:38] TF-TRT Warning: Could not find TensorRT\n"
          ]
        },
        {
          "output_type": "stream",
          "name": "stdout",
          "text": [
            "\u001b[2m\u001b[36m(launch_and_fit pid=29504)\u001b[0m [Client 7, round 56] fit, config: {'server_round': 56, 'local_epochs': 2}\n",
            "\u001b[2m\u001b[36m(launch_and_fit pid=29504)\u001b[0m Epoch 1: train loss 0.020856279879808426, accuracy 0.7633333333333333\n",
            "\u001b[2m\u001b[36m(launch_and_fit pid=29504)\u001b[0m Epoch 2: train loss 0.01300582941621542, accuracy 0.862\n"
          ]
        },
        {
          "output_type": "stream",
          "name": "stderr",
          "text": [
            "\u001b[2m\u001b[36m(pid=29589)\u001b[0m 2023-06-10 10:01:20.317854: W tensorflow/compiler/tf2tensorrt/utils/py_utils.cc:38] TF-TRT Warning: Could not find TensorRT\n"
          ]
        },
        {
          "output_type": "stream",
          "name": "stdout",
          "text": [
            "\u001b[2m\u001b[36m(launch_and_fit pid=29589)\u001b[0m [Client 0, round 56] fit, config: {'server_round': 56, 'local_epochs': 2}\n",
            "\u001b[2m\u001b[36m(launch_and_fit pid=29589)\u001b[0m Epoch 1: train loss 0.031675416976213455, accuracy 0.6546666666666666\n",
            "\u001b[2m\u001b[36m(launch_and_fit pid=29589)\u001b[0m Epoch 2: train loss 0.020886490121483803, accuracy 0.7628888888888888\n"
          ]
        },
        {
          "output_type": "stream",
          "name": "stderr",
          "text": [
            "\u001b[2m\u001b[36m(pid=29673)\u001b[0m 2023-06-10 10:01:31.538161: W tensorflow/compiler/tf2tensorrt/utils/py_utils.cc:38] TF-TRT Warning: Could not find TensorRT\n"
          ]
        },
        {
          "output_type": "stream",
          "name": "stdout",
          "text": [
            "\u001b[2m\u001b[36m(launch_and_fit pid=29673)\u001b[0m [Client 4, round 56] fit, config: {'server_round': 56, 'local_epochs': 2}\n",
            "\u001b[2m\u001b[36m(launch_and_fit pid=29673)\u001b[0m Epoch 1: train loss 0.019679363816976547, accuracy 0.7782222222222223\n"
          ]
        },
        {
          "output_type": "stream",
          "name": "stderr",
          "text": [
            "DEBUG flwr 2023-06-10 10:01:38,515 | server.py:232 | fit_round 56 received 3 results and 0 failures\n",
            "DEBUG:flwr:fit_round 56 received 3 results and 0 failures\n"
          ]
        },
        {
          "output_type": "stream",
          "name": "stdout",
          "text": [
            "\u001b[2m\u001b[36m(launch_and_fit pid=29673)\u001b[0m Epoch 2: train loss 0.011353209614753723, accuracy 0.878\n"
          ]
        },
        {
          "output_type": "stream",
          "name": "stderr",
          "text": [
            "INFO flwr 2023-06-10 10:01:42,229 | server.py:119 | fit progress: (56, 0.04425684772729874, {'accuracy': 0.6032}, 3740.2295280109997)\n",
            "INFO:flwr:fit progress: (56, 0.04425684772729874, {'accuracy': 0.6032}, 3740.2295280109997)\n",
            "DEBUG flwr 2023-06-10 10:01:42,235 | server.py:168 | evaluate_round 56: strategy sampled 3 clients (out of 10)\n",
            "DEBUG:flwr:evaluate_round 56: strategy sampled 3 clients (out of 10)\n"
          ]
        },
        {
          "output_type": "stream",
          "name": "stdout",
          "text": [
            "Server-side evaluation loss 0.04425684772729874 / accuracy 0.6032\n"
          ]
        },
        {
          "output_type": "stream",
          "name": "stderr",
          "text": [
            "\u001b[2m\u001b[36m(pid=29793)\u001b[0m 2023-06-10 10:01:49.366136: W tensorflow/compiler/tf2tensorrt/utils/py_utils.cc:38] TF-TRT Warning: Could not find TensorRT\n"
          ]
        },
        {
          "output_type": "stream",
          "name": "stdout",
          "text": [
            "\u001b[2m\u001b[36m(launch_and_evaluate pid=29793)\u001b[0m [Client 2] evaluate, config: {}\n"
          ]
        },
        {
          "output_type": "stream",
          "name": "stderr",
          "text": [
            "\u001b[2m\u001b[36m(pid=29853)\u001b[0m 2023-06-10 10:01:55.671113: W tensorflow/compiler/tf2tensorrt/utils/py_utils.cc:38] TF-TRT Warning: Could not find TensorRT\n"
          ]
        },
        {
          "output_type": "stream",
          "name": "stdout",
          "text": [
            "\u001b[2m\u001b[36m(launch_and_evaluate pid=29853)\u001b[0m [Client 0] evaluate, config: {}\n"
          ]
        },
        {
          "output_type": "stream",
          "name": "stderr",
          "text": [
            "\u001b[2m\u001b[36m(pid=29926)\u001b[0m 2023-06-10 10:02:03.993055: W tensorflow/compiler/tf2tensorrt/utils/py_utils.cc:38] TF-TRT Warning: Could not find TensorRT\n"
          ]
        },
        {
          "output_type": "stream",
          "name": "stdout",
          "text": [
            "\u001b[2m\u001b[36m(launch_and_evaluate pid=29926)\u001b[0m [Client 9] evaluate, config: {}\n"
          ]
        },
        {
          "output_type": "stream",
          "name": "stderr",
          "text": [
            "DEBUG flwr 2023-06-10 10:02:08,103 | server.py:182 | evaluate_round 56 received 3 results and 0 failures\n",
            "DEBUG:flwr:evaluate_round 56 received 3 results and 0 failures\n",
            "DEBUG flwr 2023-06-10 10:02:08,108 | server.py:218 | fit_round 57: strategy sampled 3 clients (out of 10)\n",
            "DEBUG:flwr:fit_round 57: strategy sampled 3 clients (out of 10)\n",
            "\u001b[2m\u001b[36m(pid=30006)\u001b[0m 2023-06-10 10:02:15.942283: W tensorflow/compiler/tf2tensorrt/utils/py_utils.cc:38] TF-TRT Warning: Could not find TensorRT\n"
          ]
        },
        {
          "output_type": "stream",
          "name": "stdout",
          "text": [
            "\u001b[2m\u001b[36m(launch_and_fit pid=30006)\u001b[0m [Client 0, round 57] fit, config: {'server_round': 57, 'local_epochs': 2}\n",
            "\u001b[2m\u001b[36m(launch_and_fit pid=30006)\u001b[0m Epoch 1: train loss 0.025099867954850197, accuracy 0.7111111111111111\n",
            "\u001b[2m\u001b[36m(launch_and_fit pid=30006)\u001b[0m Epoch 2: train loss 0.017497437074780464, accuracy 0.8035555555555556\n"
          ]
        },
        {
          "output_type": "stream",
          "name": "stderr",
          "text": [
            "\u001b[2m\u001b[36m(pid=30091)\u001b[0m 2023-06-10 10:02:25.431081: W tensorflow/compiler/tf2tensorrt/utils/py_utils.cc:38] TF-TRT Warning: Could not find TensorRT\n"
          ]
        },
        {
          "output_type": "stream",
          "name": "stdout",
          "text": [
            "\u001b[2m\u001b[36m(launch_and_fit pid=30091)\u001b[0m [Client 2, round 57] fit, config: {'server_round': 57, 'local_epochs': 2}\n",
            "\u001b[2m\u001b[36m(launch_and_fit pid=30091)\u001b[0m Epoch 1: train loss 0.02143693156540394, accuracy 0.7593333333333333\n",
            "\u001b[2m\u001b[36m(launch_and_fit pid=30091)\u001b[0m Epoch 2: train loss 0.012501438148319721, accuracy 0.8653333333333333\n"
          ]
        },
        {
          "output_type": "stream",
          "name": "stderr",
          "text": [
            "\u001b[2m\u001b[36m(pid=30176)\u001b[0m 2023-06-10 10:02:36.854578: W tensorflow/compiler/tf2tensorrt/utils/py_utils.cc:38] TF-TRT Warning: Could not find TensorRT\n"
          ]
        },
        {
          "output_type": "stream",
          "name": "stdout",
          "text": [
            "\u001b[2m\u001b[36m(launch_and_fit pid=30176)\u001b[0m [Client 3, round 57] fit, config: {'server_round': 57, 'local_epochs': 2}\n",
            "\u001b[2m\u001b[36m(launch_and_fit pid=30176)\u001b[0m Epoch 1: train loss 0.024755673483014107, accuracy 0.7264444444444444\n"
          ]
        },
        {
          "output_type": "stream",
          "name": "stderr",
          "text": [
            "DEBUG flwr 2023-06-10 10:02:46,405 | server.py:232 | fit_round 57 received 3 results and 0 failures\n",
            "DEBUG:flwr:fit_round 57 received 3 results and 0 failures\n"
          ]
        },
        {
          "output_type": "stream",
          "name": "stdout",
          "text": [
            "\u001b[2m\u001b[36m(launch_and_fit pid=30176)\u001b[0m Epoch 2: train loss 0.015941591933369637, accuracy 0.8295555555555556\n"
          ]
        },
        {
          "output_type": "stream",
          "name": "stderr",
          "text": [
            "INFO flwr 2023-06-10 10:02:51,984 | server.py:119 | fit progress: (57, 0.044667552053928375, {'accuracy': 0.6078}, 3809.984829658)\n",
            "INFO:flwr:fit progress: (57, 0.044667552053928375, {'accuracy': 0.6078}, 3809.984829658)\n",
            "DEBUG flwr 2023-06-10 10:02:51,994 | server.py:168 | evaluate_round 57: strategy sampled 3 clients (out of 10)\n",
            "DEBUG:flwr:evaluate_round 57: strategy sampled 3 clients (out of 10)\n"
          ]
        },
        {
          "output_type": "stream",
          "name": "stdout",
          "text": [
            "Server-side evaluation loss 0.044667552053928375 / accuracy 0.6078\n"
          ]
        },
        {
          "output_type": "stream",
          "name": "stderr",
          "text": [
            "\u001b[2m\u001b[36m(pid=30308)\u001b[0m 2023-06-10 10:02:57.594662: W tensorflow/compiler/tf2tensorrt/utils/py_utils.cc:38] TF-TRT Warning: Could not find TensorRT\n"
          ]
        },
        {
          "output_type": "stream",
          "name": "stdout",
          "text": [
            "\u001b[2m\u001b[36m(launch_and_evaluate pid=30308)\u001b[0m [Client 8] evaluate, config: {}\n"
          ]
        },
        {
          "output_type": "stream",
          "name": "stderr",
          "text": [
            "\u001b[2m\u001b[36m(pid=30369)\u001b[0m 2023-06-10 10:03:05.826720: W tensorflow/compiler/tf2tensorrt/utils/py_utils.cc:38] TF-TRT Warning: Could not find TensorRT\n"
          ]
        },
        {
          "output_type": "stream",
          "name": "stdout",
          "text": [
            "\u001b[2m\u001b[36m(launch_and_evaluate pid=30369)\u001b[0m [Client 1] evaluate, config: {}\n"
          ]
        },
        {
          "output_type": "stream",
          "name": "stderr",
          "text": [
            "\u001b[2m\u001b[36m(pid=30441)\u001b[0m 2023-06-10 10:03:12.399797: W tensorflow/compiler/tf2tensorrt/utils/py_utils.cc:38] TF-TRT Warning: Could not find TensorRT\n"
          ]
        },
        {
          "output_type": "stream",
          "name": "stdout",
          "text": [
            "\u001b[2m\u001b[36m(launch_and_evaluate pid=30441)\u001b[0m [Client 5] evaluate, config: {}\n"
          ]
        },
        {
          "output_type": "stream",
          "name": "stderr",
          "text": [
            "DEBUG flwr 2023-06-10 10:03:16,621 | server.py:182 | evaluate_round 57 received 3 results and 0 failures\n",
            "DEBUG:flwr:evaluate_round 57 received 3 results and 0 failures\n",
            "DEBUG flwr 2023-06-10 10:03:16,623 | server.py:218 | fit_round 58: strategy sampled 3 clients (out of 10)\n",
            "DEBUG:flwr:fit_round 58: strategy sampled 3 clients (out of 10)\n",
            "\u001b[2m\u001b[36m(pid=30532)\u001b[0m 2023-06-10 10:03:24.705092: W tensorflow/compiler/tf2tensorrt/utils/py_utils.cc:38] TF-TRT Warning: Could not find TensorRT\n"
          ]
        },
        {
          "output_type": "stream",
          "name": "stdout",
          "text": [
            "\u001b[2m\u001b[36m(launch_and_fit pid=30532)\u001b[0m [Client 7, round 58] fit, config: {'server_round': 58, 'local_epochs': 2}\n",
            "\u001b[2m\u001b[36m(launch_and_fit pid=30532)\u001b[0m Epoch 1: train loss 0.018585195764899254, accuracy 0.7908888888888889\n",
            "\u001b[2m\u001b[36m(launch_and_fit pid=30532)\u001b[0m Epoch 2: train loss 0.011386151425540447, accuracy 0.8813333333333333\n"
          ]
        },
        {
          "output_type": "stream",
          "name": "stderr",
          "text": [
            "\u001b[2m\u001b[36m(pid=30608)\u001b[0m 2023-06-10 10:03:35.497404: W tensorflow/compiler/tf2tensorrt/utils/py_utils.cc:38] TF-TRT Warning: Could not find TensorRT\n"
          ]
        },
        {
          "output_type": "stream",
          "name": "stdout",
          "text": [
            "\u001b[2m\u001b[36m(launch_and_fit pid=30608)\u001b[0m [Client 9, round 58] fit, config: {'server_round': 58, 'local_epochs': 2}\n",
            "\u001b[2m\u001b[36m(launch_and_fit pid=30608)\u001b[0m Epoch 1: train loss 0.01420337613672018, accuracy 0.8373333333333334\n",
            "\u001b[2m\u001b[36m(launch_and_fit pid=30608)\u001b[0m Epoch 2: train loss 0.008022960275411606, accuracy 0.9202222222222223\n"
          ]
        },
        {
          "output_type": "stream",
          "name": "stderr",
          "text": [
            "\u001b[2m\u001b[36m(pid=30696)\u001b[0m 2023-06-10 10:03:45.784392: W tensorflow/compiler/tf2tensorrt/utils/py_utils.cc:38] TF-TRT Warning: Could not find TensorRT\n"
          ]
        },
        {
          "output_type": "stream",
          "name": "stdout",
          "text": [
            "\u001b[2m\u001b[36m(launch_and_fit pid=30696)\u001b[0m [Client 8, round 58] fit, config: {'server_round': 58, 'local_epochs': 2}\n",
            "\u001b[2m\u001b[36m(launch_and_fit pid=30696)\u001b[0m Epoch 1: train loss 0.028737053275108337, accuracy 0.6808888888888889\n"
          ]
        },
        {
          "output_type": "stream",
          "name": "stderr",
          "text": [
            "DEBUG flwr 2023-06-10 10:03:55,048 | server.py:232 | fit_round 58 received 3 results and 0 failures\n",
            "DEBUG:flwr:fit_round 58 received 3 results and 0 failures\n"
          ]
        },
        {
          "output_type": "stream",
          "name": "stdout",
          "text": [
            "\u001b[2m\u001b[36m(launch_and_fit pid=30696)\u001b[0m Epoch 2: train loss 0.019352618604898453, accuracy 0.7826666666666666\n"
          ]
        },
        {
          "output_type": "stream",
          "name": "stderr",
          "text": [
            "INFO flwr 2023-06-10 10:03:58,338 | server.py:119 | fit progress: (58, 0.0461039857506752, {'accuracy': 0.6014}, 3876.3381185189996)\n",
            "INFO:flwr:fit progress: (58, 0.0461039857506752, {'accuracy': 0.6014}, 3876.3381185189996)\n",
            "DEBUG flwr 2023-06-10 10:03:58,346 | server.py:168 | evaluate_round 58: strategy sampled 3 clients (out of 10)\n",
            "DEBUG:flwr:evaluate_round 58: strategy sampled 3 clients (out of 10)\n"
          ]
        },
        {
          "output_type": "stream",
          "name": "stdout",
          "text": [
            "Server-side evaluation loss 0.0461039857506752 / accuracy 0.6014\n"
          ]
        },
        {
          "output_type": "stream",
          "name": "stderr",
          "text": [
            "\u001b[2m\u001b[36m(pid=30815)\u001b[0m 2023-06-10 10:04:04.130306: W tensorflow/compiler/tf2tensorrt/utils/py_utils.cc:38] TF-TRT Warning: Could not find TensorRT\n"
          ]
        },
        {
          "output_type": "stream",
          "name": "stdout",
          "text": [
            "\u001b[2m\u001b[36m(launch_and_evaluate pid=30815)\u001b[0m [Client 3] evaluate, config: {}\n"
          ]
        },
        {
          "output_type": "stream",
          "name": "stderr",
          "text": [
            "\u001b[2m\u001b[36m(pid=30883)\u001b[0m 2023-06-10 10:04:12.464455: W tensorflow/compiler/tf2tensorrt/utils/py_utils.cc:38] TF-TRT Warning: Could not find TensorRT\n"
          ]
        },
        {
          "output_type": "stream",
          "name": "stdout",
          "text": [
            "\u001b[2m\u001b[36m(launch_and_evaluate pid=30883)\u001b[0m [Client 0] evaluate, config: {}\n"
          ]
        },
        {
          "output_type": "stream",
          "name": "stderr",
          "text": [
            "\u001b[2m\u001b[36m(pid=30947)\u001b[0m 2023-06-10 10:04:18.534988: W tensorflow/compiler/tf2tensorrt/utils/py_utils.cc:38] TF-TRT Warning: Could not find TensorRT\n"
          ]
        },
        {
          "output_type": "stream",
          "name": "stdout",
          "text": [
            "\u001b[2m\u001b[36m(launch_and_evaluate pid=30947)\u001b[0m [Client 7] evaluate, config: {}\n"
          ]
        },
        {
          "output_type": "stream",
          "name": "stderr",
          "text": [
            "DEBUG flwr 2023-06-10 10:04:25,007 | server.py:182 | evaluate_round 58 received 3 results and 0 failures\n",
            "DEBUG:flwr:evaluate_round 58 received 3 results and 0 failures\n",
            "DEBUG flwr 2023-06-10 10:04:25,012 | server.py:218 | fit_round 59: strategy sampled 3 clients (out of 10)\n",
            "DEBUG:flwr:fit_round 59: strategy sampled 3 clients (out of 10)\n",
            "\u001b[2m\u001b[36m(pid=31036)\u001b[0m 2023-06-10 10:04:30.582478: W tensorflow/compiler/tf2tensorrt/utils/py_utils.cc:38] TF-TRT Warning: Could not find TensorRT\n"
          ]
        },
        {
          "output_type": "stream",
          "name": "stdout",
          "text": [
            "\u001b[2m\u001b[36m(launch_and_fit pid=31036)\u001b[0m [Client 9, round 59] fit, config: {'server_round': 59, 'local_epochs': 2}\n",
            "\u001b[2m\u001b[36m(launch_and_fit pid=31036)\u001b[0m Epoch 1: train loss 0.011157026514410973, accuracy 0.8715555555555555\n",
            "\u001b[2m\u001b[36m(launch_and_fit pid=31036)\u001b[0m Epoch 2: train loss 0.005952285602688789, accuracy 0.9404444444444444\n"
          ]
        },
        {
          "output_type": "stream",
          "name": "stderr",
          "text": [
            "\u001b[2m\u001b[36m(pid=31121)\u001b[0m 2023-06-10 10:04:42.068276: W tensorflow/compiler/tf2tensorrt/utils/py_utils.cc:38] TF-TRT Warning: Could not find TensorRT\n"
          ]
        },
        {
          "output_type": "stream",
          "name": "stdout",
          "text": [
            "\u001b[2m\u001b[36m(launch_and_fit pid=31121)\u001b[0m [Client 4, round 59] fit, config: {'server_round': 59, 'local_epochs': 2}\n",
            "\u001b[2m\u001b[36m(launch_and_fit pid=31121)\u001b[0m Epoch 1: train loss 0.018304258584976196, accuracy 0.7886666666666666\n",
            "\u001b[2m\u001b[36m(launch_and_fit pid=31121)\u001b[0m Epoch 2: train loss 0.01021412294358015, accuracy 0.892\n"
          ]
        },
        {
          "output_type": "stream",
          "name": "stderr",
          "text": [
            "\u001b[2m\u001b[36m(pid=31199)\u001b[0m 2023-06-10 10:04:53.129186: W tensorflow/compiler/tf2tensorrt/utils/py_utils.cc:38] TF-TRT Warning: Could not find TensorRT\n"
          ]
        },
        {
          "output_type": "stream",
          "name": "stdout",
          "text": [
            "\u001b[2m\u001b[36m(launch_and_fit pid=31199)\u001b[0m [Client 5, round 59] fit, config: {'server_round': 59, 'local_epochs': 2}\n",
            "\u001b[2m\u001b[36m(launch_and_fit pid=31199)\u001b[0m Epoch 1: train loss 0.019764883443713188, accuracy 0.7742222222222223\n"
          ]
        },
        {
          "output_type": "stream",
          "name": "stderr",
          "text": [
            "DEBUG flwr 2023-06-10 10:05:01,004 | server.py:232 | fit_round 59 received 3 results and 0 failures\n",
            "DEBUG:flwr:fit_round 59 received 3 results and 0 failures\n"
          ]
        },
        {
          "output_type": "stream",
          "name": "stdout",
          "text": [
            "\u001b[2m\u001b[36m(launch_and_fit pid=31199)\u001b[0m Epoch 2: train loss 0.010737054981291294, accuracy 0.8811111111111111\n"
          ]
        },
        {
          "output_type": "stream",
          "name": "stderr",
          "text": [
            "INFO flwr 2023-06-10 10:05:04,236 | server.py:119 | fit progress: (59, 0.0537646888256073, {'accuracy': 0.5968}, 3942.2368191619994)\n",
            "INFO:flwr:fit progress: (59, 0.0537646888256073, {'accuracy': 0.5968}, 3942.2368191619994)\n",
            "DEBUG flwr 2023-06-10 10:05:04,242 | server.py:168 | evaluate_round 59: strategy sampled 3 clients (out of 10)\n",
            "DEBUG:flwr:evaluate_round 59: strategy sampled 3 clients (out of 10)\n"
          ]
        },
        {
          "output_type": "stream",
          "name": "stdout",
          "text": [
            "Server-side evaluation loss 0.0537646888256073 / accuracy 0.5968\n"
          ]
        },
        {
          "output_type": "stream",
          "name": "stderr",
          "text": [
            "\u001b[2m\u001b[36m(pid=31329)\u001b[0m 2023-06-10 10:05:12.390243: W tensorflow/compiler/tf2tensorrt/utils/py_utils.cc:38] TF-TRT Warning: Could not find TensorRT\n"
          ]
        },
        {
          "output_type": "stream",
          "name": "stdout",
          "text": [
            "\u001b[2m\u001b[36m(launch_and_evaluate pid=31329)\u001b[0m [Client 7] evaluate, config: {}\n"
          ]
        },
        {
          "output_type": "stream",
          "name": "stderr",
          "text": [
            "\u001b[2m\u001b[36m(pid=31392)\u001b[0m 2023-06-10 10:05:18.455083: W tensorflow/compiler/tf2tensorrt/utils/py_utils.cc:38] TF-TRT Warning: Could not find TensorRT\n"
          ]
        },
        {
          "output_type": "stream",
          "name": "stdout",
          "text": [
            "\u001b[2m\u001b[36m(launch_and_evaluate pid=31392)\u001b[0m [Client 8] evaluate, config: {}\n"
          ]
        },
        {
          "output_type": "stream",
          "name": "stderr",
          "text": [
            "\u001b[2m\u001b[36m(pid=31456)\u001b[0m 2023-06-10 10:05:26.897756: W tensorflow/compiler/tf2tensorrt/utils/py_utils.cc:38] TF-TRT Warning: Could not find TensorRT\n"
          ]
        },
        {
          "output_type": "stream",
          "name": "stdout",
          "text": [
            "\u001b[2m\u001b[36m(launch_and_evaluate pid=31456)\u001b[0m [Client 0] evaluate, config: {}\n"
          ]
        },
        {
          "output_type": "stream",
          "name": "stderr",
          "text": [
            "DEBUG flwr 2023-06-10 10:05:30,754 | server.py:182 | evaluate_round 59 received 3 results and 0 failures\n",
            "DEBUG:flwr:evaluate_round 59 received 3 results and 0 failures\n",
            "DEBUG flwr 2023-06-10 10:05:30,759 | server.py:218 | fit_round 60: strategy sampled 3 clients (out of 10)\n",
            "DEBUG:flwr:fit_round 60: strategy sampled 3 clients (out of 10)\n",
            "\u001b[2m\u001b[36m(pid=31540)\u001b[0m 2023-06-10 10:05:36.498547: W tensorflow/compiler/tf2tensorrt/utils/py_utils.cc:38] TF-TRT Warning: Could not find TensorRT\n"
          ]
        },
        {
          "output_type": "stream",
          "name": "stdout",
          "text": [
            "\u001b[2m\u001b[36m(launch_and_fit pid=31540)\u001b[0m [Client 3, round 60] fit, config: {'server_round': 60, 'local_epochs': 2}\n",
            "\u001b[2m\u001b[36m(launch_and_fit pid=31540)\u001b[0m Epoch 1: train loss 0.024100778624415398, accuracy 0.7455555555555555\n",
            "\u001b[2m\u001b[36m(launch_and_fit pid=31540)\u001b[0m Epoch 2: train loss 0.014744614250957966, accuracy 0.8388888888888889\n"
          ]
        },
        {
          "output_type": "stream",
          "name": "stderr",
          "text": [
            "\u001b[2m\u001b[36m(pid=31625)\u001b[0m 2023-06-10 10:05:48.121184: W tensorflow/compiler/tf2tensorrt/utils/py_utils.cc:38] TF-TRT Warning: Could not find TensorRT\n"
          ]
        },
        {
          "output_type": "stream",
          "name": "stdout",
          "text": [
            "\u001b[2m\u001b[36m(launch_and_fit pid=31625)\u001b[0m [Client 9, round 60] fit, config: {'server_round': 60, 'local_epochs': 2}\n",
            "\u001b[2m\u001b[36m(launch_and_fit pid=31625)\u001b[0m Epoch 1: train loss 0.009219610132277012, accuracy 0.8966666666666666\n",
            "\u001b[2m\u001b[36m(launch_and_fit pid=31625)\u001b[0m Epoch 2: train loss 0.005366508383303881, accuracy 0.9493333333333334\n"
          ]
        },
        {
          "output_type": "stream",
          "name": "stderr",
          "text": [
            "\u001b[2m\u001b[36m(pid=31722)\u001b[0m 2023-06-10 10:06:02.039271: W tensorflow/compiler/tf2tensorrt/utils/py_utils.cc:38] TF-TRT Warning: Could not find TensorRT\n"
          ]
        },
        {
          "output_type": "stream",
          "name": "stdout",
          "text": [
            "\u001b[2m\u001b[36m(launch_and_fit pid=31722)\u001b[0m [Client 4, round 60] fit, config: {'server_round': 60, 'local_epochs': 2}\n",
            "\u001b[2m\u001b[36m(launch_and_fit pid=31722)\u001b[0m Epoch 1: train loss 0.014401884749531746, accuracy 0.8333333333333334\n"
          ]
        },
        {
          "output_type": "stream",
          "name": "stderr",
          "text": [
            "DEBUG flwr 2023-06-10 10:06:09,385 | server.py:232 | fit_round 60 received 3 results and 0 failures\n",
            "DEBUG:flwr:fit_round 60 received 3 results and 0 failures\n"
          ]
        },
        {
          "output_type": "stream",
          "name": "stdout",
          "text": [
            "\u001b[2m\u001b[36m(launch_and_fit pid=31722)\u001b[0m Epoch 2: train loss 0.00864681601524353, accuracy 0.9104444444444444\n"
          ]
        },
        {
          "output_type": "stream",
          "name": "stderr",
          "text": [
            "INFO flwr 2023-06-10 10:06:13,681 | server.py:119 | fit progress: (60, 0.05254988604784012, {'accuracy': 0.5997}, 4011.6813383799995)\n",
            "INFO:flwr:fit progress: (60, 0.05254988604784012, {'accuracy': 0.5997}, 4011.6813383799995)\n",
            "DEBUG flwr 2023-06-10 10:06:13,689 | server.py:168 | evaluate_round 60: strategy sampled 3 clients (out of 10)\n",
            "DEBUG:flwr:evaluate_round 60: strategy sampled 3 clients (out of 10)\n"
          ]
        },
        {
          "output_type": "stream",
          "name": "stdout",
          "text": [
            "Server-side evaluation loss 0.05254988604784012 / accuracy 0.5997\n"
          ]
        },
        {
          "output_type": "stream",
          "name": "stderr",
          "text": [
            "\u001b[2m\u001b[36m(pid=31842)\u001b[0m 2023-06-10 10:06:20.372025: W tensorflow/compiler/tf2tensorrt/utils/py_utils.cc:38] TF-TRT Warning: Could not find TensorRT\n"
          ]
        },
        {
          "output_type": "stream",
          "name": "stdout",
          "text": [
            "\u001b[2m\u001b[36m(launch_and_evaluate pid=31842)\u001b[0m [Client 6] evaluate, config: {}\n"
          ]
        },
        {
          "output_type": "stream",
          "name": "stderr",
          "text": [
            "\u001b[2m\u001b[36m(pid=31906)\u001b[0m 2023-06-10 10:06:27.458117: W tensorflow/compiler/tf2tensorrt/utils/py_utils.cc:38] TF-TRT Warning: Could not find TensorRT\n"
          ]
        },
        {
          "output_type": "stream",
          "name": "stdout",
          "text": [
            "\u001b[2m\u001b[36m(launch_and_evaluate pid=31906)\u001b[0m [Client 2] evaluate, config: {}\n"
          ]
        },
        {
          "output_type": "stream",
          "name": "stderr",
          "text": [
            "\u001b[2m\u001b[36m(pid=31975)\u001b[0m 2023-06-10 10:06:35.074533: W tensorflow/compiler/tf2tensorrt/utils/py_utils.cc:38] TF-TRT Warning: Could not find TensorRT\n"
          ]
        },
        {
          "output_type": "stream",
          "name": "stdout",
          "text": [
            "\u001b[2m\u001b[36m(launch_and_evaluate pid=31975)\u001b[0m [Client 9] evaluate, config: {}\n"
          ]
        },
        {
          "output_type": "stream",
          "name": "stderr",
          "text": [
            "DEBUG flwr 2023-06-10 10:06:39,345 | server.py:182 | evaluate_round 60 received 3 results and 0 failures\n",
            "DEBUG:flwr:evaluate_round 60 received 3 results and 0 failures\n",
            "DEBUG flwr 2023-06-10 10:06:39,349 | server.py:218 | fit_round 61: strategy sampled 3 clients (out of 10)\n",
            "DEBUG:flwr:fit_round 61: strategy sampled 3 clients (out of 10)\n",
            "\u001b[2m\u001b[36m(pid=32063)\u001b[0m 2023-06-10 10:06:47.640386: W tensorflow/compiler/tf2tensorrt/utils/py_utils.cc:38] TF-TRT Warning: Could not find TensorRT\n"
          ]
        },
        {
          "output_type": "stream",
          "name": "stdout",
          "text": [
            "\u001b[2m\u001b[36m(launch_and_fit pid=32063)\u001b[0m [Client 7, round 61] fit, config: {'server_round': 61, 'local_epochs': 2}\n",
            "\u001b[2m\u001b[36m(launch_and_fit pid=32063)\u001b[0m Epoch 1: train loss 0.019378677010536194, accuracy 0.7795555555555556\n",
            "\u001b[2m\u001b[36m(launch_and_fit pid=32063)\u001b[0m Epoch 2: train loss 0.01151174958795309, accuracy 0.874\n"
          ]
        },
        {
          "output_type": "stream",
          "name": "stderr",
          "text": [
            "\u001b[2m\u001b[36m(pid=32144)\u001b[0m 2023-06-10 10:06:56.832395: W tensorflow/compiler/tf2tensorrt/utils/py_utils.cc:38] TF-TRT Warning: Could not find TensorRT\n"
          ]
        },
        {
          "output_type": "stream",
          "name": "stdout",
          "text": [
            "\u001b[2m\u001b[36m(launch_and_fit pid=32144)\u001b[0m [Client 6, round 61] fit, config: {'server_round': 61, 'local_epochs': 2}\n",
            "\u001b[2m\u001b[36m(launch_and_fit pid=32144)\u001b[0m Epoch 1: train loss 0.02623472362756729, accuracy 0.7208888888888889\n",
            "\u001b[2m\u001b[36m(launch_and_fit pid=32144)\u001b[0m Epoch 2: train loss 0.015377724543213844, accuracy 0.8288888888888889\n"
          ]
        },
        {
          "output_type": "stream",
          "name": "stderr",
          "text": [
            "\u001b[2m\u001b[36m(pid=32232)\u001b[0m 2023-06-10 10:07:08.560749: W tensorflow/compiler/tf2tensorrt/utils/py_utils.cc:38] TF-TRT Warning: Could not find TensorRT\n"
          ]
        },
        {
          "output_type": "stream",
          "name": "stdout",
          "text": [
            "\u001b[2m\u001b[36m(launch_and_fit pid=32232)\u001b[0m [Client 1, round 61] fit, config: {'server_round': 61, 'local_epochs': 2}\n",
            "\u001b[2m\u001b[36m(launch_and_fit pid=32232)\u001b[0m Epoch 1: train loss 0.01957765966653824, accuracy 0.7848888888888889\n"
          ]
        },
        {
          "output_type": "stream",
          "name": "stderr",
          "text": [
            "DEBUG flwr 2023-06-10 10:07:17,909 | server.py:232 | fit_round 61 received 3 results and 0 failures\n",
            "DEBUG:flwr:fit_round 61 received 3 results and 0 failures\n"
          ]
        },
        {
          "output_type": "stream",
          "name": "stdout",
          "text": [
            "\u001b[2m\u001b[36m(launch_and_fit pid=32232)\u001b[0m Epoch 2: train loss 0.010293659754097462, accuracy 0.8868888888888888\n"
          ]
        },
        {
          "output_type": "stream",
          "name": "stderr",
          "text": [
            "INFO flwr 2023-06-10 10:07:21,134 | server.py:119 | fit progress: (61, 0.04881182411313057, {'accuracy': 0.5948}, 4079.134269635)\n",
            "INFO:flwr:fit progress: (61, 0.04881182411313057, {'accuracy': 0.5948}, 4079.134269635)\n",
            "DEBUG flwr 2023-06-10 10:07:21,147 | server.py:168 | evaluate_round 61: strategy sampled 3 clients (out of 10)\n",
            "DEBUG:flwr:evaluate_round 61: strategy sampled 3 clients (out of 10)\n"
          ]
        },
        {
          "output_type": "stream",
          "name": "stdout",
          "text": [
            "Server-side evaluation loss 0.04881182411313057 / accuracy 0.5948\n"
          ]
        },
        {
          "output_type": "stream",
          "name": "stderr",
          "text": [
            "\u001b[2m\u001b[36m(pid=32352)\u001b[0m 2023-06-10 10:07:26.912908: W tensorflow/compiler/tf2tensorrt/utils/py_utils.cc:38] TF-TRT Warning: Could not find TensorRT\n"
          ]
        },
        {
          "output_type": "stream",
          "name": "stdout",
          "text": [
            "\u001b[2m\u001b[36m(launch_and_evaluate pid=32352)\u001b[0m [Client 4] evaluate, config: {}\n"
          ]
        },
        {
          "output_type": "stream",
          "name": "stderr",
          "text": [
            "\u001b[2m\u001b[36m(pid=32421)\u001b[0m 2023-06-10 10:07:35.148314: W tensorflow/compiler/tf2tensorrt/utils/py_utils.cc:38] TF-TRT Warning: Could not find TensorRT\n"
          ]
        },
        {
          "output_type": "stream",
          "name": "stdout",
          "text": [
            "\u001b[2m\u001b[36m(launch_and_evaluate pid=32421)\u001b[0m [Client 0] evaluate, config: {}\n"
          ]
        },
        {
          "output_type": "stream",
          "name": "stderr",
          "text": [
            "\u001b[2m\u001b[36m(pid=32481)\u001b[0m 2023-06-10 10:07:41.254717: W tensorflow/compiler/tf2tensorrt/utils/py_utils.cc:38] TF-TRT Warning: Could not find TensorRT\n"
          ]
        },
        {
          "output_type": "stream",
          "name": "stdout",
          "text": [
            "\u001b[2m\u001b[36m(launch_and_evaluate pid=32481)\u001b[0m [Client 8] evaluate, config: {}\n"
          ]
        },
        {
          "output_type": "stream",
          "name": "stderr",
          "text": [
            "DEBUG flwr 2023-06-10 10:07:46,872 | server.py:182 | evaluate_round 61 received 3 results and 0 failures\n",
            "DEBUG:flwr:evaluate_round 61 received 3 results and 0 failures\n",
            "DEBUG flwr 2023-06-10 10:07:46,877 | server.py:218 | fit_round 62: strategy sampled 3 clients (out of 10)\n",
            "DEBUG:flwr:fit_round 62: strategy sampled 3 clients (out of 10)\n",
            "\u001b[2m\u001b[36m(pid=32571)\u001b[0m 2023-06-10 10:07:53.250116: W tensorflow/compiler/tf2tensorrt/utils/py_utils.cc:38] TF-TRT Warning: Could not find TensorRT\n"
          ]
        },
        {
          "output_type": "stream",
          "name": "stdout",
          "text": [
            "\u001b[2m\u001b[36m(launch_and_fit pid=32571)\u001b[0m [Client 9, round 62] fit, config: {'server_round': 62, 'local_epochs': 2}\n",
            "\u001b[2m\u001b[36m(launch_and_fit pid=32571)\u001b[0m Epoch 1: train loss 0.009796052239835262, accuracy 0.89\n",
            "\u001b[2m\u001b[36m(launch_and_fit pid=32571)\u001b[0m Epoch 2: train loss 0.004749887622892857, accuracy 0.9577777777777777\n"
          ]
        },
        {
          "output_type": "stream",
          "name": "stderr",
          "text": [
            "\u001b[2m\u001b[36m(pid=32650)\u001b[0m 2023-06-10 10:08:04.646316: W tensorflow/compiler/tf2tensorrt/utils/py_utils.cc:38] TF-TRT Warning: Could not find TensorRT\n"
          ]
        },
        {
          "output_type": "stream",
          "name": "stdout",
          "text": [
            "\u001b[2m\u001b[36m(launch_and_fit pid=32650)\u001b[0m [Client 0, round 62] fit, config: {'server_round': 62, 'local_epochs': 2}\n",
            "\u001b[2m\u001b[36m(launch_and_fit pid=32650)\u001b[0m Epoch 1: train loss 0.02662486582994461, accuracy 0.7053333333333334\n",
            "\u001b[2m\u001b[36m(launch_and_fit pid=32650)\u001b[0m Epoch 2: train loss 0.017060451209545135, accuracy 0.8064444444444444\n"
          ]
        },
        {
          "output_type": "stream",
          "name": "stderr",
          "text": [
            "\u001b[2m\u001b[36m(pid=32730)\u001b[0m 2023-06-10 10:08:13.747552: W tensorflow/compiler/tf2tensorrt/utils/py_utils.cc:38] TF-TRT Warning: Could not find TensorRT\n"
          ]
        },
        {
          "output_type": "stream",
          "name": "stdout",
          "text": [
            "\u001b[2m\u001b[36m(launch_and_fit pid=32730)\u001b[0m [Client 3, round 62] fit, config: {'server_round': 62, 'local_epochs': 2}\n",
            "\u001b[2m\u001b[36m(launch_and_fit pid=32730)\u001b[0m Epoch 1: train loss 0.02144920453429222, accuracy 0.7597777777777778\n"
          ]
        },
        {
          "output_type": "stream",
          "name": "stderr",
          "text": [
            "DEBUG flwr 2023-06-10 10:08:23,555 | server.py:232 | fit_round 62 received 3 results and 0 failures\n",
            "DEBUG:flwr:fit_round 62 received 3 results and 0 failures\n"
          ]
        },
        {
          "output_type": "stream",
          "name": "stdout",
          "text": [
            "\u001b[2m\u001b[36m(launch_and_fit pid=32730)\u001b[0m Epoch 2: train loss 0.01258529257029295, accuracy 0.8617777777777778\n"
          ]
        },
        {
          "output_type": "stream",
          "name": "stderr",
          "text": [
            "INFO flwr 2023-06-10 10:08:26,745 | server.py:119 | fit progress: (62, 0.048663685178756716, {'accuracy': 0.5988}, 4144.745920351001)\n",
            "INFO:flwr:fit progress: (62, 0.048663685178756716, {'accuracy': 0.5988}, 4144.745920351001)\n",
            "DEBUG flwr 2023-06-10 10:08:26,757 | server.py:168 | evaluate_round 62: strategy sampled 3 clients (out of 10)\n",
            "DEBUG:flwr:evaluate_round 62: strategy sampled 3 clients (out of 10)\n"
          ]
        },
        {
          "output_type": "stream",
          "name": "stdout",
          "text": [
            "Server-side evaluation loss 0.048663685178756716 / accuracy 0.5988\n"
          ]
        },
        {
          "output_type": "stream",
          "name": "stderr",
          "text": [
            "\u001b[2m\u001b[36m(pid=32858)\u001b[0m 2023-06-10 10:08:35.152590: W tensorflow/compiler/tf2tensorrt/utils/py_utils.cc:38] TF-TRT Warning: Could not find TensorRT\n"
          ]
        },
        {
          "output_type": "stream",
          "name": "stdout",
          "text": [
            "\u001b[2m\u001b[36m(launch_and_evaluate pid=32858)\u001b[0m [Client 0] evaluate, config: {}\n"
          ]
        },
        {
          "output_type": "stream",
          "name": "stderr",
          "text": [
            "\u001b[2m\u001b[36m(pid=32927)\u001b[0m 2023-06-10 10:08:41.011487: W tensorflow/compiler/tf2tensorrt/utils/py_utils.cc:38] TF-TRT Warning: Could not find TensorRT\n"
          ]
        },
        {
          "output_type": "stream",
          "name": "stdout",
          "text": [
            "\u001b[2m\u001b[36m(launch_and_evaluate pid=32927)\u001b[0m [Client 9] evaluate, config: {}\n"
          ]
        },
        {
          "output_type": "stream",
          "name": "stderr",
          "text": [
            "\u001b[2m\u001b[36m(pid=32987)\u001b[0m 2023-06-10 10:08:49.278102: W tensorflow/compiler/tf2tensorrt/utils/py_utils.cc:38] TF-TRT Warning: Could not find TensorRT\n"
          ]
        },
        {
          "output_type": "stream",
          "name": "stdout",
          "text": [
            "\u001b[2m\u001b[36m(launch_and_evaluate pid=32987)\u001b[0m [Client 7] evaluate, config: {}\n"
          ]
        },
        {
          "output_type": "stream",
          "name": "stderr",
          "text": [
            "DEBUG flwr 2023-06-10 10:08:53,830 | server.py:182 | evaluate_round 62 received 3 results and 0 failures\n",
            "DEBUG:flwr:evaluate_round 62 received 3 results and 0 failures\n",
            "DEBUG flwr 2023-06-10 10:08:53,838 | server.py:218 | fit_round 63: strategy sampled 3 clients (out of 10)\n",
            "DEBUG:flwr:fit_round 63: strategy sampled 3 clients (out of 10)\n",
            "\u001b[2m\u001b[36m(pid=33078)\u001b[0m 2023-06-10 10:08:59.488773: W tensorflow/compiler/tf2tensorrt/utils/py_utils.cc:38] TF-TRT Warning: Could not find TensorRT\n"
          ]
        },
        {
          "output_type": "stream",
          "name": "stdout",
          "text": [
            "\u001b[2m\u001b[36m(launch_and_fit pid=33078)\u001b[0m [Client 9, round 63] fit, config: {'server_round': 63, 'local_epochs': 2}\n",
            "\u001b[2m\u001b[36m(launch_and_fit pid=33078)\u001b[0m Epoch 1: train loss 0.008461644873023033, accuracy 0.91\n",
            "\u001b[2m\u001b[36m(launch_and_fit pid=33078)\u001b[0m Epoch 2: train loss 0.004574283957481384, accuracy 0.9588888888888889\n"
          ]
        },
        {
          "output_type": "stream",
          "name": "stderr",
          "text": [
            "\u001b[2m\u001b[36m(pid=33175)\u001b[0m 2023-06-10 10:09:13.521632: W tensorflow/compiler/tf2tensorrt/utils/py_utils.cc:38] TF-TRT Warning: Could not find TensorRT\n"
          ]
        },
        {
          "output_type": "stream",
          "name": "stdout",
          "text": [
            "\u001b[2m\u001b[36m(launch_and_fit pid=33175)\u001b[0m [Client 5, round 63] fit, config: {'server_round': 63, 'local_epochs': 2}\n",
            "\u001b[2m\u001b[36m(launch_and_fit pid=33175)\u001b[0m Epoch 1: train loss 0.019589528441429138, accuracy 0.7726666666666666\n",
            "\u001b[2m\u001b[36m(launch_and_fit pid=33175)\u001b[0m Epoch 2: train loss 0.010909637436270714, accuracy 0.882\n"
          ]
        },
        {
          "output_type": "stream",
          "name": "stderr",
          "text": [
            "\u001b[2m\u001b[36m(pid=33263)\u001b[0m 2023-06-10 10:09:24.860789: W tensorflow/compiler/tf2tensorrt/utils/py_utils.cc:38] TF-TRT Warning: Could not find TensorRT\n"
          ]
        },
        {
          "output_type": "stream",
          "name": "stdout",
          "text": [
            "\u001b[2m\u001b[36m(launch_and_fit pid=33263)\u001b[0m [Client 6, round 63] fit, config: {'server_round': 63, 'local_epochs': 2}\n",
            "\u001b[2m\u001b[36m(launch_and_fit pid=33263)\u001b[0m Epoch 1: train loss 0.02213369868695736, accuracy 0.7535555555555555\n"
          ]
        },
        {
          "output_type": "stream",
          "name": "stderr",
          "text": [
            "DEBUG flwr 2023-06-10 10:09:32,274 | server.py:232 | fit_round 63 received 3 results and 0 failures\n",
            "DEBUG:flwr:fit_round 63 received 3 results and 0 failures\n"
          ]
        },
        {
          "output_type": "stream",
          "name": "stdout",
          "text": [
            "\u001b[2m\u001b[36m(launch_and_fit pid=33263)\u001b[0m Epoch 2: train loss 0.013240003027021885, accuracy 0.8557777777777777\n"
          ]
        },
        {
          "output_type": "stream",
          "name": "stderr",
          "text": [
            "INFO flwr 2023-06-10 10:09:36,557 | server.py:119 | fit progress: (63, 0.05357418708503246, {'accuracy': 0.5994}, 4214.557023996001)\n",
            "INFO:flwr:fit progress: (63, 0.05357418708503246, {'accuracy': 0.5994}, 4214.557023996001)\n",
            "DEBUG flwr 2023-06-10 10:09:36,564 | server.py:168 | evaluate_round 63: strategy sampled 3 clients (out of 10)\n",
            "DEBUG:flwr:evaluate_round 63: strategy sampled 3 clients (out of 10)\n"
          ]
        },
        {
          "output_type": "stream",
          "name": "stdout",
          "text": [
            "Server-side evaluation loss 0.05357418708503246 / accuracy 0.5994\n"
          ]
        },
        {
          "output_type": "stream",
          "name": "stderr",
          "text": [
            "\u001b[2m\u001b[36m(pid=33379)\u001b[0m 2023-06-10 10:09:43.179634: W tensorflow/compiler/tf2tensorrt/utils/py_utils.cc:38] TF-TRT Warning: Could not find TensorRT\n"
          ]
        },
        {
          "output_type": "stream",
          "name": "stdout",
          "text": [
            "\u001b[2m\u001b[36m(launch_and_evaluate pid=33379)\u001b[0m [Client 4] evaluate, config: {}\n"
          ]
        },
        {
          "output_type": "stream",
          "name": "stderr",
          "text": [
            "\u001b[2m\u001b[36m(pid=33446)\u001b[0m 2023-06-10 10:09:49.669978: W tensorflow/compiler/tf2tensorrt/utils/py_utils.cc:38] TF-TRT Warning: Could not find TensorRT\n"
          ]
        },
        {
          "output_type": "stream",
          "name": "stdout",
          "text": [
            "\u001b[2m\u001b[36m(launch_and_evaluate pid=33446)\u001b[0m [Client 1] evaluate, config: {}\n"
          ]
        },
        {
          "output_type": "stream",
          "name": "stderr",
          "text": [
            "\u001b[2m\u001b[36m(pid=33514)\u001b[0m 2023-06-10 10:09:58.044900: W tensorflow/compiler/tf2tensorrt/utils/py_utils.cc:38] TF-TRT Warning: Could not find TensorRT\n"
          ]
        },
        {
          "output_type": "stream",
          "name": "stdout",
          "text": [
            "\u001b[2m\u001b[36m(launch_and_evaluate pid=33514)\u001b[0m [Client 0] evaluate, config: {}\n"
          ]
        },
        {
          "output_type": "stream",
          "name": "stderr",
          "text": [
            "DEBUG flwr 2023-06-10 10:10:02,319 | server.py:182 | evaluate_round 63 received 3 results and 0 failures\n",
            "DEBUG:flwr:evaluate_round 63 received 3 results and 0 failures\n",
            "DEBUG flwr 2023-06-10 10:10:02,322 | server.py:218 | fit_round 64: strategy sampled 3 clients (out of 10)\n",
            "DEBUG:flwr:fit_round 64: strategy sampled 3 clients (out of 10)\n",
            "\u001b[2m\u001b[36m(pid=33603)\u001b[0m 2023-06-10 10:10:10.625825: W tensorflow/compiler/tf2tensorrt/utils/py_utils.cc:38] TF-TRT Warning: Could not find TensorRT\n"
          ]
        },
        {
          "output_type": "stream",
          "name": "stdout",
          "text": [
            "\u001b[2m\u001b[36m(launch_and_fit pid=33603)\u001b[0m [Client 5, round 64] fit, config: {'server_round': 64, 'local_epochs': 2}\n",
            "\u001b[2m\u001b[36m(launch_and_fit pid=33603)\u001b[0m Epoch 1: train loss 0.01561418641358614, accuracy 0.8168888888888889\n",
            "\u001b[2m\u001b[36m(launch_and_fit pid=33603)\u001b[0m Epoch 2: train loss 0.008380906656384468, accuracy 0.9077777777777778\n"
          ]
        },
        {
          "output_type": "stream",
          "name": "stderr",
          "text": [
            "\u001b[2m\u001b[36m(pid=33684)\u001b[0m 2023-06-10 10:10:19.686656: W tensorflow/compiler/tf2tensorrt/utils/py_utils.cc:38] TF-TRT Warning: Could not find TensorRT\n"
          ]
        },
        {
          "output_type": "stream",
          "name": "stdout",
          "text": [
            "\u001b[2m\u001b[36m(launch_and_fit pid=33684)\u001b[0m [Client 1, round 64] fit, config: {'server_round': 64, 'local_epochs': 2}\n",
            "\u001b[2m\u001b[36m(launch_and_fit pid=33684)\u001b[0m Epoch 1: train loss 0.018117504194378853, accuracy 0.7922222222222223\n",
            "\u001b[2m\u001b[36m(launch_and_fit pid=33684)\u001b[0m Epoch 2: train loss 0.009362198412418365, accuracy 0.8964444444444445\n"
          ]
        },
        {
          "output_type": "stream",
          "name": "stderr",
          "text": [
            "\u001b[2m\u001b[36m(pid=33769)\u001b[0m 2023-06-10 10:10:31.391694: W tensorflow/compiler/tf2tensorrt/utils/py_utils.cc:38] TF-TRT Warning: Could not find TensorRT\n"
          ]
        },
        {
          "output_type": "stream",
          "name": "stdout",
          "text": [
            "\u001b[2m\u001b[36m(launch_and_fit pid=33769)\u001b[0m [Client 8, round 64] fit, config: {'server_round': 64, 'local_epochs': 2}\n",
            "\u001b[2m\u001b[36m(launch_and_fit pid=33769)\u001b[0m Epoch 1: train loss 0.02966415137052536, accuracy 0.6846666666666666\n"
          ]
        },
        {
          "output_type": "stream",
          "name": "stderr",
          "text": [
            "DEBUG flwr 2023-06-10 10:10:40,533 | server.py:232 | fit_round 64 received 3 results and 0 failures\n",
            "DEBUG:flwr:fit_round 64 received 3 results and 0 failures\n"
          ]
        },
        {
          "output_type": "stream",
          "name": "stdout",
          "text": [
            "\u001b[2m\u001b[36m(launch_and_fit pid=33769)\u001b[0m Epoch 2: train loss 0.018931971862912178, accuracy 0.7866666666666666\n"
          ]
        },
        {
          "output_type": "stream",
          "name": "stderr",
          "text": [
            "INFO flwr 2023-06-10 10:10:43,830 | server.py:119 | fit progress: (64, 0.04989991569519043, {'accuracy': 0.6001}, 4281.830918897001)\n",
            "INFO:flwr:fit progress: (64, 0.04989991569519043, {'accuracy': 0.6001}, 4281.830918897001)\n",
            "DEBUG flwr 2023-06-10 10:10:43,837 | server.py:168 | evaluate_round 64: strategy sampled 3 clients (out of 10)\n",
            "DEBUG:flwr:evaluate_round 64: strategy sampled 3 clients (out of 10)\n"
          ]
        },
        {
          "output_type": "stream",
          "name": "stdout",
          "text": [
            "Server-side evaluation loss 0.04989991569519043 / accuracy 0.6001\n"
          ]
        },
        {
          "output_type": "stream",
          "name": "stderr",
          "text": [
            "\u001b[2m\u001b[36m(pid=33888)\u001b[0m 2023-06-10 10:10:49.620249: W tensorflow/compiler/tf2tensorrt/utils/py_utils.cc:38] TF-TRT Warning: Could not find TensorRT\n"
          ]
        },
        {
          "output_type": "stream",
          "name": "stdout",
          "text": [
            "\u001b[2m\u001b[36m(launch_and_evaluate pid=33888)\u001b[0m [Client 1] evaluate, config: {}\n"
          ]
        },
        {
          "output_type": "stream",
          "name": "stderr",
          "text": [
            "\u001b[2m\u001b[36m(pid=33960)\u001b[0m 2023-06-10 10:10:58.538962: W tensorflow/compiler/tf2tensorrt/utils/py_utils.cc:38] TF-TRT Warning: Could not find TensorRT\n"
          ]
        },
        {
          "output_type": "stream",
          "name": "stdout",
          "text": [
            "\u001b[2m\u001b[36m(launch_and_evaluate pid=33960)\u001b[0m [Client 6] evaluate, config: {}\n"
          ]
        },
        {
          "output_type": "stream",
          "name": "stderr",
          "text": [
            "\u001b[2m\u001b[36m(pid=34021)\u001b[0m 2023-06-10 10:11:04.726861: W tensorflow/compiler/tf2tensorrt/utils/py_utils.cc:38] TF-TRT Warning: Could not find TensorRT\n"
          ]
        },
        {
          "output_type": "stream",
          "name": "stdout",
          "text": [
            "\u001b[2m\u001b[36m(launch_and_evaluate pid=34021)\u001b[0m [Client 4] evaluate, config: {}\n"
          ]
        },
        {
          "output_type": "stream",
          "name": "stderr",
          "text": [
            "DEBUG flwr 2023-06-10 10:11:10,601 | server.py:182 | evaluate_round 64 received 3 results and 0 failures\n",
            "DEBUG:flwr:evaluate_round 64 received 3 results and 0 failures\n",
            "DEBUG flwr 2023-06-10 10:11:10,609 | server.py:218 | fit_round 65: strategy sampled 3 clients (out of 10)\n",
            "DEBUG:flwr:fit_round 65: strategy sampled 3 clients (out of 10)\n",
            "\u001b[2m\u001b[36m(pid=34109)\u001b[0m 2023-06-10 10:11:16.587882: W tensorflow/compiler/tf2tensorrt/utils/py_utils.cc:38] TF-TRT Warning: Could not find TensorRT\n"
          ]
        },
        {
          "output_type": "stream",
          "name": "stdout",
          "text": [
            "\u001b[2m\u001b[36m(launch_and_fit pid=34109)\u001b[0m [Client 3, round 65] fit, config: {'server_round': 65, 'local_epochs': 2}\n",
            "\u001b[2m\u001b[36m(launch_and_fit pid=34109)\u001b[0m Epoch 1: train loss 0.02096596173942089, accuracy 0.7673333333333333\n",
            "\u001b[2m\u001b[36m(launch_and_fit pid=34109)\u001b[0m Epoch 2: train loss 0.012263834476470947, accuracy 0.8631111111111112\n"
          ]
        },
        {
          "output_type": "stream",
          "name": "stderr",
          "text": [
            "\u001b[2m\u001b[36m(pid=34195)\u001b[0m 2023-06-10 10:11:28.204703: W tensorflow/compiler/tf2tensorrt/utils/py_utils.cc:38] TF-TRT Warning: Could not find TensorRT\n"
          ]
        },
        {
          "output_type": "stream",
          "name": "stdout",
          "text": [
            "\u001b[2m\u001b[36m(launch_and_fit pid=34195)\u001b[0m [Client 0, round 65] fit, config: {'server_round': 65, 'local_epochs': 2}\n",
            "\u001b[2m\u001b[36m(launch_and_fit pid=34195)\u001b[0m Epoch 1: train loss 0.02557947486639023, accuracy 0.7228888888888889\n",
            "\u001b[2m\u001b[36m(launch_and_fit pid=34195)\u001b[0m Epoch 2: train loss 0.015538908541202545, accuracy 0.8286666666666667\n"
          ]
        },
        {
          "output_type": "stream",
          "name": "stderr",
          "text": [
            "\u001b[2m\u001b[36m(pid=34274)\u001b[0m 2023-06-10 10:11:38.167030: W tensorflow/compiler/tf2tensorrt/utils/py_utils.cc:38] TF-TRT Warning: Could not find TensorRT\n"
          ]
        },
        {
          "output_type": "stream",
          "name": "stdout",
          "text": [
            "\u001b[2m\u001b[36m(launch_and_fit pid=34274)\u001b[0m [Client 7, round 65] fit, config: {'server_round': 65, 'local_epochs': 2}\n",
            "\u001b[2m\u001b[36m(launch_and_fit pid=34274)\u001b[0m Epoch 1: train loss 0.019887017086148262, accuracy 0.776\n"
          ]
        },
        {
          "output_type": "stream",
          "name": "stderr",
          "text": [
            "DEBUG flwr 2023-06-10 10:11:47,359 | server.py:232 | fit_round 65 received 3 results and 0 failures\n",
            "DEBUG:flwr:fit_round 65 received 3 results and 0 failures\n"
          ]
        },
        {
          "output_type": "stream",
          "name": "stdout",
          "text": [
            "\u001b[2m\u001b[36m(launch_and_fit pid=34274)\u001b[0m Epoch 2: train loss 0.011211615987122059, accuracy 0.8817777777777778\n"
          ]
        },
        {
          "output_type": "stream",
          "name": "stderr",
          "text": [
            "INFO flwr 2023-06-10 10:11:50,620 | server.py:119 | fit progress: (65, 0.04808309637606144, {'accuracy': 0.6053}, 4348.620574873)\n",
            "INFO:flwr:fit progress: (65, 0.04808309637606144, {'accuracy': 0.6053}, 4348.620574873)\n",
            "DEBUG flwr 2023-06-10 10:11:50,628 | server.py:168 | evaluate_round 65: strategy sampled 3 clients (out of 10)\n",
            "DEBUG:flwr:evaluate_round 65: strategy sampled 3 clients (out of 10)\n"
          ]
        },
        {
          "output_type": "stream",
          "name": "stdout",
          "text": [
            "Server-side evaluation loss 0.04808309637606144 / accuracy 0.6053\n"
          ]
        },
        {
          "output_type": "stream",
          "name": "stderr",
          "text": [
            "\u001b[2m\u001b[36m(pid=34406)\u001b[0m 2023-06-10 10:11:59.055831: W tensorflow/compiler/tf2tensorrt/utils/py_utils.cc:38] TF-TRT Warning: Could not find TensorRT\n"
          ]
        },
        {
          "output_type": "stream",
          "name": "stdout",
          "text": [
            "\u001b[2m\u001b[36m(launch_and_evaluate pid=34406)\u001b[0m [Client 3] evaluate, config: {}\n"
          ]
        },
        {
          "output_type": "stream",
          "name": "stderr",
          "text": [
            "\u001b[2m\u001b[36m(pid=34467)\u001b[0m 2023-06-10 10:12:04.983198: W tensorflow/compiler/tf2tensorrt/utils/py_utils.cc:38] TF-TRT Warning: Could not find TensorRT\n"
          ]
        },
        {
          "output_type": "stream",
          "name": "stdout",
          "text": [
            "\u001b[2m\u001b[36m(launch_and_evaluate pid=34467)\u001b[0m [Client 9] evaluate, config: {}\n"
          ]
        },
        {
          "output_type": "stream",
          "name": "stderr",
          "text": [
            "\u001b[2m\u001b[36m(pid=34531)\u001b[0m 2023-06-10 10:12:14.365985: W tensorflow/compiler/tf2tensorrt/utils/py_utils.cc:38] TF-TRT Warning: Could not find TensorRT\n"
          ]
        },
        {
          "output_type": "stream",
          "name": "stdout",
          "text": [
            "\u001b[2m\u001b[36m(launch_and_evaluate pid=34531)\u001b[0m [Client 8] evaluate, config: {}\n"
          ]
        },
        {
          "output_type": "stream",
          "name": "stderr",
          "text": [
            "DEBUG flwr 2023-06-10 10:12:20,054 | server.py:182 | evaluate_round 65 received 3 results and 0 failures\n",
            "DEBUG:flwr:evaluate_round 65 received 3 results and 0 failures\n",
            "DEBUG flwr 2023-06-10 10:12:20,063 | server.py:218 | fit_round 66: strategy sampled 3 clients (out of 10)\n",
            "DEBUG:flwr:fit_round 66: strategy sampled 3 clients (out of 10)\n",
            "\u001b[2m\u001b[36m(pid=34630)\u001b[0m 2023-06-10 10:12:27.262628: W tensorflow/compiler/tf2tensorrt/utils/py_utils.cc:38] TF-TRT Warning: Could not find TensorRT\n"
          ]
        },
        {
          "output_type": "stream",
          "name": "stdout",
          "text": [
            "\u001b[2m\u001b[36m(launch_and_fit pid=34630)\u001b[0m [Client 5, round 66] fit, config: {'server_round': 66, 'local_epochs': 2}\n",
            "\u001b[2m\u001b[36m(launch_and_fit pid=34630)\u001b[0m Epoch 1: train loss 0.015036994591355324, accuracy 0.8248888888888889\n",
            "\u001b[2m\u001b[36m(launch_and_fit pid=34630)\u001b[0m Epoch 2: train loss 0.007575572468340397, accuracy 0.9246666666666666\n"
          ]
        },
        {
          "output_type": "stream",
          "name": "stderr",
          "text": [
            "\u001b[2m\u001b[36m(pid=34717)\u001b[0m 2023-06-10 10:12:37.311125: W tensorflow/compiler/tf2tensorrt/utils/py_utils.cc:38] TF-TRT Warning: Could not find TensorRT\n"
          ]
        },
        {
          "output_type": "stream",
          "name": "stdout",
          "text": [
            "\u001b[2m\u001b[36m(launch_and_fit pid=34717)\u001b[0m [Client 2, round 66] fit, config: {'server_round': 66, 'local_epochs': 2}\n",
            "\u001b[2m\u001b[36m(launch_and_fit pid=34717)\u001b[0m Epoch 1: train loss 0.02385990507900715, accuracy 0.7317777777777777\n",
            "\u001b[2m\u001b[36m(launch_and_fit pid=34717)\u001b[0m Epoch 2: train loss 0.013623438775539398, accuracy 0.8491111111111111\n"
          ]
        },
        {
          "output_type": "stream",
          "name": "stderr",
          "text": [
            "\u001b[2m\u001b[36m(pid=34801)\u001b[0m 2023-06-10 10:12:48.522447: W tensorflow/compiler/tf2tensorrt/utils/py_utils.cc:38] TF-TRT Warning: Could not find TensorRT\n"
          ]
        },
        {
          "output_type": "stream",
          "name": "stdout",
          "text": [
            "\u001b[2m\u001b[36m(launch_and_fit pid=34801)\u001b[0m [Client 3, round 66] fit, config: {'server_round': 66, 'local_epochs': 2}\n",
            "\u001b[2m\u001b[36m(launch_and_fit pid=34801)\u001b[0m Epoch 1: train loss 0.017243269830942154, accuracy 0.8028888888888889\n"
          ]
        },
        {
          "output_type": "stream",
          "name": "stderr",
          "text": [
            "DEBUG flwr 2023-06-10 10:12:56,335 | server.py:232 | fit_round 66 received 3 results and 0 failures\n",
            "DEBUG:flwr:fit_round 66 received 3 results and 0 failures\n"
          ]
        },
        {
          "output_type": "stream",
          "name": "stdout",
          "text": [
            "\u001b[2m\u001b[36m(launch_and_fit pid=34801)\u001b[0m Epoch 2: train loss 0.009792927652597427, accuracy 0.8977777777777778\n"
          ]
        },
        {
          "output_type": "stream",
          "name": "stderr",
          "text": [
            "INFO flwr 2023-06-10 10:13:01,205 | server.py:119 | fit progress: (66, 0.05186604638397694, {'accuracy': 0.5969}, 4419.205829079)\n",
            "INFO:flwr:fit progress: (66, 0.05186604638397694, {'accuracy': 0.5969}, 4419.205829079)\n",
            "DEBUG flwr 2023-06-10 10:13:01,217 | server.py:168 | evaluate_round 66: strategy sampled 3 clients (out of 10)\n",
            "DEBUG:flwr:evaluate_round 66: strategy sampled 3 clients (out of 10)\n"
          ]
        },
        {
          "output_type": "stream",
          "name": "stdout",
          "text": [
            "Server-side evaluation loss 0.05186604638397694 / accuracy 0.5969\n"
          ]
        },
        {
          "output_type": "stream",
          "name": "stderr",
          "text": [
            "\u001b[2m\u001b[36m(pid=34921)\u001b[0m 2023-06-10 10:13:06.883262: W tensorflow/compiler/tf2tensorrt/utils/py_utils.cc:38] TF-TRT Warning: Could not find TensorRT\n"
          ]
        },
        {
          "output_type": "stream",
          "name": "stdout",
          "text": [
            "\u001b[2m\u001b[36m(launch_and_evaluate pid=34921)\u001b[0m [Client 5] evaluate, config: {}\n"
          ]
        },
        {
          "output_type": "stream",
          "name": "stderr",
          "text": [
            "\u001b[2m\u001b[36m(pid=34981)\u001b[0m 2023-06-10 10:13:15.042821: W tensorflow/compiler/tf2tensorrt/utils/py_utils.cc:38] TF-TRT Warning: Could not find TensorRT\n"
          ]
        },
        {
          "output_type": "stream",
          "name": "stdout",
          "text": [
            "\u001b[2m\u001b[36m(launch_and_evaluate pid=34981)\u001b[0m [Client 3] evaluate, config: {}\n"
          ]
        },
        {
          "output_type": "stream",
          "name": "stderr",
          "text": [
            "\u001b[2m\u001b[36m(pid=35056)\u001b[0m 2023-06-10 10:13:21.582979: W tensorflow/compiler/tf2tensorrt/utils/py_utils.cc:38] TF-TRT Warning: Could not find TensorRT\n"
          ]
        },
        {
          "output_type": "stream",
          "name": "stdout",
          "text": [
            "\u001b[2m\u001b[36m(launch_and_evaluate pid=35056)\u001b[0m [Client 9] evaluate, config: {}\n"
          ]
        },
        {
          "output_type": "stream",
          "name": "stderr",
          "text": [
            "DEBUG flwr 2023-06-10 10:13:25,775 | server.py:182 | evaluate_round 66 received 3 results and 0 failures\n",
            "DEBUG:flwr:evaluate_round 66 received 3 results and 0 failures\n",
            "DEBUG flwr 2023-06-10 10:13:25,779 | server.py:218 | fit_round 67: strategy sampled 3 clients (out of 10)\n",
            "DEBUG:flwr:fit_round 67: strategy sampled 3 clients (out of 10)\n",
            "\u001b[2m\u001b[36m(pid=35144)\u001b[0m 2023-06-10 10:13:33.919917: W tensorflow/compiler/tf2tensorrt/utils/py_utils.cc:38] TF-TRT Warning: Could not find TensorRT\n"
          ]
        },
        {
          "output_type": "stream",
          "name": "stdout",
          "text": [
            "\u001b[2m\u001b[36m(launch_and_fit pid=35144)\u001b[0m [Client 4, round 67] fit, config: {'server_round': 67, 'local_epochs': 2}\n",
            "\u001b[2m\u001b[36m(launch_and_fit pid=35144)\u001b[0m Epoch 1: train loss 0.019995367154479027, accuracy 0.7675555555555555\n",
            "\u001b[2m\u001b[36m(launch_and_fit pid=35144)\u001b[0m Epoch 2: train loss 0.011090531945228577, accuracy 0.8811111111111111\n"
          ]
        },
        {
          "output_type": "stream",
          "name": "stderr",
          "text": [
            "\u001b[2m\u001b[36m(pid=35219)\u001b[0m 2023-06-10 10:13:45.052449: W tensorflow/compiler/tf2tensorrt/utils/py_utils.cc:38] TF-TRT Warning: Could not find TensorRT\n"
          ]
        },
        {
          "output_type": "stream",
          "name": "stdout",
          "text": [
            "\u001b[2m\u001b[36m(launch_and_fit pid=35219)\u001b[0m [Client 6, round 67] fit, config: {'server_round': 67, 'local_epochs': 2}\n",
            "\u001b[2m\u001b[36m(launch_and_fit pid=35219)\u001b[0m Epoch 1: train loss 0.021998560056090355, accuracy 0.7564444444444445\n",
            "\u001b[2m\u001b[36m(launch_and_fit pid=35219)\u001b[0m Epoch 2: train loss 0.012791299261152744, accuracy 0.8588888888888889\n"
          ]
        },
        {
          "output_type": "stream",
          "name": "stderr",
          "text": [
            "\u001b[2m\u001b[36m(pid=35310)\u001b[0m 2023-06-10 10:13:55.184122: W tensorflow/compiler/tf2tensorrt/utils/py_utils.cc:38] TF-TRT Warning: Could not find TensorRT\n"
          ]
        },
        {
          "output_type": "stream",
          "name": "stdout",
          "text": [
            "\u001b[2m\u001b[36m(launch_and_fit pid=35310)\u001b[0m [Client 2, round 67] fit, config: {'server_round': 67, 'local_epochs': 2}\n",
            "\u001b[2m\u001b[36m(launch_and_fit pid=35310)\u001b[0m Epoch 1: train loss 0.01876210980117321, accuracy 0.7871111111111111\n"
          ]
        },
        {
          "output_type": "stream",
          "name": "stderr",
          "text": [
            "DEBUG flwr 2023-06-10 10:14:04,710 | server.py:232 | fit_round 67 received 3 results and 0 failures\n",
            "DEBUG:flwr:fit_round 67 received 3 results and 0 failures\n"
          ]
        },
        {
          "output_type": "stream",
          "name": "stdout",
          "text": [
            "\u001b[2m\u001b[36m(launch_and_fit pid=35310)\u001b[0m Epoch 2: train loss 0.010470162145793438, accuracy 0.8857777777777778\n"
          ]
        },
        {
          "output_type": "stream",
          "name": "stderr",
          "text": [
            "INFO flwr 2023-06-10 10:14:07,950 | server.py:119 | fit progress: (67, 0.051389950132369994, {'accuracy': 0.6002}, 4485.950200972)\n",
            "INFO:flwr:fit progress: (67, 0.051389950132369994, {'accuracy': 0.6002}, 4485.950200972)\n",
            "DEBUG flwr 2023-06-10 10:14:07,959 | server.py:168 | evaluate_round 67: strategy sampled 3 clients (out of 10)\n",
            "DEBUG:flwr:evaluate_round 67: strategy sampled 3 clients (out of 10)\n"
          ]
        },
        {
          "output_type": "stream",
          "name": "stdout",
          "text": [
            "Server-side evaluation loss 0.051389950132369994 / accuracy 0.6002\n"
          ]
        },
        {
          "output_type": "stream",
          "name": "stderr",
          "text": [
            "\u001b[2m\u001b[36m(pid=35427)\u001b[0m 2023-06-10 10:14:14.547178: W tensorflow/compiler/tf2tensorrt/utils/py_utils.cc:38] TF-TRT Warning: Could not find TensorRT\n"
          ]
        },
        {
          "output_type": "stream",
          "name": "stdout",
          "text": [
            "\u001b[2m\u001b[36m(launch_and_evaluate pid=35427)\u001b[0m [Client 1] evaluate, config: {}\n"
          ]
        },
        {
          "output_type": "stream",
          "name": "stderr",
          "text": [
            "\u001b[2m\u001b[36m(pid=35502)\u001b[0m 2023-06-10 10:14:22.204151: W tensorflow/compiler/tf2tensorrt/utils/py_utils.cc:38] TF-TRT Warning: Could not find TensorRT\n"
          ]
        },
        {
          "output_type": "stream",
          "name": "stdout",
          "text": [
            "\u001b[2m\u001b[36m(launch_and_evaluate pid=35502)\u001b[0m [Client 4] evaluate, config: {}\n"
          ]
        },
        {
          "output_type": "stream",
          "name": "stderr",
          "text": [
            "\u001b[2m\u001b[36m(pid=35562)\u001b[0m 2023-06-10 10:14:29.206249: W tensorflow/compiler/tf2tensorrt/utils/py_utils.cc:38] TF-TRT Warning: Could not find TensorRT\n"
          ]
        },
        {
          "output_type": "stream",
          "name": "stdout",
          "text": [
            "\u001b[2m\u001b[36m(launch_and_evaluate pid=35562)\u001b[0m [Client 3] evaluate, config: {}\n"
          ]
        },
        {
          "output_type": "stream",
          "name": "stderr",
          "text": [
            "DEBUG flwr 2023-06-10 10:14:35,257 | server.py:182 | evaluate_round 67 received 3 results and 0 failures\n",
            "DEBUG:flwr:evaluate_round 67 received 3 results and 0 failures\n",
            "DEBUG flwr 2023-06-10 10:14:35,266 | server.py:218 | fit_round 68: strategy sampled 3 clients (out of 10)\n",
            "DEBUG:flwr:fit_round 68: strategy sampled 3 clients (out of 10)\n",
            "\u001b[2m\u001b[36m(pid=35655)\u001b[0m 2023-06-10 10:14:40.990820: W tensorflow/compiler/tf2tensorrt/utils/py_utils.cc:38] TF-TRT Warning: Could not find TensorRT\n"
          ]
        },
        {
          "output_type": "stream",
          "name": "stdout",
          "text": [
            "\u001b[2m\u001b[36m(launch_and_fit pid=35655)\u001b[0m [Client 1, round 68] fit, config: {'server_round': 68, 'local_epochs': 2}\n",
            "\u001b[2m\u001b[36m(launch_and_fit pid=35655)\u001b[0m Epoch 1: train loss 0.018060892820358276, accuracy 0.7926666666666666\n",
            "\u001b[2m\u001b[36m(launch_and_fit pid=35655)\u001b[0m Epoch 2: train loss 0.009092205204069614, accuracy 0.898\n"
          ]
        },
        {
          "output_type": "stream",
          "name": "stderr",
          "text": [
            "\u001b[2m\u001b[36m(pid=35740)\u001b[0m 2023-06-10 10:14:52.466312: W tensorflow/compiler/tf2tensorrt/utils/py_utils.cc:38] TF-TRT Warning: Could not find TensorRT\n"
          ]
        },
        {
          "output_type": "stream",
          "name": "stdout",
          "text": [
            "\u001b[2m\u001b[36m(launch_and_fit pid=35740)\u001b[0m [Client 6, round 68] fit, config: {'server_round': 68, 'local_epochs': 2}\n",
            "\u001b[2m\u001b[36m(launch_and_fit pid=35740)\u001b[0m Epoch 1: train loss 0.017682408913969994, accuracy 0.7973333333333333\n",
            "\u001b[2m\u001b[36m(launch_and_fit pid=35740)\u001b[0m Epoch 2: train loss 0.01017179898917675, accuracy 0.8913333333333333\n"
          ]
        },
        {
          "output_type": "stream",
          "name": "stderr",
          "text": [
            "\u001b[2m\u001b[36m(pid=35820)\u001b[0m 2023-06-10 10:15:04.764425: W tensorflow/compiler/tf2tensorrt/utils/py_utils.cc:38] TF-TRT Warning: Could not find TensorRT\n"
          ]
        },
        {
          "output_type": "stream",
          "name": "stdout",
          "text": [
            "\u001b[2m\u001b[36m(launch_and_fit pid=35820)\u001b[0m [Client 2, round 68] fit, config: {'server_round': 68, 'local_epochs': 2}\n",
            "\u001b[2m\u001b[36m(launch_and_fit pid=35820)\u001b[0m Epoch 1: train loss 0.014340001158416271, accuracy 0.8306666666666667\n"
          ]
        },
        {
          "output_type": "stream",
          "name": "stderr",
          "text": [
            "DEBUG flwr 2023-06-10 10:15:11,909 | server.py:232 | fit_round 68 received 3 results and 0 failures\n",
            "DEBUG:flwr:fit_round 68 received 3 results and 0 failures\n"
          ]
        },
        {
          "output_type": "stream",
          "name": "stdout",
          "text": [
            "\u001b[2m\u001b[36m(launch_and_fit pid=35820)\u001b[0m Epoch 2: train loss 0.0083809494972229, accuracy 0.9137777777777778\n"
          ]
        },
        {
          "output_type": "stream",
          "name": "stderr",
          "text": [
            "INFO flwr 2023-06-10 10:15:15,518 | server.py:119 | fit progress: (68, 0.05343558666110039, {'accuracy': 0.6004}, 4553.518450373001)\n",
            "INFO:flwr:fit progress: (68, 0.05343558666110039, {'accuracy': 0.6004}, 4553.518450373001)\n",
            "DEBUG flwr 2023-06-10 10:15:15,525 | server.py:168 | evaluate_round 68: strategy sampled 3 clients (out of 10)\n",
            "DEBUG:flwr:evaluate_round 68: strategy sampled 3 clients (out of 10)\n"
          ]
        },
        {
          "output_type": "stream",
          "name": "stdout",
          "text": [
            "Server-side evaluation loss 0.05343558666110039 / accuracy 0.6004\n"
          ]
        },
        {
          "output_type": "stream",
          "name": "stderr",
          "text": [
            "\u001b[2m\u001b[36m(pid=35952)\u001b[0m 2023-06-10 10:15:26.115948: W tensorflow/compiler/tf2tensorrt/utils/py_utils.cc:38] TF-TRT Warning: Could not find TensorRT\n"
          ]
        },
        {
          "output_type": "stream",
          "name": "stdout",
          "text": [
            "\u001b[2m\u001b[36m(launch_and_evaluate pid=35952)\u001b[0m [Client 8] evaluate, config: {}\n"
          ]
        },
        {
          "output_type": "stream",
          "name": "stderr",
          "text": [
            "\u001b[2m\u001b[36m(pid=36021)\u001b[0m 2023-06-10 10:15:33.901460: W tensorflow/compiler/tf2tensorrt/utils/py_utils.cc:38] TF-TRT Warning: Could not find TensorRT\n"
          ]
        },
        {
          "output_type": "stream",
          "name": "stdout",
          "text": [
            "\u001b[2m\u001b[36m(launch_and_evaluate pid=36021)\u001b[0m [Client 2] evaluate, config: {}\n"
          ]
        },
        {
          "output_type": "stream",
          "name": "stderr",
          "text": [
            "\u001b[2m\u001b[36m(pid=36094)\u001b[0m 2023-06-10 10:15:40.773850: W tensorflow/compiler/tf2tensorrt/utils/py_utils.cc:38] TF-TRT Warning: Could not find TensorRT\n"
          ]
        },
        {
          "output_type": "stream",
          "name": "stdout",
          "text": [
            "\u001b[2m\u001b[36m(launch_and_evaluate pid=36094)\u001b[0m [Client 0] evaluate, config: {}\n"
          ]
        },
        {
          "output_type": "stream",
          "name": "stderr",
          "text": [
            "DEBUG flwr 2023-06-10 10:15:44,895 | server.py:182 | evaluate_round 68 received 3 results and 0 failures\n",
            "DEBUG:flwr:evaluate_round 68 received 3 results and 0 failures\n",
            "DEBUG flwr 2023-06-10 10:15:44,898 | server.py:218 | fit_round 69: strategy sampled 3 clients (out of 10)\n",
            "DEBUG:flwr:fit_round 69: strategy sampled 3 clients (out of 10)\n",
            "\u001b[2m\u001b[36m(pid=36184)\u001b[0m 2023-06-10 10:15:53.172102: W tensorflow/compiler/tf2tensorrt/utils/py_utils.cc:38] TF-TRT Warning: Could not find TensorRT\n"
          ]
        },
        {
          "output_type": "stream",
          "name": "stdout",
          "text": [
            "\u001b[2m\u001b[36m(launch_and_fit pid=36184)\u001b[0m [Client 4, round 69] fit, config: {'server_round': 69, 'local_epochs': 2}\n",
            "\u001b[2m\u001b[36m(launch_and_fit pid=36184)\u001b[0m Epoch 1: train loss 0.017302779480814934, accuracy 0.8035555555555556\n",
            "\u001b[2m\u001b[36m(launch_and_fit pid=36184)\u001b[0m Epoch 2: train loss 0.008560575544834137, accuracy 0.9117777777777778\n"
          ]
        },
        {
          "output_type": "stream",
          "name": "stderr",
          "text": [
            "\u001b[2m\u001b[36m(pid=36263)\u001b[0m 2023-06-10 10:16:04.295899: W tensorflow/compiler/tf2tensorrt/utils/py_utils.cc:38] TF-TRT Warning: Could not find TensorRT\n"
          ]
        },
        {
          "output_type": "stream",
          "name": "stdout",
          "text": [
            "\u001b[2m\u001b[36m(launch_and_fit pid=36263)\u001b[0m [Client 7, round 69] fit, config: {'server_round': 69, 'local_epochs': 2}\n",
            "\u001b[2m\u001b[36m(launch_and_fit pid=36263)\u001b[0m Epoch 1: train loss 0.020427081733942032, accuracy 0.7748888888888888\n",
            "\u001b[2m\u001b[36m(launch_and_fit pid=36263)\u001b[0m Epoch 2: train loss 0.011037904769182205, accuracy 0.8824444444444445\n"
          ]
        },
        {
          "output_type": "stream",
          "name": "stderr",
          "text": [
            "\u001b[2m\u001b[36m(pid=36351)\u001b[0m 2023-06-10 10:16:14.640955: W tensorflow/compiler/tf2tensorrt/utils/py_utils.cc:38] TF-TRT Warning: Could not find TensorRT\n"
          ]
        },
        {
          "output_type": "stream",
          "name": "stdout",
          "text": [
            "\u001b[2m\u001b[36m(launch_and_fit pid=36351)\u001b[0m [Client 3, round 69] fit, config: {'server_round': 69, 'local_epochs': 2}\n",
            "\u001b[2m\u001b[36m(launch_and_fit pid=36351)\u001b[0m Epoch 1: train loss 0.017810983583331108, accuracy 0.7995555555555556\n"
          ]
        },
        {
          "output_type": "stream",
          "name": "stderr",
          "text": [
            "DEBUG flwr 2023-06-10 10:16:24,337 | server.py:232 | fit_round 69 received 3 results and 0 failures\n",
            "DEBUG:flwr:fit_round 69 received 3 results and 0 failures\n"
          ]
        },
        {
          "output_type": "stream",
          "name": "stdout",
          "text": [
            "\u001b[2m\u001b[36m(launch_and_fit pid=36351)\u001b[0m Epoch 2: train loss 0.009843483567237854, accuracy 0.892\n"
          ]
        },
        {
          "output_type": "stream",
          "name": "stderr",
          "text": [
            "INFO flwr 2023-06-10 10:16:27,635 | server.py:119 | fit progress: (69, 0.05322630047798157, {'accuracy': 0.6023}, 4625.635547777)\n",
            "INFO:flwr:fit progress: (69, 0.05322630047798157, {'accuracy': 0.6023}, 4625.635547777)\n",
            "DEBUG flwr 2023-06-10 10:16:27,647 | server.py:168 | evaluate_round 69: strategy sampled 3 clients (out of 10)\n",
            "DEBUG:flwr:evaluate_round 69: strategy sampled 3 clients (out of 10)\n"
          ]
        },
        {
          "output_type": "stream",
          "name": "stdout",
          "text": [
            "Server-side evaluation loss 0.05322630047798157 / accuracy 0.6023\n"
          ]
        },
        {
          "output_type": "stream",
          "name": "stderr",
          "text": [
            "\u001b[2m\u001b[36m(pid=36471)\u001b[0m 2023-06-10 10:16:34.736802: W tensorflow/compiler/tf2tensorrt/utils/py_utils.cc:38] TF-TRT Warning: Could not find TensorRT\n"
          ]
        },
        {
          "output_type": "stream",
          "name": "stdout",
          "text": [
            "\u001b[2m\u001b[36m(launch_and_evaluate pid=36471)\u001b[0m [Client 6] evaluate, config: {}\n"
          ]
        },
        {
          "output_type": "stream",
          "name": "stderr",
          "text": [
            "\u001b[2m\u001b[36m(pid=36544)\u001b[0m 2023-06-10 10:16:42.144452: W tensorflow/compiler/tf2tensorrt/utils/py_utils.cc:38] TF-TRT Warning: Could not find TensorRT\n"
          ]
        },
        {
          "output_type": "stream",
          "name": "stdout",
          "text": [
            "\u001b[2m\u001b[36m(launch_and_evaluate pid=36544)\u001b[0m [Client 7] evaluate, config: {}\n"
          ]
        },
        {
          "output_type": "stream",
          "name": "stderr",
          "text": [
            "\u001b[2m\u001b[36m(pid=36604)\u001b[0m 2023-06-10 10:16:49.243424: W tensorflow/compiler/tf2tensorrt/utils/py_utils.cc:38] TF-TRT Warning: Could not find TensorRT\n"
          ]
        },
        {
          "output_type": "stream",
          "name": "stdout",
          "text": [
            "\u001b[2m\u001b[36m(launch_and_evaluate pid=36604)\u001b[0m [Client 2] evaluate, config: {}\n"
          ]
        },
        {
          "output_type": "stream",
          "name": "stderr",
          "text": [
            "DEBUG flwr 2023-06-10 10:16:55,306 | server.py:182 | evaluate_round 69 received 3 results and 0 failures\n",
            "DEBUG:flwr:evaluate_round 69 received 3 results and 0 failures\n",
            "DEBUG flwr 2023-06-10 10:16:55,315 | server.py:218 | fit_round 70: strategy sampled 3 clients (out of 10)\n",
            "DEBUG:flwr:fit_round 70: strategy sampled 3 clients (out of 10)\n",
            "\u001b[2m\u001b[36m(pid=36699)\u001b[0m 2023-06-10 10:17:01.415313: W tensorflow/compiler/tf2tensorrt/utils/py_utils.cc:38] TF-TRT Warning: Could not find TensorRT\n"
          ]
        },
        {
          "output_type": "stream",
          "name": "stdout",
          "text": [
            "\u001b[2m\u001b[36m(launch_and_fit pid=36699)\u001b[0m [Client 0, round 70] fit, config: {'server_round': 70, 'local_epochs': 2}\n",
            "\u001b[2m\u001b[36m(launch_and_fit pid=36699)\u001b[0m Epoch 1: train loss 0.026155777275562286, accuracy 0.7046666666666667\n",
            "\u001b[2m\u001b[36m(launch_and_fit pid=36699)\u001b[0m Epoch 2: train loss 0.015196024440228939, accuracy 0.8322222222222222\n"
          ]
        },
        {
          "output_type": "stream",
          "name": "stderr",
          "text": [
            "\u001b[2m\u001b[36m(pid=36786)\u001b[0m 2023-06-10 10:17:13.210216: W tensorflow/compiler/tf2tensorrt/utils/py_utils.cc:38] TF-TRT Warning: Could not find TensorRT\n"
          ]
        },
        {
          "output_type": "stream",
          "name": "stdout",
          "text": [
            "\u001b[2m\u001b[36m(launch_and_fit pid=36786)\u001b[0m [Client 8, round 70] fit, config: {'server_round': 70, 'local_epochs': 2}\n",
            "\u001b[2m\u001b[36m(launch_and_fit pid=36786)\u001b[0m Epoch 1: train loss 0.028515378013253212, accuracy 0.692\n",
            "\u001b[2m\u001b[36m(launch_and_fit pid=36786)\u001b[0m Epoch 2: train loss 0.017781727015972137, accuracy 0.8013333333333333\n"
          ]
        },
        {
          "output_type": "stream",
          "name": "stderr",
          "text": [
            "\u001b[2m\u001b[36m(pid=36868)\u001b[0m 2023-06-10 10:17:25.078433: W tensorflow/compiler/tf2tensorrt/utils/py_utils.cc:38] TF-TRT Warning: Could not find TensorRT\n"
          ]
        },
        {
          "output_type": "stream",
          "name": "stdout",
          "text": [
            "\u001b[2m\u001b[36m(launch_and_fit pid=36868)\u001b[0m [Client 9, round 70] fit, config: {'server_round': 70, 'local_epochs': 2}\n",
            "\u001b[2m\u001b[36m(launch_and_fit pid=36868)\u001b[0m Epoch 1: train loss 0.014621895737946033, accuracy 0.8346666666666667\n"
          ]
        },
        {
          "output_type": "stream",
          "name": "stderr",
          "text": [
            "DEBUG flwr 2023-06-10 10:17:32,494 | server.py:232 | fit_round 70 received 3 results and 0 failures\n",
            "DEBUG:flwr:fit_round 70 received 3 results and 0 failures\n"
          ]
        },
        {
          "output_type": "stream",
          "name": "stdout",
          "text": [
            "\u001b[2m\u001b[36m(launch_and_fit pid=36868)\u001b[0m Epoch 2: train loss 0.00648432457819581, accuracy 0.9342222222222222\n"
          ]
        },
        {
          "output_type": "stream",
          "name": "stderr",
          "text": [
            "INFO flwr 2023-06-10 10:17:36,850 | server.py:119 | fit progress: (70, 0.04909010318517685, {'accuracy': 0.6026}, 4694.850887808)\n",
            "INFO:flwr:fit progress: (70, 0.04909010318517685, {'accuracy': 0.6026}, 4694.850887808)\n",
            "DEBUG flwr 2023-06-10 10:17:36,857 | server.py:168 | evaluate_round 70: strategy sampled 3 clients (out of 10)\n",
            "DEBUG:flwr:evaluate_round 70: strategy sampled 3 clients (out of 10)\n"
          ]
        },
        {
          "output_type": "stream",
          "name": "stdout",
          "text": [
            "Server-side evaluation loss 0.04909010318517685 / accuracy 0.6026\n"
          ]
        },
        {
          "output_type": "stream",
          "name": "stderr",
          "text": [
            "\u001b[2m\u001b[36m(pid=36998)\u001b[0m 2023-06-10 10:17:43.888514: W tensorflow/compiler/tf2tensorrt/utils/py_utils.cc:38] TF-TRT Warning: Could not find TensorRT\n"
          ]
        },
        {
          "output_type": "stream",
          "name": "stdout",
          "text": [
            "\u001b[2m\u001b[36m(launch_and_evaluate pid=36998)\u001b[0m [Client 0] evaluate, config: {}\n"
          ]
        },
        {
          "output_type": "stream",
          "name": "stderr",
          "text": [
            "\u001b[2m\u001b[36m(pid=37059)\u001b[0m 2023-06-10 10:17:51.006733: W tensorflow/compiler/tf2tensorrt/utils/py_utils.cc:38] TF-TRT Warning: Could not find TensorRT\n"
          ]
        },
        {
          "output_type": "stream",
          "name": "stdout",
          "text": [
            "\u001b[2m\u001b[36m(launch_and_evaluate pid=37059)\u001b[0m [Client 6] evaluate, config: {}\n"
          ]
        },
        {
          "output_type": "stream",
          "name": "stderr",
          "text": [
            "\u001b[2m\u001b[36m(pid=37133)\u001b[0m 2023-06-10 10:17:59.318926: W tensorflow/compiler/tf2tensorrt/utils/py_utils.cc:38] TF-TRT Warning: Could not find TensorRT\n"
          ]
        },
        {
          "output_type": "stream",
          "name": "stdout",
          "text": [
            "\u001b[2m\u001b[36m(launch_and_evaluate pid=37133)\u001b[0m [Client 7] evaluate, config: {}\n"
          ]
        },
        {
          "output_type": "stream",
          "name": "stderr",
          "text": [
            "DEBUG flwr 2023-06-10 10:18:03,491 | server.py:182 | evaluate_round 70 received 3 results and 0 failures\n",
            "DEBUG:flwr:evaluate_round 70 received 3 results and 0 failures\n",
            "DEBUG flwr 2023-06-10 10:18:03,499 | server.py:218 | fit_round 71: strategy sampled 3 clients (out of 10)\n",
            "DEBUG:flwr:fit_round 71: strategy sampled 3 clients (out of 10)\n",
            "\u001b[2m\u001b[36m(pid=37218)\u001b[0m 2023-06-10 10:18:11.961715: W tensorflow/compiler/tf2tensorrt/utils/py_utils.cc:38] TF-TRT Warning: Could not find TensorRT\n"
          ]
        },
        {
          "output_type": "stream",
          "name": "stdout",
          "text": [
            "\u001b[2m\u001b[36m(launch_and_fit pid=37218)\u001b[0m [Client 9, round 71] fit, config: {'server_round': 71, 'local_epochs': 2}\n",
            "\u001b[2m\u001b[36m(launch_and_fit pid=37218)\u001b[0m Epoch 1: train loss 0.010574489831924438, accuracy 0.8848888888888888\n",
            "\u001b[2m\u001b[36m(launch_and_fit pid=37218)\u001b[0m Epoch 2: train loss 0.005116322077810764, accuracy 0.9508888888888889\n"
          ]
        },
        {
          "output_type": "stream",
          "name": "stderr",
          "text": [
            "\u001b[2m\u001b[36m(pid=37302)\u001b[0m 2023-06-10 10:18:21.531777: W tensorflow/compiler/tf2tensorrt/utils/py_utils.cc:38] TF-TRT Warning: Could not find TensorRT\n"
          ]
        },
        {
          "output_type": "stream",
          "name": "stdout",
          "text": [
            "\u001b[2m\u001b[36m(launch_and_fit pid=37302)\u001b[0m [Client 4, round 71] fit, config: {'server_round': 71, 'local_epochs': 2}\n",
            "\u001b[2m\u001b[36m(launch_and_fit pid=37302)\u001b[0m Epoch 1: train loss 0.015196043066680431, accuracy 0.8213333333333334\n",
            "\u001b[2m\u001b[36m(launch_and_fit pid=37302)\u001b[0m Epoch 2: train loss 0.00823263544589281, accuracy 0.9168888888888889\n"
          ]
        },
        {
          "output_type": "stream",
          "name": "stderr",
          "text": [
            "\u001b[2m\u001b[36m(pid=37396)\u001b[0m 2023-06-10 10:18:35.973178: W tensorflow/compiler/tf2tensorrt/utils/py_utils.cc:38] TF-TRT Warning: Could not find TensorRT\n"
          ]
        },
        {
          "output_type": "stream",
          "name": "stdout",
          "text": [
            "\u001b[2m\u001b[36m(launch_and_fit pid=37396)\u001b[0m [Client 2, round 71] fit, config: {'server_round': 71, 'local_epochs': 2}\n",
            "\u001b[2m\u001b[36m(launch_and_fit pid=37396)\u001b[0m Epoch 1: train loss 0.01653841696679592, accuracy 0.8097777777777778\n"
          ]
        },
        {
          "output_type": "stream",
          "name": "stderr",
          "text": [
            "DEBUG flwr 2023-06-10 10:18:45,360 | server.py:232 | fit_round 71 received 3 results and 0 failures\n",
            "DEBUG:flwr:fit_round 71 received 3 results and 0 failures\n"
          ]
        },
        {
          "output_type": "stream",
          "name": "stdout",
          "text": [
            "\u001b[2m\u001b[36m(launch_and_fit pid=37396)\u001b[0m Epoch 2: train loss 0.0077966004610061646, accuracy 0.9217777777777778\n"
          ]
        },
        {
          "output_type": "stream",
          "name": "stderr",
          "text": [
            "INFO flwr 2023-06-10 10:18:48,668 | server.py:119 | fit progress: (71, 0.05792275162935257, {'accuracy': 0.6004}, 4766.668221326)\n",
            "INFO:flwr:fit progress: (71, 0.05792275162935257, {'accuracy': 0.6004}, 4766.668221326)\n",
            "DEBUG flwr 2023-06-10 10:18:48,685 | server.py:168 | evaluate_round 71: strategy sampled 3 clients (out of 10)\n",
            "DEBUG:flwr:evaluate_round 71: strategy sampled 3 clients (out of 10)\n"
          ]
        },
        {
          "output_type": "stream",
          "name": "stdout",
          "text": [
            "Server-side evaluation loss 0.05792275162935257 / accuracy 0.6004\n"
          ]
        },
        {
          "output_type": "stream",
          "name": "stderr",
          "text": [
            "\u001b[2m\u001b[36m(pid=37523)\u001b[0m 2023-06-10 10:18:56.955193: W tensorflow/compiler/tf2tensorrt/utils/py_utils.cc:38] TF-TRT Warning: Could not find TensorRT\n"
          ]
        },
        {
          "output_type": "stream",
          "name": "stdout",
          "text": [
            "\u001b[2m\u001b[36m(launch_and_evaluate pid=37523)\u001b[0m [Client 8] evaluate, config: {}\n"
          ]
        },
        {
          "output_type": "stream",
          "name": "stderr",
          "text": [
            "\u001b[2m\u001b[36m(pid=37596)\u001b[0m 2023-06-10 10:19:03.387717: W tensorflow/compiler/tf2tensorrt/utils/py_utils.cc:38] TF-TRT Warning: Could not find TensorRT\n"
          ]
        },
        {
          "output_type": "stream",
          "name": "stdout",
          "text": [
            "\u001b[2m\u001b[36m(launch_and_evaluate pid=37596)\u001b[0m [Client 5] evaluate, config: {}\n"
          ]
        },
        {
          "output_type": "stream",
          "name": "stderr",
          "text": [
            "\u001b[2m\u001b[36m(pid=37658)\u001b[0m 2023-06-10 10:19:12.092965: W tensorflow/compiler/tf2tensorrt/utils/py_utils.cc:38] TF-TRT Warning: Could not find TensorRT\n"
          ]
        },
        {
          "output_type": "stream",
          "name": "stdout",
          "text": [
            "\u001b[2m\u001b[36m(launch_and_evaluate pid=37658)\u001b[0m [Client 2] evaluate, config: {}\n"
          ]
        },
        {
          "output_type": "stream",
          "name": "stderr",
          "text": [
            "DEBUG flwr 2023-06-10 10:19:16,621 | server.py:182 | evaluate_round 71 received 3 results and 0 failures\n",
            "DEBUG:flwr:evaluate_round 71 received 3 results and 0 failures\n",
            "DEBUG flwr 2023-06-10 10:19:16,627 | server.py:218 | fit_round 72: strategy sampled 3 clients (out of 10)\n",
            "DEBUG:flwr:fit_round 72: strategy sampled 3 clients (out of 10)\n",
            "\u001b[2m\u001b[36m(pid=37753)\u001b[0m 2023-06-10 10:19:22.562784: W tensorflow/compiler/tf2tensorrt/utils/py_utils.cc:38] TF-TRT Warning: Could not find TensorRT\n"
          ]
        },
        {
          "output_type": "stream",
          "name": "stdout",
          "text": [
            "\u001b[2m\u001b[36m(launch_and_fit pid=37753)\u001b[0m [Client 4, round 72] fit, config: {'server_round': 72, 'local_epochs': 2}\n",
            "\u001b[2m\u001b[36m(launch_and_fit pid=37753)\u001b[0m Epoch 1: train loss 0.01199910044670105, accuracy 0.8597777777777778\n",
            "\u001b[2m\u001b[36m(launch_and_fit pid=37753)\u001b[0m Epoch 2: train loss 0.006252858322113752, accuracy 0.9362222222222222\n"
          ]
        },
        {
          "output_type": "stream",
          "name": "stderr",
          "text": [
            "\u001b[2m\u001b[36m(pid=37841)\u001b[0m 2023-06-10 10:19:34.545861: W tensorflow/compiler/tf2tensorrt/utils/py_utils.cc:38] TF-TRT Warning: Could not find TensorRT\n"
          ]
        },
        {
          "output_type": "stream",
          "name": "stdout",
          "text": [
            "\u001b[2m\u001b[36m(launch_and_fit pid=37841)\u001b[0m [Client 6, round 72] fit, config: {'server_round': 72, 'local_epochs': 2}\n",
            "\u001b[2m\u001b[36m(launch_and_fit pid=37841)\u001b[0m Epoch 1: train loss 0.019335031509399414, accuracy 0.78\n",
            "\u001b[2m\u001b[36m(launch_and_fit pid=37841)\u001b[0m Epoch 2: train loss 0.010372959077358246, accuracy 0.8906666666666667\n"
          ]
        },
        {
          "output_type": "stream",
          "name": "stderr",
          "text": [
            "\u001b[2m\u001b[36m(pid=37930)\u001b[0m 2023-06-10 10:19:46.503801: W tensorflow/compiler/tf2tensorrt/utils/py_utils.cc:38] TF-TRT Warning: Could not find TensorRT\n"
          ]
        },
        {
          "output_type": "stream",
          "name": "stdout",
          "text": [
            "\u001b[2m\u001b[36m(launch_and_fit pid=37930)\u001b[0m [Client 7, round 72] fit, config: {'server_round': 72, 'local_epochs': 2}\n",
            "\u001b[2m\u001b[36m(launch_and_fit pid=37930)\u001b[0m Epoch 1: train loss 0.0184263177216053, accuracy 0.7908888888888889\n"
          ]
        },
        {
          "output_type": "stream",
          "name": "stderr",
          "text": [
            "DEBUG flwr 2023-06-10 10:19:54,415 | server.py:232 | fit_round 72 received 3 results and 0 failures\n",
            "DEBUG:flwr:fit_round 72 received 3 results and 0 failures\n"
          ]
        },
        {
          "output_type": "stream",
          "name": "stdout",
          "text": [
            "\u001b[2m\u001b[36m(launch_and_fit pid=37930)\u001b[0m Epoch 2: train loss 0.009924032725393772, accuracy 0.8931111111111111\n"
          ]
        },
        {
          "output_type": "stream",
          "name": "stderr",
          "text": [
            "INFO flwr 2023-06-10 10:19:59,892 | server.py:119 | fit progress: (72, 0.05536249445080757, {'accuracy': 0.595}, 4837.892954709)\n",
            "INFO:flwr:fit progress: (72, 0.05536249445080757, {'accuracy': 0.595}, 4837.892954709)\n",
            "DEBUG flwr 2023-06-10 10:19:59,901 | server.py:168 | evaluate_round 72: strategy sampled 3 clients (out of 10)\n",
            "DEBUG:flwr:evaluate_round 72: strategy sampled 3 clients (out of 10)\n"
          ]
        },
        {
          "output_type": "stream",
          "name": "stdout",
          "text": [
            "Server-side evaluation loss 0.05536249445080757 / accuracy 0.595\n"
          ]
        },
        {
          "output_type": "stream",
          "name": "stderr",
          "text": [
            "\u001b[2m\u001b[36m(pid=38049)\u001b[0m 2023-06-10 10:20:05.789252: W tensorflow/compiler/tf2tensorrt/utils/py_utils.cc:38] TF-TRT Warning: Could not find TensorRT\n"
          ]
        },
        {
          "output_type": "stream",
          "name": "stdout",
          "text": [
            "\u001b[2m\u001b[36m(launch_and_evaluate pid=38049)\u001b[0m [Client 9] evaluate, config: {}\n"
          ]
        },
        {
          "output_type": "stream",
          "name": "stderr",
          "text": [
            "\u001b[2m\u001b[36m(pid=38113)\u001b[0m 2023-06-10 10:20:14.839329: W tensorflow/compiler/tf2tensorrt/utils/py_utils.cc:38] TF-TRT Warning: Could not find TensorRT\n"
          ]
        },
        {
          "output_type": "stream",
          "name": "stdout",
          "text": [
            "\u001b[2m\u001b[36m(launch_and_evaluate pid=38113)\u001b[0m [Client 1] evaluate, config: {}\n"
          ]
        },
        {
          "output_type": "stream",
          "name": "stderr",
          "text": [
            "\u001b[2m\u001b[36m(pid=38186)\u001b[0m 2023-06-10 10:20:21.396210: W tensorflow/compiler/tf2tensorrt/utils/py_utils.cc:38] TF-TRT Warning: Could not find TensorRT\n"
          ]
        },
        {
          "output_type": "stream",
          "name": "stdout",
          "text": [
            "\u001b[2m\u001b[36m(launch_and_evaluate pid=38186)\u001b[0m [Client 0] evaluate, config: {}\n"
          ]
        },
        {
          "output_type": "stream",
          "name": "stderr",
          "text": [
            "DEBUG flwr 2023-06-10 10:20:25,615 | server.py:182 | evaluate_round 72 received 3 results and 0 failures\n",
            "DEBUG:flwr:evaluate_round 72 received 3 results and 0 failures\n",
            "DEBUG flwr 2023-06-10 10:20:25,623 | server.py:218 | fit_round 73: strategy sampled 3 clients (out of 10)\n",
            "DEBUG:flwr:fit_round 73: strategy sampled 3 clients (out of 10)\n",
            "\u001b[2m\u001b[36m(pid=38280)\u001b[0m 2023-06-10 10:20:33.962080: W tensorflow/compiler/tf2tensorrt/utils/py_utils.cc:38] TF-TRT Warning: Could not find TensorRT\n"
          ]
        },
        {
          "output_type": "stream",
          "name": "stdout",
          "text": [
            "\u001b[2m\u001b[36m(launch_and_fit pid=38280)\u001b[0m [Client 7, round 73] fit, config: {'server_round': 73, 'local_epochs': 2}\n",
            "\u001b[2m\u001b[36m(launch_and_fit pid=38280)\u001b[0m Epoch 1: train loss 0.013963501900434494, accuracy 0.8455555555555555\n",
            "\u001b[2m\u001b[36m(launch_and_fit pid=38280)\u001b[0m Epoch 2: train loss 0.00783585011959076, accuracy 0.9184444444444444\n"
          ]
        },
        {
          "output_type": "stream",
          "name": "stderr",
          "text": [
            "\u001b[2m\u001b[36m(pid=38359)\u001b[0m 2023-06-10 10:20:45.931978: W tensorflow/compiler/tf2tensorrt/utils/py_utils.cc:38] TF-TRT Warning: Could not find TensorRT\n"
          ]
        },
        {
          "output_type": "stream",
          "name": "stdout",
          "text": [
            "\u001b[2m\u001b[36m(launch_and_fit pid=38359)\u001b[0m [Client 8, round 73] fit, config: {'server_round': 73, 'local_epochs': 2}\n",
            "\u001b[2m\u001b[36m(launch_and_fit pid=38359)\u001b[0m Epoch 1: train loss 0.02637096866965294, accuracy 0.7137777777777777\n",
            "\u001b[2m\u001b[36m(launch_and_fit pid=38359)\u001b[0m Epoch 2: train loss 0.015979116782546043, accuracy 0.8231111111111111\n"
          ]
        },
        {
          "output_type": "stream",
          "name": "stderr",
          "text": [
            "\u001b[2m\u001b[36m(pid=38450)\u001b[0m 2023-06-10 10:20:56.471300: W tensorflow/compiler/tf2tensorrt/utils/py_utils.cc:38] TF-TRT Warning: Could not find TensorRT\n"
          ]
        },
        {
          "output_type": "stream",
          "name": "stdout",
          "text": [
            "\u001b[2m\u001b[36m(launch_and_fit pid=38450)\u001b[0m [Client 0, round 73] fit, config: {'server_round': 73, 'local_epochs': 2}\n",
            "\u001b[2m\u001b[36m(launch_and_fit pid=38450)\u001b[0m Epoch 1: train loss 0.024135300889611244, accuracy 0.7308888888888889\n"
          ]
        },
        {
          "output_type": "stream",
          "name": "stderr",
          "text": [
            "DEBUG flwr 2023-06-10 10:21:06,462 | server.py:232 | fit_round 73 received 3 results and 0 failures\n",
            "DEBUG:flwr:fit_round 73 received 3 results and 0 failures\n"
          ]
        },
        {
          "output_type": "stream",
          "name": "stdout",
          "text": [
            "\u001b[2m\u001b[36m(launch_and_fit pid=38450)\u001b[0m Epoch 2: train loss 0.013983361423015594, accuracy 0.8471111111111111\n"
          ]
        },
        {
          "output_type": "stream",
          "name": "stderr",
          "text": [
            "INFO flwr 2023-06-10 10:21:09,916 | server.py:119 | fit progress: (73, 0.050211176291108134, {'accuracy': 0.6018}, 4907.916024409)\n",
            "INFO:flwr:fit progress: (73, 0.050211176291108134, {'accuracy': 0.6018}, 4907.916024409)\n",
            "DEBUG flwr 2023-06-10 10:21:09,936 | server.py:168 | evaluate_round 73: strategy sampled 3 clients (out of 10)\n",
            "DEBUG:flwr:evaluate_round 73: strategy sampled 3 clients (out of 10)\n"
          ]
        },
        {
          "output_type": "stream",
          "name": "stdout",
          "text": [
            "Server-side evaluation loss 0.050211176291108134 / accuracy 0.6018\n"
          ]
        },
        {
          "output_type": "stream",
          "name": "stderr",
          "text": [
            "\u001b[2m\u001b[36m(pid=38576)\u001b[0m 2023-06-10 10:21:18.425850: W tensorflow/compiler/tf2tensorrt/utils/py_utils.cc:38] TF-TRT Warning: Could not find TensorRT\n"
          ]
        },
        {
          "output_type": "stream",
          "name": "stdout",
          "text": [
            "\u001b[2m\u001b[36m(launch_and_evaluate pid=38576)\u001b[0m [Client 9] evaluate, config: {}\n"
          ]
        },
        {
          "output_type": "stream",
          "name": "stderr",
          "text": [
            "\u001b[2m\u001b[36m(pid=38646)\u001b[0m 2023-06-10 10:21:24.586921: W tensorflow/compiler/tf2tensorrt/utils/py_utils.cc:38] TF-TRT Warning: Could not find TensorRT\n"
          ]
        },
        {
          "output_type": "stream",
          "name": "stdout",
          "text": [
            "\u001b[2m\u001b[36m(launch_and_evaluate pid=38646)\u001b[0m [Client 8] evaluate, config: {}\n"
          ]
        },
        {
          "output_type": "stream",
          "name": "stderr",
          "text": [
            "\u001b[2m\u001b[36m(pid=38711)\u001b[0m 2023-06-10 10:21:33.222303: W tensorflow/compiler/tf2tensorrt/utils/py_utils.cc:38] TF-TRT Warning: Could not find TensorRT\n"
          ]
        },
        {
          "output_type": "stream",
          "name": "stdout",
          "text": [
            "\u001b[2m\u001b[36m(launch_and_evaluate pid=38711)\u001b[0m [Client 4] evaluate, config: {}\n"
          ]
        },
        {
          "output_type": "stream",
          "name": "stderr",
          "text": [
            "DEBUG flwr 2023-06-10 10:21:37,629 | server.py:182 | evaluate_round 73 received 3 results and 0 failures\n",
            "DEBUG:flwr:evaluate_round 73 received 3 results and 0 failures\n",
            "DEBUG flwr 2023-06-10 10:21:37,632 | server.py:218 | fit_round 74: strategy sampled 3 clients (out of 10)\n",
            "DEBUG:flwr:fit_round 74: strategy sampled 3 clients (out of 10)\n",
            "\u001b[2m\u001b[36m(pid=38812)\u001b[0m 2023-06-10 10:21:48.376179: W tensorflow/compiler/tf2tensorrt/utils/py_utils.cc:38] TF-TRT Warning: Could not find TensorRT\n"
          ]
        },
        {
          "output_type": "stream",
          "name": "stdout",
          "text": [
            "\u001b[2m\u001b[36m(launch_and_fit pid=38812)\u001b[0m [Client 3, round 74] fit, config: {'server_round': 74, 'local_epochs': 2}\n",
            "\u001b[2m\u001b[36m(launch_and_fit pid=38812)\u001b[0m Epoch 1: train loss 0.020113090053200722, accuracy 0.774\n",
            "\u001b[2m\u001b[36m(launch_and_fit pid=38812)\u001b[0m Epoch 2: train loss 0.011163689196109772, accuracy 0.8782222222222222\n"
          ]
        },
        {
          "output_type": "stream",
          "name": "stderr",
          "text": [
            "\u001b[2m\u001b[36m(pid=38901)\u001b[0m 2023-06-10 10:21:58.456462: W tensorflow/compiler/tf2tensorrt/utils/py_utils.cc:38] TF-TRT Warning: Could not find TensorRT\n"
          ]
        },
        {
          "output_type": "stream",
          "name": "stdout",
          "text": [
            "\u001b[2m\u001b[36m(launch_and_fit pid=38901)\u001b[0m [Client 8, round 74] fit, config: {'server_round': 74, 'local_epochs': 2}\n",
            "\u001b[2m\u001b[36m(launch_and_fit pid=38901)\u001b[0m Epoch 1: train loss 0.020242266356945038, accuracy 0.7688888888888888\n",
            "\u001b[2m\u001b[36m(launch_and_fit pid=38901)\u001b[0m Epoch 2: train loss 0.012157459743320942, accuracy 0.8704444444444445\n"
          ]
        },
        {
          "output_type": "stream",
          "name": "stderr",
          "text": [
            "\u001b[2m\u001b[36m(pid=38989)\u001b[0m 2023-06-10 10:22:10.304965: W tensorflow/compiler/tf2tensorrt/utils/py_utils.cc:38] TF-TRT Warning: Could not find TensorRT\n"
          ]
        },
        {
          "output_type": "stream",
          "name": "stdout",
          "text": [
            "\u001b[2m\u001b[36m(launch_and_fit pid=38989)\u001b[0m [Client 6, round 74] fit, config: {'server_round': 74, 'local_epochs': 2}\n",
            "\u001b[2m\u001b[36m(launch_and_fit pid=38989)\u001b[0m Epoch 1: train loss 0.017264265567064285, accuracy 0.806\n"
          ]
        },
        {
          "output_type": "stream",
          "name": "stderr",
          "text": [
            "DEBUG flwr 2023-06-10 10:22:19,413 | server.py:232 | fit_round 74 received 3 results and 0 failures\n",
            "DEBUG:flwr:fit_round 74 received 3 results and 0 failures\n"
          ]
        },
        {
          "output_type": "stream",
          "name": "stdout",
          "text": [
            "\u001b[2m\u001b[36m(launch_and_fit pid=38989)\u001b[0m Epoch 2: train loss 0.009492313489317894, accuracy 0.9024444444444445\n"
          ]
        },
        {
          "output_type": "stream",
          "name": "stderr",
          "text": [
            "INFO flwr 2023-06-10 10:22:23,523 | server.py:119 | fit progress: (74, 0.05235792600214481, {'accuracy': 0.5966}, 4981.523183888)\n",
            "INFO:flwr:fit progress: (74, 0.05235792600214481, {'accuracy': 0.5966}, 4981.523183888)\n",
            "DEBUG flwr 2023-06-10 10:22:23,528 | server.py:168 | evaluate_round 74: strategy sampled 3 clients (out of 10)\n",
            "DEBUG:flwr:evaluate_round 74: strategy sampled 3 clients (out of 10)\n"
          ]
        },
        {
          "output_type": "stream",
          "name": "stdout",
          "text": [
            "Server-side evaluation loss 0.05235792600214481 / accuracy 0.5966\n"
          ]
        },
        {
          "output_type": "stream",
          "name": "stderr",
          "text": [
            "\u001b[2m\u001b[36m(pid=39115)\u001b[0m 2023-06-10 10:22:29.445079: W tensorflow/compiler/tf2tensorrt/utils/py_utils.cc:38] TF-TRT Warning: Could not find TensorRT\n"
          ]
        },
        {
          "output_type": "stream",
          "name": "stdout",
          "text": [
            "\u001b[2m\u001b[36m(launch_and_evaluate pid=39115)\u001b[0m [Client 1] evaluate, config: {}\n"
          ]
        }
      ],
      "source": [
        "net = Net().to(DEVICE)\n",
        "simulate_cifar(StrategyCls=fl.server.strategy.FedAvg, strategyArgs=strategyConfig, net=net, num_rounds=50)"
      ],
      "metadata": {
        "is_executing": true,
        "ExecuteTime": {
          "start_time": "2023-06-10T04:06:16.731124160Z"
        },
        "colab": {
          "base_uri": "https://localhost:8080/"
        },
        "id": "NVwJ6F0MfNFt",
        "outputId": "8a8050e9-c0c5-4ced-d0f9-086f3fd58d67"
      }
    },
    {
      "cell_type": "code",
      "source": [
        "net = VGG16().to(DEVICE)\n",
        "simulate_cifar(StrategyCls=fl.server.strategy.FedAvg, strategyArgs=strategyConfig, net=net, num_rounds=50)"
      ],
      "metadata": {
        "id": "n-buPK7Xi2DN"
      },
      "execution_count": null,
      "outputs": []
    },
    {
      "cell_type": "markdown",
      "source": [
        "## Fed Ada Grad"
      ],
      "metadata": {
        "id": "YaU0t8VQi9ff"
      }
    },
    {
      "cell_type": "code",
      "source": [
        "net = Net().to(DEVICE)\n",
        "simulate_cifar(StrategyCls=fl.server.strategy.FedAdagrad, strategyArgs=strategyConfig, net=net, num_rounds=10)"
      ],
      "metadata": {
        "colab": {
          "base_uri": "https://localhost:8080/"
        },
        "id": "6WArqxw8hcTH",
        "outputId": "d7c65622-f6ea-4af2-da63-cde6bfdff24c"
      },
      "execution_count": 7,
      "outputs": [
        {
          "output_type": "stream",
          "name": "stdout",
          "text": [
            "Files already downloaded and verified\n",
            "Files already downloaded and verified\n"
          ]
        },
        {
          "output_type": "stream",
          "name": "stderr",
          "text": [
            "INFO flwr 2023-06-10 04:42:56,677 | app.py:146 | Starting Flower simulation, config: ServerConfig(num_rounds=10, round_timeout=None)\n",
            "INFO:flwr:Starting Flower simulation, config: ServerConfig(num_rounds=10, round_timeout=None)\n",
            "2023-06-10 04:43:03,944\tINFO worker.py:1636 -- Started a local Ray instance.\n",
            "INFO flwr 2023-06-10 04:43:05,946 | app.py:180 | Flower VCE: Ray initialized with resources: {'CPU': 2.0, 'node:172.28.0.12': 1.0, 'GPU': 1.0, 'object_store_memory': 3935900467.0, 'memory': 7871800935.0}\n",
            "INFO:flwr:Flower VCE: Ray initialized with resources: {'CPU': 2.0, 'node:172.28.0.12': 1.0, 'GPU': 1.0, 'object_store_memory': 3935900467.0, 'memory': 7871800935.0}\n",
            "INFO flwr 2023-06-10 04:43:05,955 | server.py:86 | Initializing global parameters\n",
            "INFO:flwr:Initializing global parameters\n",
            "INFO flwr 2023-06-10 04:43:05,958 | server.py:269 | Using initial parameters provided by strategy\n",
            "INFO:flwr:Using initial parameters provided by strategy\n",
            "INFO flwr 2023-06-10 04:43:05,963 | server.py:88 | Evaluating initial parameters\n",
            "INFO:flwr:Evaluating initial parameters\n",
            "INFO flwr 2023-06-10 04:43:09,739 | server.py:91 | initial parameters (loss, other metrics): 0.0721333030462265, {'accuracy': 0.1001}\n",
            "INFO:flwr:initial parameters (loss, other metrics): 0.0721333030462265, {'accuracy': 0.1001}\n",
            "INFO flwr 2023-06-10 04:43:09,745 | server.py:101 | FL starting\n",
            "INFO:flwr:FL starting\n",
            "DEBUG flwr 2023-06-10 04:43:09,748 | server.py:218 | fit_round 1: strategy sampled 3 clients (out of 10)\n",
            "DEBUG:flwr:fit_round 1: strategy sampled 3 clients (out of 10)\n"
          ]
        },
        {
          "output_type": "stream",
          "name": "stdout",
          "text": [
            "Server-side evaluation loss 0.0721333030462265 / accuracy 0.1001\n"
          ]
        },
        {
          "output_type": "stream",
          "name": "stderr",
          "text": [
            "\u001b[2m\u001b[36m(pid=15396)\u001b[0m 2023-06-10 04:43:15.245406: W tensorflow/compiler/tf2tensorrt/utils/py_utils.cc:38] TF-TRT Warning: Could not find TensorRT\n"
          ]
        },
        {
          "output_type": "stream",
          "name": "stdout",
          "text": [
            "\u001b[2m\u001b[36m(launch_and_fit pid=15396)\u001b[0m [Client 7, round 1] fit, config: {'server_round': 1, 'local_epochs': 1}\n",
            "\u001b[2m\u001b[36m(launch_and_fit pid=15396)\u001b[0m Epoch 1: train loss 0.0641552060842514, accuracy 0.22822222222222222\n"
          ]
        },
        {
          "output_type": "stream",
          "name": "stderr",
          "text": [
            "\u001b[2m\u001b[36m(pid=15467)\u001b[0m 2023-06-10 04:43:23.836929: W tensorflow/compiler/tf2tensorrt/utils/py_utils.cc:38] TF-TRT Warning: Could not find TensorRT\n"
          ]
        },
        {
          "output_type": "stream",
          "name": "stdout",
          "text": [
            "\u001b[2m\u001b[36m(launch_and_fit pid=15467)\u001b[0m [Client 4, round 1] fit, config: {'server_round': 1, 'local_epochs': 1}\n",
            "\u001b[2m\u001b[36m(launch_and_fit pid=15467)\u001b[0m Epoch 1: train loss 0.06470078229904175, accuracy 0.22111111111111112\n"
          ]
        },
        {
          "output_type": "stream",
          "name": "stderr",
          "text": [
            "\u001b[2m\u001b[36m(pid=15538)\u001b[0m 2023-06-10 04:43:30.683652: W tensorflow/compiler/tf2tensorrt/utils/py_utils.cc:38] TF-TRT Warning: Could not find TensorRT\n"
          ]
        },
        {
          "output_type": "stream",
          "name": "stdout",
          "text": [
            "\u001b[2m\u001b[36m(launch_and_fit pid=15538)\u001b[0m [Client 6, round 1] fit, config: {'server_round': 1, 'local_epochs': 1}\n"
          ]
        },
        {
          "output_type": "stream",
          "name": "stderr",
          "text": [
            "DEBUG flwr 2023-06-10 04:43:37,876 | server.py:232 | fit_round 1 received 3 results and 0 failures\n",
            "DEBUG:flwr:fit_round 1 received 3 results and 0 failures\n",
            "WARNING flwr 2023-06-10 04:43:37,895 | fedavg.py:243 | No fit_metrics_aggregation_fn provided\n",
            "WARNING:flwr:No fit_metrics_aggregation_fn provided\n"
          ]
        },
        {
          "output_type": "stream",
          "name": "stdout",
          "text": [
            "\u001b[2m\u001b[36m(launch_and_fit pid=15538)\u001b[0m Epoch 1: train loss 0.06626825034618378, accuracy 0.19844444444444445\n"
          ]
        },
        {
          "output_type": "stream",
          "name": "stderr",
          "text": [
            "INFO flwr 2023-06-10 04:43:41,021 | server.py:119 | fit progress: (1, 4.960196771240234, {'accuracy': 0.1829}, 31.27228476099981)\n",
            "INFO:flwr:fit progress: (1, 4.960196771240234, {'accuracy': 0.1829}, 31.27228476099981)\n",
            "DEBUG flwr 2023-06-10 04:43:41,026 | server.py:168 | evaluate_round 1: strategy sampled 3 clients (out of 10)\n",
            "DEBUG:flwr:evaluate_round 1: strategy sampled 3 clients (out of 10)\n"
          ]
        },
        {
          "output_type": "stream",
          "name": "stdout",
          "text": [
            "Server-side evaluation loss 4.960196771240234 / accuracy 0.1829\n"
          ]
        },
        {
          "output_type": "stream",
          "name": "stderr",
          "text": [
            "\u001b[2m\u001b[36m(pid=15648)\u001b[0m 2023-06-10 04:43:46.475874: W tensorflow/compiler/tf2tensorrt/utils/py_utils.cc:38] TF-TRT Warning: Could not find TensorRT\n"
          ]
        },
        {
          "output_type": "stream",
          "name": "stdout",
          "text": [
            "\u001b[2m\u001b[36m(launch_and_evaluate pid=15648)\u001b[0m [Client 9] evaluate, config: {}\n"
          ]
        },
        {
          "output_type": "stream",
          "name": "stderr",
          "text": [
            "\u001b[2m\u001b[36m(pid=15714)\u001b[0m 2023-06-10 04:43:54.302815: W tensorflow/compiler/tf2tensorrt/utils/py_utils.cc:38] TF-TRT Warning: Could not find TensorRT\n"
          ]
        },
        {
          "output_type": "stream",
          "name": "stdout",
          "text": [
            "\u001b[2m\u001b[36m(launch_and_evaluate pid=15714)\u001b[0m [Client 6] evaluate, config: {}\n"
          ]
        },
        {
          "output_type": "stream",
          "name": "stderr",
          "text": [
            "\u001b[2m\u001b[36m(pid=15783)\u001b[0m 2023-06-10 04:44:00.012092: W tensorflow/compiler/tf2tensorrt/utils/py_utils.cc:38] TF-TRT Warning: Could not find TensorRT\n"
          ]
        },
        {
          "output_type": "stream",
          "name": "stdout",
          "text": [
            "\u001b[2m\u001b[36m(launch_and_evaluate pid=15783)\u001b[0m [Client 2] evaluate, config: {}\n"
          ]
        },
        {
          "output_type": "stream",
          "name": "stderr",
          "text": [
            "DEBUG flwr 2023-06-10 04:44:04,190 | server.py:182 | evaluate_round 1 received 3 results and 0 failures\n",
            "DEBUG:flwr:evaluate_round 1 received 3 results and 0 failures\n",
            "DEBUG flwr 2023-06-10 04:44:04,193 | server.py:218 | fit_round 2: strategy sampled 3 clients (out of 10)\n",
            "DEBUG:flwr:fit_round 2: strategy sampled 3 clients (out of 10)\n",
            "\u001b[2m\u001b[36m(pid=15869)\u001b[0m 2023-06-10 04:44:11.690766: W tensorflow/compiler/tf2tensorrt/utils/py_utils.cc:38] TF-TRT Warning: Could not find TensorRT\n"
          ]
        },
        {
          "output_type": "stream",
          "name": "stdout",
          "text": [
            "\u001b[2m\u001b[36m(launch_and_fit pid=15869)\u001b[0m [Client 1, round 2] fit, config: {'server_round': 2, 'local_epochs': 2}\n",
            "\u001b[2m\u001b[36m(launch_and_fit pid=15869)\u001b[0m Epoch 1: train loss 0.6123987436294556, accuracy 0.288\n",
            "\u001b[2m\u001b[36m(launch_and_fit pid=15869)\u001b[0m Epoch 2: train loss 0.07226027548313141, accuracy 0.31177777777777776\n"
          ]
        },
        {
          "output_type": "stream",
          "name": "stderr",
          "text": [
            "\u001b[2m\u001b[36m(pid=15946)\u001b[0m 2023-06-10 04:44:22.096719: W tensorflow/compiler/tf2tensorrt/utils/py_utils.cc:38] TF-TRT Warning: Could not find TensorRT\n"
          ]
        },
        {
          "output_type": "stream",
          "name": "stdout",
          "text": [
            "\u001b[2m\u001b[36m(launch_and_fit pid=15946)\u001b[0m [Client 5, round 2] fit, config: {'server_round': 2, 'local_epochs': 2}\n",
            "\u001b[2m\u001b[36m(launch_and_fit pid=15946)\u001b[0m Epoch 1: train loss 0.585899293422699, accuracy 0.2797777777777778\n",
            "\u001b[2m\u001b[36m(launch_and_fit pid=15946)\u001b[0m Epoch 2: train loss 0.07137567549943924, accuracy 0.29777777777777775\n"
          ]
        },
        {
          "output_type": "stream",
          "name": "stderr",
          "text": [
            "\u001b[2m\u001b[36m(pid=16034)\u001b[0m 2023-06-10 04:44:31.826035: W tensorflow/compiler/tf2tensorrt/utils/py_utils.cc:38] TF-TRT Warning: Could not find TensorRT\n"
          ]
        },
        {
          "output_type": "stream",
          "name": "stdout",
          "text": [
            "\u001b[2m\u001b[36m(launch_and_fit pid=16034)\u001b[0m [Client 8, round 2] fit, config: {'server_round': 2, 'local_epochs': 2}\n",
            "\u001b[2m\u001b[36m(launch_and_fit pid=16034)\u001b[0m Epoch 1: train loss 0.5738986134529114, accuracy 0.2902222222222222\n"
          ]
        },
        {
          "output_type": "stream",
          "name": "stderr",
          "text": [
            "DEBUG flwr 2023-06-10 04:44:40,772 | server.py:232 | fit_round 2 received 3 results and 0 failures\n",
            "DEBUG:flwr:fit_round 2 received 3 results and 0 failures\n"
          ]
        },
        {
          "output_type": "stream",
          "name": "stdout",
          "text": [
            "\u001b[2m\u001b[36m(launch_and_fit pid=16034)\u001b[0m Epoch 2: train loss 0.07101888954639435, accuracy 0.32955555555555555\n"
          ]
        },
        {
          "output_type": "stream",
          "name": "stderr",
          "text": [
            "INFO flwr 2023-06-10 04:44:45,529 | server.py:119 | fit progress: (2, 0.2937220021724701, {'accuracy': 0.0858}, 95.78043622599989)\n",
            "INFO:flwr:fit progress: (2, 0.2937220021724701, {'accuracy': 0.0858}, 95.78043622599989)\n",
            "DEBUG flwr 2023-06-10 04:44:45,536 | server.py:168 | evaluate_round 2: strategy sampled 3 clients (out of 10)\n",
            "DEBUG:flwr:evaluate_round 2: strategy sampled 3 clients (out of 10)\n"
          ]
        },
        {
          "output_type": "stream",
          "name": "stdout",
          "text": [
            "Server-side evaluation loss 0.2937220021724701 / accuracy 0.0858\n"
          ]
        },
        {
          "output_type": "stream",
          "name": "stderr",
          "text": [
            "\u001b[2m\u001b[36m(pid=16160)\u001b[0m 2023-06-10 04:44:52.300592: W tensorflow/compiler/tf2tensorrt/utils/py_utils.cc:38] TF-TRT Warning: Could not find TensorRT\n"
          ]
        },
        {
          "output_type": "stream",
          "name": "stdout",
          "text": [
            "\u001b[2m\u001b[36m(launch_and_evaluate pid=16160)\u001b[0m [Client 3] evaluate, config: {}\n"
          ]
        },
        {
          "output_type": "stream",
          "name": "stderr",
          "text": [
            "\u001b[2m\u001b[36m(pid=16230)\u001b[0m 2023-06-10 04:44:59.098734: W tensorflow/compiler/tf2tensorrt/utils/py_utils.cc:38] TF-TRT Warning: Could not find TensorRT\n"
          ]
        },
        {
          "output_type": "stream",
          "name": "stdout",
          "text": [
            "\u001b[2m\u001b[36m(launch_and_evaluate pid=16230)\u001b[0m [Client 5] evaluate, config: {}\n"
          ]
        },
        {
          "output_type": "stream",
          "name": "stderr",
          "text": [
            "\u001b[2m\u001b[36m(pid=16293)\u001b[0m 2023-06-10 04:45:04.968816: W tensorflow/compiler/tf2tensorrt/utils/py_utils.cc:38] TF-TRT Warning: Could not find TensorRT\n"
          ]
        },
        {
          "output_type": "stream",
          "name": "stdout",
          "text": [
            "\u001b[2m\u001b[36m(launch_and_evaluate pid=16293)\u001b[0m [Client 6] evaluate, config: {}\n"
          ]
        },
        {
          "output_type": "stream",
          "name": "stderr",
          "text": [
            "DEBUG flwr 2023-06-10 04:45:10,914 | server.py:182 | evaluate_round 2 received 3 results and 0 failures\n",
            "DEBUG:flwr:evaluate_round 2 received 3 results and 0 failures\n",
            "DEBUG flwr 2023-06-10 04:45:10,918 | server.py:218 | fit_round 3: strategy sampled 3 clients (out of 10)\n",
            "DEBUG:flwr:fit_round 3: strategy sampled 3 clients (out of 10)\n",
            "\u001b[2m\u001b[36m(pid=16379)\u001b[0m 2023-06-10 04:45:16.416152: W tensorflow/compiler/tf2tensorrt/utils/py_utils.cc:38] TF-TRT Warning: Could not find TensorRT\n"
          ]
        },
        {
          "output_type": "stream",
          "name": "stdout",
          "text": [
            "\u001b[2m\u001b[36m(launch_and_fit pid=16379)\u001b[0m [Client 2, round 3] fit, config: {'server_round': 3, 'local_epochs': 2}\n",
            "\u001b[2m\u001b[36m(launch_and_fit pid=16379)\u001b[0m Epoch 1: train loss 0.07729289680719376, accuracy 0.1831111111111111\n",
            "\u001b[2m\u001b[36m(launch_and_fit pid=16379)\u001b[0m Epoch 2: train loss 0.06005435064435005, accuracy 0.2742222222222222\n"
          ]
        },
        {
          "output_type": "stream",
          "name": "stderr",
          "text": [
            "\u001b[2m\u001b[36m(pid=16465)\u001b[0m 2023-06-10 04:45:27.166420: W tensorflow/compiler/tf2tensorrt/utils/py_utils.cc:38] TF-TRT Warning: Could not find TensorRT\n"
          ]
        },
        {
          "output_type": "stream",
          "name": "stdout",
          "text": [
            "\u001b[2m\u001b[36m(launch_and_fit pid=16465)\u001b[0m [Client 7, round 3] fit, config: {'server_round': 3, 'local_epochs': 2}\n",
            "\u001b[2m\u001b[36m(launch_and_fit pid=16465)\u001b[0m Epoch 1: train loss 0.07861638814210892, accuracy 0.156\n",
            "\u001b[2m\u001b[36m(launch_and_fit pid=16465)\u001b[0m Epoch 2: train loss 0.06095017492771149, accuracy 0.246\n"
          ]
        },
        {
          "output_type": "stream",
          "name": "stderr",
          "text": [
            "\u001b[2m\u001b[36m(pid=16545)\u001b[0m 2023-06-10 04:45:36.122315: W tensorflow/compiler/tf2tensorrt/utils/py_utils.cc:38] TF-TRT Warning: Could not find TensorRT\n"
          ]
        },
        {
          "output_type": "stream",
          "name": "stdout",
          "text": [
            "\u001b[2m\u001b[36m(launch_and_fit pid=16545)\u001b[0m [Client 5, round 3] fit, config: {'server_round': 3, 'local_epochs': 2}\n",
            "\u001b[2m\u001b[36m(launch_and_fit pid=16545)\u001b[0m Epoch 1: train loss 0.0796741396188736, accuracy 0.16355555555555557\n"
          ]
        },
        {
          "output_type": "stream",
          "name": "stderr",
          "text": [
            "DEBUG flwr 2023-06-10 04:45:45,137 | server.py:232 | fit_round 3 received 3 results and 0 failures\n",
            "DEBUG:flwr:fit_round 3 received 3 results and 0 failures\n"
          ]
        },
        {
          "output_type": "stream",
          "name": "stdout",
          "text": [
            "\u001b[2m\u001b[36m(launch_and_fit pid=16545)\u001b[0m Epoch 2: train loss 0.06183798611164093, accuracy 0.25044444444444447\n"
          ]
        },
        {
          "output_type": "stream",
          "name": "stderr",
          "text": [
            "INFO flwr 2023-06-10 04:45:48,184 | server.py:119 | fit progress: (3, 0.16301658141613007, {'accuracy': 0.1587}, 158.4360634159998)\n",
            "INFO:flwr:fit progress: (3, 0.16301658141613007, {'accuracy': 0.1587}, 158.4360634159998)\n",
            "DEBUG flwr 2023-06-10 04:45:48,190 | server.py:168 | evaluate_round 3: strategy sampled 3 clients (out of 10)\n",
            "DEBUG:flwr:evaluate_round 3: strategy sampled 3 clients (out of 10)\n"
          ]
        },
        {
          "output_type": "stream",
          "name": "stdout",
          "text": [
            "Server-side evaluation loss 0.16301658141613007 / accuracy 0.1587\n"
          ]
        },
        {
          "output_type": "stream",
          "name": "stderr",
          "text": [
            "\u001b[2m\u001b[36m(pid=16665)\u001b[0m 2023-06-10 04:45:55.862105: W tensorflow/compiler/tf2tensorrt/utils/py_utils.cc:38] TF-TRT Warning: Could not find TensorRT\n"
          ]
        },
        {
          "output_type": "stream",
          "name": "stdout",
          "text": [
            "\u001b[2m\u001b[36m(launch_and_evaluate pid=16665)\u001b[0m [Client 5] evaluate, config: {}\n"
          ]
        },
        {
          "output_type": "stream",
          "name": "stderr",
          "text": [
            "\u001b[2m\u001b[36m(pid=16736)\u001b[0m 2023-06-10 04:46:01.816090: W tensorflow/compiler/tf2tensorrt/utils/py_utils.cc:38] TF-TRT Warning: Could not find TensorRT\n"
          ]
        },
        {
          "output_type": "stream",
          "name": "stdout",
          "text": [
            "\u001b[2m\u001b[36m(launch_and_evaluate pid=16736)\u001b[0m [Client 2] evaluate, config: {}\n"
          ]
        },
        {
          "output_type": "stream",
          "name": "stderr",
          "text": [
            "\u001b[2m\u001b[36m(pid=16794)\u001b[0m 2023-06-10 04:46:08.516189: W tensorflow/compiler/tf2tensorrt/utils/py_utils.cc:38] TF-TRT Warning: Could not find TensorRT\n"
          ]
        },
        {
          "output_type": "stream",
          "name": "stdout",
          "text": [
            "\u001b[2m\u001b[36m(launch_and_evaluate pid=16794)\u001b[0m [Client 0] evaluate, config: {}\n"
          ]
        },
        {
          "output_type": "stream",
          "name": "stderr",
          "text": [
            "DEBUG flwr 2023-06-10 04:46:13,881 | server.py:182 | evaluate_round 3 received 3 results and 0 failures\n",
            "DEBUG:flwr:evaluate_round 3 received 3 results and 0 failures\n",
            "DEBUG flwr 2023-06-10 04:46:13,887 | server.py:218 | fit_round 4: strategy sampled 3 clients (out of 10)\n",
            "DEBUG:flwr:fit_round 4: strategy sampled 3 clients (out of 10)\n",
            "\u001b[2m\u001b[36m(pid=16884)\u001b[0m 2023-06-10 04:46:19.371016: W tensorflow/compiler/tf2tensorrt/utils/py_utils.cc:38] TF-TRT Warning: Could not find TensorRT\n"
          ]
        },
        {
          "output_type": "stream",
          "name": "stdout",
          "text": [
            "\u001b[2m\u001b[36m(launch_and_fit pid=16884)\u001b[0m [Client 6, round 4] fit, config: {'server_round': 4, 'local_epochs': 2}\n",
            "\u001b[2m\u001b[36m(launch_and_fit pid=16884)\u001b[0m Epoch 1: train loss 0.06508415192365646, accuracy 0.25755555555555554\n",
            "\u001b[2m\u001b[36m(launch_and_fit pid=16884)\u001b[0m Epoch 2: train loss 0.05682704225182533, accuracy 0.31377777777777777\n"
          ]
        },
        {
          "output_type": "stream",
          "name": "stderr",
          "text": [
            "\u001b[2m\u001b[36m(pid=16972)\u001b[0m 2023-06-10 04:46:30.253987: W tensorflow/compiler/tf2tensorrt/utils/py_utils.cc:38] TF-TRT Warning: Could not find TensorRT\n"
          ]
        },
        {
          "output_type": "stream",
          "name": "stdout",
          "text": [
            "\u001b[2m\u001b[36m(launch_and_fit pid=16972)\u001b[0m [Client 9, round 4] fit, config: {'server_round': 4, 'local_epochs': 2}\n",
            "\u001b[2m\u001b[36m(launch_and_fit pid=16972)\u001b[0m Epoch 1: train loss 0.06506189703941345, accuracy 0.26511111111111113\n",
            "\u001b[2m\u001b[36m(launch_and_fit pid=16972)\u001b[0m Epoch 2: train loss 0.05599690601229668, accuracy 0.3208888888888889\n"
          ]
        },
        {
          "output_type": "stream",
          "name": "stderr",
          "text": [
            "\u001b[2m\u001b[36m(pid=17049)\u001b[0m 2023-06-10 04:46:41.258762: W tensorflow/compiler/tf2tensorrt/utils/py_utils.cc:38] TF-TRT Warning: Could not find TensorRT\n"
          ]
        },
        {
          "output_type": "stream",
          "name": "stdout",
          "text": [
            "\u001b[2m\u001b[36m(launch_and_fit pid=17049)\u001b[0m [Client 0, round 4] fit, config: {'server_round': 4, 'local_epochs': 2}\n",
            "\u001b[2m\u001b[36m(launch_and_fit pid=17049)\u001b[0m Epoch 1: train loss 0.0650646835565567, accuracy 0.2682222222222222\n"
          ]
        },
        {
          "output_type": "stream",
          "name": "stderr",
          "text": [
            "DEBUG flwr 2023-06-10 04:46:48,821 | server.py:232 | fit_round 4 received 3 results and 0 failures\n",
            "DEBUG:flwr:fit_round 4 received 3 results and 0 failures\n"
          ]
        },
        {
          "output_type": "stream",
          "name": "stdout",
          "text": [
            "\u001b[2m\u001b[36m(launch_and_fit pid=17049)\u001b[0m Epoch 2: train loss 0.055419981479644775, accuracy 0.32911111111111113\n"
          ]
        },
        {
          "output_type": "stream",
          "name": "stderr",
          "text": [
            "INFO flwr 2023-06-10 04:46:51,959 | server.py:119 | fit progress: (4, 0.1924193106174469, {'accuracy': 0.1156}, 222.21103730799996)\n",
            "INFO:flwr:fit progress: (4, 0.1924193106174469, {'accuracy': 0.1156}, 222.21103730799996)\n",
            "DEBUG flwr 2023-06-10 04:46:51,965 | server.py:168 | evaluate_round 4: strategy sampled 3 clients (out of 10)\n",
            "DEBUG:flwr:evaluate_round 4: strategy sampled 3 clients (out of 10)\n"
          ]
        },
        {
          "output_type": "stream",
          "name": "stdout",
          "text": [
            "Server-side evaluation loss 0.1924193106174469 / accuracy 0.1156\n"
          ]
        },
        {
          "output_type": "stream",
          "name": "stderr",
          "text": [
            "\u001b[2m\u001b[36m(pid=17181)\u001b[0m 2023-06-10 04:47:00.146641: W tensorflow/compiler/tf2tensorrt/utils/py_utils.cc:38] TF-TRT Warning: Could not find TensorRT\n"
          ]
        },
        {
          "output_type": "stream",
          "name": "stdout",
          "text": [
            "\u001b[2m\u001b[36m(launch_and_evaluate pid=17181)\u001b[0m [Client 1] evaluate, config: {}\n"
          ]
        },
        {
          "output_type": "stream",
          "name": "stderr",
          "text": [
            "\u001b[2m\u001b[36m(pid=17242)\u001b[0m 2023-06-10 04:47:05.865628: W tensorflow/compiler/tf2tensorrt/utils/py_utils.cc:38] TF-TRT Warning: Could not find TensorRT\n"
          ]
        },
        {
          "output_type": "stream",
          "name": "stdout",
          "text": [
            "\u001b[2m\u001b[36m(launch_and_evaluate pid=17242)\u001b[0m [Client 5] evaluate, config: {}\n"
          ]
        },
        {
          "output_type": "stream",
          "name": "stderr",
          "text": [
            "\u001b[2m\u001b[36m(pid=17308)\u001b[0m 2023-06-10 04:47:13.925856: W tensorflow/compiler/tf2tensorrt/utils/py_utils.cc:38] TF-TRT Warning: Could not find TensorRT\n"
          ]
        },
        {
          "output_type": "stream",
          "name": "stdout",
          "text": [
            "\u001b[2m\u001b[36m(launch_and_evaluate pid=17308)\u001b[0m [Client 7] evaluate, config: {}\n"
          ]
        },
        {
          "output_type": "stream",
          "name": "stderr",
          "text": [
            "DEBUG flwr 2023-06-10 04:47:17,832 | server.py:182 | evaluate_round 4 received 3 results and 0 failures\n",
            "DEBUG:flwr:evaluate_round 4 received 3 results and 0 failures\n",
            "DEBUG flwr 2023-06-10 04:47:17,841 | server.py:218 | fit_round 5: strategy sampled 3 clients (out of 10)\n",
            "DEBUG:flwr:fit_round 5: strategy sampled 3 clients (out of 10)\n",
            "\u001b[2m\u001b[36m(pid=17394)\u001b[0m 2023-06-10 04:47:23.316852: W tensorflow/compiler/tf2tensorrt/utils/py_utils.cc:38] TF-TRT Warning: Could not find TensorRT\n"
          ]
        },
        {
          "output_type": "stream",
          "name": "stdout",
          "text": [
            "\u001b[2m\u001b[36m(launch_and_fit pid=17394)\u001b[0m [Client 9, round 5] fit, config: {'server_round': 5, 'local_epochs': 2}\n",
            "\u001b[2m\u001b[36m(launch_and_fit pid=17394)\u001b[0m Epoch 1: train loss 0.06499236077070236, accuracy 0.2644444444444444\n",
            "\u001b[2m\u001b[36m(launch_and_fit pid=17394)\u001b[0m Epoch 2: train loss 0.05351903289556503, accuracy 0.37244444444444447\n"
          ]
        },
        {
          "output_type": "stream",
          "name": "stderr",
          "text": [
            "\u001b[2m\u001b[36m(pid=17481)\u001b[0m 2023-06-10 04:47:36.370747: W tensorflow/compiler/tf2tensorrt/utils/py_utils.cc:38] TF-TRT Warning: Could not find TensorRT\n"
          ]
        },
        {
          "output_type": "stream",
          "name": "stdout",
          "text": [
            "\u001b[2m\u001b[36m(launch_and_fit pid=17481)\u001b[0m [Client 6, round 5] fit, config: {'server_round': 5, 'local_epochs': 2}\n",
            "\u001b[2m\u001b[36m(launch_and_fit pid=17481)\u001b[0m Epoch 1: train loss 0.06559990346431732, accuracy 0.2611111111111111\n",
            "\u001b[2m\u001b[36m(launch_and_fit pid=17481)\u001b[0m Epoch 2: train loss 0.05347520112991333, accuracy 0.3631111111111111\n"
          ]
        },
        {
          "output_type": "stream",
          "name": "stderr",
          "text": [
            "\u001b[2m\u001b[36m(pid=17576)\u001b[0m 2023-06-10 04:47:47.283334: W tensorflow/compiler/tf2tensorrt/utils/py_utils.cc:38] TF-TRT Warning: Could not find TensorRT\n"
          ]
        },
        {
          "output_type": "stream",
          "name": "stdout",
          "text": [
            "\u001b[2m\u001b[36m(launch_and_fit pid=17576)\u001b[0m [Client 4, round 5] fit, config: {'server_round': 5, 'local_epochs': 2}\n",
            "\u001b[2m\u001b[36m(launch_and_fit pid=17576)\u001b[0m Epoch 1: train loss 0.06562953442335129, accuracy 0.2568888888888889\n"
          ]
        },
        {
          "output_type": "stream",
          "name": "stderr",
          "text": [
            "DEBUG flwr 2023-06-10 04:47:54,460 | server.py:232 | fit_round 5 received 3 results and 0 failures\n",
            "DEBUG:flwr:fit_round 5 received 3 results and 0 failures\n"
          ]
        },
        {
          "output_type": "stream",
          "name": "stdout",
          "text": [
            "\u001b[2m\u001b[36m(launch_and_fit pid=17576)\u001b[0m Epoch 2: train loss 0.05327625945210457, accuracy 0.3668888888888889\n"
          ]
        },
        {
          "output_type": "stream",
          "name": "stderr",
          "text": [
            "INFO flwr 2023-06-10 04:47:58,584 | server.py:119 | fit progress: (5, 0.13802191905975342, {'accuracy': 0.1516}, 288.83581873799994)\n",
            "INFO:flwr:fit progress: (5, 0.13802191905975342, {'accuracy': 0.1516}, 288.83581873799994)\n",
            "DEBUG flwr 2023-06-10 04:47:58,591 | server.py:168 | evaluate_round 5: strategy sampled 3 clients (out of 10)\n",
            "DEBUG:flwr:evaluate_round 5: strategy sampled 3 clients (out of 10)\n"
          ]
        },
        {
          "output_type": "stream",
          "name": "stdout",
          "text": [
            "Server-side evaluation loss 0.13802191905975342 / accuracy 0.1516\n"
          ]
        },
        {
          "output_type": "stream",
          "name": "stderr",
          "text": [
            "\u001b[2m\u001b[36m(pid=17696)\u001b[0m 2023-06-10 04:48:04.902013: W tensorflow/compiler/tf2tensorrt/utils/py_utils.cc:38] TF-TRT Warning: Could not find TensorRT\n"
          ]
        },
        {
          "output_type": "stream",
          "name": "stdout",
          "text": [
            "\u001b[2m\u001b[36m(launch_and_evaluate pid=17696)\u001b[0m [Client 9] evaluate, config: {}\n"
          ]
        },
        {
          "output_type": "stream",
          "name": "stderr",
          "text": [
            "\u001b[2m\u001b[36m(pid=17756)\u001b[0m 2023-06-10 04:48:10.872955: W tensorflow/compiler/tf2tensorrt/utils/py_utils.cc:38] TF-TRT Warning: Could not find TensorRT\n"
          ]
        },
        {
          "output_type": "stream",
          "name": "stdout",
          "text": [
            "\u001b[2m\u001b[36m(launch_and_evaluate pid=17756)\u001b[0m [Client 5] evaluate, config: {}\n"
          ]
        },
        {
          "output_type": "stream",
          "name": "stderr",
          "text": [
            "\u001b[2m\u001b[36m(pid=17826)\u001b[0m 2023-06-10 04:48:18.768613: W tensorflow/compiler/tf2tensorrt/utils/py_utils.cc:38] TF-TRT Warning: Could not find TensorRT\n"
          ]
        },
        {
          "output_type": "stream",
          "name": "stdout",
          "text": [
            "\u001b[2m\u001b[36m(launch_and_evaluate pid=17826)\u001b[0m [Client 4] evaluate, config: {}\n"
          ]
        },
        {
          "output_type": "stream",
          "name": "stderr",
          "text": [
            "DEBUG flwr 2023-06-10 04:48:22,715 | server.py:182 | evaluate_round 5 received 3 results and 0 failures\n",
            "DEBUG:flwr:evaluate_round 5 received 3 results and 0 failures\n",
            "DEBUG flwr 2023-06-10 04:48:22,720 | server.py:218 | fit_round 6: strategy sampled 3 clients (out of 10)\n",
            "DEBUG:flwr:fit_round 6: strategy sampled 3 clients (out of 10)\n",
            "\u001b[2m\u001b[36m(pid=17904)\u001b[0m 2023-06-10 04:48:30.012696: W tensorflow/compiler/tf2tensorrt/utils/py_utils.cc:38] TF-TRT Warning: Could not find TensorRT\n"
          ]
        },
        {
          "output_type": "stream",
          "name": "stdout",
          "text": [
            "\u001b[2m\u001b[36m(launch_and_fit pid=17904)\u001b[0m [Client 8, round 6] fit, config: {'server_round': 6, 'local_epochs': 2}\n",
            "\u001b[2m\u001b[36m(launch_and_fit pid=17904)\u001b[0m Epoch 1: train loss 0.05628741532564163, accuracy 0.3511111111111111\n",
            "\u001b[2m\u001b[36m(launch_and_fit pid=17904)\u001b[0m Epoch 2: train loss 0.05006071925163269, accuracy 0.41444444444444445\n"
          ]
        },
        {
          "output_type": "stream",
          "name": "stderr",
          "text": [
            "\u001b[2m\u001b[36m(pid=17995)\u001b[0m 2023-06-10 04:48:39.538830: W tensorflow/compiler/tf2tensorrt/utils/py_utils.cc:38] TF-TRT Warning: Could not find TensorRT\n"
          ]
        },
        {
          "output_type": "stream",
          "name": "stdout",
          "text": [
            "\u001b[2m\u001b[36m(launch_and_fit pid=17995)\u001b[0m [Client 0, round 6] fit, config: {'server_round': 6, 'local_epochs': 2}\n",
            "\u001b[2m\u001b[36m(launch_and_fit pid=17995)\u001b[0m Epoch 1: train loss 0.05765495449304581, accuracy 0.3368888888888889\n",
            "\u001b[2m\u001b[36m(launch_and_fit pid=17995)\u001b[0m Epoch 2: train loss 0.05007116124033928, accuracy 0.4033333333333333\n"
          ]
        },
        {
          "output_type": "stream",
          "name": "stderr",
          "text": [
            "\u001b[2m\u001b[36m(pid=18078)\u001b[0m 2023-06-10 04:48:50.246905: W tensorflow/compiler/tf2tensorrt/utils/py_utils.cc:38] TF-TRT Warning: Could not find TensorRT\n"
          ]
        },
        {
          "output_type": "stream",
          "name": "stdout",
          "text": [
            "\u001b[2m\u001b[36m(launch_and_fit pid=18078)\u001b[0m [Client 6, round 6] fit, config: {'server_round': 6, 'local_epochs': 2}\n",
            "\u001b[2m\u001b[36m(launch_and_fit pid=18078)\u001b[0m Epoch 1: train loss 0.05681980773806572, accuracy 0.3526666666666667\n"
          ]
        },
        {
          "output_type": "stream",
          "name": "stderr",
          "text": [
            "DEBUG flwr 2023-06-10 04:48:57,544 | server.py:232 | fit_round 6 received 3 results and 0 failures\n",
            "DEBUG:flwr:fit_round 6 received 3 results and 0 failures\n"
          ]
        },
        {
          "output_type": "stream",
          "name": "stdout",
          "text": [
            "\u001b[2m\u001b[36m(launch_and_fit pid=18078)\u001b[0m Epoch 2: train loss 0.05104149132966995, accuracy 0.39355555555555555\n"
          ]
        },
        {
          "output_type": "stream",
          "name": "stderr",
          "text": [
            "INFO flwr 2023-06-10 04:49:02,354 | server.py:119 | fit progress: (6, 0.08938860124349594, {'accuracy': 0.2175}, 352.60548100000005)\n",
            "INFO:flwr:fit progress: (6, 0.08938860124349594, {'accuracy': 0.2175}, 352.60548100000005)\n",
            "DEBUG flwr 2023-06-10 04:49:02,358 | server.py:168 | evaluate_round 6: strategy sampled 3 clients (out of 10)\n",
            "DEBUG:flwr:evaluate_round 6: strategy sampled 3 clients (out of 10)\n"
          ]
        },
        {
          "output_type": "stream",
          "name": "stdout",
          "text": [
            "Server-side evaluation loss 0.08938860124349594 / accuracy 0.2175\n"
          ]
        },
        {
          "output_type": "stream",
          "name": "stderr",
          "text": [
            "\u001b[2m\u001b[36m(pid=18201)\u001b[0m 2023-06-10 04:49:08.006961: W tensorflow/compiler/tf2tensorrt/utils/py_utils.cc:38] TF-TRT Warning: Could not find TensorRT\n"
          ]
        },
        {
          "output_type": "stream",
          "name": "stdout",
          "text": [
            "\u001b[2m\u001b[36m(launch_and_evaluate pid=18201)\u001b[0m [Client 6] evaluate, config: {}\n"
          ]
        },
        {
          "output_type": "stream",
          "name": "stderr",
          "text": [
            "\u001b[2m\u001b[36m(pid=18261)\u001b[0m 2023-06-10 04:49:14.812479: W tensorflow/compiler/tf2tensorrt/utils/py_utils.cc:38] TF-TRT Warning: Could not find TensorRT\n"
          ]
        },
        {
          "output_type": "stream",
          "name": "stdout",
          "text": [
            "\u001b[2m\u001b[36m(launch_and_evaluate pid=18261)\u001b[0m [Client 5] evaluate, config: {}\n"
          ]
        },
        {
          "output_type": "stream",
          "name": "stderr",
          "text": [
            "\u001b[2m\u001b[36m(pid=18332)\u001b[0m 2023-06-10 04:49:22.018297: W tensorflow/compiler/tf2tensorrt/utils/py_utils.cc:38] TF-TRT Warning: Could not find TensorRT\n"
          ]
        },
        {
          "output_type": "stream",
          "name": "stdout",
          "text": [
            "\u001b[2m\u001b[36m(launch_and_evaluate pid=18332)\u001b[0m [Client 8] evaluate, config: {}\n"
          ]
        },
        {
          "output_type": "stream",
          "name": "stderr",
          "text": [
            "DEBUG flwr 2023-06-10 04:49:26,030 | server.py:182 | evaluate_round 6 received 3 results and 0 failures\n",
            "DEBUG:flwr:evaluate_round 6 received 3 results and 0 failures\n",
            "DEBUG flwr 2023-06-10 04:49:26,033 | server.py:218 | fit_round 7: strategy sampled 3 clients (out of 10)\n",
            "DEBUG:flwr:fit_round 7: strategy sampled 3 clients (out of 10)\n",
            "\u001b[2m\u001b[36m(pid=18416)\u001b[0m 2023-06-10 04:49:34.086114: W tensorflow/compiler/tf2tensorrt/utils/py_utils.cc:38] TF-TRT Warning: Could not find TensorRT\n"
          ]
        },
        {
          "output_type": "stream",
          "name": "stdout",
          "text": [
            "\u001b[2m\u001b[36m(launch_and_fit pid=18416)\u001b[0m [Client 4, round 7] fit, config: {'server_round': 7, 'local_epochs': 2}\n",
            "\u001b[2m\u001b[36m(launch_and_fit pid=18416)\u001b[0m Epoch 1: train loss 0.0517716221511364, accuracy 0.396\n",
            "\u001b[2m\u001b[36m(launch_and_fit pid=18416)\u001b[0m Epoch 2: train loss 0.048425476998090744, accuracy 0.424\n"
          ]
        },
        {
          "output_type": "stream",
          "name": "stderr",
          "text": [
            "\u001b[2m\u001b[36m(pid=18501)\u001b[0m 2023-06-10 04:49:42.959875: W tensorflow/compiler/tf2tensorrt/utils/py_utils.cc:38] TF-TRT Warning: Could not find TensorRT\n"
          ]
        },
        {
          "output_type": "stream",
          "name": "stdout",
          "text": [
            "\u001b[2m\u001b[36m(launch_and_fit pid=18501)\u001b[0m [Client 3, round 7] fit, config: {'server_round': 7, 'local_epochs': 2}\n",
            "\u001b[2m\u001b[36m(launch_and_fit pid=18501)\u001b[0m Epoch 1: train loss 0.052423980087041855, accuracy 0.38755555555555554\n",
            "\u001b[2m\u001b[36m(launch_and_fit pid=18501)\u001b[0m Epoch 2: train loss 0.048759825527668, accuracy 0.42244444444444446\n"
          ]
        },
        {
          "output_type": "stream",
          "name": "stderr",
          "text": [
            "\u001b[2m\u001b[36m(pid=18583)\u001b[0m 2023-06-10 04:49:53.803163: W tensorflow/compiler/tf2tensorrt/utils/py_utils.cc:38] TF-TRT Warning: Could not find TensorRT\n"
          ]
        },
        {
          "output_type": "stream",
          "name": "stdout",
          "text": [
            "\u001b[2m\u001b[36m(launch_and_fit pid=18583)\u001b[0m [Client 9, round 7] fit, config: {'server_round': 7, 'local_epochs': 2}\n",
            "\u001b[2m\u001b[36m(launch_and_fit pid=18583)\u001b[0m Epoch 1: train loss 0.052358660846948624, accuracy 0.37844444444444447\n"
          ]
        },
        {
          "output_type": "stream",
          "name": "stderr",
          "text": [
            "DEBUG flwr 2023-06-10 04:50:01,456 | server.py:232 | fit_round 7 received 3 results and 0 failures\n",
            "DEBUG:flwr:fit_round 7 received 3 results and 0 failures\n"
          ]
        },
        {
          "output_type": "stream",
          "name": "stdout",
          "text": [
            "\u001b[2m\u001b[36m(launch_and_fit pid=18583)\u001b[0m Epoch 2: train loss 0.04870002716779709, accuracy 0.4211111111111111\n"
          ]
        },
        {
          "output_type": "stream",
          "name": "stderr",
          "text": [
            "INFO flwr 2023-06-10 04:50:06,023 | server.py:119 | fit progress: (7, 0.07083493617773055, {'accuracy': 0.2458}, 416.27492906)\n",
            "INFO:flwr:fit progress: (7, 0.07083493617773055, {'accuracy': 0.2458}, 416.27492906)\n",
            "DEBUG flwr 2023-06-10 04:50:06,029 | server.py:168 | evaluate_round 7: strategy sampled 3 clients (out of 10)\n",
            "DEBUG:flwr:evaluate_round 7: strategy sampled 3 clients (out of 10)\n"
          ]
        },
        {
          "output_type": "stream",
          "name": "stdout",
          "text": [
            "Server-side evaluation loss 0.07083493617773055 / accuracy 0.2458\n"
          ]
        },
        {
          "output_type": "stream",
          "name": "stderr",
          "text": [
            "\u001b[2m\u001b[36m(pid=18707)\u001b[0m 2023-06-10 04:50:11.477903: W tensorflow/compiler/tf2tensorrt/utils/py_utils.cc:38] TF-TRT Warning: Could not find TensorRT\n"
          ]
        },
        {
          "output_type": "stream",
          "name": "stdout",
          "text": [
            "\u001b[2m\u001b[36m(launch_and_evaluate pid=18707)\u001b[0m [Client 1] evaluate, config: {}\n"
          ]
        },
        {
          "output_type": "stream",
          "name": "stderr",
          "text": [
            "\u001b[2m\u001b[36m(pid=18767)\u001b[0m 2023-06-10 04:50:19.310881: W tensorflow/compiler/tf2tensorrt/utils/py_utils.cc:38] TF-TRT Warning: Could not find TensorRT\n"
          ]
        },
        {
          "output_type": "stream",
          "name": "stdout",
          "text": [
            "\u001b[2m\u001b[36m(launch_and_evaluate pid=18767)\u001b[0m [Client 9] evaluate, config: {}\n"
          ]
        },
        {
          "output_type": "stream",
          "name": "stderr",
          "text": [
            "\u001b[2m\u001b[36m(pid=18838)\u001b[0m 2023-06-10 04:50:27.742329: W tensorflow/compiler/tf2tensorrt/utils/py_utils.cc:38] TF-TRT Warning: Could not find TensorRT\n"
          ]
        },
        {
          "output_type": "stream",
          "name": "stdout",
          "text": [
            "\u001b[2m\u001b[36m(launch_and_evaluate pid=18838)\u001b[0m [Client 2] evaluate, config: {}\n"
          ]
        },
        {
          "output_type": "stream",
          "name": "stderr",
          "text": [
            "DEBUG flwr 2023-06-10 04:50:32,351 | server.py:182 | evaluate_round 7 received 3 results and 0 failures\n",
            "DEBUG:flwr:evaluate_round 7 received 3 results and 0 failures\n",
            "DEBUG flwr 2023-06-10 04:50:32,354 | server.py:218 | fit_round 8: strategy sampled 3 clients (out of 10)\n",
            "DEBUG:flwr:fit_round 8: strategy sampled 3 clients (out of 10)\n",
            "\u001b[2m\u001b[36m(pid=18940)\u001b[0m 2023-06-10 04:50:39.583039: W tensorflow/compiler/tf2tensorrt/utils/py_utils.cc:38] TF-TRT Warning: Could not find TensorRT\n"
          ]
        },
        {
          "output_type": "stream",
          "name": "stdout",
          "text": [
            "\u001b[2m\u001b[36m(launch_and_fit pid=18940)\u001b[0m [Client 0, round 8] fit, config: {'server_round': 8, 'local_epochs': 2}\n",
            "\u001b[2m\u001b[36m(launch_and_fit pid=18940)\u001b[0m Epoch 1: train loss 0.04917590320110321, accuracy 0.4162222222222222\n",
            "\u001b[2m\u001b[36m(launch_and_fit pid=18940)\u001b[0m Epoch 2: train loss 0.04631277918815613, accuracy 0.45422222222222225\n"
          ]
        },
        {
          "output_type": "stream",
          "name": "stderr",
          "text": [
            "\u001b[2m\u001b[36m(pid=19016)\u001b[0m 2023-06-10 04:50:50.515163: W tensorflow/compiler/tf2tensorrt/utils/py_utils.cc:38] TF-TRT Warning: Could not find TensorRT\n"
          ]
        },
        {
          "output_type": "stream",
          "name": "stdout",
          "text": [
            "\u001b[2m\u001b[36m(launch_and_fit pid=19016)\u001b[0m [Client 9, round 8] fit, config: {'server_round': 8, 'local_epochs': 2}\n",
            "\u001b[2m\u001b[36m(launch_and_fit pid=19016)\u001b[0m Epoch 1: train loss 0.048883598297834396, accuracy 0.41933333333333334\n",
            "\u001b[2m\u001b[36m(launch_and_fit pid=19016)\u001b[0m Epoch 2: train loss 0.04657159000635147, accuracy 0.45555555555555555\n"
          ]
        },
        {
          "output_type": "stream",
          "name": "stderr",
          "text": [
            "\u001b[2m\u001b[36m(pid=19101)\u001b[0m 2023-06-10 04:50:59.938131: W tensorflow/compiler/tf2tensorrt/utils/py_utils.cc:38] TF-TRT Warning: Could not find TensorRT\n"
          ]
        },
        {
          "output_type": "stream",
          "name": "stdout",
          "text": [
            "\u001b[2m\u001b[36m(launch_and_fit pid=19101)\u001b[0m [Client 2, round 8] fit, config: {'server_round': 8, 'local_epochs': 2}\n",
            "\u001b[2m\u001b[36m(launch_and_fit pid=19101)\u001b[0m Epoch 1: train loss 0.050005365163087845, accuracy 0.4122222222222222\n"
          ]
        },
        {
          "output_type": "stream",
          "name": "stderr",
          "text": [
            "DEBUG flwr 2023-06-10 04:51:09,156 | server.py:232 | fit_round 8 received 3 results and 0 failures\n",
            "DEBUG:flwr:fit_round 8 received 3 results and 0 failures\n"
          ]
        },
        {
          "output_type": "stream",
          "name": "stdout",
          "text": [
            "\u001b[2m\u001b[36m(launch_and_fit pid=19101)\u001b[0m Epoch 2: train loss 0.047373250126838684, accuracy 0.44466666666666665\n"
          ]
        },
        {
          "output_type": "stream",
          "name": "stderr",
          "text": [
            "INFO flwr 2023-06-10 04:51:12,233 | server.py:119 | fit progress: (8, 0.07207461718320847, {'accuracy': 0.3049}, 482.48492394799996)\n",
            "INFO:flwr:fit progress: (8, 0.07207461718320847, {'accuracy': 0.3049}, 482.48492394799996)\n",
            "DEBUG flwr 2023-06-10 04:51:12,239 | server.py:168 | evaluate_round 8: strategy sampled 3 clients (out of 10)\n",
            "DEBUG:flwr:evaluate_round 8: strategy sampled 3 clients (out of 10)\n"
          ]
        },
        {
          "output_type": "stream",
          "name": "stdout",
          "text": [
            "Server-side evaluation loss 0.07207461718320847 / accuracy 0.3049\n"
          ]
        },
        {
          "output_type": "stream",
          "name": "stderr",
          "text": [
            "\u001b[2m\u001b[36m(pid=19225)\u001b[0m 2023-06-10 04:51:18.337890: W tensorflow/compiler/tf2tensorrt/utils/py_utils.cc:38] TF-TRT Warning: Could not find TensorRT\n"
          ]
        },
        {
          "output_type": "stream",
          "name": "stdout",
          "text": [
            "\u001b[2m\u001b[36m(launch_and_evaluate pid=19225)\u001b[0m [Client 5] evaluate, config: {}\n"
          ]
        },
        {
          "output_type": "stream",
          "name": "stderr",
          "text": [
            "\u001b[2m\u001b[36m(pid=19296)\u001b[0m 2023-06-10 04:51:26.026023: W tensorflow/compiler/tf2tensorrt/utils/py_utils.cc:38] TF-TRT Warning: Could not find TensorRT\n"
          ]
        },
        {
          "output_type": "stream",
          "name": "stdout",
          "text": [
            "\u001b[2m\u001b[36m(launch_and_evaluate pid=19296)\u001b[0m [Client 9] evaluate, config: {}\n"
          ]
        },
        {
          "output_type": "stream",
          "name": "stderr",
          "text": [
            "\u001b[2m\u001b[36m(pid=19356)\u001b[0m 2023-06-10 04:51:32.064178: W tensorflow/compiler/tf2tensorrt/utils/py_utils.cc:38] TF-TRT Warning: Could not find TensorRT\n"
          ]
        },
        {
          "output_type": "stream",
          "name": "stdout",
          "text": [
            "\u001b[2m\u001b[36m(launch_and_evaluate pid=19356)\u001b[0m [Client 3] evaluate, config: {}\n"
          ]
        },
        {
          "output_type": "stream",
          "name": "stderr",
          "text": [
            "DEBUG flwr 2023-06-10 04:51:38,059 | server.py:182 | evaluate_round 8 received 3 results and 0 failures\n",
            "DEBUG:flwr:evaluate_round 8 received 3 results and 0 failures\n",
            "DEBUG flwr 2023-06-10 04:51:38,063 | server.py:218 | fit_round 9: strategy sampled 3 clients (out of 10)\n",
            "DEBUG:flwr:fit_round 9: strategy sampled 3 clients (out of 10)\n",
            "\u001b[2m\u001b[36m(pid=19450)\u001b[0m 2023-06-10 04:51:43.671343: W tensorflow/compiler/tf2tensorrt/utils/py_utils.cc:38] TF-TRT Warning: Could not find TensorRT\n"
          ]
        },
        {
          "output_type": "stream",
          "name": "stdout",
          "text": [
            "\u001b[2m\u001b[36m(launch_and_fit pid=19450)\u001b[0m [Client 2, round 9] fit, config: {'server_round': 9, 'local_epochs': 2}\n",
            "\u001b[2m\u001b[36m(launch_and_fit pid=19450)\u001b[0m Epoch 1: train loss 0.04709457978606224, accuracy 0.45444444444444443\n",
            "\u001b[2m\u001b[36m(launch_and_fit pid=19450)\u001b[0m Epoch 2: train loss 0.045160818845033646, accuracy 0.48088888888888887\n"
          ]
        },
        {
          "output_type": "stream",
          "name": "stderr",
          "text": [
            "\u001b[2m\u001b[36m(pid=19531)\u001b[0m 2023-06-10 04:51:54.701255: W tensorflow/compiler/tf2tensorrt/utils/py_utils.cc:38] TF-TRT Warning: Could not find TensorRT\n"
          ]
        },
        {
          "output_type": "stream",
          "name": "stdout",
          "text": [
            "\u001b[2m\u001b[36m(launch_and_fit pid=19531)\u001b[0m [Client 5, round 9] fit, config: {'server_round': 9, 'local_epochs': 2}\n",
            "\u001b[2m\u001b[36m(launch_and_fit pid=19531)\u001b[0m Epoch 1: train loss 0.048317864537239075, accuracy 0.4471111111111111\n",
            "\u001b[2m\u001b[36m(launch_and_fit pid=19531)\u001b[0m Epoch 2: train loss 0.0459686815738678, accuracy 0.46555555555555556\n"
          ]
        },
        {
          "output_type": "stream",
          "name": "stderr",
          "text": [
            "\u001b[2m\u001b[36m(pid=19613)\u001b[0m 2023-06-10 04:52:03.691845: W tensorflow/compiler/tf2tensorrt/utils/py_utils.cc:38] TF-TRT Warning: Could not find TensorRT\n"
          ]
        },
        {
          "output_type": "stream",
          "name": "stdout",
          "text": [
            "\u001b[2m\u001b[36m(launch_and_fit pid=19613)\u001b[0m [Client 0, round 9] fit, config: {'server_round': 9, 'local_epochs': 2}\n",
            "\u001b[2m\u001b[36m(launch_and_fit pid=19613)\u001b[0m Epoch 1: train loss 0.0464952178299427, accuracy 0.4548888888888889\n"
          ]
        },
        {
          "output_type": "stream",
          "name": "stderr",
          "text": [
            "DEBUG flwr 2023-06-10 04:52:12,945 | server.py:232 | fit_round 9 received 3 results and 0 failures\n",
            "DEBUG:flwr:fit_round 9 received 3 results and 0 failures\n"
          ]
        },
        {
          "output_type": "stream",
          "name": "stdout",
          "text": [
            "\u001b[2m\u001b[36m(launch_and_fit pid=19613)\u001b[0m Epoch 2: train loss 0.044303376227617264, accuracy 0.48133333333333334\n"
          ]
        },
        {
          "output_type": "stream",
          "name": "stderr",
          "text": [
            "INFO flwr 2023-06-10 04:52:16,121 | server.py:119 | fit progress: (9, 0.05564492099285126, {'accuracy': 0.3538}, 546.372379679)\n",
            "INFO:flwr:fit progress: (9, 0.05564492099285126, {'accuracy': 0.3538}, 546.372379679)\n",
            "DEBUG flwr 2023-06-10 04:52:16,127 | server.py:168 | evaluate_round 9: strategy sampled 3 clients (out of 10)\n",
            "DEBUG:flwr:evaluate_round 9: strategy sampled 3 clients (out of 10)\n"
          ]
        },
        {
          "output_type": "stream",
          "name": "stdout",
          "text": [
            "Server-side evaluation loss 0.05564492099285126 / accuracy 0.3538\n"
          ]
        },
        {
          "output_type": "stream",
          "name": "stderr",
          "text": [
            "\u001b[2m\u001b[36m(pid=19735)\u001b[0m 2023-06-10 04:52:23.987268: W tensorflow/compiler/tf2tensorrt/utils/py_utils.cc:38] TF-TRT Warning: Could not find TensorRT\n"
          ]
        },
        {
          "output_type": "stream",
          "name": "stdout",
          "text": [
            "\u001b[2m\u001b[36m(launch_and_evaluate pid=19735)\u001b[0m [Client 5] evaluate, config: {}\n"
          ]
        },
        {
          "output_type": "stream",
          "name": "stderr",
          "text": [
            "\u001b[2m\u001b[36m(pid=19805)\u001b[0m 2023-06-10 04:52:29.991102: W tensorflow/compiler/tf2tensorrt/utils/py_utils.cc:38] TF-TRT Warning: Could not find TensorRT\n"
          ]
        },
        {
          "output_type": "stream",
          "name": "stdout",
          "text": [
            "\u001b[2m\u001b[36m(launch_and_evaluate pid=19805)\u001b[0m [Client 8] evaluate, config: {}\n"
          ]
        },
        {
          "output_type": "stream",
          "name": "stderr",
          "text": [
            "\u001b[2m\u001b[36m(pid=19868)\u001b[0m 2023-06-10 04:52:37.445689: W tensorflow/compiler/tf2tensorrt/utils/py_utils.cc:38] TF-TRT Warning: Could not find TensorRT\n"
          ]
        },
        {
          "output_type": "stream",
          "name": "stdout",
          "text": [
            "\u001b[2m\u001b[36m(launch_and_evaluate pid=19868)\u001b[0m [Client 3] evaluate, config: {}\n"
          ]
        },
        {
          "output_type": "stream",
          "name": "stderr",
          "text": [
            "DEBUG flwr 2023-06-10 04:52:42,348 | server.py:182 | evaluate_round 9 received 3 results and 0 failures\n",
            "DEBUG:flwr:evaluate_round 9 received 3 results and 0 failures\n",
            "DEBUG flwr 2023-06-10 04:52:42,352 | server.py:218 | fit_round 10: strategy sampled 3 clients (out of 10)\n",
            "DEBUG:flwr:fit_round 10: strategy sampled 3 clients (out of 10)\n",
            "\u001b[2m\u001b[36m(pid=19960)\u001b[0m 2023-06-10 04:52:47.981667: W tensorflow/compiler/tf2tensorrt/utils/py_utils.cc:38] TF-TRT Warning: Could not find TensorRT\n"
          ]
        },
        {
          "output_type": "stream",
          "name": "stdout",
          "text": [
            "\u001b[2m\u001b[36m(launch_and_fit pid=19960)\u001b[0m [Client 6, round 10] fit, config: {'server_round': 10, 'local_epochs': 2}\n",
            "\u001b[2m\u001b[36m(launch_and_fit pid=19960)\u001b[0m Epoch 1: train loss 0.04735078290104866, accuracy 0.44155555555555553\n",
            "\u001b[2m\u001b[36m(launch_and_fit pid=19960)\u001b[0m Epoch 2: train loss 0.045269329100847244, accuracy 0.4708888888888889\n"
          ]
        },
        {
          "output_type": "stream",
          "name": "stderr",
          "text": [
            "\u001b[2m\u001b[36m(pid=20045)\u001b[0m 2023-06-10 04:52:59.068361: W tensorflow/compiler/tf2tensorrt/utils/py_utils.cc:38] TF-TRT Warning: Could not find TensorRT\n"
          ]
        },
        {
          "output_type": "stream",
          "name": "stdout",
          "text": [
            "\u001b[2m\u001b[36m(launch_and_fit pid=20045)\u001b[0m [Client 5, round 10] fit, config: {'server_round': 10, 'local_epochs': 2}\n",
            "\u001b[2m\u001b[36m(launch_and_fit pid=20045)\u001b[0m Epoch 1: train loss 0.04610665142536163, accuracy 0.46444444444444444\n",
            "\u001b[2m\u001b[36m(launch_and_fit pid=20045)\u001b[0m Epoch 2: train loss 0.04386797919869423, accuracy 0.496\n"
          ]
        },
        {
          "output_type": "stream",
          "name": "stderr",
          "text": [
            "\u001b[2m\u001b[36m(pid=20131)\u001b[0m 2023-06-10 04:53:10.997785: W tensorflow/compiler/tf2tensorrt/utils/py_utils.cc:38] TF-TRT Warning: Could not find TensorRT\n"
          ]
        },
        {
          "output_type": "stream",
          "name": "stdout",
          "text": [
            "\u001b[2m\u001b[36m(launch_and_fit pid=20131)\u001b[0m [Client 9, round 10] fit, config: {'server_round': 10, 'local_epochs': 2}\n",
            "\u001b[2m\u001b[36m(launch_and_fit pid=20131)\u001b[0m Epoch 1: train loss 0.04599745571613312, accuracy 0.4688888888888889\n"
          ]
        },
        {
          "output_type": "stream",
          "name": "stderr",
          "text": [
            "DEBUG flwr 2023-06-10 04:53:19,749 | server.py:232 | fit_round 10 received 3 results and 0 failures\n",
            "DEBUG:flwr:fit_round 10 received 3 results and 0 failures\n"
          ]
        },
        {
          "output_type": "stream",
          "name": "stdout",
          "text": [
            "\u001b[2m\u001b[36m(launch_and_fit pid=20131)\u001b[0m Epoch 2: train loss 0.04390024393796921, accuracy 0.49044444444444446\n"
          ]
        },
        {
          "output_type": "stream",
          "name": "stderr",
          "text": [
            "INFO flwr 2023-06-10 04:53:23,865 | server.py:119 | fit progress: (10, 0.05531642336845398, {'accuracy': 0.4005}, 614.1165158240001)\n",
            "INFO:flwr:fit progress: (10, 0.05531642336845398, {'accuracy': 0.4005}, 614.1165158240001)\n",
            "DEBUG flwr 2023-06-10 04:53:23,880 | server.py:168 | evaluate_round 10: strategy sampled 3 clients (out of 10)\n",
            "DEBUG:flwr:evaluate_round 10: strategy sampled 3 clients (out of 10)\n"
          ]
        },
        {
          "output_type": "stream",
          "name": "stdout",
          "text": [
            "Server-side evaluation loss 0.05531642336845398 / accuracy 0.4005\n"
          ]
        },
        {
          "output_type": "stream",
          "name": "stderr",
          "text": [
            "\u001b[2m\u001b[36m(pid=20266)\u001b[0m 2023-06-10 04:53:30.504897: W tensorflow/compiler/tf2tensorrt/utils/py_utils.cc:38] TF-TRT Warning: Could not find TensorRT\n"
          ]
        },
        {
          "output_type": "stream",
          "name": "stdout",
          "text": [
            "\u001b[2m\u001b[36m(launch_and_evaluate pid=20266)\u001b[0m [Client 7] evaluate, config: {}\n"
          ]
        },
        {
          "output_type": "stream",
          "name": "stderr",
          "text": [
            "\u001b[2m\u001b[36m(pid=20328)\u001b[0m 2023-06-10 04:53:36.719354: W tensorflow/compiler/tf2tensorrt/utils/py_utils.cc:38] TF-TRT Warning: Could not find TensorRT\n"
          ]
        },
        {
          "output_type": "stream",
          "name": "stdout",
          "text": [
            "\u001b[2m\u001b[36m(launch_and_evaluate pid=20328)\u001b[0m [Client 0] evaluate, config: {}\n"
          ]
        },
        {
          "output_type": "stream",
          "name": "stderr",
          "text": [
            "\u001b[2m\u001b[36m(pid=20398)\u001b[0m 2023-06-10 04:53:44.643925: W tensorflow/compiler/tf2tensorrt/utils/py_utils.cc:38] TF-TRT Warning: Could not find TensorRT\n"
          ]
        },
        {
          "output_type": "stream",
          "name": "stdout",
          "text": [
            "\u001b[2m\u001b[36m(launch_and_evaluate pid=20398)\u001b[0m [Client 3] evaluate, config: {}\n"
          ]
        },
        {
          "output_type": "stream",
          "name": "stderr",
          "text": [
            "DEBUG flwr 2023-06-10 04:53:48,616 | server.py:182 | evaluate_round 10 received 3 results and 0 failures\n",
            "DEBUG:flwr:evaluate_round 10 received 3 results and 0 failures\n",
            "INFO flwr 2023-06-10 04:53:48,620 | server.py:147 | FL finished in 638.8713389230002\n",
            "INFO:flwr:FL finished in 638.8713389230002\n",
            "INFO flwr 2023-06-10 04:53:48,621 | app.py:218 | app_fit: losses_distributed [(1, 5.221945373535156), (2, 0.2953500607808431), (3, 0.16375938351949057), (4, 0.19685283088684083), (5, 0.14276635980606078), (6, 0.09279807392756144), (7, 0.07258106629053751), (8, 0.07318584672609967), (9, 0.056748929421106965), (10, 0.056705404996871954)]\n",
            "INFO:flwr:app_fit: losses_distributed [(1, 5.221945373535156), (2, 0.2953500607808431), (3, 0.16375938351949057), (4, 0.19685283088684083), (5, 0.14276635980606078), (6, 0.09279807392756144), (7, 0.07258106629053751), (8, 0.07318584672609967), (9, 0.056748929421106965), (10, 0.056705404996871954)]\n",
            "INFO flwr 2023-06-10 04:53:48,624 | app.py:219 | app_fit: metrics_distributed_fit {}\n",
            "INFO:flwr:app_fit: metrics_distributed_fit {}\n",
            "INFO flwr 2023-06-10 04:53:48,626 | app.py:220 | app_fit: metrics_distributed {'accuracy': [(1, 0.17133333333333334), (2, 0.09066666666666667), (3, 0.16933333333333334), (4, 0.13066666666666668), (5, 0.14933333333333335), (6, 0.22533333333333336), (7, 0.24533333333333332), (8, 0.302), (9, 0.35666666666666663), (10, 0.3866666666666667)]}\n",
            "INFO:flwr:app_fit: metrics_distributed {'accuracy': [(1, 0.17133333333333334), (2, 0.09066666666666667), (3, 0.16933333333333334), (4, 0.13066666666666668), (5, 0.14933333333333335), (6, 0.22533333333333336), (7, 0.24533333333333332), (8, 0.302), (9, 0.35666666666666663), (10, 0.3866666666666667)]}\n",
            "INFO flwr 2023-06-10 04:53:48,628 | app.py:221 | app_fit: losses_centralized [(0, 0.0721333030462265), (1, 4.960196771240234), (2, 0.2937220021724701), (3, 0.16301658141613007), (4, 0.1924193106174469), (5, 0.13802191905975342), (6, 0.08938860124349594), (7, 0.07083493617773055), (8, 0.07207461718320847), (9, 0.05564492099285126), (10, 0.05531642336845398)]\n",
            "INFO:flwr:app_fit: losses_centralized [(0, 0.0721333030462265), (1, 4.960196771240234), (2, 0.2937220021724701), (3, 0.16301658141613007), (4, 0.1924193106174469), (5, 0.13802191905975342), (6, 0.08938860124349594), (7, 0.07083493617773055), (8, 0.07207461718320847), (9, 0.05564492099285126), (10, 0.05531642336845398)]\n",
            "INFO flwr 2023-06-10 04:53:48,630 | app.py:222 | app_fit: metrics_centralized {'accuracy': [(0, 0.1001), (1, 0.1829), (2, 0.0858), (3, 0.1587), (4, 0.1156), (5, 0.1516), (6, 0.2175), (7, 0.2458), (8, 0.3049), (9, 0.3538), (10, 0.4005)]}\n",
            "INFO:flwr:app_fit: metrics_centralized {'accuracy': [(0, 0.1001), (1, 0.1829), (2, 0.0858), (3, 0.1587), (4, 0.1156), (5, 0.1516), (6, 0.2175), (7, 0.2458), (8, 0.3049), (9, 0.3538), (10, 0.4005)]}\n"
          ]
        }
      ]
    },
    {
      "cell_type": "code",
      "source": [
        "net = VGG16().to(DEVICE)\n",
        "simulate_cifar(StrategyCls=fl.server.strategy.FedAdagrad, strategyArgs=strategyConfig, net=net, num_rounds=10)"
      ],
      "metadata": {
        "colab": {
          "base_uri": "https://localhost:8080/"
        },
        "id": "zKHYBjumihAQ",
        "outputId": "848388f1-6e2e-4edc-9111-8d9b48a4a641"
      },
      "execution_count": 8,
      "outputs": [
        {
          "output_type": "stream",
          "name": "stdout",
          "text": [
            "Files already downloaded and verified\n",
            "Files already downloaded and verified\n"
          ]
        },
        {
          "output_type": "stream",
          "name": "stderr",
          "text": [
            "INFO flwr 2023-06-10 04:53:50,380 | app.py:146 | Starting Flower simulation, config: ServerConfig(num_rounds=10, round_timeout=None)\n",
            "INFO:flwr:Starting Flower simulation, config: ServerConfig(num_rounds=10, round_timeout=None)\n",
            "2023-06-10 04:53:56,544\tINFO worker.py:1636 -- Started a local Ray instance.\n",
            "INFO flwr 2023-06-10 04:53:57,952 | app.py:180 | Flower VCE: Ray initialized with resources: {'CPU': 2.0, 'GPU': 1.0, 'node:172.28.0.12': 1.0, 'memory': 7870788404.0, 'object_store_memory': 3935394201.0}\n",
            "INFO:flwr:Flower VCE: Ray initialized with resources: {'CPU': 2.0, 'GPU': 1.0, 'node:172.28.0.12': 1.0, 'memory': 7870788404.0, 'object_store_memory': 3935394201.0}\n",
            "INFO flwr 2023-06-10 04:53:57,956 | server.py:86 | Initializing global parameters\n",
            "INFO:flwr:Initializing global parameters\n",
            "INFO flwr 2023-06-10 04:53:57,958 | server.py:269 | Using initial parameters provided by strategy\n",
            "INFO:flwr:Using initial parameters provided by strategy\n",
            "INFO flwr 2023-06-10 04:53:57,960 | server.py:88 | Evaluating initial parameters\n",
            "INFO:flwr:Evaluating initial parameters\n",
            "INFO flwr 2023-06-10 04:54:02,993 | server.py:91 | initial parameters (loss, other metrics): 0.07208328914642334, {'accuracy': 0.1}\n",
            "INFO:flwr:initial parameters (loss, other metrics): 0.07208328914642334, {'accuracy': 0.1}\n",
            "INFO flwr 2023-06-10 04:54:03,000 | server.py:101 | FL starting\n",
            "INFO:flwr:FL starting\n",
            "DEBUG flwr 2023-06-10 04:54:03,003 | server.py:218 | fit_round 1: strategy sampled 3 clients (out of 10)\n",
            "DEBUG:flwr:fit_round 1: strategy sampled 3 clients (out of 10)\n"
          ]
        },
        {
          "output_type": "stream",
          "name": "stdout",
          "text": [
            "Server-side evaluation loss 0.07208328914642334 / accuracy 0.1\n"
          ]
        },
        {
          "output_type": "stream",
          "name": "stderr",
          "text": [
            "\u001b[2m\u001b[36m(pid=20745)\u001b[0m 2023-06-10 04:54:11.740887: W tensorflow/compiler/tf2tensorrt/utils/py_utils.cc:38] TF-TRT Warning: Could not find TensorRT\n"
          ]
        },
        {
          "output_type": "stream",
          "name": "stdout",
          "text": [
            "\u001b[2m\u001b[36m(launch_and_fit pid=20745)\u001b[0m [Client 0, round 1] fit, config: {'server_round': 1, 'local_epochs': 1}\n",
            "\u001b[2m\u001b[36m(launch_and_fit pid=20745)\u001b[0m Epoch 1: train loss 0.06614630669355392, accuracy 0.18977777777777777\n"
          ]
        },
        {
          "output_type": "stream",
          "name": "stderr",
          "text": [
            "\u001b[2m\u001b[36m(pid=20831)\u001b[0m 2023-06-10 04:54:23.140366: W tensorflow/compiler/tf2tensorrt/utils/py_utils.cc:38] TF-TRT Warning: Could not find TensorRT\n"
          ]
        },
        {
          "output_type": "stream",
          "name": "stdout",
          "text": [
            "\u001b[2m\u001b[36m(launch_and_fit pid=20831)\u001b[0m [Client 7, round 1] fit, config: {'server_round': 1, 'local_epochs': 1}\n",
            "\u001b[2m\u001b[36m(launch_and_fit pid=20831)\u001b[0m Epoch 1: train loss 0.06383462250232697, accuracy 0.22244444444444444\n"
          ]
        },
        {
          "output_type": "stream",
          "name": "stderr",
          "text": [
            "\u001b[2m\u001b[36m(pid=20923)\u001b[0m 2023-06-10 04:54:34.738640: W tensorflow/compiler/tf2tensorrt/utils/py_utils.cc:38] TF-TRT Warning: Could not find TensorRT\n"
          ]
        },
        {
          "output_type": "stream",
          "name": "stdout",
          "text": [
            "\u001b[2m\u001b[36m(launch_and_fit pid=20923)\u001b[0m [Client 6, round 1] fit, config: {'server_round': 1, 'local_epochs': 1}\n"
          ]
        },
        {
          "output_type": "stream",
          "name": "stderr",
          "text": [
            "DEBUG flwr 2023-06-10 04:54:45,472 | server.py:232 | fit_round 1 received 3 results and 0 failures\n",
            "DEBUG:flwr:fit_round 1 received 3 results and 0 failures\n"
          ]
        },
        {
          "output_type": "stream",
          "name": "stdout",
          "text": [
            "\u001b[2m\u001b[36m(launch_and_fit pid=20923)\u001b[0m Epoch 1: train loss 0.06674917042255402, accuracy 0.1768888888888889\n"
          ]
        },
        {
          "output_type": "stream",
          "name": "stderr",
          "text": [
            "WARNING flwr 2023-06-10 04:54:45,737 | fedavg.py:243 | No fit_metrics_aggregation_fn provided\n",
            "WARNING:flwr:No fit_metrics_aggregation_fn provided\n",
            "INFO flwr 2023-06-10 04:54:50,557 | server.py:119 | fit progress: (1, 850900035410.3296, {'accuracy': 0.1}, 47.55389178099995)\n",
            "INFO:flwr:fit progress: (1, 850900035410.3296, {'accuracy': 0.1}, 47.55389178099995)\n",
            "DEBUG flwr 2023-06-10 04:54:50,564 | server.py:168 | evaluate_round 1: strategy sampled 3 clients (out of 10)\n",
            "DEBUG:flwr:evaluate_round 1: strategy sampled 3 clients (out of 10)\n"
          ]
        },
        {
          "output_type": "stream",
          "name": "stdout",
          "text": [
            "Server-side evaluation loss 850900035410.3296 / accuracy 0.1\n"
          ]
        },
        {
          "output_type": "stream",
          "name": "stderr",
          "text": [
            "\u001b[2m\u001b[36m(pid=21071)\u001b[0m 2023-06-10 04:54:59.062629: W tensorflow/compiler/tf2tensorrt/utils/py_utils.cc:38] TF-TRT Warning: Could not find TensorRT\n"
          ]
        },
        {
          "output_type": "stream",
          "name": "stdout",
          "text": [
            "\u001b[2m\u001b[36m(launch_and_evaluate pid=21071)\u001b[0m [Client 0] evaluate, config: {}\n"
          ]
        },
        {
          "output_type": "stream",
          "name": "stderr",
          "text": [
            "\u001b[2m\u001b[36m(pid=21131)\u001b[0m 2023-06-10 04:55:05.181881: W tensorflow/compiler/tf2tensorrt/utils/py_utils.cc:38] TF-TRT Warning: Could not find TensorRT\n"
          ]
        },
        {
          "output_type": "stream",
          "name": "stdout",
          "text": [
            "\u001b[2m\u001b[36m(launch_and_evaluate pid=21131)\u001b[0m [Client 3] evaluate, config: {}\n"
          ]
        },
        {
          "output_type": "stream",
          "name": "stderr",
          "text": [
            "\u001b[2m\u001b[36m(pid=21204)\u001b[0m 2023-06-10 04:55:13.075164: W tensorflow/compiler/tf2tensorrt/utils/py_utils.cc:38] TF-TRT Warning: Could not find TensorRT\n"
          ]
        },
        {
          "output_type": "stream",
          "name": "stdout",
          "text": [
            "\u001b[2m\u001b[36m(launch_and_evaluate pid=21204)\u001b[0m [Client 6] evaluate, config: {}\n"
          ]
        },
        {
          "output_type": "stream",
          "name": "stderr",
          "text": [
            "DEBUG flwr 2023-06-10 04:55:17,404 | server.py:182 | evaluate_round 1 received 3 results and 0 failures\n",
            "DEBUG:flwr:evaluate_round 1 received 3 results and 0 failures\n",
            "DEBUG flwr 2023-06-10 04:55:17,408 | server.py:218 | fit_round 2: strategy sampled 3 clients (out of 10)\n",
            "DEBUG:flwr:fit_round 2: strategy sampled 3 clients (out of 10)\n",
            "\u001b[2m\u001b[36m(pid=21286)\u001b[0m 2023-06-10 04:55:24.953871: W tensorflow/compiler/tf2tensorrt/utils/py_utils.cc:38] TF-TRT Warning: Could not find TensorRT\n"
          ]
        },
        {
          "output_type": "stream",
          "name": "stdout",
          "text": [
            "\u001b[2m\u001b[36m(launch_and_fit pid=21286)\u001b[0m [Client 9, round 2] fit, config: {'server_round': 2, 'local_epochs': 2}\n",
            "\u001b[2m\u001b[36m(launch_and_fit pid=21286)\u001b[0m Epoch 1: train loss 0.17729680240154266, accuracy 0.11488888888888889\n",
            "\u001b[2m\u001b[36m(launch_and_fit pid=21286)\u001b[0m Epoch 2: train loss 0.0735083520412445, accuracy 0.118\n"
          ]
        },
        {
          "output_type": "stream",
          "name": "stderr",
          "text": [
            "\u001b[2m\u001b[36m(pid=21409)\u001b[0m 2023-06-10 04:55:43.056375: W tensorflow/compiler/tf2tensorrt/utils/py_utils.cc:38] TF-TRT Warning: Could not find TensorRT\n"
          ]
        },
        {
          "output_type": "stream",
          "name": "stdout",
          "text": [
            "\u001b[2m\u001b[36m(launch_and_fit pid=21409)\u001b[0m [Client 3, round 2] fit, config: {'server_round': 2, 'local_epochs': 2}\n",
            "\u001b[2m\u001b[36m(launch_and_fit pid=21409)\u001b[0m Epoch 1: train loss 0.17994913458824158, accuracy 0.10422222222222222\n",
            "\u001b[2m\u001b[36m(launch_and_fit pid=21409)\u001b[0m Epoch 2: train loss 0.07373590767383575, accuracy 0.11066666666666666\n"
          ]
        },
        {
          "output_type": "stream",
          "name": "stderr",
          "text": [
            "\u001b[2m\u001b[36m(pid=21523)\u001b[0m 2023-06-10 04:55:59.602060: W tensorflow/compiler/tf2tensorrt/utils/py_utils.cc:38] TF-TRT Warning: Could not find TensorRT\n"
          ]
        },
        {
          "output_type": "stream",
          "name": "stdout",
          "text": [
            "\u001b[2m\u001b[36m(launch_and_fit pid=21523)\u001b[0m [Client 8, round 2] fit, config: {'server_round': 2, 'local_epochs': 2}\n",
            "\u001b[2m\u001b[36m(launch_and_fit pid=21523)\u001b[0m Epoch 1: train loss 0.18788284063339233, accuracy 0.10977777777777778\n"
          ]
        },
        {
          "output_type": "stream",
          "name": "stderr",
          "text": [
            "DEBUG flwr 2023-06-10 04:56:16,581 | server.py:232 | fit_round 2 received 3 results and 0 failures\n",
            "DEBUG:flwr:fit_round 2 received 3 results and 0 failures\n"
          ]
        },
        {
          "output_type": "stream",
          "name": "stdout",
          "text": [
            "\u001b[2m\u001b[36m(launch_and_fit pid=21523)\u001b[0m Epoch 2: train loss 0.07659395784139633, accuracy 0.11244444444444444\n"
          ]
        },
        {
          "output_type": "stream",
          "name": "stderr",
          "text": [
            "INFO flwr 2023-06-10 04:56:22,146 | server.py:119 | fit progress: (2, 6.957013839515187e+18, {'accuracy': 0.1}, 139.14340651600014)\n",
            "INFO:flwr:fit progress: (2, 6.957013839515187e+18, {'accuracy': 0.1}, 139.14340651600014)\n",
            "DEBUG flwr 2023-06-10 04:56:22,154 | server.py:168 | evaluate_round 2: strategy sampled 3 clients (out of 10)\n",
            "DEBUG:flwr:evaluate_round 2: strategy sampled 3 clients (out of 10)\n"
          ]
        },
        {
          "output_type": "stream",
          "name": "stdout",
          "text": [
            "Server-side evaluation loss 6.957013839515187e+18 / accuracy 0.1\n"
          ]
        },
        {
          "output_type": "stream",
          "name": "stderr",
          "text": [
            "\u001b[2m\u001b[36m(pid=21696)\u001b[0m 2023-06-10 04:56:30.842703: W tensorflow/compiler/tf2tensorrt/utils/py_utils.cc:38] TF-TRT Warning: Could not find TensorRT\n"
          ]
        },
        {
          "output_type": "stream",
          "name": "stdout",
          "text": [
            "\u001b[2m\u001b[36m(launch_and_evaluate pid=21696)\u001b[0m [Client 0] evaluate, config: {}\n"
          ]
        },
        {
          "output_type": "stream",
          "name": "stderr",
          "text": [
            "\u001b[2m\u001b[36m(pid=21762)\u001b[0m 2023-06-10 04:56:36.946912: W tensorflow/compiler/tf2tensorrt/utils/py_utils.cc:38] TF-TRT Warning: Could not find TensorRT\n"
          ]
        },
        {
          "output_type": "stream",
          "name": "stdout",
          "text": [
            "\u001b[2m\u001b[36m(launch_and_evaluate pid=21762)\u001b[0m [Client 3] evaluate, config: {}\n"
          ]
        },
        {
          "output_type": "stream",
          "name": "stderr",
          "text": [
            "\u001b[2m\u001b[36m(pid=21831)\u001b[0m 2023-06-10 04:56:45.122007: W tensorflow/compiler/tf2tensorrt/utils/py_utils.cc:38] TF-TRT Warning: Could not find TensorRT\n"
          ]
        },
        {
          "output_type": "stream",
          "name": "stdout",
          "text": [
            "\u001b[2m\u001b[36m(launch_and_evaluate pid=21831)\u001b[0m [Client 4] evaluate, config: {}\n"
          ]
        },
        {
          "output_type": "stream",
          "name": "stderr",
          "text": [
            "DEBUG flwr 2023-06-10 04:56:49,619 | server.py:182 | evaluate_round 2 received 3 results and 0 failures\n",
            "DEBUG:flwr:evaluate_round 2 received 3 results and 0 failures\n",
            "DEBUG flwr 2023-06-10 04:56:49,624 | server.py:218 | fit_round 3: strategy sampled 3 clients (out of 10)\n",
            "DEBUG:flwr:fit_round 3: strategy sampled 3 clients (out of 10)\n",
            "\u001b[2m\u001b[36m(pid=21922)\u001b[0m 2023-06-10 04:56:55.709592: W tensorflow/compiler/tf2tensorrt/utils/py_utils.cc:38] TF-TRT Warning: Could not find TensorRT\n"
          ]
        },
        {
          "output_type": "stream",
          "name": "stdout",
          "text": [
            "\u001b[2m\u001b[36m(launch_and_fit pid=21922)\u001b[0m [Client 8, round 3] fit, config: {'server_round': 3, 'local_epochs': 2}\n",
            "\u001b[2m\u001b[36m(launch_and_fit pid=21922)\u001b[0m Epoch 1: train loss 0.08146548271179199, accuracy 0.11266666666666666\n",
            "\u001b[2m\u001b[36m(launch_and_fit pid=21922)\u001b[0m Epoch 2: train loss 0.07118119299411774, accuracy 0.12955555555555556\n"
          ]
        },
        {
          "output_type": "stream",
          "name": "stderr",
          "text": [
            "\u001b[2m\u001b[36m(pid=22042)\u001b[0m 2023-06-10 04:57:15.345868: W tensorflow/compiler/tf2tensorrt/utils/py_utils.cc:38] TF-TRT Warning: Could not find TensorRT\n"
          ]
        },
        {
          "output_type": "stream",
          "name": "stdout",
          "text": [
            "\u001b[2m\u001b[36m(launch_and_fit pid=22042)\u001b[0m [Client 5, round 3] fit, config: {'server_round': 3, 'local_epochs': 2}\n",
            "\u001b[2m\u001b[36m(launch_and_fit pid=22042)\u001b[0m Epoch 1: train loss 0.08542191982269287, accuracy 0.10822222222222222\n",
            "\u001b[2m\u001b[36m(launch_and_fit pid=22042)\u001b[0m Epoch 2: train loss 0.0720614567399025, accuracy 0.1111111111111111\n"
          ]
        },
        {
          "output_type": "stream",
          "name": "stderr",
          "text": [
            "\u001b[2m\u001b[36m(pid=22157)\u001b[0m 2023-06-10 04:57:32.949947: W tensorflow/compiler/tf2tensorrt/utils/py_utils.cc:38] TF-TRT Warning: Could not find TensorRT\n"
          ]
        },
        {
          "output_type": "stream",
          "name": "stdout",
          "text": [
            "\u001b[2m\u001b[36m(launch_and_fit pid=22157)\u001b[0m [Client 7, round 3] fit, config: {'server_round': 3, 'local_epochs': 2}\n",
            "\u001b[2m\u001b[36m(launch_and_fit pid=22157)\u001b[0m Epoch 1: train loss 0.08248460292816162, accuracy 0.1111111111111111\n"
          ]
        },
        {
          "output_type": "stream",
          "name": "stderr",
          "text": [
            "DEBUG flwr 2023-06-10 04:57:47,586 | server.py:232 | fit_round 3 received 3 results and 0 failures\n",
            "DEBUG:flwr:fit_round 3 received 3 results and 0 failures\n"
          ]
        },
        {
          "output_type": "stream",
          "name": "stdout",
          "text": [
            "\u001b[2m\u001b[36m(launch_and_fit pid=22157)\u001b[0m Epoch 2: train loss 0.07200673967599869, accuracy 0.11711111111111111\n"
          ]
        },
        {
          "output_type": "stream",
          "name": "stderr",
          "text": [
            "INFO flwr 2023-06-10 04:57:52,600 | server.py:119 | fit progress: (3, 1.2970978006802445e+18, {'accuracy': 0.1}, 229.5972857339998)\n",
            "INFO:flwr:fit progress: (3, 1.2970978006802445e+18, {'accuracy': 0.1}, 229.5972857339998)\n",
            "DEBUG flwr 2023-06-10 04:57:52,605 | server.py:168 | evaluate_round 3: strategy sampled 3 clients (out of 10)\n",
            "DEBUG:flwr:evaluate_round 3: strategy sampled 3 clients (out of 10)\n"
          ]
        },
        {
          "output_type": "stream",
          "name": "stdout",
          "text": [
            "Server-side evaluation loss 1.2970978006802445e+18 / accuracy 0.1\n"
          ]
        },
        {
          "output_type": "stream",
          "name": "stderr",
          "text": [
            "\u001b[2m\u001b[36m(pid=22320)\u001b[0m 2023-06-10 04:58:00.037772: W tensorflow/compiler/tf2tensorrt/utils/py_utils.cc:38] TF-TRT Warning: Could not find TensorRT\n"
          ]
        },
        {
          "output_type": "stream",
          "name": "stdout",
          "text": [
            "\u001b[2m\u001b[36m(launch_and_evaluate pid=22320)\u001b[0m [Client 0] evaluate, config: {}\n"
          ]
        },
        {
          "output_type": "stream",
          "name": "stderr",
          "text": [
            "\u001b[2m\u001b[36m(pid=22390)\u001b[0m 2023-06-10 04:58:07.027067: W tensorflow/compiler/tf2tensorrt/utils/py_utils.cc:38] TF-TRT Warning: Could not find TensorRT\n"
          ]
        },
        {
          "output_type": "stream",
          "name": "stdout",
          "text": [
            "\u001b[2m\u001b[36m(launch_and_evaluate pid=22390)\u001b[0m [Client 2] evaluate, config: {}\n"
          ]
        },
        {
          "output_type": "stream",
          "name": "stderr",
          "text": [
            "\u001b[2m\u001b[36m(pid=22453)\u001b[0m 2023-06-10 04:58:13.705179: W tensorflow/compiler/tf2tensorrt/utils/py_utils.cc:38] TF-TRT Warning: Could not find TensorRT\n"
          ]
        },
        {
          "output_type": "stream",
          "name": "stdout",
          "text": [
            "\u001b[2m\u001b[36m(launch_and_evaluate pid=22453)\u001b[0m [Client 6] evaluate, config: {}\n"
          ]
        },
        {
          "output_type": "stream",
          "name": "stderr",
          "text": [
            "DEBUG flwr 2023-06-10 04:58:19,871 | server.py:182 | evaluate_round 3 received 3 results and 0 failures\n",
            "DEBUG:flwr:evaluate_round 3 received 3 results and 0 failures\n",
            "DEBUG flwr 2023-06-10 04:58:19,877 | server.py:218 | fit_round 4: strategy sampled 3 clients (out of 10)\n",
            "DEBUG:flwr:fit_round 4: strategy sampled 3 clients (out of 10)\n",
            "\u001b[2m\u001b[36m(pid=22547)\u001b[0m 2023-06-10 04:58:25.955257: W tensorflow/compiler/tf2tensorrt/utils/py_utils.cc:38] TF-TRT Warning: Could not find TensorRT\n"
          ]
        },
        {
          "output_type": "stream",
          "name": "stdout",
          "text": [
            "\u001b[2m\u001b[36m(launch_and_fit pid=22547)\u001b[0m [Client 4, round 4] fit, config: {'server_round': 4, 'local_epochs': 2}\n",
            "\u001b[2m\u001b[36m(launch_and_fit pid=22547)\u001b[0m Epoch 1: train loss 0.0777319148182869, accuracy 0.10555555555555556\n",
            "\u001b[2m\u001b[36m(launch_and_fit pid=22547)\u001b[0m Epoch 2: train loss 0.07194626331329346, accuracy 0.12866666666666668\n"
          ]
        },
        {
          "output_type": "stream",
          "name": "stderr",
          "text": [
            "\u001b[2m\u001b[36m(pid=22663)\u001b[0m 2023-06-10 04:58:43.743901: W tensorflow/compiler/tf2tensorrt/utils/py_utils.cc:38] TF-TRT Warning: Could not find TensorRT\n"
          ]
        },
        {
          "output_type": "stream",
          "name": "stdout",
          "text": [
            "\u001b[2m\u001b[36m(launch_and_fit pid=22663)\u001b[0m [Client 0, round 4] fit, config: {'server_round': 4, 'local_epochs': 2}\n",
            "\u001b[2m\u001b[36m(launch_and_fit pid=22663)\u001b[0m Epoch 1: train loss 0.07819071412086487, accuracy 0.09888888888888889\n",
            "\u001b[2m\u001b[36m(launch_and_fit pid=22663)\u001b[0m Epoch 2: train loss 0.07234212756156921, accuracy 0.12511111111111112\n"
          ]
        },
        {
          "output_type": "stream",
          "name": "stderr",
          "text": [
            "\u001b[2m\u001b[36m(pid=22784)\u001b[0m 2023-06-10 04:59:05.380980: W tensorflow/compiler/tf2tensorrt/utils/py_utils.cc:38] TF-TRT Warning: Could not find TensorRT\n"
          ]
        },
        {
          "output_type": "stream",
          "name": "stdout",
          "text": [
            "\u001b[2m\u001b[36m(launch_and_fit pid=22784)\u001b[0m [Client 8, round 4] fit, config: {'server_round': 4, 'local_epochs': 2}\n",
            "\u001b[2m\u001b[36m(launch_and_fit pid=22784)\u001b[0m Epoch 1: train loss 0.07756172865629196, accuracy 0.10311111111111111\n",
            "\u001b[2m\u001b[36m(launch_and_fit pid=22784)\u001b[0m Epoch 2: train loss 0.07079446315765381, accuracy 0.112\n"
          ]
        },
        {
          "output_type": "stream",
          "name": "stderr",
          "text": [
            "DEBUG flwr 2023-06-10 04:59:20,518 | server.py:232 | fit_round 4 received 3 results and 0 failures\n",
            "DEBUG:flwr:fit_round 4 received 3 results and 0 failures\n",
            "INFO flwr 2023-06-10 04:59:26,527 | server.py:119 | fit progress: (4, 4.3267081366489073e+18, {'accuracy': 0.1}, 323.5239433460001)\n",
            "INFO:flwr:fit progress: (4, 4.3267081366489073e+18, {'accuracy': 0.1}, 323.5239433460001)\n",
            "DEBUG flwr 2023-06-10 04:59:26,532 | server.py:168 | evaluate_round 4: strategy sampled 3 clients (out of 10)\n",
            "DEBUG:flwr:evaluate_round 4: strategy sampled 3 clients (out of 10)\n"
          ]
        },
        {
          "output_type": "stream",
          "name": "stdout",
          "text": [
            "Server-side evaluation loss 4.3267081366489073e+18 / accuracy 0.1\n"
          ]
        },
        {
          "output_type": "stream",
          "name": "stderr",
          "text": [
            "\u001b[2m\u001b[36m(pid=22959)\u001b[0m 2023-06-10 04:59:32.714878: W tensorflow/compiler/tf2tensorrt/utils/py_utils.cc:38] TF-TRT Warning: Could not find TensorRT\n"
          ]
        },
        {
          "output_type": "stream",
          "name": "stdout",
          "text": [
            "\u001b[2m\u001b[36m(launch_and_evaluate pid=22959)\u001b[0m [Client 7] evaluate, config: {}\n"
          ]
        },
        {
          "output_type": "stream",
          "name": "stderr",
          "text": [
            "\u001b[2m\u001b[36m(pid=23034)\u001b[0m 2023-06-10 04:59:41.558724: W tensorflow/compiler/tf2tensorrt/utils/py_utils.cc:38] TF-TRT Warning: Could not find TensorRT\n"
          ]
        },
        {
          "output_type": "stream",
          "name": "stdout",
          "text": [
            "\u001b[2m\u001b[36m(launch_and_evaluate pid=23034)\u001b[0m [Client 9] evaluate, config: {}\n"
          ]
        },
        {
          "output_type": "stream",
          "name": "stderr",
          "text": [
            "\u001b[2m\u001b[36m(pid=23096)\u001b[0m 2023-06-10 04:59:48.080048: W tensorflow/compiler/tf2tensorrt/utils/py_utils.cc:38] TF-TRT Warning: Could not find TensorRT\n"
          ]
        },
        {
          "output_type": "stream",
          "name": "stdout",
          "text": [
            "\u001b[2m\u001b[36m(launch_and_evaluate pid=23096)\u001b[0m [Client 5] evaluate, config: {}\n"
          ]
        },
        {
          "output_type": "stream",
          "name": "stderr",
          "text": [
            "DEBUG flwr 2023-06-10 04:59:54,719 | server.py:182 | evaluate_round 4 received 3 results and 0 failures\n",
            "DEBUG:flwr:evaluate_round 4 received 3 results and 0 failures\n",
            "DEBUG flwr 2023-06-10 04:59:54,722 | server.py:218 | fit_round 5: strategy sampled 3 clients (out of 10)\n",
            "DEBUG:flwr:fit_round 5: strategy sampled 3 clients (out of 10)\n",
            "\u001b[2m\u001b[36m(pid=23191)\u001b[0m 2023-06-10 05:00:00.818658: W tensorflow/compiler/tf2tensorrt/utils/py_utils.cc:38] TF-TRT Warning: Could not find TensorRT\n"
          ]
        },
        {
          "output_type": "stream",
          "name": "stdout",
          "text": [
            "\u001b[2m\u001b[36m(launch_and_fit pid=23191)\u001b[0m [Client 4, round 5] fit, config: {'server_round': 5, 'local_epochs': 2}\n",
            "\u001b[2m\u001b[36m(launch_and_fit pid=23191)\u001b[0m Epoch 1: train loss 0.07271412014961243, accuracy 0.12977777777777777\n",
            "\u001b[2m\u001b[36m(launch_and_fit pid=23191)\u001b[0m Epoch 2: train loss 0.0683908462524414, accuracy 0.15288888888888888\n"
          ]
        },
        {
          "output_type": "stream",
          "name": "stderr",
          "text": [
            "\u001b[2m\u001b[36m(pid=23306)\u001b[0m 2023-06-10 05:00:18.142910: W tensorflow/compiler/tf2tensorrt/utils/py_utils.cc:38] TF-TRT Warning: Could not find TensorRT\n"
          ]
        },
        {
          "output_type": "stream",
          "name": "stdout",
          "text": [
            "\u001b[2m\u001b[36m(launch_and_fit pid=23306)\u001b[0m [Client 9, round 5] fit, config: {'server_round': 5, 'local_epochs': 2}\n",
            "\u001b[2m\u001b[36m(launch_and_fit pid=23306)\u001b[0m Epoch 1: train loss 0.07255144417285919, accuracy 0.13577777777777778\n",
            "\u001b[2m\u001b[36m(launch_and_fit pid=23306)\u001b[0m Epoch 2: train loss 0.06644085794687271, accuracy 0.19\n"
          ]
        },
        {
          "output_type": "stream",
          "name": "stderr",
          "text": [
            "\u001b[2m\u001b[36m(pid=23428)\u001b[0m 2023-06-10 05:00:38.185656: W tensorflow/compiler/tf2tensorrt/utils/py_utils.cc:38] TF-TRT Warning: Could not find TensorRT\n"
          ]
        },
        {
          "output_type": "stream",
          "name": "stdout",
          "text": [
            "\u001b[2m\u001b[36m(launch_and_fit pid=23428)\u001b[0m [Client 0, round 5] fit, config: {'server_round': 5, 'local_epochs': 2}\n",
            "\u001b[2m\u001b[36m(launch_and_fit pid=23428)\u001b[0m Epoch 1: train loss 0.07373227924108505, accuracy 0.118\n",
            "\u001b[2m\u001b[36m(launch_and_fit pid=23428)\u001b[0m Epoch 2: train loss 0.0698191449046135, accuracy 0.13822222222222222\n"
          ]
        },
        {
          "output_type": "stream",
          "name": "stderr",
          "text": [
            "DEBUG flwr 2023-06-10 05:00:53,496 | server.py:232 | fit_round 5 received 3 results and 0 failures\n",
            "DEBUG:flwr:fit_round 5 received 3 results and 0 failures\n",
            "INFO flwr 2023-06-10 05:00:59,219 | server.py:119 | fit progress: (5, 2.396767718768128e+19, {'accuracy': 0.1}, 416.2159910289997)\n",
            "INFO:flwr:fit progress: (5, 2.396767718768128e+19, {'accuracy': 0.1}, 416.2159910289997)\n",
            "DEBUG flwr 2023-06-10 05:00:59,225 | server.py:168 | evaluate_round 5: strategy sampled 3 clients (out of 10)\n",
            "DEBUG:flwr:evaluate_round 5: strategy sampled 3 clients (out of 10)\n"
          ]
        },
        {
          "output_type": "stream",
          "name": "stdout",
          "text": [
            "Server-side evaluation loss 2.396767718768128e+19 / accuracy 0.1\n"
          ]
        },
        {
          "output_type": "stream",
          "name": "stderr",
          "text": [
            "\u001b[2m\u001b[36m(pid=23593)\u001b[0m 2023-06-10 05:01:05.293704: W tensorflow/compiler/tf2tensorrt/utils/py_utils.cc:38] TF-TRT Warning: Could not find TensorRT\n"
          ]
        },
        {
          "output_type": "stream",
          "name": "stdout",
          "text": [
            "\u001b[2m\u001b[36m(launch_and_evaluate pid=23593)\u001b[0m [Client 7] evaluate, config: {}\n"
          ]
        },
        {
          "output_type": "stream",
          "name": "stderr",
          "text": [
            "\u001b[2m\u001b[36m(pid=23670)\u001b[0m 2023-06-10 05:01:13.840133: W tensorflow/compiler/tf2tensorrt/utils/py_utils.cc:38] TF-TRT Warning: Could not find TensorRT\n"
          ]
        },
        {
          "output_type": "stream",
          "name": "stdout",
          "text": [
            "\u001b[2m\u001b[36m(launch_and_evaluate pid=23670)\u001b[0m [Client 2] evaluate, config: {}\n"
          ]
        },
        {
          "output_type": "stream",
          "name": "stderr",
          "text": [
            "\u001b[2m\u001b[36m(pid=23732)\u001b[0m 2023-06-10 05:01:19.987152: W tensorflow/compiler/tf2tensorrt/utils/py_utils.cc:38] TF-TRT Warning: Could not find TensorRT\n"
          ]
        },
        {
          "output_type": "stream",
          "name": "stdout",
          "text": [
            "\u001b[2m\u001b[36m(launch_and_evaluate pid=23732)\u001b[0m [Client 9] evaluate, config: {}\n"
          ]
        },
        {
          "output_type": "stream",
          "name": "stderr",
          "text": [
            "DEBUG flwr 2023-06-10 05:01:26,423 | server.py:182 | evaluate_round 5 received 3 results and 0 failures\n",
            "DEBUG:flwr:evaluate_round 5 received 3 results and 0 failures\n",
            "DEBUG flwr 2023-06-10 05:01:26,430 | server.py:218 | fit_round 6: strategy sampled 3 clients (out of 10)\n",
            "DEBUG:flwr:fit_round 6: strategy sampled 3 clients (out of 10)\n",
            "\u001b[2m\u001b[36m(pid=23822)\u001b[0m 2023-06-10 05:01:32.420138: W tensorflow/compiler/tf2tensorrt/utils/py_utils.cc:38] TF-TRT Warning: Could not find TensorRT\n"
          ]
        },
        {
          "output_type": "stream",
          "name": "stdout",
          "text": [
            "\u001b[2m\u001b[36m(launch_and_fit pid=23822)\u001b[0m [Client 4, round 6] fit, config: {'server_round': 6, 'local_epochs': 2}\n",
            "\u001b[2m\u001b[36m(launch_and_fit pid=23822)\u001b[0m Epoch 1: train loss 0.06726405769586563, accuracy 0.17933333333333334\n",
            "\u001b[2m\u001b[36m(launch_and_fit pid=23822)\u001b[0m Epoch 2: train loss 0.061749815940856934, accuracy 0.21844444444444444\n"
          ]
        },
        {
          "output_type": "stream",
          "name": "stderr",
          "text": [
            "\u001b[2m\u001b[36m(pid=23942)\u001b[0m 2023-06-10 05:01:49.654591: W tensorflow/compiler/tf2tensorrt/utils/py_utils.cc:38] TF-TRT Warning: Could not find TensorRT\n"
          ]
        },
        {
          "output_type": "stream",
          "name": "stdout",
          "text": [
            "\u001b[2m\u001b[36m(launch_and_fit pid=23942)\u001b[0m [Client 0, round 6] fit, config: {'server_round': 6, 'local_epochs': 2}\n",
            "\u001b[2m\u001b[36m(launch_and_fit pid=23942)\u001b[0m Epoch 1: train loss 0.06681948900222778, accuracy 0.19\n",
            "\u001b[2m\u001b[36m(launch_and_fit pid=23942)\u001b[0m Epoch 2: train loss 0.060470834374427795, accuracy 0.23733333333333334\n"
          ]
        },
        {
          "output_type": "stream",
          "name": "stderr",
          "text": [
            "\u001b[2m\u001b[36m(pid=24064)\u001b[0m 2023-06-10 05:02:09.828561: W tensorflow/compiler/tf2tensorrt/utils/py_utils.cc:38] TF-TRT Warning: Could not find TensorRT\n"
          ]
        },
        {
          "output_type": "stream",
          "name": "stdout",
          "text": [
            "\u001b[2m\u001b[36m(launch_and_fit pid=24064)\u001b[0m [Client 8, round 6] fit, config: {'server_round': 6, 'local_epochs': 2}\n",
            "\u001b[2m\u001b[36m(launch_and_fit pid=24064)\u001b[0m Epoch 1: train loss 0.06595245003700256, accuracy 0.20622222222222222\n"
          ]
        },
        {
          "output_type": "stream",
          "name": "stderr",
          "text": [
            "DEBUG flwr 2023-06-10 05:02:26,389 | server.py:232 | fit_round 6 received 3 results and 0 failures\n",
            "DEBUG:flwr:fit_round 6 received 3 results and 0 failures\n"
          ]
        },
        {
          "output_type": "stream",
          "name": "stdout",
          "text": [
            "\u001b[2m\u001b[36m(launch_and_fit pid=24064)\u001b[0m Epoch 2: train loss 0.06090423837304115, accuracy 0.2311111111111111\n"
          ]
        },
        {
          "output_type": "stream",
          "name": "stderr",
          "text": [
            "INFO flwr 2023-06-10 05:02:33,004 | server.py:119 | fit progress: (6, 4.6042211058921467e+18, {'accuracy': 0.1}, 510.000580423)\n",
            "INFO:flwr:fit progress: (6, 4.6042211058921467e+18, {'accuracy': 0.1}, 510.000580423)\n",
            "DEBUG flwr 2023-06-10 05:02:33,009 | server.py:168 | evaluate_round 6: strategy sampled 3 clients (out of 10)\n",
            "DEBUG:flwr:evaluate_round 6: strategy sampled 3 clients (out of 10)\n"
          ]
        },
        {
          "output_type": "stream",
          "name": "stdout",
          "text": [
            "Server-side evaluation loss 4.6042211058921467e+18 / accuracy 0.1\n"
          ]
        },
        {
          "output_type": "stream",
          "name": "stderr",
          "text": [
            "\u001b[2m\u001b[36m(pid=24237)\u001b[0m 2023-06-10 05:02:39.174048: W tensorflow/compiler/tf2tensorrt/utils/py_utils.cc:38] TF-TRT Warning: Could not find TensorRT\n"
          ]
        },
        {
          "output_type": "stream",
          "name": "stdout",
          "text": [
            "\u001b[2m\u001b[36m(launch_and_evaluate pid=24237)\u001b[0m [Client 0] evaluate, config: {}\n"
          ]
        },
        {
          "output_type": "stream",
          "name": "stderr",
          "text": [
            "\u001b[2m\u001b[36m(pid=24305)\u001b[0m 2023-06-10 05:02:47.467382: W tensorflow/compiler/tf2tensorrt/utils/py_utils.cc:38] TF-TRT Warning: Could not find TensorRT\n"
          ]
        },
        {
          "output_type": "stream",
          "name": "stdout",
          "text": [
            "\u001b[2m\u001b[36m(launch_and_evaluate pid=24305)\u001b[0m [Client 4] evaluate, config: {}\n"
          ]
        },
        {
          "output_type": "stream",
          "name": "stderr",
          "text": [
            "\u001b[2m\u001b[36m(pid=24371)\u001b[0m 2023-06-10 05:02:53.529237: W tensorflow/compiler/tf2tensorrt/utils/py_utils.cc:38] TF-TRT Warning: Could not find TensorRT\n"
          ]
        },
        {
          "output_type": "stream",
          "name": "stdout",
          "text": [
            "\u001b[2m\u001b[36m(launch_and_evaluate pid=24371)\u001b[0m [Client 3] evaluate, config: {}\n"
          ]
        },
        {
          "output_type": "stream",
          "name": "stderr",
          "text": [
            "DEBUG flwr 2023-06-10 05:02:58,476 | server.py:182 | evaluate_round 6 received 3 results and 0 failures\n",
            "DEBUG:flwr:evaluate_round 6 received 3 results and 0 failures\n",
            "DEBUG flwr 2023-06-10 05:02:58,483 | server.py:218 | fit_round 7: strategy sampled 3 clients (out of 10)\n",
            "DEBUG:flwr:fit_round 7: strategy sampled 3 clients (out of 10)\n",
            "\u001b[2m\u001b[36m(pid=24462)\u001b[0m 2023-06-10 05:03:05.664493: W tensorflow/compiler/tf2tensorrt/utils/py_utils.cc:38] TF-TRT Warning: Could not find TensorRT\n"
          ]
        },
        {
          "output_type": "stream",
          "name": "stdout",
          "text": [
            "\u001b[2m\u001b[36m(launch_and_fit pid=24462)\u001b[0m [Client 5, round 7] fit, config: {'server_round': 7, 'local_epochs': 2}\n",
            "\u001b[2m\u001b[36m(launch_and_fit pid=24462)\u001b[0m Epoch 1: train loss 0.06371349841356277, accuracy 0.23666666666666666\n",
            "\u001b[2m\u001b[36m(launch_and_fit pid=24462)\u001b[0m Epoch 2: train loss 0.059344008564949036, accuracy 0.24644444444444444\n"
          ]
        },
        {
          "output_type": "stream",
          "name": "stderr",
          "text": [
            "\u001b[2m\u001b[36m(pid=24575)\u001b[0m 2023-06-10 05:03:22.670558: W tensorflow/compiler/tf2tensorrt/utils/py_utils.cc:38] TF-TRT Warning: Could not find TensorRT\n"
          ]
        },
        {
          "output_type": "stream",
          "name": "stdout",
          "text": [
            "\u001b[2m\u001b[36m(launch_and_fit pid=24575)\u001b[0m [Client 1, round 7] fit, config: {'server_round': 7, 'local_epochs': 2}\n",
            "\u001b[2m\u001b[36m(launch_and_fit pid=24575)\u001b[0m Epoch 1: train loss 0.06331191956996918, accuracy 0.22311111111111112\n",
            "\u001b[2m\u001b[36m(launch_and_fit pid=24575)\u001b[0m Epoch 2: train loss 0.05868979170918465, accuracy 0.248\n"
          ]
        },
        {
          "output_type": "stream",
          "name": "stderr",
          "text": [
            "\u001b[2m\u001b[36m(pid=24689)\u001b[0m 2023-06-10 05:03:39.497297: W tensorflow/compiler/tf2tensorrt/utils/py_utils.cc:38] TF-TRT Warning: Could not find TensorRT\n"
          ]
        },
        {
          "output_type": "stream",
          "name": "stdout",
          "text": [
            "\u001b[2m\u001b[36m(launch_and_fit pid=24689)\u001b[0m [Client 2, round 7] fit, config: {'server_round': 7, 'local_epochs': 2}\n",
            "\u001b[2m\u001b[36m(launch_and_fit pid=24689)\u001b[0m Epoch 1: train loss 0.06368234753608704, accuracy 0.2328888888888889\n"
          ]
        },
        {
          "output_type": "stream",
          "name": "stderr",
          "text": [
            "DEBUG flwr 2023-06-10 05:03:55,127 | server.py:232 | fit_round 7 received 3 results and 0 failures\n",
            "DEBUG:flwr:fit_round 7 received 3 results and 0 failures\n"
          ]
        },
        {
          "output_type": "stream",
          "name": "stdout",
          "text": [
            "\u001b[2m\u001b[36m(launch_and_fit pid=24689)\u001b[0m Epoch 2: train loss 0.05914485827088356, accuracy 0.24444444444444444\n"
          ]
        },
        {
          "output_type": "stream",
          "name": "stderr",
          "text": [
            "INFO flwr 2023-06-10 05:04:02,453 | server.py:119 | fit progress: (7, 7.973111271417245e+17, {'accuracy': 0.1}, 599.4501605719997)\n",
            "INFO:flwr:fit progress: (7, 7.973111271417245e+17, {'accuracy': 0.1}, 599.4501605719997)\n",
            "DEBUG flwr 2023-06-10 05:04:02,458 | server.py:168 | evaluate_round 7: strategy sampled 3 clients (out of 10)\n",
            "DEBUG:flwr:evaluate_round 7: strategy sampled 3 clients (out of 10)\n"
          ]
        },
        {
          "output_type": "stream",
          "name": "stdout",
          "text": [
            "Server-side evaluation loss 7.973111271417245e+17 / accuracy 0.1\n"
          ]
        },
        {
          "output_type": "stream",
          "name": "stderr",
          "text": [
            "\u001b[2m\u001b[36m(pid=24861)\u001b[0m 2023-06-10 05:04:08.512036: W tensorflow/compiler/tf2tensorrt/utils/py_utils.cc:38] TF-TRT Warning: Could not find TensorRT\n"
          ]
        },
        {
          "output_type": "stream",
          "name": "stdout",
          "text": [
            "\u001b[2m\u001b[36m(launch_and_evaluate pid=24861)\u001b[0m [Client 1] evaluate, config: {}\n"
          ]
        },
        {
          "output_type": "stream",
          "name": "stderr",
          "text": [
            "\u001b[2m\u001b[36m(pid=24924)\u001b[0m 2023-06-10 05:04:16.851340: W tensorflow/compiler/tf2tensorrt/utils/py_utils.cc:38] TF-TRT Warning: Could not find TensorRT\n"
          ]
        },
        {
          "output_type": "stream",
          "name": "stdout",
          "text": [
            "\u001b[2m\u001b[36m(launch_and_evaluate pid=24924)\u001b[0m [Client 7] evaluate, config: {}\n"
          ]
        },
        {
          "output_type": "stream",
          "name": "stderr",
          "text": [
            "\u001b[2m\u001b[36m(pid=24998)\u001b[0m 2023-06-10 05:04:23.443922: W tensorflow/compiler/tf2tensorrt/utils/py_utils.cc:38] TF-TRT Warning: Could not find TensorRT\n"
          ]
        },
        {
          "output_type": "stream",
          "name": "stdout",
          "text": [
            "\u001b[2m\u001b[36m(launch_and_evaluate pid=24998)\u001b[0m [Client 6] evaluate, config: {}\n"
          ]
        },
        {
          "output_type": "stream",
          "name": "stderr",
          "text": [
            "DEBUG flwr 2023-06-10 05:04:27,841 | server.py:182 | evaluate_round 7 received 3 results and 0 failures\n",
            "DEBUG:flwr:evaluate_round 7 received 3 results and 0 failures\n",
            "DEBUG flwr 2023-06-10 05:04:27,844 | server.py:218 | fit_round 8: strategy sampled 3 clients (out of 10)\n",
            "DEBUG:flwr:fit_round 8: strategy sampled 3 clients (out of 10)\n",
            "\u001b[2m\u001b[36m(pid=25089)\u001b[0m 2023-06-10 05:04:36.364128: W tensorflow/compiler/tf2tensorrt/utils/py_utils.cc:38] TF-TRT Warning: Could not find TensorRT\n"
          ]
        },
        {
          "output_type": "stream",
          "name": "stdout",
          "text": [
            "\u001b[2m\u001b[36m(launch_and_fit pid=25089)\u001b[0m [Client 9, round 8] fit, config: {'server_round': 8, 'local_epochs': 2}\n",
            "\u001b[2m\u001b[36m(launch_and_fit pid=25089)\u001b[0m Epoch 1: train loss 0.060456015169620514, accuracy 0.27\n",
            "\u001b[2m\u001b[36m(launch_and_fit pid=25089)\u001b[0m Epoch 2: train loss 0.058160264045000076, accuracy 0.2773333333333333\n"
          ]
        },
        {
          "output_type": "stream",
          "name": "stderr",
          "text": [
            "\u001b[2m\u001b[36m(pid=25213)\u001b[0m 2023-06-10 05:04:54.881882: W tensorflow/compiler/tf2tensorrt/utils/py_utils.cc:38] TF-TRT Warning: Could not find TensorRT\n"
          ]
        },
        {
          "output_type": "stream",
          "name": "stdout",
          "text": [
            "\u001b[2m\u001b[36m(launch_and_fit pid=25213)\u001b[0m [Client 0, round 8] fit, config: {'server_round': 8, 'local_epochs': 2}\n",
            "\u001b[2m\u001b[36m(launch_and_fit pid=25213)\u001b[0m Epoch 1: train loss 0.06089628115296364, accuracy 0.24977777777777777\n",
            "\u001b[2m\u001b[36m(launch_and_fit pid=25213)\u001b[0m Epoch 2: train loss 0.05830569937825203, accuracy 0.26666666666666666\n"
          ]
        },
        {
          "output_type": "stream",
          "name": "stderr",
          "text": [
            "\u001b[2m\u001b[36m(pid=25326)\u001b[0m 2023-06-10 05:05:11.812035: W tensorflow/compiler/tf2tensorrt/utils/py_utils.cc:38] TF-TRT Warning: Could not find TensorRT\n"
          ]
        },
        {
          "output_type": "stream",
          "name": "stdout",
          "text": [
            "\u001b[2m\u001b[36m(launch_and_fit pid=25326)\u001b[0m [Client 8, round 8] fit, config: {'server_round': 8, 'local_epochs': 2}\n",
            "\u001b[2m\u001b[36m(launch_and_fit pid=25326)\u001b[0m Epoch 1: train loss 0.05989892780780792, accuracy 0.258\n"
          ]
        },
        {
          "output_type": "stream",
          "name": "stderr",
          "text": [
            "DEBUG flwr 2023-06-10 05:05:27,199 | server.py:232 | fit_round 8 received 3 results and 0 failures\n",
            "DEBUG:flwr:fit_round 8 received 3 results and 0 failures\n"
          ]
        },
        {
          "output_type": "stream",
          "name": "stdout",
          "text": [
            "\u001b[2m\u001b[36m(launch_and_fit pid=25326)\u001b[0m Epoch 2: train loss 0.057529106736183167, accuracy 0.28155555555555556\n"
          ]
        },
        {
          "output_type": "stream",
          "name": "stderr",
          "text": [
            "INFO flwr 2023-06-10 05:05:32,505 | server.py:119 | fit progress: (8, 2.589837125833064e+18, {'accuracy': 0.1}, 689.5020912079999)\n",
            "INFO:flwr:fit progress: (8, 2.589837125833064e+18, {'accuracy': 0.1}, 689.5020912079999)\n",
            "DEBUG flwr 2023-06-10 05:05:32,509 | server.py:168 | evaluate_round 8: strategy sampled 3 clients (out of 10)\n",
            "DEBUG:flwr:evaluate_round 8: strategy sampled 3 clients (out of 10)\n"
          ]
        },
        {
          "output_type": "stream",
          "name": "stdout",
          "text": [
            "Server-side evaluation loss 2.589837125833064e+18 / accuracy 0.1\n"
          ]
        },
        {
          "output_type": "stream",
          "name": "stderr",
          "text": [
            "\u001b[2m\u001b[36m(pid=25493)\u001b[0m 2023-06-10 05:05:40.751309: W tensorflow/compiler/tf2tensorrt/utils/py_utils.cc:38] TF-TRT Warning: Could not find TensorRT\n"
          ]
        },
        {
          "output_type": "stream",
          "name": "stdout",
          "text": [
            "\u001b[2m\u001b[36m(launch_and_evaluate pid=25493)\u001b[0m [Client 9] evaluate, config: {}\n"
          ]
        },
        {
          "output_type": "stream",
          "name": "stderr",
          "text": [
            "\u001b[2m\u001b[36m(pid=25559)\u001b[0m 2023-06-10 05:05:47.078782: W tensorflow/compiler/tf2tensorrt/utils/py_utils.cc:38] TF-TRT Warning: Could not find TensorRT\n"
          ]
        },
        {
          "output_type": "stream",
          "name": "stdout",
          "text": [
            "\u001b[2m\u001b[36m(launch_and_evaluate pid=25559)\u001b[0m [Client 0] evaluate, config: {}\n"
          ]
        },
        {
          "output_type": "stream",
          "name": "stderr",
          "text": [
            "\u001b[2m\u001b[36m(pid=25630)\u001b[0m 2023-06-10 05:05:55.759140: W tensorflow/compiler/tf2tensorrt/utils/py_utils.cc:38] TF-TRT Warning: Could not find TensorRT\n"
          ]
        },
        {
          "output_type": "stream",
          "name": "stdout",
          "text": [
            "\u001b[2m\u001b[36m(launch_and_evaluate pid=25630)\u001b[0m [Client 4] evaluate, config: {}\n"
          ]
        },
        {
          "output_type": "stream",
          "name": "stderr",
          "text": [
            "DEBUG flwr 2023-06-10 05:06:00,284 | server.py:182 | evaluate_round 8 received 3 results and 0 failures\n",
            "DEBUG:flwr:evaluate_round 8 received 3 results and 0 failures\n",
            "DEBUG flwr 2023-06-10 05:06:00,288 | server.py:218 | fit_round 9: strategy sampled 3 clients (out of 10)\n",
            "DEBUG:flwr:fit_round 9: strategy sampled 3 clients (out of 10)\n",
            "\u001b[2m\u001b[36m(pid=25720)\u001b[0m 2023-06-10 05:06:08.934840: W tensorflow/compiler/tf2tensorrt/utils/py_utils.cc:38] TF-TRT Warning: Could not find TensorRT\n"
          ]
        },
        {
          "output_type": "stream",
          "name": "stdout",
          "text": [
            "\u001b[2m\u001b[36m(launch_and_fit pid=25720)\u001b[0m [Client 2, round 9] fit, config: {'server_round': 9, 'local_epochs': 2}\n",
            "\u001b[2m\u001b[36m(launch_and_fit pid=25720)\u001b[0m Epoch 1: train loss 0.06179779767990112, accuracy 0.24688888888888888\n",
            "\u001b[2m\u001b[36m(launch_and_fit pid=25720)\u001b[0m Epoch 2: train loss 0.05692366510629654, accuracy 0.2931111111111111\n"
          ]
        },
        {
          "output_type": "stream",
          "name": "stderr",
          "text": [
            "\u001b[2m\u001b[36m(pid=25840)\u001b[0m 2023-06-10 05:06:25.832861: W tensorflow/compiler/tf2tensorrt/utils/py_utils.cc:38] TF-TRT Warning: Could not find TensorRT\n"
          ]
        },
        {
          "output_type": "stream",
          "name": "stdout",
          "text": [
            "\u001b[2m\u001b[36m(launch_and_fit pid=25840)\u001b[0m [Client 0, round 9] fit, config: {'server_round': 9, 'local_epochs': 2}\n",
            "\u001b[2m\u001b[36m(launch_and_fit pid=25840)\u001b[0m Epoch 1: train loss 0.06145799532532692, accuracy 0.24644444444444444\n",
            "\u001b[2m\u001b[36m(launch_and_fit pid=25840)\u001b[0m Epoch 2: train loss 0.057094477117061615, accuracy 0.29777777777777775\n"
          ]
        },
        {
          "output_type": "stream",
          "name": "stderr",
          "text": [
            "\u001b[2m\u001b[36m(pid=25951)\u001b[0m 2023-06-10 05:06:42.871467: W tensorflow/compiler/tf2tensorrt/utils/py_utils.cc:38] TF-TRT Warning: Could not find TensorRT\n"
          ]
        },
        {
          "output_type": "stream",
          "name": "stdout",
          "text": [
            "\u001b[2m\u001b[36m(launch_and_fit pid=25951)\u001b[0m [Client 9, round 9] fit, config: {'server_round': 9, 'local_epochs': 2}\n",
            "\u001b[2m\u001b[36m(launch_and_fit pid=25951)\u001b[0m Epoch 1: train loss 0.06095455586910248, accuracy 0.2682222222222222\n"
          ]
        },
        {
          "output_type": "stream",
          "name": "stderr",
          "text": [
            "DEBUG flwr 2023-06-10 05:06:57,955 | server.py:232 | fit_round 9 received 3 results and 0 failures\n",
            "DEBUG:flwr:fit_round 9 received 3 results and 0 failures\n"
          ]
        },
        {
          "output_type": "stream",
          "name": "stdout",
          "text": [
            "\u001b[2m\u001b[36m(launch_and_fit pid=25951)\u001b[0m Epoch 2: train loss 0.05627991631627083, accuracy 0.3071111111111111\n"
          ]
        },
        {
          "output_type": "stream",
          "name": "stderr",
          "text": [
            "INFO flwr 2023-06-10 05:07:03,098 | server.py:119 | fit progress: (9, 7.649383196997402e+17, {'accuracy': 0.1}, 780.0953221999998)\n",
            "INFO:flwr:fit progress: (9, 7.649383196997402e+17, {'accuracy': 0.1}, 780.0953221999998)\n",
            "DEBUG flwr 2023-06-10 05:07:03,109 | server.py:168 | evaluate_round 9: strategy sampled 3 clients (out of 10)\n",
            "DEBUG:flwr:evaluate_round 9: strategy sampled 3 clients (out of 10)\n"
          ]
        },
        {
          "output_type": "stream",
          "name": "stdout",
          "text": [
            "Server-side evaluation loss 7.649383196997402e+17 / accuracy 0.1\n"
          ]
        },
        {
          "output_type": "stream",
          "name": "stderr",
          "text": [
            "\u001b[2m\u001b[36m(pid=26119)\u001b[0m 2023-06-10 05:07:11.602035: W tensorflow/compiler/tf2tensorrt/utils/py_utils.cc:38] TF-TRT Warning: Could not find TensorRT\n"
          ]
        },
        {
          "output_type": "stream",
          "name": "stdout",
          "text": [
            "\u001b[2m\u001b[36m(launch_and_evaluate pid=26119)\u001b[0m [Client 7] evaluate, config: {}\n"
          ]
        },
        {
          "output_type": "stream",
          "name": "stderr",
          "text": [
            "\u001b[2m\u001b[36m(pid=26187)\u001b[0m 2023-06-10 05:07:18.106261: W tensorflow/compiler/tf2tensorrt/utils/py_utils.cc:38] TF-TRT Warning: Could not find TensorRT\n"
          ]
        },
        {
          "output_type": "stream",
          "name": "stdout",
          "text": [
            "\u001b[2m\u001b[36m(launch_and_evaluate pid=26187)\u001b[0m [Client 2] evaluate, config: {}\n"
          ]
        },
        {
          "output_type": "stream",
          "name": "stderr",
          "text": [
            "\u001b[2m\u001b[36m(pid=26256)\u001b[0m 2023-06-10 05:07:26.545250: W tensorflow/compiler/tf2tensorrt/utils/py_utils.cc:38] TF-TRT Warning: Could not find TensorRT\n"
          ]
        },
        {
          "output_type": "stream",
          "name": "stdout",
          "text": [
            "\u001b[2m\u001b[36m(launch_and_evaluate pid=26256)\u001b[0m [Client 4] evaluate, config: {}\n"
          ]
        },
        {
          "output_type": "stream",
          "name": "stderr",
          "text": [
            "DEBUG flwr 2023-06-10 05:07:30,644 | server.py:182 | evaluate_round 9 received 3 results and 0 failures\n",
            "DEBUG:flwr:evaluate_round 9 received 3 results and 0 failures\n",
            "DEBUG flwr 2023-06-10 05:07:30,649 | server.py:218 | fit_round 10: strategy sampled 3 clients (out of 10)\n",
            "DEBUG:flwr:fit_round 10: strategy sampled 3 clients (out of 10)\n",
            "\u001b[2m\u001b[36m(pid=26342)\u001b[0m 2023-06-10 05:07:39.644205: W tensorflow/compiler/tf2tensorrt/utils/py_utils.cc:38] TF-TRT Warning: Could not find TensorRT\n"
          ]
        },
        {
          "output_type": "stream",
          "name": "stdout",
          "text": [
            "\u001b[2m\u001b[36m(launch_and_fit pid=26342)\u001b[0m [Client 4, round 10] fit, config: {'server_round': 10, 'local_epochs': 2}\n",
            "\u001b[2m\u001b[36m(launch_and_fit pid=26342)\u001b[0m Epoch 1: train loss 0.05773772671818733, accuracy 0.2946666666666667\n",
            "\u001b[2m\u001b[36m(launch_and_fit pid=26342)\u001b[0m Epoch 2: train loss 0.05308053642511368, accuracy 0.34\n"
          ]
        },
        {
          "output_type": "stream",
          "name": "stderr",
          "text": [
            "\u001b[2m\u001b[36m(pid=26474)\u001b[0m 2023-06-10 05:07:59.811495: W tensorflow/compiler/tf2tensorrt/utils/py_utils.cc:38] TF-TRT Warning: Could not find TensorRT\n"
          ]
        },
        {
          "output_type": "stream",
          "name": "stdout",
          "text": [
            "\u001b[2m\u001b[36m(launch_and_fit pid=26474)\u001b[0m [Client 9, round 10] fit, config: {'server_round': 10, 'local_epochs': 2}\n",
            "\u001b[2m\u001b[36m(launch_and_fit pid=26474)\u001b[0m Epoch 1: train loss 0.05767253413796425, accuracy 0.31022222222222223\n",
            "\u001b[2m\u001b[36m(launch_and_fit pid=26474)\u001b[0m Epoch 2: train loss 0.05344020947813988, accuracy 0.3551111111111111\n"
          ]
        },
        {
          "output_type": "stream",
          "name": "stderr",
          "text": [
            "\u001b[2m\u001b[36m(pid=26592)\u001b[0m 2023-06-10 05:08:16.739277: W tensorflow/compiler/tf2tensorrt/utils/py_utils.cc:38] TF-TRT Warning: Could not find TensorRT\n"
          ]
        },
        {
          "output_type": "stream",
          "name": "stdout",
          "text": [
            "\u001b[2m\u001b[36m(launch_and_fit pid=26592)\u001b[0m [Client 6, round 10] fit, config: {'server_round': 10, 'local_epochs': 2}\n",
            "\u001b[2m\u001b[36m(launch_and_fit pid=26592)\u001b[0m Epoch 1: train loss 0.05883199721574783, accuracy 0.28444444444444444\n"
          ]
        },
        {
          "output_type": "stream",
          "name": "stderr",
          "text": [
            "DEBUG flwr 2023-06-10 05:08:31,836 | server.py:232 | fit_round 10 received 3 results and 0 failures\n",
            "DEBUG:flwr:fit_round 10 received 3 results and 0 failures\n"
          ]
        },
        {
          "output_type": "stream",
          "name": "stdout",
          "text": [
            "\u001b[2m\u001b[36m(launch_and_fit pid=26592)\u001b[0m Epoch 2: train loss 0.05417398363351822, accuracy 0.32822222222222225\n"
          ]
        },
        {
          "output_type": "stream",
          "name": "stderr",
          "text": [
            "INFO flwr 2023-06-10 05:08:36,939 | server.py:119 | fit progress: (10, 1.7392708598702088e+18, {'accuracy': 0.1}, 873.9356049550001)\n",
            "INFO:flwr:fit progress: (10, 1.7392708598702088e+18, {'accuracy': 0.1}, 873.9356049550001)\n",
            "DEBUG flwr 2023-06-10 05:08:36,942 | server.py:168 | evaluate_round 10: strategy sampled 3 clients (out of 10)\n",
            "DEBUG:flwr:evaluate_round 10: strategy sampled 3 clients (out of 10)\n"
          ]
        },
        {
          "output_type": "stream",
          "name": "stdout",
          "text": [
            "Server-side evaluation loss 1.7392708598702088e+18 / accuracy 0.1\n"
          ]
        },
        {
          "output_type": "stream",
          "name": "stderr",
          "text": [
            "\u001b[2m\u001b[36m(pid=26754)\u001b[0m 2023-06-10 05:08:45.653122: W tensorflow/compiler/tf2tensorrt/utils/py_utils.cc:38] TF-TRT Warning: Could not find TensorRT\n"
          ]
        },
        {
          "output_type": "stream",
          "name": "stdout",
          "text": [
            "\u001b[2m\u001b[36m(launch_and_evaluate pid=26754)\u001b[0m [Client 8] evaluate, config: {}\n"
          ]
        },
        {
          "output_type": "stream",
          "name": "stderr",
          "text": [
            "\u001b[2m\u001b[36m(pid=26829)\u001b[0m 2023-06-10 05:08:51.827368: W tensorflow/compiler/tf2tensorrt/utils/py_utils.cc:38] TF-TRT Warning: Could not find TensorRT\n"
          ]
        },
        {
          "output_type": "stream",
          "name": "stdout",
          "text": [
            "\u001b[2m\u001b[36m(launch_and_evaluate pid=26829)\u001b[0m [Client 4] evaluate, config: {}\n"
          ]
        },
        {
          "output_type": "stream",
          "name": "stderr",
          "text": [
            "\u001b[2m\u001b[36m(pid=26891)\u001b[0m 2023-06-10 05:08:59.949090: W tensorflow/compiler/tf2tensorrt/utils/py_utils.cc:38] TF-TRT Warning: Could not find TensorRT\n"
          ]
        },
        {
          "output_type": "stream",
          "name": "stdout",
          "text": [
            "\u001b[2m\u001b[36m(launch_and_evaluate pid=26891)\u001b[0m [Client 2] evaluate, config: {}\n"
          ]
        },
        {
          "output_type": "stream",
          "name": "stderr",
          "text": [
            "DEBUG flwr 2023-06-10 05:09:04,812 | server.py:182 | evaluate_round 10 received 3 results and 0 failures\n",
            "DEBUG:flwr:evaluate_round 10 received 3 results and 0 failures\n",
            "INFO flwr 2023-06-10 05:09:04,817 | server.py:147 | FL finished in 901.814400534\n",
            "INFO:flwr:FL finished in 901.814400534\n",
            "INFO flwr 2023-06-10 05:09:04,824 | app.py:218 | app_fit: losses_distributed [(1, 881257811891.5414), (2, 7.139457339709902e+18), (3, 1.2841175805899162e+18), (4, 4.4439478142326717e+18), (5, 2.520041685343316e+19), (6, 4.5572655408770335e+18), (7, 7.97924403428267e+17), (8, 2.6499453795261297e+18), (9, 7.693934957904874e+17), (10, 1.7723267181851548e+18)]\n",
            "INFO:flwr:app_fit: losses_distributed [(1, 881257811891.5414), (2, 7.139457339709902e+18), (3, 1.2841175805899162e+18), (4, 4.4439478142326717e+18), (5, 2.520041685343316e+19), (6, 4.5572655408770335e+18), (7, 7.97924403428267e+17), (8, 2.6499453795261297e+18), (9, 7.693934957904874e+17), (10, 1.7723267181851548e+18)]\n",
            "INFO flwr 2023-06-10 05:09:04,827 | app.py:219 | app_fit: metrics_distributed_fit {}\n",
            "INFO:flwr:app_fit: metrics_distributed_fit {}\n",
            "INFO flwr 2023-06-10 05:09:04,829 | app.py:220 | app_fit: metrics_distributed {'accuracy': [(1, 0.09599999999999999), (2, 0.09933333333333334), (3, 0.09533333333333334), (4, 0.09933333333333334), (5, 0.09333333333333334), (6, 0.104), (7, 0.11266666666666665), (8, 0.108), (9, 0.09800000000000002), (10, 0.10066666666666667)]}\n",
            "INFO:flwr:app_fit: metrics_distributed {'accuracy': [(1, 0.09599999999999999), (2, 0.09933333333333334), (3, 0.09533333333333334), (4, 0.09933333333333334), (5, 0.09333333333333334), (6, 0.104), (7, 0.11266666666666665), (8, 0.108), (9, 0.09800000000000002), (10, 0.10066666666666667)]}\n",
            "INFO flwr 2023-06-10 05:09:04,832 | app.py:221 | app_fit: losses_centralized [(0, 0.07208328914642334), (1, 850900035410.3296), (2, 6.957013839515187e+18), (3, 1.2970978006802445e+18), (4, 4.3267081366489073e+18), (5, 2.396767718768128e+19), (6, 4.6042211058921467e+18), (7, 7.973111271417245e+17), (8, 2.589837125833064e+18), (9, 7.649383196997402e+17), (10, 1.7392708598702088e+18)]\n",
            "INFO:flwr:app_fit: losses_centralized [(0, 0.07208328914642334), (1, 850900035410.3296), (2, 6.957013839515187e+18), (3, 1.2970978006802445e+18), (4, 4.3267081366489073e+18), (5, 2.396767718768128e+19), (6, 4.6042211058921467e+18), (7, 7.973111271417245e+17), (8, 2.589837125833064e+18), (9, 7.649383196997402e+17), (10, 1.7392708598702088e+18)]\n",
            "INFO flwr 2023-06-10 05:09:04,841 | app.py:222 | app_fit: metrics_centralized {'accuracy': [(0, 0.1), (1, 0.1), (2, 0.1), (3, 0.1), (4, 0.1), (5, 0.1), (6, 0.1), (7, 0.1), (8, 0.1), (9, 0.1), (10, 0.1)]}\n",
            "INFO:flwr:app_fit: metrics_centralized {'accuracy': [(0, 0.1), (1, 0.1), (2, 0.1), (3, 0.1), (4, 0.1), (5, 0.1), (6, 0.1), (7, 0.1), (8, 0.1), (9, 0.1), (10, 0.1)]}\n"
          ]
        }
      ]
    },
    {
      "cell_type": "markdown",
      "source": [
        "## q-FFL"
      ],
      "metadata": {
        "id": "BPOnWBHPjPtD"
      }
    },
    {
      "cell_type": "code",
      "source": [
        "net = Net().to(DEVICE)\n",
        "simulate_cifar(StrategyCls=fl.server.strategy.QFedAvg, strategyArgs=strategyConfig, net=net, num_rounds=10)"
      ],
      "metadata": {
        "colab": {
          "base_uri": "https://localhost:8080/"
        },
        "id": "Ig6o7Ybmjj5H",
        "outputId": "f5e5a43e-0774-4473-f75a-70649303dfb7"
      },
      "execution_count": 9,
      "outputs": [
        {
          "output_type": "stream",
          "name": "stdout",
          "text": [
            "Files already downloaded and verified\n",
            "Files already downloaded and verified\n"
          ]
        },
        {
          "output_type": "stream",
          "name": "stderr",
          "text": [
            "INFO flwr 2023-06-10 05:09:06,390 | app.py:146 | Starting Flower simulation, config: ServerConfig(num_rounds=10, round_timeout=None)\n",
            "INFO:flwr:Starting Flower simulation, config: ServerConfig(num_rounds=10, round_timeout=None)\n",
            "2023-06-10 05:09:13,847\tINFO worker.py:1636 -- Started a local Ray instance.\n",
            "INFO flwr 2023-06-10 05:09:15,827 | app.py:180 | Flower VCE: Ray initialized with resources: {'CPU': 2.0, 'memory': 7872452199.0, 'object_store_memory': 3936226099.0, 'node:172.28.0.12': 1.0, 'GPU': 1.0}\n",
            "INFO:flwr:Flower VCE: Ray initialized with resources: {'CPU': 2.0, 'memory': 7872452199.0, 'object_store_memory': 3936226099.0, 'node:172.28.0.12': 1.0, 'GPU': 1.0}\n",
            "INFO flwr 2023-06-10 05:09:15,845 | server.py:86 | Initializing global parameters\n",
            "INFO:flwr:Initializing global parameters\n",
            "INFO flwr 2023-06-10 05:09:15,848 | server.py:269 | Using initial parameters provided by strategy\n",
            "INFO:flwr:Using initial parameters provided by strategy\n",
            "INFO flwr 2023-06-10 05:09:15,854 | server.py:88 | Evaluating initial parameters\n",
            "INFO:flwr:Evaluating initial parameters\n",
            "INFO flwr 2023-06-10 05:09:19,691 | server.py:91 | initial parameters (loss, other metrics): 0.07215865316390992, {'accuracy': 0.0998}\n",
            "INFO:flwr:initial parameters (loss, other metrics): 0.07215865316390992, {'accuracy': 0.0998}\n",
            "INFO flwr 2023-06-10 05:09:19,696 | server.py:101 | FL starting\n",
            "INFO:flwr:FL starting\n",
            "DEBUG flwr 2023-06-10 05:09:19,704 | server.py:218 | fit_round 1: strategy sampled 3 clients (out of 10)\n",
            "DEBUG:flwr:fit_round 1: strategy sampled 3 clients (out of 10)\n"
          ]
        },
        {
          "output_type": "stream",
          "name": "stdout",
          "text": [
            "Server-side evaluation loss 0.07215865316390992 / accuracy 0.0998\n"
          ]
        },
        {
          "output_type": "stream",
          "name": "stderr",
          "text": [
            "\u001b[2m\u001b[36m(pid=27243)\u001b[0m 2023-06-10 05:09:25.180133: W tensorflow/compiler/tf2tensorrt/utils/py_utils.cc:38] TF-TRT Warning: Could not find TensorRT\n"
          ]
        },
        {
          "output_type": "stream",
          "name": "stdout",
          "text": [
            "\u001b[2m\u001b[36m(launch_and_fit pid=27243)\u001b[0m [Client 3, round 1] fit, config: {'server_round': 1, 'local_epochs': 1}\n",
            "\u001b[2m\u001b[36m(launch_and_fit pid=27243)\u001b[0m Epoch 1: train loss 0.06371299177408218, accuracy 0.22377777777777777\n"
          ]
        },
        {
          "output_type": "stream",
          "name": "stderr",
          "text": [
            "\u001b[2m\u001b[36m(pid=27312)\u001b[0m 2023-06-10 05:09:33.757551: W tensorflow/compiler/tf2tensorrt/utils/py_utils.cc:38] TF-TRT Warning: Could not find TensorRT\n"
          ]
        },
        {
          "output_type": "stream",
          "name": "stdout",
          "text": [
            "\u001b[2m\u001b[36m(launch_and_fit pid=27312)\u001b[0m [Client 0, round 1] fit, config: {'server_round': 1, 'local_epochs': 1}\n",
            "\u001b[2m\u001b[36m(launch_and_fit pid=27312)\u001b[0m Epoch 1: train loss 0.0639529675245285, accuracy 0.2391111111111111\n"
          ]
        },
        {
          "output_type": "stream",
          "name": "stderr",
          "text": [
            "\u001b[2m\u001b[36m(pid=27381)\u001b[0m 2023-06-10 05:09:40.633298: W tensorflow/compiler/tf2tensorrt/utils/py_utils.cc:38] TF-TRT Warning: Could not find TensorRT\n"
          ]
        },
        {
          "output_type": "stream",
          "name": "stdout",
          "text": [
            "\u001b[2m\u001b[36m(launch_and_fit pid=27381)\u001b[0m [Client 8, round 1] fit, config: {'server_round': 1, 'local_epochs': 1}\n"
          ]
        },
        {
          "output_type": "stream",
          "name": "stderr",
          "text": [
            "DEBUG flwr 2023-06-10 05:09:47,806 | server.py:232 | fit_round 1 received 3 results and 0 failures\n",
            "DEBUG:flwr:fit_round 1 received 3 results and 0 failures\n"
          ]
        },
        {
          "output_type": "stream",
          "name": "stdout",
          "text": [
            "\u001b[2m\u001b[36m(launch_and_fit pid=27381)\u001b[0m Epoch 1: train loss 0.06355078518390656, accuracy 0.24466666666666667\n"
          ]
        },
        {
          "output_type": "stream",
          "name": "stderr",
          "text": [
            "WARNING flwr 2023-06-10 05:09:50,933 | qfedavg.py:237 | No fit_metrics_aggregation_fn provided\n",
            "WARNING:flwr:No fit_metrics_aggregation_fn provided\n"
          ]
        },
        {
          "output_type": "stream",
          "name": "stdout",
          "text": [
            "Server-side evaluation loss 0.07215865316390992 / accuracy 0.0998\n"
          ]
        },
        {
          "output_type": "stream",
          "name": "stderr",
          "text": [
            "INFO flwr 2023-06-10 05:09:54,044 | server.py:119 | fit progress: (1, 0.07215644445419311, {'accuracy': 0.0998}, 34.34361759300009)\n",
            "INFO:flwr:fit progress: (1, 0.07215644445419311, {'accuracy': 0.0998}, 34.34361759300009)\n",
            "DEBUG flwr 2023-06-10 05:09:54,053 | server.py:168 | evaluate_round 1: strategy sampled 3 clients (out of 10)\n",
            "DEBUG:flwr:evaluate_round 1: strategy sampled 3 clients (out of 10)\n"
          ]
        },
        {
          "output_type": "stream",
          "name": "stdout",
          "text": [
            "Server-side evaluation loss 0.07215644445419311 / accuracy 0.0998\n"
          ]
        },
        {
          "output_type": "stream",
          "name": "stderr",
          "text": [
            "\u001b[2m\u001b[36m(pid=27508)\u001b[0m 2023-06-10 05:10:00.642420: W tensorflow/compiler/tf2tensorrt/utils/py_utils.cc:38] TF-TRT Warning: Could not find TensorRT\n"
          ]
        },
        {
          "output_type": "stream",
          "name": "stdout",
          "text": [
            "\u001b[2m\u001b[36m(launch_and_evaluate pid=27508)\u001b[0m [Client 1] evaluate, config: {}\n"
          ]
        },
        {
          "output_type": "stream",
          "name": "stderr",
          "text": [
            "\u001b[2m\u001b[36m(pid=27578)\u001b[0m 2023-06-10 05:10:07.418538: W tensorflow/compiler/tf2tensorrt/utils/py_utils.cc:38] TF-TRT Warning: Could not find TensorRT\n"
          ]
        },
        {
          "output_type": "stream",
          "name": "stdout",
          "text": [
            "\u001b[2m\u001b[36m(launch_and_evaluate pid=27578)\u001b[0m [Client 3] evaluate, config: {}\n"
          ]
        },
        {
          "output_type": "stream",
          "name": "stderr",
          "text": [
            "\u001b[2m\u001b[36m(pid=27638)\u001b[0m 2023-06-10 05:10:13.175981: W tensorflow/compiler/tf2tensorrt/utils/py_utils.cc:38] TF-TRT Warning: Could not find TensorRT\n"
          ]
        },
        {
          "output_type": "stream",
          "name": "stdout",
          "text": [
            "\u001b[2m\u001b[36m(launch_and_evaluate pid=27638)\u001b[0m [Client 9] evaluate, config: {}\n"
          ]
        },
        {
          "output_type": "stream",
          "name": "stderr",
          "text": [
            "DEBUG flwr 2023-06-10 05:10:19,265 | server.py:182 | evaluate_round 1 received 3 results and 0 failures\n",
            "DEBUG:flwr:evaluate_round 1 received 3 results and 0 failures\n",
            "DEBUG flwr 2023-06-10 05:10:19,272 | server.py:218 | fit_round 2: strategy sampled 3 clients (out of 10)\n",
            "DEBUG:flwr:fit_round 2: strategy sampled 3 clients (out of 10)\n",
            "\u001b[2m\u001b[36m(pid=27727)\u001b[0m 2023-06-10 05:10:24.685267: W tensorflow/compiler/tf2tensorrt/utils/py_utils.cc:38] TF-TRT Warning: Could not find TensorRT\n"
          ]
        },
        {
          "output_type": "stream",
          "name": "stdout",
          "text": [
            "\u001b[2m\u001b[36m(launch_and_fit pid=27727)\u001b[0m [Client 9, round 2] fit, config: {'server_round': 2, 'local_epochs': 2}\n",
            "\u001b[2m\u001b[36m(launch_and_fit pid=27727)\u001b[0m Epoch 1: train loss 0.06380545347929001, accuracy 0.24844444444444444\n",
            "\u001b[2m\u001b[36m(launch_and_fit pid=27727)\u001b[0m Epoch 2: train loss 0.05485955625772476, accuracy 0.35755555555555557\n"
          ]
        },
        {
          "output_type": "stream",
          "name": "stderr",
          "text": [
            "\u001b[2m\u001b[36m(pid=27808)\u001b[0m 2023-06-10 05:10:38.088362: W tensorflow/compiler/tf2tensorrt/utils/py_utils.cc:38] TF-TRT Warning: Could not find TensorRT\n"
          ]
        },
        {
          "output_type": "stream",
          "name": "stdout",
          "text": [
            "\u001b[2m\u001b[36m(launch_and_fit pid=27808)\u001b[0m [Client 4, round 2] fit, config: {'server_round': 2, 'local_epochs': 2}\n",
            "\u001b[2m\u001b[36m(launch_and_fit pid=27808)\u001b[0m Epoch 1: train loss 0.06354459375143051, accuracy 0.24155555555555555\n",
            "\u001b[2m\u001b[36m(launch_and_fit pid=27808)\u001b[0m Epoch 2: train loss 0.05514758825302124, accuracy 0.3486666666666667\n"
          ]
        },
        {
          "output_type": "stream",
          "name": "stderr",
          "text": [
            "\u001b[2m\u001b[36m(pid=27898)\u001b[0m 2023-06-10 05:10:47.023671: W tensorflow/compiler/tf2tensorrt/utils/py_utils.cc:38] TF-TRT Warning: Could not find TensorRT\n"
          ]
        },
        {
          "output_type": "stream",
          "name": "stdout",
          "text": [
            "\u001b[2m\u001b[36m(launch_and_fit pid=27898)\u001b[0m [Client 7, round 2] fit, config: {'server_round': 2, 'local_epochs': 2}\n",
            "\u001b[2m\u001b[36m(launch_and_fit pid=27898)\u001b[0m Epoch 1: train loss 0.06401348859071732, accuracy 0.232\n"
          ]
        },
        {
          "output_type": "stream",
          "name": "stderr",
          "text": [
            "DEBUG flwr 2023-06-10 05:10:55,967 | server.py:232 | fit_round 2 received 3 results and 0 failures\n",
            "DEBUG:flwr:fit_round 2 received 3 results and 0 failures\n"
          ]
        },
        {
          "output_type": "stream",
          "name": "stdout",
          "text": [
            "\u001b[2m\u001b[36m(launch_and_fit pid=27898)\u001b[0m Epoch 2: train loss 0.054953865706920624, accuracy 0.3566666666666667\n",
            "Server-side evaluation loss 0.07215644445419311 / accuracy 0.0998\n"
          ]
        },
        {
          "output_type": "stream",
          "name": "stderr",
          "text": [
            "INFO flwr 2023-06-10 05:11:02,166 | server.py:119 | fit progress: (2, 0.07215513553619385, {'accuracy': 0.0998}, 102.46575485700032)\n",
            "INFO:flwr:fit progress: (2, 0.07215513553619385, {'accuracy': 0.0998}, 102.46575485700032)\n",
            "DEBUG flwr 2023-06-10 05:11:02,169 | server.py:168 | evaluate_round 2: strategy sampled 3 clients (out of 10)\n",
            "DEBUG:flwr:evaluate_round 2: strategy sampled 3 clients (out of 10)\n"
          ]
        },
        {
          "output_type": "stream",
          "name": "stdout",
          "text": [
            "Server-side evaluation loss 0.07215513553619385 / accuracy 0.0998\n"
          ]
        },
        {
          "output_type": "stream",
          "name": "stderr",
          "text": [
            "\u001b[2m\u001b[36m(pid=28043)\u001b[0m 2023-06-10 05:11:09.990841: W tensorflow/compiler/tf2tensorrt/utils/py_utils.cc:38] TF-TRT Warning: Could not find TensorRT\n"
          ]
        },
        {
          "output_type": "stream",
          "name": "stdout",
          "text": [
            "\u001b[2m\u001b[36m(launch_and_evaluate pid=28043)\u001b[0m [Client 6] evaluate, config: {}\n"
          ]
        },
        {
          "output_type": "stream",
          "name": "stderr",
          "text": [
            "\u001b[2m\u001b[36m(pid=28105)\u001b[0m 2023-06-10 05:11:15.795931: W tensorflow/compiler/tf2tensorrt/utils/py_utils.cc:38] TF-TRT Warning: Could not find TensorRT\n"
          ]
        },
        {
          "output_type": "stream",
          "name": "stdout",
          "text": [
            "\u001b[2m\u001b[36m(launch_and_evaluate pid=28105)\u001b[0m [Client 1] evaluate, config: {}\n"
          ]
        },
        {
          "output_type": "stream",
          "name": "stderr",
          "text": [
            "\u001b[2m\u001b[36m(pid=28169)\u001b[0m 2023-06-10 05:11:23.790647: W tensorflow/compiler/tf2tensorrt/utils/py_utils.cc:38] TF-TRT Warning: Could not find TensorRT\n"
          ]
        },
        {
          "output_type": "stream",
          "name": "stdout",
          "text": [
            "\u001b[2m\u001b[36m(launch_and_evaluate pid=28169)\u001b[0m [Client 9] evaluate, config: {}\n"
          ]
        },
        {
          "output_type": "stream",
          "name": "stderr",
          "text": [
            "DEBUG flwr 2023-06-10 05:11:27,686 | server.py:182 | evaluate_round 2 received 3 results and 0 failures\n",
            "DEBUG:flwr:evaluate_round 2 received 3 results and 0 failures\n",
            "DEBUG flwr 2023-06-10 05:11:27,695 | server.py:218 | fit_round 3: strategy sampled 3 clients (out of 10)\n",
            "DEBUG:flwr:fit_round 3: strategy sampled 3 clients (out of 10)\n",
            "\u001b[2m\u001b[36m(pid=28255)\u001b[0m 2023-06-10 05:11:33.161066: W tensorflow/compiler/tf2tensorrt/utils/py_utils.cc:38] TF-TRT Warning: Could not find TensorRT\n"
          ]
        },
        {
          "output_type": "stream",
          "name": "stdout",
          "text": [
            "\u001b[2m\u001b[36m(launch_and_fit pid=28255)\u001b[0m [Client 9, round 3] fit, config: {'server_round': 3, 'local_epochs': 2}\n",
            "\u001b[2m\u001b[36m(launch_and_fit pid=28255)\u001b[0m Epoch 1: train loss 0.06423261761665344, accuracy 0.24\n",
            "\u001b[2m\u001b[36m(launch_and_fit pid=28255)\u001b[0m Epoch 2: train loss 0.055310528725385666, accuracy 0.3473333333333333\n"
          ]
        },
        {
          "output_type": "stream",
          "name": "stderr",
          "text": [
            "\u001b[2m\u001b[36m(pid=28340)\u001b[0m 2023-06-10 05:11:43.819783: W tensorflow/compiler/tf2tensorrt/utils/py_utils.cc:38] TF-TRT Warning: Could not find TensorRT\n"
          ]
        },
        {
          "output_type": "stream",
          "name": "stdout",
          "text": [
            "\u001b[2m\u001b[36m(launch_and_fit pid=28340)\u001b[0m [Client 3, round 3] fit, config: {'server_round': 3, 'local_epochs': 2}\n",
            "\u001b[2m\u001b[36m(launch_and_fit pid=28340)\u001b[0m Epoch 1: train loss 0.06378276646137238, accuracy 0.24022222222222223\n",
            "\u001b[2m\u001b[36m(launch_and_fit pid=28340)\u001b[0m Epoch 2: train loss 0.05494121089577675, accuracy 0.34555555555555556\n"
          ]
        },
        {
          "output_type": "stream",
          "name": "stderr",
          "text": [
            "\u001b[2m\u001b[36m(pid=28420)\u001b[0m 2023-06-10 05:11:55.074754: W tensorflow/compiler/tf2tensorrt/utils/py_utils.cc:38] TF-TRT Warning: Could not find TensorRT\n"
          ]
        },
        {
          "output_type": "stream",
          "name": "stdout",
          "text": [
            "\u001b[2m\u001b[36m(launch_and_fit pid=28420)\u001b[0m [Client 0, round 3] fit, config: {'server_round': 3, 'local_epochs': 2}\n",
            "\u001b[2m\u001b[36m(launch_and_fit pid=28420)\u001b[0m Epoch 1: train loss 0.06335272639989853, accuracy 0.25222222222222224\n"
          ]
        },
        {
          "output_type": "stream",
          "name": "stderr",
          "text": [
            "DEBUG flwr 2023-06-10 05:12:02,012 | server.py:232 | fit_round 3 received 3 results and 0 failures\n",
            "DEBUG:flwr:fit_round 3 received 3 results and 0 failures\n"
          ]
        },
        {
          "output_type": "stream",
          "name": "stdout",
          "text": [
            "\u001b[2m\u001b[36m(launch_and_fit pid=28420)\u001b[0m Epoch 2: train loss 0.054024942219257355, accuracy 0.3622222222222222\n",
            "Server-side evaluation loss 0.07215513553619385 / accuracy 0.0998\n"
          ]
        },
        {
          "output_type": "stream",
          "name": "stderr",
          "text": [
            "INFO flwr 2023-06-10 05:12:09,599 | server.py:119 | fit progress: (3, 0.07215400507450104, {'accuracy': 0.0998}, 169.89858396099999)\n",
            "INFO:flwr:fit progress: (3, 0.07215400507450104, {'accuracy': 0.0998}, 169.89858396099999)\n",
            "DEBUG flwr 2023-06-10 05:12:09,605 | server.py:168 | evaluate_round 3: strategy sampled 3 clients (out of 10)\n",
            "DEBUG:flwr:evaluate_round 3: strategy sampled 3 clients (out of 10)\n"
          ]
        },
        {
          "output_type": "stream",
          "name": "stdout",
          "text": [
            "Server-side evaluation loss 0.07215400507450104 / accuracy 0.0998\n"
          ]
        },
        {
          "output_type": "stream",
          "name": "stderr",
          "text": [
            "\u001b[2m\u001b[36m(pid=28559)\u001b[0m 2023-06-10 05:12:15.462620: W tensorflow/compiler/tf2tensorrt/utils/py_utils.cc:38] TF-TRT Warning: Could not find TensorRT\n"
          ]
        },
        {
          "output_type": "stream",
          "name": "stdout",
          "text": [
            "\u001b[2m\u001b[36m(launch_and_evaluate pid=28559)\u001b[0m [Client 5] evaluate, config: {}\n"
          ]
        },
        {
          "output_type": "stream",
          "name": "stderr",
          "text": [
            "\u001b[2m\u001b[36m(pid=28621)\u001b[0m 2023-06-10 05:12:22.546566: W tensorflow/compiler/tf2tensorrt/utils/py_utils.cc:38] TF-TRT Warning: Could not find TensorRT\n"
          ]
        },
        {
          "output_type": "stream",
          "name": "stdout",
          "text": [
            "\u001b[2m\u001b[36m(launch_and_evaluate pid=28621)\u001b[0m [Client 2] evaluate, config: {}\n"
          ]
        },
        {
          "output_type": "stream",
          "name": "stderr",
          "text": [
            "\u001b[2m\u001b[36m(pid=28692)\u001b[0m 2023-06-10 05:12:29.542974: W tensorflow/compiler/tf2tensorrt/utils/py_utils.cc:38] TF-TRT Warning: Could not find TensorRT\n"
          ]
        },
        {
          "output_type": "stream",
          "name": "stdout",
          "text": [
            "\u001b[2m\u001b[36m(launch_and_evaluate pid=28692)\u001b[0m [Client 8] evaluate, config: {}\n"
          ]
        },
        {
          "output_type": "stream",
          "name": "stderr",
          "text": [
            "DEBUG flwr 2023-06-10 05:12:33,464 | server.py:182 | evaluate_round 3 received 3 results and 0 failures\n",
            "DEBUG:flwr:evaluate_round 3 received 3 results and 0 failures\n",
            "DEBUG flwr 2023-06-10 05:12:33,474 | server.py:218 | fit_round 4: strategy sampled 3 clients (out of 10)\n",
            "DEBUG:flwr:fit_round 4: strategy sampled 3 clients (out of 10)\n",
            "\u001b[2m\u001b[36m(pid=28778)\u001b[0m 2023-06-10 05:12:41.604673: W tensorflow/compiler/tf2tensorrt/utils/py_utils.cc:38] TF-TRT Warning: Could not find TensorRT\n"
          ]
        },
        {
          "output_type": "stream",
          "name": "stdout",
          "text": [
            "\u001b[2m\u001b[36m(launch_and_fit pid=28778)\u001b[0m [Client 2, round 4] fit, config: {'server_round': 4, 'local_epochs': 2}\n",
            "\u001b[2m\u001b[36m(launch_and_fit pid=28778)\u001b[0m Epoch 1: train loss 0.0645947977900505, accuracy 0.23177777777777778\n",
            "\u001b[2m\u001b[36m(launch_and_fit pid=28778)\u001b[0m Epoch 2: train loss 0.05561809241771698, accuracy 0.3448888888888889\n"
          ]
        },
        {
          "output_type": "stream",
          "name": "stderr",
          "text": [
            "\u001b[2m\u001b[36m(pid=28859)\u001b[0m 2023-06-10 05:12:50.260777: W tensorflow/compiler/tf2tensorrt/utils/py_utils.cc:38] TF-TRT Warning: Could not find TensorRT\n"
          ]
        },
        {
          "output_type": "stream",
          "name": "stdout",
          "text": [
            "\u001b[2m\u001b[36m(launch_and_fit pid=28859)\u001b[0m [Client 3, round 4] fit, config: {'server_round': 4, 'local_epochs': 2}\n",
            "\u001b[2m\u001b[36m(launch_and_fit pid=28859)\u001b[0m Epoch 1: train loss 0.06497134268283844, accuracy 0.23177777777777778\n",
            "\u001b[2m\u001b[36m(launch_and_fit pid=28859)\u001b[0m Epoch 2: train loss 0.055473361164331436, accuracy 0.3446666666666667\n"
          ]
        },
        {
          "output_type": "stream",
          "name": "stderr",
          "text": [
            "\u001b[2m\u001b[36m(pid=28947)\u001b[0m 2023-06-10 05:13:01.075548: W tensorflow/compiler/tf2tensorrt/utils/py_utils.cc:38] TF-TRT Warning: Could not find TensorRT\n"
          ]
        },
        {
          "output_type": "stream",
          "name": "stdout",
          "text": [
            "\u001b[2m\u001b[36m(launch_and_fit pid=28947)\u001b[0m [Client 5, round 4] fit, config: {'server_round': 4, 'local_epochs': 2}\n",
            "\u001b[2m\u001b[36m(launch_and_fit pid=28947)\u001b[0m Epoch 1: train loss 0.06424539536237717, accuracy 0.246\n"
          ]
        },
        {
          "output_type": "stream",
          "name": "stderr",
          "text": [
            "DEBUG flwr 2023-06-10 05:13:08,702 | server.py:232 | fit_round 4 received 3 results and 0 failures\n",
            "DEBUG:flwr:fit_round 4 received 3 results and 0 failures\n"
          ]
        },
        {
          "output_type": "stream",
          "name": "stdout",
          "text": [
            "\u001b[2m\u001b[36m(launch_and_fit pid=28947)\u001b[0m Epoch 2: train loss 0.056116003543138504, accuracy 0.33955555555555555\n",
            "Server-side evaluation loss 0.07215400507450104 / accuracy 0.0998\n"
          ]
        },
        {
          "output_type": "stream",
          "name": "stderr",
          "text": [
            "INFO flwr 2023-06-10 05:13:16,169 | server.py:119 | fit progress: (4, 0.07215272889137268, {'accuracy': 0.0998}, 236.46850834199995)\n",
            "INFO:flwr:fit progress: (4, 0.07215272889137268, {'accuracy': 0.0998}, 236.46850834199995)\n",
            "DEBUG flwr 2023-06-10 05:13:16,174 | server.py:168 | evaluate_round 4: strategy sampled 3 clients (out of 10)\n",
            "DEBUG:flwr:evaluate_round 4: strategy sampled 3 clients (out of 10)\n"
          ]
        },
        {
          "output_type": "stream",
          "name": "stdout",
          "text": [
            "Server-side evaluation loss 0.07215272889137268 / accuracy 0.0998\n"
          ]
        },
        {
          "output_type": "stream",
          "name": "stderr",
          "text": [
            "\u001b[2m\u001b[36m(pid=29077)\u001b[0m 2023-06-10 05:13:21.718236: W tensorflow/compiler/tf2tensorrt/utils/py_utils.cc:38] TF-TRT Warning: Could not find TensorRT\n"
          ]
        },
        {
          "output_type": "stream",
          "name": "stdout",
          "text": [
            "\u001b[2m\u001b[36m(launch_and_evaluate pid=29077)\u001b[0m [Client 6] evaluate, config: {}\n"
          ]
        },
        {
          "output_type": "stream",
          "name": "stderr",
          "text": [
            "\u001b[2m\u001b[36m(pid=29154)\u001b[0m 2023-06-10 05:13:32.595160: W tensorflow/compiler/tf2tensorrt/utils/py_utils.cc:38] TF-TRT Warning: Could not find TensorRT\n"
          ]
        },
        {
          "output_type": "stream",
          "name": "stdout",
          "text": [
            "\u001b[2m\u001b[36m(launch_and_evaluate pid=29154)\u001b[0m [Client 9] evaluate, config: {}\n"
          ]
        },
        {
          "output_type": "stream",
          "name": "stderr",
          "text": [
            "\u001b[2m\u001b[36m(pid=29224)\u001b[0m 2023-06-10 05:13:38.288944: W tensorflow/compiler/tf2tensorrt/utils/py_utils.cc:38] TF-TRT Warning: Could not find TensorRT\n"
          ]
        },
        {
          "output_type": "stream",
          "name": "stdout",
          "text": [
            "\u001b[2m\u001b[36m(launch_and_evaluate pid=29224)\u001b[0m [Client 3] evaluate, config: {}\n"
          ]
        },
        {
          "output_type": "stream",
          "name": "stderr",
          "text": [
            "DEBUG flwr 2023-06-10 05:13:43,824 | server.py:182 | evaluate_round 4 received 3 results and 0 failures\n",
            "DEBUG:flwr:evaluate_round 4 received 3 results and 0 failures\n",
            "DEBUG flwr 2023-06-10 05:13:43,831 | server.py:218 | fit_round 5: strategy sampled 3 clients (out of 10)\n",
            "DEBUG:flwr:fit_round 5: strategy sampled 3 clients (out of 10)\n",
            "\u001b[2m\u001b[36m(pid=29311)\u001b[0m 2023-06-10 05:13:49.665991: W tensorflow/compiler/tf2tensorrt/utils/py_utils.cc:38] TF-TRT Warning: Could not find TensorRT\n"
          ]
        },
        {
          "output_type": "stream",
          "name": "stdout",
          "text": [
            "\u001b[2m\u001b[36m(launch_and_fit pid=29311)\u001b[0m [Client 4, round 5] fit, config: {'server_round': 5, 'local_epochs': 2}\n",
            "\u001b[2m\u001b[36m(launch_and_fit pid=29311)\u001b[0m Epoch 1: train loss 0.06369325518608093, accuracy 0.232\n",
            "\u001b[2m\u001b[36m(launch_and_fit pid=29311)\u001b[0m Epoch 2: train loss 0.05464876815676689, accuracy 0.35644444444444445\n"
          ]
        },
        {
          "output_type": "stream",
          "name": "stderr",
          "text": [
            "\u001b[2m\u001b[36m(pid=29394)\u001b[0m 2023-06-10 05:14:00.870238: W tensorflow/compiler/tf2tensorrt/utils/py_utils.cc:38] TF-TRT Warning: Could not find TensorRT\n"
          ]
        },
        {
          "output_type": "stream",
          "name": "stdout",
          "text": [
            "\u001b[2m\u001b[36m(launch_and_fit pid=29394)\u001b[0m [Client 5, round 5] fit, config: {'server_round': 5, 'local_epochs': 2}\n",
            "\u001b[2m\u001b[36m(launch_and_fit pid=29394)\u001b[0m Epoch 1: train loss 0.06393816322088242, accuracy 0.24444444444444444\n",
            "\u001b[2m\u001b[36m(launch_and_fit pid=29394)\u001b[0m Epoch 2: train loss 0.05581036955118179, accuracy 0.3486666666666667\n"
          ]
        },
        {
          "output_type": "stream",
          "name": "stderr",
          "text": [
            "\u001b[2m\u001b[36m(pid=29476)\u001b[0m 2023-06-10 05:14:09.719267: W tensorflow/compiler/tf2tensorrt/utils/py_utils.cc:38] TF-TRT Warning: Could not find TensorRT\n"
          ]
        },
        {
          "output_type": "stream",
          "name": "stdout",
          "text": [
            "\u001b[2m\u001b[36m(launch_and_fit pid=29476)\u001b[0m [Client 0, round 5] fit, config: {'server_round': 5, 'local_epochs': 2}\n",
            "\u001b[2m\u001b[36m(launch_and_fit pid=29476)\u001b[0m Epoch 1: train loss 0.06393127143383026, accuracy 0.242\n"
          ]
        },
        {
          "output_type": "stream",
          "name": "stderr",
          "text": [
            "DEBUG flwr 2023-06-10 05:14:18,828 | server.py:232 | fit_round 5 received 3 results and 0 failures\n",
            "DEBUG:flwr:fit_round 5 received 3 results and 0 failures\n"
          ]
        },
        {
          "output_type": "stream",
          "name": "stdout",
          "text": [
            "\u001b[2m\u001b[36m(launch_and_fit pid=29476)\u001b[0m Epoch 2: train loss 0.05497525632381439, accuracy 0.35533333333333333\n",
            "Server-side evaluation loss 0.07215272889137268 / accuracy 0.0998\n"
          ]
        },
        {
          "output_type": "stream",
          "name": "stderr",
          "text": [
            "INFO flwr 2023-06-10 05:14:25,060 | server.py:119 | fit progress: (5, 0.07215151274204254, {'accuracy': 0.0998}, 305.35959256700016)\n",
            "INFO:flwr:fit progress: (5, 0.07215151274204254, {'accuracy': 0.0998}, 305.35959256700016)\n",
            "DEBUG flwr 2023-06-10 05:14:25,066 | server.py:168 | evaluate_round 5: strategy sampled 3 clients (out of 10)\n",
            "DEBUG:flwr:evaluate_round 5: strategy sampled 3 clients (out of 10)\n"
          ]
        },
        {
          "output_type": "stream",
          "name": "stdout",
          "text": [
            "Server-side evaluation loss 0.07215151274204254 / accuracy 0.0998\n"
          ]
        },
        {
          "output_type": "stream",
          "name": "stderr",
          "text": [
            "\u001b[2m\u001b[36m(pid=29620)\u001b[0m 2023-06-10 05:14:33.086305: W tensorflow/compiler/tf2tensorrt/utils/py_utils.cc:38] TF-TRT Warning: Could not find TensorRT\n"
          ]
        },
        {
          "output_type": "stream",
          "name": "stdout",
          "text": [
            "\u001b[2m\u001b[36m(launch_and_evaluate pid=29620)\u001b[0m [Client 7] evaluate, config: {}\n"
          ]
        },
        {
          "output_type": "stream",
          "name": "stderr",
          "text": [
            "\u001b[2m\u001b[36m(pid=29680)\u001b[0m 2023-06-10 05:14:38.877721: W tensorflow/compiler/tf2tensorrt/utils/py_utils.cc:38] TF-TRT Warning: Could not find TensorRT\n"
          ]
        },
        {
          "output_type": "stream",
          "name": "stdout",
          "text": [
            "\u001b[2m\u001b[36m(launch_and_evaluate pid=29680)\u001b[0m [Client 1] evaluate, config: {}\n"
          ]
        },
        {
          "output_type": "stream",
          "name": "stderr",
          "text": [
            "\u001b[2m\u001b[36m(pid=29748)\u001b[0m 2023-06-10 05:14:46.971245: W tensorflow/compiler/tf2tensorrt/utils/py_utils.cc:38] TF-TRT Warning: Could not find TensorRT\n"
          ]
        },
        {
          "output_type": "stream",
          "name": "stdout",
          "text": [
            "\u001b[2m\u001b[36m(launch_and_evaluate pid=29748)\u001b[0m [Client 0] evaluate, config: {}\n"
          ]
        },
        {
          "output_type": "stream",
          "name": "stderr",
          "text": [
            "DEBUG flwr 2023-06-10 05:14:50,676 | server.py:182 | evaluate_round 5 received 3 results and 0 failures\n",
            "DEBUG:flwr:evaluate_round 5 received 3 results and 0 failures\n",
            "DEBUG flwr 2023-06-10 05:14:50,686 | server.py:218 | fit_round 6: strategy sampled 3 clients (out of 10)\n",
            "DEBUG:flwr:fit_round 6: strategy sampled 3 clients (out of 10)\n",
            "\u001b[2m\u001b[36m(pid=29832)\u001b[0m 2023-06-10 05:14:56.223803: W tensorflow/compiler/tf2tensorrt/utils/py_utils.cc:38] TF-TRT Warning: Could not find TensorRT\n"
          ]
        },
        {
          "output_type": "stream",
          "name": "stdout",
          "text": [
            "\u001b[2m\u001b[36m(launch_and_fit pid=29832)\u001b[0m [Client 3, round 6] fit, config: {'server_round': 6, 'local_epochs': 2}\n",
            "\u001b[2m\u001b[36m(launch_and_fit pid=29832)\u001b[0m Epoch 1: train loss 0.064089834690094, accuracy 0.212\n",
            "\u001b[2m\u001b[36m(launch_and_fit pid=29832)\u001b[0m Epoch 2: train loss 0.05476140230894089, accuracy 0.3411111111111111\n"
          ]
        },
        {
          "output_type": "stream",
          "name": "stderr",
          "text": [
            "\u001b[2m\u001b[36m(pid=29918)\u001b[0m 2023-06-10 05:15:07.336999: W tensorflow/compiler/tf2tensorrt/utils/py_utils.cc:38] TF-TRT Warning: Could not find TensorRT\n"
          ]
        },
        {
          "output_type": "stream",
          "name": "stdout",
          "text": [
            "\u001b[2m\u001b[36m(launch_and_fit pid=29918)\u001b[0m [Client 5, round 6] fit, config: {'server_round': 6, 'local_epochs': 2}\n",
            "\u001b[2m\u001b[36m(launch_and_fit pid=29918)\u001b[0m Epoch 1: train loss 0.06466423720121384, accuracy 0.24866666666666667\n",
            "\u001b[2m\u001b[36m(launch_and_fit pid=29918)\u001b[0m Epoch 2: train loss 0.056678541004657745, accuracy 0.32866666666666666\n"
          ]
        },
        {
          "output_type": "stream",
          "name": "stderr",
          "text": [
            "\u001b[2m\u001b[36m(pid=30001)\u001b[0m 2023-06-10 05:15:18.167513: W tensorflow/compiler/tf2tensorrt/utils/py_utils.cc:38] TF-TRT Warning: Could not find TensorRT\n"
          ]
        },
        {
          "output_type": "stream",
          "name": "stdout",
          "text": [
            "\u001b[2m\u001b[36m(launch_and_fit pid=30001)\u001b[0m [Client 6, round 6] fit, config: {'server_round': 6, 'local_epochs': 2}\n",
            "\u001b[2m\u001b[36m(launch_and_fit pid=30001)\u001b[0m Epoch 1: train loss 0.06403741240501404, accuracy 0.2411111111111111\n"
          ]
        },
        {
          "output_type": "stream",
          "name": "stderr",
          "text": [
            "DEBUG flwr 2023-06-10 05:15:25,113 | server.py:232 | fit_round 6 received 3 results and 0 failures\n",
            "DEBUG:flwr:fit_round 6 received 3 results and 0 failures\n"
          ]
        },
        {
          "output_type": "stream",
          "name": "stdout",
          "text": [
            "\u001b[2m\u001b[36m(launch_and_fit pid=30001)\u001b[0m Epoch 2: train loss 0.056036002933979034, accuracy 0.33244444444444443\n",
            "Server-side evaluation loss 0.07215151274204254 / accuracy 0.0998\n"
          ]
        },
        {
          "output_type": "stream",
          "name": "stderr",
          "text": [
            "INFO flwr 2023-06-10 05:15:33,345 | server.py:119 | fit progress: (6, 0.07215018112659455, {'accuracy': 0.0998}, 373.64500512500035)\n",
            "INFO:flwr:fit progress: (6, 0.07215018112659455, {'accuracy': 0.0998}, 373.64500512500035)\n",
            "DEBUG flwr 2023-06-10 05:15:33,350 | server.py:168 | evaluate_round 6: strategy sampled 3 clients (out of 10)\n",
            "DEBUG:flwr:evaluate_round 6: strategy sampled 3 clients (out of 10)\n"
          ]
        },
        {
          "output_type": "stream",
          "name": "stdout",
          "text": [
            "Server-side evaluation loss 0.07215018112659455 / accuracy 0.0998\n"
          ]
        },
        {
          "output_type": "stream",
          "name": "stderr",
          "text": [
            "\u001b[2m\u001b[36m(pid=30140)\u001b[0m 2023-06-10 05:15:38.727428: W tensorflow/compiler/tf2tensorrt/utils/py_utils.cc:38] TF-TRT Warning: Could not find TensorRT\n"
          ]
        },
        {
          "output_type": "stream",
          "name": "stdout",
          "text": [
            "\u001b[2m\u001b[36m(launch_and_evaluate pid=30140)\u001b[0m [Client 0] evaluate, config: {}\n"
          ]
        },
        {
          "output_type": "stream",
          "name": "stderr",
          "text": [
            "\u001b[2m\u001b[36m(pid=30199)\u001b[0m 2023-06-10 05:15:46.438178: W tensorflow/compiler/tf2tensorrt/utils/py_utils.cc:38] TF-TRT Warning: Could not find TensorRT\n"
          ]
        },
        {
          "output_type": "stream",
          "name": "stdout",
          "text": [
            "\u001b[2m\u001b[36m(launch_and_evaluate pid=30199)\u001b[0m [Client 9] evaluate, config: {}\n"
          ]
        },
        {
          "output_type": "stream",
          "name": "stderr",
          "text": [
            "\u001b[2m\u001b[36m(pid=30267)\u001b[0m 2023-06-10 05:15:52.914818: W tensorflow/compiler/tf2tensorrt/utils/py_utils.cc:38] TF-TRT Warning: Could not find TensorRT\n"
          ]
        },
        {
          "output_type": "stream",
          "name": "stdout",
          "text": [
            "\u001b[2m\u001b[36m(launch_and_evaluate pid=30267)\u001b[0m [Client 2] evaluate, config: {}\n"
          ]
        },
        {
          "output_type": "stream",
          "name": "stderr",
          "text": [
            "DEBUG flwr 2023-06-10 05:15:56,799 | server.py:182 | evaluate_round 6 received 3 results and 0 failures\n",
            "DEBUG:flwr:evaluate_round 6 received 3 results and 0 failures\n",
            "DEBUG flwr 2023-06-10 05:15:56,806 | server.py:218 | fit_round 7: strategy sampled 3 clients (out of 10)\n",
            "DEBUG:flwr:fit_round 7: strategy sampled 3 clients (out of 10)\n",
            "\u001b[2m\u001b[36m(pid=30359)\u001b[0m 2023-06-10 05:16:04.840914: W tensorflow/compiler/tf2tensorrt/utils/py_utils.cc:38] TF-TRT Warning: Could not find TensorRT\n"
          ]
        },
        {
          "output_type": "stream",
          "name": "stdout",
          "text": [
            "\u001b[2m\u001b[36m(launch_and_fit pid=30359)\u001b[0m [Client 7, round 7] fit, config: {'server_round': 7, 'local_epochs': 2}\n",
            "\u001b[2m\u001b[36m(launch_and_fit pid=30359)\u001b[0m Epoch 1: train loss 0.06353896856307983, accuracy 0.2451111111111111\n",
            "\u001b[2m\u001b[36m(launch_and_fit pid=30359)\u001b[0m Epoch 2: train loss 0.05467832460999489, accuracy 0.3471111111111111\n"
          ]
        },
        {
          "output_type": "stream",
          "name": "stderr",
          "text": [
            "\u001b[2m\u001b[36m(pid=30436)\u001b[0m 2023-06-10 05:16:13.604769: W tensorflow/compiler/tf2tensorrt/utils/py_utils.cc:38] TF-TRT Warning: Could not find TensorRT\n"
          ]
        },
        {
          "output_type": "stream",
          "name": "stdout",
          "text": [
            "\u001b[2m\u001b[36m(launch_and_fit pid=30436)\u001b[0m [Client 8, round 7] fit, config: {'server_round': 7, 'local_epochs': 2}\n",
            "\u001b[2m\u001b[36m(launch_and_fit pid=30436)\u001b[0m Epoch 1: train loss 0.06366313993930817, accuracy 0.258\n",
            "\u001b[2m\u001b[36m(launch_and_fit pid=30436)\u001b[0m Epoch 2: train loss 0.05527660995721817, accuracy 0.3497777777777778\n"
          ]
        },
        {
          "output_type": "stream",
          "name": "stderr",
          "text": [
            "\u001b[2m\u001b[36m(pid=30539)\u001b[0m 2023-06-10 05:16:27.472535: W tensorflow/compiler/tf2tensorrt/utils/py_utils.cc:38] TF-TRT Warning: Could not find TensorRT\n"
          ]
        },
        {
          "output_type": "stream",
          "name": "stdout",
          "text": [
            "\u001b[2m\u001b[36m(launch_and_fit pid=30539)\u001b[0m [Client 4, round 7] fit, config: {'server_round': 7, 'local_epochs': 2}\n",
            "\u001b[2m\u001b[36m(launch_and_fit pid=30539)\u001b[0m Epoch 1: train loss 0.06390251964330673, accuracy 0.23355555555555554\n"
          ]
        },
        {
          "output_type": "stream",
          "name": "stderr",
          "text": [
            "DEBUG flwr 2023-06-10 05:16:36,314 | server.py:232 | fit_round 7 received 3 results and 0 failures\n",
            "DEBUG:flwr:fit_round 7 received 3 results and 0 failures\n"
          ]
        },
        {
          "output_type": "stream",
          "name": "stdout",
          "text": [
            "\u001b[2m\u001b[36m(launch_and_fit pid=30539)\u001b[0m Epoch 2: train loss 0.05589677020907402, accuracy 0.33755555555555555\n",
            "Server-side evaluation loss 0.07215018112659455 / accuracy 0.0998\n"
          ]
        },
        {
          "output_type": "stream",
          "name": "stderr",
          "text": [
            "INFO flwr 2023-06-10 05:16:42,765 | server.py:119 | fit progress: (7, 0.07214881908893585, {'accuracy': 0.0998}, 443.0644121940004)\n",
            "INFO:flwr:fit progress: (7, 0.07214881908893585, {'accuracy': 0.0998}, 443.0644121940004)\n",
            "DEBUG flwr 2023-06-10 05:16:42,770 | server.py:168 | evaluate_round 7: strategy sampled 3 clients (out of 10)\n",
            "DEBUG:flwr:evaluate_round 7: strategy sampled 3 clients (out of 10)\n"
          ]
        },
        {
          "output_type": "stream",
          "name": "stdout",
          "text": [
            "Server-side evaluation loss 0.07214881908893585 / accuracy 0.0998\n"
          ]
        },
        {
          "output_type": "stream",
          "name": "stderr",
          "text": [
            "\u001b[2m\u001b[36m(pid=30673)\u001b[0m 2023-06-10 05:16:49.973248: W tensorflow/compiler/tf2tensorrt/utils/py_utils.cc:38] TF-TRT Warning: Could not find TensorRT\n"
          ]
        },
        {
          "output_type": "stream",
          "name": "stdout",
          "text": [
            "\u001b[2m\u001b[36m(launch_and_evaluate pid=30673)\u001b[0m [Client 7] evaluate, config: {}\n"
          ]
        },
        {
          "output_type": "stream",
          "name": "stderr",
          "text": [
            "\u001b[2m\u001b[36m(pid=30744)\u001b[0m 2023-06-10 05:16:56.773190: W tensorflow/compiler/tf2tensorrt/utils/py_utils.cc:38] TF-TRT Warning: Could not find TensorRT\n"
          ]
        },
        {
          "output_type": "stream",
          "name": "stdout",
          "text": [
            "\u001b[2m\u001b[36m(launch_and_evaluate pid=30744)\u001b[0m [Client 2] evaluate, config: {}\n"
          ]
        },
        {
          "output_type": "stream",
          "name": "stderr",
          "text": [
            "\u001b[2m\u001b[36m(pid=30806)\u001b[0m 2023-06-10 05:17:02.694190: W tensorflow/compiler/tf2tensorrt/utils/py_utils.cc:38] TF-TRT Warning: Could not find TensorRT\n"
          ]
        },
        {
          "output_type": "stream",
          "name": "stdout",
          "text": [
            "\u001b[2m\u001b[36m(launch_and_evaluate pid=30806)\u001b[0m [Client 3] evaluate, config: {}\n"
          ]
        },
        {
          "output_type": "stream",
          "name": "stderr",
          "text": [
            "DEBUG flwr 2023-06-10 05:17:08,868 | server.py:182 | evaluate_round 7 received 3 results and 0 failures\n",
            "DEBUG:flwr:evaluate_round 7 received 3 results and 0 failures\n",
            "DEBUG flwr 2023-06-10 05:17:08,880 | server.py:218 | fit_round 8: strategy sampled 3 clients (out of 10)\n",
            "DEBUG:flwr:fit_round 8: strategy sampled 3 clients (out of 10)\n",
            "\u001b[2m\u001b[36m(pid=30896)\u001b[0m 2023-06-10 05:17:14.364128: W tensorflow/compiler/tf2tensorrt/utils/py_utils.cc:38] TF-TRT Warning: Could not find TensorRT\n"
          ]
        },
        {
          "output_type": "stream",
          "name": "stdout",
          "text": [
            "\u001b[2m\u001b[36m(launch_and_fit pid=30896)\u001b[0m [Client 5, round 8] fit, config: {'server_round': 8, 'local_epochs': 2}\n",
            "\u001b[2m\u001b[36m(launch_and_fit pid=30896)\u001b[0m Epoch 1: train loss 0.06370796263217926, accuracy 0.2431111111111111\n",
            "\u001b[2m\u001b[36m(launch_and_fit pid=30896)\u001b[0m Epoch 2: train loss 0.05525561794638634, accuracy 0.3466666666666667\n"
          ]
        },
        {
          "output_type": "stream",
          "name": "stderr",
          "text": [
            "\u001b[2m\u001b[36m(pid=30984)\u001b[0m 2023-06-10 05:17:25.527436: W tensorflow/compiler/tf2tensorrt/utils/py_utils.cc:38] TF-TRT Warning: Could not find TensorRT\n"
          ]
        },
        {
          "output_type": "stream",
          "name": "stdout",
          "text": [
            "\u001b[2m\u001b[36m(launch_and_fit pid=30984)\u001b[0m [Client 6, round 8] fit, config: {'server_round': 8, 'local_epochs': 2}\n",
            "\u001b[2m\u001b[36m(launch_and_fit pid=30984)\u001b[0m Epoch 1: train loss 0.06349911540746689, accuracy 0.23533333333333334\n",
            "\u001b[2m\u001b[36m(launch_and_fit pid=30984)\u001b[0m Epoch 2: train loss 0.05588090419769287, accuracy 0.3426666666666667\n"
          ]
        },
        {
          "output_type": "stream",
          "name": "stderr",
          "text": [
            "\u001b[2m\u001b[36m(pid=31062)\u001b[0m 2023-06-10 05:17:35.733194: W tensorflow/compiler/tf2tensorrt/utils/py_utils.cc:38] TF-TRT Warning: Could not find TensorRT\n"
          ]
        },
        {
          "output_type": "stream",
          "name": "stdout",
          "text": [
            "\u001b[2m\u001b[36m(launch_and_fit pid=31062)\u001b[0m [Client 0, round 8] fit, config: {'server_round': 8, 'local_epochs': 2}\n",
            "\u001b[2m\u001b[36m(launch_and_fit pid=31062)\u001b[0m Epoch 1: train loss 0.06377238035202026, accuracy 0.23977777777777778\n"
          ]
        },
        {
          "output_type": "stream",
          "name": "stderr",
          "text": [
            "DEBUG flwr 2023-06-10 05:17:43,934 | server.py:232 | fit_round 8 received 3 results and 0 failures\n",
            "DEBUG:flwr:fit_round 8 received 3 results and 0 failures\n"
          ]
        },
        {
          "output_type": "stream",
          "name": "stdout",
          "text": [
            "\u001b[2m\u001b[36m(launch_and_fit pid=31062)\u001b[0m Epoch 2: train loss 0.05507168918848038, accuracy 0.3551111111111111\n",
            "Server-side evaluation loss 0.07214881908893585 / accuracy 0.0998\n"
          ]
        },
        {
          "output_type": "stream",
          "name": "stderr",
          "text": [
            "INFO flwr 2023-06-10 05:17:50,807 | server.py:119 | fit progress: (8, 0.07214742405414581, {'accuracy': 0.0998}, 511.10657509199973)\n",
            "INFO:flwr:fit progress: (8, 0.07214742405414581, {'accuracy': 0.0998}, 511.10657509199973)\n",
            "DEBUG flwr 2023-06-10 05:17:50,814 | server.py:168 | evaluate_round 8: strategy sampled 3 clients (out of 10)\n",
            "DEBUG:flwr:evaluate_round 8: strategy sampled 3 clients (out of 10)\n"
          ]
        },
        {
          "output_type": "stream",
          "name": "stdout",
          "text": [
            "Server-side evaluation loss 0.07214742405414581 / accuracy 0.0998\n"
          ]
        },
        {
          "output_type": "stream",
          "name": "stderr",
          "text": [
            "\u001b[2m\u001b[36m(pid=31206)\u001b[0m 2023-06-10 05:17:57.911913: W tensorflow/compiler/tf2tensorrt/utils/py_utils.cc:38] TF-TRT Warning: Could not find TensorRT\n"
          ]
        },
        {
          "output_type": "stream",
          "name": "stdout",
          "text": [
            "\u001b[2m\u001b[36m(launch_and_evaluate pid=31206)\u001b[0m [Client 0] evaluate, config: {}\n"
          ]
        },
        {
          "output_type": "stream",
          "name": "stderr",
          "text": [
            "\u001b[2m\u001b[36m(pid=31268)\u001b[0m 2023-06-10 05:18:03.790434: W tensorflow/compiler/tf2tensorrt/utils/py_utils.cc:38] TF-TRT Warning: Could not find TensorRT\n"
          ]
        },
        {
          "output_type": "stream",
          "name": "stdout",
          "text": [
            "\u001b[2m\u001b[36m(launch_and_evaluate pid=31268)\u001b[0m [Client 5] evaluate, config: {}\n"
          ]
        },
        {
          "output_type": "stream",
          "name": "stderr",
          "text": [
            "\u001b[2m\u001b[36m(pid=31339)\u001b[0m 2023-06-10 05:18:11.771154: W tensorflow/compiler/tf2tensorrt/utils/py_utils.cc:38] TF-TRT Warning: Could not find TensorRT\n"
          ]
        },
        {
          "output_type": "stream",
          "name": "stdout",
          "text": [
            "\u001b[2m\u001b[36m(launch_and_evaluate pid=31339)\u001b[0m [Client 9] evaluate, config: {}\n"
          ]
        },
        {
          "output_type": "stream",
          "name": "stderr",
          "text": [
            "DEBUG flwr 2023-06-10 05:18:15,685 | server.py:182 | evaluate_round 8 received 3 results and 0 failures\n",
            "DEBUG:flwr:evaluate_round 8 received 3 results and 0 failures\n",
            "DEBUG flwr 2023-06-10 05:18:15,694 | server.py:218 | fit_round 9: strategy sampled 3 clients (out of 10)\n",
            "DEBUG:flwr:fit_round 9: strategy sampled 3 clients (out of 10)\n",
            "\u001b[2m\u001b[36m(pid=31415)\u001b[0m 2023-06-10 05:18:22.844342: W tensorflow/compiler/tf2tensorrt/utils/py_utils.cc:38] TF-TRT Warning: Could not find TensorRT\n"
          ]
        },
        {
          "output_type": "stream",
          "name": "stdout",
          "text": [
            "\u001b[2m\u001b[36m(launch_and_fit pid=31415)\u001b[0m [Client 7, round 9] fit, config: {'server_round': 9, 'local_epochs': 2}\n",
            "\u001b[2m\u001b[36m(launch_and_fit pid=31415)\u001b[0m Epoch 1: train loss 0.06436508148908615, accuracy 0.2291111111111111\n",
            "\u001b[2m\u001b[36m(launch_and_fit pid=31415)\u001b[0m Epoch 2: train loss 0.0553501695394516, accuracy 0.3368888888888889\n"
          ]
        },
        {
          "output_type": "stream",
          "name": "stderr",
          "text": [
            "\u001b[2m\u001b[36m(pid=31507)\u001b[0m 2023-06-10 05:18:32.601069: W tensorflow/compiler/tf2tensorrt/utils/py_utils.cc:38] TF-TRT Warning: Could not find TensorRT\n"
          ]
        },
        {
          "output_type": "stream",
          "name": "stdout",
          "text": [
            "\u001b[2m\u001b[36m(launch_and_fit pid=31507)\u001b[0m [Client 0, round 9] fit, config: {'server_round': 9, 'local_epochs': 2}\n",
            "\u001b[2m\u001b[36m(launch_and_fit pid=31507)\u001b[0m Epoch 1: train loss 0.0641508474946022, accuracy 0.2437777777777778\n",
            "\u001b[2m\u001b[36m(launch_and_fit pid=31507)\u001b[0m Epoch 2: train loss 0.05520724877715111, accuracy 0.3491111111111111\n"
          ]
        },
        {
          "output_type": "stream",
          "name": "stderr",
          "text": [
            "\u001b[2m\u001b[36m(pid=31591)\u001b[0m 2023-06-10 05:18:43.633913: W tensorflow/compiler/tf2tensorrt/utils/py_utils.cc:38] TF-TRT Warning: Could not find TensorRT\n"
          ]
        },
        {
          "output_type": "stream",
          "name": "stdout",
          "text": [
            "\u001b[2m\u001b[36m(launch_and_fit pid=31591)\u001b[0m [Client 9, round 9] fit, config: {'server_round': 9, 'local_epochs': 2}\n",
            "\u001b[2m\u001b[36m(launch_and_fit pid=31591)\u001b[0m Epoch 1: train loss 0.0638502985239029, accuracy 0.25177777777777777\n"
          ]
        },
        {
          "output_type": "stream",
          "name": "stderr",
          "text": [
            "DEBUG flwr 2023-06-10 05:18:50,892 | server.py:232 | fit_round 9 received 3 results and 0 failures\n",
            "DEBUG:flwr:fit_round 9 received 3 results and 0 failures\n"
          ]
        },
        {
          "output_type": "stream",
          "name": "stdout",
          "text": [
            "\u001b[2m\u001b[36m(launch_and_fit pid=31591)\u001b[0m Epoch 2: train loss 0.05578615516424179, accuracy 0.3388888888888889\n",
            "Server-side evaluation loss 0.07214742405414581 / accuracy 0.0998\n"
          ]
        },
        {
          "output_type": "stream",
          "name": "stderr",
          "text": [
            "INFO flwr 2023-06-10 05:18:59,099 | server.py:119 | fit progress: (9, 0.07214608335494996, {'accuracy': 0.0998}, 579.3984858129998)\n",
            "INFO:flwr:fit progress: (9, 0.07214608335494996, {'accuracy': 0.0998}, 579.3984858129998)\n",
            "DEBUG flwr 2023-06-10 05:18:59,110 | server.py:168 | evaluate_round 9: strategy sampled 3 clients (out of 10)\n",
            "DEBUG:flwr:evaluate_round 9: strategy sampled 3 clients (out of 10)\n"
          ]
        },
        {
          "output_type": "stream",
          "name": "stdout",
          "text": [
            "Server-side evaluation loss 0.07214608335494996 / accuracy 0.0998\n"
          ]
        },
        {
          "output_type": "stream",
          "name": "stderr",
          "text": [
            "\u001b[2m\u001b[36m(pid=31725)\u001b[0m 2023-06-10 05:19:04.674425: W tensorflow/compiler/tf2tensorrt/utils/py_utils.cc:38] TF-TRT Warning: Could not find TensorRT\n"
          ]
        },
        {
          "output_type": "stream",
          "name": "stdout",
          "text": [
            "\u001b[2m\u001b[36m(launch_and_evaluate pid=31725)\u001b[0m [Client 3] evaluate, config: {}\n"
          ]
        },
        {
          "output_type": "stream",
          "name": "stderr",
          "text": [
            "\u001b[2m\u001b[36m(pid=31798)\u001b[0m 2023-06-10 05:19:15.728630: W tensorflow/compiler/tf2tensorrt/utils/py_utils.cc:38] TF-TRT Warning: Could not find TensorRT\n"
          ]
        },
        {
          "output_type": "stream",
          "name": "stdout",
          "text": [
            "\u001b[2m\u001b[36m(launch_and_evaluate pid=31798)\u001b[0m [Client 7] evaluate, config: {}\n"
          ]
        },
        {
          "output_type": "stream",
          "name": "stderr",
          "text": [
            "\u001b[2m\u001b[36m(pid=31873)\u001b[0m 2023-06-10 05:19:21.423585: W tensorflow/compiler/tf2tensorrt/utils/py_utils.cc:38] TF-TRT Warning: Could not find TensorRT\n"
          ]
        },
        {
          "output_type": "stream",
          "name": "stdout",
          "text": [
            "\u001b[2m\u001b[36m(launch_and_evaluate pid=31873)\u001b[0m [Client 2] evaluate, config: {}\n"
          ]
        },
        {
          "output_type": "stream",
          "name": "stderr",
          "text": [
            "DEBUG flwr 2023-06-10 05:19:26,317 | server.py:182 | evaluate_round 9 received 3 results and 0 failures\n",
            "DEBUG:flwr:evaluate_round 9 received 3 results and 0 failures\n",
            "DEBUG flwr 2023-06-10 05:19:26,328 | server.py:218 | fit_round 10: strategy sampled 3 clients (out of 10)\n",
            "DEBUG:flwr:fit_round 10: strategy sampled 3 clients (out of 10)\n",
            "\u001b[2m\u001b[36m(pid=31961)\u001b[0m 2023-06-10 05:19:32.936691: W tensorflow/compiler/tf2tensorrt/utils/py_utils.cc:38] TF-TRT Warning: Could not find TensorRT\n"
          ]
        },
        {
          "output_type": "stream",
          "name": "stdout",
          "text": [
            "\u001b[2m\u001b[36m(launch_and_fit pid=31961)\u001b[0m [Client 6, round 10] fit, config: {'server_round': 10, 'local_epochs': 2}\n",
            "\u001b[2m\u001b[36m(launch_and_fit pid=31961)\u001b[0m Epoch 1: train loss 0.06405174732208252, accuracy 0.23533333333333334\n",
            "\u001b[2m\u001b[36m(launch_and_fit pid=31961)\u001b[0m Epoch 2: train loss 0.055086687207221985, accuracy 0.3433333333333333\n"
          ]
        },
        {
          "output_type": "stream",
          "name": "stderr",
          "text": [
            "\u001b[2m\u001b[36m(pid=32042)\u001b[0m 2023-06-10 05:19:44.111494: W tensorflow/compiler/tf2tensorrt/utils/py_utils.cc:38] TF-TRT Warning: Could not find TensorRT\n"
          ]
        },
        {
          "output_type": "stream",
          "name": "stdout",
          "text": [
            "\u001b[2m\u001b[36m(launch_and_fit pid=32042)\u001b[0m [Client 1, round 10] fit, config: {'server_round': 10, 'local_epochs': 2}\n",
            "\u001b[2m\u001b[36m(launch_and_fit pid=32042)\u001b[0m Epoch 1: train loss 0.06401585042476654, accuracy 0.24333333333333335\n",
            "\u001b[2m\u001b[36m(launch_and_fit pid=32042)\u001b[0m Epoch 2: train loss 0.055288560688495636, accuracy 0.35977777777777775\n"
          ]
        },
        {
          "output_type": "stream",
          "name": "stderr",
          "text": [
            "\u001b[2m\u001b[36m(pid=32128)\u001b[0m 2023-06-10 05:19:53.130840: W tensorflow/compiler/tf2tensorrt/utils/py_utils.cc:38] TF-TRT Warning: Could not find TensorRT\n"
          ]
        },
        {
          "output_type": "stream",
          "name": "stdout",
          "text": [
            "\u001b[2m\u001b[36m(launch_and_fit pid=32128)\u001b[0m [Client 0, round 10] fit, config: {'server_round': 10, 'local_epochs': 2}\n",
            "\u001b[2m\u001b[36m(launch_and_fit pid=32128)\u001b[0m Epoch 1: train loss 0.06346315890550613, accuracy 0.24533333333333332\n"
          ]
        },
        {
          "output_type": "stream",
          "name": "stderr",
          "text": [
            "DEBUG flwr 2023-06-10 05:20:02,425 | server.py:232 | fit_round 10 received 3 results and 0 failures\n",
            "DEBUG:flwr:fit_round 10 received 3 results and 0 failures\n"
          ]
        },
        {
          "output_type": "stream",
          "name": "stdout",
          "text": [
            "\u001b[2m\u001b[36m(launch_and_fit pid=32128)\u001b[0m Epoch 2: train loss 0.054902754724025726, accuracy 0.3622222222222222\n",
            "Server-side evaluation loss 0.07214608335494996 / accuracy 0.0998\n"
          ]
        },
        {
          "output_type": "stream",
          "name": "stderr",
          "text": [
            "INFO flwr 2023-06-10 05:20:08,722 | server.py:119 | fit progress: (10, 0.07214475588798523, {'accuracy': 0.0998}, 649.0222980480003)\n",
            "INFO:flwr:fit progress: (10, 0.07214475588798523, {'accuracy': 0.0998}, 649.0222980480003)\n",
            "DEBUG flwr 2023-06-10 05:20:08,728 | server.py:168 | evaluate_round 10: strategy sampled 3 clients (out of 10)\n",
            "DEBUG:flwr:evaluate_round 10: strategy sampled 3 clients (out of 10)\n"
          ]
        },
        {
          "output_type": "stream",
          "name": "stdout",
          "text": [
            "Server-side evaluation loss 0.07214475588798523 / accuracy 0.0998\n"
          ]
        },
        {
          "output_type": "stream",
          "name": "stderr",
          "text": [
            "\u001b[2m\u001b[36m(pid=32269)\u001b[0m 2023-06-10 05:20:16.739605: W tensorflow/compiler/tf2tensorrt/utils/py_utils.cc:38] TF-TRT Warning: Could not find TensorRT\n"
          ]
        },
        {
          "output_type": "stream",
          "name": "stdout",
          "text": [
            "\u001b[2m\u001b[36m(launch_and_evaluate pid=32269)\u001b[0m [Client 9] evaluate, config: {}\n"
          ]
        },
        {
          "output_type": "stream",
          "name": "stderr",
          "text": [
            "\u001b[2m\u001b[36m(pid=32335)\u001b[0m 2023-06-10 05:20:22.592647: W tensorflow/compiler/tf2tensorrt/utils/py_utils.cc:38] TF-TRT Warning: Could not find TensorRT\n"
          ]
        },
        {
          "output_type": "stream",
          "name": "stdout",
          "text": [
            "\u001b[2m\u001b[36m(launch_and_evaluate pid=32335)\u001b[0m [Client 1] evaluate, config: {}\n"
          ]
        },
        {
          "output_type": "stream",
          "name": "stderr",
          "text": [
            "\u001b[2m\u001b[36m(pid=32399)\u001b[0m 2023-06-10 05:20:30.991730: W tensorflow/compiler/tf2tensorrt/utils/py_utils.cc:38] TF-TRT Warning: Could not find TensorRT\n"
          ]
        },
        {
          "output_type": "stream",
          "name": "stdout",
          "text": [
            "\u001b[2m\u001b[36m(launch_and_evaluate pid=32399)\u001b[0m [Client 7] evaluate, config: {}\n"
          ]
        },
        {
          "output_type": "stream",
          "name": "stderr",
          "text": [
            "DEBUG flwr 2023-06-10 05:20:34,886 | server.py:182 | evaluate_round 10 received 3 results and 0 failures\n",
            "DEBUG:flwr:evaluate_round 10 received 3 results and 0 failures\n",
            "INFO flwr 2023-06-10 05:20:34,891 | server.py:147 | FL finished in 675.190916773\n",
            "INFO:flwr:FL finished in 675.190916773\n",
            "INFO flwr 2023-06-10 05:20:34,897 | app.py:218 | app_fit: losses_distributed [(1, 0.07375088644027711), (2, 0.07375187953313193), (3, 0.07376949659983317), (4, 0.07387237819035848), (5, 0.07364813089370727), (6, 0.0736991367340088), (7, 0.07381131283442179), (8, 0.07367741918563843), (9, 0.0738088657061259), (10, 0.07370338344573975)]\n",
            "INFO:flwr:app_fit: losses_distributed [(1, 0.07375088644027711), (2, 0.07375187953313193), (3, 0.07376949659983317), (4, 0.07387237819035848), (5, 0.07364813089370727), (6, 0.0736991367340088), (7, 0.07381131283442179), (8, 0.07367741918563843), (9, 0.0738088657061259), (10, 0.07370338344573975)]\n",
            "INFO flwr 2023-06-10 05:20:34,904 | app.py:219 | app_fit: metrics_distributed_fit {}\n",
            "INFO:flwr:app_fit: metrics_distributed_fit {}\n",
            "INFO flwr 2023-06-10 05:20:34,908 | app.py:220 | app_fit: metrics_distributed {'accuracy': [(1, 0.09799999999999999), (2, 0.104), (3, 0.09466666666666668), (4, 0.09599999999999999), (5, 0.09666666666666666), (6, 0.09933333333333333), (7, 0.08600000000000001), (8, 0.09933333333333333), (9, 0.08600000000000001), (10, 0.09666666666666666)]}\n",
            "INFO:flwr:app_fit: metrics_distributed {'accuracy': [(1, 0.09799999999999999), (2, 0.104), (3, 0.09466666666666668), (4, 0.09599999999999999), (5, 0.09666666666666666), (6, 0.09933333333333333), (7, 0.08600000000000001), (8, 0.09933333333333333), (9, 0.08600000000000001), (10, 0.09666666666666666)]}\n",
            "INFO flwr 2023-06-10 05:20:34,913 | app.py:221 | app_fit: losses_centralized [(0, 0.07215865316390992), (1, 0.07215644445419311), (2, 0.07215513553619385), (3, 0.07215400507450104), (4, 0.07215272889137268), (5, 0.07215151274204254), (6, 0.07215018112659455), (7, 0.07214881908893585), (8, 0.07214742405414581), (9, 0.07214608335494996), (10, 0.07214475588798523)]\n",
            "INFO:flwr:app_fit: losses_centralized [(0, 0.07215865316390992), (1, 0.07215644445419311), (2, 0.07215513553619385), (3, 0.07215400507450104), (4, 0.07215272889137268), (5, 0.07215151274204254), (6, 0.07215018112659455), (7, 0.07214881908893585), (8, 0.07214742405414581), (9, 0.07214608335494996), (10, 0.07214475588798523)]\n",
            "INFO flwr 2023-06-10 05:20:34,916 | app.py:222 | app_fit: metrics_centralized {'accuracy': [(0, 0.0998), (1, 0.0998), (2, 0.0998), (3, 0.0998), (4, 0.0998), (5, 0.0998), (6, 0.0998), (7, 0.0998), (8, 0.0998), (9, 0.0998), (10, 0.0998)]}\n",
            "INFO:flwr:app_fit: metrics_centralized {'accuracy': [(0, 0.0998), (1, 0.0998), (2, 0.0998), (3, 0.0998), (4, 0.0998), (5, 0.0998), (6, 0.0998), (7, 0.0998), (8, 0.0998), (9, 0.0998), (10, 0.0998)]}\n"
          ]
        }
      ]
    },
    {
      "cell_type": "code",
      "source": [
        "net = VGG16().to(DEVICE)\n",
        "simulate_cifar(StrategyCls=fl.server.strategy.QFedAvg, strategyArgs=strategyConfig, net=net, num_rounds=10)"
      ],
      "metadata": {
        "colab": {
          "base_uri": "https://localhost:8080/"
        },
        "id": "0EpqtsJ0jXft",
        "outputId": "1dae8e41-0850-4779-8f08-0222c7ae249a"
      },
      "execution_count": 10,
      "outputs": [
        {
          "output_type": "stream",
          "name": "stdout",
          "text": [
            "Files already downloaded and verified\n",
            "Files already downloaded and verified\n"
          ]
        },
        {
          "output_type": "stream",
          "name": "stderr",
          "text": [
            "INFO flwr 2023-06-10 05:20:36,652 | app.py:146 | Starting Flower simulation, config: ServerConfig(num_rounds=10, round_timeout=None)\n",
            "INFO:flwr:Starting Flower simulation, config: ServerConfig(num_rounds=10, round_timeout=None)\n",
            "2023-06-10 05:20:44,566\tINFO worker.py:1636 -- Started a local Ray instance.\n",
            "INFO flwr 2023-06-10 05:20:46,347 | app.py:180 | Flower VCE: Ray initialized with resources: {'memory': 7871818139.0, 'object_store_memory': 3935909068.0, 'GPU': 1.0, 'node:172.28.0.12': 1.0, 'CPU': 2.0}\n",
            "INFO:flwr:Flower VCE: Ray initialized with resources: {'memory': 7871818139.0, 'object_store_memory': 3935909068.0, 'GPU': 1.0, 'node:172.28.0.12': 1.0, 'CPU': 2.0}\n",
            "INFO flwr 2023-06-10 05:20:46,352 | server.py:86 | Initializing global parameters\n",
            "INFO:flwr:Initializing global parameters\n",
            "INFO flwr 2023-06-10 05:20:46,353 | server.py:269 | Using initial parameters provided by strategy\n",
            "INFO:flwr:Using initial parameters provided by strategy\n",
            "INFO flwr 2023-06-10 05:20:46,355 | server.py:88 | Evaluating initial parameters\n",
            "INFO:flwr:Evaluating initial parameters\n",
            "INFO flwr 2023-06-10 05:20:51,531 | server.py:91 | initial parameters (loss, other metrics): 0.07208232378959656, {'accuracy': 0.1}\n",
            "INFO:flwr:initial parameters (loss, other metrics): 0.07208232378959656, {'accuracy': 0.1}\n",
            "INFO flwr 2023-06-10 05:20:51,537 | server.py:101 | FL starting\n",
            "INFO:flwr:FL starting\n",
            "DEBUG flwr 2023-06-10 05:20:51,598 | server.py:218 | fit_round 1: strategy sampled 3 clients (out of 10)\n",
            "DEBUG:flwr:fit_round 1: strategy sampled 3 clients (out of 10)\n"
          ]
        },
        {
          "output_type": "stream",
          "name": "stdout",
          "text": [
            "Server-side evaluation loss 0.07208232378959656 / accuracy 0.1\n"
          ]
        },
        {
          "output_type": "stream",
          "name": "stderr",
          "text": [
            "\u001b[2m\u001b[36m(pid=32754)\u001b[0m 2023-06-10 05:20:58.670965: W tensorflow/compiler/tf2tensorrt/utils/py_utils.cc:38] TF-TRT Warning: Could not find TensorRT\n"
          ]
        },
        {
          "output_type": "stream",
          "name": "stdout",
          "text": [
            "\u001b[2m\u001b[36m(launch_and_fit pid=32754)\u001b[0m [Client 2, round 1] fit, config: {'server_round': 1, 'local_epochs': 1}\n",
            "\u001b[2m\u001b[36m(launch_and_fit pid=32754)\u001b[0m Epoch 1: train loss 0.06685440242290497, accuracy 0.18533333333333332\n"
          ]
        },
        {
          "output_type": "stream",
          "name": "stderr",
          "text": [
            "\u001b[2m\u001b[36m(pid=32844)\u001b[0m 2023-06-10 05:21:10.261563: W tensorflow/compiler/tf2tensorrt/utils/py_utils.cc:38] TF-TRT Warning: Could not find TensorRT\n"
          ]
        },
        {
          "output_type": "stream",
          "name": "stdout",
          "text": [
            "\u001b[2m\u001b[36m(launch_and_fit pid=32844)\u001b[0m [Client 6, round 1] fit, config: {'server_round': 1, 'local_epochs': 1}\n",
            "\u001b[2m\u001b[36m(launch_and_fit pid=32844)\u001b[0m Epoch 1: train loss 0.06631089001893997, accuracy 0.1771111111111111\n"
          ]
        },
        {
          "output_type": "stream",
          "name": "stderr",
          "text": [
            "\u001b[2m\u001b[36m(pid=32935)\u001b[0m 2023-06-10 05:21:22.148491: W tensorflow/compiler/tf2tensorrt/utils/py_utils.cc:38] TF-TRT Warning: Could not find TensorRT\n"
          ]
        },
        {
          "output_type": "stream",
          "name": "stdout",
          "text": [
            "\u001b[2m\u001b[36m(launch_and_fit pid=32935)\u001b[0m [Client 5, round 1] fit, config: {'server_round': 1, 'local_epochs': 1}\n"
          ]
        },
        {
          "output_type": "stream",
          "name": "stderr",
          "text": [
            "DEBUG flwr 2023-06-10 05:21:32,025 | server.py:232 | fit_round 1 received 3 results and 0 failures\n",
            "DEBUG:flwr:fit_round 1 received 3 results and 0 failures\n"
          ]
        },
        {
          "output_type": "stream",
          "name": "stdout",
          "text": [
            "\u001b[2m\u001b[36m(launch_and_fit pid=32935)\u001b[0m Epoch 1: train loss 0.06706156581640244, accuracy 0.1708888888888889\n",
            "Server-side evaluation loss 0.07208232378959656 / accuracy 0.1\n"
          ]
        },
        {
          "output_type": "stream",
          "name": "stderr",
          "text": [
            "WARNING flwr 2023-06-10 05:21:40,461 | qfedavg.py:237 | No fit_metrics_aggregation_fn provided\n",
            "WARNING:flwr:No fit_metrics_aggregation_fn provided\n",
            "INFO flwr 2023-06-10 05:21:46,770 | server.py:119 | fit progress: (1, 0.07208232369422912, {'accuracy': 0.1}, 55.22687702100029)\n",
            "INFO:flwr:fit progress: (1, 0.07208232369422912, {'accuracy': 0.1}, 55.22687702100029)\n",
            "DEBUG flwr 2023-06-10 05:21:46,777 | server.py:168 | evaluate_round 1: strategy sampled 3 clients (out of 10)\n",
            "DEBUG:flwr:evaluate_round 1: strategy sampled 3 clients (out of 10)\n"
          ]
        },
        {
          "output_type": "stream",
          "name": "stdout",
          "text": [
            "Server-side evaluation loss 0.07208232369422912 / accuracy 0.1\n"
          ]
        },
        {
          "output_type": "stream",
          "name": "stderr",
          "text": [
            "\u001b[2m\u001b[36m(pid=33111)\u001b[0m 2023-06-10 05:21:53.046378: W tensorflow/compiler/tf2tensorrt/utils/py_utils.cc:38] TF-TRT Warning: Could not find TensorRT\n"
          ]
        },
        {
          "output_type": "stream",
          "name": "stdout",
          "text": [
            "\u001b[2m\u001b[36m(launch_and_evaluate pid=33111)\u001b[0m [Client 0] evaluate, config: {}\n"
          ]
        },
        {
          "output_type": "stream",
          "name": "stderr",
          "text": [
            "\u001b[2m\u001b[36m(pid=33175)\u001b[0m 2023-06-10 05:22:00.516162: W tensorflow/compiler/tf2tensorrt/utils/py_utils.cc:38] TF-TRT Warning: Could not find TensorRT\n"
          ]
        },
        {
          "output_type": "stream",
          "name": "stdout",
          "text": [
            "\u001b[2m\u001b[36m(launch_and_evaluate pid=33175)\u001b[0m [Client 9] evaluate, config: {}\n"
          ]
        },
        {
          "output_type": "stream",
          "name": "stderr",
          "text": [
            "\u001b[2m\u001b[36m(pid=33250)\u001b[0m 2023-06-10 05:22:09.992554: W tensorflow/compiler/tf2tensorrt/utils/py_utils.cc:38] TF-TRT Warning: Could not find TensorRT\n"
          ]
        },
        {
          "output_type": "stream",
          "name": "stdout",
          "text": [
            "\u001b[2m\u001b[36m(launch_and_evaluate pid=33250)\u001b[0m [Client 1] evaluate, config: {}\n"
          ]
        },
        {
          "output_type": "stream",
          "name": "stderr",
          "text": [
            "DEBUG flwr 2023-06-10 05:22:14,390 | server.py:182 | evaluate_round 1 received 3 results and 0 failures\n",
            "DEBUG:flwr:evaluate_round 1 received 3 results and 0 failures\n",
            "DEBUG flwr 2023-06-10 05:22:14,465 | server.py:218 | fit_round 2: strategy sampled 3 clients (out of 10)\n",
            "DEBUG:flwr:fit_round 2: strategy sampled 3 clients (out of 10)\n",
            "\u001b[2m\u001b[36m(pid=33349)\u001b[0m 2023-06-10 05:22:22.121202: W tensorflow/compiler/tf2tensorrt/utils/py_utils.cc:38] TF-TRT Warning: Could not find TensorRT\n"
          ]
        },
        {
          "output_type": "stream",
          "name": "stdout",
          "text": [
            "\u001b[2m\u001b[36m(launch_and_fit pid=33349)\u001b[0m [Client 0, round 2] fit, config: {'server_round': 2, 'local_epochs': 2}\n",
            "\u001b[2m\u001b[36m(launch_and_fit pid=33349)\u001b[0m Epoch 1: train loss 0.06612754613161087, accuracy 0.18066666666666667\n",
            "\u001b[2m\u001b[36m(launch_and_fit pid=33349)\u001b[0m Epoch 2: train loss 0.05901974067091942, accuracy 0.26844444444444443\n"
          ]
        },
        {
          "output_type": "stream",
          "name": "stderr",
          "text": [
            "\u001b[2m\u001b[36m(pid=33464)\u001b[0m 2023-06-10 05:22:38.903216: W tensorflow/compiler/tf2tensorrt/utils/py_utils.cc:38] TF-TRT Warning: Could not find TensorRT\n"
          ]
        },
        {
          "output_type": "stream",
          "name": "stdout",
          "text": [
            "\u001b[2m\u001b[36m(launch_and_fit pid=33464)\u001b[0m [Client 4, round 2] fit, config: {'server_round': 2, 'local_epochs': 2}\n",
            "\u001b[2m\u001b[36m(launch_and_fit pid=33464)\u001b[0m Epoch 1: train loss 0.06612826883792877, accuracy 0.1668888888888889\n",
            "\u001b[2m\u001b[36m(launch_and_fit pid=33464)\u001b[0m Epoch 2: train loss 0.06213335692882538, accuracy 0.19933333333333333\n"
          ]
        },
        {
          "output_type": "stream",
          "name": "stderr",
          "text": [
            "\u001b[2m\u001b[36m(pid=33572)\u001b[0m 2023-06-10 05:22:55.516149: W tensorflow/compiler/tf2tensorrt/utils/py_utils.cc:38] TF-TRT Warning: Could not find TensorRT\n"
          ]
        },
        {
          "output_type": "stream",
          "name": "stdout",
          "text": [
            "\u001b[2m\u001b[36m(launch_and_fit pid=33572)\u001b[0m [Client 5, round 2] fit, config: {'server_round': 2, 'local_epochs': 2}\n",
            "\u001b[2m\u001b[36m(launch_and_fit pid=33572)\u001b[0m Epoch 1: train loss 0.06719905883073807, accuracy 0.17133333333333334\n"
          ]
        },
        {
          "output_type": "stream",
          "name": "stderr",
          "text": [
            "DEBUG flwr 2023-06-10 05:23:10,575 | server.py:232 | fit_round 2 received 3 results and 0 failures\n",
            "DEBUG:flwr:fit_round 2 received 3 results and 0 failures\n"
          ]
        },
        {
          "output_type": "stream",
          "name": "stdout",
          "text": [
            "\u001b[2m\u001b[36m(launch_and_fit pid=33572)\u001b[0m Epoch 2: train loss 0.059143222868442535, accuracy 0.2753333333333333\n",
            "Server-side evaluation loss 0.07208232369422912 / accuracy 0.1\n"
          ]
        },
        {
          "output_type": "stream",
          "name": "stderr",
          "text": [
            "INFO flwr 2023-06-10 05:23:24,677 | server.py:119 | fit progress: (2, 0.07208232350349426, {'accuracy': 0.1}, 153.13391225000032)\n",
            "INFO:flwr:fit progress: (2, 0.07208232350349426, {'accuracy': 0.1}, 153.13391225000032)\n",
            "DEBUG flwr 2023-06-10 05:23:24,683 | server.py:168 | evaluate_round 2: strategy sampled 3 clients (out of 10)\n",
            "DEBUG:flwr:evaluate_round 2: strategy sampled 3 clients (out of 10)\n"
          ]
        },
        {
          "output_type": "stream",
          "name": "stdout",
          "text": [
            "Server-side evaluation loss 0.07208232350349426 / accuracy 0.1\n"
          ]
        },
        {
          "output_type": "stream",
          "name": "stderr",
          "text": [
            "\u001b[2m\u001b[36m(pid=33772)\u001b[0m 2023-06-10 05:23:32.012528: W tensorflow/compiler/tf2tensorrt/utils/py_utils.cc:38] TF-TRT Warning: Could not find TensorRT\n"
          ]
        },
        {
          "output_type": "stream",
          "name": "stdout",
          "text": [
            "\u001b[2m\u001b[36m(launch_and_evaluate pid=33772)\u001b[0m [Client 2] evaluate, config: {}\n"
          ]
        },
        {
          "output_type": "stream",
          "name": "stderr",
          "text": [
            "\u001b[2m\u001b[36m(pid=33846)\u001b[0m 2023-06-10 05:23:39.441621: W tensorflow/compiler/tf2tensorrt/utils/py_utils.cc:38] TF-TRT Warning: Could not find TensorRT\n"
          ]
        },
        {
          "output_type": "stream",
          "name": "stdout",
          "text": [
            "\u001b[2m\u001b[36m(launch_and_evaluate pid=33846)\u001b[0m [Client 0] evaluate, config: {}\n"
          ]
        },
        {
          "output_type": "stream",
          "name": "stderr",
          "text": [
            "\u001b[2m\u001b[36m(pid=33907)\u001b[0m 2023-06-10 05:23:45.982713: W tensorflow/compiler/tf2tensorrt/utils/py_utils.cc:38] TF-TRT Warning: Could not find TensorRT\n"
          ]
        },
        {
          "output_type": "stream",
          "name": "stdout",
          "text": [
            "\u001b[2m\u001b[36m(launch_and_evaluate pid=33907)\u001b[0m [Client 5] evaluate, config: {}\n"
          ]
        },
        {
          "output_type": "stream",
          "name": "stderr",
          "text": [
            "DEBUG flwr 2023-06-10 05:23:52,145 | server.py:182 | evaluate_round 2 received 3 results and 0 failures\n",
            "DEBUG:flwr:evaluate_round 2 received 3 results and 0 failures\n",
            "DEBUG flwr 2023-06-10 05:23:52,205 | server.py:218 | fit_round 3: strategy sampled 3 clients (out of 10)\n",
            "DEBUG:flwr:fit_round 3: strategy sampled 3 clients (out of 10)\n",
            "\u001b[2m\u001b[36m(pid=33997)\u001b[0m 2023-06-10 05:23:58.277418: W tensorflow/compiler/tf2tensorrt/utils/py_utils.cc:38] TF-TRT Warning: Could not find TensorRT\n"
          ]
        },
        {
          "output_type": "stream",
          "name": "stdout",
          "text": [
            "\u001b[2m\u001b[36m(launch_and_fit pid=33997)\u001b[0m [Client 4, round 3] fit, config: {'server_round': 3, 'local_epochs': 2}\n",
            "\u001b[2m\u001b[36m(launch_and_fit pid=33997)\u001b[0m Epoch 1: train loss 0.06302211433649063, accuracy 0.23266666666666666\n",
            "\u001b[2m\u001b[36m(launch_and_fit pid=33997)\u001b[0m Epoch 2: train loss 0.056672073900699615, accuracy 0.30622222222222223\n"
          ]
        },
        {
          "output_type": "stream",
          "name": "stderr",
          "text": [
            "\u001b[2m\u001b[36m(pid=34117)\u001b[0m 2023-06-10 05:24:15.410562: W tensorflow/compiler/tf2tensorrt/utils/py_utils.cc:38] TF-TRT Warning: Could not find TensorRT\n"
          ]
        },
        {
          "output_type": "stream",
          "name": "stdout",
          "text": [
            "\u001b[2m\u001b[36m(launch_and_fit pid=34117)\u001b[0m [Client 2, round 3] fit, config: {'server_round': 3, 'local_epochs': 2}\n",
            "\u001b[2m\u001b[36m(launch_and_fit pid=34117)\u001b[0m Epoch 1: train loss 0.06617958098649979, accuracy 0.192\n",
            "\u001b[2m\u001b[36m(launch_and_fit pid=34117)\u001b[0m Epoch 2: train loss 0.05963724106550217, accuracy 0.24355555555555555\n"
          ]
        },
        {
          "output_type": "stream",
          "name": "stderr",
          "text": [
            "\u001b[2m\u001b[36m(pid=34234)\u001b[0m 2023-06-10 05:24:35.544935: W tensorflow/compiler/tf2tensorrt/utils/py_utils.cc:38] TF-TRT Warning: Could not find TensorRT\n"
          ]
        },
        {
          "output_type": "stream",
          "name": "stdout",
          "text": [
            "\u001b[2m\u001b[36m(launch_and_fit pid=34234)\u001b[0m [Client 5, round 3] fit, config: {'server_round': 3, 'local_epochs': 2}\n",
            "\u001b[2m\u001b[36m(launch_and_fit pid=34234)\u001b[0m Epoch 1: train loss 0.06617694348096848, accuracy 0.18688888888888888\n",
            "\u001b[2m\u001b[36m(launch_and_fit pid=34234)\u001b[0m Epoch 2: train loss 0.06047125905752182, accuracy 0.246\n"
          ]
        },
        {
          "output_type": "stream",
          "name": "stderr",
          "text": [
            "DEBUG flwr 2023-06-10 05:24:50,360 | server.py:232 | fit_round 3 received 3 results and 0 failures\n",
            "DEBUG:flwr:fit_round 3 received 3 results and 0 failures\n"
          ]
        },
        {
          "output_type": "stream",
          "name": "stdout",
          "text": [
            "Server-side evaluation loss 0.07208232350349426 / accuracy 0.1\n"
          ]
        },
        {
          "output_type": "stream",
          "name": "stderr",
          "text": [
            "INFO flwr 2023-06-10 05:25:07,063 | server.py:119 | fit progress: (3, 0.07208232355117798, {'accuracy': 0.1}, 255.5197473220005)\n",
            "INFO:flwr:fit progress: (3, 0.07208232355117798, {'accuracy': 0.1}, 255.5197473220005)\n",
            "DEBUG flwr 2023-06-10 05:25:07,069 | server.py:168 | evaluate_round 3: strategy sampled 3 clients (out of 10)\n",
            "DEBUG:flwr:evaluate_round 3: strategy sampled 3 clients (out of 10)\n"
          ]
        },
        {
          "output_type": "stream",
          "name": "stdout",
          "text": [
            "Server-side evaluation loss 0.07208232355117798 / accuracy 0.1\n"
          ]
        },
        {
          "output_type": "stream",
          "name": "stderr",
          "text": [
            "\u001b[2m\u001b[36m(pid=34441)\u001b[0m 2023-06-10 05:25:13.038056: W tensorflow/compiler/tf2tensorrt/utils/py_utils.cc:38] TF-TRT Warning: Could not find TensorRT\n"
          ]
        },
        {
          "output_type": "stream",
          "name": "stdout",
          "text": [
            "\u001b[2m\u001b[36m(launch_and_evaluate pid=34441)\u001b[0m [Client 5] evaluate, config: {}\n"
          ]
        },
        {
          "output_type": "stream",
          "name": "stderr",
          "text": [
            "\u001b[2m\u001b[36m(pid=34501)\u001b[0m 2023-06-10 05:25:21.094906: W tensorflow/compiler/tf2tensorrt/utils/py_utils.cc:38] TF-TRT Warning: Could not find TensorRT\n"
          ]
        },
        {
          "output_type": "stream",
          "name": "stdout",
          "text": [
            "\u001b[2m\u001b[36m(launch_and_evaluate pid=34501)\u001b[0m [Client 6] evaluate, config: {}\n"
          ]
        },
        {
          "output_type": "stream",
          "name": "stderr",
          "text": [
            "\u001b[2m\u001b[36m(pid=34570)\u001b[0m 2023-06-10 05:25:27.695720: W tensorflow/compiler/tf2tensorrt/utils/py_utils.cc:38] TF-TRT Warning: Could not find TensorRT\n"
          ]
        },
        {
          "output_type": "stream",
          "name": "stdout",
          "text": [
            "\u001b[2m\u001b[36m(launch_and_evaluate pid=34570)\u001b[0m [Client 9] evaluate, config: {}\n"
          ]
        },
        {
          "output_type": "stream",
          "name": "stderr",
          "text": [
            "DEBUG flwr 2023-06-10 05:25:32,073 | server.py:182 | evaluate_round 3 received 3 results and 0 failures\n",
            "DEBUG:flwr:evaluate_round 3 received 3 results and 0 failures\n",
            "DEBUG flwr 2023-06-10 05:25:32,131 | server.py:218 | fit_round 4: strategy sampled 3 clients (out of 10)\n",
            "DEBUG:flwr:fit_round 4: strategy sampled 3 clients (out of 10)\n",
            "\u001b[2m\u001b[36m(pid=34665)\u001b[0m 2023-06-10 05:25:40.525033: W tensorflow/compiler/tf2tensorrt/utils/py_utils.cc:38] TF-TRT Warning: Could not find TensorRT\n"
          ]
        },
        {
          "output_type": "stream",
          "name": "stdout",
          "text": [
            "\u001b[2m\u001b[36m(launch_and_fit pid=34665)\u001b[0m [Client 1, round 4] fit, config: {'server_round': 4, 'local_epochs': 2}\n",
            "\u001b[2m\u001b[36m(launch_and_fit pid=34665)\u001b[0m Epoch 1: train loss 0.0659574493765831, accuracy 0.19311111111111112\n",
            "\u001b[2m\u001b[36m(launch_and_fit pid=34665)\u001b[0m Epoch 2: train loss 0.05942397937178612, accuracy 0.25066666666666665\n"
          ]
        },
        {
          "output_type": "stream",
          "name": "stderr",
          "text": [
            "\u001b[2m\u001b[36m(pid=34774)\u001b[0m 2023-06-10 05:25:57.283096: W tensorflow/compiler/tf2tensorrt/utils/py_utils.cc:38] TF-TRT Warning: Could not find TensorRT\n"
          ]
        },
        {
          "output_type": "stream",
          "name": "stdout",
          "text": [
            "\u001b[2m\u001b[36m(launch_and_fit pid=34774)\u001b[0m [Client 5, round 4] fit, config: {'server_round': 4, 'local_epochs': 2}\n",
            "\u001b[2m\u001b[36m(launch_and_fit pid=34774)\u001b[0m Epoch 1: train loss 0.06602898240089417, accuracy 0.172\n",
            "\u001b[2m\u001b[36m(launch_and_fit pid=34774)\u001b[0m Epoch 2: train loss 0.057500340044498444, accuracy 0.27666666666666667\n"
          ]
        },
        {
          "output_type": "stream",
          "name": "stderr",
          "text": [
            "\u001b[2m\u001b[36m(pid=34881)\u001b[0m 2023-06-10 05:26:14.130923: W tensorflow/compiler/tf2tensorrt/utils/py_utils.cc:38] TF-TRT Warning: Could not find TensorRT\n"
          ]
        },
        {
          "output_type": "stream",
          "name": "stdout",
          "text": [
            "\u001b[2m\u001b[36m(launch_and_fit pid=34881)\u001b[0m [Client 4, round 4] fit, config: {'server_round': 4, 'local_epochs': 2}\n",
            "\u001b[2m\u001b[36m(launch_and_fit pid=34881)\u001b[0m Epoch 1: train loss 0.06534938514232635, accuracy 0.18333333333333332\n",
            "\u001b[2m\u001b[36m(launch_and_fit pid=34881)\u001b[0m Epoch 2: train loss 0.05838506296277046, accuracy 0.2628888888888889\n"
          ]
        },
        {
          "output_type": "stream",
          "name": "stderr",
          "text": [
            "DEBUG flwr 2023-06-10 05:26:28,986 | server.py:232 | fit_round 4 received 3 results and 0 failures\n",
            "DEBUG:flwr:fit_round 4 received 3 results and 0 failures\n"
          ]
        },
        {
          "output_type": "stream",
          "name": "stdout",
          "text": [
            "Server-side evaluation loss 0.07208232355117798 / accuracy 0.1\n"
          ]
        },
        {
          "output_type": "stream",
          "name": "stderr",
          "text": [
            "INFO flwr 2023-06-10 05:26:43,559 | server.py:119 | fit progress: (4, 0.07208232336044311, {'accuracy': 0.1}, 352.0158764130001)\n",
            "INFO:flwr:fit progress: (4, 0.07208232336044311, {'accuracy': 0.1}, 352.0158764130001)\n",
            "DEBUG flwr 2023-06-10 05:26:43,563 | server.py:168 | evaluate_round 4: strategy sampled 3 clients (out of 10)\n",
            "DEBUG:flwr:evaluate_round 4: strategy sampled 3 clients (out of 10)\n"
          ]
        },
        {
          "output_type": "stream",
          "name": "stdout",
          "text": [
            "Server-side evaluation loss 0.07208232336044311 / accuracy 0.1\n"
          ]
        },
        {
          "output_type": "stream",
          "name": "stderr",
          "text": [
            "\u001b[2m\u001b[36m(pid=35075)\u001b[0m 2023-06-10 05:26:50.257925: W tensorflow/compiler/tf2tensorrt/utils/py_utils.cc:38] TF-TRT Warning: Could not find TensorRT\n"
          ]
        },
        {
          "output_type": "stream",
          "name": "stdout",
          "text": [
            "\u001b[2m\u001b[36m(launch_and_evaluate pid=35075)\u001b[0m [Client 2] evaluate, config: {}\n"
          ]
        },
        {
          "output_type": "stream",
          "name": "stderr",
          "text": [
            "\u001b[2m\u001b[36m(pid=35144)\u001b[0m 2023-06-10 05:26:58.223659: W tensorflow/compiler/tf2tensorrt/utils/py_utils.cc:38] TF-TRT Warning: Could not find TensorRT\n"
          ]
        },
        {
          "output_type": "stream",
          "name": "stdout",
          "text": [
            "\u001b[2m\u001b[36m(launch_and_evaluate pid=35144)\u001b[0m [Client 9] evaluate, config: {}\n"
          ]
        },
        {
          "output_type": "stream",
          "name": "stderr",
          "text": [
            "\u001b[2m\u001b[36m(pid=35210)\u001b[0m 2023-06-10 05:27:04.647440: W tensorflow/compiler/tf2tensorrt/utils/py_utils.cc:38] TF-TRT Warning: Could not find TensorRT\n"
          ]
        },
        {
          "output_type": "stream",
          "name": "stdout",
          "text": [
            "\u001b[2m\u001b[36m(launch_and_evaluate pid=35210)\u001b[0m [Client 6] evaluate, config: {}\n"
          ]
        },
        {
          "output_type": "stream",
          "name": "stderr",
          "text": [
            "DEBUG flwr 2023-06-10 05:27:11,045 | server.py:182 | evaluate_round 4 received 3 results and 0 failures\n",
            "DEBUG:flwr:evaluate_round 4 received 3 results and 0 failures\n",
            "DEBUG flwr 2023-06-10 05:27:11,105 | server.py:218 | fit_round 5: strategy sampled 3 clients (out of 10)\n",
            "DEBUG:flwr:fit_round 5: strategy sampled 3 clients (out of 10)\n",
            "\u001b[2m\u001b[36m(pid=35299)\u001b[0m 2023-06-10 05:27:17.194685: W tensorflow/compiler/tf2tensorrt/utils/py_utils.cc:38] TF-TRT Warning: Could not find TensorRT\n"
          ]
        },
        {
          "output_type": "stream",
          "name": "stdout",
          "text": [
            "\u001b[2m\u001b[36m(launch_and_fit pid=35299)\u001b[0m [Client 0, round 5] fit, config: {'server_round': 5, 'local_epochs': 2}\n",
            "\u001b[2m\u001b[36m(launch_and_fit pid=35299)\u001b[0m Epoch 1: train loss 0.06542640924453735, accuracy 0.18222222222222223\n",
            "\u001b[2m\u001b[36m(launch_and_fit pid=35299)\u001b[0m Epoch 2: train loss 0.06040088087320328, accuracy 0.23355555555555554\n"
          ]
        },
        {
          "output_type": "stream",
          "name": "stderr",
          "text": [
            "\u001b[2m\u001b[36m(pid=35410)\u001b[0m 2023-06-10 05:27:34.443273: W tensorflow/compiler/tf2tensorrt/utils/py_utils.cc:38] TF-TRT Warning: Could not find TensorRT\n"
          ]
        },
        {
          "output_type": "stream",
          "name": "stdout",
          "text": [
            "\u001b[2m\u001b[36m(launch_and_fit pid=35410)\u001b[0m [Client 2, round 5] fit, config: {'server_round': 5, 'local_epochs': 2}\n",
            "\u001b[2m\u001b[36m(launch_and_fit pid=35410)\u001b[0m Epoch 1: train loss 0.06417252868413925, accuracy 0.2011111111111111\n",
            "\u001b[2m\u001b[36m(launch_and_fit pid=35410)\u001b[0m Epoch 2: train loss 0.05752509459853172, accuracy 0.29044444444444445\n"
          ]
        },
        {
          "output_type": "stream",
          "name": "stderr",
          "text": [
            "\u001b[2m\u001b[36m(pid=35528)\u001b[0m 2023-06-10 05:27:55.797156: W tensorflow/compiler/tf2tensorrt/utils/py_utils.cc:38] TF-TRT Warning: Could not find TensorRT\n"
          ]
        },
        {
          "output_type": "stream",
          "name": "stdout",
          "text": [
            "\u001b[2m\u001b[36m(launch_and_fit pid=35528)\u001b[0m [Client 3, round 5] fit, config: {'server_round': 5, 'local_epochs': 2}\n",
            "\u001b[2m\u001b[36m(launch_and_fit pid=35528)\u001b[0m Epoch 1: train loss 0.0653722733259201, accuracy 0.20133333333333334\n",
            "\u001b[2m\u001b[36m(launch_and_fit pid=35528)\u001b[0m Epoch 2: train loss 0.057973720133304596, accuracy 0.2773333333333333\n"
          ]
        },
        {
          "output_type": "stream",
          "name": "stderr",
          "text": [
            "DEBUG flwr 2023-06-10 05:28:11,986 | server.py:232 | fit_round 5 received 3 results and 0 failures\n",
            "DEBUG:flwr:fit_round 5 received 3 results and 0 failures\n"
          ]
        },
        {
          "output_type": "stream",
          "name": "stdout",
          "text": [
            "Server-side evaluation loss 0.07208232336044311 / accuracy 0.1\n"
          ]
        },
        {
          "output_type": "stream",
          "name": "stderr",
          "text": [
            "INFO flwr 2023-06-10 05:28:26,968 | server.py:119 | fit progress: (5, 0.07208232378959656, {'accuracy': 0.1}, 455.4247957010002)\n",
            "INFO:flwr:fit progress: (5, 0.07208232378959656, {'accuracy': 0.1}, 455.4247957010002)\n",
            "DEBUG flwr 2023-06-10 05:28:26,974 | server.py:168 | evaluate_round 5: strategy sampled 3 clients (out of 10)\n",
            "DEBUG:flwr:evaluate_round 5: strategy sampled 3 clients (out of 10)\n"
          ]
        },
        {
          "output_type": "stream",
          "name": "stdout",
          "text": [
            "Server-side evaluation loss 0.07208232378959656 / accuracy 0.1\n"
          ]
        },
        {
          "output_type": "stream",
          "name": "stderr",
          "text": [
            "\u001b[2m\u001b[36m(pid=35745)\u001b[0m 2023-06-10 05:28:34.495367: W tensorflow/compiler/tf2tensorrt/utils/py_utils.cc:38] TF-TRT Warning: Could not find TensorRT\n"
          ]
        },
        {
          "output_type": "stream",
          "name": "stdout",
          "text": [
            "\u001b[2m\u001b[36m(launch_and_evaluate pid=35745)\u001b[0m [Client 9] evaluate, config: {}\n"
          ]
        },
        {
          "output_type": "stream",
          "name": "stderr",
          "text": [
            "\u001b[2m\u001b[36m(pid=35806)\u001b[0m 2023-06-10 05:28:41.161265: W tensorflow/compiler/tf2tensorrt/utils/py_utils.cc:38] TF-TRT Warning: Could not find TensorRT\n"
          ]
        },
        {
          "output_type": "stream",
          "name": "stdout",
          "text": [
            "\u001b[2m\u001b[36m(launch_and_evaluate pid=35806)\u001b[0m [Client 6] evaluate, config: {}\n"
          ]
        },
        {
          "output_type": "stream",
          "name": "stderr",
          "text": [
            "\u001b[2m\u001b[36m(pid=35878)\u001b[0m 2023-06-10 05:28:49.304512: W tensorflow/compiler/tf2tensorrt/utils/py_utils.cc:38] TF-TRT Warning: Could not find TensorRT\n"
          ]
        },
        {
          "output_type": "stream",
          "name": "stdout",
          "text": [
            "\u001b[2m\u001b[36m(launch_and_evaluate pid=35878)\u001b[0m [Client 8] evaluate, config: {}\n"
          ]
        },
        {
          "output_type": "stream",
          "name": "stderr",
          "text": [
            "DEBUG flwr 2023-06-10 05:28:53,645 | server.py:182 | evaluate_round 5 received 3 results and 0 failures\n",
            "DEBUG:flwr:evaluate_round 5 received 3 results and 0 failures\n",
            "DEBUG flwr 2023-06-10 05:28:53,706 | server.py:218 | fit_round 6: strategy sampled 3 clients (out of 10)\n",
            "DEBUG:flwr:fit_round 6: strategy sampled 3 clients (out of 10)\n",
            "\u001b[2m\u001b[36m(pid=35967)\u001b[0m 2023-06-10 05:29:02.425335: W tensorflow/compiler/tf2tensorrt/utils/py_utils.cc:38] TF-TRT Warning: Could not find TensorRT\n"
          ]
        },
        {
          "output_type": "stream",
          "name": "stdout",
          "text": [
            "\u001b[2m\u001b[36m(launch_and_fit pid=35967)\u001b[0m [Client 0, round 6] fit, config: {'server_round': 6, 'local_epochs': 2}\n",
            "\u001b[2m\u001b[36m(launch_and_fit pid=35967)\u001b[0m Epoch 1: train loss 0.06624986231327057, accuracy 0.184\n",
            "\u001b[2m\u001b[36m(launch_and_fit pid=35967)\u001b[0m Epoch 2: train loss 0.059979166835546494, accuracy 0.2613333333333333\n"
          ]
        },
        {
          "output_type": "stream",
          "name": "stderr",
          "text": [
            "\u001b[2m\u001b[36m(pid=36078)\u001b[0m 2023-06-10 05:29:18.799840: W tensorflow/compiler/tf2tensorrt/utils/py_utils.cc:38] TF-TRT Warning: Could not find TensorRT\n"
          ]
        },
        {
          "output_type": "stream",
          "name": "stdout",
          "text": [
            "\u001b[2m\u001b[36m(launch_and_fit pid=36078)\u001b[0m [Client 8, round 6] fit, config: {'server_round': 6, 'local_epochs': 2}\n",
            "\u001b[2m\u001b[36m(launch_and_fit pid=36078)\u001b[0m Epoch 1: train loss 0.06435547024011612, accuracy 0.20822222222222223\n",
            "\u001b[2m\u001b[36m(launch_and_fit pid=36078)\u001b[0m Epoch 2: train loss 0.05780617892742157, accuracy 0.29355555555555557\n"
          ]
        },
        {
          "output_type": "stream",
          "name": "stderr",
          "text": [
            "\u001b[2m\u001b[36m(pid=36189)\u001b[0m 2023-06-10 05:29:35.716796: W tensorflow/compiler/tf2tensorrt/utils/py_utils.cc:38] TF-TRT Warning: Could not find TensorRT\n"
          ]
        },
        {
          "output_type": "stream",
          "name": "stdout",
          "text": [
            "\u001b[2m\u001b[36m(launch_and_fit pid=36189)\u001b[0m [Client 5, round 6] fit, config: {'server_round': 6, 'local_epochs': 2}\n",
            "\u001b[2m\u001b[36m(launch_and_fit pid=36189)\u001b[0m Epoch 1: train loss 0.06629284471273422, accuracy 0.19133333333333333\n"
          ]
        },
        {
          "output_type": "stream",
          "name": "stderr",
          "text": [
            "DEBUG flwr 2023-06-10 05:29:50,730 | server.py:232 | fit_round 6 received 3 results and 0 failures\n",
            "DEBUG:flwr:fit_round 6 received 3 results and 0 failures\n"
          ]
        },
        {
          "output_type": "stream",
          "name": "stdout",
          "text": [
            "\u001b[2m\u001b[36m(launch_and_fit pid=36189)\u001b[0m Epoch 2: train loss 0.058192119002342224, accuracy 0.288\n",
            "Server-side evaluation loss 0.07208232378959656 / accuracy 0.1\n"
          ]
        },
        {
          "output_type": "stream",
          "name": "stderr",
          "text": [
            "INFO flwr 2023-06-10 05:30:05,219 | server.py:119 | fit progress: (6, 0.0720823239326477, {'accuracy': 0.1}, 553.6760639129998)\n",
            "INFO:flwr:fit progress: (6, 0.0720823239326477, {'accuracy': 0.1}, 553.6760639129998)\n",
            "DEBUG flwr 2023-06-10 05:30:05,224 | server.py:168 | evaluate_round 6: strategy sampled 3 clients (out of 10)\n",
            "DEBUG:flwr:evaluate_round 6: strategy sampled 3 clients (out of 10)\n"
          ]
        },
        {
          "output_type": "stream",
          "name": "stdout",
          "text": [
            "Server-side evaluation loss 0.0720823239326477 / accuracy 0.1\n"
          ]
        },
        {
          "output_type": "stream",
          "name": "stderr",
          "text": [
            "\u001b[2m\u001b[36m(pid=36380)\u001b[0m 2023-06-10 05:30:11.358835: W tensorflow/compiler/tf2tensorrt/utils/py_utils.cc:38] TF-TRT Warning: Could not find TensorRT\n"
          ]
        },
        {
          "output_type": "stream",
          "name": "stdout",
          "text": [
            "\u001b[2m\u001b[36m(launch_and_evaluate pid=36380)\u001b[0m [Client 0] evaluate, config: {}\n"
          ]
        },
        {
          "output_type": "stream",
          "name": "stderr",
          "text": [
            "\u001b[2m\u001b[36m(pid=36452)\u001b[0m 2023-06-10 05:30:19.911610: W tensorflow/compiler/tf2tensorrt/utils/py_utils.cc:38] TF-TRT Warning: Could not find TensorRT\n"
          ]
        },
        {
          "output_type": "stream",
          "name": "stdout",
          "text": [
            "\u001b[2m\u001b[36m(launch_and_evaluate pid=36452)\u001b[0m [Client 1] evaluate, config: {}\n"
          ]
        },
        {
          "output_type": "stream",
          "name": "stderr",
          "text": [
            "\u001b[2m\u001b[36m(pid=36513)\u001b[0m 2023-06-10 05:30:26.242919: W tensorflow/compiler/tf2tensorrt/utils/py_utils.cc:38] TF-TRT Warning: Could not find TensorRT\n"
          ]
        },
        {
          "output_type": "stream",
          "name": "stdout",
          "text": [
            "\u001b[2m\u001b[36m(launch_and_evaluate pid=36513)\u001b[0m [Client 9] evaluate, config: {}\n"
          ]
        },
        {
          "output_type": "stream",
          "name": "stderr",
          "text": [
            "DEBUG flwr 2023-06-10 05:30:32,229 | server.py:182 | evaluate_round 6 received 3 results and 0 failures\n",
            "DEBUG:flwr:evaluate_round 6 received 3 results and 0 failures\n",
            "DEBUG flwr 2023-06-10 05:30:32,309 | server.py:218 | fit_round 7: strategy sampled 3 clients (out of 10)\n",
            "DEBUG:flwr:fit_round 7: strategy sampled 3 clients (out of 10)\n",
            "\u001b[2m\u001b[36m(pid=36607)\u001b[0m 2023-06-10 05:30:38.514337: W tensorflow/compiler/tf2tensorrt/utils/py_utils.cc:38] TF-TRT Warning: Could not find TensorRT\n"
          ]
        },
        {
          "output_type": "stream",
          "name": "stdout",
          "text": [
            "\u001b[2m\u001b[36m(launch_and_fit pid=36607)\u001b[0m [Client 9, round 7] fit, config: {'server_round': 7, 'local_epochs': 2}\n",
            "\u001b[2m\u001b[36m(launch_and_fit pid=36607)\u001b[0m Epoch 1: train loss 0.06542094796895981, accuracy 0.17155555555555554\n",
            "\u001b[2m\u001b[36m(launch_and_fit pid=36607)\u001b[0m Epoch 2: train loss 0.060101039707660675, accuracy 0.2588888888888889\n"
          ]
        },
        {
          "output_type": "stream",
          "name": "stderr",
          "text": [
            "\u001b[2m\u001b[36m(pid=36727)\u001b[0m 2023-06-10 05:30:57.706206: W tensorflow/compiler/tf2tensorrt/utils/py_utils.cc:38] TF-TRT Warning: Could not find TensorRT\n"
          ]
        },
        {
          "output_type": "stream",
          "name": "stdout",
          "text": [
            "\u001b[2m\u001b[36m(launch_and_fit pid=36727)\u001b[0m [Client 0, round 7] fit, config: {'server_round': 7, 'local_epochs': 2}\n",
            "\u001b[2m\u001b[36m(launch_and_fit pid=36727)\u001b[0m Epoch 1: train loss 0.06582561135292053, accuracy 0.186\n",
            "\u001b[2m\u001b[36m(launch_and_fit pid=36727)\u001b[0m Epoch 2: train loss 0.05923113226890564, accuracy 0.2611111111111111\n"
          ]
        },
        {
          "output_type": "stream",
          "name": "stderr",
          "text": [
            "\u001b[2m\u001b[36m(pid=36840)\u001b[0m 2023-06-10 05:31:15.150626: W tensorflow/compiler/tf2tensorrt/utils/py_utils.cc:38] TF-TRT Warning: Could not find TensorRT\n"
          ]
        },
        {
          "output_type": "stream",
          "name": "stdout",
          "text": [
            "\u001b[2m\u001b[36m(launch_and_fit pid=36840)\u001b[0m [Client 2, round 7] fit, config: {'server_round': 7, 'local_epochs': 2}\n",
            "\u001b[2m\u001b[36m(launch_and_fit pid=36840)\u001b[0m Epoch 1: train loss 0.0668209046125412, accuracy 0.17733333333333334\n"
          ]
        },
        {
          "output_type": "stream",
          "name": "stderr",
          "text": [
            "DEBUG flwr 2023-06-10 05:31:31,333 | server.py:232 | fit_round 7 received 3 results and 0 failures\n",
            "DEBUG:flwr:fit_round 7 received 3 results and 0 failures\n"
          ]
        },
        {
          "output_type": "stream",
          "name": "stdout",
          "text": [
            "\u001b[2m\u001b[36m(launch_and_fit pid=36840)\u001b[0m Epoch 2: train loss 0.06306824088096619, accuracy 0.21822222222222223\n",
            "Server-side evaluation loss 0.0720823239326477 / accuracy 0.1\n"
          ]
        },
        {
          "output_type": "stream",
          "name": "stderr",
          "text": [
            "INFO flwr 2023-06-10 05:31:47,125 | server.py:119 | fit progress: (7, 0.0720823246717453, {'accuracy': 0.1}, 655.5823285200004)\n",
            "INFO:flwr:fit progress: (7, 0.0720823246717453, {'accuracy': 0.1}, 655.5823285200004)\n",
            "DEBUG flwr 2023-06-10 05:31:47,139 | server.py:168 | evaluate_round 7: strategy sampled 3 clients (out of 10)\n",
            "DEBUG:flwr:evaluate_round 7: strategy sampled 3 clients (out of 10)\n"
          ]
        },
        {
          "output_type": "stream",
          "name": "stdout",
          "text": [
            "Server-side evaluation loss 0.0720823246717453 / accuracy 0.1\n"
          ]
        },
        {
          "output_type": "stream",
          "name": "stderr",
          "text": [
            "\u001b[2m\u001b[36m(pid=37060)\u001b[0m 2023-06-10 05:31:55.419801: W tensorflow/compiler/tf2tensorrt/utils/py_utils.cc:38] TF-TRT Warning: Could not find TensorRT\n"
          ]
        },
        {
          "output_type": "stream",
          "name": "stdout",
          "text": [
            "\u001b[2m\u001b[36m(launch_and_evaluate pid=37060)\u001b[0m [Client 8] evaluate, config: {}\n"
          ]
        },
        {
          "output_type": "stream",
          "name": "stderr",
          "text": [
            "\u001b[2m\u001b[36m(pid=37121)\u001b[0m 2023-06-10 05:32:01.677518: W tensorflow/compiler/tf2tensorrt/utils/py_utils.cc:38] TF-TRT Warning: Could not find TensorRT\n"
          ]
        },
        {
          "output_type": "stream",
          "name": "stdout",
          "text": [
            "\u001b[2m\u001b[36m(launch_and_evaluate pid=37121)\u001b[0m [Client 7] evaluate, config: {}\n"
          ]
        },
        {
          "output_type": "stream",
          "name": "stderr",
          "text": [
            "\u001b[2m\u001b[36m(pid=37197)\u001b[0m 2023-06-10 05:32:10.078253: W tensorflow/compiler/tf2tensorrt/utils/py_utils.cc:38] TF-TRT Warning: Could not find TensorRT\n"
          ]
        },
        {
          "output_type": "stream",
          "name": "stdout",
          "text": [
            "\u001b[2m\u001b[36m(launch_and_evaluate pid=37197)\u001b[0m [Client 0] evaluate, config: {}\n"
          ]
        },
        {
          "output_type": "stream",
          "name": "stderr",
          "text": [
            "DEBUG flwr 2023-06-10 05:32:14,402 | server.py:182 | evaluate_round 7 received 3 results and 0 failures\n",
            "DEBUG:flwr:evaluate_round 7 received 3 results and 0 failures\n",
            "DEBUG flwr 2023-06-10 05:32:14,468 | server.py:218 | fit_round 8: strategy sampled 3 clients (out of 10)\n",
            "DEBUG:flwr:fit_round 8: strategy sampled 3 clients (out of 10)\n",
            "\u001b[2m\u001b[36m(pid=37279)\u001b[0m 2023-06-10 05:32:22.819077: W tensorflow/compiler/tf2tensorrt/utils/py_utils.cc:38] TF-TRT Warning: Could not find TensorRT\n"
          ]
        },
        {
          "output_type": "stream",
          "name": "stdout",
          "text": [
            "\u001b[2m\u001b[36m(launch_and_fit pid=37279)\u001b[0m [Client 2, round 8] fit, config: {'server_round': 8, 'local_epochs': 2}\n",
            "\u001b[2m\u001b[36m(launch_and_fit pid=37279)\u001b[0m Epoch 1: train loss 0.06547441333532333, accuracy 0.19266666666666668\n",
            "\u001b[2m\u001b[36m(launch_and_fit pid=37279)\u001b[0m Epoch 2: train loss 0.05927007272839546, accuracy 0.2762222222222222\n"
          ]
        },
        {
          "output_type": "stream",
          "name": "stderr",
          "text": [
            "\u001b[2m\u001b[36m(pid=37403)\u001b[0m 2023-06-10 05:32:40.169675: W tensorflow/compiler/tf2tensorrt/utils/py_utils.cc:38] TF-TRT Warning: Could not find TensorRT\n"
          ]
        },
        {
          "output_type": "stream",
          "name": "stdout",
          "text": [
            "\u001b[2m\u001b[36m(launch_and_fit pid=37403)\u001b[0m [Client 7, round 8] fit, config: {'server_round': 8, 'local_epochs': 2}\n",
            "\u001b[2m\u001b[36m(launch_and_fit pid=37403)\u001b[0m Epoch 1: train loss 0.06454815715551376, accuracy 0.21533333333333332\n",
            "\u001b[2m\u001b[36m(launch_and_fit pid=37403)\u001b[0m Epoch 2: train loss 0.05631493777036667, accuracy 0.2922222222222222\n"
          ]
        },
        {
          "output_type": "stream",
          "name": "stderr",
          "text": [
            "\u001b[2m\u001b[36m(pid=37517)\u001b[0m 2023-06-10 05:32:57.197827: W tensorflow/compiler/tf2tensorrt/utils/py_utils.cc:38] TF-TRT Warning: Could not find TensorRT\n"
          ]
        },
        {
          "output_type": "stream",
          "name": "stdout",
          "text": [
            "\u001b[2m\u001b[36m(launch_and_fit pid=37517)\u001b[0m [Client 3, round 8] fit, config: {'server_round': 8, 'local_epochs': 2}\n",
            "\u001b[2m\u001b[36m(launch_and_fit pid=37517)\u001b[0m Epoch 1: train loss 0.06427356600761414, accuracy 0.21\n"
          ]
        },
        {
          "output_type": "stream",
          "name": "stderr",
          "text": [
            "DEBUG flwr 2023-06-10 05:33:12,303 | server.py:232 | fit_round 8 received 3 results and 0 failures\n",
            "DEBUG:flwr:fit_round 8 received 3 results and 0 failures\n"
          ]
        },
        {
          "output_type": "stream",
          "name": "stdout",
          "text": [
            "\u001b[2m\u001b[36m(launch_and_fit pid=37517)\u001b[0m Epoch 2: train loss 0.05698469281196594, accuracy 0.28644444444444445\n",
            "Server-side evaluation loss 0.0720823246717453 / accuracy 0.1\n"
          ]
        },
        {
          "output_type": "stream",
          "name": "stderr",
          "text": [
            "INFO flwr 2023-06-10 05:33:27,405 | server.py:119 | fit progress: (8, 0.07208232464790344, {'accuracy': 0.1}, 755.8621578940001)\n",
            "INFO:flwr:fit progress: (8, 0.07208232464790344, {'accuracy': 0.1}, 755.8621578940001)\n",
            "DEBUG flwr 2023-06-10 05:33:27,409 | server.py:168 | evaluate_round 8: strategy sampled 3 clients (out of 10)\n",
            "DEBUG:flwr:evaluate_round 8: strategy sampled 3 clients (out of 10)\n"
          ]
        },
        {
          "output_type": "stream",
          "name": "stdout",
          "text": [
            "Server-side evaluation loss 0.07208232464790344 / accuracy 0.1\n"
          ]
        },
        {
          "output_type": "stream",
          "name": "stderr",
          "text": [
            "\u001b[2m\u001b[36m(pid=37721)\u001b[0m 2023-06-10 05:33:33.502159: W tensorflow/compiler/tf2tensorrt/utils/py_utils.cc:38] TF-TRT Warning: Could not find TensorRT\n"
          ]
        },
        {
          "output_type": "stream",
          "name": "stdout",
          "text": [
            "\u001b[2m\u001b[36m(launch_and_evaluate pid=37721)\u001b[0m [Client 9] evaluate, config: {}\n"
          ]
        },
        {
          "output_type": "stream",
          "name": "stderr",
          "text": [
            "\u001b[2m\u001b[36m(pid=37794)\u001b[0m 2023-06-10 05:33:43.972626: W tensorflow/compiler/tf2tensorrt/utils/py_utils.cc:38] TF-TRT Warning: Could not find TensorRT\n"
          ]
        },
        {
          "output_type": "stream",
          "name": "stdout",
          "text": [
            "\u001b[2m\u001b[36m(launch_and_evaluate pid=37794)\u001b[0m [Client 2] evaluate, config: {}\n"
          ]
        },
        {
          "output_type": "stream",
          "name": "stderr",
          "text": [
            "\u001b[2m\u001b[36m(pid=37868)\u001b[0m 2023-06-10 05:33:51.717265: W tensorflow/compiler/tf2tensorrt/utils/py_utils.cc:38] TF-TRT Warning: Could not find TensorRT\n"
          ]
        },
        {
          "output_type": "stream",
          "name": "stdout",
          "text": [
            "\u001b[2m\u001b[36m(launch_and_evaluate pid=37868)\u001b[0m [Client 3] evaluate, config: {}\n"
          ]
        },
        {
          "output_type": "stream",
          "name": "stderr",
          "text": [
            "DEBUG flwr 2023-06-10 05:33:57,640 | server.py:182 | evaluate_round 8 received 3 results and 0 failures\n",
            "DEBUG:flwr:evaluate_round 8 received 3 results and 0 failures\n",
            "DEBUG flwr 2023-06-10 05:33:57,705 | server.py:218 | fit_round 9: strategy sampled 3 clients (out of 10)\n",
            "DEBUG:flwr:fit_round 9: strategy sampled 3 clients (out of 10)\n",
            "\u001b[2m\u001b[36m(pid=37963)\u001b[0m 2023-06-10 05:34:03.697285: W tensorflow/compiler/tf2tensorrt/utils/py_utils.cc:38] TF-TRT Warning: Could not find TensorRT\n"
          ]
        },
        {
          "output_type": "stream",
          "name": "stdout",
          "text": [
            "\u001b[2m\u001b[36m(launch_and_fit pid=37963)\u001b[0m [Client 7, round 9] fit, config: {'server_round': 9, 'local_epochs': 2}\n",
            "\u001b[2m\u001b[36m(launch_and_fit pid=37963)\u001b[0m Epoch 1: train loss 0.0660993680357933, accuracy 0.20377777777777778\n",
            "\u001b[2m\u001b[36m(launch_and_fit pid=37963)\u001b[0m Epoch 2: train loss 0.057175640016794205, accuracy 0.29088888888888886\n"
          ]
        },
        {
          "output_type": "stream",
          "name": "stderr",
          "text": [
            "\u001b[2m\u001b[36m(pid=38079)\u001b[0m 2023-06-10 05:34:22.059119: W tensorflow/compiler/tf2tensorrt/utils/py_utils.cc:38] TF-TRT Warning: Could not find TensorRT\n"
          ]
        },
        {
          "output_type": "stream",
          "name": "stdout",
          "text": [
            "\u001b[2m\u001b[36m(launch_and_fit pid=38079)\u001b[0m [Client 2, round 9] fit, config: {'server_round': 9, 'local_epochs': 2}\n",
            "\u001b[2m\u001b[36m(launch_and_fit pid=38079)\u001b[0m Epoch 1: train loss 0.06625300645828247, accuracy 0.18066666666666667\n",
            "\u001b[2m\u001b[36m(launch_and_fit pid=38079)\u001b[0m Epoch 2: train loss 0.05984744802117348, accuracy 0.258\n"
          ]
        },
        {
          "output_type": "stream",
          "name": "stderr",
          "text": [
            "\u001b[2m\u001b[36m(pid=38200)\u001b[0m 2023-06-10 05:34:42.253438: W tensorflow/compiler/tf2tensorrt/utils/py_utils.cc:38] TF-TRT Warning: Could not find TensorRT\n"
          ]
        },
        {
          "output_type": "stream",
          "name": "stdout",
          "text": [
            "\u001b[2m\u001b[36m(launch_and_fit pid=38200)\u001b[0m [Client 6, round 9] fit, config: {'server_round': 9, 'local_epochs': 2}\n",
            "\u001b[2m\u001b[36m(launch_and_fit pid=38200)\u001b[0m Epoch 1: train loss 0.06657491624355316, accuracy 0.18355555555555556\n"
          ]
        },
        {
          "output_type": "stream",
          "name": "stderr",
          "text": [
            "DEBUG flwr 2023-06-10 05:34:57,129 | server.py:232 | fit_round 9 received 3 results and 0 failures\n",
            "DEBUG:flwr:fit_round 9 received 3 results and 0 failures\n"
          ]
        },
        {
          "output_type": "stream",
          "name": "stdout",
          "text": [
            "\u001b[2m\u001b[36m(launch_and_fit pid=38200)\u001b[0m Epoch 2: train loss 0.05916443467140198, accuracy 0.24822222222222223\n",
            "Server-side evaluation loss 0.07208232464790344 / accuracy 0.1\n"
          ]
        },
        {
          "output_type": "stream",
          "name": "stderr",
          "text": [
            "INFO flwr 2023-06-10 05:35:11,498 | server.py:119 | fit progress: (9, 0.0720823251247406, {'accuracy': 0.1}, 859.9548089930004)\n",
            "INFO:flwr:fit progress: (9, 0.0720823251247406, {'accuracy': 0.1}, 859.9548089930004)\n",
            "DEBUG flwr 2023-06-10 05:35:11,507 | server.py:168 | evaluate_round 9: strategy sampled 3 clients (out of 10)\n",
            "DEBUG:flwr:evaluate_round 9: strategy sampled 3 clients (out of 10)\n"
          ]
        },
        {
          "output_type": "stream",
          "name": "stdout",
          "text": [
            "Server-side evaluation loss 0.0720823251247406 / accuracy 0.1\n"
          ]
        },
        {
          "output_type": "stream",
          "name": "stderr",
          "text": [
            "\u001b[2m\u001b[36m(pid=38412)\u001b[0m 2023-06-10 05:35:18.052929: W tensorflow/compiler/tf2tensorrt/utils/py_utils.cc:38] TF-TRT Warning: Could not find TensorRT\n"
          ]
        },
        {
          "output_type": "stream",
          "name": "stdout",
          "text": [
            "\u001b[2m\u001b[36m(launch_and_evaluate pid=38412)\u001b[0m [Client 3] evaluate, config: {}\n"
          ]
        },
        {
          "output_type": "stream",
          "name": "stderr",
          "text": [
            "\u001b[2m\u001b[36m(pid=38474)\u001b[0m 2023-06-10 05:35:26.682075: W tensorflow/compiler/tf2tensorrt/utils/py_utils.cc:38] TF-TRT Warning: Could not find TensorRT\n"
          ]
        },
        {
          "output_type": "stream",
          "name": "stdout",
          "text": [
            "\u001b[2m\u001b[36m(launch_and_evaluate pid=38474)\u001b[0m [Client 6] evaluate, config: {}\n"
          ]
        },
        {
          "output_type": "stream",
          "name": "stderr",
          "text": [
            "\u001b[2m\u001b[36m(pid=38547)\u001b[0m 2023-06-10 05:35:33.414203: W tensorflow/compiler/tf2tensorrt/utils/py_utils.cc:38] TF-TRT Warning: Could not find TensorRT\n"
          ]
        },
        {
          "output_type": "stream",
          "name": "stdout",
          "text": [
            "\u001b[2m\u001b[36m(launch_and_evaluate pid=38547)\u001b[0m [Client 1] evaluate, config: {}\n"
          ]
        },
        {
          "output_type": "stream",
          "name": "stderr",
          "text": [
            "DEBUG flwr 2023-06-10 05:35:37,908 | server.py:182 | evaluate_round 9 received 3 results and 0 failures\n",
            "DEBUG:flwr:evaluate_round 9 received 3 results and 0 failures\n",
            "DEBUG flwr 2023-06-10 05:35:37,977 | server.py:218 | fit_round 10: strategy sampled 3 clients (out of 10)\n",
            "DEBUG:flwr:fit_round 10: strategy sampled 3 clients (out of 10)\n",
            "\u001b[2m\u001b[36m(pid=38643)\u001b[0m 2023-06-10 05:35:46.490041: W tensorflow/compiler/tf2tensorrt/utils/py_utils.cc:38] TF-TRT Warning: Could not find TensorRT\n"
          ]
        },
        {
          "output_type": "stream",
          "name": "stdout",
          "text": [
            "\u001b[2m\u001b[36m(launch_and_fit pid=38643)\u001b[0m [Client 8, round 10] fit, config: {'server_round': 10, 'local_epochs': 2}\n",
            "\u001b[2m\u001b[36m(launch_and_fit pid=38643)\u001b[0m Epoch 1: train loss 0.06535694003105164, accuracy 0.19355555555555556\n",
            "\u001b[2m\u001b[36m(launch_and_fit pid=38643)\u001b[0m Epoch 2: train loss 0.06060831621289253, accuracy 0.24155555555555555\n"
          ]
        },
        {
          "output_type": "stream",
          "name": "stderr",
          "text": [
            "\u001b[2m\u001b[36m(pid=38753)\u001b[0m 2023-06-10 05:36:03.448330: W tensorflow/compiler/tf2tensorrt/utils/py_utils.cc:38] TF-TRT Warning: Could not find TensorRT\n"
          ]
        },
        {
          "output_type": "stream",
          "name": "stdout",
          "text": [
            "\u001b[2m\u001b[36m(launch_and_fit pid=38753)\u001b[0m [Client 7, round 10] fit, config: {'server_round': 10, 'local_epochs': 2}\n",
            "\u001b[2m\u001b[36m(launch_and_fit pid=38753)\u001b[0m Epoch 1: train loss 0.06671017408370972, accuracy 0.20355555555555555\n",
            "\u001b[2m\u001b[36m(launch_and_fit pid=38753)\u001b[0m Epoch 2: train loss 0.05706376954913139, accuracy 0.294\n"
          ]
        },
        {
          "output_type": "stream",
          "name": "stderr",
          "text": [
            "\u001b[2m\u001b[36m(pid=38864)\u001b[0m 2023-06-10 05:36:20.742190: W tensorflow/compiler/tf2tensorrt/utils/py_utils.cc:38] TF-TRT Warning: Could not find TensorRT\n"
          ]
        },
        {
          "output_type": "stream",
          "name": "stdout",
          "text": [
            "\u001b[2m\u001b[36m(launch_and_fit pid=38864)\u001b[0m [Client 3, round 10] fit, config: {'server_round': 10, 'local_epochs': 2}\n",
            "\u001b[2m\u001b[36m(launch_and_fit pid=38864)\u001b[0m Epoch 1: train loss 0.0655149444937706, accuracy 0.18044444444444444\n",
            "\u001b[2m\u001b[36m(launch_and_fit pid=38864)\u001b[0m Epoch 2: train loss 0.060776226222515106, accuracy 0.22577777777777777\n"
          ]
        },
        {
          "output_type": "stream",
          "name": "stderr",
          "text": [
            "DEBUG flwr 2023-06-10 05:36:36,443 | server.py:232 | fit_round 10 received 3 results and 0 failures\n",
            "DEBUG:flwr:fit_round 10 received 3 results and 0 failures\n"
          ]
        },
        {
          "output_type": "stream",
          "name": "stdout",
          "text": [
            "Server-side evaluation loss 0.0720823251247406 / accuracy 0.1\n"
          ]
        },
        {
          "output_type": "stream",
          "name": "stderr",
          "text": [
            "INFO flwr 2023-06-10 05:36:51,913 | server.py:119 | fit progress: (10, 0.07208232522010803, {'accuracy': 0.1}, 960.3703129269998)\n",
            "INFO:flwr:fit progress: (10, 0.07208232522010803, {'accuracy': 0.1}, 960.3703129269998)\n",
            "DEBUG flwr 2023-06-10 05:36:51,918 | server.py:168 | evaluate_round 10: strategy sampled 3 clients (out of 10)\n",
            "DEBUG:flwr:evaluate_round 10: strategy sampled 3 clients (out of 10)\n"
          ]
        },
        {
          "output_type": "stream",
          "name": "stdout",
          "text": [
            "Server-side evaluation loss 0.07208232522010803 / accuracy 0.1\n"
          ]
        },
        {
          "output_type": "stream",
          "name": "stderr",
          "text": [
            "\u001b[2m\u001b[36m(pid=39063)\u001b[0m 2023-06-10 05:37:00.252626: W tensorflow/compiler/tf2tensorrt/utils/py_utils.cc:38] TF-TRT Warning: Could not find TensorRT\n"
          ]
        },
        {
          "output_type": "stream",
          "name": "stdout",
          "text": [
            "\u001b[2m\u001b[36m(launch_and_evaluate pid=39063)\u001b[0m [Client 6] evaluate, config: {}\n"
          ]
        },
        {
          "output_type": "stream",
          "name": "stderr",
          "text": [
            "\u001b[2m\u001b[36m(pid=39135)\u001b[0m 2023-06-10 05:37:06.711996: W tensorflow/compiler/tf2tensorrt/utils/py_utils.cc:38] TF-TRT Warning: Could not find TensorRT\n"
          ]
        },
        {
          "output_type": "stream",
          "name": "stdout",
          "text": [
            "\u001b[2m\u001b[36m(launch_and_evaluate pid=39135)\u001b[0m [Client 0] evaluate, config: {}\n"
          ]
        },
        {
          "output_type": "stream",
          "name": "stderr",
          "text": [
            "\u001b[2m\u001b[36m(pid=39198)\u001b[0m 2023-06-10 05:37:14.859724: W tensorflow/compiler/tf2tensorrt/utils/py_utils.cc:38] TF-TRT Warning: Could not find TensorRT\n"
          ]
        },
        {
          "output_type": "stream",
          "name": "stdout",
          "text": [
            "\u001b[2m\u001b[36m(launch_and_evaluate pid=39198)\u001b[0m [Client 9] evaluate, config: {}\n"
          ]
        },
        {
          "output_type": "stream",
          "name": "stderr",
          "text": [
            "DEBUG flwr 2023-06-10 05:37:19,684 | server.py:182 | evaluate_round 10 received 3 results and 0 failures\n",
            "DEBUG:flwr:evaluate_round 10 received 3 results and 0 failures\n",
            "INFO flwr 2023-06-10 05:37:19,689 | server.py:147 | FL finished in 988.1454762120002\n",
            "INFO:flwr:FL finished in 988.1454762120002\n",
            "INFO flwr 2023-06-10 05:37:19,700 | app.py:218 | app_fit: losses_distributed [(1, 0.07369879515965778), (2, 0.07367929124832152), (3, 0.07369392855962119), (4, 0.07368517239888508), (5, 0.07367878675460816), (6, 0.07369879611333212), (7, 0.07367650779088337), (8, 0.07366254790623983), (9, 0.07369060309727987), (10, 0.0736981004079183)]\n",
            "INFO:flwr:app_fit: losses_distributed [(1, 0.07369879515965778), (2, 0.07367929124832152), (3, 0.07369392855962119), (4, 0.07368517239888508), (5, 0.07367878675460816), (6, 0.07369879611333212), (7, 0.07367650779088337), (8, 0.07366254790623983), (9, 0.07369060309727987), (10, 0.0736981004079183)]\n",
            "INFO flwr 2023-06-10 05:37:19,707 | app.py:219 | app_fit: metrics_distributed_fit {}\n",
            "INFO:flwr:app_fit: metrics_distributed_fit {}\n",
            "INFO flwr 2023-06-10 05:37:19,714 | app.py:220 | app_fit: metrics_distributed {'accuracy': [(1, 0.09866666666666668), (2, 0.09466666666666668), (3, 0.11333333333333334), (4, 0.10266666666666667), (5, 0.114), (6, 0.09866666666666667), (7, 0.09733333333333334), (8, 0.09733333333333334), (9, 0.10066666666666668), (10, 0.10666666666666667)]}\n",
            "INFO:flwr:app_fit: metrics_distributed {'accuracy': [(1, 0.09866666666666668), (2, 0.09466666666666668), (3, 0.11333333333333334), (4, 0.10266666666666667), (5, 0.114), (6, 0.09866666666666667), (7, 0.09733333333333334), (8, 0.09733333333333334), (9, 0.10066666666666668), (10, 0.10666666666666667)]}\n",
            "INFO flwr 2023-06-10 05:37:19,718 | app.py:221 | app_fit: losses_centralized [(0, 0.07208232378959656), (1, 0.07208232369422912), (2, 0.07208232350349426), (3, 0.07208232355117798), (4, 0.07208232336044311), (5, 0.07208232378959656), (6, 0.0720823239326477), (7, 0.0720823246717453), (8, 0.07208232464790344), (9, 0.0720823251247406), (10, 0.07208232522010803)]\n",
            "INFO:flwr:app_fit: losses_centralized [(0, 0.07208232378959656), (1, 0.07208232369422912), (2, 0.07208232350349426), (3, 0.07208232355117798), (4, 0.07208232336044311), (5, 0.07208232378959656), (6, 0.0720823239326477), (7, 0.0720823246717453), (8, 0.07208232464790344), (9, 0.0720823251247406), (10, 0.07208232522010803)]\n",
            "INFO flwr 2023-06-10 05:37:19,722 | app.py:222 | app_fit: metrics_centralized {'accuracy': [(0, 0.1), (1, 0.1), (2, 0.1), (3, 0.1), (4, 0.1), (5, 0.1), (6, 0.1), (7, 0.1), (8, 0.1), (9, 0.1), (10, 0.1)]}\n",
            "INFO:flwr:app_fit: metrics_centralized {'accuracy': [(0, 0.1), (1, 0.1), (2, 0.1), (3, 0.1), (4, 0.1), (5, 0.1), (6, 0.1), (7, 0.1), (8, 0.1), (9, 0.1), (10, 0.1)]}\n"
          ]
        }
      ]
    }
  ],
  "metadata": {
    "kernelspec": {
      "name": "python3",
      "language": "python",
      "display_name": "Python 3 (ipykernel)"
    },
    "language_info": {
      "codemirror_mode": {
        "name": "ipython",
        "version": 2
      },
      "file_extension": ".py",
      "mimetype": "text/x-python",
      "name": "python",
      "nbconvert_exporter": "python",
      "pygments_lexer": "ipython2",
      "version": "2.7.6"
    },
    "colab": {
      "provenance": [],
      "gpuType": "T4"
    },
    "accelerator": "GPU"
  },
  "nbformat": 4,
  "nbformat_minor": 0
}